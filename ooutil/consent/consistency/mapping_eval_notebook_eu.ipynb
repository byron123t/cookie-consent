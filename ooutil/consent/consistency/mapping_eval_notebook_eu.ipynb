{
 "cells": [
  {
   "cell_type": "code",
   "execution_count": 3,
   "metadata": {},
   "outputs": [
    {
     "data": {
      "text/plain": [
       "[PosixPath('/mnt/sda/ducbui/Dropbox/Dropbox (University of Michigan)/projects/data_sync/consent/2022-05-30/pref_menu_scan_0k_20k'),\n",
       " PosixPath('/mnt/sda/ducbui/Dropbox/Dropbox (University of Michigan)/projects/data_sync/consent/2022-05-30/pref_menu_scan_20k_40k'),\n",
       " PosixPath('/mnt/sda/ducbui/Dropbox/Dropbox (University of Michigan)/projects/data_sync/consent/2022-05-30/pref_menu_scan_40k_60k'),\n",
       " PosixPath('/mnt/sda/ducbui/Dropbox/Dropbox (University of Michigan)/projects/data_sync/consent/2022-05-30/pref_menu_scan_60k_80k'),\n",
       " PosixPath('/mnt/sda/ducbui/Dropbox/Dropbox (University of Michigan)/projects/data_sync/consent/2022-05-30/pref_menu_scan_80k_100k'),\n",
       " PosixPath('/mnt/sda/ducbui/Dropbox/Dropbox (University of Michigan)/projects/data_sync/consent/2022-05-30/pref_menu_scan_100k_200k')]"
      ]
     },
     "execution_count": 3,
     "metadata": {},
     "output_type": "execute_result"
    }
   ],
   "source": [
    "from multiprocessing import Pool\n",
    "from pathlib import Path\n",
    "\n",
    "from tqdm import tqdm\n",
    "import pandas as pd\n",
    "from p_tqdm import p_umap\n",
    "\n",
    "from consent.consistency.cookie_pref_match import cookie_pref_match\n",
    "from consent.consistency.util import FIG_DIR, get_scan_dirs, get_scan_root_dir\n",
    "from consent.data.pref_menu_scan.cookie_pref_reader import read_cookie_prefs_in_scans\n",
    "from consent.data.pref_menu_scan.postrej_cookie_reader import read_postrej_sent_cookies_in_scans\n",
    "from ooutil.type_util import hashabledict\n",
    "\n",
    "fig_dir = Path.home() / 'local_projects/consent/paper/sp22/figures'\n",
    "assert fig_dir.exists() and fig_dir.is_dir()\n",
    "overwrite = False\n",
    "SCAN_DIRS = get_scan_dirs('eu')\n",
    "SCAN_ROOT_DIR = get_scan_root_dir('eu')\n",
    "output_suffix = '_' + '0k_200k' #'60k_80k' # '40k_60k' # # '100k_200k'; done: '20k_40k' '0k_20k' \n",
    "SCAN_DIRS "
   ]
  },
  {
   "cell_type": "code",
   "execution_count": 4,
   "metadata": {},
   "outputs": [
    {
     "data": {
      "text/html": [
       "<div>\n",
       "<style scoped>\n",
       "    .dataframe tbody tr th:only-of-type {\n",
       "        vertical-align: middle;\n",
       "    }\n",
       "\n",
       "    .dataframe tbody tr th {\n",
       "        vertical-align: top;\n",
       "    }\n",
       "\n",
       "    .dataframe thead th {\n",
       "        text-align: right;\n",
       "    }\n",
       "</style>\n",
       "<table border=\"1\" class=\"dataframe\">\n",
       "  <thead>\n",
       "    <tr style=\"text-align: right;\">\n",
       "      <th></th>\n",
       "      <th>name</th>\n",
       "      <th>domain</th>\n",
       "      <th>duration</th>\n",
       "      <th>category_id</th>\n",
       "      <th>category</th>\n",
       "      <th>consent_mode</th>\n",
       "      <th>site</th>\n",
       "      <th>lib_name</th>\n",
       "      <th>pattern_name</th>\n",
       "      <th>consent</th>\n",
       "    </tr>\n",
       "  </thead>\n",
       "  <tbody>\n",
       "    <tr>\n",
       "      <th>0</th>\n",
       "      <td>__we_bucket_id</td>\n",
       "      <td>www.wework.com</td>\n",
       "      <td>365 days</td>\n",
       "      <td>C0001</td>\n",
       "      <td>Strictly Necessary Cookies</td>\n",
       "      <td>always active</td>\n",
       "      <td>wework.com</td>\n",
       "      <td>onetrust</td>\n",
       "      <td>en.json</td>\n",
       "      <td>True</td>\n",
       "    </tr>\n",
       "    <tr>\n",
       "      <th>1</th>\n",
       "      <td>OptanonAlertBoxClosed</td>\n",
       "      <td>wework.com</td>\n",
       "      <td>365 days</td>\n",
       "      <td>C0001</td>\n",
       "      <td>Strictly Necessary Cookies</td>\n",
       "      <td>always active</td>\n",
       "      <td>wework.com</td>\n",
       "      <td>onetrust</td>\n",
       "      <td>en.json</td>\n",
       "      <td>True</td>\n",
       "    </tr>\n",
       "    <tr>\n",
       "      <th>2</th>\n",
       "      <td>OptanonConsent</td>\n",
       "      <td>www.wework.com</td>\n",
       "      <td>365 days</td>\n",
       "      <td>C0001</td>\n",
       "      <td>Strictly Necessary Cookies</td>\n",
       "      <td>always active</td>\n",
       "      <td>wework.com</td>\n",
       "      <td>onetrust</td>\n",
       "      <td>en.json</td>\n",
       "      <td>True</td>\n",
       "    </tr>\n",
       "    <tr>\n",
       "      <th>3</th>\n",
       "      <td>__we_request_id</td>\n",
       "      <td>www.wework.com</td>\n",
       "      <td>Session</td>\n",
       "      <td>C0001</td>\n",
       "      <td>Strictly Necessary Cookies</td>\n",
       "      <td>always active</td>\n",
       "      <td>wework.com</td>\n",
       "      <td>onetrust</td>\n",
       "      <td>en.json</td>\n",
       "      <td>True</td>\n",
       "    </tr>\n",
       "    <tr>\n",
       "      <th>4</th>\n",
       "      <td>we_referring_domain</td>\n",
       "      <td>www.wework.com</td>\n",
       "      <td>14 days</td>\n",
       "      <td>C0001</td>\n",
       "      <td>Strictly Necessary Cookies</td>\n",
       "      <td>always active</td>\n",
       "      <td>wework.com</td>\n",
       "      <td>onetrust</td>\n",
       "      <td>en.json</td>\n",
       "      <td>True</td>\n",
       "    </tr>\n",
       "  </tbody>\n",
       "</table>\n",
       "</div>"
      ],
      "text/plain": [
       "                    name          domain  duration category_id  \\\n",
       "0         __we_bucket_id  www.wework.com  365 days       C0001   \n",
       "1  OptanonAlertBoxClosed      wework.com  365 days       C0001   \n",
       "2         OptanonConsent  www.wework.com  365 days       C0001   \n",
       "3        __we_request_id  www.wework.com   Session       C0001   \n",
       "4    we_referring_domain  www.wework.com   14 days       C0001   \n",
       "\n",
       "                     category   consent_mode        site  lib_name  \\\n",
       "0  Strictly Necessary Cookies  always active  wework.com  onetrust   \n",
       "1  Strictly Necessary Cookies  always active  wework.com  onetrust   \n",
       "2  Strictly Necessary Cookies  always active  wework.com  onetrust   \n",
       "3  Strictly Necessary Cookies  always active  wework.com  onetrust   \n",
       "4  Strictly Necessary Cookies  always active  wework.com  onetrust   \n",
       "\n",
       "  pattern_name  consent  \n",
       "0      en.json     True  \n",
       "1      en.json     True  \n",
       "2      en.json     True  \n",
       "3      en.json     True  \n",
       "4      en.json     True  "
      ]
     },
     "execution_count": 4,
     "metadata": {},
     "output_type": "execute_result"
    }
   ],
   "source": [
    "# Read in cookie declaration\n",
    "# Number cookie declarations per websites\n",
    "# raw_cookie_prefs = read_cookie_prefs_in_scans(SCAN_DIRS)\n",
    "# raw_cookie_prefs.head()\n",
    "\n",
    "# Get cookie prefs = cookie decls + prefs\n",
    "cookie_prefs_file = SCAN_ROOT_DIR / f'cookie_prefs{output_suffix}.parquet'\n",
    "\n",
    "if not cookie_prefs_file.exists() or overwrite:\n",
    "    save_cookie_decls_file = SCAN_ROOT_DIR / f'cookie_decls{output_suffix}.parquet'\n",
    "    raw_cookie_prefs = read_cookie_prefs_in_scans(SCAN_DIRS, save_cookie_decls_file)  # took 2.3min for top 50k-site scan\n",
    "    raw_cookie_prefs.to_parquet(cookie_prefs_file); print(f'Written to {cookie_prefs_file}')\n",
    "else:\n",
    "    raw_cookie_prefs = pd.read_parquet(cookie_prefs_file)\n",
    "raw_cookie_prefs.head() \n",
    "# TODO: add log_file_checker"
   ]
  },
  {
   "cell_type": "code",
   "execution_count": 5,
   "metadata": {},
   "outputs": [
    {
     "name": "stdout",
     "output_type": "stream",
     "text": [
      "Number sent cookies read: 13,458,638\n"
     ]
    },
    {
     "data": {
      "text/html": [
       "<div>\n",
       "<style scoped>\n",
       "    .dataframe tbody tr th:only-of-type {\n",
       "        vertical-align: middle;\n",
       "    }\n",
       "\n",
       "    .dataframe tbody tr th {\n",
       "        vertical-align: top;\n",
       "    }\n",
       "\n",
       "    .dataframe thead th {\n",
       "        text-align: right;\n",
       "    }\n",
       "</style>\n",
       "<table border=\"1\" class=\"dataframe\">\n",
       "  <thead>\n",
       "    <tr style=\"text-align: right;\">\n",
       "      <th></th>\n",
       "      <th>name</th>\n",
       "      <th>value</th>\n",
       "      <th>domain</th>\n",
       "      <th>path</th>\n",
       "      <th>expires</th>\n",
       "      <th>size</th>\n",
       "      <th>httpOnly</th>\n",
       "      <th>secure</th>\n",
       "      <th>session</th>\n",
       "      <th>sameSite</th>\n",
       "      <th>priority</th>\n",
       "      <th>sameParty</th>\n",
       "      <th>sourceScheme</th>\n",
       "      <th>sourcePort</th>\n",
       "      <th>request_url</th>\n",
       "      <th>site</th>\n",
       "      <th>page_url</th>\n",
       "    </tr>\n",
       "  </thead>\n",
       "  <tbody>\n",
       "    <tr>\n",
       "      <th>0</th>\n",
       "      <td>OptanonAlertBoxClosed</td>\n",
       "      <td>2022-05-30T09:00:51.774Z</td>\n",
       "      <td>.www.wework.com</td>\n",
       "      <td>/</td>\n",
       "      <td>1.685437e+09</td>\n",
       "      <td>45</td>\n",
       "      <td>False</td>\n",
       "      <td>False</td>\n",
       "      <td>False</td>\n",
       "      <td>Lax</td>\n",
       "      <td>Medium</td>\n",
       "      <td>False</td>\n",
       "      <td>Secure</td>\n",
       "      <td>443</td>\n",
       "      <td>https://www.wework.com/vanilla-assets/images/w...</td>\n",
       "      <td>wework.com</td>\n",
       "      <td>https://www.wework.com/l/commercial-real-estat...</td>\n",
       "    </tr>\n",
       "    <tr>\n",
       "      <th>1</th>\n",
       "      <td>ajs_user_id</td>\n",
       "      <td>%22a9fd262e2c727602f1b7107f2e97d8ea5fb32c1c434...</td>\n",
       "      <td>.wework.com</td>\n",
       "      <td>/</td>\n",
       "      <td>1.685437e+09</td>\n",
       "      <td>81</td>\n",
       "      <td>False</td>\n",
       "      <td>False</td>\n",
       "      <td>False</td>\n",
       "      <td>Lax</td>\n",
       "      <td>Medium</td>\n",
       "      <td>False</td>\n",
       "      <td>Secure</td>\n",
       "      <td>443</td>\n",
       "      <td>https://www.wework.com/l/commercial-real-estat...</td>\n",
       "      <td>wework.com</td>\n",
       "      <td>https://www.wework.com/l/commercial-real-estat...</td>\n",
       "    </tr>\n",
       "    <tr>\n",
       "      <th>2</th>\n",
       "      <td>we_referring_domain</td>\n",
       "      <td></td>\n",
       "      <td>www.wework.com</td>\n",
       "      <td>/</td>\n",
       "      <td>1.655111e+09</td>\n",
       "      <td>19</td>\n",
       "      <td>False</td>\n",
       "      <td>False</td>\n",
       "      <td>False</td>\n",
       "      <td>None</td>\n",
       "      <td>Medium</td>\n",
       "      <td>False</td>\n",
       "      <td>Secure</td>\n",
       "      <td>443</td>\n",
       "      <td>https://www.wework.com/vanilla-assets/javascri...</td>\n",
       "      <td>wework.com</td>\n",
       "      <td>https://www.wework.com/l/commercial-real-estat...</td>\n",
       "    </tr>\n",
       "  </tbody>\n",
       "</table>\n",
       "</div>"
      ],
      "text/plain": [
       "                    name                                              value  \\\n",
       "0  OptanonAlertBoxClosed                           2022-05-30T09:00:51.774Z   \n",
       "1            ajs_user_id  %22a9fd262e2c727602f1b7107f2e97d8ea5fb32c1c434...   \n",
       "2    we_referring_domain                                                      \n",
       "\n",
       "            domain path       expires  size  httpOnly  secure  session  \\\n",
       "0  .www.wework.com    /  1.685437e+09    45     False   False    False   \n",
       "1      .wework.com    /  1.685437e+09    81     False   False    False   \n",
       "2   www.wework.com    /  1.655111e+09    19     False   False    False   \n",
       "\n",
       "  sameSite priority  sameParty sourceScheme  sourcePort  \\\n",
       "0      Lax   Medium      False       Secure         443   \n",
       "1      Lax   Medium      False       Secure         443   \n",
       "2     None   Medium      False       Secure         443   \n",
       "\n",
       "                                         request_url        site  \\\n",
       "0  https://www.wework.com/vanilla-assets/images/w...  wework.com   \n",
       "1  https://www.wework.com/l/commercial-real-estat...  wework.com   \n",
       "2  https://www.wework.com/vanilla-assets/javascri...  wework.com   \n",
       "\n",
       "                                            page_url  \n",
       "0  https://www.wework.com/l/commercial-real-estat...  \n",
       "1  https://www.wework.com/l/commercial-real-estat...  \n",
       "2  https://www.wework.com/l/commercial-real-estat...  "
      ]
     },
     "execution_count": 5,
     "metadata": {},
     "output_type": "execute_result"
    }
   ],
   "source": [
    "# Read in cookie transfer \n",
    "# import sys; import importlib; importlib.reload(sys.modules['consent.data.pref_menu_scan.postrej_cookie_reader'])\n",
    "from consent.data.pref_menu_scan.har_cookie_reader import read_postrej_sent_cookies_in_scans\n",
    "\n",
    "cookies_cache_file = SCAN_ROOT_DIR / f'scan{output_suffix}.parquet'  # 'raw_postrej_sent_cookies.parquet'\n",
    "\n",
    "if not cookies_cache_file.exists() or overwrite:\n",
    "    sent_cookies = read_postrej_sent_cookies_in_scans(SCAN_DIRS)\n",
    "    if cookies_cache_file: sent_cookies.to_parquet(cookies_cache_file); print(f\"Written to {cookies_cache_file}\")\n",
    "else:\n",
    "    sent_cookies = pd.read_parquet(cookies_cache_file)\n",
    "\n",
    "print(f\"Number sent cookies read: {len(sent_cookies):,d}\")\n",
    "sent_cookies.head(3)"
   ]
  },
  {
   "cell_type": "code",
   "execution_count": 9,
   "metadata": {},
   "outputs": [
    {
     "name": "stdout",
     "output_type": "stream",
     "text": [
      "There are 826,525 unique_cookie_prefs (826,525 preferences with duplicates)\n",
      "29 sites in sent cookies but do not have preferences.\n"
     ]
    }
   ],
   "source": [
    "# check duplicates in cookie preferences\n",
    "cookie_prefs = raw_cookie_prefs.copy() # .drop_duplicates()\n",
    "print(f'There are {len(cookie_prefs):,d} unique_cookie_prefs ({len(raw_cookie_prefs):,d} preferences with duplicates)')\n",
    "print(f\"{len(set(sent_cookies.site) - set(cookie_prefs.site))} sites in sent cookies but do not have preferences.\")"
   ]
  },
  {
   "cell_type": "code",
   "execution_count": 10,
   "metadata": {},
   "outputs": [
    {
     "name": "stdout",
     "output_type": "stream",
     "text": [
      "Num sample sites: 6,095 100.00% of all 6095 sites.\n"
     ]
    }
   ],
   "source": [
    "# Sample a subset, from this point, use s_cookie_prefs\n",
    "n_samples = len(cookie_prefs) # 100\n",
    "sample_sites = cookie_prefs.sample(n_samples, random_state=1024).site.unique()\n",
    "n_sites = cookie_prefs.site.nunique()\n",
    "print(f\"Num sample sites: {len(sample_sites):,d} {len(sample_sites) / n_sites*100:.2f}% of all {n_sites} sites.\")\n",
    "\n",
    "s_cookie_prefs = cookie_prefs[cookie_prefs.site.isin(sample_sites)].drop_duplicates()"
   ]
  },
  {
   "cell_type": "code",
   "execution_count": 11,
   "metadata": {},
   "outputs": [],
   "source": [
    "# Map and detect ambiguity; note: prj = post-rejection, from this point, use prj_sent_cookies and prj_br_cookies\n",
    "s_sent_cookies = sent_cookies[sent_cookies.site.isin(sample_sites)]\n",
    "prj_sent_cookies = s_sent_cookies[['domain', 'expires', 'name', 'path', 'sameSite', 'secure', 'value', 'request_url', 'site']].drop_duplicates()\n",
    "prj_br_cookies = prj_sent_cookies[['domain', 'expires', 'name', 'path', 'sameSite', 'secure', 'site']].drop_duplicates()"
   ]
  },
  {
   "cell_type": "code",
   "execution_count": 12,
   "metadata": {},
   "outputs": [
    {
     "name": "stdout",
     "output_type": "stream",
     "text": [
      "Num captured sent cookies: 13,394,436\n",
      "Num unique captured cookies: 7,727,859\n",
      "Num unique browser cookies: 274,731 on 6,057 websites and 32,237 pages\n"
     ]
    }
   ],
   "source": [
    "print(f\"Num captured sent cookies: {len(s_sent_cookies):,d}\")\n",
    "print(f\"Num unique captured cookies: {len(prj_sent_cookies):,d}\")\n",
    "n_br_cookies = len(prj_br_cookies)\n",
    "print(f\"Num unique browser cookies: {n_br_cookies:,d} on {prj_br_cookies.site.nunique():,d} websites and {s_sent_cookies.page_url.nunique():,d} pages\")"
   ]
  },
  {
   "cell_type": "markdown",
   "metadata": {},
   "source": [
    "# Find number of cookie preferences that match a browser cookie."
   ]
  },
  {
   "cell_type": "code",
   "execution_count": 13,
   "metadata": {},
   "outputs": [
    {
     "name": "stdout",
     "output_type": "stream",
     "text": [
      "Num browser cookies: 274,731, Num preferences: 740,231\n"
     ]
    }
   ],
   "source": [
    "# Select the strategy with the lowest ambiguity score.\n",
    "\n",
    "import sys; import importlib; importlib.reload(sys.modules['consent.consistency.cookie_pref_match'])\n",
    "from consent.consistency.cookie_pref_match import cookie_pref_match\n",
    "\n",
    "prefs = s_cookie_prefs[['name', 'domain', 'category_id', 'category', 'consent_mode', 'site']].drop_duplicates()\n",
    "print(f\"Num browser cookies: {len(prj_br_cookies):,d}, Num preferences: {len(prefs):,d}\")"
   ]
  },
  {
   "cell_type": "code",
   "execution_count": 14,
   "metadata": {},
   "outputs": [
    {
     "name": "stdout",
     "output_type": "stream",
     "text": [
      "274731\n",
      "126666\n",
      "125107\n",
      "124618\n"
     ]
    }
   ],
   "source": [
    "# How number of cookies changes when reducing the properties\n",
    "print(len(prj_sent_cookies[['name', 'domain', 'path', 'sameSite', 'secure', 'site', 'expires']].drop_duplicates()))\n",
    "print(len(prj_sent_cookies[['name', 'domain', 'path', 'sameSite', 'secure', 'site']].drop_duplicates()))\n",
    "print(len(prj_sent_cookies[['name', 'domain', 'path', 'site']].drop_duplicates()))\n",
    "print(len(prj_sent_cookies[['name', 'domain', 'site']].drop_duplicates()))"
   ]
  },
  {
   "cell_type": "code",
   "execution_count": 15,
   "metadata": {},
   "outputs": [
    {
     "name": "stdout",
     "output_type": "stream",
     "text": [
      "After reduction and dropping duplicates, num browser cookies: 125,107, Num preferences: 737,273\n"
     ]
    }
   ],
   "source": [
    "prefs = prefs[['name', 'domain', 'site']].drop_duplicates()\n",
    "prj_br_cookies = prj_br_cookies[['name', 'domain', 'path', 'site']].drop_duplicates()\n",
    "print(f\"After reduction and dropping duplicates, num browser cookies: {len(prj_br_cookies):,d}, Num preferences: {len(prefs):,d}\")"
   ]
  },
  {
   "cell_type": "code",
   "execution_count": 16,
   "metadata": {},
   "outputs": [
    {
     "name": "stdout",
     "output_type": "stream",
     "text": [
      "Number of sites: 6,095\n"
     ]
    }
   ],
   "source": [
    "sites = prefs.site.unique()\n",
    "print(f\"Number of sites: {len(sites):,d}\")"
   ]
  },
  {
   "cell_type": "code",
   "execution_count": 17,
   "metadata": {},
   "outputs": [],
   "source": [
    "def get_cookie_pref_pairs(sites):\n",
    "    for site in sites:\n",
    "        site_prefs = prefs[prefs.site == site]\n",
    "        site_cookies = prj_br_cookies[prj_br_cookies.site == site]\n",
    "        yield (site_prefs.copy(), site_cookies.copy())\n",
    "\n",
    "pref_cookie_pairs = list(get_cookie_pref_pairs(sites)) # about 20 secs"
   ]
  },
  {
   "cell_type": "markdown",
   "metadata": {},
   "source": [
    "# Get pref->cookies"
   ]
  },
  {
   "cell_type": "code",
   "execution_count": 28,
   "metadata": {},
   "outputs": [
    {
     "data": {
      "application/vnd.jupyter.widget-view+json": {
       "model_id": "0109e116b5864338bfc3d9fae9c615a9",
       "version_major": 2,
       "version_minor": 0
      },
      "text/plain": [
       "  0%|          | 0/6095 [00:00<?, ?it/s]"
      ]
     },
     "metadata": {},
     "output_type": "display_data"
    },
    {
     "name": "stdout",
     "output_type": "stream",
     "text": [
      "Error fuzzy name match pref_name='csrf[frontend.store-api.proxy]' cookie_name='csrf[frontend.store-api.proxy]' \n",
      "bad character range e-a at position 22bad character range e-a at position 22\n",
      "Error fuzzy name match pref_name='csrf[frontend.store-api.proxy]' cookie_name='csrf[frontend.store-api.proxy]' "
     ]
    }
   ],
   "source": [
    "\n",
    "def get_n_cookie_matches(pref, cookies):\n",
    "    n_matches = 0\n",
    "    for cookie in cookies[(cookies.site == pref['site']) & (cookies.name == pref['name'])][['domain', 'name']].drop_duplicates().to_dict('records'):\n",
    "        if cookie_pref_match(cookie, pref, pref['site']):\n",
    "        # if cookie['domain'] == pref['domain']:\n",
    "        # if cookie['domain'] == '.' + pref['domain']:\n",
    "            n_matches += 1\n",
    "    return n_matches\n",
    "\n",
    "def get_site_cookie_matches(site_prefs, site_cookies):\n",
    "    site_prefs['n_cookie_matches'] = site_prefs.apply(lambda row: get_n_cookie_matches(row, site_cookies), axis=1)\n",
    "    return site_prefs\n",
    "\n",
    "def run_get_n_cookie_matches(pref_cookie_pairs):\n",
    "    results = p_umap(get_site_cookie_matches, *zip(*pref_cookie_pairs), num_cpus=32)  # 8-16: cannot interrupt. 48 takes 122s, 32-48 because no IO-blocking\n",
    "    return pd.concat(results)\n",
    "\n",
    "\n",
    "match_prefs = run_get_n_cookie_matches(pref_cookie_pairs)  # 21min with 1 core, 1 min with 8 cores"
   ]
  },
  {
   "cell_type": "code",
   "execution_count": 29,
   "metadata": {},
   "outputs": [
    {
     "name": "stdout",
     "output_type": "stream",
     "text": [
      "Distribution of preference -> n cookie matches:\n",
      "\\begin{tabular}{lr}\n",
      "\\toprule\n",
      "{} &  n\\_cookie\\_matches \\\\\n",
      "\\midrule\n",
      "0 &            664826 \\\\\n",
      "1 &             71305 \\\\\n",
      "2 &              1129 \\\\\n",
      "3 &                12 \\\\\n",
      "4 &                 1 \\\\\n",
      "\\bottomrule\n",
      "\\end{tabular}\n",
      "\n"
     ]
    },
    {
     "name": "stderr",
     "output_type": "stream",
     "text": [
      "/tmp/ipykernel_20838/1528097255.py:3: FutureWarning: In future versions `DataFrame.to_latex` is expected to utilise the base implementation of `Styler.to_latex` for formatting and rendering. The arguments signature may therefore change. It is recommended instead to use `DataFrame.style.to_latex` which also contains additional functionality.\n",
      "  print(vc.to_latex())\n"
     ]
    }
   ],
   "source": [
    "print(\"Distribution of preference -> n cookie matches:\")\n",
    "vc = match_prefs.n_cookie_matches.value_counts()\n",
    "print(vc.to_latex())"
   ]
  },
  {
   "cell_type": "code",
   "execution_count": 30,
   "metadata": {},
   "outputs": [
    {
     "name": "stdout",
     "output_type": "stream",
     "text": [
      "Number of ambiguous mapping (1 pref -> many cookies): n_multi=1,142 n_uniq=71,305 n_nempt=72,447: 1.58%\n",
      "Total cookies with mapping: 72,447\n"
     ]
    }
   ],
   "source": [
    "n_nempt = vc[vc.index > 0].sum()\n",
    "n_multi = vc[vc.index > 1].sum()\n",
    "n_uniq = vc[1]\n",
    "print(f\"Number of ambiguous mapping (1 pref -> many cookies): {n_multi=:,d} {n_uniq=:,d} {n_nempt=:,d}: {n_multi/n_nempt*100:.2f}%\")\n",
    "print(f\"Total cookies with mapping: {n_nempt:,d}\")"
   ]
  },
  {
   "cell_type": "markdown",
   "metadata": {},
   "source": [
    "# Get cookie->pref"
   ]
  },
  {
   "cell_type": "code",
   "execution_count": 31,
   "metadata": {},
   "outputs": [
    {
     "data": {
      "application/vnd.jupyter.widget-view+json": {
       "model_id": "36622d315d684f83a6755f5c0d098aa2",
       "version_major": 2,
       "version_minor": 0
      },
      "text/plain": [
       "  0%|          | 0/6095 [00:00<?, ?it/s]"
      ]
     },
     "metadata": {},
     "output_type": "display_data"
    },
    {
     "name": "stdout",
     "output_type": "stream",
     "text": [
      "Error fuzzy name match pref_name='csrf[frontend.store-api.proxy]' cookie_name='csrf[frontend.store-api.proxy]' bad character range e-a at position 22\n",
      "Error fuzzy name match pref_name='csrf[frontend.store-api.proxy]' cookie_name='csrf[frontend.store-api.proxy]' bad character range e-a at position 22\n"
     ]
    }
   ],
   "source": [
    "# Dask single machine 57 sec, 35 min single core, 6min min on 32 cores, progress bar not show progressively\n",
    "\n",
    "# from dask.distributed import Client\n",
    "# Client()\n",
    "# prj_br_cookies_ddf = dd.from_pandas(prj_br_cookies, npartitions=32)\n",
    "# x = prj_br_cookies_ddf.apply(lambda row: get_n_pref_matches(row, prefs), axis=1, meta=('n_matches', 'int64'))\n",
    "# prj_br_cookies['n_pref_matches'] = x.compute() # convert to final result, instantly\n",
    "\n",
    "def get_n_pref_matches(cookie, cookie_prefs):\n",
    "    n_matches = 0\n",
    "    for pref in cookie_prefs[(cookie_prefs.site == cookie['site']) & (cookie_prefs.name == cookie['name'])][['domain', 'name']].drop_duplicates().to_dict('records'):\n",
    "        if cookie_pref_match(cookie, pref, cookie['site']):\n",
    "        # if cookie['domain'] == pref['domain']:\n",
    "        # if cookie['domain'] == '.' + pref['domain']:\n",
    "            n_matches += 1\n",
    "    return n_matches\n",
    "\n",
    "def get_site_pref_matches(site_prefs, site_cookies):\n",
    "    if len(site_cookies) == 0:\n",
    "        return None\n",
    "\n",
    "    site_cookies['n_pref_matches'] = site_cookies.apply(lambda row: get_n_pref_matches(row, site_prefs), axis=1)\n",
    "    return site_cookies\n",
    "\n",
    "def run_get_n_pref_matches(pref_cookie_pairs):\n",
    "    # for site_prefs, site_cookies in pref_cookie_pairs: # get_site_pref_matches(site_prefs, site_cookies) # Debug\n",
    "    results = p_umap(get_site_pref_matches, *zip(*pref_cookie_pairs), num_cpus=16)\n",
    "    results = [r for r in results if r is not None]\n",
    "    return pd.concat(results)\n",
    "\n",
    "match_cookies = run_get_n_pref_matches(pref_cookie_pairs)"
   ]
  },
  {
   "cell_type": "code",
   "execution_count": 32,
   "metadata": {},
   "outputs": [
    {
     "name": "stdout",
     "output_type": "stream",
     "text": [
      "\\begin{tabular}{lr}\n",
      "\\toprule\n",
      "{} &  n\\_pref\\_matches \\\\\n",
      "\\midrule\n",
      "1 &           67981 \\\\\n",
      "0 &           54203 \\\\\n",
      "2 &            2900 \\\\\n",
      "4 &              16 \\\\\n",
      "3 &               7 \\\\\n",
      "\\bottomrule\n",
      "\\end{tabular}\n",
      "\n"
     ]
    },
    {
     "name": "stderr",
     "output_type": "stream",
     "text": [
      "/tmp/ipykernel_20838/864777999.py:2: FutureWarning: In future versions `DataFrame.to_latex` is expected to utilise the base implementation of `Styler.to_latex` for formatting and rendering. The arguments signature may therefore change. It is recommended instead to use `DataFrame.style.to_latex` which also contains additional functionality.\n",
      "  print(vc.to_latex())\n"
     ]
    }
   ],
   "source": [
    "vc = match_cookies.n_pref_matches.value_counts()\n",
    "print(vc.to_latex())"
   ]
  },
  {
   "cell_type": "code",
   "execution_count": 33,
   "metadata": {},
   "outputs": [
    {
     "name": "stdout",
     "output_type": "stream",
     "text": [
      "Number of ambiguous mapping (1 cookie -> multiple preferences): n_multi=2,923 n_uniq=67,981 n_nempt=70,904: 4.12%\n",
      "Total cookies with mapping: 70,904\n"
     ]
    }
   ],
   "source": [
    "n_nempt = vc[vc.index > 0].sum()\n",
    "n_multi = vc[vc.index > 1].sum()\n",
    "n_uniq = vc[1]\n",
    "print(f\"Number of ambiguous mapping (1 cookie -> multiple preferences): {n_multi=:,d} {n_uniq=:,d} {n_nempt=:,d}: {n_multi/n_nempt*100:.2f}%\")\n",
    "print(f\"Total cookies with mapping: {n_nempt:,d}\")"
   ]
  },
  {
   "cell_type": "code",
   "execution_count": 34,
   "metadata": {},
   "outputs": [
    {
     "ename": "RuntimeError",
     "evalue": "No active exception to reraise",
     "output_type": "error",
     "traceback": [
      "\u001b[0;31m---------------------------------------------------------------------------\u001b[0m",
      "\u001b[0;31mRuntimeError\u001b[0m                              Traceback (most recent call last)",
      "\u001b[1;32m/home/ducbui/Dropbox/projects/consent/consent_project/src/consent/consistency/mapping_eval_notebook_eu.ipynb Cell 22'\u001b[0m in \u001b[0;36m<cell line: 1>\u001b[0;34m()\u001b[0m\n\u001b[0;32m----> <a href='vscode-notebook-cell://ssh-remote%2Bkroos.eecs.umich.edu/home/ducbui/Dropbox/projects/consent/consent_project/src/consent/consistency/mapping_eval_notebook_eu.ipynb#ch0000049vscode-remote?line=0'>1</a>\u001b[0m \u001b[39mraise\u001b[39;00m\n",
      "\u001b[0;31mRuntimeError\u001b[0m: No active exception to reraise"
     ]
    }
   ],
   "source": [
    "raise"
   ]
  },
  {
   "cell_type": "markdown",
   "metadata": {},
   "source": [
    "# Case study of 1 cookie -> multiple preferences"
   ]
  },
  {
   "cell_type": "code",
   "execution_count": null,
   "metadata": {},
   "outputs": [
    {
     "data": {
      "text/html": [
       "<div>\n",
       "<style scoped>\n",
       "    .dataframe tbody tr th:only-of-type {\n",
       "        vertical-align: middle;\n",
       "    }\n",
       "\n",
       "    .dataframe tbody tr th {\n",
       "        vertical-align: top;\n",
       "    }\n",
       "\n",
       "    .dataframe thead th {\n",
       "        text-align: right;\n",
       "    }\n",
       "</style>\n",
       "<table border=\"1\" class=\"dataframe\">\n",
       "  <thead>\n",
       "    <tr style=\"text-align: right;\">\n",
       "      <th></th>\n",
       "      <th>name</th>\n",
       "      <th>domain</th>\n",
       "      <th>path</th>\n",
       "      <th>site</th>\n",
       "      <th>n_pref_matches</th>\n",
       "    </tr>\n",
       "  </thead>\n",
       "  <tbody>\n",
       "    <tr>\n",
       "      <th>1</th>\n",
       "      <td>RT</td>\n",
       "      <td>.exxonmobil.com</td>\n",
       "      <td>/</td>\n",
       "      <td>exxonmobil.com</td>\n",
       "      <td>2</td>\n",
       "    </tr>\n",
       "    <tr>\n",
       "      <th>214</th>\n",
       "      <td>lang</td>\n",
       "      <td>.ads.linkedin.com</td>\n",
       "      <td>/</td>\n",
       "      <td>exxonmobil.com</td>\n",
       "      <td>2</td>\n",
       "    </tr>\n",
       "    <tr>\n",
       "      <th>249</th>\n",
       "      <td>test_cookie</td>\n",
       "      <td>.doubleclick.net</td>\n",
       "      <td>/</td>\n",
       "      <td>namecheap.com</td>\n",
       "      <td>2</td>\n",
       "    </tr>\n",
       "    <tr>\n",
       "      <th>331</th>\n",
       "      <td>MUID</td>\n",
       "      <td>.bing.com</td>\n",
       "      <td>/</td>\n",
       "      <td>namecheap.com</td>\n",
       "      <td>2</td>\n",
       "    </tr>\n",
       "    <tr>\n",
       "      <th>411</th>\n",
       "      <td>lang</td>\n",
       "      <td>.ads.linkedin.com</td>\n",
       "      <td>/</td>\n",
       "      <td>namecheap.com</td>\n",
       "      <td>2</td>\n",
       "    </tr>\n",
       "  </tbody>\n",
       "</table>\n",
       "</div>"
      ],
      "text/plain": [
       "            name             domain path            site  n_pref_matches\n",
       "1             RT    .exxonmobil.com    /  exxonmobil.com               2\n",
       "214         lang  .ads.linkedin.com    /  exxonmobil.com               2\n",
       "249  test_cookie   .doubleclick.net    /   namecheap.com               2\n",
       "331         MUID          .bing.com    /   namecheap.com               2\n",
       "411         lang  .ads.linkedin.com    /   namecheap.com               2"
      ]
     },
     "execution_count": 25,
     "metadata": {},
     "output_type": "execute_result"
    }
   ],
   "source": [
    "match_cookies[match_cookies.n_pref_matches > 1].head(5)"
   ]
  },
  {
   "cell_type": "code",
   "execution_count": null,
   "metadata": {},
   "outputs": [
    {
     "name": "stderr",
     "output_type": "stream",
     "text": [
      "100%|██████████| 1149/1149 [00:52<00:00, 21.71it/s]"
     ]
    },
    {
     "name": "stdout",
     "output_type": "stream",
     "text": [
      "Number of cases that domains differ only by the prefix dot: 363\n",
      "Number of cases that domains are suffixes: 1,145\n"
     ]
    },
    {
     "name": "stderr",
     "output_type": "stream",
     "text": [
      "\n"
     ]
    }
   ],
   "source": [
    "n_dot_prefix_domains = 0\n",
    "n_same_suffix_domains = 0\n",
    "for mcookie in tqdm(match_cookies[match_cookies.n_pref_matches == 2].to_dict('records')):\n",
    "    mprefs = prefs[(prefs.name == mcookie['name']) & (prefs.site == mcookie['site'])]\n",
    "    mprefs = mprefs[mprefs.apply(lambda row: cookie_pref_match(mcookie, row, mcookie['site']), axis=1)]\n",
    "    pr_domains = [d.lower() for d in mprefs.domain.to_list()]\n",
    "    pr_domains = sorted(pr_domains, key=len)\n",
    "    if pr_domains[1] == '.' + pr_domains[0]:\n",
    "        n_dot_prefix_domains += 1\n",
    "    if pr_domains[1].endswith(pr_domains[0]):\n",
    "        n_same_suffix_domains += 1\n",
    "print(f\"Number of cases that domains differ only by the prefix dot: {n_dot_prefix_domains:,d}\") \n",
    "print(f\"Number of cases that domains are suffixes: {n_same_suffix_domains:,d}\") "
   ]
  },
  {
   "cell_type": "code",
   "execution_count": null,
   "metadata": {},
   "outputs": [
    {
     "data": {
      "text/html": [
       "<div>\n",
       "<style scoped>\n",
       "    .dataframe tbody tr th:only-of-type {\n",
       "        vertical-align: middle;\n",
       "    }\n",
       "\n",
       "    .dataframe tbody tr th {\n",
       "        vertical-align: top;\n",
       "    }\n",
       "\n",
       "    .dataframe thead th {\n",
       "        text-align: right;\n",
       "    }\n",
       "</style>\n",
       "<table border=\"1\" class=\"dataframe\">\n",
       "  <thead>\n",
       "    <tr style=\"text-align: right;\">\n",
       "      <th></th>\n",
       "      <th>name</th>\n",
       "      <th>domain</th>\n",
       "      <th>site</th>\n",
       "    </tr>\n",
       "  </thead>\n",
       "  <tbody>\n",
       "    <tr>\n",
       "      <th>7</th>\n",
       "      <td>lidc</td>\n",
       "      <td>.linkedin.com</td>\n",
       "      <td>namecheap.com</td>\n",
       "    </tr>\n",
       "    <tr>\n",
       "      <th>34</th>\n",
       "      <td>lidc</td>\n",
       "      <td>linkedin.com</td>\n",
       "      <td>namecheap.com</td>\n",
       "    </tr>\n",
       "  </tbody>\n",
       "</table>\n",
       "</div>"
      ],
      "text/plain": [
       "    name         domain           site\n",
       "7   lidc  .linkedin.com  namecheap.com\n",
       "34  lidc   linkedin.com  namecheap.com"
      ]
     },
     "execution_count": 27,
     "metadata": {},
     "output_type": "execute_result"
    }
   ],
   "source": [
    "# Case study\n",
    "mcookie  = match_cookies[match_cookies.n_pref_matches == 2].iloc[6]\n",
    "prefs[(prefs.name == mcookie['name']) & (prefs.site == mcookie['site'])]"
   ]
  },
  {
   "cell_type": "code",
   "execution_count": null,
   "metadata": {},
   "outputs": [],
   "source": [
    "# How many cookies that have same both domain and name?\n",
    "# print(\"Num cookies preferences:\", len(s_cookie_prefs))\n",
    "# s_cookies = s_cookie_prefs[['domain', 'name', 'category', 'site']].drop_duplicates()\n",
    "# print(\"Num unique cookie preferences:\", len(s_cookies))"
   ]
  },
  {
   "cell_type": "code",
   "execution_count": null,
   "metadata": {},
   "outputs": [],
   "source": [
    "# plain pandas, 27-29 secs for sample(100)\n",
    "# prj_br_cookies['n_matches'] = prj_br_cookies.apply(lambda row: get_n_matches(row, prefs), axis=1)"
   ]
  },
  {
   "cell_type": "code",
   "execution_count": null,
   "metadata": {},
   "outputs": [],
   "source": [
    "# s_cookie_prefs"
   ]
  },
  {
   "cell_type": "markdown",
   "metadata": {},
   "source": [
    "# Analyze duplicate cookies"
   ]
  },
  {
   "cell_type": "code",
   "execution_count": null,
   "metadata": {},
   "outputs": [],
   "source": [
    "# s_cookies.value_counts()[:5]"
   ]
  },
  {
   "cell_type": "code",
   "execution_count": null,
   "metadata": {},
   "outputs": [],
   "source": [
    "# Case studies\n",
    "# s_cookie_prefs[(s_cookie_prefs.domain == 'mc.yandex.ru') & (s_cookie_prefs.name == '_ym_uid')]\n",
    "# s_cookie_prefs[(s_cookie_prefs.domain == 'bat.bing.com') & (s_cookie_prefs.name == '_uetsid')]\n",
    "# s_cookie_prefs[(s_cookie_prefs.domain == 'start.stepchange.org') & (s_cookie_prefs.name == '_uetvid')]"
   ]
  },
  {
   "cell_type": "code",
   "execution_count": null,
   "metadata": {},
   "outputs": [],
   "source": [
    "def get_n_cookie_matches(cookies, pref):\n",
    "    matched_cookies = set()\n",
    "    for cookie in cookies.to_dict('records'):\n",
    "        if cookie_pref_match(cookie, pref, cookie['site']):\n",
    "            matched_cookies.add(hashabledict({'name': cookie['name'], 'domain': cookie['domain']}))\n",
    "        # if cookie['domain'] == pref['domain']:\n",
    "        # if cookie['domain'] == '.' + pref['domain']:\n",
    "    return len(matched_cookies)\n",
    "\n",
    "# s_cookie_prefs2 = s_cookie_prefs.copy()\n",
    "# s_cookie_prefs2['n_matches'] = s_cookie_prefs2.apply(lambda pref: get_n_cookie_matches(prj_sent_cookies, pref), axis=1)\n",
    "# s_cookie_prefs2.sort_values(by='n_matches', ascending=False)"
   ]
  },
  {
   "cell_type": "code",
   "execution_count": null,
   "metadata": {},
   "outputs": [],
   "source": [
    "# s_cookie_prefs2.n_matches.value_counts()"
   ]
  },
  {
   "cell_type": "code",
   "execution_count": null,
   "metadata": {},
   "outputs": [],
   "source": []
  },
  {
   "cell_type": "code",
   "execution_count": null,
   "metadata": {},
   "outputs": [],
   "source": [
    "# prj_sent_cookies.head()"
   ]
  },
  {
   "cell_type": "code",
   "execution_count": null,
   "metadata": {},
   "outputs": [],
   "source": [
    "# s_cookie_prefs"
   ]
  },
  {
   "cell_type": "code",
   "execution_count": null,
   "metadata": {},
   "outputs": [],
   "source": [
    "# s_cookie_prefs = s_cookie_prefs[s_cookie_prefs.name == 'TAUnique']\n",
    "# s_cookie_prefs "
   ]
  },
  {
   "cell_type": "code",
   "execution_count": null,
   "metadata": {},
   "outputs": [],
   "source": [
    "# print('Num websites:', all_complies.site.nunique())\n",
    "# all_complies.comply.unique()"
   ]
  },
  {
   "cell_type": "code",
   "execution_count": null,
   "metadata": {},
   "outputs": [],
   "source": [
    "# s_cookie_prefs"
   ]
  },
  {
   "cell_type": "code",
   "execution_count": null,
   "metadata": {},
   "outputs": [],
   "source": []
  },
  {
   "cell_type": "code",
   "execution_count": null,
   "metadata": {},
   "outputs": [],
   "source": []
  },
  {
   "cell_type": "code",
   "execution_count": null,
   "metadata": {},
   "outputs": [],
   "source": []
  },
  {
   "cell_type": "code",
   "execution_count": null,
   "metadata": {},
   "outputs": [],
   "source": []
  },
  {
   "cell_type": "code",
   "execution_count": null,
   "metadata": {},
   "outputs": [],
   "source": []
  },
  {
   "cell_type": "code",
   "execution_count": null,
   "metadata": {},
   "outputs": [],
   "source": []
  },
  {
   "cell_type": "code",
   "execution_count": null,
   "metadata": {},
   "outputs": [],
   "source": []
  },
  {
   "cell_type": "code",
   "execution_count": null,
   "metadata": {},
   "outputs": [],
   "source": []
  },
  {
   "cell_type": "code",
   "execution_count": null,
   "metadata": {},
   "outputs": [
    {
     "name": "stdout",
     "output_type": "stream",
     "text": [
      "faster: for cookie_pref in cookie_pref_set[cookie_pref_set.name == acookie['name']]:\n"
     ]
    },
    {
     "name": "stderr",
     "output_type": "stream",
     "text": [
      "  0%|          | 5/1946 [00:02<13:33,  2.39it/s]"
     ]
    },
    {
     "name": "stdout",
     "output_type": "stream",
     "text": [
      "Contradictory set: site='genial.ly' contra_set={{'domain': 'app.genial.ly', 'name': '__stripe_mid'}, {'domain': 'app.genial.ly', 'name': '__stripe_sid'}}\n"
     ]
    },
    {
     "name": "stderr",
     "output_type": "stream",
     "text": [
      "  0%|          | 7/1946 [00:02<14:09,  2.28it/s]"
     ]
    },
    {
     "name": "stdout",
     "output_type": "stream",
     "text": [
      "Contradictory set: site='prweb.com' contra_set={{'domain': 'service.prweb.com', 'name': 'driftt_aid'}}\n"
     ]
    },
    {
     "name": "stderr",
     "output_type": "stream",
     "text": [
      "  1%|          | 12/1946 [00:05<19:12,  1.68it/s]"
     ]
    },
    {
     "name": "stdout",
     "output_type": "stream",
     "text": [
      "Contradictory set: site='ulta.com' contra_set={{'domain': 'ulta.com', 'name': '_schn'}}\n"
     ]
    },
    {
     "name": "stderr",
     "output_type": "stream",
     "text": [
      "  2%|▏         | 38/1946 [00:17<14:40,  2.17it/s]"
     ]
    },
    {
     "name": "stdout",
     "output_type": "stream",
     "text": [
      "Contradictory set: site='suse.com' contra_set={{'domain': 'buy.suse.com', 'name': 'AWSELB'}, {'domain': 'scc.suse.com', 'name': '_glue_session'}}\n"
     ]
    },
    {
     "name": "stderr",
     "output_type": "stream",
     "text": [
      "  2%|▏         | 40/1946 [00:18<12:32,  2.53it/s]"
     ]
    },
    {
     "name": "stdout",
     "output_type": "stream",
     "text": [
      "Contradictory set: site='worldoftanks.eu' contra_set={{'domain': 'worldoftanks.eu', 'name': 'hlauth'}}\n"
     ]
    },
    {
     "name": "stderr",
     "output_type": "stream",
     "text": [
      "  2%|▏         | 47/1946 [00:21<14:45,  2.14it/s]"
     ]
    },
    {
     "name": "stdout",
     "output_type": "stream",
     "text": [
      "Contradictory set: site='piriform.com' contra_set={{'domain': 'ccleanercom-production-slave.azurewebsites.net', 'name': 'ARRAffinity'}}\n"
     ]
    },
    {
     "name": "stderr",
     "output_type": "stream",
     "text": [
      "  3%|▎         | 56/1946 [00:25<10:55,  2.88it/s]"
     ]
    },
    {
     "name": "stdout",
     "output_type": "stream",
     "text": [
      "Contradictory set: site='elledecor.com' contra_set={{'domain': 'www.elledecor.com', 'name': 'location_data'}, {'domain': 'www.elledecor.com', 'name': '_glimmerCookieTest'}}\n"
     ]
    },
    {
     "name": "stderr",
     "output_type": "stream",
     "text": [
      "  3%|▎         | 62/1946 [00:27<10:22,  3.03it/s]"
     ]
    },
    {
     "name": "stdout",
     "output_type": "stream",
     "text": [
      "Contradictory set: site='cell.com' contra_set={{'domain': 'hubspot.net', 'name': '__cfduid'}}\n"
     ]
    },
    {
     "name": "stderr",
     "output_type": "stream",
     "text": [
      "  3%|▎         | 68/1946 [00:29<11:31,  2.72it/s]"
     ]
    },
    {
     "name": "stdout",
     "output_type": "stream",
     "text": [
      "Contradictory set: site='invisionapp.com' contra_set={{'domain': 'invisionapp.com', 'name': '__tld__'}}\n"
     ]
    },
    {
     "name": "stderr",
     "output_type": "stream",
     "text": [
      "  4%|▎         | 72/1946 [00:32<13:39,  2.29it/s]"
     ]
    },
    {
     "name": "stdout",
     "output_type": "stream",
     "text": [
      "Contradictory set: site='omaze.com' contra_set={{'domain': 'www.omaze.com', 'name': 'cookietest'}}\n"
     ]
    },
    {
     "name": "stderr",
     "output_type": "stream",
     "text": [
      "  5%|▌         | 99/1946 [00:47<22:23,  1.37it/s]"
     ]
    },
    {
     "name": "stdout",
     "output_type": "stream",
     "text": [
      "Contradictory set: site='checkout.com' contra_set={{'domain': 'static.cdn.prismic.io', 'name': 'io.prismic.preview'}}\n"
     ]
    },
    {
     "name": "stderr",
     "output_type": "stream",
     "text": [
      "  5%|▌         | 104/1946 [00:51<24:31,  1.25it/s]"
     ]
    },
    {
     "name": "stdout",
     "output_type": "stream",
     "text": [
      "Contradictory set: site='adobeconnect.com' contra_set={{'domain': 'app-sj16.marketo.com', 'name': '__cfduid'}, {'domain': 'app-aba.marketo.com', 'name': '__cf_bm'}}\n"
     ]
    },
    {
     "name": "stderr",
     "output_type": "stream",
     "text": [
      "  5%|▌         | 106/1946 [00:51<17:19,  1.77it/s]"
     ]
    },
    {
     "name": "stdout",
     "output_type": "stream",
     "text": [
      "Contradictory set: site='returnpath.net' contra_set={{'domain': 'community.validity.com', 'name': 'cookieTest'}, {'domain': 'app.jazz.co', 'name': 'SF_PHPSESSID'}}\n"
     ]
    },
    {
     "name": "stderr",
     "output_type": "stream",
     "text": [
      "  6%|▌         | 109/1946 [00:52<13:36,  2.25it/s]"
     ]
    },
    {
     "name": "stdout",
     "output_type": "stream",
     "text": [
      "Contradictory set: site='zendesk.com' contra_set={{'domain': 'www.zendesk.com', 'name': 'AWSALB'}}\n"
     ]
    },
    {
     "name": "stderr",
     "output_type": "stream",
     "text": [
      "  6%|▌         | 119/1946 [03:55<27:26:10, 54.06s/it]"
     ]
    },
    {
     "name": "stdout",
     "output_type": "stream",
     "text": [
      "Contradictory set: site='petsmart.com' contra_set={{'domain': 'www.petsmart.com', 'name': 'inptime0_13355_en'}}\n"
     ]
    },
    {
     "name": "stderr",
     "output_type": "stream",
     "text": [
      "  6%|▋         | 122/1946 [03:57<9:41:08, 19.12s/it] "
     ]
    },
    {
     "name": "stdout",
     "output_type": "stream",
     "text": [
      "Contradictory set: site='echosign.com' contra_set={{'domain': 'app-sj16.marketo.com', 'name': '__cfduid'}, {'domain': 'app-aba.marketo.com', 'name': '__cf_bm'}}\n"
     ]
    },
    {
     "name": "stderr",
     "output_type": "stream",
     "text": [
      "  6%|▋         | 124/1946 [03:58<4:51:52,  9.61s/it]"
     ]
    },
    {
     "name": "stdout",
     "output_type": "stream",
     "text": [
      "Contradictory set: site='aon.com' contra_set={{'domain': 'insights.humancapital.aon.com', 'name': 'ufentry'}, {'domain': 'brightcove.com', 'name': '_bc_uuid'}}\n"
     ]
    },
    {
     "name": "stderr",
     "output_type": "stream",
     "text": [
      "  7%|▋         | 134/1946 [04:01<17:58,  1.68it/s]  "
     ]
    },
    {
     "name": "stdout",
     "output_type": "stream",
     "text": [
      "Contradictory set: site='statista.com' contra_set={{'domain': 'm6r.eu', 'name': 'id'}}\n"
     ]
    },
    {
     "name": "stderr",
     "output_type": "stream",
     "text": [
      "  7%|▋         | 137/1946 [04:02<13:13,  2.28it/s]"
     ]
    },
    {
     "name": "stdout",
     "output_type": "stream",
     "text": [
      "Contradictory set: site='name.com' contra_set={{'domain': 'cs.name.com', 'name': '__cfduid'}}\n"
     ]
    },
    {
     "name": "stderr",
     "output_type": "stream",
     "text": [
      "100%|██████████| 1946/1946 [18:00<00:00,  1.80it/s]\n"
     ]
    },
    {
     "data": {
      "text/html": [
       "<div>\n",
       "<style scoped>\n",
       "    .dataframe tbody tr th:only-of-type {\n",
       "        vertical-align: middle;\n",
       "    }\n",
       "\n",
       "    .dataframe tbody tr th {\n",
       "        vertical-align: top;\n",
       "    }\n",
       "\n",
       "    .dataframe thead th {\n",
       "        text-align: right;\n",
       "    }\n",
       "</style>\n",
       "<table border=\"1\" class=\"dataframe\">\n",
       "  <thead>\n",
       "    <tr style=\"text-align: right;\">\n",
       "      <th></th>\n",
       "      <th>domain</th>\n",
       "      <th>expires</th>\n",
       "      <th>name</th>\n",
       "      <th>path</th>\n",
       "      <th>sameSite</th>\n",
       "      <th>secure</th>\n",
       "      <th>value</th>\n",
       "      <th>request_url</th>\n",
       "      <th>site</th>\n",
       "      <th>appr_pref_domain</th>\n",
       "      <th>appr_pref_name</th>\n",
       "      <th>rej_pref_domain</th>\n",
       "      <th>rej_pref_name</th>\n",
       "      <th>comply</th>\n",
       "    </tr>\n",
       "  </thead>\n",
       "  <tbody>\n",
       "    <tr>\n",
       "      <th>1</th>\n",
       "      <td>.wework.com</td>\n",
       "      <td>1.671518e+09</td>\n",
       "      <td>ajs_anonymous_id</td>\n",
       "      <td>/</td>\n",
       "      <td>Lax</td>\n",
       "      <td>False</td>\n",
       "      <td>%22ef8417d2-09a6-41af-be22-e46a6e0ea92d%22</td>\n",
       "      <td>https://www.wework.com/vanilla-assets/fonts/ic...</td>\n",
       "      <td>wework.com</td>\n",
       "      <td>None</td>\n",
       "      <td>None</td>\n",
       "      <td>wework.com</td>\n",
       "      <td>ajs_anonymous_id</td>\n",
       "      <td>incorrect</td>\n",
       "    </tr>\n",
       "    <tr>\n",
       "      <th>2</th>\n",
       "      <td>.wework.com</td>\n",
       "      <td>1.671518e+09</td>\n",
       "      <td>ajs_user_id</td>\n",
       "      <td>/</td>\n",
       "      <td>Lax</td>\n",
       "      <td>False</td>\n",
       "      <td>%22b22ada9465f804d5ec485afec1845a7c8078ec584f5...</td>\n",
       "      <td>https://www.wework.com/vanilla-assets/fonts/ic...</td>\n",
       "      <td>wework.com</td>\n",
       "      <td>None</td>\n",
       "      <td>None</td>\n",
       "      <td>wework.com</td>\n",
       "      <td>ajs_user_id</td>\n",
       "      <td>incorrect</td>\n",
       "    </tr>\n",
       "    <tr>\n",
       "      <th>4</th>\n",
       "      <td>.wework.com</td>\n",
       "      <td>1.671518e+09</td>\n",
       "      <td>ajs_user_id</td>\n",
       "      <td>/</td>\n",
       "      <td>Lax</td>\n",
       "      <td>False</td>\n",
       "      <td>%22b22ada9465f804d5ec485afec1845a7c8078ec584f5...</td>\n",
       "      <td>https://www.wework.com/vanilla-assets/images/w...</td>\n",
       "      <td>wework.com</td>\n",
       "      <td>None</td>\n",
       "      <td>None</td>\n",
       "      <td>wework.com</td>\n",
       "      <td>ajs_user_id</td>\n",
       "      <td>incorrect</td>\n",
       "    </tr>\n",
       "    <tr>\n",
       "      <th>18</th>\n",
       "      <td>.wework.com</td>\n",
       "      <td>1.671518e+09</td>\n",
       "      <td>ajs_anonymous_id</td>\n",
       "      <td>/</td>\n",
       "      <td>Lax</td>\n",
       "      <td>False</td>\n",
       "      <td>%22ef8417d2-09a6-41af-be22-e46a6e0ea92d%22</td>\n",
       "      <td>https://www.wework.com/vanilla-assets/javascri...</td>\n",
       "      <td>wework.com</td>\n",
       "      <td>None</td>\n",
       "      <td>None</td>\n",
       "      <td>wework.com</td>\n",
       "      <td>ajs_anonymous_id</td>\n",
       "      <td>incorrect</td>\n",
       "    </tr>\n",
       "    <tr>\n",
       "      <th>21</th>\n",
       "      <td>.wework.com</td>\n",
       "      <td>1.671518e+09</td>\n",
       "      <td>ajs_anonymous_id</td>\n",
       "      <td>/</td>\n",
       "      <td>Lax</td>\n",
       "      <td>False</td>\n",
       "      <td>%22ef8417d2-09a6-41af-be22-e46a6e0ea92d%22</td>\n",
       "      <td>https://www.wework.com/vanilla-assets/javascri...</td>\n",
       "      <td>wework.com</td>\n",
       "      <td>None</td>\n",
       "      <td>None</td>\n",
       "      <td>wework.com</td>\n",
       "      <td>ajs_anonymous_id</td>\n",
       "      <td>incorrect</td>\n",
       "    </tr>\n",
       "    <tr>\n",
       "      <th>...</th>\n",
       "      <td>...</td>\n",
       "      <td>...</td>\n",
       "      <td>...</td>\n",
       "      <td>...</td>\n",
       "      <td>...</td>\n",
       "      <td>...</td>\n",
       "      <td>...</td>\n",
       "      <td>...</td>\n",
       "      <td>...</td>\n",
       "      <td>...</td>\n",
       "      <td>...</td>\n",
       "      <td>...</td>\n",
       "      <td>...</td>\n",
       "      <td>...</td>\n",
       "    </tr>\n",
       "    <tr>\n",
       "      <th>2968878</th>\n",
       "      <td>.sentinelone.com</td>\n",
       "      <td>1.673722e+09</td>\n",
       "      <td>_uetvid</td>\n",
       "      <td>/</td>\n",
       "      <td>NaN</td>\n",
       "      <td>False</td>\n",
       "      <td>3a1c97c061c511ec80edd78f4b9f5881</td>\n",
       "      <td>https://go.sentinelone.com/index.php/form/getF...</td>\n",
       "      <td>sentinelone.com</td>\n",
       "      <td>None</td>\n",
       "      <td>None</td>\n",
       "      <td>sentinelone.com</td>\n",
       "      <td>_uetvid</td>\n",
       "      <td>incorrect</td>\n",
       "    </tr>\n",
       "    <tr>\n",
       "      <th>2968879</th>\n",
       "      <td>.sentinelone.com</td>\n",
       "      <td>1.640112e+09</td>\n",
       "      <td>_gid</td>\n",
       "      <td>/</td>\n",
       "      <td>NaN</td>\n",
       "      <td>False</td>\n",
       "      <td>GA1.2.1958490450.1640026025</td>\n",
       "      <td>https://www.sentinelone.com/global-services/su...</td>\n",
       "      <td>sentinelone.com</td>\n",
       "      <td>None</td>\n",
       "      <td>None</td>\n",
       "      <td>sentinelone.com</td>\n",
       "      <td>_gid</td>\n",
       "      <td>incorrect</td>\n",
       "    </tr>\n",
       "    <tr>\n",
       "      <th>2968882</th>\n",
       "      <td>.sentinelone.com</td>\n",
       "      <td>1.703098e+09</td>\n",
       "      <td>_ga</td>\n",
       "      <td>/</td>\n",
       "      <td>NaN</td>\n",
       "      <td>False</td>\n",
       "      <td>GA1.2.1830428201.1640026025</td>\n",
       "      <td>https://www.sentinelone.com/wp-content/themes/...</td>\n",
       "      <td>sentinelone.com</td>\n",
       "      <td>None</td>\n",
       "      <td>None</td>\n",
       "      <td>sentinelone.com</td>\n",
       "      <td>_ga</td>\n",
       "      <td>incorrect</td>\n",
       "    </tr>\n",
       "    <tr>\n",
       "      <th>2968883</th>\n",
       "      <td>.sentinelone.com</td>\n",
       "      <td>1.640112e+09</td>\n",
       "      <td>_uetsid</td>\n",
       "      <td>/</td>\n",
       "      <td>NaN</td>\n",
       "      <td>False</td>\n",
       "      <td>3a1c7ac061c511ec900301a8f58da293</td>\n",
       "      <td>https://www.sentinelone.com/wp-content/themes/...</td>\n",
       "      <td>sentinelone.com</td>\n",
       "      <td>None</td>\n",
       "      <td>None</td>\n",
       "      <td>sentinelone.com</td>\n",
       "      <td>_uetsid</td>\n",
       "      <td>incorrect</td>\n",
       "    </tr>\n",
       "    <tr>\n",
       "      <th>2968884</th>\n",
       "      <td>.sentinelone.com</td>\n",
       "      <td>1.673722e+09</td>\n",
       "      <td>_uetvid</td>\n",
       "      <td>/</td>\n",
       "      <td>NaN</td>\n",
       "      <td>False</td>\n",
       "      <td>3a1c97c061c511ec80edd78f4b9f5881</td>\n",
       "      <td>https://www.sentinelone.com/wp-content/themes/...</td>\n",
       "      <td>sentinelone.com</td>\n",
       "      <td>None</td>\n",
       "      <td>None</td>\n",
       "      <td>sentinelone.com</td>\n",
       "      <td>_uetvid</td>\n",
       "      <td>incorrect</td>\n",
       "    </tr>\n",
       "  </tbody>\n",
       "</table>\n",
       "<p>966901 rows × 14 columns</p>\n",
       "</div>"
      ],
      "text/plain": [
       "                   domain       expires              name path sameSite  \\\n",
       "1             .wework.com  1.671518e+09  ajs_anonymous_id    /      Lax   \n",
       "2             .wework.com  1.671518e+09       ajs_user_id    /      Lax   \n",
       "4             .wework.com  1.671518e+09       ajs_user_id    /      Lax   \n",
       "18            .wework.com  1.671518e+09  ajs_anonymous_id    /      Lax   \n",
       "21            .wework.com  1.671518e+09  ajs_anonymous_id    /      Lax   \n",
       "...                   ...           ...               ...  ...      ...   \n",
       "2968878  .sentinelone.com  1.673722e+09           _uetvid    /      NaN   \n",
       "2968879  .sentinelone.com  1.640112e+09              _gid    /      NaN   \n",
       "2968882  .sentinelone.com  1.703098e+09               _ga    /      NaN   \n",
       "2968883  .sentinelone.com  1.640112e+09           _uetsid    /      NaN   \n",
       "2968884  .sentinelone.com  1.673722e+09           _uetvid    /      NaN   \n",
       "\n",
       "         secure                                              value  \\\n",
       "1         False         %22ef8417d2-09a6-41af-be22-e46a6e0ea92d%22   \n",
       "2         False  %22b22ada9465f804d5ec485afec1845a7c8078ec584f5...   \n",
       "4         False  %22b22ada9465f804d5ec485afec1845a7c8078ec584f5...   \n",
       "18        False         %22ef8417d2-09a6-41af-be22-e46a6e0ea92d%22   \n",
       "21        False         %22ef8417d2-09a6-41af-be22-e46a6e0ea92d%22   \n",
       "...         ...                                                ...   \n",
       "2968878   False                   3a1c97c061c511ec80edd78f4b9f5881   \n",
       "2968879   False                        GA1.2.1958490450.1640026025   \n",
       "2968882   False                        GA1.2.1830428201.1640026025   \n",
       "2968883   False                   3a1c7ac061c511ec900301a8f58da293   \n",
       "2968884   False                   3a1c97c061c511ec80edd78f4b9f5881   \n",
       "\n",
       "                                               request_url             site  \\\n",
       "1        https://www.wework.com/vanilla-assets/fonts/ic...       wework.com   \n",
       "2        https://www.wework.com/vanilla-assets/fonts/ic...       wework.com   \n",
       "4        https://www.wework.com/vanilla-assets/images/w...       wework.com   \n",
       "18       https://www.wework.com/vanilla-assets/javascri...       wework.com   \n",
       "21       https://www.wework.com/vanilla-assets/javascri...       wework.com   \n",
       "...                                                    ...              ...   \n",
       "2968878  https://go.sentinelone.com/index.php/form/getF...  sentinelone.com   \n",
       "2968879  https://www.sentinelone.com/global-services/su...  sentinelone.com   \n",
       "2968882  https://www.sentinelone.com/wp-content/themes/...  sentinelone.com   \n",
       "2968883  https://www.sentinelone.com/wp-content/themes/...  sentinelone.com   \n",
       "2968884  https://www.sentinelone.com/wp-content/themes/...  sentinelone.com   \n",
       "\n",
       "        appr_pref_domain appr_pref_name  rej_pref_domain     rej_pref_name  \\\n",
       "1                   None           None       wework.com  ajs_anonymous_id   \n",
       "2                   None           None       wework.com       ajs_user_id   \n",
       "4                   None           None       wework.com       ajs_user_id   \n",
       "18                  None           None       wework.com  ajs_anonymous_id   \n",
       "21                  None           None       wework.com  ajs_anonymous_id   \n",
       "...                  ...            ...              ...               ...   \n",
       "2968878             None           None  sentinelone.com           _uetvid   \n",
       "2968879             None           None  sentinelone.com              _gid   \n",
       "2968882             None           None  sentinelone.com               _ga   \n",
       "2968883             None           None  sentinelone.com           _uetsid   \n",
       "2968884             None           None  sentinelone.com           _uetvid   \n",
       "\n",
       "            comply  \n",
       "1        incorrect  \n",
       "2        incorrect  \n",
       "4        incorrect  \n",
       "18       incorrect  \n",
       "21       incorrect  \n",
       "...            ...  \n",
       "2968878  incorrect  \n",
       "2968879  incorrect  \n",
       "2968882  incorrect  \n",
       "2968883  incorrect  \n",
       "2968884  incorrect  \n",
       "\n",
       "[966901 rows x 14 columns]"
      ]
     },
     "execution_count": 40,
     "metadata": {},
     "output_type": "execute_result"
    }
   ],
   "source": [
    "# Map intercepted cookies to browser cookies.\n",
    "import sys; import importlib; importlib.reload(sys.modules['consent.consistency.cookie_pref_match'])\n",
    "from consent.consistency.cookie_pref_match import cookie_pref_match\n",
    "\n",
    "site_to_contras = {}  # TODO: make this to non-global one.\n",
    "\n",
    "def check_in_set(site, acookie, cookie_pref_set, verbose=0):\n",
    "    # check_url_host_match = relax_check_url_host_match # strict_check_url_host_match\n",
    "    for cookie_pref in cookie_pref_set:\n",
    "        if verbose >= 3:\n",
    "            print(f'{cookie_pref=} {acookie=}')\n",
    "        elif verbose >= 2:\n",
    "            if cookie_pref['name'] == acookie['name']:\n",
    "                print(f'{cookie_pref=} {acookie=}')\n",
    "        \n",
    "        if cookie_pref_match(acookie, cookie_pref, site):\n",
    "            return True, cookie_pref\n",
    "    return False, None\n",
    "\n",
    "def get_comply_type(is_appr, is_rej):\n",
    "    if is_appr and not is_rej:\n",
    "        return 'comply'\n",
    "    if not is_appr and is_rej:\n",
    "        return 'incorrect'\n",
    "    if not is_appr and not is_rej:\n",
    "        return 'omit'\n",
    "    return 'ambiguous'\n",
    "\n",
    "def get_appr_rej_sets(prefs):\n",
    "    \"\"\"Return 2 sets: appr and rejection.\"\"\"\n",
    "    def get_hashable_cookie_set(df):\n",
    "        cookies = df[['domain', 'name']].to_dict('records')\n",
    "        return set(hashabledict(c) for c in cookies)\n",
    "    \n",
    "    appr_set = get_hashable_cookie_set(prefs[prefs.consent == True])\n",
    "    rej_set = get_hashable_cookie_set(prefs[prefs.consent == False])\n",
    "    assert len(prefs[~prefs.consent.isin([True, False])]) == 0\n",
    "    \n",
    "    contra_set = appr_set.intersection(rej_set)\n",
    "\n",
    "    return appr_set, rej_set, contra_set\n",
    "\n",
    "def update_appr_rej_pref(comply_result, appr_pref, rej_pref):\n",
    "    name_to_pref = {'appr_pref': appr_pref, 'rej_pref': rej_pref}\n",
    "    for name, pref in name_to_pref.items():\n",
    "        for key in ['domain', 'name']:\n",
    "            comply_result[name + '_' + key] = pref[key] if pref else None\n",
    "    \n",
    "def _get_comply_for_site(site, prefs, sent_cookies):\n",
    "    appr_set, rej_set, contra_set = get_appr_rej_sets(prefs)\n",
    "    comply_results = []\n",
    "    for sent_cookie in sent_cookies:\n",
    "        is_appr, appr_pref = check_in_set(site, sent_cookie, appr_set)\n",
    "        is_rej, rej_pref = check_in_set(site, sent_cookie, rej_set)\n",
    "        comply = get_comply_type(is_appr, is_rej)\n",
    "        comply_result = sent_cookie.copy()\n",
    "        update_appr_rej_pref(comply_result, appr_pref, rej_pref)\n",
    "        # comply_result.update({'comply': comply, 'site': site})\n",
    "        assert site == sent_cookie['site']\n",
    "        comply_result['comply'] = comply # .update({'comply': comply, 'site': site})\n",
    "        comply_results.append(comply_result)\n",
    "    if len(contra_set) > 0:\n",
    "        site_to_contras[site] = contra_set\n",
    "        if len(site_to_contras) < 20: # Print some of the contra to see the progress only\n",
    "            print(f'Contradictory set: {site=} {contra_set=}')    \n",
    "    return comply_results\n",
    "\n",
    "def get_comply_for_sites(args, sites, parallel=False):\n",
    "    if parallel: # not work, maybe bottleneck is the transfer of a big data frame.\n",
    "        pool = Pool(32)\n",
    "        for result in pool.starmap(_get_comply_for_site, args):\n",
    "            yield result\n",
    "    else:\n",
    "        for arg in tqdm(args, total=len(sites)):\n",
    "            yield _get_comply_for_site(*arg)\n",
    "            \n",
    "def get_compute_args(sites, cookie_prefs, prj_sent_cookies):\n",
    "    #     return [(site, cookie_prefs, prj_sent_cookies) for site in sites]\n",
    "    for site in sites:\n",
    "        site_cookie_prefs = cookie_prefs[cookie_prefs.site == site]\n",
    "        site_prj_sent_cookies = prj_sent_cookies[prj_sent_cookies.site == site].to_dict('records')   \n",
    "        yield site, site_cookie_prefs, site_prj_sent_cookies\n",
    "            \n",
    "def get_comply(cookie_prefs, prj_sent_cookies):\n",
    "    sites = cookie_prefs.site.unique() # .tolist()\n",
    "#     sites = ['suse.com', 'ulta.com', 'optimizely.com', 'cell.com']\n",
    "    args = get_compute_args(sites, cookie_prefs, prj_sent_cookies)\n",
    "    \n",
    "    comply_results = []    \n",
    "    for complies_for_site in get_comply_for_sites(args, sites, parallel=False):\n",
    "        comply_results.extend(complies_for_site)\n",
    "        \n",
    "    return pd.DataFrame(comply_results)\n",
    "\n",
    "print(\"faster: for cookie_pref in cookie_pref_set[cookie_pref_set.name == acookie['name']]:\")\n",
    "all_complies = get_comply(s_cookie_prefs, prj_sent_cookies)\n",
    "# print(\"Number of incor\"\n",
    "all_complies[all_complies.comply == 'incorrect']"
   ]
  },
  {
   "cell_type": "code",
   "execution_count": null,
   "metadata": {},
   "outputs": [
    {
     "data": {
      "text/html": [
       "<div>\n",
       "<style scoped>\n",
       "    .dataframe tbody tr th:only-of-type {\n",
       "        vertical-align: middle;\n",
       "    }\n",
       "\n",
       "    .dataframe tbody tr th {\n",
       "        vertical-align: top;\n",
       "    }\n",
       "\n",
       "    .dataframe thead th {\n",
       "        text-align: right;\n",
       "    }\n",
       "</style>\n",
       "<table border=\"1\" class=\"dataframe\">\n",
       "  <thead>\n",
       "    <tr style=\"text-align: right;\">\n",
       "      <th></th>\n",
       "      <th>domain</th>\n",
       "      <th>expires</th>\n",
       "      <th>name</th>\n",
       "      <th>path</th>\n",
       "      <th>sameSite</th>\n",
       "      <th>secure</th>\n",
       "      <th>value</th>\n",
       "      <th>request_url</th>\n",
       "      <th>site</th>\n",
       "      <th>appr_pref_domain</th>\n",
       "      <th>appr_pref_name</th>\n",
       "      <th>rej_pref_domain</th>\n",
       "      <th>rej_pref_name</th>\n",
       "      <th>comply</th>\n",
       "    </tr>\n",
       "  </thead>\n",
       "  <tbody>\n",
       "    <tr>\n",
       "      <th>0</th>\n",
       "      <td>www.wework.com</td>\n",
       "      <td>1.671518e+09</td>\n",
       "      <td>__we_bucket_id</td>\n",
       "      <td>/</td>\n",
       "      <td>Lax</td>\n",
       "      <td>True</td>\n",
       "      <td>b22ada9465f804d5ec485afec1845a7c8078ec584f59b9...</td>\n",
       "      <td>https://www.wework.com/vanilla-assets/javascri...</td>\n",
       "      <td>wework.com</td>\n",
       "      <td>www.wework.com</td>\n",
       "      <td>__we_bucket_id</td>\n",
       "      <td>None</td>\n",
       "      <td>None</td>\n",
       "      <td>comply</td>\n",
       "    </tr>\n",
       "    <tr>\n",
       "      <th>1</th>\n",
       "      <td>.wework.com</td>\n",
       "      <td>1.671518e+09</td>\n",
       "      <td>ajs_anonymous_id</td>\n",
       "      <td>/</td>\n",
       "      <td>Lax</td>\n",
       "      <td>False</td>\n",
       "      <td>%22ef8417d2-09a6-41af-be22-e46a6e0ea92d%22</td>\n",
       "      <td>https://www.wework.com/vanilla-assets/fonts/ic...</td>\n",
       "      <td>wework.com</td>\n",
       "      <td>None</td>\n",
       "      <td>None</td>\n",
       "      <td>wework.com</td>\n",
       "      <td>ajs_anonymous_id</td>\n",
       "      <td>incorrect</td>\n",
       "    </tr>\n",
       "    <tr>\n",
       "      <th>2</th>\n",
       "      <td>.wework.com</td>\n",
       "      <td>1.671518e+09</td>\n",
       "      <td>ajs_user_id</td>\n",
       "      <td>/</td>\n",
       "      <td>Lax</td>\n",
       "      <td>False</td>\n",
       "      <td>%22b22ada9465f804d5ec485afec1845a7c8078ec584f5...</td>\n",
       "      <td>https://www.wework.com/vanilla-assets/fonts/ic...</td>\n",
       "      <td>wework.com</td>\n",
       "      <td>None</td>\n",
       "      <td>None</td>\n",
       "      <td>wework.com</td>\n",
       "      <td>ajs_user_id</td>\n",
       "      <td>incorrect</td>\n",
       "    </tr>\n",
       "    <tr>\n",
       "      <th>3</th>\n",
       "      <td>www.wework.com</td>\n",
       "      <td>1.641192e+09</td>\n",
       "      <td>we_referring_domain</td>\n",
       "      <td>/</td>\n",
       "      <td>NaN</td>\n",
       "      <td>False</td>\n",
       "      <td></td>\n",
       "      <td>https://www.wework.com/vanilla-assets/fonts/ic...</td>\n",
       "      <td>wework.com</td>\n",
       "      <td>www.wework.com</td>\n",
       "      <td>we_referring_domain</td>\n",
       "      <td>None</td>\n",
       "      <td>None</td>\n",
       "      <td>comply</td>\n",
       "    </tr>\n",
       "    <tr>\n",
       "      <th>4</th>\n",
       "      <td>.wework.com</td>\n",
       "      <td>1.671518e+09</td>\n",
       "      <td>ajs_user_id</td>\n",
       "      <td>/</td>\n",
       "      <td>Lax</td>\n",
       "      <td>False</td>\n",
       "      <td>%22b22ada9465f804d5ec485afec1845a7c8078ec584f5...</td>\n",
       "      <td>https://www.wework.com/vanilla-assets/images/w...</td>\n",
       "      <td>wework.com</td>\n",
       "      <td>None</td>\n",
       "      <td>None</td>\n",
       "      <td>wework.com</td>\n",
       "      <td>ajs_user_id</td>\n",
       "      <td>incorrect</td>\n",
       "    </tr>\n",
       "    <tr>\n",
       "      <th>...</th>\n",
       "      <td>...</td>\n",
       "      <td>...</td>\n",
       "      <td>...</td>\n",
       "      <td>...</td>\n",
       "      <td>...</td>\n",
       "      <td>...</td>\n",
       "      <td>...</td>\n",
       "      <td>...</td>\n",
       "      <td>...</td>\n",
       "      <td>...</td>\n",
       "      <td>...</td>\n",
       "      <td>...</td>\n",
       "      <td>...</td>\n",
       "      <td>...</td>\n",
       "    </tr>\n",
       "    <tr>\n",
       "      <th>2968887</th>\n",
       "      <td>.sentinelone.com</td>\n",
       "      <td>1.647802e+09</td>\n",
       "      <td>_gcl_au</td>\n",
       "      <td>/</td>\n",
       "      <td>NaN</td>\n",
       "      <td>False</td>\n",
       "      <td>1.1.389756944.1640026024</td>\n",
       "      <td>https://www.sentinelone.com/wp-content/themes/...</td>\n",
       "      <td>sentinelone.com</td>\n",
       "      <td>None</td>\n",
       "      <td>None</td>\n",
       "      <td>None</td>\n",
       "      <td>None</td>\n",
       "      <td>omit</td>\n",
       "    </tr>\n",
       "    <tr>\n",
       "      <th>2968888</th>\n",
       "      <td>www.sentinelone.com</td>\n",
       "      <td>1.640027e+09</td>\n",
       "      <td>_omappvs</td>\n",
       "      <td>/</td>\n",
       "      <td>Lax</td>\n",
       "      <td>True</td>\n",
       "      <td>1640026095614</td>\n",
       "      <td>https://www.sentinelone.com/wp-content/themes/...</td>\n",
       "      <td>sentinelone.com</td>\n",
       "      <td>None</td>\n",
       "      <td>None</td>\n",
       "      <td>None</td>\n",
       "      <td>None</td>\n",
       "      <td>omit</td>\n",
       "    </tr>\n",
       "    <tr>\n",
       "      <th>2968889</th>\n",
       "      <td>www.sentinelone.com</td>\n",
       "      <td>1.985540e+09</td>\n",
       "      <td>_omappvp</td>\n",
       "      <td>/</td>\n",
       "      <td>Lax</td>\n",
       "      <td>True</td>\n",
       "      <td>NwHAA1fbfuJgbuvESfogOlN0xA29aMIh18e6I71aFb6pbU...</td>\n",
       "      <td>https://www.sentinelone.com/wp-content/themes/...</td>\n",
       "      <td>sentinelone.com</td>\n",
       "      <td>None</td>\n",
       "      <td>None</td>\n",
       "      <td>None</td>\n",
       "      <td>None</td>\n",
       "      <td>omit</td>\n",
       "    </tr>\n",
       "    <tr>\n",
       "      <th>2968890</th>\n",
       "      <td>.6sc.co</td>\n",
       "      <td>1.703098e+09</td>\n",
       "      <td>6suuid</td>\n",
       "      <td>/</td>\n",
       "      <td>None</td>\n",
       "      <td>True</td>\n",
       "      <td>5e3a5b68fe100000a8cfc06177000000de442900</td>\n",
       "      <td>https://b.6sc.co/v1/beacon/img.gif?token=3576c...</td>\n",
       "      <td>sentinelone.com</td>\n",
       "      <td>None</td>\n",
       "      <td>None</td>\n",
       "      <td>None</td>\n",
       "      <td>None</td>\n",
       "      <td>omit</td>\n",
       "    </tr>\n",
       "    <tr>\n",
       "      <th>2968891</th>\n",
       "      <td>.sentinelone.com</td>\n",
       "      <td>1.640028e+09</td>\n",
       "      <td>_hjSession_2714452</td>\n",
       "      <td>/</td>\n",
       "      <td>Lax</td>\n",
       "      <td>False</td>\n",
       "      <td>eyJpZCI6IjVhMDk2MTJlLWZlNzItNGViYi1hMzVlLThlMD...</td>\n",
       "      <td>https://go.sentinelone.com/js/forms2/js/forms2...</td>\n",
       "      <td>sentinelone.com</td>\n",
       "      <td>None</td>\n",
       "      <td>None</td>\n",
       "      <td>None</td>\n",
       "      <td>None</td>\n",
       "      <td>omit</td>\n",
       "    </tr>\n",
       "  </tbody>\n",
       "</table>\n",
       "<p>2968892 rows × 14 columns</p>\n",
       "</div>"
      ],
      "text/plain": [
       "                      domain       expires                 name path sameSite  \\\n",
       "0             www.wework.com  1.671518e+09       __we_bucket_id    /      Lax   \n",
       "1                .wework.com  1.671518e+09     ajs_anonymous_id    /      Lax   \n",
       "2                .wework.com  1.671518e+09          ajs_user_id    /      Lax   \n",
       "3             www.wework.com  1.641192e+09  we_referring_domain    /      NaN   \n",
       "4                .wework.com  1.671518e+09          ajs_user_id    /      Lax   \n",
       "...                      ...           ...                  ...  ...      ...   \n",
       "2968887     .sentinelone.com  1.647802e+09              _gcl_au    /      NaN   \n",
       "2968888  www.sentinelone.com  1.640027e+09             _omappvs    /      Lax   \n",
       "2968889  www.sentinelone.com  1.985540e+09             _omappvp    /      Lax   \n",
       "2968890              .6sc.co  1.703098e+09               6suuid    /     None   \n",
       "2968891     .sentinelone.com  1.640028e+09   _hjSession_2714452    /      Lax   \n",
       "\n",
       "         secure                                              value  \\\n",
       "0          True  b22ada9465f804d5ec485afec1845a7c8078ec584f59b9...   \n",
       "1         False         %22ef8417d2-09a6-41af-be22-e46a6e0ea92d%22   \n",
       "2         False  %22b22ada9465f804d5ec485afec1845a7c8078ec584f5...   \n",
       "3         False                                                      \n",
       "4         False  %22b22ada9465f804d5ec485afec1845a7c8078ec584f5...   \n",
       "...         ...                                                ...   \n",
       "2968887   False                           1.1.389756944.1640026024   \n",
       "2968888    True                                      1640026095614   \n",
       "2968889    True  NwHAA1fbfuJgbuvESfogOlN0xA29aMIh18e6I71aFb6pbU...   \n",
       "2968890    True           5e3a5b68fe100000a8cfc06177000000de442900   \n",
       "2968891   False  eyJpZCI6IjVhMDk2MTJlLWZlNzItNGViYi1hMzVlLThlMD...   \n",
       "\n",
       "                                               request_url             site  \\\n",
       "0        https://www.wework.com/vanilla-assets/javascri...       wework.com   \n",
       "1        https://www.wework.com/vanilla-assets/fonts/ic...       wework.com   \n",
       "2        https://www.wework.com/vanilla-assets/fonts/ic...       wework.com   \n",
       "3        https://www.wework.com/vanilla-assets/fonts/ic...       wework.com   \n",
       "4        https://www.wework.com/vanilla-assets/images/w...       wework.com   \n",
       "...                                                    ...              ...   \n",
       "2968887  https://www.sentinelone.com/wp-content/themes/...  sentinelone.com   \n",
       "2968888  https://www.sentinelone.com/wp-content/themes/...  sentinelone.com   \n",
       "2968889  https://www.sentinelone.com/wp-content/themes/...  sentinelone.com   \n",
       "2968890  https://b.6sc.co/v1/beacon/img.gif?token=3576c...  sentinelone.com   \n",
       "2968891  https://go.sentinelone.com/js/forms2/js/forms2...  sentinelone.com   \n",
       "\n",
       "        appr_pref_domain       appr_pref_name rej_pref_domain  \\\n",
       "0         www.wework.com       __we_bucket_id            None   \n",
       "1                   None                 None      wework.com   \n",
       "2                   None                 None      wework.com   \n",
       "3         www.wework.com  we_referring_domain            None   \n",
       "4                   None                 None      wework.com   \n",
       "...                  ...                  ...             ...   \n",
       "2968887             None                 None            None   \n",
       "2968888             None                 None            None   \n",
       "2968889             None                 None            None   \n",
       "2968890             None                 None            None   \n",
       "2968891             None                 None            None   \n",
       "\n",
       "            rej_pref_name     comply  \n",
       "0                    None     comply  \n",
       "1        ajs_anonymous_id  incorrect  \n",
       "2             ajs_user_id  incorrect  \n",
       "3                    None     comply  \n",
       "4             ajs_user_id  incorrect  \n",
       "...                   ...        ...  \n",
       "2968887              None       omit  \n",
       "2968888              None       omit  \n",
       "2968889              None       omit  \n",
       "2968890              None       omit  \n",
       "2968891              None       omit  \n",
       "\n",
       "[2968892 rows x 14 columns]"
      ]
     },
     "execution_count": 41,
     "metadata": {},
     "output_type": "execute_result"
    }
   ],
   "source": [
    "all_complies"
   ]
  }
 ],
 "metadata": {
  "interpreter": {
   "hash": "716ef94a01c3d994cde453e411f4463b0105d2a3a71c6aed84dea7988b1708f3"
  },
  "kernelspec": {
   "display_name": "Python 3.8.10 64-bit ('consent': conda)",
   "name": "python3"
  },
  "language_info": {
   "codemirror_mode": {
    "name": "ipython",
    "version": 3
   },
   "file_extension": ".py",
   "mimetype": "text/x-python",
   "name": "python",
   "nbconvert_exporter": "python",
   "pygments_lexer": "ipython3",
   "version": "3.8.10"
  },
  "orig_nbformat": 4
 },
 "nbformat": 4,
 "nbformat_minor": 2
}
