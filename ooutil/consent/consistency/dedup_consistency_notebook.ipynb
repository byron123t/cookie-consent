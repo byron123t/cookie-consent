{
 "cells": [
  {
   "cell_type": "code",
   "execution_count": 1,
   "metadata": {},
   "outputs": [],
   "source": [
    "# Drop duplicates - no changes to detected inconsistencies.\n",
    "\n",
    "from collections import defaultdict, Counter\n",
    "from multiprocessing import Pool\n",
    "from pathlib import Path\n",
    "from typing import Dict\n",
    "import json\n",
    "import re\n",
    "\n",
    "from tqdm import tqdm\n",
    "import matplotlib.pyplot as plt\n",
    "import pandas as pd\n",
    "import seaborn as sns\n",
    "\n",
    "from consent.consistency.cookie_pref_match import cookie_pref_match\n",
    "from consent.consistency.util import SCAN_DIRS, FIG_DIR, SCAN_ROOT_DIR\n",
    "from consent.data.pref_menu_scan.cookie_pref_reader import read_cookie_prefs_in_scans\n",
    "from consent.data.pref_menu_scan.log_reader import read_logs_in_scans\n",
    "from consent.data.pref_menu_scan.cookie_decl_reader import read_cookie_decls_in_scans\n",
    "from consent.data.pref_menu_scan.postrej_cookie_reader import read_postrej_sent_cookies_in_scans\n",
    "from consent.util.default_path import get_data_dir\n",
    "from ooutil.type_util import hashabledict\n",
    "from ooutil.url_util import get_suffixed_domain"
   ]
  },
  {
   "cell_type": "code",
   "execution_count": 2,
   "metadata": {},
   "outputs": [
    {
     "name": "stdout",
     "output_type": "stream",
     "text": [
      "WARNING: Found non-unique (not found or >1 instance) analyticsmania.com\n",
      "Fail to read log 0 sites: []\n",
      "https://cdn.cookielaw.org/consent/bfc3f6d1-88f6-4292-b5d2-757633a696fe/54ee6350-f89f-49ec-8de3-55e458bcb2e4/en.json WARNING: Cookie list has session cookie but duration > 0\n",
      "https://cdn-ukwest.onetrust.com/consent/e00c3e10-0e07-461a-94d5-e87b899fa55a/442b5be0-8f10-4555-b6a6-2aa7c2e23dfa/en.json WARNING: Cookie list has session cookie but duration > 0\n",
      "https://cdn.cookielaw.org/consent/cadb9218-57dc-4d9d-88e2-9f60895ffd8e/c20c2294-be24-4c10-b904-91ccd622468e/en-us.json WARNING: Cookie list has session cookie but duration > 0\n",
      "https://cdn.cookielaw.org/consent/a3cad216-8692-4702-a85d-06e5c30c35cc/c500ad25-efb5-41be-97d0-530b3cb248d6/en.json WARNING: Cookie list has session cookie but duration > 0\n",
      "Failed to read cookies on 5: ['eero.com', 'eurail.com', 'fhi360.org', 'marieforleo.com', 'reiss.com']\n"
     ]
    },
    {
     "data": {
      "text/html": [
       "<div>\n",
       "<style scoped>\n",
       "    .dataframe tbody tr th:only-of-type {\n",
       "        vertical-align: middle;\n",
       "    }\n",
       "\n",
       "    .dataframe tbody tr th {\n",
       "        vertical-align: top;\n",
       "    }\n",
       "\n",
       "    .dataframe thead th {\n",
       "        text-align: right;\n",
       "    }\n",
       "</style>\n",
       "<table border=\"1\" class=\"dataframe\">\n",
       "  <thead>\n",
       "    <tr style=\"text-align: right;\">\n",
       "      <th></th>\n",
       "      <th>name</th>\n",
       "      <th>domain</th>\n",
       "      <th>duration</th>\n",
       "      <th>category_id</th>\n",
       "      <th>category</th>\n",
       "      <th>consent_mode</th>\n",
       "      <th>site</th>\n",
       "      <th>lib_name</th>\n",
       "      <th>pattern_name</th>\n",
       "      <th>consent</th>\n",
       "    </tr>\n",
       "  </thead>\n",
       "  <tbody>\n",
       "    <tr>\n",
       "      <th>0</th>\n",
       "      <td>s-9da4</td>\n",
       "      <td>go.helpshift.com</td>\n",
       "      <td>7 days</td>\n",
       "      <td>C0002</td>\n",
       "      <td>Performance Cookies</td>\n",
       "      <td>inactive</td>\n",
       "      <td>helpshift.com</td>\n",
       "      <td>onetrust</td>\n",
       "      <td>en.json</td>\n",
       "      <td>False</td>\n",
       "    </tr>\n",
       "    <tr>\n",
       "      <th>1</th>\n",
       "      <td>_gid</td>\n",
       "      <td>helpshift.com</td>\n",
       "      <td>1 days</td>\n",
       "      <td>C0002</td>\n",
       "      <td>Performance Cookies</td>\n",
       "      <td>inactive</td>\n",
       "      <td>helpshift.com</td>\n",
       "      <td>onetrust</td>\n",
       "      <td>en.json</td>\n",
       "      <td>False</td>\n",
       "    </tr>\n",
       "    <tr>\n",
       "      <th>2</th>\n",
       "      <td>blog_glossary_page</td>\n",
       "      <td>helpshift.com</td>\n",
       "      <td>7 days</td>\n",
       "      <td>C0002</td>\n",
       "      <td>Performance Cookies</td>\n",
       "      <td>inactive</td>\n",
       "      <td>helpshift.com</td>\n",
       "      <td>onetrust</td>\n",
       "      <td>en.json</td>\n",
       "      <td>False</td>\n",
       "    </tr>\n",
       "    <tr>\n",
       "      <th>3</th>\n",
       "      <td>__utma</td>\n",
       "      <td>helpshift.com</td>\n",
       "      <td>730 days</td>\n",
       "      <td>C0002</td>\n",
       "      <td>Performance Cookies</td>\n",
       "      <td>inactive</td>\n",
       "      <td>helpshift.com</td>\n",
       "      <td>onetrust</td>\n",
       "      <td>en.json</td>\n",
       "      <td>False</td>\n",
       "    </tr>\n",
       "    <tr>\n",
       "      <th>4</th>\n",
       "      <td>_ga</td>\n",
       "      <td>helpshift.com</td>\n",
       "      <td>730 days</td>\n",
       "      <td>C0002</td>\n",
       "      <td>Performance Cookies</td>\n",
       "      <td>inactive</td>\n",
       "      <td>helpshift.com</td>\n",
       "      <td>onetrust</td>\n",
       "      <td>en.json</td>\n",
       "      <td>False</td>\n",
       "    </tr>\n",
       "  </tbody>\n",
       "</table>\n",
       "</div>"
      ],
      "text/plain": [
       "                 name            domain  duration category_id  \\\n",
       "0              s-9da4  go.helpshift.com    7 days       C0002   \n",
       "1                _gid     helpshift.com    1 days       C0002   \n",
       "2  blog_glossary_page     helpshift.com    7 days       C0002   \n",
       "3              __utma     helpshift.com  730 days       C0002   \n",
       "4                 _ga     helpshift.com  730 days       C0002   \n",
       "\n",
       "              category consent_mode           site  lib_name pattern_name  \\\n",
       "0  Performance Cookies     inactive  helpshift.com  onetrust      en.json   \n",
       "1  Performance Cookies     inactive  helpshift.com  onetrust      en.json   \n",
       "2  Performance Cookies     inactive  helpshift.com  onetrust      en.json   \n",
       "3  Performance Cookies     inactive  helpshift.com  onetrust      en.json   \n",
       "4  Performance Cookies     inactive  helpshift.com  onetrust      en.json   \n",
       "\n",
       "   consent  \n",
       "0    False  \n",
       "1    False  \n",
       "2    False  \n",
       "3    False  \n",
       "4    False  "
      ]
     },
     "execution_count": 2,
     "metadata": {},
     "output_type": "execute_result"
    }
   ],
   "source": [
    "# Get cookie prefs = cookie decls + prefs\n",
    "cookie_prefs = read_cookie_prefs_in_scans(SCAN_DIRS)\n",
    "cookie_prefs.head()"
   ]
  },
  {
   "cell_type": "code",
   "execution_count": 3,
   "metadata": {},
   "outputs": [
    {
     "name": "stdout",
     "output_type": "stream",
     "text": [
      "Sites with cookie prefs: 1361 , first 10 sites: ['10fastfingers.com', '24hourfitness.com', '24s.com', '2o7.net', '3dmark.com', '3dsystems.com', '451research.com', '4sq.com', 'ab-inbev.com', 'abbvie.com']\n"
     ]
    }
   ],
   "source": [
    "cookielist_sites = sorted(cookie_prefs.site.unique().tolist())\n",
    "n_cookielist_sites = len(cookielist_sites)\n",
    "assert cookie_prefs.site.nunique() == n_cookielist_sites\n",
    "n=10\n",
    "print(\"Sites with cookie prefs:\", n_cookielist_sites, f', first {n} sites:' , cookielist_sites[:n])"
   ]
  },
  {
   "cell_type": "code",
   "execution_count": 4,
   "metadata": {},
   "outputs": [],
   "source": [
    "# print(\"Libs in failed-to-crawl sites\")\n",
    "# errors.consent_lib_name.value_counts()"
   ]
  },
  {
   "cell_type": "code",
   "execution_count": 5,
   "metadata": {},
   "outputs": [],
   "source": [
    "# # Distribution of errors\n",
    "# from ooutil.df_util import expand_dict_col\n",
    "# ot_errs = errors[errors.consent_lib_name == 'onetrust']\n",
    "# errors_dict = pd.DataFrame(ot_errs.error.tolist()).explode('reason')\n",
    "# # Uncomment to show\n",
    "# # errors_dict.reason.value_counts()"
   ]
  },
  {
   "cell_type": "code",
   "execution_count": 6,
   "metadata": {},
   "outputs": [],
   "source": [
    "# ot_errs[ot_errs.site == 'doodle.com'].error.iloc[0]"
   ]
  },
  {
   "cell_type": "code",
   "execution_count": 7,
   "metadata": {},
   "outputs": [],
   "source": [
    "# ot_errs[ot_errs.error.str.contains('waiting for selector')]"
   ]
  },
  {
   "cell_type": "code",
   "execution_count": 8,
   "metadata": {},
   "outputs": [],
   "source": [
    "# cb_errs = errors[errors.consent_lib_name == 'cookiebot_legacy']\n",
    "# cb_errs\n",
    "# pd.DataFrame(cb_errs.error.tolist()).explode('reason')"
   ]
  },
  {
   "cell_type": "markdown",
   "metadata": {},
   "source": [
    "# Main analysis"
   ]
  },
  {
   "cell_type": "code",
   "execution_count": 9,
   "metadata": {
    "tags": []
   },
   "outputs": [
    {
     "name": "stdout",
     "output_type": "stream",
     "text": [
      "Number sent cookies read: 5,196,675\n"
     ]
    },
    {
     "data": {
      "text/html": [
       "<div>\n",
       "<style scoped>\n",
       "    .dataframe tbody tr th:only-of-type {\n",
       "        vertical-align: middle;\n",
       "    }\n",
       "\n",
       "    .dataframe tbody tr th {\n",
       "        vertical-align: top;\n",
       "    }\n",
       "\n",
       "    .dataframe thead th {\n",
       "        text-align: right;\n",
       "    }\n",
       "</style>\n",
       "<table border=\"1\" class=\"dataframe\">\n",
       "  <thead>\n",
       "    <tr style=\"text-align: right;\">\n",
       "      <th></th>\n",
       "      <th>domain</th>\n",
       "      <th>expires</th>\n",
       "      <th>httpOnly</th>\n",
       "      <th>name</th>\n",
       "      <th>path</th>\n",
       "      <th>sameSite</th>\n",
       "      <th>secure</th>\n",
       "      <th>value</th>\n",
       "      <th>request_url</th>\n",
       "      <th>site</th>\n",
       "      <th>load_start_time</th>\n",
       "      <th>load_end_time</th>\n",
       "      <th>page_url</th>\n",
       "    </tr>\n",
       "  </thead>\n",
       "  <tbody>\n",
       "    <tr>\n",
       "      <th>0</th>\n",
       "      <td>.apachefriends.org</td>\n",
       "      <td>1.629067e+09</td>\n",
       "      <td>False</td>\n",
       "      <td>_gid</td>\n",
       "      <td>/</td>\n",
       "      <td>None</td>\n",
       "      <td>False</td>\n",
       "      <td>GA1.2.720720591.1628980892</td>\n",
       "      <td>https://www.apachefriends.org/images/flags/fr-...</td>\n",
       "      <td>apachefriends.org</td>\n",
       "      <td>1.628981e+09</td>\n",
       "      <td>1.628981e+09</td>\n",
       "      <td>https://www.apachefriends.org/index.html</td>\n",
       "    </tr>\n",
       "    <tr>\n",
       "      <th>1</th>\n",
       "      <td>.apachefriends.org</td>\n",
       "      <td>1.660517e+09</td>\n",
       "      <td>False</td>\n",
       "      <td>OptanonAlertBoxClosed</td>\n",
       "      <td>/</td>\n",
       "      <td>Lax</td>\n",
       "      <td>False</td>\n",
       "      <td>2021-08-14T22:42:17.927Z</td>\n",
       "      <td>https://www.apachefriends.org/javascripts/all-...</td>\n",
       "      <td>apachefriends.org</td>\n",
       "      <td>1.628981e+09</td>\n",
       "      <td>1.628981e+09</td>\n",
       "      <td>https://www.apachefriends.org/index.html</td>\n",
       "    </tr>\n",
       "    <tr>\n",
       "      <th>2</th>\n",
       "      <td>.apachefriends.org</td>\n",
       "      <td>1.660517e+09</td>\n",
       "      <td>False</td>\n",
       "      <td>OptanonConsent</td>\n",
       "      <td>/</td>\n",
       "      <td>Lax</td>\n",
       "      <td>False</td>\n",
       "      <td>isIABGlobal=false&amp;datestamp=Sat+Aug+14+2021+22...</td>\n",
       "      <td>https://www.apachefriends.org/images/flags/fr-...</td>\n",
       "      <td>apachefriends.org</td>\n",
       "      <td>1.628981e+09</td>\n",
       "      <td>1.628981e+09</td>\n",
       "      <td>https://www.apachefriends.org/index.html</td>\n",
       "    </tr>\n",
       "  </tbody>\n",
       "</table>\n",
       "</div>"
      ],
      "text/plain": [
       "               domain       expires  httpOnly                   name path  \\\n",
       "0  .apachefriends.org  1.629067e+09     False                   _gid    /   \n",
       "1  .apachefriends.org  1.660517e+09     False  OptanonAlertBoxClosed    /   \n",
       "2  .apachefriends.org  1.660517e+09     False         OptanonConsent    /   \n",
       "\n",
       "  sameSite  secure                                              value  \\\n",
       "0     None   False                         GA1.2.720720591.1628980892   \n",
       "1      Lax   False                           2021-08-14T22:42:17.927Z   \n",
       "2      Lax   False  isIABGlobal=false&datestamp=Sat+Aug+14+2021+22...   \n",
       "\n",
       "                                         request_url               site  \\\n",
       "0  https://www.apachefriends.org/images/flags/fr-...  apachefriends.org   \n",
       "1  https://www.apachefriends.org/javascripts/all-...  apachefriends.org   \n",
       "2  https://www.apachefriends.org/images/flags/fr-...  apachefriends.org   \n",
       "\n",
       "   load_start_time  load_end_time                                  page_url  \n",
       "0     1.628981e+09   1.628981e+09  https://www.apachefriends.org/index.html  \n",
       "1     1.628981e+09   1.628981e+09  https://www.apachefriends.org/index.html  \n",
       "2     1.628981e+09   1.628981e+09  https://www.apachefriends.org/index.html  "
      ]
     },
     "execution_count": 9,
     "metadata": {},
     "output_type": "execute_result"
    }
   ],
   "source": [
    "import sys; import importlib; importlib.reload(sys.modules['consent.data.pref_menu_scan.postrej_cookie_reader'])\n",
    "from consent.data.pref_menu_scan.postrej_cookie_reader import read_postrej_sent_cookies_in_scans\n",
    "\n",
    "\n",
    "overwrite = False\n",
    "cookies_cache_file = SCAN_ROOT_DIR / 'raw_postrej_sent_cookies.parquet'\n",
    "\n",
    "if not overwrite and cookies_cache_file and cookies_cache_file.exists():\n",
    "    sent_cookies = pd.read_parquet(cookies_cache_file)\n",
    "else:\n",
    "    sent_cookies = read_postrej_sent_cookies_in_scans(SCAN_DIRS)\n",
    "    if cookies_cache_file: sent_cookies.to_parquet(cookies_cache_file); print(f\"Written to {cookies_cache_file}\")\n",
    "\n",
    "print(f\"Number sent cookies read: {len(sent_cookies):,d}\")\n",
    "sent_cookies.head(3)"
   ]
  },
  {
   "cell_type": "code",
   "execution_count": 10,
   "metadata": {},
   "outputs": [],
   "source": [
    "# prj = post-rejection\n",
    "prj_sent_cookies = sent_cookies[['domain', 'expires', 'name', 'path', 'sameSite', 'secure', 'value', 'request_url', 'site']].drop_duplicates()\n",
    "prj_br_cookies = prj_sent_cookies[['domain', 'expires', 'name', 'path', 'sameSite', 'secure', 'site']].drop_duplicates()"
   ]
  },
  {
   "cell_type": "code",
   "execution_count": 11,
   "metadata": {},
   "outputs": [
    {
     "name": "stdout",
     "output_type": "stream",
     "text": [
      "Num captured sent cookies: 5,196,675\n",
      "Num unique captured cookies: 3,128,463\n",
      "Num unique browser cookies: 75,829 on 1,360 websites and 7,750 pages\n"
     ]
    }
   ],
   "source": [
    "print(f\"Num captured sent cookies: {len(sent_cookies):,d}\")\n",
    "print(f\"Num unique captured cookies: {len(prj_sent_cookies):,d}\")\n",
    "n_br_cookies = len(prj_br_cookies)\n",
    "print(f\"Num unique browser cookies: {n_br_cookies:,d} on {prj_br_cookies.site.nunique():,d} websites and {sent_cookies.page_url.nunique():,d} pages\")"
   ]
  },
  {
   "cell_type": "markdown",
   "metadata": {},
   "source": [
    "## Analyze cookies compliance    "
   ]
  },
  {
   "cell_type": "code",
   "execution_count": 13,
   "metadata": {
    "tags": []
   },
   "outputs": [
    {
     "name": "stdout",
     "output_type": "stream",
     "text": [
      "faster: for cookie_pref in cookie_pref_set[cookie_pref_set.name == acookie['name']]:\n"
     ]
    },
    {
     "name": "stderr",
     "output_type": "stream",
     "text": [
      "  0%|          | 5/1361 [00:02<14:09,  1.60it/s]"
     ]
    },
    {
     "name": "stdout",
     "output_type": "stream",
     "text": [
      "Contradictory set: site='ulta.com' contra_set={{'domain': 'ulta.com', 'name': '_schn'}}\n"
     ]
    },
    {
     "name": "stderr",
     "output_type": "stream",
     "text": [
      "  2%|▏         | 21/1361 [00:10<12:52,  1.73it/s]"
     ]
    },
    {
     "name": "stdout",
     "output_type": "stream",
     "text": [
      "Contradictory set: site='suse.com' contra_set={{'domain': 'scc.suse.com', 'name': '_glue_session'}, {'domain': 'buy.suse.com', 'name': 'AWSELB'}}\n"
     ]
    },
    {
     "name": "stderr",
     "output_type": "stream",
     "text": [
      "  3%|▎         | 37/1361 [00:18<09:14,  2.39it/s]"
     ]
    },
    {
     "name": "stdout",
     "output_type": "stream",
     "text": [
      "Contradictory set: site='optimizely.com' contra_set={{'domain': 'optimizely.com', 'name': '__tld__'}}\n"
     ]
    },
    {
     "name": "stderr",
     "output_type": "stream",
     "text": [
      "  3%|▎         | 39/1361 [00:18<07:19,  3.01it/s]"
     ]
    },
    {
     "name": "stdout",
     "output_type": "stream",
     "text": [
      "Contradictory set: site='cell.com' contra_set={{'domain': 'hubspot.net', 'name': '__cfduid'}}\n"
     ]
    },
    {
     "name": "stderr",
     "output_type": "stream",
     "text": [
      "  4%|▍         | 58/1361 [00:26<09:52,  2.20it/s]"
     ]
    },
    {
     "name": "stdout",
     "output_type": "stream",
     "text": [
      "Contradictory set: site='ebsco.com' contra_set={{'domain': 'connect.ebsco.com', 'name': 'pctrk'}}\n"
     ]
    },
    {
     "name": "stderr",
     "output_type": "stream",
     "text": [
      "  4%|▍         | 61/1361 [00:29<16:26,  1.32it/s]"
     ]
    },
    {
     "name": "stdout",
     "output_type": "stream",
     "text": [
      "Contradictory set: site='adobeconnect.com' contra_set={{'domain': 'app-aba.marketo.com', 'name': '__cf_bm'}, {'domain': 'app-sj16.marketo.com', 'name': '__cfduid'}}\n"
     ]
    },
    {
     "name": "stderr",
     "output_type": "stream",
     "text": [
      "  5%|▍         | 62/1361 [00:29<13:20,  1.62it/s]"
     ]
    },
    {
     "name": "stdout",
     "output_type": "stream",
     "text": [
      "Contradictory set: site='returnpath.net' contra_set={{'domain': 'app.jazz.co', 'name': 'SF_PHPSESSID'}, {'domain': 'community.validity.com', 'name': 'cookieTest'}}\n"
     ]
    },
    {
     "name": "stderr",
     "output_type": "stream",
     "text": [
      "  6%|▌         | 76/1361 [00:34<09:45,  2.19it/s]"
     ]
    },
    {
     "name": "stdout",
     "output_type": "stream",
     "text": [
      "Contradictory set: site='aon.com' contra_set={{'domain': 'sleeknotestaticcontent.sleeknote.com', 'name': 'SNS'}, {'domain': 'insights.humancapital.aon.com', 'name': 'ufentry'}}\n"
     ]
    },
    {
     "name": "stderr",
     "output_type": "stream",
     "text": [
      "  6%|▌         | 83/1361 [00:37<07:48,  2.73it/s]"
     ]
    },
    {
     "name": "stdout",
     "output_type": "stream",
     "text": [
      "Contradictory set: site='statista.com' contra_set={{'domain': 'm6r.eu', 'name': 'id'}}\n"
     ]
    },
    {
     "name": "stderr",
     "output_type": "stream",
     "text": [
      "  6%|▋         | 88/1361 [00:38<07:10,  2.96it/s]"
     ]
    },
    {
     "name": "stdout",
     "output_type": "stream",
     "text": [
      "Contradictory set: site='currys.co.uk' contra_set={{'domain': 'www.currys.co.uk', 'name': 'cookietest'}}\n"
     ]
    },
    {
     "name": "stderr",
     "output_type": "stream",
     "text": [
      "  7%|▋         | 92/1361 [00:43<23:46,  1.12s/it]"
     ]
    },
    {
     "name": "stdout",
     "output_type": "stream",
     "text": [
      "Contradictory set: site='meraki.com' contra_set={{'domain': 'cisco.com', 'name': '_vapi'}}\n"
     ]
    },
    {
     "name": "stderr",
     "output_type": "stream",
     "text": [
      "  7%|▋         | 94/1361 [00:49<45:30,  2.16s/it]"
     ]
    },
    {
     "name": "stdout",
     "output_type": "stream",
     "text": [
      "Contradictory set: site='magentocommerce.com' contra_set={{'domain': 'app-sj16.marketo.com', 'name': '__cfduid'}}\n"
     ]
    },
    {
     "name": "stderr",
     "output_type": "stream",
     "text": [
      "  7%|▋         | 98/1361 [00:52<22:53,  1.09s/it]"
     ]
    },
    {
     "name": "stdout",
     "output_type": "stream",
     "text": [
      "Contradictory set: site='betfair.com' contra_set={{'domain': 'lpcdn.lpsnmedia.net', 'name': 'lpTestCookiennnnnnnn'}, {'domain': 'support.betfair.com', 'name': 'lpTestCookiennnnnnnn'}}\n"
     ]
    },
    {
     "name": "stderr",
     "output_type": "stream",
     "text": [
      "  7%|▋         | 99/1361 [00:55<31:48,  1.51s/it]"
     ]
    },
    {
     "name": "stdout",
     "output_type": "stream",
     "text": [
      "Contradictory set: site='vmware.com' contra_set={{'domain': 'communities.vmware.com', 'name': 'LithiumCookiesAccepted'}, {'domain': 'communities.vmware.com', 'name': 'VISITOR_BEACON'}}\n"
     ]
    },
    {
     "name": "stderr",
     "output_type": "stream",
     "text": [
      "  7%|▋         | 101/1361 [00:56<20:23,  1.03it/s]"
     ]
    },
    {
     "name": "stdout",
     "output_type": "stream",
     "text": [
      "Contradictory set: site='frontiersin.org' contra_set={{'domain': 'zendesk.frontiersin.org', 'name': 'cf_chl_seq_xxxxxxxxxxxxxxx'}}\n"
     ]
    },
    {
     "name": "stderr",
     "output_type": "stream",
     "text": [
      "  8%|▊         | 107/1361 [00:58<09:18,  2.25it/s]"
     ]
    },
    {
     "name": "stdout",
     "output_type": "stream",
     "text": [
      "Contradictory set: site='demdex.net' contra_set={{'domain': 'app-aba.marketo.com', 'name': '__cf_bm'}, {'domain': 'app-sj16.marketo.com', 'name': '__cfduid'}}\n"
     ]
    },
    {
     "name": "stderr",
     "output_type": "stream",
     "text": [
      "  8%|▊         | 113/1361 [01:06<37:27,  1.80s/it]"
     ]
    },
    {
     "name": "stdout",
     "output_type": "stream",
     "text": [
      "Contradictory set: site='magento.com' contra_set={{'domain': 'app-sj16.marketo.com', 'name': '__cfduid'}}\n"
     ]
    },
    {
     "name": "stderr",
     "output_type": "stream",
     "text": [
      "  9%|▊         | 116/1361 [01:07<16:50,  1.23it/s]"
     ]
    },
    {
     "name": "stdout",
     "output_type": "stream",
     "text": [
      "Contradictory set: site='gmu.edu' contra_set={{'domain': '25livepub.collegenet.com', 'name': 'BIGipServerp-web.25livepub-web.collegenet.com-get'}}\n"
     ]
    },
    {
     "name": "stderr",
     "output_type": "stream",
     "text": [
      " 10%|▉         | 131/1361 [01:15<12:55,  1.59it/s]"
     ]
    },
    {
     "name": "stdout",
     "output_type": "stream",
     "text": [
      "Contradictory set: site='2o7.net' contra_set={{'domain': 'app-aba.marketo.com', 'name': '__cf_bm'}, {'domain': 'app-sj16.marketo.com', 'name': '__cfduid'}}\n"
     ]
    },
    {
     "name": "stderr",
     "output_type": "stream",
     "text": [
      "100%|██████████| 1361/1361 [10:24<00:00,  2.18it/s]\n"
     ]
    },
    {
     "data": {
      "text/html": [
       "<div>\n",
       "<style scoped>\n",
       "    .dataframe tbody tr th:only-of-type {\n",
       "        vertical-align: middle;\n",
       "    }\n",
       "\n",
       "    .dataframe tbody tr th {\n",
       "        vertical-align: top;\n",
       "    }\n",
       "\n",
       "    .dataframe thead th {\n",
       "        text-align: right;\n",
       "    }\n",
       "</style>\n",
       "<table border=\"1\" class=\"dataframe\">\n",
       "  <thead>\n",
       "    <tr style=\"text-align: right;\">\n",
       "      <th></th>\n",
       "      <th>domain</th>\n",
       "      <th>expires</th>\n",
       "      <th>name</th>\n",
       "      <th>path</th>\n",
       "      <th>sameSite</th>\n",
       "      <th>secure</th>\n",
       "      <th>value</th>\n",
       "      <th>request_url</th>\n",
       "      <th>site</th>\n",
       "      <th>comply</th>\n",
       "    </tr>\n",
       "  </thead>\n",
       "  <tbody>\n",
       "    <tr>\n",
       "      <th>0</th>\n",
       "      <td>.helpshift.com</td>\n",
       "      <td>1.628898e+09</td>\n",
       "      <td>content</td>\n",
       "      <td>/</td>\n",
       "      <td>None</td>\n",
       "      <td>False</td>\n",
       "      <td>undefined</td>\n",
       "      <td>https://www.helpshift.com/legal/privacy/</td>\n",
       "      <td>helpshift.com</td>\n",
       "      <td>omit</td>\n",
       "    </tr>\n",
       "    <tr>\n",
       "      <th>1</th>\n",
       "      <td>.helpshift.com</td>\n",
       "      <td>1.628898e+09</td>\n",
       "      <td>_gid</td>\n",
       "      <td>/</td>\n",
       "      <td>None</td>\n",
       "      <td>False</td>\n",
       "      <td>GA1.2.1458316132.1628811394</td>\n",
       "      <td>https://www.helpshift.com/legal/privacy/</td>\n",
       "      <td>helpshift.com</td>\n",
       "      <td>incorrect</td>\n",
       "    </tr>\n",
       "    <tr>\n",
       "      <th>2</th>\n",
       "      <td>.helpshift.com</td>\n",
       "      <td>1.628898e+09</td>\n",
       "      <td>content</td>\n",
       "      <td>/</td>\n",
       "      <td>None</td>\n",
       "      <td>False</td>\n",
       "      <td>undefined</td>\n",
       "      <td>https://go.helpshift.com/js/forms2/js/forms2.m...</td>\n",
       "      <td>helpshift.com</td>\n",
       "      <td>omit</td>\n",
       "    </tr>\n",
       "    <tr>\n",
       "      <th>3</th>\n",
       "      <td>.helpshift.com</td>\n",
       "      <td>1.628812e+09</td>\n",
       "      <td>_gat_UA-97262315-1</td>\n",
       "      <td>/</td>\n",
       "      <td>None</td>\n",
       "      <td>False</td>\n",
       "      <td>1</td>\n",
       "      <td>https://cdn.helpshift.com/wp-content/litespeed...</td>\n",
       "      <td>helpshift.com</td>\n",
       "      <td>omit</td>\n",
       "    </tr>\n",
       "    <tr>\n",
       "      <th>4</th>\n",
       "      <td>.helpshift.com</td>\n",
       "      <td>1.660347e+09</td>\n",
       "      <td>OptanonConsent</td>\n",
       "      <td>/</td>\n",
       "      <td>Lax</td>\n",
       "      <td>False</td>\n",
       "      <td>isIABGlobal=false&amp;datestamp=Thu+Aug+12+2021+23...</td>\n",
       "      <td>https://www.helpshift.com/wp-content/litespeed...</td>\n",
       "      <td>helpshift.com</td>\n",
       "      <td>omit</td>\n",
       "    </tr>\n",
       "  </tbody>\n",
       "</table>\n",
       "</div>"
      ],
      "text/plain": [
       "           domain       expires                name path sameSite  secure  \\\n",
       "0  .helpshift.com  1.628898e+09             content    /     None   False   \n",
       "1  .helpshift.com  1.628898e+09                _gid    /     None   False   \n",
       "2  .helpshift.com  1.628898e+09             content    /     None   False   \n",
       "3  .helpshift.com  1.628812e+09  _gat_UA-97262315-1    /     None   False   \n",
       "4  .helpshift.com  1.660347e+09      OptanonConsent    /      Lax   False   \n",
       "\n",
       "                                               value  \\\n",
       "0                                          undefined   \n",
       "1                        GA1.2.1458316132.1628811394   \n",
       "2                                          undefined   \n",
       "3                                                  1   \n",
       "4  isIABGlobal=false&datestamp=Thu+Aug+12+2021+23...   \n",
       "\n",
       "                                         request_url           site     comply  \n",
       "0           https://www.helpshift.com/legal/privacy/  helpshift.com       omit  \n",
       "1           https://www.helpshift.com/legal/privacy/  helpshift.com  incorrect  \n",
       "2  https://go.helpshift.com/js/forms2/js/forms2.m...  helpshift.com       omit  \n",
       "3  https://cdn.helpshift.com/wp-content/litespeed...  helpshift.com       omit  \n",
       "4  https://www.helpshift.com/wp-content/litespeed...  helpshift.com       omit  "
      ]
     },
     "execution_count": 13,
     "metadata": {},
     "output_type": "execute_result"
    }
   ],
   "source": [
    "# Map intercepted cookies to browser cookies.\n",
    "import sys; import importlib; importlib.reload(sys.modules['consent.consistency.cookie_pref_match'])\n",
    "from consent.consistency.cookie_pref_match import cookie_pref_match\n",
    "\n",
    "site_to_contras = {}  # TODO: make this to non-global one.\n",
    "\n",
    "def check_in_set(site, acookie, cookie_pref_set, verbose=0):\n",
    "    # check_url_host_match = relax_check_url_host_match # strict_check_url_host_match\n",
    "    # Faster here.\n",
    "    for cookie_pref in cookie_pref_set:\n",
    "        if verbose >= 3:\n",
    "            print(f'{cookie_pref=} {acookie=}')\n",
    "        elif verbose >= 2:\n",
    "            if cookie_pref['name'] == acookie['name']:\n",
    "                print(f'{cookie_pref=} {acookie=}')\n",
    "        \n",
    "        if cookie_pref_match(acookie, cookie_pref, site):\n",
    "            return True\n",
    "    return False\n",
    "\n",
    "\n",
    "def comply_check(site, acookie, appr_set, rej_set):\n",
    "    is_appr = check_in_set(site, acookie, appr_set)\n",
    "    is_rej = check_in_set(site, acookie, rej_set)\n",
    "    if is_appr and not is_rej:\n",
    "        return 'comply'\n",
    "    elif not is_appr and is_rej:\n",
    "        return 'incorrect'\n",
    "    elif not is_appr and not is_rej:\n",
    "        return 'omit'\n",
    "    else:\n",
    "        return 'ambiguous'\n",
    "\n",
    "\n",
    "def get_appr_rej_sets(prefs):\n",
    "    \"\"\"Return 2 sets: appr and rejection.\"\"\"\n",
    "    def get_hashable_cookie_set(df):\n",
    "        cookies = df[['domain', 'name']].to_dict('records')\n",
    "        return set(hashabledict(c) for c in cookies)\n",
    "    \n",
    "    appr_set = get_hashable_cookie_set(prefs[prefs.consent == True])\n",
    "    rej_set = get_hashable_cookie_set(prefs[prefs.consent == False])\n",
    "    assert len(prefs[~prefs.consent.isin([True, False])]) == 0\n",
    "    \n",
    "    contra_set = appr_set.intersection(rej_set)\n",
    "\n",
    "    return appr_set, rej_set, contra_set\n",
    "\n",
    "\n",
    "def _get_comply_for_site(site, prefs, sent_cookies):\n",
    "    appr_set, rej_set, contra_set = get_appr_rej_sets(prefs)\n",
    "    comply_results = []\n",
    "    for sent_cookie in sent_cookies:\n",
    "        comply = comply_check(site, sent_cookie, appr_set, rej_set)\n",
    "        comply_result = sent_cookie.copy()\n",
    "        comply_result.update({'comply': comply, 'site': site})\n",
    "        comply_results.append(comply_result)\n",
    "    if len(contra_set) > 0:\n",
    "        site_to_contras[site] = contra_set\n",
    "        if len(site_to_contras) < 20: # Print some of the contra to see the progress only\n",
    "            print(f'Contradictory set: {site=} {contra_set=}')    \n",
    "    return comply_results\n",
    "\n",
    "def get_comply_for_sites(args, sites, parallel=False):\n",
    "    if parallel: # not work, maybe bottleneck is the transfer of a big data frame.\n",
    "        pool = Pool(32)\n",
    "        for result in pool.starmap(_get_comply_for_site, args):\n",
    "            yield result\n",
    "    else:\n",
    "        for arg in tqdm(args, total=len(sites)):\n",
    "            yield _get_comply_for_site(*arg)\n",
    "            \n",
    "def get_compute_args(sites, cookie_prefs, prj_sent_cookies):\n",
    "    #     return [(site, cookie_prefs, prj_sent_cookies) for site in sites]\n",
    "    for site in sites:\n",
    "        site_cookie_prefs = cookie_prefs[cookie_prefs.site == site]\n",
    "        site_prj_sent_cookies = prj_sent_cookies[prj_sent_cookies.site == site].to_dict('records')   \n",
    "        yield site, site_cookie_prefs, site_prj_sent_cookies\n",
    "            \n",
    "def get_comply(cookie_prefs, prj_sent_cookies):\n",
    "    sites = cookie_prefs.site.unique() # .tolist()\n",
    "#     sites = ['suse.com', 'ulta.com', 'optimizely.com', 'cell.com']\n",
    "    args = get_compute_args(sites, cookie_prefs, prj_sent_cookies)\n",
    "    \n",
    "    comply_results = []    \n",
    "    for complies_for_site in get_comply_for_sites(args, sites, parallel=False):\n",
    "        comply_results.extend(complies_for_site)\n",
    "        \n",
    "    return pd.DataFrame(comply_results)\n",
    "    \n",
    "# Try to drop duplicates to see any difference in result.\n",
    "cookie_prefs = cookie_prefs.drop_duplicates()\n",
    "prj_sent_cookies = prj_sent_cookies.drop_duplicates()\n",
    "\n",
    "print(\"faster: for cookie_pref in cookie_pref_set[cookie_pref_set.name == acookie['name']]:\")\n",
    "all_complies = get_comply(cookie_prefs, prj_sent_cookies)\n",
    "all_complies.head()"
   ]
  },
  {
   "cell_type": "code",
   "execution_count": 16,
   "metadata": {},
   "outputs": [
    {
     "name": "stdout",
     "output_type": "stream",
     "text": [
      "Written 3120260 records of all_complies to /mnt/sda/ducbui/Dropbox/Dropbox (University of Michigan)/projects/data_sync/consent/2021-08-12/all_complies.parquet\n"
     ]
    }
   ],
   "source": [
    "# Record the analysis results\n",
    "all_complies_file = SCAN_ROOT_DIR / 'all_complies.parquet'\n",
    "all_complies.to_parquet(all_complies_file); print(f\"Written {len(all_complies):,d} records of all_complies to {all_complies_file}\")"
   ]
  },
  {
   "cell_type": "code",
   "execution_count": 14,
   "metadata": {},
   "outputs": [
    {
     "data": {
      "text/plain": [
       "140"
      ]
     },
     "execution_count": 14,
     "metadata": {},
     "output_type": "execute_result"
    }
   ],
   "source": [
    "detected_contra_sites = [s for s, contras in site_to_contras.items() if len(contras) > 0]; len(detected_contra_sites)"
   ]
  },
  {
   "cell_type": "code",
   "execution_count": 15,
   "metadata": {},
   "outputs": [
    {
     "data": {
      "text/plain": [
       "1355"
      ]
     },
     "execution_count": 15,
     "metadata": {},
     "output_type": "execute_result"
    }
   ],
   "source": [
    "nsites = all_complies.site.nunique(); nsites"
   ]
  },
  {
   "cell_type": "code",
   "execution_count": 16,
   "metadata": {},
   "outputs": [
    {
     "data": {
      "text/plain": [
       "omit         21863\n",
       "incorrect    13857\n",
       "comply        8290\n",
       "ambiguous      116\n",
       "Name: comply, dtype: int64"
      ]
     },
     "execution_count": 16,
     "metadata": {},
     "output_type": "execute_result"
    }
   ],
   "source": [
    "complies = all_complies[ ['name', 'domain', 'site', 'comply',]].drop_duplicates()\n",
    "comply_counts = complies.comply.value_counts()\n",
    "comply_counts"
   ]
  },
  {
   "cell_type": "code",
   "execution_count": 17,
   "metadata": {},
   "outputs": [],
   "source": [
    "def get_site_comply_type(site_complies):\n",
    "    assert site_complies.site.nunique() == 1\n",
    "    site = site_complies.site.unique()[0]\n",
    "    site_comply_counts = site_complies.comply.value_counts().to_dict()\n",
    "    if all(site_comply_counts.get(cp_type, 0) == 0 for cp_type in ['omit', 'incorrect', 'ambiguous']):\n",
    "        assert site_comply_counts.get('comply', 0) > 0, f'{site} has no comply cookie flows'\n",
    "        return 'comply'\n",
    "    if site_comply_counts.get('incorrect', 0) > 0:\n",
    "        return 'incorrect'\n",
    "    if site_comply_counts.get('omit', 0) > 0:\n",
    "        return 'exp_omit'\n",
    "    if site_comply_counts.get('ambiguous', 0) > 0:\n",
    "        return 'exp_ambiguous'    \n",
    "    return None\n",
    "        \n",
    "def get_comply_sites(complies_df):\n",
    "    site_comply_data = []\n",
    "    for site in all_complies.site.unique():\n",
    "        site_complies_df = complies_df[ complies_df.site == site ]\n",
    "        site_comply_data.append({\n",
    "            'site': site,\n",
    "            'comply': get_site_comply_type(site_complies_df)\n",
    "        })\n",
    "    return pd.DataFrame(site_comply_data)\n",
    "\n",
    "site_comly_df = get_comply_sites(complies)        "
   ]
  },
  {
   "cell_type": "code",
   "execution_count": 18,
   "metadata": {},
   "outputs": [
    {
     "data": {
      "text/plain": [
       "incorrect    1126\n",
       "exp_omit      169\n",
       "comply         60\n",
       "Name: comply, dtype: int64"
      ]
     },
     "execution_count": 18,
     "metadata": {},
     "output_type": "execute_result"
    }
   ],
   "source": [
    "# only consider incorrect and comply\n",
    "site_comply_counts = site_comly_df.comply.value_counts()\n",
    "site_comply_counts "
   ]
  },
  {
   "cell_type": "code",
   "execution_count": 19,
   "metadata": {},
   "outputs": [
    {
     "data": {
      "text/html": [
       "<div>\n",
       "<style scoped>\n",
       "    .dataframe tbody tr th:only-of-type {\n",
       "        vertical-align: middle;\n",
       "    }\n",
       "\n",
       "    .dataframe tbody tr th {\n",
       "        vertical-align: top;\n",
       "    }\n",
       "\n",
       "    .dataframe thead th {\n",
       "        text-align: right;\n",
       "    }\n",
       "</style>\n",
       "<table border=\"1\" class=\"dataframe\">\n",
       "  <thead>\n",
       "    <tr style=\"text-align: right;\">\n",
       "      <th></th>\n",
       "      <th>comply_type</th>\n",
       "      <th>num_sites</th>\n",
       "      <th>num_sites_percent</th>\n",
       "      <th>num_cookies</th>\n",
       "      <th>num_cookies_percent</th>\n",
       "      <th>num_cookies_per_site</th>\n",
       "    </tr>\n",
       "  </thead>\n",
       "  <tbody>\n",
       "    <tr>\n",
       "      <th>3</th>\n",
       "      <td>omit</td>\n",
       "      <td>1230</td>\n",
       "      <td>90.774908</td>\n",
       "      <td>21863</td>\n",
       "      <td>28.831977</td>\n",
       "      <td>17.774797</td>\n",
       "    </tr>\n",
       "    <tr>\n",
       "      <th>2</th>\n",
       "      <td>incorrect</td>\n",
       "      <td>1126</td>\n",
       "      <td>83.099631</td>\n",
       "      <td>13857</td>\n",
       "      <td>18.274011</td>\n",
       "      <td>12.306394</td>\n",
       "    </tr>\n",
       "    <tr>\n",
       "      <th>1</th>\n",
       "      <td>comply</td>\n",
       "      <td>60</td>\n",
       "      <td>4.428044</td>\n",
       "      <td>8290</td>\n",
       "      <td>10.932493</td>\n",
       "      <td>138.166667</td>\n",
       "    </tr>\n",
       "    <tr>\n",
       "      <th>0</th>\n",
       "      <td>ambiguous</td>\n",
       "      <td>52</td>\n",
       "      <td>3.837638</td>\n",
       "      <td>116</td>\n",
       "      <td>0.152976</td>\n",
       "      <td>2.230769</td>\n",
       "    </tr>\n",
       "  </tbody>\n",
       "</table>\n",
       "</div>"
      ],
      "text/plain": [
       "  comply_type  num_sites  num_sites_percent  num_cookies  num_cookies_percent  \\\n",
       "3        omit       1230          90.774908        21863            28.831977   \n",
       "2   incorrect       1126          83.099631        13857            18.274011   \n",
       "1      comply         60           4.428044         8290            10.932493   \n",
       "0   ambiguous         52           3.837638          116             0.152976   \n",
       "\n",
       "   num_cookies_per_site  \n",
       "3             17.774797  \n",
       "2             12.306394  \n",
       "1            138.166667  \n",
       "0              2.230769  "
      ]
     },
     "execution_count": 19,
     "metadata": {},
     "output_type": "execute_result"
    }
   ],
   "source": [
    "comply_sites_data = defaultdict(list)\n",
    "for comply_type, group in complies.groupby('comply'):\n",
    "    if comply_type in ['incorrect', 'comply']:\n",
    "        n_sites = site_comply_counts.to_dict().get(comply_type, 0)\n",
    "    else:\n",
    "        n_sites = group.site.nunique()\n",
    "    comply_sites_data['comply_type'].append(comply_type)\n",
    "    comply_sites_data['num_sites'].append(n_sites)\n",
    "\n",
    "    comply_sites = pd.DataFrame(comply_sites_data).sort_values(by=['num_sites'], ascending=False)\n",
    "    \n",
    "\n",
    "comply_sites['num_sites_percent'] = comply_sites['num_sites'] / nsites * 100\n",
    "comply_sites['num_cookies'] = comply_sites['comply_type'].map(comply_counts)\n",
    "comply_sites['num_cookies_percent'] = comply_sites['num_cookies'] / n_br_cookies * 100\n",
    "comply_sites['num_cookies_per_site'] = comply_sites['num_cookies'] / comply_sites['num_sites'] \n",
    "\n",
    "noncomply_sites = comply_sites[comply_sites.comply_type != 'comply']\n",
    "comply_sites"
   ]
  },
  {
   "cell_type": "code",
   "execution_count": 19,
   "metadata": {},
   "outputs": [
    {
     "name": "stdout",
     "output_type": "stream",
     "text": [
      "\\begin{tabular}{lrl}\n",
      "\\toprule\n",
      " (Non)compliance Type &  \\# Cookies &         \\# Websites \\\\\n",
      "\\midrule\n",
      "   Omitted Preference &      21863 & 90.77\\% (1230/1361) \\\\\n",
      "Incorrect Enforcement &      13857 & 83.10\\% (1126/1361) \\\\\n",
      " Complied Enforcement &       8290 &    4.43\\% (60/1361) \\\\\n",
      "Ambiguous Enforcement &        116 &    3.84\\% (52/1361) \\\\\n",
      "\\bottomrule\n",
      "\\end{tabular}\n",
      "\n"
     ]
    }
   ],
   "source": [
    "latex = comply_sites[['comply_type', 'num_cookies', 'num_sites', 'num_sites_percent']].copy()\n",
    "# latex['num_sites_combine'] = latex.apply(lambda row: f\"{row['num_sites']} ({row['num_sites_percent']:.2f}%)\", axis=1)\n",
    "latex['num_sites_combine'] = latex.apply(lambda row: f\"{row['num_sites_percent']:.2f}% ({row['num_sites']}/{n_cookielist_sites})\", axis=1)\n",
    "latex = latex[['comply_type', 'num_cookies', 'num_sites_combine']]\n",
    "latex = latex.rename(columns={'comply_type': '(Non)compliance Type', 'num_sites_combine': '# Websites', 'num_cookies': '# Cookies'})\n",
    "latex = latex.replace({'omit': \"Omitted Preference\", \"incorrect\": \"Incorrect Enforcement\", \"ambiguous\": \"Ambiguous Enforcement\", \"comply\": \"Complied Enforcement\"})\n",
    "print(latex.to_latex(index=False))"
   ]
  },
  {
   "cell_type": "markdown",
   "metadata": {},
   "source": [
    "# Analyze contras"
   ]
  },
  {
   "cell_type": "code",
   "execution_count": 20,
   "metadata": {},
   "outputs": [
    {
     "data": {
      "text/html": [
       "<div>\n",
       "<style scoped>\n",
       "    .dataframe tbody tr th:only-of-type {\n",
       "        vertical-align: middle;\n",
       "    }\n",
       "\n",
       "    .dataframe tbody tr th {\n",
       "        vertical-align: top;\n",
       "    }\n",
       "\n",
       "    .dataframe thead th {\n",
       "        text-align: right;\n",
       "    }\n",
       "</style>\n",
       "<table border=\"1\" class=\"dataframe\">\n",
       "  <thead>\n",
       "    <tr style=\"text-align: right;\">\n",
       "      <th></th>\n",
       "      <th>domain</th>\n",
       "      <th>name</th>\n",
       "      <th>site</th>\n",
       "    </tr>\n",
       "  </thead>\n",
       "  <tbody>\n",
       "    <tr>\n",
       "      <th>0</th>\n",
       "      <td>ulta.com</td>\n",
       "      <td>_schn</td>\n",
       "      <td>ulta.com</td>\n",
       "    </tr>\n",
       "    <tr>\n",
       "      <th>1</th>\n",
       "      <td>scc.suse.com</td>\n",
       "      <td>_glue_session</td>\n",
       "      <td>suse.com</td>\n",
       "    </tr>\n",
       "    <tr>\n",
       "      <th>2</th>\n",
       "      <td>buy.suse.com</td>\n",
       "      <td>AWSELB</td>\n",
       "      <td>suse.com</td>\n",
       "    </tr>\n",
       "    <tr>\n",
       "      <th>3</th>\n",
       "      <td>optimizely.com</td>\n",
       "      <td>__tld__</td>\n",
       "      <td>optimizely.com</td>\n",
       "    </tr>\n",
       "    <tr>\n",
       "      <th>4</th>\n",
       "      <td>hubspot.net</td>\n",
       "      <td>__cfduid</td>\n",
       "      <td>cell.com</td>\n",
       "    </tr>\n",
       "  </tbody>\n",
       "</table>\n",
       "</div>"
      ],
      "text/plain": [
       "           domain           name            site\n",
       "0        ulta.com          _schn        ulta.com\n",
       "1    scc.suse.com  _glue_session        suse.com\n",
       "2    buy.suse.com         AWSELB        suse.com\n",
       "3  optimizely.com        __tld__  optimizely.com\n",
       "4     hubspot.net       __cfduid        cell.com"
      ]
     },
     "execution_count": 20,
     "metadata": {},
     "output_type": "execute_result"
    }
   ],
   "source": [
    "# Way 1: compute contra sites by dynamic analysis: this should be lower than statically analyzing prefs\n",
    "# because we cannot check all combinations of consent modes.\n",
    "contra_data = []\n",
    "for asite in cookie_prefs.site.unique():\n",
    "    site_prefs = cookie_prefs[cookie_prefs.site == asite]\n",
    "    _, _, contras = get_appr_rej_sets(site_prefs)\n",
    "    for contra in contras:\n",
    "        contra['site'] = asite\n",
    "        contra_data.append(contra)\n",
    "contra_sites = pd.DataFrame(contra_data)\n",
    "contra_sites.head()"
   ]
  },
  {
   "cell_type": "code",
   "execution_count": 71,
   "metadata": {},
   "outputs": [],
   "source": [
    "assert set(detected_contra_sites) == set(contra_sites.site), \"this is the same method with above, so the result\""
   ]
  },
  {
   "cell_type": "code",
   "execution_count": 23,
   "metadata": {},
   "outputs": [],
   "source": [
    "# Way 2: compute contra sites by DataFrame group by\n",
    "contra_cookies_dfs = []\n",
    "for _, same_cookies in cookie_prefs.groupby(['name', 'domain', 'site']):\n",
    "    consent_modes = same_cookies.consent_mode.unique()\n",
    "    if len(consent_modes) >= 2 and same_cookies.category.nunique() > 1: # and 'always active' in consent_modes:\n",
    "        contra_cookies_dfs.append(same_cookies)\n",
    "contra_cookies = pd.concat(contra_cookies_dfs).drop_duplicates()"
   ]
  },
  {
   "cell_type": "code",
   "execution_count": 24,
   "metadata": {},
   "outputs": [
    {
     "data": {
      "text/plain": [
       "{'elsevier.nl', 'scirus.com'}"
      ]
     },
     "execution_count": 24,
     "metadata": {},
     "output_type": "execute_result"
    }
   ],
   "source": [
    "set(contra_cookies.site) - set(contra_sites.site)"
   ]
  },
  {
   "cell_type": "code",
   "execution_count": 76,
   "metadata": {},
   "outputs": [
    {
     "name": "stdout",
     "output_type": "stream",
     "text": [
      "Num contra cookie settings (both categories): 434 settings  on 142 sites\n",
      "Contras with 1 always-active: 140\n",
      "Contras with both editable: 2\n"
     ]
    }
   ],
   "source": [
    "print(\"Num contra cookie settings (double categories):\", len(contra_cookies), f\"settings  on {contra_cookies.site.nunique()} sites\")\n",
    "print(\"Contras with 1 always-active:\", contra_sites.site.nunique())\n",
    "print(\"Contras with both editable:\", len(set(contra_cookies.site) - set(contra_sites.site)))"
   ]
  },
  {
   "cell_type": "code",
   "execution_count": 26,
   "metadata": {},
   "outputs": [
    {
     "data": {
      "text/html": [
       "<div>\n",
       "<style scoped>\n",
       "    .dataframe tbody tr th:only-of-type {\n",
       "        vertical-align: middle;\n",
       "    }\n",
       "\n",
       "    .dataframe tbody tr th {\n",
       "        vertical-align: top;\n",
       "    }\n",
       "\n",
       "    .dataframe thead th {\n",
       "        text-align: right;\n",
       "    }\n",
       "</style>\n",
       "<table border=\"1\" class=\"dataframe\">\n",
       "  <thead>\n",
       "    <tr style=\"text-align: right;\">\n",
       "      <th></th>\n",
       "      <th>name</th>\n",
       "      <th>domain</th>\n",
       "      <th>duration</th>\n",
       "      <th>category_id</th>\n",
       "      <th>category</th>\n",
       "      <th>consent_mode</th>\n",
       "      <th>site</th>\n",
       "      <th>lib_name</th>\n",
       "      <th>pattern_name</th>\n",
       "      <th>consent</th>\n",
       "    </tr>\n",
       "  </thead>\n",
       "  <tbody>\n",
       "    <tr>\n",
       "      <th>18</th>\n",
       "      <td>__insp_nv</td>\n",
       "      <td>www.elsevier..com</td>\n",
       "      <td>365 days</td>\n",
       "      <td>2</td>\n",
       "      <td>Performance Cookies</td>\n",
       "      <td>inactive landingpage</td>\n",
       "      <td>elsevier.nl</td>\n",
       "      <td>onetrust</td>\n",
       "      <td>en.json</td>\n",
       "      <td>False</td>\n",
       "    </tr>\n",
       "    <tr>\n",
       "      <th>45</th>\n",
       "      <td>__insp_nv</td>\n",
       "      <td>www.elsevier..com</td>\n",
       "      <td>365 days</td>\n",
       "      <td>4</td>\n",
       "      <td>Targeting Cookies</td>\n",
       "      <td>inactive</td>\n",
       "      <td>elsevier.nl</td>\n",
       "      <td>onetrust</td>\n",
       "      <td>en.json</td>\n",
       "      <td>False</td>\n",
       "    </tr>\n",
       "    <tr>\n",
       "      <th>20</th>\n",
       "      <td>__insp_targlpt</td>\n",
       "      <td>www.elsevier..com</td>\n",
       "      <td>365 days</td>\n",
       "      <td>2</td>\n",
       "      <td>Performance Cookies</td>\n",
       "      <td>inactive landingpage</td>\n",
       "      <td>elsevier.nl</td>\n",
       "      <td>onetrust</td>\n",
       "      <td>en.json</td>\n",
       "      <td>False</td>\n",
       "    </tr>\n",
       "    <tr>\n",
       "      <th>44</th>\n",
       "      <td>__insp_targlpt</td>\n",
       "      <td>www.elsevier..com</td>\n",
       "      <td>365 days</td>\n",
       "      <td>4</td>\n",
       "      <td>Targeting Cookies</td>\n",
       "      <td>inactive</td>\n",
       "      <td>elsevier.nl</td>\n",
       "      <td>onetrust</td>\n",
       "      <td>en.json</td>\n",
       "      <td>False</td>\n",
       "    </tr>\n",
       "    <tr>\n",
       "      <th>1</th>\n",
       "      <td>_gtld</td>\n",
       "      <td>elsevier.com</td>\n",
       "      <td>Session</td>\n",
       "      <td>2</td>\n",
       "      <td>Performance Cookies</td>\n",
       "      <td>inactive landingpage</td>\n",
       "      <td>elsevier.nl</td>\n",
       "      <td>onetrust</td>\n",
       "      <td>en.json</td>\n",
       "      <td>False</td>\n",
       "    </tr>\n",
       "    <tr>\n",
       "      <th>5</th>\n",
       "      <td>_gtld</td>\n",
       "      <td>elsevier.com</td>\n",
       "      <td>Session</td>\n",
       "      <td>4</td>\n",
       "      <td>Targeting Cookies</td>\n",
       "      <td>inactive</td>\n",
       "      <td>elsevier.nl</td>\n",
       "      <td>onetrust</td>\n",
       "      <td>en.json</td>\n",
       "      <td>False</td>\n",
       "    </tr>\n",
       "  </tbody>\n",
       "</table>\n",
       "</div>"
      ],
      "text/plain": [
       "              name             domain  duration category_id  \\\n",
       "18       __insp_nv  www.elsevier..com  365 days           2   \n",
       "45       __insp_nv  www.elsevier..com  365 days           4   \n",
       "20  __insp_targlpt  www.elsevier..com  365 days           2   \n",
       "44  __insp_targlpt  www.elsevier..com  365 days           4   \n",
       "1            _gtld       elsevier.com   Session           2   \n",
       "5            _gtld       elsevier.com   Session           4   \n",
       "\n",
       "               category          consent_mode         site  lib_name  \\\n",
       "18  Performance Cookies  inactive landingpage  elsevier.nl  onetrust   \n",
       "45    Targeting Cookies              inactive  elsevier.nl  onetrust   \n",
       "20  Performance Cookies  inactive landingpage  elsevier.nl  onetrust   \n",
       "44    Targeting Cookies              inactive  elsevier.nl  onetrust   \n",
       "1   Performance Cookies  inactive landingpage  elsevier.nl  onetrust   \n",
       "5     Targeting Cookies              inactive  elsevier.nl  onetrust   \n",
       "\n",
       "   pattern_name  consent  \n",
       "18      en.json    False  \n",
       "45      en.json    False  \n",
       "20      en.json    False  \n",
       "44      en.json    False  \n",
       "1       en.json    False  \n",
       "5       en.json    False  "
      ]
     },
     "execution_count": 26,
     "metadata": {},
     "output_type": "execute_result"
    }
   ],
   "source": [
    "contra_cookies[contra_cookies.site == 'elsevier.nl']"
   ]
  },
  {
   "cell_type": "code",
   "execution_count": 27,
   "metadata": {},
   "outputs": [],
   "source": [
    "# assert len(detected_contra_sites) <= contra_sites.site.nunique() < len(detected_contra_sites) + 2"
   ]
  },
  {
   "cell_type": "code",
   "execution_count": 28,
   "metadata": {},
   "outputs": [
    {
     "data": {
      "text/html": [
       "<div>\n",
       "<style scoped>\n",
       "    .dataframe tbody tr th:only-of-type {\n",
       "        vertical-align: middle;\n",
       "    }\n",
       "\n",
       "    .dataframe tbody tr th {\n",
       "        vertical-align: top;\n",
       "    }\n",
       "\n",
       "    .dataframe thead th {\n",
       "        text-align: right;\n",
       "    }\n",
       "</style>\n",
       "<table border=\"1\" class=\"dataframe\">\n",
       "  <thead>\n",
       "    <tr style=\"text-align: right;\">\n",
       "      <th></th>\n",
       "      <th>name</th>\n",
       "      <th>domain</th>\n",
       "      <th>site</th>\n",
       "      <th>comply</th>\n",
       "    </tr>\n",
       "  </thead>\n",
       "  <tbody>\n",
       "    <tr>\n",
       "      <th>53857</th>\n",
       "      <td>CountryCode</td>\n",
       "      <td>.agilent.com</td>\n",
       "      <td>agilent.com</td>\n",
       "      <td>ambiguous</td>\n",
       "    </tr>\n",
       "    <tr>\n",
       "      <th>58913</th>\n",
       "      <td>AWSELB</td>\n",
       "      <td>buy.suse.com</td>\n",
       "      <td>suse.com</td>\n",
       "      <td>ambiguous</td>\n",
       "    </tr>\n",
       "    <tr>\n",
       "      <th>151148</th>\n",
       "      <td>fg</td>\n",
       "      <td>.adobe.com</td>\n",
       "      <td>adobeconnect.com</td>\n",
       "      <td>ambiguous</td>\n",
       "    </tr>\n",
       "    <tr>\n",
       "      <th>151149</th>\n",
       "      <td>feds_visitor_id</td>\n",
       "      <td>.adobe.com</td>\n",
       "      <td>adobeconnect.com</td>\n",
       "      <td>ambiguous</td>\n",
       "    </tr>\n",
       "    <tr>\n",
       "      <th>151159</th>\n",
       "      <td>feds_visitor_audience</td>\n",
       "      <td>.adobe.com</td>\n",
       "      <td>adobeconnect.com</td>\n",
       "      <td>ambiguous</td>\n",
       "    </tr>\n",
       "    <tr>\n",
       "      <th>...</th>\n",
       "      <td>...</td>\n",
       "      <td>...</td>\n",
       "      <td>...</td>\n",
       "      <td>...</td>\n",
       "    </tr>\n",
       "    <tr>\n",
       "      <th>2685275</th>\n",
       "      <td>ASP.NET_SessionId</td>\n",
       "      <td>www.loqate.com</td>\n",
       "      <td>postcodeanywhere.co.uk</td>\n",
       "      <td>ambiguous</td>\n",
       "    </tr>\n",
       "    <tr>\n",
       "      <th>2735001</th>\n",
       "      <td>SF_PHPSESSID</td>\n",
       "      <td>app.jazz.co</td>\n",
       "      <td>validity.com</td>\n",
       "      <td>ambiguous</td>\n",
       "    </tr>\n",
       "    <tr>\n",
       "      <th>2762382</th>\n",
       "      <td>cbt-consent-banner</td>\n",
       "      <td>www.tommybahama.com</td>\n",
       "      <td>tommybahama.com</td>\n",
       "      <td>ambiguous</td>\n",
       "    </tr>\n",
       "    <tr>\n",
       "      <th>2959647</th>\n",
       "      <td>rCookie</td>\n",
       "      <td>.danielwellington.com</td>\n",
       "      <td>danielwellington.com</td>\n",
       "      <td>ambiguous</td>\n",
       "    </tr>\n",
       "    <tr>\n",
       "      <th>2994625</th>\n",
       "      <td>landingpage</td>\n",
       "      <td>www.crisis.org.uk</td>\n",
       "      <td>crisis.org.uk</td>\n",
       "      <td>ambiguous</td>\n",
       "    </tr>\n",
       "  </tbody>\n",
       "</table>\n",
       "<p>116 rows × 4 columns</p>\n",
       "</div>"
      ],
      "text/plain": [
       "                          name                 domain                    site  \\\n",
       "53857              CountryCode           .agilent.com             agilent.com   \n",
       "58913                   AWSELB           buy.suse.com                suse.com   \n",
       "151148                      fg             .adobe.com        adobeconnect.com   \n",
       "151149         feds_visitor_id             .adobe.com        adobeconnect.com   \n",
       "151159   feds_visitor_audience             .adobe.com        adobeconnect.com   \n",
       "...                        ...                    ...                     ...   \n",
       "2685275      ASP.NET_SessionId         www.loqate.com  postcodeanywhere.co.uk   \n",
       "2735001           SF_PHPSESSID            app.jazz.co            validity.com   \n",
       "2762382     cbt-consent-banner    www.tommybahama.com         tommybahama.com   \n",
       "2959647                rCookie  .danielwellington.com    danielwellington.com   \n",
       "2994625            landingpage      www.crisis.org.uk           crisis.org.uk   \n",
       "\n",
       "            comply  \n",
       "53857    ambiguous  \n",
       "58913    ambiguous  \n",
       "151148   ambiguous  \n",
       "151149   ambiguous  \n",
       "151159   ambiguous  \n",
       "...            ...  \n",
       "2685275  ambiguous  \n",
       "2735001  ambiguous  \n",
       "2762382  ambiguous  \n",
       "2959647  ambiguous  \n",
       "2994625  ambiguous  \n",
       "\n",
       "[116 rows x 4 columns]"
      ]
     },
     "execution_count": 28,
     "metadata": {},
     "output_type": "execute_result"
    }
   ],
   "source": [
    "complies[complies.comply == 'ambiguous']"
   ]
  },
  {
   "cell_type": "code",
   "execution_count": 29,
   "metadata": {},
   "outputs": [
    {
     "data": {
      "text/html": [
       "<div>\n",
       "<style scoped>\n",
       "    .dataframe tbody tr th:only-of-type {\n",
       "        vertical-align: middle;\n",
       "    }\n",
       "\n",
       "    .dataframe tbody tr th {\n",
       "        vertical-align: top;\n",
       "    }\n",
       "\n",
       "    .dataframe thead th {\n",
       "        text-align: right;\n",
       "    }\n",
       "</style>\n",
       "<table border=\"1\" class=\"dataframe\">\n",
       "  <thead>\n",
       "    <tr style=\"text-align: right;\">\n",
       "      <th></th>\n",
       "      <th>name</th>\n",
       "      <th>domain</th>\n",
       "      <th>duration</th>\n",
       "      <th>category_id</th>\n",
       "      <th>category</th>\n",
       "      <th>consent_mode</th>\n",
       "      <th>site</th>\n",
       "      <th>lib_name</th>\n",
       "      <th>pattern_name</th>\n",
       "      <th>consent</th>\n",
       "    </tr>\n",
       "  </thead>\n",
       "  <tbody>\n",
       "    <tr>\n",
       "      <th>88</th>\n",
       "      <td>utag_main</td>\n",
       "      <td>.michaels.com</td>\n",
       "      <td>365 days</td>\n",
       "      <td>C0001</td>\n",
       "      <td>Strictly Necessary Cookies</td>\n",
       "      <td>always active</td>\n",
       "      <td>michaels.com</td>\n",
       "      <td>onetrust</td>\n",
       "      <td>en.json</td>\n",
       "      <td>True</td>\n",
       "    </tr>\n",
       "    <tr>\n",
       "      <th>13</th>\n",
       "      <td>utag_main</td>\n",
       "      <td>michaels.com</td>\n",
       "      <td>365 days</td>\n",
       "      <td>C0002</td>\n",
       "      <td>Performance Cookies</td>\n",
       "      <td>active</td>\n",
       "      <td>michaels.com</td>\n",
       "      <td>onetrust</td>\n",
       "      <td>en.json</td>\n",
       "      <td>False</td>\n",
       "    </tr>\n",
       "  </tbody>\n",
       "</table>\n",
       "</div>"
      ],
      "text/plain": [
       "         name         domain  duration category_id  \\\n",
       "88  utag_main  .michaels.com  365 days       C0001   \n",
       "13  utag_main   michaels.com  365 days       C0002   \n",
       "\n",
       "                      category   consent_mode          site  lib_name  \\\n",
       "88  Strictly Necessary Cookies  always active  michaels.com  onetrust   \n",
       "13         Performance Cookies         active  michaels.com  onetrust   \n",
       "\n",
       "   pattern_name  consent  \n",
       "88      en.json     True  \n",
       "13      en.json    False  "
      ]
     },
     "execution_count": 29,
     "metadata": {},
     "output_type": "execute_result"
    }
   ],
   "source": [
    "cookie_prefs[ (cookie_prefs.site == 'michaels.com') & (cookie_prefs.name == 'utag_main') ]"
   ]
  },
  {
   "cell_type": "code",
   "execution_count": 30,
   "metadata": {},
   "outputs": [
    {
     "data": {
      "text/html": [
       "<div>\n",
       "<style scoped>\n",
       "    .dataframe tbody tr th:only-of-type {\n",
       "        vertical-align: middle;\n",
       "    }\n",
       "\n",
       "    .dataframe tbody tr th {\n",
       "        vertical-align: top;\n",
       "    }\n",
       "\n",
       "    .dataframe thead th {\n",
       "        text-align: right;\n",
       "    }\n",
       "</style>\n",
       "<table border=\"1\" class=\"dataframe\">\n",
       "  <thead>\n",
       "    <tr style=\"text-align: right;\">\n",
       "      <th></th>\n",
       "      <th>name</th>\n",
       "      <th>domain</th>\n",
       "      <th>duration</th>\n",
       "      <th>category_id</th>\n",
       "      <th>category</th>\n",
       "      <th>consent_mode</th>\n",
       "      <th>site</th>\n",
       "      <th>lib_name</th>\n",
       "      <th>pattern_name</th>\n",
       "      <th>consent</th>\n",
       "    </tr>\n",
       "  </thead>\n",
       "  <tbody>\n",
       "    <tr>\n",
       "      <th>32</th>\n",
       "      <td>id</td>\n",
       "      <td>m6r.eu</td>\n",
       "      <td>90 days</td>\n",
       "      <td>C0001</td>\n",
       "      <td>Necessary Cookies</td>\n",
       "      <td>always active</td>\n",
       "      <td>statista.com</td>\n",
       "      <td>onetrust</td>\n",
       "      <td>en.json</td>\n",
       "      <td>True</td>\n",
       "    </tr>\n",
       "    <tr>\n",
       "      <th>22</th>\n",
       "      <td>id</td>\n",
       "      <td>m6r.eu</td>\n",
       "      <td>0 days</td>\n",
       "      <td>C0004</td>\n",
       "      <td>Targeting Cookies</td>\n",
       "      <td>inactive</td>\n",
       "      <td>statista.com</td>\n",
       "      <td>onetrust</td>\n",
       "      <td>en.json</td>\n",
       "      <td>False</td>\n",
       "    </tr>\n",
       "  </tbody>\n",
       "</table>\n",
       "</div>"
      ],
      "text/plain": [
       "   name  domain duration category_id           category   consent_mode  \\\n",
       "32   id  m6r.eu  90 days       C0001  Necessary Cookies  always active   \n",
       "22   id  m6r.eu   0 days       C0004  Targeting Cookies       inactive   \n",
       "\n",
       "            site  lib_name pattern_name  consent  \n",
       "32  statista.com  onetrust      en.json     True  \n",
       "22  statista.com  onetrust      en.json    False  "
      ]
     },
     "execution_count": 30,
     "metadata": {},
     "output_type": "execute_result"
    }
   ],
   "source": [
    "cookie_prefs[ (cookie_prefs.site == 'statista.com') & (cookie_prefs.name == 'id') ]"
   ]
  },
  {
   "cell_type": "code",
   "execution_count": 68,
   "metadata": {},
   "outputs": [],
   "source": [
    "# contra_cookies.name.value_counts()[:10]\n",
    "# contra_cookies[contra_cookies.name == '__cf_bm'].reset_index(drop=True) # .site.nunique()"
   ]
  },
  {
   "cell_type": "markdown",
   "metadata": {},
   "source": [
    "# Analyze ambiguous flows"
   ]
  },
  {
   "cell_type": "code",
   "execution_count": 94,
   "metadata": {},
   "outputs": [
    {
     "name": "stdout",
     "output_type": "stream",
     "text": [
      "Num ambiguous cookies: 116 on num sites: 52\n"
     ]
    }
   ],
   "source": [
    "ambi_cookies = complies[complies.comply == 'ambiguous']\n",
    "print(\"Num ambiguous cookies:\", len(ambi_cookies), \"on num sites:\", ambi_cookies.site.nunique())\n",
    "assert len(ambi_cookies) == len(ambi_cookies.drop_duplicates()), \"there is some duplicate cookies\"\n"
   ]
  },
  {
   "cell_type": "markdown",
   "metadata": {},
   "source": [
    "## Analyze no-way-to-opt-out"
   ]
  },
  {
   "cell_type": "code",
   "execution_count": 33,
   "metadata": {},
   "outputs": [
    {
     "data": {
      "text/html": [
       "<div>\n",
       "<style scoped>\n",
       "    .dataframe tbody tr th:only-of-type {\n",
       "        vertical-align: middle;\n",
       "    }\n",
       "\n",
       "    .dataframe tbody tr th {\n",
       "        vertical-align: top;\n",
       "    }\n",
       "\n",
       "    .dataframe thead th {\n",
       "        text-align: right;\n",
       "    }\n",
       "</style>\n",
       "<table border=\"1\" class=\"dataframe\">\n",
       "  <thead>\n",
       "    <tr style=\"text-align: right;\">\n",
       "      <th></th>\n",
       "      <th>name</th>\n",
       "      <th>domain</th>\n",
       "      <th>duration</th>\n",
       "      <th>category_id</th>\n",
       "      <th>category</th>\n",
       "      <th>consent_mode</th>\n",
       "      <th>site</th>\n",
       "      <th>lib_name</th>\n",
       "      <th>pattern_name</th>\n",
       "      <th>consent</th>\n",
       "    </tr>\n",
       "  </thead>\n",
       "  <tbody>\n",
       "    <tr>\n",
       "      <th>0</th>\n",
       "      <td>OptanonConsent</td>\n",
       "      <td>hybridtheory.com</td>\n",
       "      <td>365 days</td>\n",
       "      <td>C0001</td>\n",
       "      <td>Strictly Necessary Cookies</td>\n",
       "      <td>always active</td>\n",
       "      <td>affec.tv</td>\n",
       "      <td>onetrust</td>\n",
       "      <td>en.json</td>\n",
       "      <td>True</td>\n",
       "    </tr>\n",
       "    <tr>\n",
       "      <th>1</th>\n",
       "      <td>OptanonAlertBoxClosed</td>\n",
       "      <td>hybridtheory.com</td>\n",
       "      <td>365 days</td>\n",
       "      <td>C0001</td>\n",
       "      <td>Strictly Necessary Cookies</td>\n",
       "      <td>always active</td>\n",
       "      <td>affec.tv</td>\n",
       "      <td>onetrust</td>\n",
       "      <td>en.json</td>\n",
       "      <td>True</td>\n",
       "    </tr>\n",
       "    <tr>\n",
       "      <th>2</th>\n",
       "      <td>eupubconsent</td>\n",
       "      <td>hybridtheory.com</td>\n",
       "      <td>365 days</td>\n",
       "      <td>C0001</td>\n",
       "      <td>Strictly Necessary Cookies</td>\n",
       "      <td>always active</td>\n",
       "      <td>affec.tv</td>\n",
       "      <td>onetrust</td>\n",
       "      <td>en.json</td>\n",
       "      <td>True</td>\n",
       "    </tr>\n",
       "    <tr>\n",
       "      <th>0</th>\n",
       "      <td>__cfduid</td>\n",
       "      <td>onetrust.com</td>\n",
       "      <td>4036 days</td>\n",
       "      <td>C0001</td>\n",
       "      <td>Strictly Necessary Cookies</td>\n",
       "      <td>always active</td>\n",
       "      <td>affec.tv</td>\n",
       "      <td>onetrust</td>\n",
       "      <td>en.json</td>\n",
       "      <td>True</td>\n",
       "    </tr>\n",
       "    <tr>\n",
       "      <th>1</th>\n",
       "      <td>__cfduid</td>\n",
       "      <td>permutive.com</td>\n",
       "      <td>4036 days</td>\n",
       "      <td>C0001</td>\n",
       "      <td>Strictly Necessary Cookies</td>\n",
       "      <td>always active</td>\n",
       "      <td>affec.tv</td>\n",
       "      <td>onetrust</td>\n",
       "      <td>en.json</td>\n",
       "      <td>True</td>\n",
       "    </tr>\n",
       "  </tbody>\n",
       "</table>\n",
       "</div>"
      ],
      "text/plain": [
       "                    name            domain   duration category_id  \\\n",
       "0         OptanonConsent  hybridtheory.com   365 days       C0001   \n",
       "1  OptanonAlertBoxClosed  hybridtheory.com   365 days       C0001   \n",
       "2           eupubconsent  hybridtheory.com   365 days       C0001   \n",
       "0               __cfduid      onetrust.com  4036 days       C0001   \n",
       "1               __cfduid     permutive.com  4036 days       C0001   \n",
       "\n",
       "                     category   consent_mode      site  lib_name pattern_name  \\\n",
       "0  Strictly Necessary Cookies  always active  affec.tv  onetrust      en.json   \n",
       "1  Strictly Necessary Cookies  always active  affec.tv  onetrust      en.json   \n",
       "2  Strictly Necessary Cookies  always active  affec.tv  onetrust      en.json   \n",
       "0  Strictly Necessary Cookies  always active  affec.tv  onetrust      en.json   \n",
       "1  Strictly Necessary Cookies  always active  affec.tv  onetrust      en.json   \n",
       "\n",
       "   consent  \n",
       "0     True  \n",
       "1     True  \n",
       "2     True  \n",
       "0     True  \n",
       "1     True  "
      ]
     },
     "execution_count": 33,
     "metadata": {},
     "output_type": "execute_result"
    }
   ],
   "source": [
    "# Way 1: compute contra sites by DataFrame group by\n",
    "nwtoo_cookies_dfs = []\n",
    "for _, site_cookies in cookie_prefs.groupby(['site']):\n",
    "    consent_modes = site_cookies.consent_mode.unique().tolist()\n",
    "    if len(consent_modes) == 1 and consent_modes[0] == 'always active':\n",
    "        nwtoo_cookies_dfs.append(site_cookies)\n",
    "nwtoo_cookies = pd.concat(nwtoo_cookies_dfs).drop_duplicates()\n",
    "nwtoo_cookies.head()"
   ]
  },
  {
   "cell_type": "code",
   "execution_count": 34,
   "metadata": {},
   "outputs": [
    {
     "data": {
      "text/plain": [
       "65"
      ]
     },
     "execution_count": 34,
     "metadata": {},
     "output_type": "execute_result"
    }
   ],
   "source": [
    "nwtoo_cookies.site.nunique()"
   ]
  },
  {
   "cell_type": "markdown",
   "metadata": {},
   "source": [
    "# Analyze inconsistent flows/cookies"
   ]
  },
  {
   "cell_type": "code",
   "execution_count": 37,
   "metadata": {},
   "outputs": [],
   "source": [
    "def plot_inconsis_types():\n",
    "    sns.set(rc={'figure.figsize':(9,9),\"font.size\":30,\"axes.titlesize\":30,\"axes.labelsize\":30},style=\"white\", font_scale = 2.5)\n",
    "\n",
    "    ax = sns.barplot(x='comply_type', y='num_sites_percent', data=noncomply_sites)\n",
    "    ax.tick_params(left=True, bottom=True, direction=\"in\")\n",
    "    ax.set_ylabel('# Websites (%)')\n",
    "    ax.set_xlabel('Noncompliance Types')\n",
    "    xticks = [x.get_text().title() for x in ax.get_xticklabels()]\n",
    "    ax.set(xticklabels=xticks)\n",
    "\n",
    "    out_file = FIG_DIR / 'noncomply_types_per_site.png'\n",
    "    # plt.savefig(out_file, dpi=200, bbox_inches='tight'); print(f\"Written to {out_file}\")"
   ]
  },
  {
   "cell_type": "code",
   "execution_count": 38,
   "metadata": {},
   "outputs": [],
   "source": [
    "## Plot distribution of omitted cookie declarations"
   ]
  },
  {
   "cell_type": "code",
   "execution_count": 39,
   "metadata": {},
   "outputs": [
    {
     "data": {
      "text/plain": [
       "1230"
      ]
     },
     "execution_count": 39,
     "metadata": {},
     "output_type": "execute_result"
    }
   ],
   "source": [
    "omit_complies = complies[(complies.comply == 'omit')] #  & ~complies.name.isin(['OptanonAlertBoxClosed', 'OptanonConsent']) ]\n",
    "omit_complies.site.nunique()"
   ]
  },
  {
   "cell_type": "code",
   "execution_count": 40,
   "metadata": {},
   "outputs": [
    {
     "data": {
      "text/plain": [
       "annarbor.com             354\n",
       "tcpalm.com               284\n",
       "correio24horas.com.br    280\n",
       "chieftain.com            266\n",
       "dispatch.com             256\n",
       "savannahnow.com          245\n",
       "sj-r.com                 242\n",
       "Name: site, dtype: int64"
      ]
     },
     "execution_count": 40,
     "metadata": {},
     "output_type": "execute_result"
    }
   ],
   "source": [
    "omit_complies.site.value_counts()[:7]"
   ]
  },
  {
   "cell_type": "code",
   "execution_count": 41,
   "metadata": {},
   "outputs": [
    {
     "name": "stdout",
     "output_type": "stream",
     "text": [
      "\\begin{tabular}{lr}\n",
      "\\toprule\n",
      "          Cookie Name &  \\# Websites \\\\\n",
      "\\midrule\n",
      "              \\_gcl\\_au &         532 \\\\\n",
      "       OptanonConsent &         227 \\\\\n",
      "OptanonAlertBoxClosed &         225 \\\\\n",
      "                  \\_ga &         198 \\\\\n",
      "                 \\_gid &         196 \\\\\n",
      "\\bottomrule\n",
      "\\end{tabular}\n",
      "\n"
     ]
    }
   ],
   "source": [
    "omit_cookies = omit_complies.name.value_counts()[:5].to_frame().reset_index().rename(columns={'index': 'cookie_name'})\n",
    "omit_cookies['num_sites'] = omit_cookies['cookie_name'].map(lambda cookie_name: omit_complies[omit_complies.name == cookie_name].site.nunique())\n",
    "print(omit_cookies.head(5)[['cookie_name', 'num_sites']].rename(columns={'cookie_name': 'Cookie Name', 'num_sites': '# Websites'}).to_latex(index=False))"
   ]
  },
  {
   "cell_type": "code",
   "execution_count": 88,
   "metadata": {},
   "outputs": [
    {
     "name": "stdout",
     "output_type": "stream",
     "text": [
      "Num omitted sites: 1230\n"
     ]
    },
    {
     "data": {
      "text/plain": [
       "(17.77479674796748, 33.04235291265167, 1, 354)"
      ]
     },
     "execution_count": 88,
     "metadata": {},
     "output_type": "execute_result"
    }
   ],
   "source": [
    "# set(cookielist_sites) - set(omit_complies.site.unique())\n",
    "omit_counts = omit_complies.site.value_counts().to_frame().rename(columns={'site': 'num_omit_cookies'})\n",
    "print(\"Num omitted sites:\", omit_complies.site.nunique())\n",
    "omit_counts.num_omit_cookies.mean(), omit_counts.num_omit_cookies.std(), omit_counts.num_omit_cookies.min(), omit_counts.num_omit_cookies.max()"
   ]
  },
  {
   "cell_type": "code",
   "execution_count": 93,
   "metadata": {},
   "outputs": [
    {
     "name": "stdout",
     "output_type": "stream",
     "text": [
      "Written to /home/ducbui/local_projects/consent/paper/sp22/figures/omit_cookie_cdf.png\n"
     ]
    },
    {
     "data": {
      "image/png": "[encoded data removed]",
      "text/plain": [
       "<Figure size 864x576 with 1 Axes>"
      ]
     },
     "metadata": {},
     "output_type": "display_data"
    }
   ],
   "source": [
    "sns.set(rc={'figure.figsize':(12,8),\"font.size\":35,\"axes.titlesize\":30,\"axes.labelsize\":50},style=\"white\", font_scale = 4.5)\n",
    "sns.set_style(\"ticks\", {\"xtick.direction\": \"in\", \"ytick.direction\": \"in\"})\n",
    "plt.rcParams['xtick.major.size'] = 15\n",
    "plt.rcParams['ytick.major.size'] = 15\n",
    "\n",
    "ax = sns.ecdfplot(data=omit_counts, x=omit_counts.num_omit_cookies, linewidth=8)\n",
    "ax.set(xlim=(0, 350))\n",
    "\n",
    "plt.xlabel('# Omitted Cookies/Website')\n",
    "plt.ylabel('CDF')\n",
    "out_file = FIG_DIR / 'omit_cookie_cdf.png'\n",
    "plt.savefig(out_file, dpi=200, bbox_inches='tight'); print(f\"Written to {out_file}\")"
   ]
  },
  {
   "cell_type": "code",
   "execution_count": 135,
   "metadata": {},
   "outputs": [
    {
     "name": "stdout",
     "output_type": "stream",
     "text": [
      "Written to /home/ducbui/local_projects/consent/paper/sp22/figures/omit_site.png\n"
     ]
    },
    {
     "data": {
      "image/png": "[encoded data removed]",
      "text/plain": [
       "<Figure size 1728x576 with 1 Axes>"
      ]
     },
     "metadata": {},
     "output_type": "display_data"
    }
   ],
   "source": [
    "plot_df = omit_counts[:50]\n",
    "\n",
    "sns.set(rc={'figure.figsize':(24,8),\"font.size\":35,\"axes.titlesize\":35,\"axes.labelsize\":25},style=\"white\", font_scale=1.5)\n",
    "ax = sns.barplot(x=plot_df.index, y=plot_df.num_omit_cookies)\n",
    "ticks = plt.xticks(rotation=45, ha='right')\n",
    "\n",
    "ax.tick_params(left=True, bottom=False, direction=\"in\")\n",
    "ax.set_ylabel('# Omitted Cookies')\n",
    "ax.set_xlabel('Website')\n",
    "\n",
    "out_file = FIG_DIR / 'omit_site.png'\n",
    "plt.savefig(out_file, dpi=200, bbox_inches='tight'); print(f\"Written to {out_file}\")"
   ]
  },
  {
   "cell_type": "code",
   "execution_count": 51,
   "metadata": {},
   "outputs": [],
   "source": [
    "def plot_histogram_omit():\n",
    "    sns.set(rc={'figure.figsize':(9,6),\"font.size\":25,\"axes.titlesize\":25,\"axes.labelsize\":15},style=\"white\", font_scale = 1)\n",
    "    omit_counts_histo = omit_complies.site.value_counts().value_counts()\n",
    "    sns.barplot(x=omit_counts_histo.index, y=omit_counts_histo.values)\n",
    "    ticks = plt.xticks(rotation=45, ha='right')"
   ]
  },
  {
   "cell_type": "markdown",
   "metadata": {},
   "source": [
    "## Plot distribution of incorrectly enforced cookies"
   ]
  },
  {
   "cell_type": "code",
   "execution_count": 52,
   "metadata": {},
   "outputs": [
    {
     "data": {
      "text/plain": [
       "Index(['index', 'site'], dtype='object')"
      ]
     },
     "execution_count": 52,
     "metadata": {},
     "output_type": "execute_result"
    }
   ],
   "source": [
    "incor_complies = complies[complies.comply == 'incorrect']\n",
    "# set(cookielist_sites) - set(omit_complies.site.unique())\n",
    "incor_counts = incor_complies.site.value_counts().iloc[:50]\n",
    "incor_counts = incor_counts.to_frame().reset_index().sort_values(by=['site', 'index'], ascending=[False, True])\n",
    "incor_counts.columns"
   ]
  },
  {
   "cell_type": "code",
   "execution_count": 136,
   "metadata": {},
   "outputs": [
    {
     "name": "stdout",
     "output_type": "stream",
     "text": [
      "Written to /home/ducbui/local_projects/consent/paper/sp22/figures/incor_site.png\n"
     ]
    },
    {
     "data": {
      "image/png": "[encoded data removed]",
      "text/plain": [
       "<Figure size 1728x576 with 1 Axes>"
      ]
     },
     "metadata": {},
     "output_type": "display_data"
    }
   ],
   "source": [
    "sns.set(rc={'figure.figsize':(24,8),\"font.size\":35,\"axes.titlesize\":35,\"axes.labelsize\":25},style=\"white\", font_scale=1.5)\n",
    "ax = sns.barplot(x='index', y='site', data=incor_counts)\n",
    "\n",
    "ticks = plt.xticks(rotation=45, ha='right')\n",
    "\n",
    "ax.tick_params(left=True, bottom=True, direction=\"in\")\n",
    "ax.set_ylabel('# Incorrectly Enforced Cookies')\n",
    "ax.set_xlabel('Website')\n",
    "\n",
    "out_file = FIG_DIR / 'incor_site.png'\n",
    "plt.savefig(out_file, dpi=200, bbox_inches='tight'); print(f\"Written to {out_file}\")"
   ]
  },
  {
   "cell_type": "code",
   "execution_count": 55,
   "metadata": {},
   "outputs": [],
   "source": [
    "# len(incor_counts)"
   ]
  },
  {
   "cell_type": "code",
   "execution_count": 56,
   "metadata": {},
   "outputs": [
    {
     "data": {
      "text/html": [
       "<div>\n",
       "<style scoped>\n",
       "    .dataframe tbody tr th:only-of-type {\n",
       "        vertical-align: middle;\n",
       "    }\n",
       "\n",
       "    .dataframe tbody tr th {\n",
       "        vertical-align: top;\n",
       "    }\n",
       "\n",
       "    .dataframe thead th {\n",
       "        text-align: right;\n",
       "    }\n",
       "</style>\n",
       "<table border=\"1\" class=\"dataframe\">\n",
       "  <thead>\n",
       "    <tr style=\"text-align: right;\">\n",
       "      <th></th>\n",
       "      <th>index</th>\n",
       "      <th>site</th>\n",
       "    </tr>\n",
       "  </thead>\n",
       "  <tbody>\n",
       "  </tbody>\n",
       "</table>\n",
       "</div>"
      ],
      "text/plain": [
       "Empty DataFrame\n",
       "Columns: [index, site]\n",
       "Index: []"
      ]
     },
     "execution_count": 56,
     "metadata": {},
     "output_type": "execute_result"
    }
   ],
   "source": [
    "incor_counts[incor_counts.site == 33].reset_index(drop=True)"
   ]
  },
  {
   "cell_type": "markdown",
   "metadata": {},
   "source": [
    "### Top incorrect cookies"
   ]
  },
  {
   "cell_type": "code",
   "execution_count": 57,
   "metadata": {},
   "outputs": [],
   "source": [
    "incor_cookies = complies[complies.comply == 'incorrect']"
   ]
  },
  {
   "cell_type": "code",
   "execution_count": 58,
   "metadata": {},
   "outputs": [],
   "source": [
    "# site = 'onetrust.com'\n",
    "# complies[complies.site == site].reset_index(drop=True)\n",
    "# cookie_prefs[(cookie_prefs.site == site) & (cookie_prefs.name == '_gid')]"
   ]
  },
  {
   "cell_type": "code",
   "execution_count": 59,
   "metadata": {},
   "outputs": [],
   "source": [
    "top_incor_cookies = incor_cookies.name.value_counts().sort_values(ascending=False).to_frame().reset_index().rename(columns={'index':'cookie_name', 'name': 'num_occur'})"
   ]
  },
  {
   "cell_type": "code",
   "execution_count": 60,
   "metadata": {},
   "outputs": [],
   "source": [
    "top_incor_cookies['num_sites'] = top_incor_cookies.cookie_name.map(lambda cookie_name: incor_cookies[incor_cookies.name == cookie_name].site.nunique())"
   ]
  },
  {
   "cell_type": "code",
   "execution_count": 67,
   "metadata": {},
   "outputs": [
    {
     "name": "stdout",
     "output_type": "stream",
     "text": [
      "\\begin{tabular}{lr}\n",
      "\\toprule\n",
      "Cookie Name &  \\# Websites \\\\\n",
      "\\midrule\n",
      "        \\_ga &         652 \\\\\n",
      "       \\_gid &         632 \\\\\n",
      "       \\_fbp &         432 \\\\\n",
      "        IDE &         435 \\\\\n",
      "    \\_uetsid &         255 \\\\\n",
      "\\bottomrule\n",
      "\\end{tabular}\n",
      "\n"
     ]
    }
   ],
   "source": [
    "print(top_incor_cookies.head(5)[['cookie_name', 'num_sites']].rename(columns={'cookie_name': 'Cookie Name', 'num_sites': '# Websites'}).to_latex(index=False))"
   ]
  },
  {
   "cell_type": "markdown",
   "metadata": {},
   "source": [
    "# Narrow cookie consent preferences"
   ]
  },
  {
   "cell_type": "code",
   "execution_count": 63,
   "metadata": {},
   "outputs": [],
   "source": [
    "consent_cookies = sent_cookies[sent_cookies.name.isin(['OptanonConsent', 'CookieConsent'])][['domain', 'name', 'site']].drop_duplicates()\n",
    "narrow_consent_cookies = consent_cookies[~consent_cookies.domain.str.startswith('.')].reset_index(drop=True)"
   ]
  },
  {
   "cell_type": "code",
   "execution_count": 64,
   "metadata": {},
   "outputs": [
    {
     "data": {
      "text/plain": [
       "{'returnpath.net', 'statista.com', 'validity.com'}"
      ]
     },
     "execution_count": 64,
     "metadata": {},
     "output_type": "execute_result"
    }
   ],
   "source": [
    "set(contra_cookies.site).intersection(set(narrow_consent_cookies.site))"
   ]
  },
  {
   "cell_type": "code",
   "execution_count": 65,
   "metadata": {},
   "outputs": [
    {
     "data": {
      "text/html": [
       "<div>\n",
       "<style scoped>\n",
       "    .dataframe tbody tr th:only-of-type {\n",
       "        vertical-align: middle;\n",
       "    }\n",
       "\n",
       "    .dataframe tbody tr th {\n",
       "        vertical-align: top;\n",
       "    }\n",
       "\n",
       "    .dataframe thead th {\n",
       "        text-align: right;\n",
       "    }\n",
       "</style>\n",
       "<table border=\"1\" class=\"dataframe\">\n",
       "  <thead>\n",
       "    <tr style=\"text-align: right;\">\n",
       "      <th></th>\n",
       "      <th>domain</th>\n",
       "      <th>name</th>\n",
       "      <th>site</th>\n",
       "    </tr>\n",
       "  </thead>\n",
       "  <tbody>\n",
       "    <tr>\n",
       "      <th>0</th>\n",
       "      <td>www.ncl.ac.uk</td>\n",
       "      <td>CookieConsent</td>\n",
       "      <td>ncl.ac.uk</td>\n",
       "    </tr>\n",
       "    <tr>\n",
       "      <th>1</th>\n",
       "      <td>www.warnerbros.com</td>\n",
       "      <td>OptanonConsent</td>\n",
       "      <td>warnerbros.com</td>\n",
       "    </tr>\n",
       "    <tr>\n",
       "      <th>2</th>\n",
       "      <td>www.statista.com</td>\n",
       "      <td>OptanonConsent</td>\n",
       "      <td>statista.com</td>\n",
       "    </tr>\n",
       "    <tr>\n",
       "      <th>3</th>\n",
       "      <td>www.frontier.co.uk</td>\n",
       "      <td>CookieConsent</td>\n",
       "      <td>frontier.co.uk</td>\n",
       "    </tr>\n",
       "    <tr>\n",
       "      <th>4</th>\n",
       "      <td>www.unibz.it</td>\n",
       "      <td>CookieConsent</td>\n",
       "      <td>unibz.it</td>\n",
       "    </tr>\n",
       "    <tr>\n",
       "      <th>...</th>\n",
       "      <td>...</td>\n",
       "      <td>...</td>\n",
       "      <td>...</td>\n",
       "    </tr>\n",
       "    <tr>\n",
       "      <th>186</th>\n",
       "      <td>www.fourth.com</td>\n",
       "      <td>CookieConsent</td>\n",
       "      <td>fourth.com</td>\n",
       "    </tr>\n",
       "    <tr>\n",
       "      <th>187</th>\n",
       "      <td>plu.mx</td>\n",
       "      <td>OptanonConsent</td>\n",
       "      <td>plu.mx</td>\n",
       "    </tr>\n",
       "    <tr>\n",
       "      <th>188</th>\n",
       "      <td>www.norden.org</td>\n",
       "      <td>CookieConsent</td>\n",
       "      <td>norden.org</td>\n",
       "    </tr>\n",
       "    <tr>\n",
       "      <th>189</th>\n",
       "      <td>www.vonage.com</td>\n",
       "      <td>OptanonConsent</td>\n",
       "      <td>nexmo.com</td>\n",
       "    </tr>\n",
       "    <tr>\n",
       "      <th>190</th>\n",
       "      <td>www.midomi.com</td>\n",
       "      <td>OptanonConsent</td>\n",
       "      <td>midomi.com</td>\n",
       "    </tr>\n",
       "  </tbody>\n",
       "</table>\n",
       "<p>191 rows × 3 columns</p>\n",
       "</div>"
      ],
      "text/plain": [
       "                 domain            name            site\n",
       "0         www.ncl.ac.uk   CookieConsent       ncl.ac.uk\n",
       "1    www.warnerbros.com  OptanonConsent  warnerbros.com\n",
       "2      www.statista.com  OptanonConsent    statista.com\n",
       "3    www.frontier.co.uk   CookieConsent  frontier.co.uk\n",
       "4          www.unibz.it   CookieConsent        unibz.it\n",
       "..                  ...             ...             ...\n",
       "186      www.fourth.com   CookieConsent      fourth.com\n",
       "187              plu.mx  OptanonConsent          plu.mx\n",
       "188      www.norden.org   CookieConsent      norden.org\n",
       "189      www.vonage.com  OptanonConsent       nexmo.com\n",
       "190      www.midomi.com  OptanonConsent      midomi.com\n",
       "\n",
       "[191 rows x 3 columns]"
      ]
     },
     "execution_count": 65,
     "metadata": {},
     "output_type": "execute_result"
    }
   ],
   "source": [
    "narrow_consent_cookies"
   ]
  },
  {
   "cell_type": "markdown",
   "metadata": {},
   "source": [
    "# Case studies"
   ]
  },
  {
   "cell_type": "code",
   "execution_count": 98,
   "metadata": {},
   "outputs": [
    {
     "data": {
      "text/plain": [
       "blabbermouth.net     147\n",
       "nasdaq.com           130\n",
       "smartertravel.com    105\n",
       "digitaltrends.com    105\n",
       "aeropostale.com      100\n",
       "Name: site, dtype: int64"
      ]
     },
     "execution_count": 98,
     "metadata": {},
     "output_type": "execute_result"
    }
   ],
   "source": [
    "incor_df = complies[complies.comply == 'incorrect']\n",
    "incor_df.site.value_counts().sort_values(ascending=False).head()"
   ]
  },
  {
   "cell_type": "code",
   "execution_count": 124,
   "metadata": {},
   "outputs": [
    {
     "data": {
      "text/plain": [
       "359932            SPW_SL\n",
       "359937    MXP_TRACKINGID\n",
       "359942      mobileFormat\n",
       "Name: name, dtype: object"
      ]
     },
     "execution_count": 124,
     "metadata": {},
     "output_type": "execute_result"
    }
   ],
   "source": [
    "incor_df[incor_df.site == 'scientificamerican.com'].name"
   ]
  },
  {
   "cell_type": "code",
   "execution_count": 130,
   "metadata": {},
   "outputs": [
    {
     "data": {
      "text/html": [
       "<div>\n",
       "<style scoped>\n",
       "    .dataframe tbody tr th:only-of-type {\n",
       "        vertical-align: middle;\n",
       "    }\n",
       "\n",
       "    .dataframe tbody tr th {\n",
       "        vertical-align: top;\n",
       "    }\n",
       "\n",
       "    .dataframe thead th {\n",
       "        text-align: right;\n",
       "    }\n",
       "</style>\n",
       "<table border=\"1\" class=\"dataframe\">\n",
       "  <thead>\n",
       "    <tr style=\"text-align: right;\">\n",
       "      <th></th>\n",
       "      <th>name</th>\n",
       "      <th>domain</th>\n",
       "      <th>duration</th>\n",
       "      <th>category_id</th>\n",
       "      <th>category</th>\n",
       "      <th>consent_mode</th>\n",
       "      <th>site</th>\n",
       "      <th>lib_name</th>\n",
       "      <th>pattern_name</th>\n",
       "      <th>consent</th>\n",
       "    </tr>\n",
       "  </thead>\n",
       "  <tbody>\n",
       "    <tr>\n",
       "      <th>0</th>\n",
       "      <td>MXP_TRACKINGID</td>\n",
       "      <td>scientificamerican.com</td>\n",
       "      <td>10957 days</td>\n",
       "      <td>C0008</td>\n",
       "      <td>Targeting (1st Party)</td>\n",
       "      <td>inactive</td>\n",
       "      <td>scientificamerican.com</td>\n",
       "      <td>onetrust</td>\n",
       "      <td>en.json</td>\n",
       "      <td>False</td>\n",
       "    </tr>\n",
       "  </tbody>\n",
       "</table>\n",
       "</div>"
      ],
      "text/plain": [
       "             name                  domain    duration category_id  \\\n",
       "0  MXP_TRACKINGID  scientificamerican.com  10957 days       C0008   \n",
       "\n",
       "                category consent_mode                    site  lib_name  \\\n",
       "0  Targeting (1st Party)     inactive  scientificamerican.com  onetrust   \n",
       "\n",
       "  pattern_name  consent  \n",
       "0      en.json    False  "
      ]
     },
     "execution_count": 130,
     "metadata": {},
     "output_type": "execute_result"
    }
   ],
   "source": [
    "cookie_prefs[(cookie_prefs.site == 'scientificamerican.com') & (cookie_prefs.name == 'MXP_TRACKINGID')]"
   ]
  },
  {
   "cell_type": "code",
   "execution_count": 133,
   "metadata": {},
   "outputs": [],
   "source": [
    "# sent_cookies[(sent_cookies.site == 'scientificamerican.com') & (sent_cookies.name == 'MXP_TRACKINGID')]"
   ]
  },
  {
   "cell_type": "code",
   "execution_count": 108,
   "metadata": {},
   "outputs": [
    {
     "data": {
      "text/plain": [
       "rachaelraymag.com     149\n",
       "bodybuilding.com      149\n",
       "ipl.org               148\n",
       "wordgenius.com        139\n",
       "hellobeautiful.com    137\n",
       "leaf.tv               133\n",
       "thenest.com           116\n",
       "society6.com          115\n",
       "manrepeller.com       112\n",
       "nasdaq.com            111\n",
       "Name: site, dtype: int64"
      ]
     },
     "execution_count": 108,
     "metadata": {},
     "output_type": "execute_result"
    }
   ],
   "source": [
    "omit_df = complies[complies.comply == 'omit']\n",
    "omit_df.site.value_counts().sort_values(ascending=False).iloc[20:30]"
   ]
  },
  {
   "cell_type": "code",
   "execution_count": 122,
   "metadata": {},
   "outputs": [
    {
     "name": "stdout",
     "output_type": "stream",
     "text": [
      "['SA_fonts_loaded', 'cftoken', 'cfid']\n"
     ]
    }
   ],
   "source": [
    "print(omit_df[omit_df.site == 'scientificamerican.com'].reset_index().name.tolist())"
   ]
  },
  {
   "cell_type": "code",
   "execution_count": 125,
   "metadata": {},
   "outputs": [
    {
     "data": {
      "text/plain": [
       "False"
      ]
     },
     "execution_count": 125,
     "metadata": {},
     "output_type": "execute_result"
    }
   ],
   "source": [
    "'uids' in omit_df[omit_df.site == 'scientificamerican.com'].reset_index().name.tolist()"
   ]
  },
  {
   "cell_type": "code",
   "execution_count": 128,
   "metadata": {},
   "outputs": [
    {
     "data": {
      "text/html": [
       "<div>\n",
       "<style scoped>\n",
       "    .dataframe tbody tr th:only-of-type {\n",
       "        vertical-align: middle;\n",
       "    }\n",
       "\n",
       "    .dataframe tbody tr th {\n",
       "        vertical-align: top;\n",
       "    }\n",
       "\n",
       "    .dataframe thead th {\n",
       "        text-align: right;\n",
       "    }\n",
       "</style>\n",
       "<table border=\"1\" class=\"dataframe\">\n",
       "  <thead>\n",
       "    <tr style=\"text-align: right;\">\n",
       "      <th></th>\n",
       "      <th>name</th>\n",
       "      <th>domain</th>\n",
       "      <th>site</th>\n",
       "      <th>comply</th>\n",
       "    </tr>\n",
       "  </thead>\n",
       "  <tbody>\n",
       "    <tr>\n",
       "      <th>359933</th>\n",
       "      <td>cftoken</td>\n",
       "      <td>.scientificamerican.com</td>\n",
       "      <td>scientificamerican.com</td>\n",
       "      <td>omit</td>\n",
       "    </tr>\n",
       "  </tbody>\n",
       "</table>\n",
       "</div>"
      ],
      "text/plain": [
       "           name                   domain                    site comply\n",
       "359933  cftoken  .scientificamerican.com  scientificamerican.com   omit"
      ]
     },
     "execution_count": 128,
     "metadata": {},
     "output_type": "execute_result"
    }
   ],
   "source": [
    "omit_df[(omit_df.site == 'scientificamerican.com') & (omit_df.name == 'cftoken')]"
   ]
  },
  {
   "cell_type": "code",
   "execution_count": 121,
   "metadata": {},
   "outputs": [
    {
     "data": {
      "text/html": [
       "<div>\n",
       "<style scoped>\n",
       "    .dataframe tbody tr th:only-of-type {\n",
       "        vertical-align: middle;\n",
       "    }\n",
       "\n",
       "    .dataframe tbody tr th {\n",
       "        vertical-align: top;\n",
       "    }\n",
       "\n",
       "    .dataframe thead th {\n",
       "        text-align: right;\n",
       "    }\n",
       "</style>\n",
       "<table border=\"1\" class=\"dataframe\">\n",
       "  <thead>\n",
       "    <tr style=\"text-align: right;\">\n",
       "      <th></th>\n",
       "      <th>name</th>\n",
       "      <th>domain</th>\n",
       "      <th>duration</th>\n",
       "      <th>category_id</th>\n",
       "      <th>category</th>\n",
       "      <th>consent_mode</th>\n",
       "      <th>site</th>\n",
       "      <th>lib_name</th>\n",
       "      <th>pattern_name</th>\n",
       "      <th>consent</th>\n",
       "    </tr>\n",
       "  </thead>\n",
       "  <tbody>\n",
       "  </tbody>\n",
       "</table>\n",
       "</div>"
      ],
      "text/plain": [
       "Empty DataFrame\n",
       "Columns: [name, domain, duration, category_id, category, consent_mode, site, lib_name, pattern_name, consent]\n",
       "Index: []"
      ]
     },
     "execution_count": 121,
     "metadata": {},
     "output_type": "execute_result"
    }
   ],
   "source": [
    "cookie_prefs[(cookie_prefs.site == 'scientificamerican.com') & (cookie_prefs.name == 'ADGRX_UID')]"
   ]
  },
  {
   "cell_type": "code",
   "execution_count": null,
   "metadata": {},
   "outputs": [],
   "source": []
  },
  {
   "cell_type": "code",
   "execution_count": null,
   "metadata": {},
   "outputs": [],
   "source": []
  },
  {
   "cell_type": "code",
   "execution_count": null,
   "metadata": {},
   "outputs": [],
   "source": []
  },
  {
   "cell_type": "code",
   "execution_count": null,
   "metadata": {},
   "outputs": [],
   "source": []
  },
  {
   "cell_type": "code",
   "execution_count": null,
   "metadata": {},
   "outputs": [],
   "source": []
  },
  {
   "cell_type": "code",
   "execution_count": null,
   "metadata": {},
   "outputs": [],
   "source": [
    "all_sites = set(complies.site)\n",
    "nothing_comply_sites = all_sites - set(complies[complies.comply == 'comply'].site)\n",
    "print(\"Sites with no compliant cookies:\", nothing_comply_sites)"
   ]
  },
  {
   "cell_type": "code",
   "execution_count": null,
   "metadata": {},
   "outputs": [],
   "source": [
    "for site in ['liveperson.com']: # nothing_comply_sites:\n",
    "    print(site)\n",
    "site_cookies = postrej_br_cookies[postrej_br_cookies.site == site]"
   ]
  },
  {
   "cell_type": "code",
   "execution_count": null,
   "metadata": {},
   "outputs": [],
   "source": [
    "acookie = site_cookies[site_cookies.name == 'OptanonAlertBoxClosed'].iloc[0]"
   ]
  },
  {
   "cell_type": "code",
   "execution_count": null,
   "metadata": {},
   "outputs": [],
   "source": [
    "site_prefs = cookie_prefs[cookie_prefs.site == site]\n",
    "consent_cookies = site_prefs[site_prefs.consent]\n",
    "consent_cookie_names = consent_cookies.name\n",
    "site_cookies[site_cookies.name.isin(consent_cookie_names)]\n",
    "# cookie_name = 'OptanonAlertBoxClosed'\n",
    "# cookie_pref = site_prefs[site_prefs.name == cookie_name].iloc[0]\n",
    "# cookie_pref"
   ]
  },
  {
   "cell_type": "code",
   "execution_count": null,
   "metadata": {},
   "outputs": [],
   "source": [
    "consent_cookies"
   ]
  },
  {
   "cell_type": "code",
   "execution_count": null,
   "metadata": {},
   "outputs": [],
   "source": [
    "import sys; import importlib; importlib.reload(sys.modules['consent.consistency.cookie_pref_match'])\n",
    "from consent.consistency.cookie_pref_match import cookie_pref_match    \n",
    "cookie_pref_match(acookie, cookie_pref, site, verbose=2)"
   ]
  },
  {
   "cell_type": "code",
   "execution_count": null,
   "metadata": {},
   "outputs": [],
   "source": [
    "# Analyze Contras"
   ]
  },
  {
   "cell_type": "code",
   "execution_count": null,
   "metadata": {},
   "outputs": [],
   "source": []
  },
  {
   "cell_type": "code",
   "execution_count": null,
   "metadata": {},
   "outputs": [],
   "source": []
  },
  {
   "cell_type": "code",
   "execution_count": null,
   "metadata": {},
   "outputs": [],
   "source": []
  },
  {
   "cell_type": "code",
   "execution_count": null,
   "metadata": {},
   "outputs": [],
   "source": []
  },
  {
   "cell_type": "code",
   "execution_count": null,
   "metadata": {},
   "outputs": [],
   "source": []
  },
  {
   "cell_type": "code",
   "execution_count": null,
   "metadata": {},
   "outputs": [],
   "source": []
  },
  {
   "cell_type": "code",
   "execution_count": null,
   "metadata": {},
   "outputs": [],
   "source": []
  },
  {
   "cell_type": "code",
   "execution_count": null,
   "metadata": {},
   "outputs": [],
   "source": []
  },
  {
   "cell_type": "code",
   "execution_count": null,
   "metadata": {},
   "outputs": [],
   "source": []
  },
  {
   "cell_type": "code",
   "execution_count": null,
   "metadata": {},
   "outputs": [],
   "source": []
  },
  {
   "cell_type": "code",
   "execution_count": null,
   "metadata": {},
   "outputs": [],
   "source": []
  },
  {
   "cell_type": "code",
   "execution_count": null,
   "metadata": {},
   "outputs": [],
   "source": []
  },
  {
   "cell_type": "code",
   "execution_count": null,
   "metadata": {},
   "outputs": [],
   "source": []
  },
  {
   "cell_type": "code",
   "execution_count": null,
   "metadata": {},
   "outputs": [],
   "source": []
  },
  {
   "cell_type": "code",
   "execution_count": null,
   "metadata": {},
   "outputs": [],
   "source": []
  },
  {
   "cell_type": "code",
   "execution_count": null,
   "metadata": {},
   "outputs": [],
   "source": []
  },
  {
   "cell_type": "code",
   "execution_count": null,
   "metadata": {},
   "outputs": [],
   "source": []
  },
  {
   "cell_type": "code",
   "execution_count": null,
   "metadata": {},
   "outputs": [],
   "source": []
  },
  {
   "cell_type": "code",
   "execution_count": null,
   "metadata": {},
   "outputs": [],
   "source": [
    "\n",
    "\n",
    "\n",
    "\n",
    "\n",
    "\n",
    "\n",
    "\n",
    "\n",
    "\n",
    "\n",
    "\n",
    "\n",
    "\n",
    "\n",
    "\n",
    "\n",
    "\n",
    "\n",
    "\n",
    "\n",
    "\n",
    "\n",
    "\n",
    "\n",
    "\n",
    "\n",
    "\n",
    "\n",
    "\n",
    "\n",
    "\n",
    "\n",
    "\n",
    "\n",
    "\n",
    "\n",
    "\n",
    "\n",
    "\n",
    "\n",
    "\n",
    "\n",
    "\n",
    "\n",
    "\n",
    "\n",
    "\n",
    "\n",
    "\n",
    "\n"
   ]
  }
 ],
 "metadata": {
  "interpreter": {
   "hash": "716ef94a01c3d994cde453e411f4463b0105d2a3a71c6aed84dea7988b1708f3"
  },
  "kernelspec": {
   "display_name": "Python 3.8.10 64-bit ('consent': conda)",
   "name": "python3"
  },
  "language_info": {
   "codemirror_mode": {
    "name": "ipython",
    "version": 3
   },
   "file_extension": ".py",
   "mimetype": "text/x-python",
   "name": "python",
   "nbconvert_exporter": "python",
   "pygments_lexer": "ipython3",
   "version": "3.8.10"
  }
 },
 "nbformat": 4,
 "nbformat_minor": 4
}
