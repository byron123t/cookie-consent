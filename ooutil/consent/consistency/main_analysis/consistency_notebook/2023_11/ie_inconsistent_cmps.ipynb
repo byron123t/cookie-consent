{
 "cells": [
  {
   "cell_type": "code",
   "execution_count": 1,
   "metadata": {},
   "outputs": [],
   "source": [
    "import pandas as pd\n",
    "\n",
    "\n",
    "from consent.consistency.util import get_scan_dirs, get_scan_root_dir\n",
    "from consent.util.default_path import get_data_dir\n",
    "from ooutil.df_util import read_data_files\n",
    "\n",
    "location = 'ie'\n",
    "SCAN_DIRS = get_scan_dirs(location)\n",
    "SCAN_ROOT_DIR = get_scan_root_dir(location)\n",
    "suffix = '_' + '0k_20k'"
   ]
  },
  {
   "cell_type": "code",
   "execution_count": 2,
   "metadata": {},
   "outputs": [
    {
     "name": "stdout",
     "output_type": "stream",
     "text": [
      "Cookie prefs files: ['cookie_prefs_0k_20k.parquet']\n"
     ]
    },
    {
     "data": {
      "text/html": [
       "<div>\n",
       "<style scoped>\n",
       "    .dataframe tbody tr th:only-of-type {\n",
       "        vertical-align: middle;\n",
       "    }\n",
       "\n",
       "    .dataframe tbody tr th {\n",
       "        vertical-align: top;\n",
       "    }\n",
       "\n",
       "    .dataframe thead th {\n",
       "        text-align: right;\n",
       "    }\n",
       "</style>\n",
       "<table border=\"1\" class=\"dataframe\">\n",
       "  <thead>\n",
       "    <tr style=\"text-align: right;\">\n",
       "      <th></th>\n",
       "      <th>name</th>\n",
       "      <th>domain</th>\n",
       "      <th>duration</th>\n",
       "      <th>category_id</th>\n",
       "      <th>category</th>\n",
       "      <th>consent_mode</th>\n",
       "      <th>site</th>\n",
       "      <th>lib_name</th>\n",
       "      <th>pattern_name</th>\n",
       "      <th>consent</th>\n",
       "    </tr>\n",
       "  </thead>\n",
       "  <tbody>\n",
       "    <tr>\n",
       "      <th>0</th>\n",
       "      <td>__we_bucket_id</td>\n",
       "      <td>www.wework.com</td>\n",
       "      <td>365 days</td>\n",
       "      <td>C0001</td>\n",
       "      <td>Strictly Necessary Cookies</td>\n",
       "      <td>always active</td>\n",
       "      <td>wework.com</td>\n",
       "      <td>onetrust</td>\n",
       "      <td>en.json</td>\n",
       "      <td>True</td>\n",
       "    </tr>\n",
       "    <tr>\n",
       "      <th>1</th>\n",
       "      <td>s_xxxx</td>\n",
       "      <td>wework.com</td>\n",
       "      <td>730 days</td>\n",
       "      <td>C0001</td>\n",
       "      <td>Strictly Necessary Cookies</td>\n",
       "      <td>always active</td>\n",
       "      <td>wework.com</td>\n",
       "      <td>onetrust</td>\n",
       "      <td>en.json</td>\n",
       "      <td>True</td>\n",
       "    </tr>\n",
       "    <tr>\n",
       "      <th>2</th>\n",
       "      <td>ajs_anonymous_id</td>\n",
       "      <td>wework.com</td>\n",
       "      <td>365 days</td>\n",
       "      <td>C0001</td>\n",
       "      <td>Strictly Necessary Cookies</td>\n",
       "      <td>always active</td>\n",
       "      <td>wework.com</td>\n",
       "      <td>onetrust</td>\n",
       "      <td>en.json</td>\n",
       "      <td>True</td>\n",
       "    </tr>\n",
       "    <tr>\n",
       "      <th>3</th>\n",
       "      <td>OptanonConsent</td>\n",
       "      <td>www.wework.com</td>\n",
       "      <td>365 days</td>\n",
       "      <td>C0001</td>\n",
       "      <td>Strictly Necessary Cookies</td>\n",
       "      <td>always active</td>\n",
       "      <td>wework.com</td>\n",
       "      <td>onetrust</td>\n",
       "      <td>en.json</td>\n",
       "      <td>True</td>\n",
       "    </tr>\n",
       "    <tr>\n",
       "      <th>4</th>\n",
       "      <td>__we_request_id</td>\n",
       "      <td>www.wework.com</td>\n",
       "      <td>Session</td>\n",
       "      <td>C0001</td>\n",
       "      <td>Strictly Necessary Cookies</td>\n",
       "      <td>always active</td>\n",
       "      <td>wework.com</td>\n",
       "      <td>onetrust</td>\n",
       "      <td>en.json</td>\n",
       "      <td>True</td>\n",
       "    </tr>\n",
       "  </tbody>\n",
       "</table>\n",
       "</div>"
      ],
      "text/plain": [
       "               name          domain  duration category_id  \\\n",
       "0    __we_bucket_id  www.wework.com  365 days       C0001   \n",
       "1            s_xxxx      wework.com  730 days       C0001   \n",
       "2  ajs_anonymous_id      wework.com  365 days       C0001   \n",
       "3    OptanonConsent  www.wework.com  365 days       C0001   \n",
       "4   __we_request_id  www.wework.com   Session       C0001   \n",
       "\n",
       "                     category   consent_mode        site  lib_name  \\\n",
       "0  Strictly Necessary Cookies  always active  wework.com  onetrust   \n",
       "1  Strictly Necessary Cookies  always active  wework.com  onetrust   \n",
       "2  Strictly Necessary Cookies  always active  wework.com  onetrust   \n",
       "3  Strictly Necessary Cookies  always active  wework.com  onetrust   \n",
       "4  Strictly Necessary Cookies  always active  wework.com  onetrust   \n",
       "\n",
       "  pattern_name  consent  \n",
       "0      en.json     True  \n",
       "1      en.json     True  \n",
       "2      en.json     True  \n",
       "3      en.json     True  \n",
       "4      en.json     True  "
      ]
     },
     "execution_count": 2,
     "metadata": {},
     "output_type": "execute_result"
    }
   ],
   "source": [
    "cookie_prefs_files = sorted(list(SCAN_ROOT_DIR.glob(\"cookie_prefs_*.parquet\"))) # SCAN_ROOT_DIR/ f'cookie_prefs{suffix}.parquet'\n",
    "print(f\"Cookie prefs files: {[file.name for file in cookie_prefs_files]}\")\n",
    "cookie_prefs = pd.read_parquet(cookie_prefs_files) # pd.read_parquet(cookie_prefs_file)\n",
    "cookie_prefs.head()"
   ]
  },
  {
   "cell_type": "code",
   "execution_count": 3,
   "metadata": {},
   "outputs": [
    {
     "name": "stdout",
     "output_type": "stream",
     "text": [
      "Cookie declaration files: ['cookie_prefs_0k_20k.parquet']\n",
      "Num cookie declarations: 282,716\n"
     ]
    },
    {
     "data": {
      "text/html": [
       "<div>\n",
       "<style scoped>\n",
       "    .dataframe tbody tr th:only-of-type {\n",
       "        vertical-align: middle;\n",
       "    }\n",
       "\n",
       "    .dataframe tbody tr th {\n",
       "        vertical-align: top;\n",
       "    }\n",
       "\n",
       "    .dataframe thead th {\n",
       "        text-align: right;\n",
       "    }\n",
       "</style>\n",
       "<table border=\"1\" class=\"dataframe\">\n",
       "  <thead>\n",
       "    <tr style=\"text-align: right;\">\n",
       "      <th></th>\n",
       "      <th>name</th>\n",
       "      <th>domain</th>\n",
       "      <th>duration</th>\n",
       "      <th>category_id</th>\n",
       "      <th>category</th>\n",
       "      <th>consent_mode</th>\n",
       "      <th>site</th>\n",
       "      <th>lib_name</th>\n",
       "      <th>pattern_name</th>\n",
       "    </tr>\n",
       "    <tr>\n",
       "      <th>index</th>\n",
       "      <th></th>\n",
       "      <th></th>\n",
       "      <th></th>\n",
       "      <th></th>\n",
       "      <th></th>\n",
       "      <th></th>\n",
       "      <th></th>\n",
       "      <th></th>\n",
       "      <th></th>\n",
       "    </tr>\n",
       "  </thead>\n",
       "  <tbody>\n",
       "    <tr>\n",
       "      <th>0</th>\n",
       "      <td>__we_bucket_id</td>\n",
       "      <td>www.wework.com</td>\n",
       "      <td>365 days</td>\n",
       "      <td>C0001</td>\n",
       "      <td>Strictly Necessary Cookies</td>\n",
       "      <td>always active</td>\n",
       "      <td>wework.com</td>\n",
       "      <td>onetrust</td>\n",
       "      <td>en.json</td>\n",
       "    </tr>\n",
       "    <tr>\n",
       "      <th>1</th>\n",
       "      <td>s_xxxx</td>\n",
       "      <td>wework.com</td>\n",
       "      <td>730 days</td>\n",
       "      <td>C0001</td>\n",
       "      <td>Strictly Necessary Cookies</td>\n",
       "      <td>always active</td>\n",
       "      <td>wework.com</td>\n",
       "      <td>onetrust</td>\n",
       "      <td>en.json</td>\n",
       "    </tr>\n",
       "    <tr>\n",
       "      <th>2</th>\n",
       "      <td>ajs_anonymous_id</td>\n",
       "      <td>wework.com</td>\n",
       "      <td>365 days</td>\n",
       "      <td>C0001</td>\n",
       "      <td>Strictly Necessary Cookies</td>\n",
       "      <td>always active</td>\n",
       "      <td>wework.com</td>\n",
       "      <td>onetrust</td>\n",
       "      <td>en.json</td>\n",
       "    </tr>\n",
       "    <tr>\n",
       "      <th>3</th>\n",
       "      <td>OptanonConsent</td>\n",
       "      <td>www.wework.com</td>\n",
       "      <td>365 days</td>\n",
       "      <td>C0001</td>\n",
       "      <td>Strictly Necessary Cookies</td>\n",
       "      <td>always active</td>\n",
       "      <td>wework.com</td>\n",
       "      <td>onetrust</td>\n",
       "      <td>en.json</td>\n",
       "    </tr>\n",
       "    <tr>\n",
       "      <th>4</th>\n",
       "      <td>__we_request_id</td>\n",
       "      <td>www.wework.com</td>\n",
       "      <td>Session</td>\n",
       "      <td>C0001</td>\n",
       "      <td>Strictly Necessary Cookies</td>\n",
       "      <td>always active</td>\n",
       "      <td>wework.com</td>\n",
       "      <td>onetrust</td>\n",
       "      <td>en.json</td>\n",
       "    </tr>\n",
       "  </tbody>\n",
       "</table>\n",
       "</div>"
      ],
      "text/plain": [
       "                   name          domain  duration category_id  \\\n",
       "index                                                           \n",
       "0        __we_bucket_id  www.wework.com  365 days       C0001   \n",
       "1                s_xxxx      wework.com  730 days       C0001   \n",
       "2      ajs_anonymous_id      wework.com  365 days       C0001   \n",
       "3        OptanonConsent  www.wework.com  365 days       C0001   \n",
       "4       __we_request_id  www.wework.com   Session       C0001   \n",
       "\n",
       "                         category   consent_mode        site  lib_name  \\\n",
       "index                                                                    \n",
       "0      Strictly Necessary Cookies  always active  wework.com  onetrust   \n",
       "1      Strictly Necessary Cookies  always active  wework.com  onetrust   \n",
       "2      Strictly Necessary Cookies  always active  wework.com  onetrust   \n",
       "3      Strictly Necessary Cookies  always active  wework.com  onetrust   \n",
       "4      Strictly Necessary Cookies  always active  wework.com  onetrust   \n",
       "\n",
       "      pattern_name  \n",
       "index               \n",
       "0          en.json  \n",
       "1          en.json  \n",
       "2          en.json  \n",
       "3          en.json  \n",
       "4          en.json  "
      ]
     },
     "execution_count": 3,
     "metadata": {},
     "output_type": "execute_result"
    }
   ],
   "source": [
    "# TODO: add some flags, this is from pref_category_notebook.ipynb\n",
    "data_dir = SCAN_ROOT_DIR # get_data_dir('2022-05-30') # '2022-01-14')\n",
    "cookie_decls_files = sorted(list(SCAN_ROOT_DIR.glob(\"cookie_decls_*.parquet\"))) # data_dir / f'cookie_decls{suffix}.parquet'\n",
    "print(f\"Cookie declaration files: {[file.name for file in cookie_prefs_files]}\")\n",
    "raw_cookie_decls = pd.read_parquet(cookie_decls_files)\n",
    "# raw_cookie_decls = read_cookie_decls_in_scans(SCAN_DIRS)\n",
    "print(f\"Num cookie declarations: {len(raw_cookie_decls):,d}\")\n",
    "raw_cookie_decls.head()"
   ]
  },
  {
   "cell_type": "code",
   "execution_count": 4,
   "metadata": {},
   "outputs": [
    {
     "name": "stdout",
     "output_type": "stream",
     "text": [
      "['all_complies_0k_20k.parquet']\n"
     ]
    },
    {
     "data": {
      "text/html": [
       "<div>\n",
       "<style scoped>\n",
       "    .dataframe tbody tr th:only-of-type {\n",
       "        vertical-align: middle;\n",
       "    }\n",
       "\n",
       "    .dataframe tbody tr th {\n",
       "        vertical-align: top;\n",
       "    }\n",
       "\n",
       "    .dataframe thead th {\n",
       "        text-align: right;\n",
       "    }\n",
       "</style>\n",
       "<table border=\"1\" class=\"dataframe\">\n",
       "  <thead>\n",
       "    <tr style=\"text-align: right;\">\n",
       "      <th></th>\n",
       "      <th>name</th>\n",
       "      <th>domain</th>\n",
       "      <th>path</th>\n",
       "      <th>site</th>\n",
       "      <th>comply</th>\n",
       "    </tr>\n",
       "  </thead>\n",
       "  <tbody>\n",
       "    <tr>\n",
       "      <th>0</th>\n",
       "      <td>ajs_anonymous_id</td>\n",
       "      <td>.wework.com</td>\n",
       "      <td>/</td>\n",
       "      <td>wework.com</td>\n",
       "      <td>comply</td>\n",
       "    </tr>\n",
       "    <tr>\n",
       "      <th>1</th>\n",
       "      <td>sa-user-id-v2</td>\n",
       "      <td>www.wework.com</td>\n",
       "      <td>/</td>\n",
       "      <td>wework.com</td>\n",
       "      <td>omit</td>\n",
       "    </tr>\n",
       "    <tr>\n",
       "      <th>2</th>\n",
       "      <td>ajs_user_id</td>\n",
       "      <td>.wework.com</td>\n",
       "      <td>/</td>\n",
       "      <td>wework.com</td>\n",
       "      <td>comply</td>\n",
       "    </tr>\n",
       "    <tr>\n",
       "      <th>3</th>\n",
       "      <td>OptanonAlertBoxClosed</td>\n",
       "      <td>.www.wework.com</td>\n",
       "      <td>/</td>\n",
       "      <td>wework.com</td>\n",
       "      <td>comply</td>\n",
       "    </tr>\n",
       "    <tr>\n",
       "      <th>4</th>\n",
       "      <td>user</td>\n",
       "      <td>www.wework.com</td>\n",
       "      <td>/</td>\n",
       "      <td>wework.com</td>\n",
       "      <td>comply</td>\n",
       "    </tr>\n",
       "  </tbody>\n",
       "</table>\n",
       "</div>"
      ],
      "text/plain": [
       "                    name           domain path        site  comply\n",
       "0       ajs_anonymous_id      .wework.com    /  wework.com  comply\n",
       "1          sa-user-id-v2   www.wework.com    /  wework.com    omit\n",
       "2            ajs_user_id      .wework.com    /  wework.com  comply\n",
       "3  OptanonAlertBoxClosed  .www.wework.com    /  wework.com  comply\n",
       "4                   user   www.wework.com    /  wework.com  comply"
      ]
     },
     "execution_count": 4,
     "metadata": {},
     "output_type": "execute_result"
    }
   ],
   "source": [
    "# Need to read this to report only the sites that have been analyzed\n",
    "# all_complies_file = SCAN_ROOT_DIR / f'all_complies{suffix}.parquet'\n",
    "# all_complies = pd.read_parquet(all_complies_file)\n",
    "# all_complies.head()\n",
    "all_complies_files = list(SCAN_ROOT_DIR.glob('all_complies_*.parquet'))\n",
    "print(sorted(f.name for f in all_complies_files))\n",
    "all_complies = pd.read_parquet(all_complies_files)\n",
    "all_complies.head()"
   ]
  },
  {
   "cell_type": "code",
   "execution_count": 5,
   "metadata": {},
   "outputs": [],
   "source": [
    "site_to_lib = {}\n",
    "for row in raw_cookie_decls[['site', 'lib_name']].drop_duplicates().itertuples():\n",
    "    site_to_lib[row.site] = row.lib_name\n",
    "all_complies['lib_name'] = all_complies['site'].map(site_to_lib)"
   ]
  },
  {
   "cell_type": "code",
   "execution_count": 6,
   "metadata": {},
   "outputs": [],
   "source": [
    "site_libs = all_complies[['site', 'lib_name']].drop_duplicates()"
   ]
  },
  {
   "cell_type": "code",
   "execution_count": 7,
   "metadata": {},
   "outputs": [
    {
     "data": {
      "text/plain": [
       "{'onetrust': 1341, 'cookiebot': 109, 'termly': 8}"
      ]
     },
     "execution_count": 7,
     "metadata": {},
     "output_type": "execute_result"
    }
   ],
   "source": [
    "lib_counts = site_libs['lib_name'].value_counts().to_dict()\n",
    "lib_counts"
   ]
  },
  {
   "cell_type": "code",
   "execution_count": 8,
   "metadata": {},
   "outputs": [
    {
     "name": "stdout",
     "output_type": "stream",
     "text": [
      "1458\n"
     ]
    },
    {
     "data": {
      "text/plain": [
       "onetrust     1340\n",
       "cookiebot     110\n",
       "termly          8\n",
       "Name: lib_name, dtype: int64"
      ]
     },
     "execution_count": 8,
     "metadata": {},
     "output_type": "execute_result"
    }
   ],
   "source": [
    "site_to_libname = {row['site']: row['lib_name'] for row in cookie_prefs[['site', 'lib_name']].drop_duplicates().to_dict('records')}\n",
    "all_complies['lib_name'] = all_complies.site.map(site_to_libname)\n",
    "all_complies_libs = all_complies.drop_duplicates(subset='site').lib_name.value_counts()\n",
    "print(all_complies_libs.sum())\n",
    "# TODO: why this difference??\n",
    "lib_counts = all_complies_libs\n",
    "all_complies_libs"
   ]
  },
  {
   "cell_type": "code",
   "execution_count": 9,
   "metadata": {},
   "outputs": [
    {
     "data": {
      "text/html": [
       "<div>\n",
       "<style scoped>\n",
       "    .dataframe tbody tr th:only-of-type {\n",
       "        vertical-align: middle;\n",
       "    }\n",
       "\n",
       "    .dataframe tbody tr th {\n",
       "        vertical-align: top;\n",
       "    }\n",
       "\n",
       "    .dataframe thead th {\n",
       "        text-align: right;\n",
       "    }\n",
       "</style>\n",
       "<table border=\"1\" class=\"dataframe\">\n",
       "  <thead>\n",
       "    <tr style=\"text-align: right;\">\n",
       "      <th></th>\n",
       "      <th>site</th>\n",
       "      <th>lib_name</th>\n",
       "    </tr>\n",
       "  </thead>\n",
       "  <tbody>\n",
       "    <tr>\n",
       "      <th>14</th>\n",
       "      <td>savvis.net</td>\n",
       "      <td>onetrust</td>\n",
       "    </tr>\n",
       "    <tr>\n",
       "      <th>35</th>\n",
       "      <td>cengage.com</td>\n",
       "      <td>onetrust</td>\n",
       "    </tr>\n",
       "    <tr>\n",
       "      <th>41</th>\n",
       "      <td>oclc.org</td>\n",
       "      <td>onetrust</td>\n",
       "    </tr>\n",
       "    <tr>\n",
       "      <th>62</th>\n",
       "      <td>qualtrics.com</td>\n",
       "      <td>onetrust</td>\n",
       "    </tr>\n",
       "    <tr>\n",
       "      <th>101</th>\n",
       "      <td>superpages.com</td>\n",
       "      <td>onetrust</td>\n",
       "    </tr>\n",
       "  </tbody>\n",
       "</table>\n",
       "</div>"
      ],
      "text/plain": [
       "               site  lib_name\n",
       "14       savvis.net  onetrust\n",
       "35      cengage.com  onetrust\n",
       "41         oclc.org  onetrust\n",
       "62    qualtrics.com  onetrust\n",
       "101  superpages.com  onetrust"
      ]
     },
     "execution_count": 9,
     "metadata": {},
     "output_type": "execute_result"
    }
   ],
   "source": [
    "inconsist = all_complies[all_complies.comply == 'incorrect'][['site', 'lib_name']].drop_duplicates()\n",
    "inconsist.head()"
   ]
  },
  {
   "cell_type": "code",
   "execution_count": 10,
   "metadata": {},
   "outputs": [
    {
     "name": "stdout",
     "output_type": "stream",
     "text": [
      "Inconsistent libraries (normalized by number of library instances)\n"
     ]
    },
    {
     "name": "stdout",
     "output_type": "stream",
     "text": [
      "\\begin{tabular}{ll}\n",
      "\\toprule\n",
      "CMP & \\# Violations \\\\\n",
      "\\midrule\n",
      "\\textbackslash onetrust & 1,114 (83.13\\%) \\\\\n",
      "\\textbackslash cookiebot & 82 (74.55\\%) \\\\\n",
      "\\textbackslash termly & 8 (100.00\\%) \\\\\n",
      "\\bottomrule\n",
      "\\end{tabular}\n",
      "\n"
     ]
    }
   ],
   "source": [
    "inconsist_libs = inconsist['lib_name'].value_counts().to_frame().reset_index().rename(columns={'lib_name': 'count', 'index': 'lib_name'})\n",
    "inconsist_libs['normalized'] = inconsist_libs.apply(lambda row: row['count'] / lib_counts[row['lib_name']], axis=1)\n",
    "inconsist_libs['count_percent'] = inconsist_libs.apply(lambda row: f\"{row['count']:,d} ({row['normalized']*100:.2f}%)\", axis=1)\n",
    "print(\"Inconsistent libraries (normalized by number of library instances)\")\n",
    "latex_df = inconsist_libs[['lib_name', 'count_percent']].copy()\n",
    "latex_df.rename(columns={'lib_name': 'CMP', 'count_percent': '# Violations'}, inplace=True)\n",
    "latex_df.replace({'onetrust': '\\onetrust', 'cookiebot': '\\cookiebot', 'termly': r'\\termly'}, inplace=True)\n",
    "print(latex_df.style.hide(axis='index').format_index(escape='latex', axis=1).format(escape='latex').to_latex(hrules=True))"
   ]
  },
  {
   "cell_type": "code",
   "execution_count": null,
   "metadata": {},
   "outputs": [],
   "source": []
  }
 ],
 "metadata": {
  "interpreter": {
   "hash": "716ef94a01c3d994cde453e411f4463b0105d2a3a71c6aed84dea7988b1708f3"
  },
  "kernelspec": {
   "display_name": "Python 3.8.10 ('consent')",
   "language": "python",
   "name": "python3"
  },
  "language_info": {
   "codemirror_mode": {
    "name": "ipython",
    "version": 3
   },
   "file_extension": ".py",
   "mimetype": "text/x-python",
   "name": "python",
   "nbconvert_exporter": "python",
   "pygments_lexer": "ipython3",
   "version": "3.8.16"
  },
  "orig_nbformat": 4
 },
 "nbformat": 4,
 "nbformat_minor": 2
}
