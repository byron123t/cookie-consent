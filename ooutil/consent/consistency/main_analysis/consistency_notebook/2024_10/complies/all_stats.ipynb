{
 "cells": [
  {
   "cell_type": "code",
   "execution_count": 1,
   "metadata": {},
   "outputs": [],
   "source": [
    "from collections import defaultdict\n",
    "\n",
    "from tqdm import tqdm\n",
    "import matplotlib.pyplot as plt\n",
    "import pandas as pd\n",
    "import seaborn as sns\n",
    "\n",
    "from consent.consistency.util import get_scan_root_dir, get_scan_dirs, LOCATIONS\n",
    "from ooutil.df_util import read_data_files\n",
    "from ooutil.url_util import get_suffixed_domain\n",
    "\n",
    "pd.options.display.max_rows = 100\n",
    "\n",
    "def process(location):\n",
    "    print(f\"Process location {location}\")\n",
    "    SCAN_DIRS = get_scan_dirs(location)\n",
    "    SCAN_ROOT_DIR = get_scan_root_dir(location)\n",
    "\n",
    "    cookie_prefs_files = list(SCAN_ROOT_DIR.glob('cookie_prefs_*.parquet'))\n",
    "    cookie_prefs = read_data_files(cookie_prefs_files) # pd.read_parquet(cookie_prefs_file)\n",
    "\n",
    "    all_complies_files = list(SCAN_ROOT_DIR.glob('all_complies_*.parquet'))\n",
    "    all_complies = read_data_files(all_complies_files)\n",
    "    all_complies.head()\n",
    "\n",
    "    nsites = all_complies.site.nunique()\n",
    "    print(f'Number of sites with prefs: {cookie_prefs.site.nunique():,d}')\n",
    "    print(f\"Number of sites with consistency: {nsites:,d}\")\n",
    "    print(f'Number of flows analyzed: {len(all_complies):,d}')\n",
    "\n",
    "    site_to_libname = {row['site']: row['lib_name'] for row in cookie_prefs[['site', 'lib_name']].drop_duplicates().to_dict('records')}\n",
    "    all_complies['lib_name'] = all_complies.site.map(site_to_libname)\n",
    "    all_complies_libs = all_complies.drop_duplicates(subset='site').lib_name.value_counts()\n",
    "    all_complies_libs\n",
    "\n",
    "    # all_complies: comply flows, complies: comply cookies\n",
    "    complies = all_complies[['name', 'domain', 'path', 'site', 'comply']].drop_duplicates()\n",
    "    comply_counts = complies.comply.value_counts()\n",
    "    assert len(complies) == comply_counts.sum(), \"Some cookie have 2 different comply values\"\n",
    "    comply_counts\n",
    "\n",
    "    # Counts violated sites = at least 1 violation detected.\n",
    "    comply_sites_data = defaultdict(list)\n",
    "    for comply_type, comply_group in complies.groupby('comply'):\n",
    "        n_sites = comply_group.site.nunique()\n",
    "        comply_sites_data['comply_type'].append(comply_type)\n",
    "        comply_sites_data['num_sites'].append(n_sites)\n",
    "        comply_sites = pd.DataFrame(comply_sites_data).sort_values(by=['num_sites'], ascending=False)\n",
    "\n",
    "\n",
    "    comply_sites['num_sites_percent'] = comply_sites['num_sites'] / nsites * 100\n",
    "    comply_sites['num_cookies'] = comply_sites['comply_type'].map(comply_counts)\n",
    "    comply_sites['num_cookies_percent'] = comply_sites['num_cookies'] / comply_sites['num_cookies'].sum() * 100  # need to read scan_*.parquet for n_br_cookies, but may be unnecessary\n",
    "    comply_sites['num_cookies_per_site'] = comply_sites['num_cookies'] / comply_sites['num_sites']\n",
    "\n",
    "    # Do not count comply/correct enforcement: which require detecting all possible\n",
    "    comply_sites = comply_sites[comply_sites.comply_type != 'comply']\n",
    "    comply_sites\n",
    "\n",
    "    totals = comply_sites.sum()\n",
    "    n_cookies_analyzed = totals['num_cookies']\n",
    "    print(f'Num cookies analyzed: {n_cookies_analyzed:,d}')\n",
    "\n",
    "    # Count complying (no violation detected)\n",
    "    n_comply_sites = 0\n",
    "    for site, site_comply in complies.groupby('site'):\n",
    "        if set(site_comply.comply.unique()) == {'comply'}:\n",
    "            n_comply_sites += 1\n",
    "    n_comply_sites\n",
    "\n",
    "    latex = comply_sites[['comply_type', 'num_cookies', 'num_sites', 'num_sites_percent']].copy()\n",
    "    # latex['num_sites_combine'] = latex.apply(lambda row: f\"{row['num_sites']} ({row['num_sites_percent']:.2f}%)\", axis=1)\n",
    "    latex['num_sites_combine'] = latex.apply(lambda row: f\"{row['num_sites_percent']:.2f}% ({row['num_sites']:,d}/{nsites:,d})\", axis=1)\n",
    "    latex = latex[['comply_type', 'num_cookies', 'num_sites_combine']]\n",
    "    latex = latex[latex.comply_type != 'comply']\n",
    "    latex = latex.rename(columns={'comply_type': 'Violation Type', 'num_sites_combine': '# Websites', 'num_cookies': '# Cookies'})\n",
    "    latex = latex.replace({'omit': \"Consent Omission\", \"incorrect\": \"Rejected Cookie Usage\", \"ambiguous\": \"Ambiguous Consent\", \"comply\": \"Correct Enforcement\"})\n",
    "    latex['Location'] = location\n",
    "\n",
    "    return latex"
   ]
  },
  {
   "cell_type": "code",
   "execution_count": 2,
   "metadata": {},
   "outputs": [
    {
     "name": "stdout",
     "output_type": "stream",
     "text": [
      "Process location capetown\n"
     ]
    },
    {
     "name": "stderr",
     "output_type": "stream",
     "text": [
      "100%|██████████| 1/1 [00:00<00:00,  4.25it/s]\n",
      "100%|██████████| 1/1 [00:00<00:00, 34.41it/s]\n"
     ]
    },
    {
     "name": "stdout",
     "output_type": "stream",
     "text": [
      "Number of sites with prefs: 1,368\n",
      "Number of sites with consistency: 1,361\n",
      "Number of flows analyzed: 49,018\n",
      "Num cookies analyzed: 37,106\n",
      "Process location ireland\n"
     ]
    },
    {
     "name": "stderr",
     "output_type": "stream",
     "text": [
      "100%|██████████| 1/1 [00:00<00:00,  4.23it/s]\n",
      "100%|██████████| 1/1 [00:00<00:00, 46.73it/s]\n"
     ]
    },
    {
     "name": "stdout",
     "output_type": "stream",
     "text": [
      "Number of sites with prefs: 1,444\n",
      "Number of sites with consistency: 1,438\n",
      "Number of flows analyzed: 29,694\n",
      "Num cookies analyzed: 22,196\n",
      "Process location london\n"
     ]
    },
    {
     "name": "stderr",
     "output_type": "stream",
     "text": [
      "100%|██████████| 1/1 [00:00<00:00,  5.43it/s]\n",
      "100%|██████████| 1/1 [00:00<00:00, 41.86it/s]\n"
     ]
    },
    {
     "name": "stdout",
     "output_type": "stream",
     "text": [
      "Number of sites with prefs: 1,355\n",
      "Number of sites with consistency: 1,350\n",
      "Number of flows analyzed: 28,668\n",
      "Num cookies analyzed: 21,507\n",
      "Process location mi\n"
     ]
    },
    {
     "name": "stderr",
     "output_type": "stream",
     "text": [
      "100%|██████████| 1/1 [00:00<00:00,  5.19it/s]\n",
      "100%|██████████| 1/1 [00:00<00:00, 28.36it/s]\n"
     ]
    },
    {
     "name": "stdout",
     "output_type": "stream",
     "text": [
      "Number of sites with prefs: 1,394\n",
      "Number of sites with consistency: 1,391\n",
      "Number of flows analyzed: 64,341\n",
      "Num cookies analyzed: 51,163\n",
      "Process location sf\n"
     ]
    },
    {
     "name": "stderr",
     "output_type": "stream",
     "text": [
      "100%|██████████| 1/1 [00:00<00:00,  4.15it/s]\n",
      "100%|██████████| 1/1 [00:00<00:00, 30.78it/s]\n"
     ]
    },
    {
     "name": "stdout",
     "output_type": "stream",
     "text": [
      "Number of sites with prefs: 1,444\n",
      "Number of sites with consistency: 1,439\n",
      "Number of flows analyzed: 58,035\n",
      "Num cookies analyzed: 48,557\n",
      "Process location singapore\n"
     ]
    },
    {
     "name": "stderr",
     "output_type": "stream",
     "text": [
      "100%|██████████| 1/1 [00:00<00:00,  4.99it/s]\n",
      "100%|██████████| 1/1 [00:00<00:00, 33.59it/s]\n"
     ]
    },
    {
     "name": "stdout",
     "output_type": "stream",
     "text": [
      "Number of sites with prefs: 1,330\n",
      "Number of sites with consistency: 1,323\n",
      "Number of flows analyzed: 49,172\n",
      "Num cookies analyzed: 37,609\n",
      "Process location sydney\n"
     ]
    },
    {
     "name": "stderr",
     "output_type": "stream",
     "text": [
      "100%|██████████| 1/1 [00:00<00:00,  5.08it/s]\n",
      "100%|██████████| 1/1 [00:00<00:00, 32.41it/s]\n"
     ]
    },
    {
     "name": "stdout",
     "output_type": "stream",
     "text": [
      "Number of sites with prefs: 1,303\n",
      "Number of sites with consistency: 1,300\n",
      "Number of flows analyzed: 51,509\n",
      "Num cookies analyzed: 39,507\n",
      "Process location toronto\n"
     ]
    },
    {
     "name": "stderr",
     "output_type": "stream",
     "text": [
      "100%|██████████| 1/1 [00:00<00:00,  5.05it/s]\n",
      "100%|██████████| 1/1 [00:00<00:00, 53.02it/s]\n"
     ]
    },
    {
     "name": "stdout",
     "output_type": "stream",
     "text": [
      "Number of sites with prefs: 1,351\n",
      "Number of sites with consistency: 1,081\n",
      "Number of flows analyzed: 23,753\n",
      "Num cookies analyzed: 18,056\n"
     ]
    }
   ],
   "source": [
    "dfs = []\n",
    "for location in LOCATIONS:\n",
    "    dfs.append(process(location))"
   ]
  },
  {
   "cell_type": "code",
   "execution_count": 3,
   "metadata": {},
   "outputs": [
    {
     "data": {
      "text/html": [
       "<div>\n",
       "<style scoped>\n",
       "    .dataframe tbody tr th:only-of-type {\n",
       "        vertical-align: middle;\n",
       "    }\n",
       "\n",
       "    .dataframe tbody tr th {\n",
       "        vertical-align: top;\n",
       "    }\n",
       "\n",
       "    .dataframe thead th {\n",
       "        text-align: right;\n",
       "    }\n",
       "</style>\n",
       "<table border=\"1\" class=\"dataframe\">\n",
       "  <thead>\n",
       "    <tr style=\"text-align: right;\">\n",
       "      <th></th>\n",
       "      <th></th>\n",
       "      <th># Cookies</th>\n",
       "      <th># Websites</th>\n",
       "    </tr>\n",
       "    <tr>\n",
       "      <th>Location</th>\n",
       "      <th>Violation Type</th>\n",
       "      <th></th>\n",
       "      <th></th>\n",
       "    </tr>\n",
       "  </thead>\n",
       "  <tbody>\n",
       "    <tr>\n",
       "      <th rowspan=\"3\" valign=\"top\">capetown</th>\n",
       "      <th>Consent Omission</th>\n",
       "      <td>22938</td>\n",
       "      <td>91.26% (1,242/1,361)</td>\n",
       "    </tr>\n",
       "    <tr>\n",
       "      <th>Rejected Cookie Usage</th>\n",
       "      <td>14099</td>\n",
       "      <td>78.03% (1,062/1,361)</td>\n",
       "    </tr>\n",
       "    <tr>\n",
       "      <th>Ambiguous Consent</th>\n",
       "      <td>69</td>\n",
       "      <td>4.26% (58/1,361)</td>\n",
       "    </tr>\n",
       "    <tr>\n",
       "      <th rowspan=\"3\" valign=\"top\">ireland</th>\n",
       "      <th>Consent Omission</th>\n",
       "      <td>12445</td>\n",
       "      <td>88.60% (1,274/1,438)</td>\n",
       "    </tr>\n",
       "    <tr>\n",
       "      <th>Rejected Cookie Usage</th>\n",
       "      <td>9696</td>\n",
       "      <td>79.55% (1,144/1,438)</td>\n",
       "    </tr>\n",
       "    <tr>\n",
       "      <th>Ambiguous Consent</th>\n",
       "      <td>55</td>\n",
       "      <td>3.34% (48/1,438)</td>\n",
       "    </tr>\n",
       "    <tr>\n",
       "      <th rowspan=\"3\" valign=\"top\">london</th>\n",
       "      <th>Consent Omission</th>\n",
       "      <td>12187</td>\n",
       "      <td>89.26% (1,205/1,350)</td>\n",
       "    </tr>\n",
       "    <tr>\n",
       "      <th>Rejected Cookie Usage</th>\n",
       "      <td>9271</td>\n",
       "      <td>81.48% (1,100/1,350)</td>\n",
       "    </tr>\n",
       "    <tr>\n",
       "      <th>Ambiguous Consent</th>\n",
       "      <td>49</td>\n",
       "      <td>3.11% (42/1,350)</td>\n",
       "    </tr>\n",
       "    <tr>\n",
       "      <th rowspan=\"3\" valign=\"top\">mi</th>\n",
       "      <th>Consent Omission</th>\n",
       "      <td>35203</td>\n",
       "      <td>92.24% (1,283/1,391)</td>\n",
       "    </tr>\n",
       "    <tr>\n",
       "      <th>Rejected Cookie Usage</th>\n",
       "      <td>15907</td>\n",
       "      <td>81.45% (1,133/1,391)</td>\n",
       "    </tr>\n",
       "    <tr>\n",
       "      <th>Ambiguous Consent</th>\n",
       "      <td>53</td>\n",
       "      <td>3.09% (43/1,391)</td>\n",
       "    </tr>\n",
       "    <tr>\n",
       "      <th rowspan=\"3\" valign=\"top\">sf</th>\n",
       "      <th>Consent Omission</th>\n",
       "      <td>29589</td>\n",
       "      <td>93.54% (1,346/1,439)</td>\n",
       "    </tr>\n",
       "    <tr>\n",
       "      <th>Rejected Cookie Usage</th>\n",
       "      <td>18889</td>\n",
       "      <td>85.68% (1,233/1,439)</td>\n",
       "    </tr>\n",
       "    <tr>\n",
       "      <th>Ambiguous Consent</th>\n",
       "      <td>79</td>\n",
       "      <td>3.54% (51/1,439)</td>\n",
       "    </tr>\n",
       "    <tr>\n",
       "      <th rowspan=\"3\" valign=\"top\">singapore</th>\n",
       "      <th>Consent Omission</th>\n",
       "      <td>23807</td>\n",
       "      <td>91.69% (1,213/1,323)</td>\n",
       "    </tr>\n",
       "    <tr>\n",
       "      <th>Rejected Cookie Usage</th>\n",
       "      <td>13739</td>\n",
       "      <td>78.68% (1,041/1,323)</td>\n",
       "    </tr>\n",
       "    <tr>\n",
       "      <th>Ambiguous Consent</th>\n",
       "      <td>63</td>\n",
       "      <td>4.16% (55/1,323)</td>\n",
       "    </tr>\n",
       "    <tr>\n",
       "      <th rowspan=\"3\" valign=\"top\">sydney</th>\n",
       "      <th>Consent Omission</th>\n",
       "      <td>25459</td>\n",
       "      <td>92.08% (1,197/1,300)</td>\n",
       "    </tr>\n",
       "    <tr>\n",
       "      <th>Rejected Cookie Usage</th>\n",
       "      <td>13988</td>\n",
       "      <td>78.00% (1,014/1,300)</td>\n",
       "    </tr>\n",
       "    <tr>\n",
       "      <th>Ambiguous Consent</th>\n",
       "      <td>60</td>\n",
       "      <td>3.92% (51/1,300)</td>\n",
       "    </tr>\n",
       "    <tr>\n",
       "      <th rowspan=\"3\" valign=\"top\">toronto</th>\n",
       "      <th>Consent Omission</th>\n",
       "      <td>10211</td>\n",
       "      <td>89.08% (963/1,081)</td>\n",
       "    </tr>\n",
       "    <tr>\n",
       "      <th>Rejected Cookie Usage</th>\n",
       "      <td>7795</td>\n",
       "      <td>80.02% (865/1,081)</td>\n",
       "    </tr>\n",
       "    <tr>\n",
       "      <th>Ambiguous Consent</th>\n",
       "      <td>50</td>\n",
       "      <td>3.79% (41/1,081)</td>\n",
       "    </tr>\n",
       "  </tbody>\n",
       "</table>\n",
       "</div>"
      ],
      "text/plain": [
       "                                 # Cookies            # Websites\n",
       "Location  Violation Type                                        \n",
       "capetown  Consent Omission           22938  91.26% (1,242/1,361)\n",
       "          Rejected Cookie Usage      14099  78.03% (1,062/1,361)\n",
       "          Ambiguous Consent             69      4.26% (58/1,361)\n",
       "ireland   Consent Omission           12445  88.60% (1,274/1,438)\n",
       "          Rejected Cookie Usage       9696  79.55% (1,144/1,438)\n",
       "          Ambiguous Consent             55      3.34% (48/1,438)\n",
       "london    Consent Omission           12187  89.26% (1,205/1,350)\n",
       "          Rejected Cookie Usage       9271  81.48% (1,100/1,350)\n",
       "          Ambiguous Consent             49      3.11% (42/1,350)\n",
       "mi        Consent Omission           35203  92.24% (1,283/1,391)\n",
       "          Rejected Cookie Usage      15907  81.45% (1,133/1,391)\n",
       "          Ambiguous Consent             53      3.09% (43/1,391)\n",
       "sf        Consent Omission           29589  93.54% (1,346/1,439)\n",
       "          Rejected Cookie Usage      18889  85.68% (1,233/1,439)\n",
       "          Ambiguous Consent             79      3.54% (51/1,439)\n",
       "singapore Consent Omission           23807  91.69% (1,213/1,323)\n",
       "          Rejected Cookie Usage      13739  78.68% (1,041/1,323)\n",
       "          Ambiguous Consent             63      4.16% (55/1,323)\n",
       "sydney    Consent Omission           25459  92.08% (1,197/1,300)\n",
       "          Rejected Cookie Usage      13988  78.00% (1,014/1,300)\n",
       "          Ambiguous Consent             60      3.92% (51/1,300)\n",
       "toronto   Consent Omission           10211    89.08% (963/1,081)\n",
       "          Rejected Cookie Usage       7795    80.02% (865/1,081)\n",
       "          Ambiguous Consent             50      3.79% (41/1,081)"
      ]
     },
     "execution_count": 3,
     "metadata": {},
     "output_type": "execute_result"
    }
   ],
   "source": [
    "all_complies = pd.concat(dfs).reset_index(drop=True).set_index(['Location', 'Violation Type'])\n",
    "all_complies"
   ]
  },
  {
   "cell_type": "code",
   "execution_count": null,
   "metadata": {},
   "outputs": [],
   "source": []
  }
 ],
 "metadata": {
  "kernelspec": {
   "display_name": "consent",
   "language": "python",
   "name": "python3"
  },
  "language_info": {
   "codemirror_mode": {
    "name": "ipython",
    "version": 3
   },
   "file_extension": ".py",
   "mimetype": "text/x-python",
   "name": "python",
   "nbconvert_exporter": "python",
   "pygments_lexer": "ipython3",
   "version": "3.8.19"
  }
 },
 "nbformat": 4,
 "nbformat_minor": 2
}
