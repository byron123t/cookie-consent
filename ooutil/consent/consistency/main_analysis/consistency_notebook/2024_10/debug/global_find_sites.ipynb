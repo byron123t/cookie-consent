{
 "cells": [
  {
   "cell_type": "markdown",
   "metadata": {},
   "source": [
    "# Find common sites of the crawls and then push the list to the Mongodb\n"
   ]
  },
  {
   "cell_type": "code",
   "execution_count": 1,
   "metadata": {},
   "outputs": [],
   "source": [
    "from consent.consistency.util import get_scan_root_dir, LOCATIONS\n",
    "from consent.data.database.exper_result_database import ExperResultDatabase\n",
    "\n",
    "import pandas as pd\n"
   ]
  },
  {
   "cell_type": "code",
   "execution_count": 2,
   "metadata": {},
   "outputs": [],
   "source": [
    "cur_set = '0k_20k'\n",
    "dfs = []\n",
    "for location in LOCATIONS:\n",
    "    SCAN_ROOT_DIR = get_scan_root_dir(location)\n",
    "    site_compiles = pd.read_parquet(SCAN_ROOT_DIR / f'all_complies_{cur_set}.parquet')\n",
    "    site_compiles['location'] = location\n",
    "    dfs.append(site_compiles)\n",
    "all_compiles = pd.concat(dfs)"
   ]
  },
  {
   "cell_type": "code",
   "execution_count": 3,
   "metadata": {},
   "outputs": [
    {
     "name": "stdout",
     "output_type": "stream",
     "text": [
      "Number of sites that are found to have cookie consent in at least 1 region: 1801\n"
     ]
    },
    {
     "data": {
      "text/html": [
       "<div>\n",
       "<style scoped>\n",
       "    .dataframe tbody tr th:only-of-type {\n",
       "        vertical-align: middle;\n",
       "    }\n",
       "\n",
       "    .dataframe tbody tr th {\n",
       "        vertical-align: top;\n",
       "    }\n",
       "\n",
       "    .dataframe thead th {\n",
       "        text-align: right;\n",
       "    }\n",
       "</style>\n",
       "<table border=\"1\" class=\"dataframe\">\n",
       "  <thead>\n",
       "    <tr style=\"text-align: right;\">\n",
       "      <th></th>\n",
       "      <th>site</th>\n",
       "    </tr>\n",
       "  </thead>\n",
       "  <tbody>\n",
       "    <tr>\n",
       "      <th>0</th>\n",
       "      <td>247sports.com</td>\n",
       "    </tr>\n",
       "    <tr>\n",
       "      <th>1</th>\n",
       "      <td>2k.com</td>\n",
       "    </tr>\n",
       "    <tr>\n",
       "      <th>2</th>\n",
       "      <td>2ksports.com</td>\n",
       "    </tr>\n",
       "    <tr>\n",
       "      <th>3</th>\n",
       "      <td>9gag.com</td>\n",
       "    </tr>\n",
       "    <tr>\n",
       "      <th>4</th>\n",
       "      <td>aao.org</td>\n",
       "    </tr>\n",
       "  </tbody>\n",
       "</table>\n",
       "</div>"
      ],
      "text/plain": [
       "            site\n",
       "0  247sports.com\n",
       "1         2k.com\n",
       "2   2ksports.com\n",
       "3       9gag.com\n",
       "4        aao.org"
      ]
     },
     "execution_count": 3,
     "metadata": {},
     "output_type": "execute_result"
    }
   ],
   "source": [
    "global_find_sites = pd.DataFrame({'site': sorted(all_compiles.site.unique())})\n",
    "print(f\"Number of sites that are found to have cookie consent in at least 1 region: {len(global_find_sites)}\")\n",
    "global_find_sites.head()"
   ]
  },
  {
   "cell_type": "code",
   "execution_count": 4,
   "metadata": {},
   "outputs": [
    {
     "data": {
      "text/html": [
       "<div>\n",
       "<style scoped>\n",
       "    .dataframe tbody tr th:only-of-type {\n",
       "        vertical-align: middle;\n",
       "    }\n",
       "\n",
       "    .dataframe tbody tr th {\n",
       "        vertical-align: top;\n",
       "    }\n",
       "\n",
       "    .dataframe thead th {\n",
       "        text-align: right;\n",
       "    }\n",
       "</style>\n",
       "<table border=\"1\" class=\"dataframe\">\n",
       "  <thead>\n",
       "    <tr style=\"text-align: right;\">\n",
       "      <th></th>\n",
       "      <th>site</th>\n",
       "      <th>url</th>\n",
       "    </tr>\n",
       "  </thead>\n",
       "  <tbody>\n",
       "    <tr>\n",
       "      <th>0</th>\n",
       "      <td>amazonaws.com</td>\n",
       "      <td>https://aws.amazon.com/</td>\n",
       "    </tr>\n",
       "    <tr>\n",
       "      <th>1</th>\n",
       "      <td>google.com</td>\n",
       "      <td>https://www.google.com/</td>\n",
       "    </tr>\n",
       "    <tr>\n",
       "      <th>2</th>\n",
       "      <td>ntp.org</td>\n",
       "      <td>https://www.ntp.org/</td>\n",
       "    </tr>\n",
       "    <tr>\n",
       "      <th>3</th>\n",
       "      <td>googledomains.com</td>\n",
       "      <td>https://domains.google/</td>\n",
       "    </tr>\n",
       "    <tr>\n",
       "      <th>4</th>\n",
       "      <td>facebook.com</td>\n",
       "      <td>https://www.facebook.com/</td>\n",
       "    </tr>\n",
       "    <tr>\n",
       "      <th>...</th>\n",
       "      <td>...</td>\n",
       "      <td>...</td>\n",
       "    </tr>\n",
       "    <tr>\n",
       "      <th>10431</th>\n",
       "      <td>wrike.com</td>\n",
       "      <td>https://www.wrike.com/</td>\n",
       "    </tr>\n",
       "    <tr>\n",
       "      <th>10432</th>\n",
       "      <td>swwsite4.live</td>\n",
       "      <td>https://www.swwsite4.live/</td>\n",
       "    </tr>\n",
       "    <tr>\n",
       "      <th>10433</th>\n",
       "      <td>imgsed.com</td>\n",
       "      <td>https://imginn.com/</td>\n",
       "    </tr>\n",
       "    <tr>\n",
       "      <th>10434</th>\n",
       "      <td>genial.ly</td>\n",
       "      <td>https://genial.ly/</td>\n",
       "    </tr>\n",
       "    <tr>\n",
       "      <th>10435</th>\n",
       "      <td>eugdpr.org</td>\n",
       "      <td>https://groups.google.com/a/annascosmetics.com...</td>\n",
       "    </tr>\n",
       "  </tbody>\n",
       "</table>\n",
       "<p>10436 rows × 2 columns</p>\n",
       "</div>"
      ],
      "text/plain": [
       "                    site                                                url\n",
       "0          amazonaws.com                            https://aws.amazon.com/\n",
       "1             google.com                            https://www.google.com/\n",
       "2                ntp.org                               https://www.ntp.org/\n",
       "3      googledomains.com                            https://domains.google/\n",
       "4           facebook.com                          https://www.facebook.com/\n",
       "...                  ...                                                ...\n",
       "10431          wrike.com                             https://www.wrike.com/\n",
       "10432      swwsite4.live                         https://www.swwsite4.live/\n",
       "10433         imgsed.com                                https://imginn.com/\n",
       "10434          genial.ly                                 https://genial.ly/\n",
       "10435         eugdpr.org  https://groups.google.com/a/annascosmetics.com...\n",
       "\n",
       "[10436 rows x 2 columns]"
      ]
     },
     "execution_count": 4,
     "metadata": {},
     "output_type": "execute_result"
    }
   ],
   "source": [
    "# Get the url\n",
    "en_suc = ExperResultDatabase('2023-11-19', f'en_suc_{cur_set}').query_to_df()\n",
    "en_suc"
   ]
  },
  {
   "cell_type": "code",
   "execution_count": 5,
   "metadata": {},
   "outputs": [
    {
     "name": "stdout",
     "output_type": "stream",
     "text": [
      "Number of global-successful sites: 1,801\n"
     ]
    },
    {
     "data": {
      "text/html": [
       "<div>\n",
       "<style scoped>\n",
       "    .dataframe tbody tr th:only-of-type {\n",
       "        vertical-align: middle;\n",
       "    }\n",
       "\n",
       "    .dataframe tbody tr th {\n",
       "        vertical-align: top;\n",
       "    }\n",
       "\n",
       "    .dataframe thead th {\n",
       "        text-align: right;\n",
       "    }\n",
       "</style>\n",
       "<table border=\"1\" class=\"dataframe\">\n",
       "  <thead>\n",
       "    <tr style=\"text-align: right;\">\n",
       "      <th></th>\n",
       "      <th>site</th>\n",
       "      <th>url</th>\n",
       "    </tr>\n",
       "  </thead>\n",
       "  <tbody>\n",
       "    <tr>\n",
       "      <th>0</th>\n",
       "      <td>247sports.com</td>\n",
       "      <td>https://247sports.com/</td>\n",
       "    </tr>\n",
       "    <tr>\n",
       "      <th>1</th>\n",
       "      <td>2k.com</td>\n",
       "      <td>https://www.2k.com/en-US/</td>\n",
       "    </tr>\n",
       "    <tr>\n",
       "      <th>2</th>\n",
       "      <td>2ksports.com</td>\n",
       "      <td>https://2k.com/en-US/</td>\n",
       "    </tr>\n",
       "    <tr>\n",
       "      <th>3</th>\n",
       "      <td>9gag.com</td>\n",
       "      <td>https://9gag.com/</td>\n",
       "    </tr>\n",
       "    <tr>\n",
       "      <th>4</th>\n",
       "      <td>aao.org</td>\n",
       "      <td>https://www.aao.org/</td>\n",
       "    </tr>\n",
       "  </tbody>\n",
       "</table>\n",
       "</div>"
      ],
      "text/plain": [
       "            site                        url\n",
       "0  247sports.com     https://247sports.com/\n",
       "1         2k.com  https://www.2k.com/en-US/\n",
       "2   2ksports.com      https://2k.com/en-US/\n",
       "3       9gag.com          https://9gag.com/\n",
       "4        aao.org       https://www.aao.org/"
      ]
     },
     "execution_count": 5,
     "metadata": {},
     "output_type": "execute_result"
    }
   ],
   "source": [
    "global_find = pd.merge(global_find_sites, en_suc, on='site', how='left')\n",
    "assert len(global_find[global_find['url'].isna()]) == 0, 'All global-successful sites should be in the en_suc'\n",
    "print(f\"Number of global-successful sites: {len(global_find):,d}\")\n",
    "global_find.head()"
   ]
  },
  {
   "cell_type": "code",
   "execution_count": 7,
   "metadata": {},
   "outputs": [
    {
     "name": "stdout",
     "output_type": "stream",
     "text": [
      "Written 1,801 records to db=consent_project-2024-10-18 collection=global_find_0k_20k\n"
     ]
    }
   ],
   "source": [
    "# Uncomment to write.\n",
    "# ExperResultDatabase('2024-10-18', f'global_find_{cur_set}').write_df(global_find)"
   ]
  },
  {
   "cell_type": "code",
   "execution_count": null,
   "metadata": {},
   "outputs": [],
   "source": []
  }
 ],
 "metadata": {
  "kernelspec": {
   "display_name": "consent",
   "language": "python",
   "name": "python3"
  },
  "language_info": {
   "codemirror_mode": {
    "name": "ipython",
    "version": 3
   },
   "file_extension": ".py",
   "mimetype": "text/x-python",
   "name": "python",
   "nbconvert_exporter": "python",
   "pygments_lexer": "ipython3",
   "version": "3.8.19"
  }
 },
 "nbformat": 4,
 "nbformat_minor": 2
}
