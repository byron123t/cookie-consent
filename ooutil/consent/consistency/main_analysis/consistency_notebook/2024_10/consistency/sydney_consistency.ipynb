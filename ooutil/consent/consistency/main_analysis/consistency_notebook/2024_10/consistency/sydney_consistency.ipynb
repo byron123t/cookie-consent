{
 "cells": [
  {
   "cell_type": "code",
   "execution_count": 1,
   "metadata": {},
   "outputs": [
    {
     "name": "stdout",
     "output_type": "stream",
     "text": [
      "Scan root dir: /mnt/sdd/ducbui/projects/data2/consent/2024-10-07\n",
      "Output suffix: _0k_20k\n",
      "Scan dirs: [PosixPath('/mnt/sdd/ducbui/projects/data2/consent/2024-10-07/pref_menu_scan_0k_20k')]\n"
     ]
    }
   ],
   "source": [
    "from collections import defaultdict\n",
    "from pathlib import Path\n",
    "\n",
    "import matplotlib.pyplot as plt\n",
    "import pandas as pd\n",
    "import seaborn as sns\n",
    "\n",
    "from consent.consistency.comply_util import site_to_contras, get_comply\n",
    "from consent.consistency.cookie_pref_match import cookie_pref_match\n",
    "from consent.consistency.util import get_scan_root_dir, get_scan_dirs # , FIG_DIR uncomment to save fig.\n",
    "from consent.data.pref_menu_scan.cookie_pref_reader import read_cookie_prefs_in_scans\n",
    "from consent.data.pref_menu_scan.har_cookie_reader import read_postrej_sent_cookies_in_scans\n",
    "\n",
    "cur_set = '0k_20k' # '20k_100k'\n",
    "overwrite = True\n",
    "SCAN_ROOT_DIR = get_scan_root_dir('sydney')\n",
    "SCAN_DIRS = [SCAN_ROOT_DIR / f'pref_menu_scan_{cur_set}']\n",
    "# SCAN_DIRS = get_scan_dirs('us')[:]\n",
    "output_suffix = '_' + cur_set # '0k_20k'  # '20k_100k' #'60k_80k' # '40k_60k' # # '100k_200k'; done: '20k_40k' '0k_20k'\n",
    "print('Scan root dir:', SCAN_ROOT_DIR)\n",
    "print('Output suffix:', output_suffix)\n",
    "print('Scan dirs:', SCAN_DIRS)"
   ]
  },
  {
   "cell_type": "code",
   "execution_count": 2,
   "metadata": {},
   "outputs": [
    {
     "name": "stdout",
     "output_type": "stream",
     "text": [
      "To save to /mnt/sdd/ducbui/projects/data2/consent/2024-10-07/cookie_decls_0k_20k.parquet\n",
      "WARNING: Consent cookie not found bepress.com\n",
      "WARNING: Consent cookie not found chroniclelive.co.uk\n",
      "WARNING: Consent cookie not found manchestereveningnews.co.uk\n",
      "WARNING: error decoding /mnt/sdd/ducbui/projects/data2/consent/2024-10-07/pref_menu_scan_0k_20k/constantcontact.com/consent_resources.json: region_block Received an out-of-region response\n",
      "WARNING: error decoding /mnt/sdd/ducbui/projects/data2/consent/2024-10-07/pref_menu_scan_0k_20k/placeit.net/consent_resources.json: region_block Received an out-of-region response\n",
      "WARNING: error decoding /mnt/sdd/ducbui/projects/data2/consent/2024-10-07/pref_menu_scan_0k_20k/envato.com/consent_resources.json: region_block Received an out-of-region response\n",
      "WARNING: error decoding /mnt/sdd/ducbui/projects/data2/consent/2024-10-07/pref_menu_scan_0k_20k/getclockwise.com/consent_resources.json: region_block Received an out-of-region response\n",
      "https://cdn.cookielaw.org/consent/03b96273-0ebc-43cb-8885-cdfaeadad5b9/b019db6d-bccf-46f9-bde0-478e3c1f6028/en.json WARNING: Cookie list has session cookie but duration > 0\n",
      "\n",
      "File iberia.com consent_resources.json has no dataWARNING: error decoding /mnt/sdd/ducbui/projects/data2/consent/2024-10-07/pref_menu_scan_0k_20k/scribbr.com/consent_resources.json: region_block Received an out-of-region response\n",
      "WARNING: error decoding /mnt/sdd/ducbui/projects/data2/consent/2024-10-07/pref_menu_scan_0k_20k/codecanyon.net/consent_resources.json: region_block Received an out-of-region response\n",
      "WARNING: error decoding /mnt/sdd/ducbui/projects/data2/consent/2024-10-07/pref_menu_scan_0k_20k/conta.cc/consent_resources.json: region_block Received an out-of-region response\n",
      "WARNING: error decoding /mnt/sdd/ducbui/projects/data2/consent/2024-10-07/pref_menu_scan_0k_20k/gitlab.com/consent_resources.json: consent_js not supported yet.\n",
      "WARNING: error decoding /mnt/sdd/ducbui/projects/data2/consent/2024-10-07/pref_menu_scan_0k_20k/pressreader.com/consent_resources.json: region_block Received an out-of-region response\n",
      "https://cdn-ukwest.onetrust.com/consent/86f42b6d-7a31-469c-804c-319643173d42/018dfc06-4525-75f5-b4f2-881e5366447a/en.json WARNING: Cookie list has session cookie but duration > 0\n",
      "WARNING: error decoding /mnt/sdd/ducbui/projects/data2/consent/2024-10-07/pref_menu_scan_0k_20k/themeforest.net/consent_resources.json: region_block Received an out-of-region response\n",
      "WARNING: error decoding /mnt/sdd/ducbui/projects/data2/consent/2024-10-07/pref_menu_scan_0k_20k/gitlab.io/consent_resources.json: WARNING: error decoding /mnt/sdd/ducbui/projects/data2/consent/2024-10-07/pref_menu_scan_0k_20k/tutsplus.com/consent_resources.json: consent_js not supported yet.region_block Received an out-of-region response\n",
      "\n",
      "Written to /mnt/sdd/ducbui/projects/data2/consent/2024-10-07/cookie_decls_0k_20k.parquet\n",
      "Written to /mnt/sdd/ducbui/projects/data2/consent/2024-10-07/cookie_prefs_0k_20k.parquet\n"
     ]
    },
    {
     "data": {
      "text/html": [
       "<div>\n",
       "<style scoped>\n",
       "    .dataframe tbody tr th:only-of-type {\n",
       "        vertical-align: middle;\n",
       "    }\n",
       "\n",
       "    .dataframe tbody tr th {\n",
       "        vertical-align: top;\n",
       "    }\n",
       "\n",
       "    .dataframe thead th {\n",
       "        text-align: right;\n",
       "    }\n",
       "</style>\n",
       "<table border=\"1\" class=\"dataframe\">\n",
       "  <thead>\n",
       "    <tr style=\"text-align: right;\">\n",
       "      <th></th>\n",
       "      <th>name</th>\n",
       "      <th>domain</th>\n",
       "      <th>duration</th>\n",
       "      <th>category_id</th>\n",
       "      <th>category</th>\n",
       "      <th>consent_mode</th>\n",
       "      <th>site</th>\n",
       "      <th>lib_name</th>\n",
       "      <th>pattern_name</th>\n",
       "      <th>consent</th>\n",
       "    </tr>\n",
       "  </thead>\n",
       "  <tbody>\n",
       "    <tr>\n",
       "      <th>0</th>\n",
       "      <td>.AxcmXFaxAuth</td>\n",
       "      <td>fax.nextiva.com</td>\n",
       "      <td>0 days</td>\n",
       "      <td>C0001</td>\n",
       "      <td>Strictly Necessary Cookies</td>\n",
       "      <td>always active</td>\n",
       "      <td>nextiva.com</td>\n",
       "      <td>onetrust</td>\n",
       "      <td>en.json</td>\n",
       "      <td>True</td>\n",
       "    </tr>\n",
       "    <tr>\n",
       "      <th>1</th>\n",
       "      <td>__cf_bm</td>\n",
       "      <td>nextiva.com</td>\n",
       "      <td>0 days</td>\n",
       "      <td>C0001</td>\n",
       "      <td>Strictly Necessary Cookies</td>\n",
       "      <td>always active</td>\n",
       "      <td>nextiva.com</td>\n",
       "      <td>onetrust</td>\n",
       "      <td>en.json</td>\n",
       "      <td>True</td>\n",
       "    </tr>\n",
       "    <tr>\n",
       "      <th>2</th>\n",
       "      <td>_ce.cch</td>\n",
       "      <td>nextiva.com</td>\n",
       "      <td>Session</td>\n",
       "      <td>C0001</td>\n",
       "      <td>Strictly Necessary Cookies</td>\n",
       "      <td>always active</td>\n",
       "      <td>nextiva.com</td>\n",
       "      <td>onetrust</td>\n",
       "      <td>en.json</td>\n",
       "      <td>True</td>\n",
       "    </tr>\n",
       "    <tr>\n",
       "      <th>3</th>\n",
       "      <td>ao</td>\n",
       "      <td>sso.nextiva.com</td>\n",
       "      <td>0 days</td>\n",
       "      <td>C0001</td>\n",
       "      <td>Strictly Necessary Cookies</td>\n",
       "      <td>always active</td>\n",
       "      <td>nextiva.com</td>\n",
       "      <td>onetrust</td>\n",
       "      <td>en.json</td>\n",
       "      <td>True</td>\n",
       "    </tr>\n",
       "    <tr>\n",
       "      <th>4</th>\n",
       "      <td>autolaunch_triggered</td>\n",
       "      <td>sso.nextiva.com</td>\n",
       "      <td>0 days</td>\n",
       "      <td>C0001</td>\n",
       "      <td>Strictly Necessary Cookies</td>\n",
       "      <td>always active</td>\n",
       "      <td>nextiva.com</td>\n",
       "      <td>onetrust</td>\n",
       "      <td>en.json</td>\n",
       "      <td>True</td>\n",
       "    </tr>\n",
       "  </tbody>\n",
       "</table>\n",
       "</div>"
      ],
      "text/plain": [
       "                   name           domain duration category_id  \\\n",
       "0         .AxcmXFaxAuth  fax.nextiva.com   0 days       C0001   \n",
       "1               __cf_bm      nextiva.com   0 days       C0001   \n",
       "2               _ce.cch      nextiva.com  Session       C0001   \n",
       "3                    ao  sso.nextiva.com   0 days       C0001   \n",
       "4  autolaunch_triggered  sso.nextiva.com   0 days       C0001   \n",
       "\n",
       "                     category   consent_mode         site  lib_name  \\\n",
       "0  Strictly Necessary Cookies  always active  nextiva.com  onetrust   \n",
       "1  Strictly Necessary Cookies  always active  nextiva.com  onetrust   \n",
       "2  Strictly Necessary Cookies  always active  nextiva.com  onetrust   \n",
       "3  Strictly Necessary Cookies  always active  nextiva.com  onetrust   \n",
       "4  Strictly Necessary Cookies  always active  nextiva.com  onetrust   \n",
       "\n",
       "  pattern_name consent  \n",
       "0      en.json    True  \n",
       "1      en.json    True  \n",
       "2      en.json    True  \n",
       "3      en.json    True  \n",
       "4      en.json    True  "
      ]
     },
     "execution_count": 2,
     "metadata": {},
     "output_type": "execute_result"
    }
   ],
   "source": [
    "# Get cookie prefs = cookie decls + prefs\n",
    "cookie_prefs_file = SCAN_ROOT_DIR / f'cookie_prefs{output_suffix}.parquet'\n",
    "\n",
    "if not cookie_prefs_file.exists() or overwrite:\n",
    "    save_cookie_decls_file = SCAN_ROOT_DIR / f'cookie_decls{output_suffix}.parquet'\n",
    "    print(f'To save to {save_cookie_decls_file}')\n",
    "    cookie_prefs = read_cookie_prefs_in_scans(SCAN_DIRS, save_cookie_decls_file)  # took 2.3min for top 50k-site scan\n",
    "    cookie_prefs.to_parquet(cookie_prefs_file); print(f'Written to {cookie_prefs_file}')\n",
    "else:\n",
    "    cookie_prefs = pd.read_parquet(cookie_prefs_file)\n",
    "cookie_prefs.head()\n",
    "# TODO: add log_file_checker"
   ]
  },
  {
   "cell_type": "code",
   "execution_count": 3,
   "metadata": {},
   "outputs": [
    {
     "name": "stdout",
     "output_type": "stream",
     "text": [
      "Found cookie libraries:\n"
     ]
    },
    {
     "data": {
      "text/plain": [
       "lib_name\n",
       "onetrust     1203\n",
       "cookiebot     100\n",
       "Name: count, dtype: int64"
      ]
     },
     "execution_count": 3,
     "metadata": {},
     "output_type": "execute_result"
    }
   ],
   "source": [
    "print(\"Found cookie libraries:\")\n",
    "cookie_prefs[['site', 'lib_name']].drop_duplicates().lib_name.value_counts()"
   ]
  },
  {
   "cell_type": "code",
   "execution_count": null,
   "metadata": {},
   "outputs": [
    {
     "name": "stdout",
     "output_type": "stream",
     "text": [
      "Sites with cookie prefs: 1303 , first 10 sites: ['247sports.com', '2k.com', '2ksports.com', 'aber.ac.uk', 'acast.com', 'accedo.tv', 'accenture.com', 'accor.com', 'acehardware.com', 'acm.org']\n"
     ]
    }
   ],
   "source": [
    "cookielist_sites = sorted(cookie_prefs.site.unique().tolist())\n",
    "n_cookielist_sites = len(cookielist_sites)\n",
    "assert cookie_prefs.site.nunique() == n_cookielist_sites\n",
    "n=10\n",
    "print(\"Sites with cookie prefs:\", n_cookielist_sites, f', first {n} sites:' , cookielist_sites[:n])"
   ]
  },
  {
   "cell_type": "code",
   "execution_count": 5,
   "metadata": {},
   "outputs": [],
   "source": [
    "site_to_libname = {row['site']: row['lib_name'] for row in cookie_prefs[['site', 'lib_name']].drop_duplicates().to_dict('records')}"
   ]
  },
  {
   "cell_type": "code",
   "execution_count": 6,
   "metadata": {},
   "outputs": [
    {
     "name": "stdout",
     "output_type": "stream",
     "text": [
      "0.011962376083053625\n"
     ]
    },
    {
     "name": "stdout",
     "output_type": "stream",
     "text": [
      "0.0294278354539068\n",
      "0.0027866677074389196\n"
     ]
    },
    {
     "data": {
      "text/html": [
       "<div>\n",
       "<style scoped>\n",
       "    .dataframe tbody tr th:only-of-type {\n",
       "        vertical-align: middle;\n",
       "    }\n",
       "\n",
       "    .dataframe tbody tr th {\n",
       "        vertical-align: top;\n",
       "    }\n",
       "\n",
       "    .dataframe thead th {\n",
       "        text-align: right;\n",
       "    }\n",
       "</style>\n",
       "<table border=\"1\" class=\"dataframe\">\n",
       "  <thead>\n",
       "    <tr style=\"text-align: right;\">\n",
       "      <th></th>\n",
       "      <th>name</th>\n",
       "      <th>domain</th>\n",
       "      <th>duration</th>\n",
       "      <th>category_id</th>\n",
       "      <th>category</th>\n",
       "      <th>consent_mode</th>\n",
       "      <th>site</th>\n",
       "      <th>lib_name</th>\n",
       "      <th>pattern_name</th>\n",
       "      <th>consent</th>\n",
       "    </tr>\n",
       "  </thead>\n",
       "  <tbody>\n",
       "    <tr>\n",
       "      <th>101</th>\n",
       "      <td>visitor_id#####</td>\n",
       "      <td>go.nextiva.com</td>\n",
       "      <td>364 days</td>\n",
       "      <td>C0004</td>\n",
       "      <td>Targeting Cookies</td>\n",
       "      <td>active</td>\n",
       "      <td>nextiva.com</td>\n",
       "      <td>onetrust</td>\n",
       "      <td>en.json</td>\n",
       "      <td>False</td>\n",
       "    </tr>\n",
       "    <tr>\n",
       "      <th>24</th>\n",
       "      <td>_gd#############</td>\n",
       "      <td>j.6sc.co</td>\n",
       "      <td>730 days</td>\n",
       "      <td>C0002</td>\n",
       "      <td>Performance Cookies</td>\n",
       "      <td>active</td>\n",
       "      <td>wework.com</td>\n",
       "      <td>onetrust</td>\n",
       "      <td>en.json</td>\n",
       "      <td>False</td>\n",
       "    </tr>\n",
       "    <tr>\n",
       "      <th>30</th>\n",
       "      <td>_gd#############</td>\n",
       "      <td>www.wework.com</td>\n",
       "      <td>730 days</td>\n",
       "      <td>C0003</td>\n",
       "      <td>Functional Cookies</td>\n",
       "      <td>active</td>\n",
       "      <td>wework.com</td>\n",
       "      <td>onetrust</td>\n",
       "      <td>en.json</td>\n",
       "      <td>False</td>\n",
       "    </tr>\n",
       "    <tr>\n",
       "      <th>34</th>\n",
       "      <td>_gd#############</td>\n",
       "      <td>cdnjs.cloudflare.com</td>\n",
       "      <td>730 days</td>\n",
       "      <td>C0003</td>\n",
       "      <td>Functional Cookies</td>\n",
       "      <td>active</td>\n",
       "      <td>wework.com</td>\n",
       "      <td>onetrust</td>\n",
       "      <td>en.json</td>\n",
       "      <td>False</td>\n",
       "    </tr>\n",
       "    <tr>\n",
       "      <th>44</th>\n",
       "      <td>AMP_unsent_#</td>\n",
       "      <td>commercial.cdn.aws.placeit.net</td>\n",
       "      <td>Persistent</td>\n",
       "      <td>statistics</td>\n",
       "      <td>statistics</td>\n",
       "      <td>None</td>\n",
       "      <td>placeit.net</td>\n",
       "      <td>cookiebot</td>\n",
       "      <td>cc.js</td>\n",
       "      <td>False</td>\n",
       "    </tr>\n",
       "    <tr>\n",
       "      <th>...</th>\n",
       "      <td>...</td>\n",
       "      <td>...</td>\n",
       "      <td>...</td>\n",
       "      <td>...</td>\n",
       "      <td>...</td>\n",
       "      <td>...</td>\n",
       "      <td>...</td>\n",
       "      <td>...</td>\n",
       "      <td>...</td>\n",
       "      <td>...</td>\n",
       "    </tr>\n",
       "    <tr>\n",
       "      <th>140</th>\n",
       "      <td>visitor_id#####</td>\n",
       "      <td>click.outreach.io</td>\n",
       "      <td>3649 days</td>\n",
       "      <td>4</td>\n",
       "      <td>Targeting Cookies</td>\n",
       "      <td>inactive</td>\n",
       "      <td>outreach.io</td>\n",
       "      <td>onetrust</td>\n",
       "      <td>en.json</td>\n",
       "      <td>False</td>\n",
       "    </tr>\n",
       "    <tr>\n",
       "      <th>147</th>\n",
       "      <td>visitor_id#####</td>\n",
       "      <td>pi.pardot.com</td>\n",
       "      <td>3649 days</td>\n",
       "      <td>4</td>\n",
       "      <td>Targeting Cookies</td>\n",
       "      <td>inactive</td>\n",
       "      <td>outreach.io</td>\n",
       "      <td>onetrust</td>\n",
       "      <td>en.json</td>\n",
       "      <td>False</td>\n",
       "    </tr>\n",
       "    <tr>\n",
       "      <th>170</th>\n",
       "      <td>visitor_id#####</td>\n",
       "      <td>pardot.com</td>\n",
       "      <td>3649 days</td>\n",
       "      <td>4</td>\n",
       "      <td>Targeting Cookies</td>\n",
       "      <td>inactive</td>\n",
       "      <td>outreach.io</td>\n",
       "      <td>onetrust</td>\n",
       "      <td>en.json</td>\n",
       "      <td>False</td>\n",
       "    </tr>\n",
       "    <tr>\n",
       "      <th>172</th>\n",
       "      <td>_gd#############</td>\n",
       "      <td>j.6sc.co</td>\n",
       "      <td>729 days</td>\n",
       "      <td>4</td>\n",
       "      <td>Targeting Cookies</td>\n",
       "      <td>inactive</td>\n",
       "      <td>outreach.io</td>\n",
       "      <td>onetrust</td>\n",
       "      <td>en.json</td>\n",
       "      <td>False</td>\n",
       "    </tr>\n",
       "    <tr>\n",
       "      <th>220</th>\n",
       "      <td>_gd#############</td>\n",
       "      <td>cdnjs.cloudflare.com</td>\n",
       "      <td>729 days</td>\n",
       "      <td>4</td>\n",
       "      <td>Targeting Cookies</td>\n",
       "      <td>inactive</td>\n",
       "      <td>outreach.io</td>\n",
       "      <td>onetrust</td>\n",
       "      <td>en.json</td>\n",
       "      <td>False</td>\n",
       "    </tr>\n",
       "  </tbody>\n",
       "</table>\n",
       "<p>3065 rows × 10 columns</p>\n",
       "</div>"
      ],
      "text/plain": [
       "                 name                          domain    duration category_id  \\\n",
       "101   visitor_id#####                  go.nextiva.com    364 days       C0004   \n",
       "24   _gd#############                        j.6sc.co    730 days       C0002   \n",
       "30   _gd#############                  www.wework.com    730 days       C0003   \n",
       "34   _gd#############            cdnjs.cloudflare.com    730 days       C0003   \n",
       "44       AMP_unsent_#  commercial.cdn.aws.placeit.net  Persistent  statistics   \n",
       "..                ...                             ...         ...         ...   \n",
       "140   visitor_id#####               click.outreach.io   3649 days           4   \n",
       "147   visitor_id#####                   pi.pardot.com   3649 days           4   \n",
       "170   visitor_id#####                      pardot.com   3649 days           4   \n",
       "172  _gd#############                        j.6sc.co    729 days           4   \n",
       "220  _gd#############            cdnjs.cloudflare.com    729 days           4   \n",
       "\n",
       "                category consent_mode         site   lib_name pattern_name  \\\n",
       "101    Targeting Cookies       active  nextiva.com   onetrust      en.json   \n",
       "24   Performance Cookies       active   wework.com   onetrust      en.json   \n",
       "30    Functional Cookies       active   wework.com   onetrust      en.json   \n",
       "34    Functional Cookies       active   wework.com   onetrust      en.json   \n",
       "44            statistics         None  placeit.net  cookiebot        cc.js   \n",
       "..                   ...          ...          ...        ...          ...   \n",
       "140    Targeting Cookies     inactive  outreach.io   onetrust      en.json   \n",
       "147    Targeting Cookies     inactive  outreach.io   onetrust      en.json   \n",
       "170    Targeting Cookies     inactive  outreach.io   onetrust      en.json   \n",
       "172    Targeting Cookies     inactive  outreach.io   onetrust      en.json   \n",
       "220    Targeting Cookies     inactive  outreach.io   onetrust      en.json   \n",
       "\n",
       "    consent  \n",
       "101   False  \n",
       "24    False  \n",
       "30    False  \n",
       "34    False  \n",
       "44    False  \n",
       "..      ...  \n",
       "140   False  \n",
       "147   False  \n",
       "170   False  \n",
       "172   False  \n",
       "220   False  \n",
       "\n",
       "[3065 rows x 10 columns]"
      ]
     },
     "execution_count": 6,
     "metadata": {},
     "output_type": "execute_result"
    }
   ],
   "source": [
    "# Quick checking the cookie declaration naming\n",
    "print(len(cookie_prefs[cookie_prefs.name.str.endswith('#')]) / len(cookie_prefs))\n",
    "print(len(cookie_prefs[cookie_prefs.name.str.endswith('xxx')]) / len(cookie_prefs))\n",
    "print(len(cookie_prefs[cookie_prefs.name.str.endswith('XXX')]) / len(cookie_prefs))\n",
    "cookie_prefs[cookie_prefs.name.str.endswith('#')]"
   ]
  },
  {
   "cell_type": "code",
   "execution_count": 7,
   "metadata": {},
   "outputs": [],
   "source": [
    "# # Distribution of errors\n",
    "# print(\"Libs in failed-to-crawl sites\")\n",
    "# errors.consent_lib_name.value_counts()\n",
    "# from ooutil.df_util import expand_dict_col\n",
    "# ot_errs = errors[errors.consent_lib_name == 'onetrust']\n",
    "# errors_dict = pd.DataFrame(ot_errs.error.tolist()).explode('reason')\n",
    "# # Uncomment to show\n",
    "# # errors_dict.reason.value_counts()"
   ]
  },
  {
   "cell_type": "markdown",
   "metadata": {},
   "source": [
    "# Main analysis"
   ]
  },
  {
   "cell_type": "code",
   "execution_count": 8,
   "metadata": {
    "tags": []
   },
   "outputs": [
    {
     "name": "stdout",
     "output_type": "stream",
     "text": [
      "Post rej cookie not contain consent cookie, renfe.com/postrej_0.har.xz not have cookie OptanonConsent of .renfe.com on path /\n",
      "Post rej cookie not contain consent cookie, skrill.com/postrej_0.har.xz not have cookie OptanonConsent of .skrill.com on path /\n",
      "Unmatch url and consent cookie domain: page_url='https://documentation.solarwinds.com/en/success_center/loggly/content/admin/cloudtrail-log-ingestion.htm?cshid=loggly_cloudtrail-log-ingestion' consent_cookie.cookie['domain']='.www.loggly.com' consent_cookie.cookie['path']='/' loggly.com/postrej_5.har.xz\n",
      "Unmatch url and consent cookie domain: page_url='https://documentation.solarwinds.com/en/success_center/loggly/content/admin/cloudwatch-logs.htm?cshid=loggly_cloudwatch-logs' consent_cookie.cookie['domain']='.www.loggly.com' consent_cookie.cookie['path']='/' loggly.com/postrej_3.har.xz\n",
      "Post rej cookie not contain consent cookie, lidl.com/postrej_0.har.xz not have cookie OptanonConsent of .lidl.com on path /\n",
      "Post rej cookie not contain consent cookie, warnerbros.com/postrej_0.har.xz not have cookie OptanonConsent of .warnerbros.com on path /\n",
      "Unmatch url and consent cookie domain: page_url='https://www.fitnowinc.com/privacy/loseit/' consent_cookie.cookie['domain']='.loseit.com' consent_cookie.cookie['path']='/' loseit.com/postrej_5.har.xz\n",
      "Unmatch url and consent cookie domain: page_url='https://www.fitnowinc.com/privacy/loseit/#consumer-health-data-privacy' consent_cookie.cookie['domain']='.loseit.com' consent_cookie.cookie['path']='/' loseit.com/postrej_3.har.xz\n",
      "Post rej cookie not contain consent cookie, jixie.io/postrej_0.har.xz not have cookie OptanonConsent of .accenture.com on path /\n",
      "Post rej cookie not contain consent cookie, samknows.com/postrej_0.har.xz not have cookie OptanonConsent of .samknows.com on path /\n",
      "Post rej cookie not contain consent cookie, vewd.com/postrej_0.har.xz not have cookie OptanonConsent of .tivo.com on path /\n",
      "Domain path mismatch: .www.pwc.com domain's path /us not match url https://www.pwc.com/si/en/\n",
      "Unmatch url and consent cookie domain: page_url='https://www.pwc.com/si/en/' consent_cookie.cookie['domain']='.www.pwc.com' consent_cookie.cookie['path']='/us' pwc.com/postrej_5.har.xz\n",
      "Domain path mismatch: .www.pwc.com domain's path /us not match url https://www.pwc.com/id/en/\n",
      "Unmatch url and consent cookie domain: page_url='https://www.pwc.com/id/en/' consent_cookie.cookie['domain']='.www.pwc.com' consent_cookie.cookie['path']='/us' pwc.com/postrej_1.har.xz\n",
      "Domain path mismatch: .www.pwc.com domain's path /us not match url https://www.facebook.com/login/?next=https%3A%2F%2Fwww.facebook.com%2Flifeatpwc\n",
      "Unmatch url and consent cookie domain: page_url='https://www.facebook.com/login/?next=https%3A%2F%2Fwww.facebook.com%2Flifeatpwc' consent_cookie.cookie['domain']='.www.pwc.com' consent_cookie.cookie['path']='/us' pwc.com/postrej_4.har.xz\n",
      "Post rej cookie not contain consent cookie, codashop.com/postrej_2.har.xz not have cookie OptanonConsent of .www.codashop.com on path /\n",
      "Post rej cookie not contain consent cookie, codashop.com/postrej_5.har.xz not have cookie OptanonConsent of .www.codashop.com on path /\n",
      "Post rej cookie not contain consent cookie, codashop.com/postrej_1.har.xz not have cookie OptanonConsent of .www.codashop.com on path /\n",
      "Post rej cookie not contain consent cookie, codashop.com/postrej_3.har.xz not have cookie OptanonConsent of .www.codashop.com on path /\n",
      "Post rej cookie not contain consent cookie, codashop.com/postrej_4.har.xz not have cookie OptanonConsent of .www.codashop.com on path /\n",
      "Post rej cookie not contain consent cookie, max.com/postrej_0.har.xz not have cookie OptanonConsent of .max.com on path /\n",
      "Post rej cookie not contain consent cookie, max.com/postrej_3.har.xz not have cookie OptanonConsent of .max.com on path /\n",
      "Post rej cookie not contain consent cookie, dexcom.com/postrej_0.har.xz not have cookie OptanonConsent of .dexcom.com on path /\n",
      "Unmatch url and consent cookie domain: page_url='https://admissionsclub.digistorm.com/au/' consent_cookie.cookie['domain']='www.digistorm.com' consent_cookie.cookie['path']='/' digistorm.com/postrej_3.har.xz\n",
      "Post rej cookie not contain consent cookie, sheffield.ac.uk/postrej_0.har.xz not have cookie OptanonConsent of .sheffield.ac.uk on path /\n",
      "Post rej cookie not contain consent cookie, phenompeople.com/postrej_0.har.xz not have cookie OptanonConsent of .phenom.com on path /\n",
      "Domain path mismatch: .klarna.com domain's path /us/ not match url https://login.klarna.com/na/lp/idp/oauth2/auth?client_id=639c2886-026e-452f-b5fc-096683d95b0e&redirect_uri=https%3A%2F%2Fapp.klarna.com%2Fauth%2Fcallback&nonce=jCXkje-v70AqF544EdhjLQ&response_type=code&scope=openid+offline_access+default&state=FBJFEiFBGHV9BbGIHeilzw&market=US&ui_locales=en-US&code_challenge_method=S256&code_challenge=LP0SyoseObnngHqxk6CgTXpiDws6zsD24qQ51eLw8lo&mode=login&funnel_id=95b6d853-995d-49db-bdf9-bef1a0f72d77&device_id=undefined&klarna_app_flavor=pink&klarna_app_version=24.41.211%2B7&audience=access\n",
      "Unmatch url and consent cookie domain: page_url='https://login.klarna.com/na/lp/idp/oauth2/auth?client_id=639c2886-026e-452f-b5fc-096683d95b0e&redirect_uri=https%3A%2F%2Fapp.klarna.com%2Fauth%2Fcallback&nonce=jCXkje-v70AqF544EdhjLQ&response_type=code&scope=openid+offline_access+default&state=FBJFEiFBGHV9BbGIHeilzw&market=US&ui_locales=en-US&code_challenge_method=S256&code_challenge=LP0SyoseObnngHqxk6CgTXpiDws6zsD24qQ51eLw8lo&mode=login&funnel_id=95b6d853-995d-49db-bdf9-bef1a0f72d77&device_id=undefined&klarna_app_flavor=pink&klarna_app_version=24.41.211%2B7&audience=access' consent_cookie.cookie['domain']='.klarna.com' consent_cookie.cookie['path']='/us/' usehero.com/postrej_2.har.xz\n",
      "Domain path mismatch: .klarna.com domain's path /us/ not match url https://www.klarna.com/gr/\n",
      "Unmatch url and consent cookie domain: page_url='https://www.klarna.com/gr/' consent_cookie.cookie['domain']='.klarna.com' consent_cookie.cookie['path']='/us/' usehero.com/postrej_5.har.xz\n",
      "Domain path mismatch: .klarna.com domain's path /us/ not match url https://www.klarna.com/ch/it/\n",
      "Unmatch url and consent cookie domain: page_url='https://www.klarna.com/ch/it/' consent_cookie.cookie['domain']='.klarna.com' consent_cookie.cookie['path']='/us/' usehero.com/postrej_1.har.xz\n",
      "Domain path mismatch: .klarna.com domain's path /us/ not match url https://www.klarna.com/international/sustainability/\n",
      "Unmatch url and consent cookie domain: page_url='https://www.klarna.com/international/sustainability/' consent_cookie.cookie['domain']='.klarna.com' consent_cookie.cookie['path']='/us/' usehero.com/postrej_3.har.xz\n",
      "Domain path mismatch: .klarna.com domain's path /us/ not match url https://www.klarna.com/mx/\n",
      "Unmatch url and consent cookie domain: page_url='https://www.klarna.com/mx/' consent_cookie.cookie['domain']='.klarna.com' consent_cookie.cookie['path']='/us/' usehero.com/postrej_4.har.xz\n",
      "Post rej cookie not contain consent cookie, exponential.com/postrej_0.har.xz not have cookie OptanonConsent of .exponential.com on path /\n",
      "Unmatch url and consent cookie domain: page_url='https://www.ama-assn.org/about/privacy-policy#cookies' consent_cookie.cookie['domain']='.jamanetwork.com' consent_cookie.cookie['path']='/' jamanetwork.com/postrej_1.har.xz\n",
      "Post rej cookie not contain consent cookie, sonymobile.com/postrej_0.har.xz not have cookie OptanonConsent of .electronics.sony.com on path /\n",
      "Post rej cookie not contain consent cookie, cpanel.net/postrej_0.har.xz not have cookie CookieConsent of www.cpanel.net on path /\n",
      "Post rej cookie not contain consent cookie, se.com/postrej_0.har.xz not have cookie OptanonConsent of .se.com on path /\n",
      "Post rej cookie not contain consent cookie, accenture.com/postrej_0.har.xz not have cookie OptanonConsent of .accenture.com on path /\n",
      "Error reading har file /mnt/sdd/ducbui/projects/data2/consent/2024-10-07/pref_menu_scan_0k_20k/eircom.net/postrej_2.har.xz: 'DataFrame' object has no attribute 'request'\n",
      "Error reading har file /mnt/sdd/ducbui/projects/data2/consent/2024-10-07/pref_menu_scan_0k_20k/swatch.com/postrej_3.har.xz: 'DataFrame' object has no attribute 'request'\n",
      "Post rej cookie not contain consent cookie, schneider-electric.com/postrej_0.har.xz not have cookie OptanonConsent of .se.com on path /\n",
      "Error reading har file /mnt/sdd/ducbui/projects/data2/consent/2024-10-07/pref_menu_scan_0k_20k/docker.com/postrej_1.har.xz: 'DataFrame' object has no attribute 'request'\n",
      "Unmatch url and consent cookie domain: page_url='https://www.siriusxmmedia.com/siriusxm-ads' consent_cookie.cookie['domain']='.www.siriusxm.com' consent_cookie.cookie['path']='/' siriusxm.com/postrej_5.har.xz\n",
      "Unmatch url and consent cookie domain: page_url='https://careers.siriusxm.com/careers/' consent_cookie.cookie['domain']='.www.siriusxm.com' consent_cookie.cookie['path']='/' siriusxm.com/postrej_3.har.xz\n",
      "Post rej cookie not contain consent cookie, flightaware.com/postrej_0.har.xz not have cookie OptanonConsent of .flightaware.com on path /\n",
      "Post rej cookie not contain consent cookie, ic.ac.uk/postrej_0.har.xz not have cookie OptanonConsent of .imperial.ac.uk on path /\n",
      "Post rej cookie not contain consent cookie, eyeo.com/postrej_0.har.xz not have cookie OptanonConsent of .eyeo.com on path /\n",
      "Post rej cookie not contain consent cookie, penguin.co.uk/postrej_0.har.xz not have cookie OptanonConsent of .penguin.co.uk on path /\n",
      "Unmatch url and consent cookie domain: page_url='https://support.mozilla.org/en-US/kb/pocket-website-cookies-faq' consent_cookie.cookie['domain']='.getpocket.com' consent_cookie.cookie['path']='/' getpocket.com/postrej_4.har.xz\n",
      "Post rej cookie not contain consent cookie, questionpro.com/postrej_0.har.xz not have cookie OptanonConsent of .questionpro.com on path /\n",
      "Post rej cookie not contain consent cookie, spglobal.com/postrej_0.har.xz not have cookie OptanonConsent of .spglobal.com on path /\n",
      "Post rej cookie not contain consent cookie, payoneer.com/postrej_0.har.xz not have cookie OptanonConsent of .payoneer.com on path /\n",
      "Domain path mismatch: .www.basf.com domain's path /us/ not match url https://www.basf.com/global/de/who-we-are/change-for-climate/change-makers\n",
      "Unmatch url and consent cookie domain: page_url='https://www.basf.com/global/de/who-we-are/change-for-climate/change-makers' consent_cookie.cookie['domain']='.www.basf.com' consent_cookie.cookie['path']='/us/' basf.com/postrej_1.har.xz\n",
      "Domain path mismatch: .www.basf.com domain's path /us/ not match url https://www.basf.com/global/en/who-we-are/sustainability/we-produce-safely-and-efficiently/environmental-protection/resources-and-ecosystems/engagement-against-plastic-waste/Alliance-to-end-plastic-waste\n",
      "Unmatch url and consent cookie domain: page_url='https://www.basf.com/global/en/who-we-are/sustainability/we-produce-safely-and-efficiently/environmental-protection/resources-and-ecosystems/engagement-against-plastic-waste/Alliance-to-end-plastic-waste' consent_cookie.cookie['domain']='.www.basf.com' consent_cookie.cookie['path']='/us/' basf.com/postrej_3.har.xz\n",
      "Post rej cookie not contain consent cookie, yoti.com/postrej_0.har.xz not have cookie OptanonConsent of www.yoti.com on path /\n",
      "Post rej cookie not contain consent cookie, bromium-online.com/postrej_5.har.xz not have cookie OptanonConsent of .hpwolf.com on path /\n",
      "Post rej cookie not contain consent cookie, bromium-online.com/postrej_0.har.xz not have cookie OptanonConsent of .hpwolf.com on path /\n",
      "Post rej cookie not contain consent cookie, bromium-online.com/postrej_3.har.xz not have cookie OptanonConsent of .hpwolf.com on path /\n",
      "Post rej cookie not contain consent cookie, ucc.ie/postrej_0.har.xz not have cookie OptanonConsent of .www.ucc.ie on path /\n",
      "Post rej cookie not contain consent cookie, hidemyass.com/postrej_0.har.xz not have cookie OptanonConsent of .hidemyass.com on path /\n",
      "Post rej cookie not contain consent cookie, qualys.eu/postrej_0.har.xz not have cookie CookieConsent of www.qualys.com on path /\n",
      "Unmatch url and consent cookie domain: page_url='https://stores.pandora.net/en-us/#contentID=1228abc0-5b0c-43fc-9463-218b2a8f7492&type=USP%20Tiles&name=DNR_USPModule_Homepage_CAEN' consent_cookie.cookie['domain']='.us.pandora.net' consent_cookie.cookie['path']='/' pandora.net/postrej_3.har.xz\n",
      "Post rej cookie not contain consent cookie, kandji.io/postrej_2.har.xz not have cookie OptanonConsent of .kandji.io on path /\n",
      "Post rej cookie not contain consent cookie, vfsglobal.com/postrej_0.har.xz not have cookie OptanonConsent of .vfsglobal.com on path /\n",
      "Error reading har file /mnt/sdd/ducbui/projects/data2/consent/2024-10-07/pref_menu_scan_0k_20k/salliemae.com/postrej_2.har.xz: 'DataFrame' object has no attribute 'request'\n",
      "Error reading har file /mnt/sdd/ducbui/projects/data2/consent/2024-10-07/pref_menu_scan_0k_20k/last.fm/postrej_5.har.xz: 'DataFrame' object has no attribute 'request'\n",
      "Unmatch url and consent cookie domain: page_url='https://www.surveymonkey.com/templates/customer-satisfaction-survey-template/' consent_cookie.cookie['domain']='.www.research.net' consent_cookie.cookie['path']='/' research.net/postrej_2.har.xz\n",
      "Unmatch url and consent cookie domain: page_url='https://auth-us.surveymonkey.com/login?state=hKFo2SBoSnZuSTA1TjFZQ0dFS2pFY1ZkMTd2a3l4YUx3dmFGNqFupWxvZ2luo3RpZNkgSGFWdVhhV2o4ajNfVXRtb24xZHhick5QOFE4b05FUm2jY2lk2SBzQTM0RFVtUUE0RUlySkM3cTlRdVBDZjFUNzc4QmZMdg&client=sA34DUmQA4EIrJC7q9QuPCf1T778BfLv&protocol=oauth2&prompt=login&scope=openid%20profile%20email&redirect_uri=https%3A%2F%2Fwww.surveymonkey.com%2Flogin%2Fcallback&ut_ctatext=Sign%20up%20free&ut_source=research_net&ut_source3=logged-out-header&ui_locales=en&sm.amp_did=dfb87bd2-5cc3-4bd4-9d8d-0336f736ba10&sm.amp_sid=1728325363176&sm.show=sign-up&sm.locale=en&sm.country=AU&sm.subdomain=www&sm.social_popup=false&response_type=code&response_mode=query&nonce=c2tZOVBLWUYuRnlsYUtudFhYcEJjUlJTNTdva2JFOGVhVkNuTTJZZE0yaA%3D%3D&code_challenge=tIdXhTn8OTeIPKhxn2YBjCr-aZt_CRkLKWukEXnFHfs&code_challenge_method=S256&auth0Client=eyJuYW1lIjoiYXV0aDAtc3BhLWpzIiwidmVyc2lvbiI6IjIuMC4xIn0%3D#/sign-up' consent_cookie.cookie['domain']='.www.research.net' consent_cookie.cookie['path']='/' research.net/postrej_5.har.xz\n",
      "Unmatch url and consent cookie domain: page_url='https://www.surveymonkey.com/templates/course-evaluation-survey-template/' consent_cookie.cookie['domain']='.www.research.net' consent_cookie.cookie['path']='/' research.net/postrej_1.har.xz\n",
      "Unmatch url and consent cookie domain: page_url='https://www.surveymonkey.com/about/vision-mission/' consent_cookie.cookie['domain']='.www.research.net' consent_cookie.cookie['path']='/' research.net/postrej_3.har.xz\n",
      "Unmatch url and consent cookie domain: page_url='https://www.surveymonkey.com/templates/net-promoter-score-survey-template/' consent_cookie.cookie['domain']='.www.research.net' consent_cookie.cookie['path']='/' research.net/postrej_4.har.xz\n",
      "Post rej cookie not contain consent cookie, tcs.com/postrej_0.har.xz not have cookie OptanonConsent of .tcs.com on path /\n",
      "Post rej cookie not contain consent cookie, radio.com/postrej_2.har.xz not have cookie OptanonConsent of .audacy.com on path /\n",
      "Post rej cookie not contain consent cookie, imperial.ac.uk/postrej_0.har.xz not have cookie OptanonConsent of .imperial.ac.uk on path /\n",
      "Unmatch url and consent cookie domain: page_url='https://login.microsoftonline.com/common/oauth2/authorize?client_id=00000002-0000-0ff1-ce00-000000000000&redirect_uri=https%3a%2f%2foutlook.office365.com%2fowa%2f&resource=00000002-0000-0ff1-ce00-000000000000&response_mode=form_post&response_type=code+id_token&scope=openid&msafed=1&msaredir=1&client-request-id=0d95afb1-4011-7e0e-e3fd-7ba999cf9e2d&protectedtoken=true&claims=%7b%22id_token%22%3a%7b%22xms_cc%22%3a%7b%22values%22%3a%5b%22CP1%22%5d%7d%7d%7d&domain_hint=ic.ac.uk&nonce=638639213075438640.bb935409-da60-445d-9aaa-198d1ad0edac&state=DYs5EoAwCAATrX0KCRFy8BwMFo6FleP3pdidbTaGEFZncSK6Qm80GsleCHtlb8Z0HEKVUcC0ITBXA1FVKDKsqOFpOqO_W34-zddMOtN7_w' consent_cookie.cookie['domain']='.imperial.ac.uk' consent_cookie.cookie['path']='/' imperial.ac.uk/postrej_3.har.xz\n",
      "Post rej cookie not contain consent cookie, siteground.eu/postrej_0.har.xz not have cookie CookieConsent of au.siteground.com on path /\n",
      "Post rej cookie not contain consent cookie, cpanel.com/postrej_0.har.xz not have cookie CookieConsent of cpanel.net on path /\n",
      "Post rej cookie not contain consent cookie, cpanel.com/postrej_4.har.xz not have cookie CookieConsent of cpanel.net on path /\n",
      "Post rej cookie not contain consent cookie, hyprmx.com/postrej_0.har.xz not have cookie OptanonConsent of .hyprmx.com on path /\n",
      "Post rej cookie not contain consent cookie, hbogola.com/postrej_0.har.xz not have cookie OptanonConsent of .max.com on path /\n",
      "Post rej cookie not contain consent cookie, pingdom.com/postrej_0.har.xz not have cookie OptanonConsent of .www.pingdom.com on path /\n",
      "Unmatch url and consent cookie domain: page_url='https://accounts.google.com/v3/signin/identifier?opparams=%253F&dsh=S-1742450249%3A1728330048824953&access_type=offline&client_id=788061727671-8lsnbnf701j58tbec561so1t2irvn9pj.apps.googleusercontent.com&ddm=1&o2v=1&redirect_uri=https%3A%2F%2Fwww.jstor.org%2Flogin%2Foauth%2Fgoogle%2Fauthorize&response_type=code&scope=email+profile&service=lso&state=%7B%22destination%22%3A%22https%3A%2F%2Fwww.jstor.org%2F%22%2C%22target%22%3A%22https%3A%2F%2Fwww.jstor.org%22%7D&flowName=GeneralOAuthFlow&continue=https%3A%2F%2Faccounts.google.com%2Fsignin%2Foauth%2Fconsent%3Fauthuser%3Dunknown%26part%3DAJi8hAM3gb_mCBsKisRt6so1d-irP5q_u7GmVmK7R17SiuFl7N4DmMTh50u_DWk2YeLQmbUQiMjr5HgPkdzKMOqq1e8euGr3Z8euo8Bht75dLlYDan7ee9Re98uAzB45Fn5dUBCkRf7H2LKjTTHzUsjSBboarljVoAaXOlOKeYlQmABpx0_OvGLLtIKhDoZge-jwuDDN6t5JeFvhf-OXQIl20tNbj_1TW7U5kE3X52u0VRVVRqQVUYf9ATE9rO8qXkQLO8xdUJwPnRP5UGKJbg23sJB9oQ0mmvM8x7H_ipeNsd3uvNCbgNNtwu9slyF-UEgxvslarz48smLWmp4BaGUnJcBmO9r3A9BsIPJmvrL94KZBAoAmca0cdZrqqzFsW3ek3gc_oqfw5i0vva0Y8oV0ww_iiJgueRz50sW3Gwr57Hr6gDMA2hDpWZ14AsPMXT3rVVWaNCkLxd1sFFCAdsG8QqpLrTjPoQ%26flowName%3DGeneralOAuthFlow%26as%3DS-1742450249%253A1728330048824953%26client_id%3D788061727671-8lsnbnf701j58tbec561so1t2irvn9pj.apps.googleusercontent.com%23&app_domain=https%3A%2F%2Fwww.jstor.org&rart=ANgoxcfyRK_k3dgKTTxyQPJfdJmKH8emZUAP0_EsSge2DzchK_ujMtJJ1LZ4kLmtNJlfzhWbcAEsVHfiDPpmHhlfoS_XPgY3ifOKNG9yFSD7Y6RTxdytP1w' consent_cookie.cookie['domain']='.jstor.org' consent_cookie.cookie['path']='/' jstor.org/postrej_4.har.xz\n",
      "Post rej cookie not contain consent cookie, stylitics.com/postrej_0.har.xz not have cookie OptanonConsent of .stylitics.com on path /\n",
      "Post rej cookie not contain consent cookie, kodak.com/postrej_0.har.xz not have cookie OptanonConsent of .www.kodak.com on path /\n",
      "Post rej cookie not contain consent cookie, kaercher.com/postrej_0.har.xz not have cookie OptanonConsent of .kaercher.com on path /int/\n",
      "Post rej cookie not contain consent cookie, sanofi-synthelabo.com/postrej_0.har.xz not have cookie OptanonConsent of .www.sanofi.com on path /\n",
      "Unmatch url and consent cookie domain: page_url='https://login.microsoftonline.com/4d4e3dfb-3233-4e06-a28f-de1cadd128f4/saml2/' consent_cookie.cookie['domain']='.micron.com' consent_cookie.cookie['path']='/' micron.com/postrej_4.har.xz\n",
      "Post rej cookie not contain consent cookie, merck.com/postrej_0.har.xz not have cookie OptanonConsent of .merck.com on path /\n",
      "Post rej cookie not contain consent cookie, download.com/postrej_0.har.xz not have cookie OptanonConsent of .download.cnet.com on path /\n",
      "Unmatch url and consent cookie domain: page_url='https://gameinsight.helpshift.com/hc/en/24-other-games/' consent_cookie.cookie['domain']='www.game-insight.com' consent_cookie.cookie['path']='/' game-insight.com/postrej_1.har.xz\n",
      "Domain path mismatch: .pitneybowes.com domain's path /us not match url https://www.pitneybowes.com/au\n",
      "Unmatch url and consent cookie domain: page_url='https://www.pitneybowes.com/au' consent_cookie.cookie['domain']='.pitneybowes.com' consent_cookie.cookie['path']='/us' pb.com/postrej_5.har.xz\n",
      "Post rej cookie not contain consent cookie, pb.com/postrej_0.har.xz not have cookie OptanonConsent of .pitneybowes.com on path /us\n",
      "Post rej cookie not contain consent cookie, purechat.com/postrej_0.har.xz not have cookie OptanonConsent of .purechat.com on path /\n",
      "Error reading har file /mnt/sdd/ducbui/projects/data2/consent/2024-10-07/pref_menu_scan_0k_20k/avast.com/postrej_2.har.xz: 'DataFrame' object has no attribute 'request'\n",
      "Unmatch url and consent cookie domain: page_url='https://store.ee.co.uk/learnmore/bt-branded-products-and-services/bt-home-phones?ReferrerID=G600&utm_source=btcom&utm_medium=bt+marketing&utm_campaign=navigation&utm_content=G600' consent_cookie.cookie['domain']='.bt.com' consent_cookie.cookie['path']='/' bt.com/postrej_2.har.xz\n",
      "Unmatch url and consent cookie domain: page_url='https://www.americanexpress.com/us/credit-cards/card/gold-card/?eep=26129&extlink=af-us-ccsg-GLDLM&irgwc=1&veid=XB1Q9NUjsxyKTzlSY6RlMRJBUkCUJ0SGOw2Uyc0&affid=1137073&pid=IR&affname=TPG&sid=12011830006&pmc=784&BUID=CCG&CRTV=controlaffcps&MPR=05' consent_cookie.cookie['domain']='.thepointsguy.com' consent_cookie.cookie['path']='/' thepointsguy.com/postrej_5.har.xz\n",
      "Unmatch url and consent cookie domain: page_url='https://www.dazn.com/en-AU/l/nfl-game-pass/' consent_cookie.cookie['domain']='.nfl.com' consent_cookie.cookie['path']='/' nfl.com/postrej_5.har.xz\n",
      "Post rej cookie not contain consent cookie, tado.com/postrej_0.har.xz not have cookie OptanonConsent of .tado.com on path /\n",
      "Unmatch url and consent cookie domain: page_url='https://www.mylo.id/login?client_id=4gr5h37atov5srirq3j1k6ioud&redirect_uri=https%3A%2F%2Fwww.seventeen.com%2Fauth%2Flogin&state=sdORwzO7-ojdv3iu1aENGjLQOVA8OCuREBLM' consent_cookie.cookie['domain']='.seventeen.com' consent_cookie.cookie['path']='/' seventeen.com/postrej_4.har.xz\n",
      "Post rej cookie not contain consent cookie, unaids.org/postrej_0.har.xz not have cookie CookieConsent of www.unaids.org on path /\n",
      "Post rej cookie not contain consent cookie, nhl.com/postrej_5.har.xz not have cookie OptanonConsent of .nhl.com on path /\n",
      "Unmatch url and consent cookie domain: page_url='https://jobs.ashbyhq.com/sleeper' consent_cookie.cookie['domain']='.sleeper.com' consent_cookie.cookie['path']='/' sleeper.app/postrej_2.har.xz\n",
      "Post rej cookie not contain consent cookie, sumologic.com/postrej_0.har.xz not have cookie OptanonConsent of .sumologic.com on path /\n",
      "Post rej cookie not contain consent cookie, duosecurity.com/postrej_0.har.xz not have cookie OptanonConsent of .duo.com on path /\n",
      "Unmatch url and consent cookie domain: page_url='https://nielseniq.com/global/en/solutions/brand-and-media/' consent_cookie.cookie['domain']='.www.gfk.com' consent_cookie.cookie['path']='/' gfk.com/postrej_4.har.xz\n",
      "Unmatch url and consent cookie domain: page_url='https://legal.verkada.com/#sla' consent_cookie.cookie['domain']='.www.verkada.com' consent_cookie.cookie['path']='/' verkada.com/postrej_1.har.xz\n",
      "Unmatch url and consent cookie domain: page_url='https://www.appily.com/virtual-college-tours?utm_source=referral&utm_medium=youvisit' consent_cookie.cookie['domain']='.www.youvisit.com' consent_cookie.cookie['path']='/' youvisit.com/postrej_2.har.xz\n",
      "Unmatch url and consent cookie domain: page_url='https://eab.app.box.com/s/ig1xoav1pag3q3af1k812bdthzfyhcwn' consent_cookie.cookie['domain']='.www.youvisit.com' consent_cookie.cookie['path']='/' youvisit.com/postrej_5.har.xz\n",
      "Post rej cookie not contain consent cookie, fonts.com/postrej_0.har.xz not have cookie OptanonConsent of .www.fonts.com on path /\n",
      "Unmatch url and consent cookie domain: page_url='https://bepress.com/' consent_cookie.cookie['domain']='.www.elsevier.com' consent_cookie.cookie['path']='/' bepress.com/postrej_0.har.xz\n",
      "Unmatch url and consent cookie domain: page_url='https://oanda.wd10.myworkdayjobs.com/External' consent_cookie.cookie['domain']='.oanda.com' consent_cookie.cookie['path']='/' oanda.com/postrej_1.har.xz\n",
      "Post rej cookie not contain consent cookie, fonts.net/postrej_0.har.xz not have cookie OptanonConsent of .www.fonts.com on path /\n",
      "Post rej cookie not contain consent cookie, haydaygame.com/postrej_2.har.xz not have cookie OptanonConsent of .hayday.com on path /\n",
      "Post rej cookie not contain consent cookie, haydaygame.com/postrej_1.har.xz not have cookie OptanonConsent of .hayday.com on path /\n",
      "Post rej cookie not contain consent cookie, haydaygame.com/postrej_0.har.xz not have cookie OptanonConsent of .hayday.com on path /\n",
      "Post rej cookie not contain consent cookie, sho.com/postrej_0.har.xz not have cookie OptanonConsent of .paramountpluswithshowtime.com on path /\n",
      "Error reading har file /mnt/sdd/ducbui/projects/data2/consent/2024-10-07/pref_menu_scan_0k_20k/sunpower.com/postrej_2.har.xz: 'DataFrame' object has no attribute 'request'\n",
      "Domain path mismatch: .kpmg.com domain's path /xx not match url https://kpmg.com/bg/en/home.html\n",
      "Unmatch url and consent cookie domain: page_url='https://kpmg.com/bg/en/home.html' consent_cookie.cookie['domain']='.kpmg.com' consent_cookie.cookie['path']='/xx' kpmg.com/postrej_5.har.xz\n",
      "Post rej cookie not contain consent cookie, kpmg.com/postrej_0.har.xz not have cookie OptanonConsent of .kpmg.com on path /xx\n",
      "Domain path mismatch: .kpmg.com domain's path /xx not match url https://kpmg.com/uz/ru/home.html\n",
      "Unmatch url and consent cookie domain: page_url='https://kpmg.com/uz/ru/home.html' consent_cookie.cookie['domain']='.kpmg.com' consent_cookie.cookie['path']='/xx' kpmg.com/postrej_4.har.xz\n",
      "Unmatch url and consent cookie domain: page_url='https://ir.netflix.net/ir-overview/profile/default.aspx' consent_cookie.cookie['domain']='.netflix.com' consent_cookie.cookie['path']='/' netflix.com/postrej_2.har.xz\n",
      "Post rej cookie not contain consent cookie, tide.co/postrej_0.har.xz not have cookie OptanonConsent of .www.tide.co on path /\n",
      "Unmatch url and consent cookie domain: page_url='https://www.forbusiness.viber.com/en/' consent_cookie.cookie['domain']='.www.viber.com' consent_cookie.cookie['path']='/' viber.com/postrej_1.har.xz\n",
      "Unmatch url and consent cookie domain: page_url='https://www.kaspersky.com/about/policy-blog' consent_cookie.cookie['domain']='usa.kaspersky.com' consent_cookie.cookie['path']='/' kaspersky-labs.com/postrej_5.har.xz\n",
      "Post rej cookie not contain consent cookie, kaspersky-labs.com/postrej_0.har.xz not have cookie CookieConsent of usa.kaspersky.com on path /\n",
      "Post rej cookie not contain consent cookie, ucd.ie/postrej_0.har.xz not have cookie OptanonConsent of .ucd.ie on path /\n",
      "Unmatch url and consent cookie domain: page_url='https://www.altium365.com/trust' consent_cookie.cookie['domain']='.altium.com' consent_cookie.cookie['path']='/' altium.com/postrej_4.har.xz\n",
      "Unmatch url and consent cookie domain: page_url='https://life360-legal.zendesk.com/hc/en-us/articles/16038777217175-Life360-Privacy-Policy' consent_cookie.cookie['domain']='.life360.com' consent_cookie.cookie['path']='/' life360.com/postrej_1.har.xz\n",
      "Unmatch url and consent cookie domain: page_url='https://life360-legal.zendesk.com/hc/en-us/articles/16124856472471-Life360-Terms-of-Service' consent_cookie.cookie['domain']='.life360.com' consent_cookie.cookie['path']='/' life360.com/postrej_3.har.xz\n",
      "Error reading har file /mnt/sdd/ducbui/projects/data2/consent/2024-10-07/pref_menu_scan_0k_20k/grab.com/postrej_5.har.xz: 'DataFrame' object has no attribute 'request'\n",
      "Unmatch url and consent cookie domain: page_url='https://www.chroniclelive.co.uk/' consent_cookie.cookie['domain']='www.fish4.co.uk' consent_cookie.cookie['path']='/' chroniclelive.co.uk/postrej_0.har.xz\n",
      "Post rej cookie not contain consent cookie, sendbird.com/postrej_2.har.xz not have cookie OptanonConsent of .sendbird.com on path /\n",
      "Post rej cookie not contain consent cookie, sendbird.com/postrej_1.har.xz not have cookie OptanonConsent of .sendbird.com on path /\n",
      "Post rej cookie not contain consent cookie, sendbird.com/postrej_3.har.xz not have cookie OptanonConsent of .sendbird.com on path /\n",
      "Post rej cookie not contain consent cookie, sendbird.com/postrej_4.har.xz not have cookie OptanonConsent of .sendbird.com on path /\n",
      "Unmatch url and consent cookie domain: page_url='http://housebeautiful.hearstmobile.com/giveaways/' consent_cookie.cookie['domain']='.housebeautiful.com' consent_cookie.cookie['path']='/' housebeautiful.com/postrej_1.har.xz\n",
      "Post rej cookie not contain consent cookie, mailspamprotection.com/postrej_0.har.xz not have cookie CookieConsent of au.siteground.com on path /\n",
      "Error reading har file /mnt/sdd/ducbui/projects/data2/consent/2024-10-07/pref_menu_scan_0k_20k/hp.com/postrej_5.har.xz: 'DataFrame' object has no attribute 'request'\n",
      "Error reading har file /mnt/sdd/ducbui/projects/data2/consent/2024-10-07/pref_menu_scan_0k_20k/hp.com/postrej_1.har.xz: 'DataFrame' object has no attribute 'request'\n",
      "Error reading har file /mnt/sdd/ducbui/projects/data2/consent/2024-10-07/pref_menu_scan_0k_20k/hp.com/postrej_3.har.xz: 'DataFrame' object has no attribute 'request'\n",
      "Unmatch url and consent cookie domain: page_url='https://tivo.pactsafe.io/legal.html#tivo-product-safety-and-compliance-information' consent_cookie.cookie['domain']='.tivo.com' consent_cookie.cookie['path']='/' tivo.com/postrej_5.har.xz\n",
      "Post rej cookie not contain consent cookie, qualys.com/postrej_0.har.xz not have cookie CookieConsent of www.qualys.com on path /\n",
      "Post rej cookie not contain consent cookie, jedox.com/postrej_0.har.xz not have cookie CookieConsent of www.jedox.com on path /\n",
      "Post rej cookie not contain consent cookie, siteground.biz/postrej_0.har.xz not have cookie CookieConsent of au.siteground.com on path /\n",
      "Post rej cookie not contain consent cookie, nngroup.com/postrej_0.har.xz not have cookie CookieConsent of www.nngroup.com on path /\n",
      "Domain path mismatch: .klarna.com domain's path /us/ not match url https://www.klarna.com/es/\n",
      "Unmatch url and consent cookie domain: page_url='https://www.klarna.com/es/' consent_cookie.cookie['domain']='.klarna.com' consent_cookie.cookie['path']='/us/' klarna.com/postrej_5.har.xz\n",
      "Domain path mismatch: .klarna.com domain's path /us/ not match url https://www.klarna.com/sk/\n",
      "Unmatch url and consent cookie domain: page_url='https://www.klarna.com/sk/' consent_cookie.cookie['domain']='.klarna.com' consent_cookie.cookie['path']='/us/' klarna.com/postrej_4.har.xz\n",
      "Post rej cookie not contain consent cookie, auctollo.com/postrej_0.har.xz not have cookie CookieConsent of auctollo.com on path /\n",
      "Post rej cookie not contain consent cookie, auctollo.com/postrej_4.har.xz not have cookie CookieConsent of auctollo.com on path /\n",
      "Post rej cookie not contain consent cookie, duo.com/postrej_0.har.xz not have cookie OptanonConsent of .duo.com on path /\n",
      "Post rej cookie not contain consent cookie, siteground.com/postrej_0.har.xz not have cookie CookieConsent of au.siteground.com on path /\n",
      "Unmatch url and consent cookie domain: page_url='https://www.geapplianceparts.com/store/parts/category/accessories' consent_cookie.cookie['domain']='.geappliances.com' consent_cookie.cookie['path']='/' geappliances.com/postrej_4.har.xz\n",
      "Post rej cookie not contain consent cookie, ipl.org/postrej_0.har.xz not have cookie OptanonConsent of .ipl.org on path /\n",
      "Unmatch url and consent cookie domain: page_url='https://www.zoom.com/en/industry/education/' consent_cookie.cookie['domain']='.zoom.us' consent_cookie.cookie['path']='/' zoom.us/postrej_2.har.xz\n",
      "Unmatch url and consent cookie domain: page_url='https://www.zoom.com/en/trust/privacy/' consent_cookie.cookie['domain']='.zoom.us' consent_cookie.cookie['path']='/' zoom.us/postrej_1.har.xz\n",
      "Unmatch url and consent cookie domain: page_url='https://www.zoom.com/en/contact/contact-sales/' consent_cookie.cookie['domain']='.zoom.us' consent_cookie.cookie['path']='/' zoom.us/postrej_3.har.xz\n",
      "Unmatch url and consent cookie domain: page_url='https://www.zoom.com/en/contact/live-demo/' consent_cookie.cookie['domain']='.zoom.us' consent_cookie.cookie['path']='/' zoom.us/postrej_4.har.xz\n",
      "Unmatch url and consent cookie domain: page_url='https://www.opentext.com/products/digital-workplace' consent_cookie.cookie['domain']='.www.microfocus.com' consent_cookie.cookie['path']='/' microfocus.com/postrej_2.har.xz\n",
      "Unmatch url and consent cookie domain: page_url='https://www.opentext.com/learning-services/learning-paths' consent_cookie.cookie['domain']='.www.microfocus.com' consent_cookie.cookie['path']='/' microfocus.com/postrej_5.har.xz\n",
      "Unmatch url and consent cookie domain: page_url='https://www.opentext.com/partners/find-an-opentext-partner' consent_cookie.cookie['domain']='.www.microfocus.com' consent_cookie.cookie['path']='/' microfocus.com/postrej_1.har.xz\n",
      "Unmatch url and consent cookie domain: page_url='https://www.opentext.com/products/digital-workplace' consent_cookie.cookie['domain']='.www.microfocus.com' consent_cookie.cookie['path']='/' microfocus.com/postrej_3.har.xz\n",
      "Unmatch url and consent cookie domain: page_url='https://apps.apple.com/us/app/inboxdollars-surveys-for-cash/id1221433007' consent_cookie.cookie['domain']='.inboxdollars.com' consent_cookie.cookie['path']='/' inboxdollars.com/postrej_4.har.xz\n",
      "Unmatch url and consent cookie domain: page_url='https://www.visittrinity.ie/' consent_cookie.cookie['domain']='.tcd.ie' consent_cookie.cookie['path']='/' tcd.ie/postrej_5.har.xz\n",
      "Error reading har file /mnt/sdd/ducbui/projects/data2/consent/2024-10-07/pref_menu_scan_0k_20k/tcd.ie/postrej_3.har.xz: 'DataFrame' object has no attribute 'request'\n",
      "Post rej cookie not contain consent cookie, vizio.com/postrej_0.har.xz not have cookie OptanonConsent of .www.vizio.com on path /\n",
      "Unmatch url and consent cookie domain: page_url='https://www.sony.com.au/all-products' consent_cookie.cookie['domain']='.www.sony.net' consent_cookie.cookie['path']='/' sony.net/postrej_2.har.xz\n",
      "Unmatch url and consent cookie domain: page_url='https://www.sony.com.au/lenses' consent_cookie.cookie['domain']='.www.sony.net' consent_cookie.cookie['path']='/' sony.net/postrej_3.har.xz\n",
      "Post rej cookie not contain consent cookie, dow.com/postrej_0.har.xz not have cookie OptanonConsent of .dow.com on path /\n",
      "Post rej cookie not contain consent cookie, labcorp.com/postrej_0.har.xz not have cookie OptanonConsent of .labcorp.com on path /\n",
      "Unmatch url and consent cookie domain: page_url='https://ir.netflix.net/ir-overview/profile/default.aspx' consent_cookie.cookie['domain']='.netflix.com' consent_cookie.cookie['path']='/' nflxvideo.net/postrej_3.har.xz\n",
      "Cannot read /mnt/sdd/ducbui/projects/data2/consent/2024-10-07/pref_menu_scan_0k_20k/funcom.com/log.json: [Errno 2] No such file or directory: '/mnt/sdd/ducbui/projects/data2/consent/2024-10-07/pref_menu_scan_0k_20k/funcom.com/log.json'\n",
      "Post rej cookie not contain consent cookie, peacocktv.com/postrej_0.har.xz not have cookie OptanonConsent of .peacocktv.com on path /\n",
      "Unmatch url and consent cookie domain: page_url='https://learn.englandfootball.com/articles-and-resources/coaching' consent_cookie.cookie['domain']='.www.thefa.com' consent_cookie.cookie['path']='/' thefa.com/postrej_2.har.xz\n",
      "Post rej cookie not contain consent cookie, thefa.com/postrej_0.har.xz not have cookie OptanonConsent of .www.thefa.com on path /\n",
      "Unmatch url and consent cookie domain: page_url='https://www.voxmedia.com/pages/careers-jobs' consent_cookie.cookie['domain']='.nymag.com' consent_cookie.cookie['path']='/' nymag.com/postrej_3.har.xz\n",
      "Error reading har file /mnt/sdd/ducbui/projects/data2/consent/2024-10-07/pref_menu_scan_0k_20k/lastline.com/postrej_1.har.xz: 'DataFrame' object has no attribute 'request'\n",
      "Post rej cookie not contain consent cookie, gitlab.com/postrej_0.har.xz not have cookie OptanonConsent of .gitlab.com on path /\n",
      "Post rej cookie not contain consent cookie, chaosgroup.com/postrej_5.har.xz not have cookie OptanonConsent of .chaos.com on path /\n",
      "Post rej cookie not contain consent cookie, chaosgroup.com/postrej_1.har.xz not have cookie OptanonConsent of .chaos.com on path /\n",
      "Post rej cookie not contain consent cookie, chaosgroup.com/postrej_0.har.xz not have cookie OptanonConsent of .chaos.com on path /\n",
      "Post rej cookie not contain consent cookie, chaosgroup.com/postrej_3.har.xz not have cookie OptanonConsent of .chaos.com on path /\n",
      "Post rej cookie not contain consent cookie, chaosgroup.com/postrej_4.har.xz not have cookie OptanonConsent of .chaos.com on path /\n",
      "Unmatch url and consent cookie domain: page_url='https://centres.weforum.org/centre-for-regions-trade-and-geopolitics' consent_cookie.cookie['domain']='www.weforum.org' consent_cookie.cookie['path']='/' weforum.org/postrej_2.har.xz\n",
      "Unmatch url and consent cookie domain: page_url='https://centres.weforum.org/centre-for-the-fourth-industrial-revolution' consent_cookie.cookie['domain']='www.weforum.org' consent_cookie.cookie['path']='/' weforum.org/postrej_5.har.xz\n",
      "Unmatch url and consent cookie domain: page_url='https://www.cambridge.org/legal/website-terms-of-use' consent_cookie.cookie['domain']='.www.cambridgeenglish.org' consent_cookie.cookie['path']='/' cambridgeenglish.org/postrej_4.har.xz\n",
      "Unmatch url and consent cookie domain: page_url='https://login.nikonsso.com/' consent_cookie.cookie['domain']='.nikonusa.com' consent_cookie.cookie['path']='/' nikonusa.com/postrej_2.har.xz\n",
      "Unmatch url and consent cookie domain: page_url='https://login3.id.hp.com/login3/sign-up' consent_cookie.cookie['domain']='.hpsmart.com' consent_cookie.cookie['path']='/' hpsmart.com/postrej_1.har.xz\n",
      "Cannot read /mnt/sdd/ducbui/projects/data2/consent/2024-10-07/pref_menu_scan_0k_20k/sharechat.com/log.json: [Errno 2] No such file or directory: '/mnt/sdd/ducbui/projects/data2/consent/2024-10-07/pref_menu_scan_0k_20k/sharechat.com/log.json'\n",
      "Post rej cookie not contain consent cookie, uic.edu/postrej_0.har.xz not have cookie OptanonConsent of .uic.edu on path /\n",
      "Unmatch url and consent cookie domain: page_url='https://www.take2games.com/privacy/' consent_cookie.cookie['domain']='.socialpoint.es' consent_cookie.cookie['path']='/' weplaydots.com/postrej_3.har.xz\n",
      "Post rej cookie not contain consent cookie, csmonitor.com/postrej_0.har.xz not have cookie OptanonConsent of .csmonitor.com on path /\n",
      "Domain path mismatch: .chubb.com domain's path /us-en not match url https://www.chubb.com/pt-pt/\n",
      "Unmatch url and consent cookie domain: page_url='https://www.chubb.com/pt-pt/' consent_cookie.cookie['domain']='.chubb.com' consent_cookie.cookie['path']='/us-en' chubb.com/postrej_2.har.xz\n",
      "Domain path mismatch: .chubb.com domain's path /us-en not match url https://www.chubb.com/benelux-nl/\n",
      "Unmatch url and consent cookie domain: page_url='https://www.chubb.com/benelux-nl/' consent_cookie.cookie['domain']='.chubb.com' consent_cookie.cookie['path']='/us-en' chubb.com/postrej_3.har.xz\n",
      "Domain path mismatch: .chubb.com domain's path /us-en not match url https://www.chubb.com/es-es/\n",
      "Unmatch url and consent cookie domain: page_url='https://www.chubb.com/es-es/' consent_cookie.cookie['domain']='.chubb.com' consent_cookie.cookie['path']='/us-en' chubb.com/postrej_4.har.xz\n",
      "Post rej cookie not contain consent cookie, kaspersky.com/postrej_0.har.xz not have cookie CookieConsent of usa.kaspersky.com on path /\n",
      "Post rej cookie not contain consent cookie, westernunion.com/postrej_0.har.xz not have cookie OptanonConsent of .westernunion.com on path /us\n",
      "Domain path mismatch: .westernunion.com domain's path /us not match url https://www.westernunion.com/global-services/find-locations?WUCountry=us&WULanguage=en\n",
      "Unmatch url and consent cookie domain: page_url='https://www.westernunion.com/global-services/find-locations?WUCountry=us&WULanguage=en' consent_cookie.cookie['domain']='.westernunion.com' consent_cookie.cookie['path']='/us' westernunion.com/postrej_3.har.xz\n",
      "Unmatch url and consent cookie domain: page_url='https://mc97gsxn49y6wmpf4p2n764zq7z1.pub.sfmc-content.com/whppjf4wyzt?utm_source=ncaa.com&utm_medium=referral&utm_campaign=general&utm_content=PC' consent_cookie.cookie['domain']='.ncaa.com' consent_cookie.cookie['path']='/' ncaa.com/postrej_4.har.xz\n",
      "Unmatch url and consent cookie domain: page_url='https://preview.codecanyon.net/item/magicai-openai-content-text-image-chat-code-generator-as-saas/full_screen_preview/45408109' consent_cookie.cookie['domain']='codecanyon.net' consent_cookie.cookie['path']='/' codecanyon.net/postrej_1.har.xz\n",
      "Post rej cookie not contain consent cookie, codecanyon.net/postrej_0.har.xz not have cookie CookieConsent of codecanyon.net on path /\n",
      "Post rej cookie not contain consent cookie, forter.com/postrej_0.har.xz not have cookie OptanonConsent of .forter.com on path /\n",
      "Post rej cookie not contain consent cookie, hbomax.com/postrej_1.har.xz not have cookie OptanonConsent of .max.com on path /\n",
      "Post rej cookie not contain consent cookie, hbomax.com/postrej_0.har.xz not have cookie OptanonConsent of .max.com on path /\n",
      "Post rej cookie not contain consent cookie, stitcher.com/postrej_2.har.xz not have cookie OptanonConsent of .www.stitcher.com on path /\n",
      "Error reading har file /mnt/sdd/ducbui/projects/data2/consent/2024-10-07/pref_menu_scan_0k_20k/mdpi.com/postrej_3.har.xz: 'DataFrame' object has no attribute 'request'\n",
      "Unmatch url and consent cookie domain: page_url='https://diversity.gene.com/?utm_source=genecom' consent_cookie.cookie['domain']='.www.gene.com' consent_cookie.cookie['path']='/' gene.com/postrej_3.har.xz\n",
      "Unmatch url and consent cookie domain: page_url='https://www.southparkstudios.com/' consent_cookie.cookie['domain']='.cc.com' consent_cookie.cookie['path']='/' cc.com/postrej_1.har.xz\n",
      "Post rej cookie not contain consent cookie, cc.com/postrej_0.har.xz not have cookie OptanonConsent of .cc.com on path /\n",
      "Unmatch url and consent cookie domain: page_url='https://www.zoom.com/en/about/team/' consent_cookie.cookie['domain']='.zoom.us' consent_cookie.cookie['path']='/' zoom.com/postrej_2.har.xz\n",
      "Unmatch url and consent cookie domain: page_url='https://www.zoom.com/en/trust/privacy/' consent_cookie.cookie['domain']='.zoom.us' consent_cookie.cookie['path']='/' zoom.com/postrej_5.har.xz\n",
      "Unmatch url and consent cookie domain: page_url='https://www.zoom.com/en/zoom-ventures/' consent_cookie.cookie['domain']='.zoom.us' consent_cookie.cookie['path']='/' zoom.com/postrej_1.har.xz\n",
      "Error reading har file /mnt/sdd/ducbui/projects/data2/consent/2024-10-07/pref_menu_scan_0k_20k/cbssports.com/postrej_1.har.xz: Expecting value: line 1 column 976394 (char 976393)\n",
      "Unmatch url and consent cookie domain: page_url='https://www.wolterskluwer.com/en/solutions/uptodate/policies-legal/linking-policy' consent_cookie.cookie['domain']='.uptodate.com' consent_cookie.cookie['path']='/' uptodate.com/postrej_5.har.xz\n",
      "Unmatch url and consent cookie domain: page_url='https://www.wolterskluwer.com/en/solutions/uptodate/about/customer-success-stories' consent_cookie.cookie['domain']='.uptodate.com' consent_cookie.cookie['path']='/' uptodate.com/postrej_1.har.xz\n",
      "Unmatch url and consent cookie domain: page_url='https://www.wolterskluwer.com/en/solutions/uptodate/contact' consent_cookie.cookie['domain']='.uptodate.com' consent_cookie.cookie['path']='/' uptodate.com/postrej_3.har.xz\n",
      "Unmatch url and consent cookie domain: page_url='https://www.wolterskluwer.com/en/solutions/uptodate/policies-legal/editorial-policy' consent_cookie.cookie['domain']='.uptodate.com' consent_cookie.cookie['path']='/' uptodate.com/postrej_4.har.xz\n",
      "Unmatch url and consent cookie domain: page_url='https://clarivate.wd3.myworkdayjobs.com/en-US/Clarivate_Careers?pk_vid=980b87689377b1b516397696018a8830' consent_cookie.cookie['domain']='.proquest.com' consent_cookie.cookie['path']='/' proquest.com/postrej_5.har.xz\n",
      "Post rej cookie not contain consent cookie, adyen.com/postrej_2.har.xz not have cookie OptanonConsent of .adyen.com on path /\n",
      "Post rej cookie not contain consent cookie, adyen.com/postrej_1.har.xz not have cookie OptanonConsent of .adyen.com on path /\n",
      "Post rej cookie not contain consent cookie, adyen.com/postrej_0.har.xz not have cookie OptanonConsent of .adyen.com on path /\n",
      "Post rej cookie not contain consent cookie, adyen.com/postrej_4.har.xz not have cookie OptanonConsent of .adyen.com on path /\n",
      "Post rej cookie not contain consent cookie, natwest.com/postrej_0.har.xz not have cookie OptanonConsent of .natwest.com on path /\n",
      "Unmatch url and consent cookie domain: page_url='http://validate.perfdrive.com/b708a8fc3776ece65dd51a0e70b3ae8e/?ssa=e2e07af2-fe48-4ced-acb0-8cb12f8e7cc3&ssb=76967282925&ssc=https%3A%2F%2Fwww.redlobster.com%2Fseafood-restaurants%2Flocations%2F&ssi=5d594022-94c0-4486-b17b-1a753cb5d5f2&ssk=support@shieldsquare.com&ssm=46328935898809080196401927297930&ssn=7ec52892edbc1f68add2971f1a08f6e6a0a2a8d6e404-33f7-4fe5-8e2753&sso=fa40384d-87ef4499965d0a091bde318b57c643a664ed437d854a8884&ssp=78295015331728366116172839177866022&ssq=16279152403480225673123841790051874268493&ssr=MTcwLjY0LjE1OS45NQ==&sst=Mozilla/5.0%20(X11;%20Linux%20x86_64)%20AppleWebKit/537.36%20(KHTML,%20like%20Gecko)%20Chrome/101.0.4951.64%20Safari/537.36&ssu=ck9CUU1TNDlhZGVDa2lBTFdHNERaOG54RVd1SGRVSHV5SmxKNDdUVmZKTT0=&ssv=&ssw=&ssx=eyJyZCI6InJlZGxvYnN0ZXIuY29tIiwiX191em1mIjoiN2Y2MDAwMzczNGIwZWEtNWJhMy00NjFkLWE0YjctZDkwN2E4MzhkZGFlMTcyODMyMzg0MTA4OTE5MzE0Ni01YTk1MDU4MGIxY2I5MGE1MTkiLCJ1em14IjoiN2Y5MDAwODFkNDQ5MTUtYmZhOC00ZjQzLTljZmMtNmU0NDcwYTk4OGQ5MS0xNzI4MzIzODQxMDg5MTkzMTQ2LWIxNzg1NDExYWFjMGQxOWUxOSJ9' consent_cookie.cookie['domain']='.redlobster.com' consent_cookie.cookie['path']='/' redlobster.com/postrej_2.har.xz\n",
      "Unmatch url and consent cookie domain: page_url='http://validate.perfdrive.com/b708a8fc3776ece65dd51a0e70b3ae8e/?ssa=cbda8aab-6ec4-4100-a0ed-ea560966a66f&ssb=76967282925&ssc=https%3A%2F%2Fwww.redlobster.com%2Forder&ssi=9d5cc939-94c0-44c2-8393-25b9bb3681b1&ssk=support@shieldsquare.com&ssm=46328935898809080196401927297930&ssn=7ec5289205c0f7f4d6435fea0b3ef6e6a0a2a8d6e404-33f7-4fe5-8e2753&sso=fa40384d-87ef4499965d0a091bdedd1fc4b7d7cde8347d5b854a8884&ssp=78295015331728366116172839177866022&ssq=16279152403480225673123841790051874268493&ssr=MTcwLjY0LjE1OS45NQ==&sst=Mozilla/5.0%20(X11;%20Linux%20x86_64)%20AppleWebKit/537.36%20(KHTML,%20like%20Gecko)%20Chrome/101.0.4951.64%20Safari/537.36&ssu=ck9CUU1TNDlhZGVDa2lBTFdHNERaOG54RVd1SGRVSHV5SmxKNDdUVmZKTT0=&ssv=&ssw=&ssx=eyJyZCI6InJlZGxvYnN0ZXIuY29tIiwiX191em1mIjoiN2Y2MDAwMzczNGIwZWEtNWJhMy00NjFkLWE0YjctZDkwN2E4MzhkZGFlMTcyODMyMzg0MTA4OTE5MzI4My1lN2JlODM4NGMxZGIzYTY5MTkiLCJ1em14IjoiN2Y5MDAwODFkNDQ5MTUtYmZhOC00ZjQzLTljZmMtNmU0NDcwYTk4OGQ5MS0xNzI4MzIzODQxMDg5MTkzMjgzLTVkZDViNmJmNjdhNGIzMWYxOSJ9' consent_cookie.cookie['domain']='.redlobster.com' consent_cookie.cookie['path']='/' redlobster.com/postrej_5.har.xz\n",
      "Unmatch url and consent cookie domain: page_url='http://validate.perfdrive.com/b708a8fc3776ece65dd51a0e70b3ae8e/?ssa=5eb4cf94-48bd-4a5e-bdb8-41e226734081&ssb=76967282925&ssc=https%3A%2F%2Fwww.redlobster.com%2Four-story%2Fseafood-with-standards%2Four-beliefs&ssi=fc988e46-94c0-4222-89a2-f871daf23eaf&ssk=support@shieldsquare.com&ssm=46328935898809080196401927297930&ssn=7ec5289225f25974d1a08ee99394f6e6a0a2a8d6e404-33f7-4fe5-8e2753&sso=fa40384d-87ef4499965d0a091bde727d9df6857e9de8cfe9854a8884&ssp=78295015331728366116172839177866022&ssq=16279152403480225673123841790051874268493&ssr=MTcwLjY0LjE1OS45NQ==&sst=Mozilla/5.0%20(X11;%20Linux%20x86_64)%20AppleWebKit/537.36%20(KHTML,%20like%20Gecko)%20Chrome/101.0.4951.64%20Safari/537.36&ssu=ck9CUU1TNDlhZGVDa2lBTFdHNERaOG54RVd1SGRVSHV5SmxKNDdUVmZKTT0=&ssv=&ssw=&ssx=eyJyZCI6InJlZGxvYnN0ZXIuY29tIiwiX191em1mIjoiN2Y2MDAwMzczNGIwZWEtNWJhMy00NjFkLWE0YjctZDkwN2E4MzhkZGFlMTcyODMyMzg0MTA4OTE5MzEzMC1lNzVjZWE0Yzk3MTg2MTk0MTkiLCJ1em14IjoiN2Y5MDAwODFkNDQ5MTUtYmZhOC00ZjQzLTljZmMtNmU0NDcwYTk4OGQ5MS0xNzI4MzIzODQxMDg5MTkzMTMwLTQ4OTNlMGM2MDIxMTlmNTAxOSJ9' consent_cookie.cookie['domain']='.redlobster.com' consent_cookie.cookie['path']='/' redlobster.com/postrej_1.har.xz\n",
      "Unmatch url and consent cookie domain: page_url='http://validate.perfdrive.com/b708a8fc3776ece65dd51a0e70b3ae8e/?ssa=1609e7cb-6d05-42ab-aa24-a5cb005f84fe&ssb=76967282925&ssc=https%3A%2F%2Fwww.redlobster.com%2Faccount%2Flogin%3FreturnUrl%3D%2F&ssi=35666447-94c0-4086-bee5-2b7b23274a13&ssk=support@shieldsquare.com&ssm=46328935898809080196401927297930&ssn=7ec52892b989793fcea025e3c1bdf6e6a0a2a8d6e404-33f7-4fe5-8e2753&sso=fa40384d-87ef4499965d0a091bdea1064e29cbd42802633e854a8884&ssp=78295015331728366116172839177866022&ssq=16279152403480225673123841790051874268493&ssr=MTcwLjY0LjE1OS45NQ==&sst=Mozilla/5.0%20(X11;%20Linux%20x86_64)%20AppleWebKit/537.36%20(KHTML,%20like%20Gecko)%20Chrome/101.0.4951.64%20Safari/537.36&ssu=ck9CUU1TNDlhZGVDa2lBTFdHNERaOG54RVd1SGRVSHV5SmxKNDdUVmZKTT0=&ssv=&ssw=&ssx=eyJ1em14IjoiN2Y5MDAwODFkNDQ5MTUtYmZhOC00ZjQzLTljZmMtNmU0NDcwYTk4OGQ5MS0xNzI4MzIzODQxMDg5MTkzMTg4LTdmYjg0NmQ2OTVkNjYxNjMxOSIsIl9fdXptZiI6IjdmNjAwMDM3MzRiMGVhLTViYTMtNDYxZC1hNGI3LWQ5MDdhODM4ZGRhZTE3MjgzMjM4NDEwODkxOTMxODgtZWY0YTBiOWZmMjZmMTkxMDE5IiwicmQiOiJyZWRsb2JzdGVyLmNvbSJ9' consent_cookie.cookie['domain']='.redlobster.com' consent_cookie.cookie['path']='/' redlobster.com/postrej_3.har.xz\n",
      "Unmatch url and consent cookie domain: page_url='http://validate.perfdrive.com/b708a8fc3776ece65dd51a0e70b3ae8e/?ssa=cf9b6b94-1a89-46c4-b1a2-c047b678d575&ssb=76967282925&ssc=https%3A%2F%2Fwww.redlobster.com%2Fprivacy-policy%2F&ssi=ad1d16cb-94c0-491d-93c9-3d859ce9c30d&ssk=support@shieldsquare.com&ssm=46328935898809080196401927297930&ssn=7ec528922b177204b35b789e0621f6e6a0a2a8d6e404-33f7-4fe5-8e2753&sso=fa40384d-87ef4499965d0a091bdea16b1ce18ecb5bacd908854a8884&ssp=78295015331728366116172839177866022&ssq=16279152403480225673123841790051874268493&ssr=MTcwLjY0LjE1OS45NQ==&sst=Mozilla/5.0%20(X11;%20Linux%20x86_64)%20AppleWebKit/537.36%20(KHTML,%20like%20Gecko)%20Chrome/101.0.4951.64%20Safari/537.36&ssu=ck9CUU1TNDlhZGVDa2lBTFdHNERaOG54RVd1SGRVSHV5SmxKNDdUVmZKTT0=&ssv=&ssw=&ssx=eyJ1em14IjoiN2Y5MDAwODFkNDQ5MTUtYmZhOC00ZjQzLTljZmMtNmU0NDcwYTk4OGQ5MS0xNzI4MzIzODQxMDg5MTkzMjAwLTE0NjYzMzFlNjRjMzBiZjAxOSIsInJkIjoicmVkbG9ic3Rlci5jb20iLCJfX3V6bWYiOiI3ZjYwMDAzNzM0YjBlYS01YmEzLTQ2MWQtYTRiNy1kOTA3YTgzOGRkYWUxNzI4MzIzODQxMDg5MTkzMjAwLWZkODczYzQ1ZTEyMjNhYWIxOSJ9' consent_cookie.cookie['domain']='.redlobster.com' consent_cookie.cookie['path']='/' redlobster.com/postrej_4.har.xz\n",
      "Post rej cookie not contain consent cookie, sgn.com/postrej_0.har.xz not have cookie CookieConsent of www.jamcity.com on path /\n",
      "Post rej cookie not contain consent cookie, pingdom.net/postrej_0.har.xz not have cookie OptanonConsent of .www.pingdom.com on path /\n",
      "Post rej cookie not contain consent cookie, shef.ac.uk/postrej_0.har.xz not have cookie OptanonConsent of .sheffield.ac.uk on path /\n",
      "Post rej cookie not contain consent cookie, bleacherreport.com/postrej_0.har.xz not have cookie OptanonConsent of .bleacherreport.com on path /\n",
      "Post rej cookie not contain consent cookie, bleacherreport.com/postrej_3.har.xz not have cookie OptanonConsent of .bleacherreport.com on path /\n",
      "Post rej cookie not contain consent cookie, sonymusic.com/postrej_0.har.xz not have cookie OptanonConsent of .sonymusic.com on path /\n",
      "Domain path mismatch: .kpmg.com domain's path /xx not match url https://kpmg.com/kr/ko/home.html\n",
      "Unmatch url and consent cookie domain: page_url='https://kpmg.com/kr/ko/home.html' consent_cookie.cookie['domain']='.kpmg.com' consent_cookie.cookie['path']='/xx' home.kpmg/postrej_5.har.xz\n",
      "Domain path mismatch: .kpmg.com domain's path /xx not match url https://kpmg.com/at/en/home.html\n",
      "Unmatch url and consent cookie domain: page_url='https://kpmg.com/at/en/home.html' consent_cookie.cookie['domain']='.kpmg.com' consent_cookie.cookie['path']='/xx' home.kpmg/postrej_1.har.xz\n",
      "Post rej cookie not contain consent cookie, home.kpmg/postrej_0.har.xz not have cookie OptanonConsent of .kpmg.com on path /xx\n",
      "Domain path mismatch: .kpmg.com domain's path /xx not match url https://kpmg.com/tw/en/home.html\n",
      "Unmatch url and consent cookie domain: page_url='https://kpmg.com/tw/en/home.html' consent_cookie.cookie['domain']='.kpmg.com' consent_cookie.cookie['path']='/xx' home.kpmg/postrej_3.har.xz\n",
      "Domain path mismatch: .kpmg.com domain's path /xx not match url https://kpmg.com/za/en/home.html\n",
      "Unmatch url and consent cookie domain: page_url='https://kpmg.com/za/en/home.html' consent_cookie.cookie['domain']='.kpmg.com' consent_cookie.cookie['path']='/xx' home.kpmg/postrej_4.har.xz\n",
      "Post rej cookie not contain consent cookie, hyros.com/postrej_0.har.xz not have cookie OptanonConsent of .hyros.com on path /\n",
      "Unmatch url and consent cookie domain: page_url='https://developers.cloudflare.com/workers' consent_cookie.cookie['domain']='workers.cloudflare.com' consent_cookie.cookie['path']='/' workers.dev/postrej_4.har.xz\n",
      "Unmatch url and consent cookie domain: page_url='https://www.opentext.com/about/privacy' consent_cookie.cookie['domain']='.webroot.com' consent_cookie.cookie['path']='/' webrootcloudav.com/postrej_5.har.xz\n",
      "Error reading har file /mnt/sdd/ducbui/projects/data2/consent/2024-10-07/pref_menu_scan_0k_20k/fivem.net/postrej_1.har.xz: 'DataFrame' object has no attribute 'request'\n",
      "Post rej cookie not contain consent cookie, fivem.net/postrej_0.har.xz not have cookie OptanonConsent of .fivem.net on path /\n",
      "Unmatch url and consent cookie domain: page_url='https://forum.cfx.re/' consent_cookie.cookie['domain']='.fivem.net' consent_cookie.cookie['path']='/' fivem.net/postrej_4.har.xz\n",
      "Post rej cookie not contain consent cookie, platform.sh/postrej_0.har.xz not have cookie OptanonConsent of .platform.sh on path /\n",
      "Error reading har file /mnt/sdd/ducbui/projects/data2/consent/2024-10-07/pref_menu_scan_0k_20k/honeywell.com/postrej_2.har.xz: 'DataFrame' object has no attribute 'request'\n",
      "Error reading har file /mnt/sdd/ducbui/projects/data2/consent/2024-10-07/pref_menu_scan_0k_20k/honeywell.com/postrej_5.har.xz: 'DataFrame' object has no attribute 'request'\n",
      "Error reading har file /mnt/sdd/ducbui/projects/data2/consent/2024-10-07/pref_menu_scan_0k_20k/honeywell.com/postrej_3.har.xz: 'DataFrame' object has no attribute 'request'\n",
      "Post rej cookie not contain consent cookie, cookielaw.org/postrej_0.har.xz not have cookie OptanonConsent of .cookielaw.org on path /\n",
      "Unmatch url and consent cookie domain: page_url='https://www.enterprisecarsales.com/value-your-vehicle/?cur=Home_Rental&mcid=websiteredirect:41819957' consent_cookie.cookie['domain']='.enterprise.com' consent_cookie.cookie['path']='/' enterprise.com/postrej_2.har.xz\n",
      "Unmatch url and consent cookie domain: page_url='https://www.enterprisemobility.com/en/careers.html?mcid=internal:42072848' consent_cookie.cookie['domain']='.enterprise.com' consent_cookie.cookie['path']='/' enterprise.com/postrej_5.har.xz\n",
      "Post rej cookie not contain consent cookie, nexstardigital.net/postrej_0.har.xz not have cookie OptanonConsent of .nexstardigital.com on path /\n",
      "Post rej cookie not contain consent cookie, nexstardigital.net/postrej_3.har.xz not have cookie OptanonConsent of .nexstardigital.com on path /\n",
      "Error reading har file /mnt/sdd/ducbui/projects/data2/consent/2024-10-07/pref_menu_scan_0k_20k/ice.com/postrej_5.har.xz: 'DataFrame' object has no attribute 'request'\n",
      "Unmatch url and consent cookie domain: page_url='https://account.cengage.com/login?SAMLRequest=fZLdauMwEIVfxejeP1Li2BFxQmgoBLph6R%2Bld0KeOKL2yNXIyebtV3Wa0l7sgq7EzHcOn7RY%2Fena6AiOjMWK8SRjEaC2tcGmYk%2BPt3HJVssFqa4VvVwP%2FoD38D4A%2BWhNBM6HtRuLNHTgHsAdjYan%2B7uKHbzvSaapChuJBmxUA4m2XUpk05GWZlaJWV7yPdLuJd8160lesGgT0AaVH%2Bt8UbS2A%2FofoNY2Bll0a52GsVfF9qolYNF2UzFT81k54%2FlUFOW8LLPplPN8Ms8KUUzCBNEAWySv0FdMZGIa8yzOikc%2Bl%2BEIngguXln0fPUiPrwEU0jyoqJig0NpFRmSqDog6bV8WP%2B6k2FU9s56q23LPs3JMdB9J%2FwfoK5u2fLq4HQ6JfbNq4vF0SBdhMch7mhqcCn1R6w7QHW2vWveVX2u%2FSL9XuHrKXchc7v5bVujzx8SO%2BX%2FXYknfLwxdbwfR%2BWA1IM2ewM1S5efGT8%2FyPIv&RelayState=%252Foauth2%252Fv1%252Fauthorize%252Fredirect%253Fokta_key%253DpF1TAUA8rDCONDkFyWsXArU9vgLdMzEkPRZCGA8Obw0&SigAlg=http%3A%2F%2Fwww.w3.org%2F2001%2F04%2Fxmldsig-more%23rsa-sha256&Signature=naMAIOT77kPgdC%2B9JNxIA2ah4o6YAC07N90Qo67mvE0QJW0xh8Z72CsQ1epkZf79ko2opFbFRznB6vPO26fqg0y%2Bebu93e50vADvCrRKRrFCA%2Bqi6Xr96CKufPt8qk5QJ2PCiIIhKyTjOFBsmVmN8sTqJgcwXeRHVfHWmPlwC6tsYmB7%2FJyoIVQluOtacGWRqdEhs6wV%2FhSFjD8lu%2BNznCghPxlaEFv%2Bs5EIePL%2F5%2FYEB3JR25F18cozIeqHvUfpHhSJbCWQfFlRCu72%2F4agtAbxmQxJwQcJu67yVEFLmimSMLSRqhuM8r%2F%2FVCI4e2J3%2BO7qXoJ4hLYyI6YAul2wFg%3D%3D' consent_cookie.cookie['domain']='.webassign.net' consent_cookie.cookie['path']='/' webassign.net/postrej_1.har.xz\n",
      "Error reading har file /mnt/sdd/ducbui/projects/data2/consent/2024-10-07/pref_menu_scan_0k_20k/today.com/postrej_3.har.xz: Expecting ',' delimiter: line 1 column 484536 (char 484535)\n",
      "Error reading har file /mnt/sdd/ducbui/projects/data2/consent/2024-10-07/pref_menu_scan_0k_20k/cbsi.com/postrej_3.har.xz: 'DataFrame' object has no attribute 'request'\n",
      "Unmatch url and consent cookie domain: page_url='https://www.employ-ability.org.uk/students-and-universities/scholarships-mentorships/bending-spoons-scholarship/' consent_cookie.cookie['domain']='.bendingspoons.com' consent_cookie.cookie['path']='/' bendingspoonsapps.com/postrej_4.har.xz\n",
      "Post rej cookie not contain consent cookie, videobyte.com/postrej_3.har.xz not have cookie OptanonConsent of .videobyte.com on path /\n",
      "Unmatch url and consent cookie domain: page_url='https://www.outbrain.com/privacy/privacy-policy-outbrain-dsp/' consent_cookie.cookie['domain']='.zemanta.com' consent_cookie.cookie['path']='/' zemanta.com/postrej_3.har.xz\n",
      "Post rej cookie not contain consent cookie, siteground.asia/postrej_0.har.xz not have cookie CookieConsent of au.siteground.com on path /\n",
      "Post rej cookie not contain consent cookie, control4.com/postrej_0.har.xz not have cookie OptanonConsent of .control4.com on path /\n",
      "Unmatch url and consent cookie domain: page_url='https://login.thingiverse.com/login?redirect=%2Foauth%2Fauthorize%3Fclient_id%3D93178781def03b7099e33498c9ec1ac541e9f83810b45b88d20de4a89050148f%26redirect_uri%3Dhttps%3A%2F%2Fthingiverse.com%2Foauth%2Fcallback%26response_type%3Dcode%26scope%3DUser.Read%26state%3D91d2QHuNun' consent_cookie.cookie['domain']='www.thingiverse.com' consent_cookie.cookie['path']='/' thingiverse.com/postrej_4.har.xz\n",
      "Post rej cookie not contain consent cookie, technologyreview.com/postrej_0.har.xz not have cookie OptanonConsent of .technologyreview.com on path /\n",
      "Post rej cookie not contain consent cookie, bsigroup.com/postrej_0.har.xz not have cookie OptanonConsent of .www.bsigroup.com on path /\n",
      "Post rej cookie not contain consent cookie, mynewsdesk.com/postrej_0.har.xz not have cookie OptanonConsent of .mynewsdesk.com on path /\n",
      "Post rej cookie not contain consent cookie, redbull.com/postrej_2.har.xz not have cookie OptanonConsent of .www.redbull.com on path /us-en\n",
      "Domain path mismatch: .www.redbull.com domain's path /us-en not match url https://www.redbull.com/au-en/collections/films\n",
      "Unmatch url and consent cookie domain: page_url='https://www.redbull.com/au-en/collections/films' consent_cookie.cookie['domain']='.www.redbull.com' consent_cookie.cookie['path']='/us-en' redbull.com/postrej_5.har.xz\n",
      "Post rej cookie not contain consent cookie, redbull.com/postrej_1.har.xz not have cookie OptanonConsent of .www.redbull.com on path /us-en\n",
      "Post rej cookie not contain consent cookie, redbull.com/postrej_0.har.xz not have cookie OptanonConsent of .www.redbull.com on path /us-en\n",
      "Domain path mismatch: .www.redbull.com domain's path /us-en not match url https://www.redbull.com/au-en/energydrink/contact-assistant\n",
      "Unmatch url and consent cookie domain: page_url='https://www.redbull.com/au-en/energydrink/contact-assistant' consent_cookie.cookie['domain']='.www.redbull.com' consent_cookie.cookie['path']='/us-en' redbull.com/postrej_3.har.xz\n",
      "Post rej cookie not contain consent cookie, redbull.com/postrej_4.har.xz not have cookie OptanonConsent of .www.redbull.com on path /us-en\n",
      "Post rej cookie not contain consent cookie, parsec.app/postrej_0.har.xz not have cookie OptanonConsent of .parsec.app on path /\n",
      "Error reading har file /mnt/sdd/ducbui/projects/data2/consent/2024-10-07/pref_menu_scan_0k_20k/slotomania.com/postrej_5.har.xz: 'DataFrame' object has no attribute 'request'\n",
      "Post rej cookie not contain consent cookie, sonypictures.com/postrej_0.har.xz not have cookie OptanonConsent of .www.sonypictures.com on path /\n",
      "Post rej cookie not contain consent cookie, agora.io/postrej_2.har.xz not have cookie OptanonConsent of .agora.io on path /\n",
      "Post rej cookie not contain consent cookie, themeforest.net/postrej_0.har.xz not have cookie CookieConsent of themeforest.net on path /\n",
      "Post rej cookie not contain consent cookie, trustpilot.com/postrej_0.har.xz not have cookie OptanonConsent of .trustpilot.com on path /\n",
      "Unmatch url and consent cookie domain: page_url='https://www.manchestereveningnews.co.uk/' consent_cookie.cookie['domain']='www.fish4.co.uk' consent_cookie.cookie['path']='/' manchestereveningnews.co.uk/postrej_0.har.xz\n",
      "Unmatch url and consent cookie domain: page_url='https://kr.account.battle.net/login/en/?ref=https://oauth.battle.net/authorize?response_type%3Dcode%26redirect_uri%3Dhttps%253A%252F%252Fworldofwarcraft.blizzard.com%252Fauth%26scope%3Dwow.profile%2520email%2520primary-address%2520private_flags%2520name%2520account.basic%2520account.standard%2520account.standard%253Amodify%2520account.full%2520commerce.profile.basic%2520commerce.entitlements%26state%3DRlgSElMv-GxbISSPbAbeIdBICbonhmjwiJ5Q%26client_id%3De674efa0abaa423cb7805d3c41838416&app=oauth&hostingApp=oauth' consent_cookie.cookie['domain']='.blizzard.com' consent_cookie.cookie['path']='/' worldofwarcraft.com/postrej_1.har.xz\n",
      "Domain path mismatch: .www.carrier.com domain's path /carrier not match url https://www.carrier.com/refrigeration/en/worldwide/transport-refrigeration/\n",
      "Unmatch url and consent cookie domain: page_url='https://www.carrier.com/refrigeration/en/worldwide/transport-refrigeration/' consent_cookie.cookie['domain']='.www.carrier.com' consent_cookie.cookie['path']='/carrier' carrier.com/postrej_5.har.xz\n",
      "Domain path mismatch: .www.carrier.com domain's path /carrier not match url https://www.carrier.com/commercial/en/us/\n",
      "Unmatch url and consent cookie domain: page_url='https://www.carrier.com/commercial/en/us/' consent_cookie.cookie['domain']='.www.carrier.com' consent_cookie.cookie['path']='/carrier' carrier.com/postrej_1.har.xz\n",
      "Post rej cookie not contain consent cookie, empower.com/postrej_0.har.xz not have cookie OptanonConsent of .empower.com on path /\n",
      "Post rej cookie not contain consent cookie, mtv.com/postrej_0.har.xz not have cookie OptanonConsent of .mtv.com on path /\n",
      "Unmatch url and consent cookie domain: page_url='https://login.techsmith.com/u/login/identifier?state=hKFo2SA3Tmx6dDQ5ZWZoVlNFaGZfSFJDUHRtQ00yTEc2M24wVaFur3VuaXZlcnNhbC1sb2dpbqN0aWTZIFhRdXExc2d5V0FfQkdsbWxZZGxfQU5aRjV1cWZ2dUlYo2NpZNkgMExSQzFJMXhDTFEzajQwSFRUM3ZDMUE4QWh1d2p5MDI&ui_locales=en-US' consent_cookie.cookie['domain']='.screencast.com' consent_cookie.cookie['path']='/' screencast.com/postrej_2.har.xz\n",
      "Unmatch url and consent cookie domain: page_url='https://login.techsmith.com/u/login/identifier?state=hKFo2SBBTVFIWl85cjVzU3ZuVTVuWWxCMkNLZ1RCdUEtczVjN6Fur3VuaXZlcnNhbC1sb2dpbqN0aWTZIDhqMDNBZHRMa0EwYVoyU3lFWTJ5ejFIRFY0VEFkclJJo2NpZNkgMExSQzFJMXhDTFEzajQwSFRUM3ZDMUE4QWh1d2p5MDI&ui_locales=en-US' consent_cookie.cookie['domain']='.screencast.com' consent_cookie.cookie['path']='/' screencast.com/postrej_4.har.xz\n",
      "Unmatch url and consent cookie domain: page_url='https://allurebeautybox.com/?utm_source=allure-online&utm_medium=cm-site&utm_campaign=abb-allure-global-nav-cta-join-now-mobile-0-panelb-test-oct22' consent_cookie.cookie['domain']='.allure.com' consent_cookie.cookie['path']='/' allure.com/postrej_2.har.xz\n",
      "Post rej cookie not contain consent cookie, knotch.com/postrej_5.har.xz not have cookie OptanonConsent of .knotch.com on path /\n",
      "Domain path mismatch: .www2.deloitte.com domain's path /us/ not match url https://www.deloitte.com/global/en.html\n",
      "Unmatch url and consent cookie domain: page_url='https://www.deloitte.com/global/en.html' consent_cookie.cookie['domain']='.www2.deloitte.com' consent_cookie.cookie['path']='/us/' deloitte.com/postrej_1.har.xz\n",
      "Post rej cookie not contain consent cookie, deloitte.com/postrej_0.har.xz not have cookie OptanonConsent of .www2.deloitte.com on path /us/\n",
      "Post rej cookie not contain consent cookie, wordstream.com/postrej_0.har.xz not have cookie OptanonConsent of .wordstream.com on path /\n",
      "Post rej cookie not contain consent cookie, hpdaas.com/postrej_0.har.xz not have cookie OptanonConsent of .hpdaas.com on path /\n",
      "Unmatch url and consent cookie domain: page_url='https://www.clinicalpulse.org/' consent_cookie.cookie['domain']='.lww.com' consent_cookie.cookie['path']='/' lww.com/postrej_1.har.xz\n",
      "Written to /mnt/sdd/ducbui/projects/data2/consent/2024-10-07/scan_0k_20k.parquet\n",
      "Number sent cookies read: 2,511,339\n"
     ]
    },
    {
     "data": {
      "text/html": [
       "<div>\n",
       "<style scoped>\n",
       "    .dataframe tbody tr th:only-of-type {\n",
       "        vertical-align: middle;\n",
       "    }\n",
       "\n",
       "    .dataframe tbody tr th {\n",
       "        vertical-align: top;\n",
       "    }\n",
       "\n",
       "    .dataframe thead th {\n",
       "        text-align: right;\n",
       "    }\n",
       "</style>\n",
       "<table border=\"1\" class=\"dataframe\">\n",
       "  <thead>\n",
       "    <tr style=\"text-align: right;\">\n",
       "      <th></th>\n",
       "      <th>name</th>\n",
       "      <th>value</th>\n",
       "      <th>domain</th>\n",
       "      <th>path</th>\n",
       "      <th>expires</th>\n",
       "      <th>size</th>\n",
       "      <th>httpOnly</th>\n",
       "      <th>secure</th>\n",
       "      <th>session</th>\n",
       "      <th>sameSite</th>\n",
       "      <th>priority</th>\n",
       "      <th>sameParty</th>\n",
       "      <th>sourceScheme</th>\n",
       "      <th>sourcePort</th>\n",
       "      <th>request_url</th>\n",
       "      <th>site</th>\n",
       "      <th>page_url</th>\n",
       "      <th>partitionKey</th>\n",
       "    </tr>\n",
       "  </thead>\n",
       "  <tbody>\n",
       "    <tr>\n",
       "      <th>0</th>\n",
       "      <td>hubspotutk</td>\n",
       "      <td>1f301d54f6d913727db8d125efa68643</td>\n",
       "      <td>.nextiva.com</td>\n",
       "      <td>/</td>\n",
       "      <td>1.743872e+09</td>\n",
       "      <td>42</td>\n",
       "      <td>False</td>\n",
       "      <td>False</td>\n",
       "      <td>False</td>\n",
       "      <td>Lax</td>\n",
       "      <td>Medium</td>\n",
       "      <td>False</td>\n",
       "      <td>Secure</td>\n",
       "      <td>443</td>\n",
       "      <td>https://www.nextiva.com/cdn-cgi/image/width=36...</td>\n",
       "      <td>nextiva.com</td>\n",
       "      <td>https://www.nextiva.com/products/business-voice</td>\n",
       "      <td>NaN</td>\n",
       "    </tr>\n",
       "    <tr>\n",
       "      <th>1</th>\n",
       "      <td>_fbp</td>\n",
       "      <td>fb.1.1728319769812.257900613385585207</td>\n",
       "      <td>.nextiva.com</td>\n",
       "      <td>/</td>\n",
       "      <td>1.736096e+09</td>\n",
       "      <td>41</td>\n",
       "      <td>False</td>\n",
       "      <td>False</td>\n",
       "      <td>False</td>\n",
       "      <td>Lax</td>\n",
       "      <td>Medium</td>\n",
       "      <td>False</td>\n",
       "      <td>Secure</td>\n",
       "      <td>443</td>\n",
       "      <td>https://www.nextiva.com/cdn-cgi/image/width=13...</td>\n",
       "      <td>nextiva.com</td>\n",
       "      <td>https://www.nextiva.com/products/business-voice</td>\n",
       "      <td>NaN</td>\n",
       "    </tr>\n",
       "    <tr>\n",
       "      <th>2</th>\n",
       "      <td>_vwo_uuid_v2</td>\n",
       "      <td>D0C5B26E49D73A48E2A33181309B83306|61a17e83da68...</td>\n",
       "      <td>.nextiva.com</td>\n",
       "      <td>/</td>\n",
       "      <td>1.759942e+09</td>\n",
       "      <td>78</td>\n",
       "      <td>False</td>\n",
       "      <td>False</td>\n",
       "      <td>False</td>\n",
       "      <td>NaN</td>\n",
       "      <td>Medium</td>\n",
       "      <td>False</td>\n",
       "      <td>Secure</td>\n",
       "      <td>443</td>\n",
       "      <td>https://www.nextiva.com/cdn-cgi/image/width=10...</td>\n",
       "      <td>nextiva.com</td>\n",
       "      <td>https://www.nextiva.com/products/business-voice</td>\n",
       "      <td>NaN</td>\n",
       "    </tr>\n",
       "  </tbody>\n",
       "</table>\n",
       "</div>"
      ],
      "text/plain": [
       "           name                                              value  \\\n",
       "0    hubspotutk                   1f301d54f6d913727db8d125efa68643   \n",
       "1          _fbp              fb.1.1728319769812.257900613385585207   \n",
       "2  _vwo_uuid_v2  D0C5B26E49D73A48E2A33181309B83306|61a17e83da68...   \n",
       "\n",
       "         domain path       expires  size  httpOnly  secure  session sameSite  \\\n",
       "0  .nextiva.com    /  1.743872e+09    42     False   False    False      Lax   \n",
       "1  .nextiva.com    /  1.736096e+09    41     False   False    False      Lax   \n",
       "2  .nextiva.com    /  1.759942e+09    78     False   False    False      NaN   \n",
       "\n",
       "  priority  sameParty sourceScheme  sourcePort  \\\n",
       "0   Medium      False       Secure         443   \n",
       "1   Medium      False       Secure         443   \n",
       "2   Medium      False       Secure         443   \n",
       "\n",
       "                                         request_url         site  \\\n",
       "0  https://www.nextiva.com/cdn-cgi/image/width=36...  nextiva.com   \n",
       "1  https://www.nextiva.com/cdn-cgi/image/width=13...  nextiva.com   \n",
       "2  https://www.nextiva.com/cdn-cgi/image/width=10...  nextiva.com   \n",
       "\n",
       "                                          page_url partitionKey  \n",
       "0  https://www.nextiva.com/products/business-voice          NaN  \n",
       "1  https://www.nextiva.com/products/business-voice          NaN  \n",
       "2  https://www.nextiva.com/products/business-voice          NaN  "
      ]
     },
     "execution_count": 8,
     "metadata": {},
     "output_type": "execute_result"
    }
   ],
   "source": [
    "# import sys; import importlib; importlib.reload(sys.modules['consent.data.pref_menu_scan.postrej_cookie_reader'])\n",
    "from consent.data.pref_menu_scan.har_cookie_reader import read_postrej_sent_cookies_in_scans\n",
    "\n",
    "cookies_cache_file = SCAN_ROOT_DIR / f'scan{output_suffix}.parquet'  # 'raw_postrej_sent_cookies.parquet'\n",
    "\n",
    "if not cookies_cache_file.exists() or overwrite:\n",
    "    sent_cookies = read_postrej_sent_cookies_in_scans(SCAN_DIRS)\n",
    "    if cookies_cache_file: sent_cookies.to_parquet(cookies_cache_file); print(f\"Written to {cookies_cache_file}\")\n",
    "else:\n",
    "    sent_cookies = pd.read_parquet(cookies_cache_file)\n",
    "\n",
    "print(f\"Number sent cookies read: {len(sent_cookies):,d}\")\n",
    "sent_cookies.head(3)"
   ]
  },
  {
   "cell_type": "code",
   "execution_count": 9,
   "metadata": {},
   "outputs": [],
   "source": [
    "# prj = post-rejection\n",
    "# Old way: consider all flows\n",
    "# prj_sent_cookies = sent_cookies[['domain', 'expires', 'name', 'path', 'sameSite', 'secure', 'value', 'request_url', 'site']].drop_duplicates()\n",
    "# prj_br_cookies = prj_sent_cookies[['domain', 'expires', 'name', 'path', 'sameSite', 'secure', 'site']].drop_duplicates()\n",
    "# New way: consider cookies only (ignore the request url, which is not nused in get_comply cookie matching anyway)\n",
    "prj_sent_cookies = sent_cookies[['name', 'domain', 'path', 'site']].drop_duplicates()"
   ]
  },
  {
   "cell_type": "code",
   "execution_count": 10,
   "metadata": {},
   "outputs": [],
   "source": [
    "# print(f\"Num captured sent cookies: {len(sent_cookies):,d}\")\n",
    "# print(f\"Num unique captured cookies: {len(prj_sent_cookies):,d}\")\n",
    "# n_br_cookies = len(prj_br_cookies)\n",
    "# print(f\"Num unique browser cookies: {n_br_cookies:,d} on {prj_br_cookies.site.nunique():,d} websites\") # and {sent_cookies.page_url.nunique():,d} pages\")"
   ]
  },
  {
   "cell_type": "markdown",
   "metadata": {},
   "source": [
    "## Analyze cookies compliance    "
   ]
  },
  {
   "cell_type": "code",
   "execution_count": 11,
   "metadata": {},
   "outputs": [
    {
     "name": "stdout",
     "output_type": "stream",
     "text": [
      "Num sent cookies in the cookie prefs sites: 51,509\n"
     ]
    }
   ],
   "source": [
    "sites = set(cookie_prefs.site)\n",
    "print(f\"Num sent cookies in the cookie prefs sites: {len(prj_sent_cookies[prj_sent_cookies.site.isin(sites)]):,d}\")"
   ]
  },
  {
   "cell_type": "code",
   "execution_count": 12,
   "metadata": {
    "tags": []
   },
   "outputs": [
    {
     "name": "stdout",
     "output_type": "stream",
     "text": [
      "faster: for cookie_pref in cookie_pref_set[cookie_pref_set.name == acookie['name']]:\n"
     ]
    },
    {
     "name": "stderr",
     "output_type": "stream",
     "text": [
      "  0%|          | 0/1303 [00:00<?, ?it/s]"
     ]
    },
    {
     "name": "stderr",
     "output_type": "stream",
     "text": [
      " 89%|████████▉ | 1157/1303 [03:16<00:06, 20.88it/s]"
     ]
    },
    {
     "name": "stderr",
     "output_type": "stream",
     "text": [
      " 77%|███████▋  | 1006/1303 [03:00<00:23, 12.88it/s]"
     ]
    },
    {
     "name": "stdout",
     "output_type": "stream",
     "text": [
      "Error fuzzy name match pref_name='mf_[0cc3b612-a97d-4bd0-b496-3ed0686d4603]' cookie_name='_px3' bad character range d-4 at position 20\n",
      "Error fuzzy name match pref_name='mf_[0cc3b612-a97d-4bd0-b496-3ed0686d4603]' cookie_name='_gid' bad character range d-4 at position 20\n",
      "Error fuzzy name match pref_name='mf_[0cc3b612-a97d-4bd0-b496-3ed0686d4603]' cookie_name='_gcl_au' bad character range d-4 at position 20\n",
      "Error fuzzy name match pref_name='mf_[0cc3b612-a97d-4bd0-b496-3ed0686d4603]' cookie_name='_ga_TNYBCQTJ6G' bad character range d-4 at position 20\n",
      "Error fuzzy name match pref_name='mf_[0cc3b612-a97d-4bd0-b496-3ed0686d4603]' cookie_name='visitor-id' bad character range d-4 at position 20\n",
      "Error fuzzy name match pref_name='mf_[0cc3b612-a97d-4bd0-b496-3ed0686d4603]' cookie_name='pxcts' bad character range d-4 at position 20\n",
      "Error fuzzy name match pref_name='mf_[0cc3b612-a97d-4bd0-b496-3ed0686d4603]' cookie_name='_ga_64H4Z6TSBF' bad character range d-4 at position 20\n",
      "Error fuzzy name match pref_name='mf_[0cc3b612-a97d-4bd0-b496-3ed0686d4603]' cookie_name='_gat_gtag_UA_891249_29' bad character range d-4 at position 20\n",
      "Error fuzzy name match pref_name='mf_[0cc3b612-a97d-4bd0-b496-3ed0686d4603]' cookie_name='_ga_0FHHFDE9TG' bad character range d-4 at position 20\n",
      "Error fuzzy name match pref_name='mf_[0cc3b612-a97d-4bd0-b496-3ed0686d4603]' cookie_name='_ga' bad character range d-4 at position 20\n",
      "Error fuzzy name match pref_name='mf_[0cc3b612-a97d-4bd0-b496-3ed0686d4603]' cookie_name='__cf_bm' bad character range d-4 at position 20\n",
      "Error fuzzy name match pref_name='mf_[0cc3b612-a97d-4bd0-b496-3ed0686d4603]' cookie_name='OptanonAlertBoxClosed' bad character range d-4 at position 20\n",
      "Error fuzzy name match pref_name='mf_[0cc3b612-a97d-4bd0-b496-3ed0686d4603]' cookie_name='_ga_T3MKEZBW59' bad character range d-4 at position 20\n",
      "Error fuzzy name match pref_name='mf_[0cc3b612-a97d-4bd0-b496-3ed0686d4603]' cookie_name='data-c' bad character range d-4 at position 20\n",
      "Error fuzzy name match pref_name='mf_[0cc3b612-a97d-4bd0-b496-3ed0686d4603]' cookie_name='data-rk' bad character range d-4 at position 20\n",
      "Error fuzzy name match pref_name='mf_[0cc3b612-a97d-4bd0-b496-3ed0686d4603]' cookie_name='data-xu' bad character range d-4 at position 20\n",
      "Error fuzzy name match pref_name='mf_[0cc3b612-a97d-4bd0-b496-3ed0686d4603]' cookie_name='AWSALBTG' bad character range d-4 at position 20\n",
      "Error fuzzy name match pref_name='mf_[0cc3b612-a97d-4bd0-b496-3ed0686d4603]' cookie_name='OptanonConsent' bad character range d-4 at position 20\n",
      "Error fuzzy name match pref_name='mf_[0cc3b612-a97d-4bd0-b496-3ed0686d4603]' cookie_name='data-c-ts' bad character range d-4 at position 20\n",
      "Error fuzzy name match pref_name='mf_[0cc3b612-a97d-4bd0-b496-3ed0686d4603]' cookie_name='_gat_gtag_UA_891249_13' bad character range d-4 at position 20\n",
      "Error fuzzy name match pref_name='mf_[0cc3b612-a97d-4bd0-b496-3ed0686d4603]' cookie_name='userid' bad character range d-4 at position 20\n",
      "Error fuzzy name match pref_name='mf_[0cc3b612-a97d-4bd0-b496-3ed0686d4603]' cookie_name='data-exp' bad character range d-4 at position 20\n",
      "Error fuzzy name match pref_name='mf_[0cc3b612-a97d-4bd0-b496-3ed0686d4603]' cookie_name='ar_debug' bad character range d-4 at position 20\n",
      "Error fuzzy name match pref_name='mf_[0cc3b612-a97d-4bd0-b496-3ed0686d4603]' cookie_name='data-ze' bad character range d-4 at position 20\n",
      "Error fuzzy name match pref_name='mf_[0cc3b612-a97d-4bd0-b496-3ed0686d4603]' cookie_name='data-ttd' bad character range d-4 at position 20\n",
      "Error fuzzy name match pref_name='mf_[0cc3b612-a97d-4bd0-b496-3ed0686d4603]' cookie_name='TapAd_3WAY_SYNCS' bad character range d-4 at position 20\n",
      "Error fuzzy name match pref_name='mf_[0cc3b612-a97d-4bd0-b496-3ed0686d4603]' cookie_name='_pxvid' bad character range d-4 at position 20\n",
      "Error fuzzy name match pref_name='mf_[0cc3b612-a97d-4bd0-b496-3ed0686d4603]' cookie_name='whereYouLeftOffData' bad character range d-4 at position 20\n",
      "Error fuzzy name match pref_name='mf_[0cc3b612-a97d-4bd0-b496-3ed0686d4603]' cookie_name='data-b' bad character range d-4 at position 20\n",
      "Error fuzzy name match pref_name='mf_[0cc3b612-a97d-4bd0-b496-3ed0686d4603]' cookie_name='data-g' bad character range d-4 at position 20\n",
      "Error fuzzy name match pref_name='mf_[0cc3b612-a97d-4bd0-b496-3ed0686d4603]' cookie_name='visitor-id' bad character range d-4 at position 20\n",
      "Error fuzzy name match pref_name='mf_[0cc3b612-a97d-4bd0-b496-3ed0686d4603]' cookie_name='data-co' bad character range d-4 at position 20\n",
      "Error fuzzy name match pref_name='mf_[0cc3b612-a97d-4bd0-b496-3ed0686d4603]' cookie_name='__eoi' bad character range d-4 at position 20\n",
      "Error fuzzy name match pref_name='mf_[0cc3b612-a97d-4bd0-b496-3ed0686d4603]' cookie_name='XID' bad character range d-4 at position 20\n",
      "Error fuzzy name match pref_name='mf_[0cc3b612-a97d-4bd0-b496-3ed0686d4603]' cookie_name='userCount' bad character range d-4 at position 20\n",
      "Error fuzzy name match pref_name='mf_[0cc3b612-a97d-4bd0-b496-3ed0686d4603]' cookie_name='AWSALBTGCORS' bad character range d-4 at position 20\n",
      "Error fuzzy name match pref_name='mf_[0cc3b612-a97d-4bd0-b496-3ed0686d4603]' cookie_name='_rxuuid' bad character range d-4 at position 20\n",
      "Error fuzzy name match pref_name='mf_[0cc3b612-a97d-4bd0-b496-3ed0686d4603]' cookie_name='ASP.NET_SessionId' bad character range d-4 at position 20\n",
      "Error fuzzy name match pref_name='mf_[0cc3b612-a97d-4bd0-b496-3ed0686d4603]' cookie_name='_pxhd' bad character range d-4 at position 20\n",
      "Error fuzzy name match pref_name='mf_[0cc3b612-a97d-4bd0-b496-3ed0686d4603]' cookie_name='TapAd_DID' bad character range d-4 at position 20\n",
      "Error fuzzy name match pref_name='mf_[0cc3b612-a97d-4bd0-b496-3ed0686d4603]' cookie_name='uid' bad character range d-4 at position 20\n",
      "Error fuzzy name match pref_name='mf_[0cc3b612-a97d-4bd0-b496-3ed0686d4603]' cookie_name='TapAd_TS' bad character range d-4 at position 20\n",
      "Error fuzzy name match pref_name='mf_[0cc3b612-a97d-4bd0-b496-3ed0686d4603]' cookie_name='pxrc' bad character range d-4 at position 20\n",
      "Error fuzzy name match pref_name='mf_[0cc3b612-a97d-4bd0-b496-3ed0686d4603]' cookie_name='SOC' bad character range d-4 at position 20\n",
      "Error fuzzy name match pref_name='mf_[0cc3b612-a97d-4bd0-b496-3ed0686d4603]' cookie_name='data-r1' bad character range d-4 at position 20\n",
      "Error fuzzy name match pref_name='mf_[0cc3b612-a97d-4bd0-b496-3ed0686d4603]' cookie_name='SOSYNC' bad character range d-4 at position 20\n",
      "Error fuzzy name match pref_name='mf_[0cc3b612-a97d-4bd0-b496-3ed0686d4603]' cookie_name='lotame_domain_check' bad character range d-4 at position 20\n",
      "Error fuzzy name match pref_name='mf_[0cc3b612-a97d-4bd0-b496-3ed0686d4603]' cookie_name='panoramaIdType' bad character range d-4 at position 20\n",
      "Error fuzzy name match pref_name='mf_[0cc3b612-a97d-4bd0-b496-3ed0686d4603]' cookie_name='_cc_id' bad character range d-4 at position 20\n",
      "Error fuzzy name match pref_name='mf_[0cc3b612-a97d-4bd0-b496-3ed0686d4603]' cookie_name='panoramaId' bad character range d-4 at position 20\n",
      "Error fuzzy name match pref_name='mf_[0cc3b612-a97d-4bd0-b496-3ed0686d4603]' cookie_name='rlas3' bad character range d-4 at position 20\n",
      "Error fuzzy name match pref_name='mf_[0cc3b612-a97d-4bd0-b496-3ed0686d4603]' cookie_name='panoramaId_expiry' bad character range d-4 at position 20\n",
      "Error fuzzy name match pref_name='mf_[0cc3b612-a97d-4bd0-b496-3ed0686d4603]' cookie_name='khaos' bad character range d-4 at position 20\n",
      "Error fuzzy name match pref_name='mf_[0cc3b612-a97d-4bd0-b496-3ed0686d4603]' cookie_name='yieldmo_id' bad character range d-4 at position 20\n",
      "Error fuzzy name match pref_name='mf_[0cc3b612-a97d-4bd0-b496-3ed0686d4603]' cookie_name='IQver' bad character range d-4 at position 20\n",
      "Error fuzzy name match pref_name='mf_[0cc3b612-a97d-4bd0-b496-3ed0686d4603]' cookie_name='SyncRTB4' bad character range d-4 at position 20\n",
      "Error fuzzy name match pref_name='mf_[0cc3b612-a97d-4bd0-b496-3ed0686d4603]' cookie_name='ad-privacy' bad character range d-4 at position 20\n",
      "Error fuzzy name match pref_name='mf_[0cc3b612-a97d-4bd0-b496-3ed0686d4603]' cookie_name='DPSync4' bad character range d-4 at position 20\n",
      "Error fuzzy name match pref_name='mf_[0cc3b612-a97d-4bd0-b496-3ed0686d4603]' cookie_name='KADUSERCOOKIE' bad character range d-4 at position 20\n",
      "Error fuzzy name match pref_name='mf_[0cc3b612-a97d-4bd0-b496-3ed0686d4603]' cookie_name='pd' bad character range d-4 at position 20\n",
      "Error fuzzy name match pref_name='mf_[0cc3b612-a97d-4bd0-b496-3ed0686d4603]' cookie_name='KRTBCOOKIE_860' bad character range d-4 at position 20\n",
      "Error fuzzy name match pref_name='mf_[0cc3b612-a97d-4bd0-b496-3ed0686d4603]' cookie_name='univ_id' bad character range d-4 at position 20\n",
      "Error fuzzy name match pref_name='mf_[0cc3b612-a97d-4bd0-b496-3ed0686d4603]' cookie_name='ad-id' bad character range d-4 at position 20\n",
      "Error fuzzy name match pref_name='mf_[0cc3b612-a97d-4bd0-b496-3ed0686d4603]' cookie_name='C' bad character range d-4 at position 20\n",
      "Error fuzzy name match pref_name='mf_[0cc3b612-a97d-4bd0-b496-3ed0686d4603]' cookie_name='CMID' bad character range d-4 at position 20\n",
      "Error fuzzy name match pref_name='mf_[0cc3b612-a97d-4bd0-b496-3ed0686d4603]' cookie_name='CMPRO' bad character range d-4 at position 20\n",
      "Error fuzzy name match pref_name='mf_[0cc3b612-a97d-4bd0-b496-3ed0686d4603]' cookie_name='audit_p' bad character range d-4 at position 20\n",
      "Error fuzzy name match pref_name='mf_[0cc3b612-a97d-4bd0-b496-3ed0686d4603]' cookie_name='uuid2' bad character range d-4 at position 20\n",
      "Error fuzzy name match pref_name='mf_[0cc3b612-a97d-4bd0-b496-3ed0686d4603]' cookie_name='chkChromeAb67Sec' bad character range d-4 at position 20\n",
      "Error fuzzy name match pref_name='mf_[0cc3b612-a97d-4bd0-b496-3ed0686d4603]' cookie_name='khaos_p' bad character range d-4 at position 20\n",
      "Error fuzzy name match pref_name='mf_[0cc3b612-a97d-4bd0-b496-3ed0686d4603]' cookie_name='CMPS' bad character range d-4 at position 20\n",
      "Error fuzzy name match pref_name='mf_[0cc3b612-a97d-4bd0-b496-3ed0686d4603]' cookie_name='KTPCACOOKIE' bad character range d-4 at position 20\n",
      "Error fuzzy name match pref_name='mf_[0cc3b612-a97d-4bd0-b496-3ed0686d4603]' cookie_name='KRTBCOOKIE_57' bad character range d-4 at position 20\n",
      "Error fuzzy name match pref_name='mf_[0cc3b612-a97d-4bd0-b496-3ed0686d4603]' cookie_name='_cc_id' bad character range d-4 at position 20\n",
      "Error fuzzy name match pref_name='mf_[0cc3b612-a97d-4bd0-b496-3ed0686d4603]' cookie_name='audit' bad character range d-4 at position 20\n",
      "Error fuzzy name match pref_name='mf_[0cc3b612-a97d-4bd0-b496-3ed0686d4603]' cookie_name='KRTBCOOKIE_27' bad character range d-4 at position 20\n",
      "Error fuzzy name match pref_name='mf_[0cc3b612-a97d-4bd0-b496-3ed0686d4603]' cookie_name='intentIQ' bad character range d-4 at position 20\n",
      "Error fuzzy name match pref_name='mf_[0cc3b612-a97d-4bd0-b496-3ed0686d4603]' cookie_name='i' bad character range d-4 at position 20\n",
      "Error fuzzy name match pref_name='mf_[0cc3b612-a97d-4bd0-b496-3ed0686d4603]' cookie_name='KRTBCOOKIE_1323' bad character range d-4 at position 20\n",
      "Error fuzzy name match pref_name='mf_[0cc3b612-a97d-4bd0-b496-3ed0686d4603]' cookie_name='ptrt' bad character range d-4 at position 20\n",
      "Error fuzzy name match pref_name='mf_[0cc3b612-a97d-4bd0-b496-3ed0686d4603]' cookie_name='SPugT' bad character range d-4 at position 20\n",
      "Error fuzzy name match pref_name='mf_[0cc3b612-a97d-4bd0-b496-3ed0686d4603]' cookie_name='receive-cookie-deprecation' bad character range d-4 at position 20\n",
      "Error fuzzy name match pref_name='mf_[0cc3b612-a97d-4bd0-b496-3ed0686d4603]' cookie_name='KRTBCOOKIE_22' bad character range d-4 at position 20\n",
      "Error fuzzy name match pref_name='mf_[0cc3b612-a97d-4bd0-b496-3ed0686d4603]' cookie_name='KRTBCOOKIE_148' bad character range d-4 at position 20\n",
      "Error fuzzy name match pref_name='mf_[0cc3b612-a97d-4bd0-b496-3ed0686d4603]' cookie_name='KCCH' bad character range d-4 at position 20\n",
      "Error fuzzy name match pref_name='mf_[0cc3b612-a97d-4bd0-b496-3ed0686d4603]' cookie_name='ptrpp' bad character range d-4 at position 20\n",
      "Error fuzzy name match pref_name='mf_[0cc3b612-a97d-4bd0-b496-3ed0686d4603]' cookie_name='receive-cookie-deprecation' bad character range d-4 at position 20\n",
      "Error fuzzy name match pref_name='mf_[0cc3b612-a97d-4bd0-b496-3ed0686d4603]' cookie_name='SEUNCY' bad character range d-4 at position 20\n",
      "Error fuzzy name match pref_name='mf_[0cc3b612-a97d-4bd0-b496-3ed0686d4603]' cookie_name='pi' bad character range d-4 at position 20\n",
      "Error fuzzy name match pref_name='mf_[0cc3b612-a97d-4bd0-b496-3ed0686d4603]' cookie_name='KRTBCOOKIE_80' bad character range d-4 at position 20\n",
      "Error fuzzy name match pref_name='mf_[0cc3b612-a97d-4bd0-b496-3ed0686d4603]' cookie_name='ptran' bad character range d-4 at position 20\n",
      "Error fuzzy name match pref_name='mf_[0cc3b612-a97d-4bd0-b496-3ed0686d4603]' cookie_name='XANDR_PANID' bad character range d-4 at position 20\n",
      "Error fuzzy name match pref_name='mf_[0cc3b612-a97d-4bd0-b496-3ed0686d4603]' cookie_name='KRTBCOOKIE_377' bad character range d-4 at position 20\n",
      "Error fuzzy name match pref_name='mf_[0cc3b612-a97d-4bd0-b496-3ed0686d4603]' cookie_name='KRTBCOOKIE_153' bad character range d-4 at position 20\n",
      "Error fuzzy name match pref_name='mf_[0cc3b612-a97d-4bd0-b496-3ed0686d4603]' cookie_name='re_sync' bad character range d-4 at position 20\n",
      "Error fuzzy name match pref_name='mf_[0cc3b612-a97d-4bd0-b496-3ed0686d4603]' cookie_name='KRTBCOOKIE_391' bad character range d-4 at position 20\n",
      "Error fuzzy name match pref_name='mf_[0cc3b612-a97d-4bd0-b496-3ed0686d4603]' cookie_name='KRTBCOOKIE_1290' bad character range d-4 at position 20\n",
      "Error fuzzy name match pref_name='mf_[0cc3b612-a97d-4bd0-b496-3ed0686d4603]' cookie_name='ptrc' bad character range d-4 at position 20\n",
      "Error fuzzy name match pref_name='mf_[0cc3b612-a97d-4bd0-b496-3ed0686d4603]' cookie_name='KRTBCOOKIE_632' bad character range d-4 at position 20\n",
      "Error fuzzy name match pref_name='mf_[0cc3b612-a97d-4bd0-b496-3ed0686d4603]' cookie_name='check' bad character range d-4 at position 20\n",
      "Error fuzzy name match pref_name='mf_[0cc3b612-a97d-4bd0-b496-3ed0686d4603]' cookie_name='PugT' bad character range d-4 at position 20\n",
      "Error fuzzy name match pref_name='mf_[0cc3b612-a97d-4bd0-b496-3ed0686d4603]' cookie_name='ljt_reader' bad character range d-4 at position 20\n",
      "Error fuzzy name match pref_name='mf_[0cc3b612-a97d-4bd0-b496-3ed0686d4603]' cookie_name='ipc' bad character range d-4 at position 20\n",
      "Error fuzzy name match pref_name='mf_[0cc3b612-a97d-4bd0-b496-3ed0686d4603]' cookie_name='ptrpub' bad character range d-4 at position 20\n",
      "Error fuzzy name match pref_name='mf_[0cc3b612-a97d-4bd0-b496-3ed0686d4603]' cookie_name='demdex' bad character range d-4 at position 20\n",
      "Error fuzzy name match pref_name='mf_[0cc3b612-a97d-4bd0-b496-3ed0686d4603]' cookie_name='uid' bad character range d-4 at position 20\n",
      "Error fuzzy name match pref_name='mf_[0cc3b612-a97d-4bd0-b496-3ed0686d4603]' cookie_name='_ljtrtb_80' bad character range d-4 at position 20\n"
     ]
    },
    {
     "name": "stderr",
     "output_type": "stream",
     "text": [
      "100%|██████████| 1303/1303 [03:32<00:00,  6.13it/s]\n"
     ]
    },
    {
     "data": {
      "text/html": [
       "<div>\n",
       "<style scoped>\n",
       "    .dataframe tbody tr th:only-of-type {\n",
       "        vertical-align: middle;\n",
       "    }\n",
       "\n",
       "    .dataframe tbody tr th {\n",
       "        vertical-align: top;\n",
       "    }\n",
       "\n",
       "    .dataframe thead th {\n",
       "        text-align: right;\n",
       "    }\n",
       "</style>\n",
       "<table border=\"1\" class=\"dataframe\">\n",
       "  <thead>\n",
       "    <tr style=\"text-align: right;\">\n",
       "      <th></th>\n",
       "      <th>name</th>\n",
       "      <th>domain</th>\n",
       "      <th>path</th>\n",
       "      <th>site</th>\n",
       "      <th>comply</th>\n",
       "    </tr>\n",
       "  </thead>\n",
       "  <tbody>\n",
       "    <tr>\n",
       "      <th>0</th>\n",
       "      <td>hubspotutk</td>\n",
       "      <td>.nextiva.com</td>\n",
       "      <td>/</td>\n",
       "      <td>nextiva.com</td>\n",
       "      <td>omit</td>\n",
       "    </tr>\n",
       "    <tr>\n",
       "      <th>1</th>\n",
       "      <td>_fbp</td>\n",
       "      <td>.nextiva.com</td>\n",
       "      <td>/</td>\n",
       "      <td>nextiva.com</td>\n",
       "      <td>incorrect</td>\n",
       "    </tr>\n",
       "    <tr>\n",
       "      <th>2</th>\n",
       "      <td>_vwo_uuid_v2</td>\n",
       "      <td>.nextiva.com</td>\n",
       "      <td>/</td>\n",
       "      <td>nextiva.com</td>\n",
       "      <td>incorrect</td>\n",
       "    </tr>\n",
       "    <tr>\n",
       "      <th>3</th>\n",
       "      <td>pscd</td>\n",
       "      <td>.nextiva.com</td>\n",
       "      <td>/</td>\n",
       "      <td>nextiva.com</td>\n",
       "      <td>omit</td>\n",
       "    </tr>\n",
       "    <tr>\n",
       "      <th>4</th>\n",
       "      <td>_vwo_uuid</td>\n",
       "      <td>.nextiva.com</td>\n",
       "      <td>/</td>\n",
       "      <td>nextiva.com</td>\n",
       "      <td>incorrect</td>\n",
       "    </tr>\n",
       "  </tbody>\n",
       "</table>\n",
       "</div>"
      ],
      "text/plain": [
       "           name        domain path         site     comply\n",
       "0    hubspotutk  .nextiva.com    /  nextiva.com       omit\n",
       "1          _fbp  .nextiva.com    /  nextiva.com  incorrect\n",
       "2  _vwo_uuid_v2  .nextiva.com    /  nextiva.com  incorrect\n",
       "3          pscd  .nextiva.com    /  nextiva.com       omit\n",
       "4     _vwo_uuid  .nextiva.com    /  nextiva.com  incorrect"
      ]
     },
     "execution_count": 12,
     "metadata": {},
     "output_type": "execute_result"
    }
   ],
   "source": [
    "import sys; import importlib; importlib.reload(sys.modules['consent.consistency.comply_util'])\n",
    "from consent.consistency.comply_util import get_comply\n",
    "\n",
    "print(\"faster: for cookie_pref in cookie_pref_set[cookie_pref_set.name == acookie['name']]:\")\n",
    "all_complies = get_comply(cookie_prefs, prj_sent_cookies)\n",
    "all_complies.head()"
   ]
  },
  {
   "cell_type": "code",
   "execution_count": 13,
   "metadata": {},
   "outputs": [
    {
     "data": {
      "text/html": [
       "<div>\n",
       "<style scoped>\n",
       "    .dataframe tbody tr th:only-of-type {\n",
       "        vertical-align: middle;\n",
       "    }\n",
       "\n",
       "    .dataframe tbody tr th {\n",
       "        vertical-align: top;\n",
       "    }\n",
       "\n",
       "    .dataframe thead th {\n",
       "        text-align: right;\n",
       "    }\n",
       "</style>\n",
       "<table border=\"1\" class=\"dataframe\">\n",
       "  <thead>\n",
       "    <tr style=\"text-align: right;\">\n",
       "      <th></th>\n",
       "      <th>comply_type</th>\n",
       "      <th>num_sites</th>\n",
       "      <th>num_sites_percent</th>\n",
       "      <th>num_cookies</th>\n",
       "      <th>num_cookies_percent</th>\n",
       "      <th>num_cookies_per_site</th>\n",
       "    </tr>\n",
       "  </thead>\n",
       "  <tbody>\n",
       "    <tr>\n",
       "      <th>3</th>\n",
       "      <td>omit</td>\n",
       "      <td>1197</td>\n",
       "      <td>92.076923</td>\n",
       "      <td>25459</td>\n",
       "      <td>49.426314</td>\n",
       "      <td>21.269006</td>\n",
       "    </tr>\n",
       "    <tr>\n",
       "      <th>2</th>\n",
       "      <td>incorrect</td>\n",
       "      <td>1014</td>\n",
       "      <td>78.000000</td>\n",
       "      <td>13988</td>\n",
       "      <td>27.156419</td>\n",
       "      <td>13.794872</td>\n",
       "    </tr>\n",
       "    <tr>\n",
       "      <th>0</th>\n",
       "      <td>ambiguous</td>\n",
       "      <td>51</td>\n",
       "      <td>3.923077</td>\n",
       "      <td>60</td>\n",
       "      <td>0.116484</td>\n",
       "      <td>1.176471</td>\n",
       "    </tr>\n",
       "  </tbody>\n",
       "</table>\n",
       "</div>"
      ],
      "text/plain": [
       "  comply_type  num_sites  num_sites_percent  num_cookies  num_cookies_percent  \\\n",
       "3        omit       1197          92.076923        25459            49.426314   \n",
       "2   incorrect       1014          78.000000        13988            27.156419   \n",
       "0   ambiguous         51           3.923077           60             0.116484   \n",
       "\n",
       "   num_cookies_per_site  \n",
       "3             21.269006  \n",
       "2             13.794872  \n",
       "0              1.176471  "
      ]
     },
     "execution_count": 13,
     "metadata": {},
     "output_type": "execute_result"
    }
   ],
   "source": [
    "# Analyze complies here\n",
    "complies = all_complies[['name', 'domain', 'path', 'site', 'comply']].drop_duplicates()\n",
    "comply_sites_data = defaultdict(list)\n",
    "for comply_type, comply_group in complies.groupby('comply'):\n",
    "    n_sites = comply_group.site.nunique()\n",
    "    comply_sites_data['comply_type'].append(comply_type)\n",
    "    comply_sites_data['num_sites'].append(n_sites)\n",
    "    comply_sites = pd.DataFrame(comply_sites_data).sort_values(by=['num_sites'], ascending=False)\n",
    "\n",
    "nsites = all_complies.site.nunique()\n",
    "comply_counts = complies.comply.value_counts()\n",
    "comply_sites['num_sites_percent'] = comply_sites['num_sites'] / nsites * 100\n",
    "comply_sites['num_cookies'] = comply_sites['comply_type'].map(comply_counts)\n",
    "comply_sites['num_cookies_percent'] = comply_sites['num_cookies'] / comply_sites['num_cookies'].sum() * 100  # need to read scan_*.parquet for n_br_cookies, but may be unnecessary\n",
    "comply_sites['num_cookies_per_site'] = comply_sites['num_cookies'] / comply_sites['num_sites']\n",
    "\n",
    "# Do not count comply/correct enforcement: which require detecting all possible\n",
    "comply_sites = comply_sites[comply_sites.comply_type != 'comply']\n",
    "comply_sites"
   ]
  },
  {
   "cell_type": "code",
   "execution_count": 14,
   "metadata": {},
   "outputs": [
    {
     "name": "stdout",
     "output_type": "stream",
     "text": [
      "Written 51,509 records of all_complies to /mnt/sdd/ducbui/projects/data2/consent/2024-10-07/all_complies_0k_20k.parquet\n"
     ]
    }
   ],
   "source": [
    "# Record the analysis results\n",
    "all_complies_file = SCAN_ROOT_DIR / f'all_complies{output_suffix}.parquet'\n",
    "all_complies.to_parquet(all_complies_file); print(f\"Written {len(all_complies):,d} records of all_complies to {all_complies_file}\")"
   ]
  },
  {
   "cell_type": "code",
   "execution_count": 15,
   "metadata": {},
   "outputs": [],
   "source": [
    "class StopExecution(Exception):\n",
    "    def _render_traceback_(self):\n",
    "        pass\n",
    "\n",
    "raise StopExecution\n",
    "import sys; sys.exit(0)"
   ]
  },
  {
   "cell_type": "code",
   "execution_count": 16,
   "metadata": {},
   "outputs": [
    {
     "data": {
      "text/plain": [
       "0        incorrect\n",
       "1           comply\n",
       "2             omit\n",
       "3           comply\n",
       "4             omit\n",
       "           ...    \n",
       "49292         omit\n",
       "49293         omit\n",
       "49294         omit\n",
       "49295         omit\n",
       "49296         omit\n",
       "Name: comply, Length: 49297, dtype: object"
      ]
     },
     "execution_count": 16,
     "metadata": {},
     "output_type": "execute_result"
    }
   ],
   "source": [
    "complies.comply"
   ]
  },
  {
   "cell_type": "code",
   "execution_count": 17,
   "metadata": {},
   "outputs": [
    {
     "data": {
      "text/plain": [
       "1279"
      ]
     },
     "execution_count": 17,
     "metadata": {},
     "output_type": "execute_result"
    }
   ],
   "source": [
    "nsites = all_complies.site.nunique(); nsites\n",
    "# all_complies.site.unique()"
   ]
  },
  {
   "cell_type": "code",
   "execution_count": 18,
   "metadata": {},
   "outputs": [
    {
     "data": {
      "text/plain": [
       "0"
      ]
     },
     "execution_count": 18,
     "metadata": {},
     "output_type": "execute_result"
    }
   ],
   "source": [
    "detected_contra_sites = [s for s, contras in site_to_contras.items() if len(contras) > 0]; len(detected_contra_sites)"
   ]
  },
  {
   "cell_type": "code",
   "execution_count": 19,
   "metadata": {},
   "outputs": [
    {
     "data": {
      "text/plain": [
       "omit         24866\n",
       "incorrect    12965\n",
       "comply       11215\n",
       "ambiguous       94\n",
       "Name: comply, dtype: int64"
      ]
     },
     "execution_count": 19,
     "metadata": {},
     "output_type": "execute_result"
    }
   ],
   "source": [
    "complies = all_complies[ ['name', 'domain', 'site', 'comply',]].drop_duplicates()\n",
    "comply_counts = complies.comply.value_counts()\n",
    "comply_counts"
   ]
  },
  {
   "cell_type": "code",
   "execution_count": 20,
   "metadata": {},
   "outputs": [
    {
     "name": "stdout",
     "output_type": "stream",
     "text": [
      "Num captured sent cookies: 5,628,874\n",
      "Num unique captured cookies: 3,360,899\n",
      "Num unique browser cookies: 127,868 on 1,279 websites\n"
     ]
    }
   ],
   "source": [
    "complies_sites = set(all_complies.site)\n",
    "sent_cookies_com = sent_cookies[sent_cookies.site.isin(complies_sites)]\n",
    "prj_sent_cookies_com = sent_cookies_com[['domain', 'expires', 'name', 'path', 'sameSite', 'secure', 'value', 'request_url', 'site']].drop_duplicates()\n",
    "prj_br_cookies_com = prj_sent_cookies_com[['domain', 'expires', 'name', 'path', 'sameSite', 'secure', 'site']].drop_duplicates()\n",
    "print(f\"Num captured sent cookies: {len(sent_cookies_com):,d}\")\n",
    "print(f\"Num unique captured cookies: {len(prj_sent_cookies_com):,d}\")\n",
    "\n",
    "n_br_cookies_com = len(prj_br_cookies_com)\n",
    "print(f\"Num unique browser cookies: {n_br_cookies_com:,d} on {prj_br_cookies_com.site.nunique():,d} websites\") # and {sent_cookies.page_url.nunique():,d} pages\")"
   ]
  },
  {
   "cell_type": "code",
   "execution_count": null,
   "metadata": {},
   "outputs": [],
   "source": []
  },
  {
   "cell_type": "markdown",
   "metadata": {},
   "source": [
    "# Analyze contras"
   ]
  },
  {
   "cell_type": "code",
   "execution_count": 21,
   "metadata": {},
   "outputs": [
    {
     "data": {
      "text/html": [
       "<div>\n",
       "<style scoped>\n",
       "    .dataframe tbody tr th:only-of-type {\n",
       "        vertical-align: middle;\n",
       "    }\n",
       "\n",
       "    .dataframe tbody tr th {\n",
       "        vertical-align: top;\n",
       "    }\n",
       "\n",
       "    .dataframe thead th {\n",
       "        text-align: right;\n",
       "    }\n",
       "</style>\n",
       "<table border=\"1\" class=\"dataframe\">\n",
       "  <thead>\n",
       "    <tr style=\"text-align: right;\">\n",
       "      <th></th>\n",
       "      <th>domain</th>\n",
       "      <th>name</th>\n",
       "      <th>site</th>\n",
       "    </tr>\n",
       "  </thead>\n",
       "  <tbody>\n",
       "    <tr>\n",
       "      <th>0</th>\n",
       "      <td>blog.lumen.com</td>\n",
       "      <td>PHPSESSID</td>\n",
       "      <td>savvis.net</td>\n",
       "    </tr>\n",
       "    <tr>\n",
       "      <th>1</th>\n",
       "      <td>news.lumen.com</td>\n",
       "      <td>__cfruid</td>\n",
       "      <td>savvis.net</td>\n",
       "    </tr>\n",
       "    <tr>\n",
       "      <th>2</th>\n",
       "      <td>www.menshealth.com</td>\n",
       "      <td>location_data</td>\n",
       "      <td>menshealth.com</td>\n",
       "    </tr>\n",
       "    <tr>\n",
       "      <th>3</th>\n",
       "      <td>www.elle.com</td>\n",
       "      <td>location_data</td>\n",
       "      <td>elle.com</td>\n",
       "    </tr>\n",
       "    <tr>\n",
       "      <th>4</th>\n",
       "      <td>www.hottopic.com</td>\n",
       "      <td>__cqact</td>\n",
       "      <td>hottopic.com</td>\n",
       "    </tr>\n",
       "  </tbody>\n",
       "</table>\n",
       "</div>"
      ],
      "text/plain": [
       "               domain           name            site\n",
       "0      blog.lumen.com      PHPSESSID      savvis.net\n",
       "1      news.lumen.com       __cfruid      savvis.net\n",
       "2  www.menshealth.com  location_data  menshealth.com\n",
       "3        www.elle.com  location_data        elle.com\n",
       "4    www.hottopic.com        __cqact    hottopic.com"
      ]
     },
     "execution_count": 21,
     "metadata": {},
     "output_type": "execute_result"
    }
   ],
   "source": [
    "# Way 1: compute contra sites by dynamic analysis: this should be lower than statically analyzing prefs\n",
    "# because we cannot check all combinations of consent modes.\n",
    "from consent.consistency.comply_util import get_appr_rej_sets\n",
    "contra_data = []\n",
    "for asite in cookie_prefs.site.unique():\n",
    "    site_prefs = cookie_prefs[cookie_prefs.site == asite]\n",
    "    _, _, contras = get_appr_rej_sets(site_prefs)\n",
    "    for contra in contras:\n",
    "        contra['site'] = asite\n",
    "        contra_data.append(contra)\n",
    "contra_sites = pd.DataFrame(contra_data)\n",
    "contra_sites.head()"
   ]
  },
  {
   "cell_type": "code",
   "execution_count": 22,
   "metadata": {},
   "outputs": [
    {
     "ename": "AssertionError",
     "evalue": "this is the same method with above, so the result",
     "output_type": "error",
     "traceback": [
      "\u001b[0;31m---------------------------------------------------------------------------\u001b[0m",
      "\u001b[0;31mAssertionError\u001b[0m                            Traceback (most recent call last)",
      "\u001b[1;32m/home/ducbui/local_projects/consent/consent_project/src/consent/consistency/main_analysis/consistency_notebook/2023_11/aus_consistency.ipynb Cell 26\u001b[0m line \u001b[0;36m1\n\u001b[0;32m----> <a href='vscode-notebook-cell://ssh-remote%2Bkroos.eecs.umich.edu/home/ducbui/local_projects/consent/consent_project/src/consent/consistency/main_analysis/consistency_notebook/2023_11/aus_consistency.ipynb#X34sdnNjb2RlLXJlbW90ZQ%3D%3D?line=0'>1</a>\u001b[0m \u001b[39massert\u001b[39;00m \u001b[39mset\u001b[39m(detected_contra_sites) \u001b[39m==\u001b[39m \u001b[39mset\u001b[39m(contra_sites\u001b[39m.\u001b[39msite), \u001b[39m\"\u001b[39m\u001b[39mthis is the same method with above, so the result\u001b[39m\u001b[39m\"\u001b[39m\n",
      "\u001b[0;31mAssertionError\u001b[0m: this is the same method with above, so the result"
     ]
    }
   ],
   "source": [
    "assert set(detected_contra_sites) == set(contra_sites.site), \"this is the same method with above, so the result\""
   ]
  },
  {
   "cell_type": "code",
   "execution_count": null,
   "metadata": {},
   "outputs": [
    {
     "data": {
      "text/plain": [
       "{'247sports.com',\n",
       " 'abbvie.com',\n",
       " 'acquia.com',\n",
       " 'adobe.io',\n",
       " 'adweek.com',\n",
       " 'aljazeera.com',\n",
       " 'allaboutvision.com',\n",
       " 'allegiantair.com',\n",
       " 'allergan.com',\n",
       " 'alteryx.com',\n",
       " 'americanbar.org',\n",
       " 'aon.com',\n",
       " 'ariel.co.uk',\n",
       " 'asos.com',\n",
       " 'autosport.com',\n",
       " 'avalara.com',\n",
       " 'avast.com',\n",
       " 'avastbrowser.com',\n",
       " 'barnesandnoble.com',\n",
       " 'bazaarvoice.com',\n",
       " 'bbva.com',\n",
       " 'bd.com',\n",
       " 'behance.net',\n",
       " 'belkin.com',\n",
       " 'betsson.com',\n",
       " 'bitdefender.com',\n",
       " 'bitdefender.net',\n",
       " 'bkstr.com',\n",
       " 'blackboard.com',\n",
       " 'bplans.com',\n",
       " 'brightside.me',\n",
       " 'bromium-online.com',\n",
       " 'callofduty.com',\n",
       " 'cambridge.org',\n",
       " 'carbonite.com',\n",
       " 'cheapoair.com',\n",
       " 'chrysler.com',\n",
       " 'cisco.com',\n",
       " 'citationmachine.net',\n",
       " 'clickmeeting.com',\n",
       " 'clicktale.net',\n",
       " 'cloudbees.com',\n",
       " 'cnet.com',\n",
       " 'colt.net',\n",
       " 'commonsensemedia.org',\n",
       " 'contentsquare.com',\n",
       " 'conviva.com',\n",
       " 'creighton.edu',\n",
       " 'curalate.com',\n",
       " 'dc.com',\n",
       " 'dccomics.com',\n",
       " 'discogs.com',\n",
       " 'dynamicyield.com',\n",
       " 'easybib.com',\n",
       " 'eidos.com',\n",
       " 'elderscrollsonline.com',\n",
       " 'evri.com',\n",
       " 'ew.com',\n",
       " 'fabfitfun.com',\n",
       " 'fotolia.com',\n",
       " 'fourseasons.com',\n",
       " 'frontlineeducation.com',\n",
       " 'geappliances.com',\n",
       " 'geforce.com',\n",
       " 'genial.ly',\n",
       " 'getdbt.com',\n",
       " 'glip.com',\n",
       " 'gmu.edu',\n",
       " 'gopro.com',\n",
       " 'grainger.com',\n",
       " 'halfords.com',\n",
       " 'hallmark.com',\n",
       " 'hightail.com',\n",
       " 'hm.com',\n",
       " 'howstuffworks.com',\n",
       " 'hp.com',\n",
       " 'illumina.com',\n",
       " 'instyle.com',\n",
       " 'ipl.org',\n",
       " 'irishcentral.com',\n",
       " 'ironman.com',\n",
       " 'janes.com',\n",
       " 'jbl.com',\n",
       " 'jeep.com',\n",
       " 'jobvite.com',\n",
       " 'kew.org',\n",
       " 'lastline.com',\n",
       " 'launchdarkly.com',\n",
       " 'levi.com',\n",
       " 'liverpoolfc.com',\n",
       " 'logi.com',\n",
       " 'logitech.com',\n",
       " 'logitechg.com',\n",
       " 'mastercard.com',\n",
       " 'mastercard.us',\n",
       " 'mcgraw-hill.com',\n",
       " 'mckesson.com',\n",
       " 'meraki.com',\n",
       " 'mheducation.com',\n",
       " 'michaels.com',\n",
       " 'mlb.com',\n",
       " 'mongodb.com',\n",
       " 'mongodb.org',\n",
       " 'morningconsult.com',\n",
       " 'morrisons.com',\n",
       " 'motorsport.com',\n",
       " 'mtv.com',\n",
       " 'myportfolio.com',\n",
       " 'name.com',\n",
       " 'nba.com',\n",
       " 'ncaa.com',\n",
       " 'newsday.com',\n",
       " 'newsweaver.com',\n",
       " 'next.co.uk',\n",
       " 'nhl.com',\n",
       " 'ni.com',\n",
       " 'nspcc.org.uk',\n",
       " 'nvidia.com',\n",
       " 'ocado.com',\n",
       " 'omnitracs.com',\n",
       " 'onlyinyourstate.com',\n",
       " 'paradox.ai',\n",
       " 'parents.com',\n",
       " 'paypay.ne.jp',\n",
       " 'pcapredict.com',\n",
       " 'people.com',\n",
       " 'pge.com',\n",
       " 'phoenix.edu',\n",
       " 'pinknews.co.uk',\n",
       " 'politico.com',\n",
       " 'principal.com',\n",
       " 'prweb.com',\n",
       " 'rd.com',\n",
       " 'realsimple.com',\n",
       " 'ringcentral.com',\n",
       " 'rollout.io',\n",
       " 'royalacademy.org.uk',\n",
       " 'salliemae.com',\n",
       " 'samaritans.org',\n",
       " 'sanofi-synthelabo.com',\n",
       " 'sanofi.com',\n",
       " 'santander.co.uk',\n",
       " 'sciam.com',\n",
       " 'scientificamerican.com',\n",
       " 'senderscore.com',\n",
       " 'seon.io',\n",
       " 'sho.com',\n",
       " 'shuttercloud.org',\n",
       " 'shutterstock.com',\n",
       " 'signifyd.com',\n",
       " 'solvvy.com',\n",
       " 'sonos.com',\n",
       " 'sony.co.uk',\n",
       " 'sourcefire.com',\n",
       " 'sparknotes.com',\n",
       " 'square-enix-games.com',\n",
       " 'statista.com',\n",
       " 'suse.com',\n",
       " 'tasteofhome.com',\n",
       " 'telerik.com',\n",
       " 'thedailybeast.com',\n",
       " 'thedodo.com',\n",
       " 'thomsonreuters.com',\n",
       " 'thomsonreuters.net',\n",
       " 'travelandleisure.com',\n",
       " 'treasuredata.com',\n",
       " 'tripadvisor.in',\n",
       " 'typeform.com',\n",
       " 'typekit.com',\n",
       " 'uipath.com',\n",
       " 'ulta.com',\n",
       " 'umbrella.com',\n",
       " 'universe.com',\n",
       " 'urbanairship.com',\n",
       " 'vfsglobal.com',\n",
       " 'viber.com',\n",
       " 'visma.com',\n",
       " 'vmware.com',\n",
       " 'vmwareidentity.com',\n",
       " 'webmd.com',\n",
       " 'wfmz.com',\n",
       " 'whirlpool.com',\n",
       " 'workspaceoneaccess.com',\n",
       " 'worldoftanks.com',\n",
       " 'wwf.org.uk',\n",
       " 'yousendit.com',\n",
       " 'zdnet.com',\n",
       " 'zebra.com',\n",
       " 'zeiss.com',\n",
       " 'zennioptical.com',\n",
       " 'zoom.com',\n",
       " 'zoom.us'}"
      ]
     },
     "execution_count": 26,
     "metadata": {},
     "output_type": "execute_result"
    }
   ],
   "source": [
    "set(detected_contra_sites) - set(contra_sites.site)\n",
    "set(contra_sites.site) - set(detected_contra_sites)\n",
    "# This may be the sites excluded due to testing cookies in the preferences."
   ]
  },
  {
   "cell_type": "code",
   "execution_count": null,
   "metadata": {},
   "outputs": [],
   "source": [
    "# Way 2: compute contra sites by DataFrame group by\n",
    "contra_cookies_dfs = []\n",
    "for _, same_cookies in cookie_prefs.groupby(['name', 'domain', 'site']):\n",
    "    consent_modes = same_cookies.consent_mode.unique()\n",
    "    if len(consent_modes) >= 2 and same_cookies.category.nunique() > 1: # and 'always active' in consent_modes:\n",
    "        contra_cookies_dfs.append(same_cookies)\n",
    "contra_cookies = pd.concat(contra_cookies_dfs).drop_duplicates()"
   ]
  },
  {
   "cell_type": "code",
   "execution_count": null,
   "metadata": {},
   "outputs": [
    {
     "name": "stdout",
     "output_type": "stream",
     "text": [
      "Number sites with contra cookies: 184\n"
     ]
    }
   ],
   "source": [
    "print(\"Number sites with contra cookies:\", contra_cookies.site.nunique())"
   ]
  },
  {
   "cell_type": "code",
   "execution_count": null,
   "metadata": {},
   "outputs": [],
   "source": [
    "# set(contra_cookies.site) - set(contra_sites.site)"
   ]
  },
  {
   "cell_type": "code",
   "execution_count": null,
   "metadata": {},
   "outputs": [
    {
     "name": "stdout",
     "output_type": "stream",
     "text": [
      "Num contra cookie settings (double categories): 648 settings  on 184 sites\n",
      "Contras with 1 always-active: 192\n",
      "Contras with both editable: 0\n"
     ]
    }
   ],
   "source": [
    "print(\"Num contra cookie settings (double categories):\", len(contra_cookies), f\"settings  on {contra_cookies.site.nunique()} sites\")\n",
    "print(\"Contras with 1 always-active:\", contra_sites.site.nunique())\n",
    "print(\"Contras with both editable:\", len(set(contra_cookies.site) - set(contra_sites.site)))"
   ]
  },
  {
   "cell_type": "code",
   "execution_count": null,
   "metadata": {},
   "outputs": [],
   "source": []
  },
  {
   "cell_type": "code",
   "execution_count": null,
   "metadata": {},
   "outputs": [
    {
     "data": {
      "text/html": [
       "<div>\n",
       "<style scoped>\n",
       "    .dataframe tbody tr th:only-of-type {\n",
       "        vertical-align: middle;\n",
       "    }\n",
       "\n",
       "    .dataframe tbody tr th {\n",
       "        vertical-align: top;\n",
       "    }\n",
       "\n",
       "    .dataframe thead th {\n",
       "        text-align: right;\n",
       "    }\n",
       "</style>\n",
       "<table border=\"1\" class=\"dataframe\">\n",
       "  <thead>\n",
       "    <tr style=\"text-align: right;\">\n",
       "      <th></th>\n",
       "      <th>name</th>\n",
       "      <th>domain</th>\n",
       "      <th>duration</th>\n",
       "      <th>category_id</th>\n",
       "      <th>category</th>\n",
       "      <th>consent_mode</th>\n",
       "      <th>site</th>\n",
       "      <th>lib_name</th>\n",
       "      <th>pattern_name</th>\n",
       "      <th>consent</th>\n",
       "    </tr>\n",
       "  </thead>\n",
       "  <tbody>\n",
       "  </tbody>\n",
       "</table>\n",
       "</div>"
      ],
      "text/plain": [
       "Empty DataFrame\n",
       "Columns: [name, domain, duration, category_id, category, consent_mode, site, lib_name, pattern_name, consent]\n",
       "Index: []"
      ]
     },
     "execution_count": 31,
     "metadata": {},
     "output_type": "execute_result"
    }
   ],
   "source": [
    "contra_cookies[contra_cookies.site == 'elsevier.nl']"
   ]
  },
  {
   "cell_type": "code",
   "execution_count": null,
   "metadata": {},
   "outputs": [],
   "source": [
    "# assert len(detected_contra_sites) <= contra_sites.site.nunique() < len(detected_contra_sites) + 2"
   ]
  },
  {
   "cell_type": "code",
   "execution_count": null,
   "metadata": {},
   "outputs": [
    {
     "data": {
      "text/html": [
       "<div>\n",
       "<style scoped>\n",
       "    .dataframe tbody tr th:only-of-type {\n",
       "        vertical-align: middle;\n",
       "    }\n",
       "\n",
       "    .dataframe tbody tr th {\n",
       "        vertical-align: top;\n",
       "    }\n",
       "\n",
       "    .dataframe thead th {\n",
       "        text-align: right;\n",
       "    }\n",
       "</style>\n",
       "<table border=\"1\" class=\"dataframe\">\n",
       "  <thead>\n",
       "    <tr style=\"text-align: right;\">\n",
       "      <th></th>\n",
       "      <th>name</th>\n",
       "      <th>domain</th>\n",
       "      <th>site</th>\n",
       "      <th>comply</th>\n",
       "    </tr>\n",
       "  </thead>\n",
       "  <tbody>\n",
       "    <tr>\n",
       "      <th>173</th>\n",
       "      <td>TS013559a7</td>\n",
       "      <td>www.mastercard.us</td>\n",
       "      <td>mastercard.com</td>\n",
       "      <td>ambiguous</td>\n",
       "    </tr>\n",
       "    <tr>\n",
       "      <th>1236</th>\n",
       "      <td>_qubitTracker</td>\n",
       "      <td>.www.very.co.uk</td>\n",
       "      <td>very.co.uk</td>\n",
       "      <td>ambiguous</td>\n",
       "    </tr>\n",
       "    <tr>\n",
       "      <th>2365</th>\n",
       "      <td>G_ENABLED_IDPS</td>\n",
       "      <td>.www.glassdoor.com</td>\n",
       "      <td>glassdoor.com</td>\n",
       "      <td>ambiguous</td>\n",
       "    </tr>\n",
       "    <tr>\n",
       "      <th>2372</th>\n",
       "      <td>trs</td>\n",
       "      <td>www.glassdoor.com</td>\n",
       "      <td>glassdoor.com</td>\n",
       "      <td>ambiguous</td>\n",
       "    </tr>\n",
       "    <tr>\n",
       "      <th>2375</th>\n",
       "      <td>_gid</td>\n",
       "      <td>.glassdoor.com</td>\n",
       "      <td>glassdoor.com</td>\n",
       "      <td>ambiguous</td>\n",
       "    </tr>\n",
       "    <tr>\n",
       "      <th>...</th>\n",
       "      <td>...</td>\n",
       "      <td>...</td>\n",
       "      <td>...</td>\n",
       "      <td>...</td>\n",
       "    </tr>\n",
       "    <tr>\n",
       "      <th>59468</th>\n",
       "      <td>ak_bmsc</td>\n",
       "      <td>.mulesoft.com</td>\n",
       "      <td>mulesoft.com</td>\n",
       "      <td>ambiguous</td>\n",
       "    </tr>\n",
       "    <tr>\n",
       "      <th>59481</th>\n",
       "      <td>JSESSIONID</td>\n",
       "      <td>training.mulesoft.com</td>\n",
       "      <td>mulesoft.com</td>\n",
       "      <td>ambiguous</td>\n",
       "    </tr>\n",
       "    <tr>\n",
       "      <th>60397</th>\n",
       "      <td>TLTSID</td>\n",
       "      <td>.bkstr.com</td>\n",
       "      <td>bkstr.com</td>\n",
       "      <td>ambiguous</td>\n",
       "    </tr>\n",
       "    <tr>\n",
       "      <th>60412</th>\n",
       "      <td>dtSa</td>\n",
       "      <td>.bkstr.com</td>\n",
       "      <td>bkstr.com</td>\n",
       "      <td>ambiguous</td>\n",
       "    </tr>\n",
       "    <tr>\n",
       "      <th>60622</th>\n",
       "      <td>shortHash</td>\n",
       "      <td>.square-enix-games.com</td>\n",
       "      <td>square-enix-games.com</td>\n",
       "      <td>ambiguous</td>\n",
       "    </tr>\n",
       "  </tbody>\n",
       "</table>\n",
       "<p>116 rows × 4 columns</p>\n",
       "</div>"
      ],
      "text/plain": [
       "                 name                  domain                   site  \\\n",
       "173        TS013559a7       www.mastercard.us         mastercard.com   \n",
       "1236    _qubitTracker         .www.very.co.uk             very.co.uk   \n",
       "2365   G_ENABLED_IDPS      .www.glassdoor.com          glassdoor.com   \n",
       "2372              trs       www.glassdoor.com          glassdoor.com   \n",
       "2375             _gid          .glassdoor.com          glassdoor.com   \n",
       "...               ...                     ...                    ...   \n",
       "59468         ak_bmsc           .mulesoft.com           mulesoft.com   \n",
       "59481      JSESSIONID   training.mulesoft.com           mulesoft.com   \n",
       "60397          TLTSID              .bkstr.com              bkstr.com   \n",
       "60412            dtSa              .bkstr.com              bkstr.com   \n",
       "60622       shortHash  .square-enix-games.com  square-enix-games.com   \n",
       "\n",
       "          comply  \n",
       "173    ambiguous  \n",
       "1236   ambiguous  \n",
       "2365   ambiguous  \n",
       "2372   ambiguous  \n",
       "2375   ambiguous  \n",
       "...          ...  \n",
       "59468  ambiguous  \n",
       "59481  ambiguous  \n",
       "60397  ambiguous  \n",
       "60412  ambiguous  \n",
       "60622  ambiguous  \n",
       "\n",
       "[116 rows x 4 columns]"
      ]
     },
     "execution_count": 33,
     "metadata": {},
     "output_type": "execute_result"
    }
   ],
   "source": [
    "complies[complies.comply == 'ambiguous']"
   ]
  },
  {
   "cell_type": "code",
   "execution_count": null,
   "metadata": {},
   "outputs": [
    {
     "data": {
      "text/html": [
       "<div>\n",
       "<style scoped>\n",
       "    .dataframe tbody tr th:only-of-type {\n",
       "        vertical-align: middle;\n",
       "    }\n",
       "\n",
       "    .dataframe tbody tr th {\n",
       "        vertical-align: top;\n",
       "    }\n",
       "\n",
       "    .dataframe thead th {\n",
       "        text-align: right;\n",
       "    }\n",
       "</style>\n",
       "<table border=\"1\" class=\"dataframe\">\n",
       "  <thead>\n",
       "    <tr style=\"text-align: right;\">\n",
       "      <th></th>\n",
       "      <th>name</th>\n",
       "      <th>domain</th>\n",
       "      <th>duration</th>\n",
       "      <th>category_id</th>\n",
       "      <th>category</th>\n",
       "      <th>consent_mode</th>\n",
       "      <th>site</th>\n",
       "      <th>lib_name</th>\n",
       "      <th>pattern_name</th>\n",
       "      <th>consent</th>\n",
       "    </tr>\n",
       "  </thead>\n",
       "  <tbody>\n",
       "    <tr>\n",
       "      <th>88</th>\n",
       "      <td>utag_main</td>\n",
       "      <td>.michaels.com</td>\n",
       "      <td>365 days</td>\n",
       "      <td>C0001</td>\n",
       "      <td>Strictly Necessary Cookies</td>\n",
       "      <td>always active</td>\n",
       "      <td>michaels.com</td>\n",
       "      <td>onetrust</td>\n",
       "      <td>en.json</td>\n",
       "      <td>True</td>\n",
       "    </tr>\n",
       "    <tr>\n",
       "      <th>148</th>\n",
       "      <td>utag_main</td>\n",
       "      <td>michaels.com</td>\n",
       "      <td>365 days</td>\n",
       "      <td>C0002</td>\n",
       "      <td>Performance Cookies</td>\n",
       "      <td>active</td>\n",
       "      <td>michaels.com</td>\n",
       "      <td>onetrust</td>\n",
       "      <td>en.json</td>\n",
       "      <td>False</td>\n",
       "    </tr>\n",
       "  </tbody>\n",
       "</table>\n",
       "</div>"
      ],
      "text/plain": [
       "          name         domain  duration category_id  \\\n",
       "88   utag_main  .michaels.com  365 days       C0001   \n",
       "148  utag_main   michaels.com  365 days       C0002   \n",
       "\n",
       "                       category   consent_mode          site  lib_name  \\\n",
       "88   Strictly Necessary Cookies  always active  michaels.com  onetrust   \n",
       "148         Performance Cookies         active  michaels.com  onetrust   \n",
       "\n",
       "    pattern_name consent  \n",
       "88       en.json    True  \n",
       "148      en.json   False  "
      ]
     },
     "execution_count": 34,
     "metadata": {},
     "output_type": "execute_result"
    }
   ],
   "source": [
    "cookie_prefs[ (cookie_prefs.site == 'michaels.com') & (cookie_prefs.name == 'utag_main') ]"
   ]
  },
  {
   "cell_type": "code",
   "execution_count": null,
   "metadata": {},
   "outputs": [
    {
     "data": {
      "text/html": [
       "<div>\n",
       "<style scoped>\n",
       "    .dataframe tbody tr th:only-of-type {\n",
       "        vertical-align: middle;\n",
       "    }\n",
       "\n",
       "    .dataframe tbody tr th {\n",
       "        vertical-align: top;\n",
       "    }\n",
       "\n",
       "    .dataframe thead th {\n",
       "        text-align: right;\n",
       "    }\n",
       "</style>\n",
       "<table border=\"1\" class=\"dataframe\">\n",
       "  <thead>\n",
       "    <tr style=\"text-align: right;\">\n",
       "      <th></th>\n",
       "      <th>name</th>\n",
       "      <th>domain</th>\n",
       "      <th>duration</th>\n",
       "      <th>category_id</th>\n",
       "      <th>category</th>\n",
       "      <th>consent_mode</th>\n",
       "      <th>site</th>\n",
       "      <th>lib_name</th>\n",
       "      <th>pattern_name</th>\n",
       "      <th>consent</th>\n",
       "    </tr>\n",
       "  </thead>\n",
       "  <tbody>\n",
       "    <tr>\n",
       "      <th>74</th>\n",
       "      <td>id</td>\n",
       "      <td>m6r.eu</td>\n",
       "      <td>90 days</td>\n",
       "      <td>C0001</td>\n",
       "      <td>Necessary Cookies</td>\n",
       "      <td>always active</td>\n",
       "      <td>statista.com</td>\n",
       "      <td>onetrust</td>\n",
       "      <td>en.json</td>\n",
       "      <td>True</td>\n",
       "    </tr>\n",
       "    <tr>\n",
       "      <th>131</th>\n",
       "      <td>id</td>\n",
       "      <td>m6r.eu</td>\n",
       "      <td>0 days</td>\n",
       "      <td>C0004</td>\n",
       "      <td>Targeting Cookies</td>\n",
       "      <td>inactive</td>\n",
       "      <td>statista.com</td>\n",
       "      <td>onetrust</td>\n",
       "      <td>en.json</td>\n",
       "      <td>False</td>\n",
       "    </tr>\n",
       "  </tbody>\n",
       "</table>\n",
       "</div>"
      ],
      "text/plain": [
       "    name  domain duration category_id           category   consent_mode  \\\n",
       "74    id  m6r.eu  90 days       C0001  Necessary Cookies  always active   \n",
       "131   id  m6r.eu   0 days       C0004  Targeting Cookies       inactive   \n",
       "\n",
       "             site  lib_name pattern_name consent  \n",
       "74   statista.com  onetrust      en.json    True  \n",
       "131  statista.com  onetrust      en.json   False  "
      ]
     },
     "execution_count": 35,
     "metadata": {},
     "output_type": "execute_result"
    }
   ],
   "source": [
    "cookie_prefs[ (cookie_prefs.site == 'statista.com') & (cookie_prefs.name == 'id') ]"
   ]
  },
  {
   "cell_type": "code",
   "execution_count": null,
   "metadata": {},
   "outputs": [],
   "source": [
    "# contra_cookies.name.value_counts()[:10]\n",
    "# contra_cookies[contra_cookies.name == '__cf_bm'].reset_index(drop=True) # .site.nunique()"
   ]
  },
  {
   "cell_type": "markdown",
   "metadata": {},
   "source": [
    "# Analyze ambiguous flows"
   ]
  },
  {
   "cell_type": "code",
   "execution_count": null,
   "metadata": {},
   "outputs": [],
   "source": [
    "ambi_cookies = complies[complies.comply == 'ambiguous']\n",
    "print(\"Num ambiguous cookies:\", len(ambi_cookies), \"on num sites:\", ambi_cookies.site.nunique())\n",
    "assert len(ambi_cookies) == len(ambi_cookies.drop_duplicates()), \"there is some duplicate cookies\"\n"
   ]
  },
  {
   "cell_type": "markdown",
   "metadata": {},
   "source": [
    "## Analyze no-way-to-opt-out"
   ]
  },
  {
   "cell_type": "code",
   "execution_count": null,
   "metadata": {},
   "outputs": [],
   "source": [
    "# Way 1: compute contra sites by DataFrame group by\n",
    "nwtoo_cookies_dfs = []\n",
    "for _, site_cookies in cookie_prefs.groupby(['site']):\n",
    "    consent_modes = site_cookies.consent_mode.unique().tolist()\n",
    "    if len(consent_modes) == 1 and consent_modes[0] == 'always active':\n",
    "        nwtoo_cookies_dfs.append(site_cookies)\n",
    "nwtoo_cookies = pd.concat(nwtoo_cookies_dfs).drop_duplicates()\n",
    "nwtoo_cookies.head()"
   ]
  },
  {
   "cell_type": "code",
   "execution_count": null,
   "metadata": {},
   "outputs": [],
   "source": [
    "nwtoo_cookies.site.nunique()"
   ]
  },
  {
   "cell_type": "markdown",
   "metadata": {},
   "source": [
    "# Analyze inconsistent flows/cookies"
   ]
  },
  {
   "cell_type": "code",
   "execution_count": null,
   "metadata": {},
   "outputs": [],
   "source": [
    "def plot_inconsis_types():\n",
    "    sns.set(rc={'figure.figsize':(9,9),\"font.size\":30,\"axes.titlesize\":30,\"axes.labelsize\":30},style=\"white\", font_scale = 2.5)\n",
    "\n",
    "    ax = sns.barplot(x='comply_type', y='num_sites_percent', data=noncomply_sites)\n",
    "    ax.tick_params(left=True, bottom=True, direction=\"in\")\n",
    "    ax.set_ylabel('# Websites (%)')\n",
    "    ax.set_xlabel('Noncompliance Types')\n",
    "    xticks = [x.get_text().title() for x in ax.get_xticklabels()]\n",
    "    ax.set(xticklabels=xticks)\n",
    "\n",
    "    out_file = FIG_DIR / 'noncomply_types_per_site.png'\n",
    "    # plt.savefig(out_file, dpi=200, bbox_inches='tight'); print(f\"Written to {out_file}\")"
   ]
  },
  {
   "cell_type": "code",
   "execution_count": null,
   "metadata": {},
   "outputs": [],
   "source": [
    "## Plot distribution of omitted cookie declarations"
   ]
  },
  {
   "cell_type": "code",
   "execution_count": null,
   "metadata": {},
   "outputs": [],
   "source": [
    "omit_complies = complies[(complies.comply == 'omit')] #  & ~complies.name.isin(['OptanonAlertBoxClosed', 'OptanonConsent']) ]\n",
    "omit_complies.site.nunique()"
   ]
  },
  {
   "cell_type": "code",
   "execution_count": null,
   "metadata": {},
   "outputs": [],
   "source": [
    "omit_complies.site.value_counts()[:7]"
   ]
  },
  {
   "cell_type": "code",
   "execution_count": null,
   "metadata": {},
   "outputs": [],
   "source": [
    "omit_cookies = omit_complies.name.value_counts()[:5].to_frame().reset_index().rename(columns={'index': 'cookie_name'})\n",
    "omit_cookies['num_sites'] = omit_cookies['cookie_name'].map(lambda cookie_name: omit_complies[omit_complies.name == cookie_name].site.nunique())\n",
    "print(omit_cookies.head(5)[['cookie_name', 'num_sites']].rename(columns={'cookie_name': 'Cookie Name', 'num_sites': '# Websites'}).to_latex(index=False))"
   ]
  },
  {
   "cell_type": "code",
   "execution_count": null,
   "metadata": {},
   "outputs": [],
   "source": [
    "# set(cookielist_sites) - set(omit_complies.site.unique())\n",
    "omit_counts = omit_complies.site.value_counts().to_frame().rename(columns={'site': 'num_omit_cookies'})\n",
    "print(\"Num omitted sites:\", omit_complies.site.nunique())\n",
    "omit_counts.num_omit_cookies.mean(), omit_counts.num_omit_cookies.std(), omit_counts.num_omit_cookies.min(), omit_counts.num_omit_cookies.max()"
   ]
  },
  {
   "cell_type": "code",
   "execution_count": null,
   "metadata": {},
   "outputs": [],
   "source": [
    "sns.set(rc={'figure.figsize':(12,8),\"font.size\":35,\"axes.titlesize\":30,\"axes.labelsize\":50},style=\"white\", font_scale = 4.5)\n",
    "sns.set_style(\"ticks\", {\"xtick.direction\": \"in\", \"ytick.direction\": \"in\"})\n",
    "plt.rcParams['xtick.major.size'] = 15\n",
    "plt.rcParams['ytick.major.size'] = 15\n",
    "\n",
    "ax = sns.ecdfplot(data=omit_counts, x=omit_counts.num_omit_cookies, linewidth=8)\n",
    "ax.set(xlim=(0, 350))\n",
    "\n",
    "plt.xlabel('# Omitted Cookies/Website')\n",
    "plt.ylabel('CDF')\n",
    "# out_file = FIG_DIR / 'eu_omit_cookie_cdf.png'\n",
    "# plt.savefig(out_file, dpi=200, bbox_inches='tight'); print(f\"Written to {out_file}\")"
   ]
  },
  {
   "cell_type": "code",
   "execution_count": null,
   "metadata": {},
   "outputs": [],
   "source": [
    "plot_df = omit_counts[:50]\n",
    "\n",
    "sns.set(rc={'figure.figsize':(24,8),\"font.size\":35,\"axes.titlesize\":35,\"axes.labelsize\":25},style=\"white\", font_scale=1.5)\n",
    "ax = sns.barplot(x=plot_df.index, y=plot_df.num_omit_cookies)\n",
    "ticks = plt.xticks(rotation=45, ha='right')\n",
    "\n",
    "ax.tick_params(left=True, bottom=False, direction=\"in\")\n",
    "ax.set_ylabel('# Omitted Cookies')\n",
    "ax.set_xlabel('Website')\n",
    "\n",
    "# out_file = FIG_DIR / 'omit_site.png'\n",
    "# plt.savefig(out_file, dpi=200, bbox_inches='tight'); print(f\"Written to {out_file}\")"
   ]
  },
  {
   "cell_type": "code",
   "execution_count": null,
   "metadata": {},
   "outputs": [],
   "source": [
    "def plot_histogram_omit():\n",
    "    sns.set(rc={'figure.figsize':(9,6),\"font.size\":25,\"axes.titlesize\":25,\"axes.labelsize\":15},style=\"white\", font_scale = 1)\n",
    "    omit_counts_histo = omit_complies.site.value_counts().value_counts()\n",
    "    sns.barplot(x=omit_counts_histo.index, y=omit_counts_histo.values)\n",
    "    ticks = plt.xticks(rotation=45, ha='right')"
   ]
  },
  {
   "cell_type": "markdown",
   "metadata": {},
   "source": [
    "## Plot distribution of incorrectly enforced cookies"
   ]
  },
  {
   "cell_type": "code",
   "execution_count": null,
   "metadata": {},
   "outputs": [],
   "source": [
    "incor_complies = complies[complies.comply == 'incorrect']\n",
    "# set(cookielist_sites) - set(omit_complies.site.unique())\n",
    "incor_counts = incor_complies.site.value_counts().iloc[:50]\n",
    "incor_counts = incor_counts.to_frame().reset_index().sort_values(by=['site', 'index'], ascending=[False, True])\n",
    "incor_counts.columns"
   ]
  },
  {
   "cell_type": "code",
   "execution_count": null,
   "metadata": {},
   "outputs": [],
   "source": [
    "sns.set(rc={'figure.figsize':(24,8),\"font.size\":35,\"axes.titlesize\":35,\"axes.labelsize\":25},style=\"white\", font_scale=1.5)\n",
    "ax = sns.barplot(x='index', y='site', data=incor_counts)\n",
    "\n",
    "ticks = plt.xticks(rotation=45, ha='right')\n",
    "\n",
    "ax.tick_params(left=True, bottom=True, direction=\"in\")\n",
    "ax.set_ylabel('# Incorrectly Enforced Cookies')\n",
    "ax.set_xlabel('Website')\n",
    "\n",
    "# out_file = FIG_DIR / 'incor_site.png'\n",
    "# plt.savefig(out_file, dpi=200, bbox_inches='tight'); print(f\"Written to {out_file}\")"
   ]
  },
  {
   "cell_type": "code",
   "execution_count": null,
   "metadata": {},
   "outputs": [],
   "source": [
    "# len(incor_counts)"
   ]
  },
  {
   "cell_type": "code",
   "execution_count": null,
   "metadata": {},
   "outputs": [],
   "source": [
    "incor_counts[incor_counts.site == 33].reset_index(drop=True)"
   ]
  },
  {
   "cell_type": "markdown",
   "metadata": {},
   "source": [
    "### Top incorrect cookies"
   ]
  },
  {
   "cell_type": "code",
   "execution_count": null,
   "metadata": {},
   "outputs": [],
   "source": [
    "incor_cookies = complies[complies.comply == 'incorrect']"
   ]
  },
  {
   "cell_type": "code",
   "execution_count": null,
   "metadata": {},
   "outputs": [],
   "source": [
    "# site = 'onetrust.com'\n",
    "# complies[complies.site == site].reset_index(drop=True)\n",
    "# cookie_prefs[(cookie_prefs.site == site) & (cookie_prefs.name == '_gid')]"
   ]
  },
  {
   "cell_type": "code",
   "execution_count": null,
   "metadata": {},
   "outputs": [],
   "source": [
    "top_incor_cookies = incor_cookies.name.value_counts().sort_values(ascending=False).to_frame().reset_index().rename(columns={'index':'cookie_name', 'name': 'num_occur'})"
   ]
  },
  {
   "cell_type": "code",
   "execution_count": null,
   "metadata": {},
   "outputs": [],
   "source": [
    "top_incor_cookies['num_sites'] = top_incor_cookies.cookie_name.map(lambda cookie_name: incor_cookies[incor_cookies.name == cookie_name].site.nunique())"
   ]
  },
  {
   "cell_type": "code",
   "execution_count": null,
   "metadata": {},
   "outputs": [],
   "source": [
    "print(top_incor_cookies.head(5)[['cookie_name', 'num_sites']].rename(columns={'cookie_name': 'Cookie Name', 'num_sites': '# Websites'}).to_latex(index=False))"
   ]
  },
  {
   "cell_type": "markdown",
   "metadata": {},
   "source": [
    "# Narrow cookie consent preferences"
   ]
  },
  {
   "cell_type": "code",
   "execution_count": null,
   "metadata": {},
   "outputs": [],
   "source": [
    "consent_cookies = sent_cookies[sent_cookies.name.isin(['OptanonConsent', 'CookieConsent'])][['domain', 'name', 'site']].drop_duplicates()\n",
    "narrow_consent_cookies = consent_cookies[~consent_cookies.domain.str.startswith('.')].reset_index(drop=True)"
   ]
  },
  {
   "cell_type": "code",
   "execution_count": null,
   "metadata": {},
   "outputs": [],
   "source": [
    "set(contra_cookies.site).intersection(set(narrow_consent_cookies.site))"
   ]
  },
  {
   "cell_type": "code",
   "execution_count": null,
   "metadata": {},
   "outputs": [],
   "source": [
    "narrow_consent_cookies"
   ]
  },
  {
   "cell_type": "markdown",
   "metadata": {},
   "source": [
    "# Case studies"
   ]
  },
  {
   "cell_type": "code",
   "execution_count": null,
   "metadata": {},
   "outputs": [],
   "source": [
    "incor_df = complies[complies.comply == 'incorrect']\n",
    "incor_df.site.value_counts().sort_values(ascending=False).head()"
   ]
  },
  {
   "cell_type": "code",
   "execution_count": null,
   "metadata": {},
   "outputs": [],
   "source": [
    "case_site = 'blabbermouth.net'\n",
    "incor_df[incor_df.site == case_site]"
   ]
  },
  {
   "cell_type": "code",
   "execution_count": null,
   "metadata": {},
   "outputs": [],
   "source": [
    "# cookie_prefs[(cookie_prefs.site == 'scientificamerican.com') & (cookie_prefs.name == 'MXP_TRACKINGID')]\n",
    "cookie_prefs[(cookie_prefs.site == case_site) & (cookie_prefs.name == 'IDE')]"
   ]
  },
  {
   "cell_type": "code",
   "execution_count": null,
   "metadata": {},
   "outputs": [],
   "source": [
    "# sent_cookies[(sent_cookies.site == 'scientificamerican.com') & (sent_cookies.name == 'MXP_TRACKINGID')]"
   ]
  },
  {
   "cell_type": "code",
   "execution_count": null,
   "metadata": {},
   "outputs": [],
   "source": [
    "omit_df = complies[complies.comply == 'omit']\n",
    "omit_df.site.value_counts().sort_values(ascending=False).iloc[20:30]"
   ]
  },
  {
   "cell_type": "code",
   "execution_count": null,
   "metadata": {},
   "outputs": [],
   "source": [
    "print(omit_df[omit_df.site == 'scientificamerican.com'].reset_index().name.tolist())"
   ]
  },
  {
   "cell_type": "code",
   "execution_count": null,
   "metadata": {},
   "outputs": [],
   "source": [
    "'uids' in omit_df[omit_df.site == 'scientificamerican.com'].reset_index().name.tolist()"
   ]
  },
  {
   "cell_type": "code",
   "execution_count": null,
   "metadata": {},
   "outputs": [],
   "source": [
    "omit_df[(omit_df.site == 'scientificamerican.com') & (omit_df.name == 'cftoken')]"
   ]
  },
  {
   "cell_type": "code",
   "execution_count": null,
   "metadata": {},
   "outputs": [],
   "source": [
    "cookie_prefs[(cookie_prefs.site == 'scientificamerican.com') & (cookie_prefs.name == 'ADGRX_UID')]"
   ]
  },
  {
   "cell_type": "code",
   "execution_count": null,
   "metadata": {},
   "outputs": [],
   "source": []
  },
  {
   "cell_type": "code",
   "execution_count": null,
   "metadata": {},
   "outputs": [],
   "source": []
  },
  {
   "cell_type": "code",
   "execution_count": null,
   "metadata": {},
   "outputs": [],
   "source": []
  },
  {
   "cell_type": "code",
   "execution_count": null,
   "metadata": {},
   "outputs": [],
   "source": []
  },
  {
   "cell_type": "code",
   "execution_count": null,
   "metadata": {},
   "outputs": [],
   "source": []
  },
  {
   "cell_type": "code",
   "execution_count": null,
   "metadata": {},
   "outputs": [],
   "source": [
    "all_sites = set(complies.site)\n",
    "nothing_comply_sites = all_sites - set(complies[complies.comply == 'comply'].site)\n",
    "print(\"Sites with no compliant cookies:\", nothing_comply_sites)"
   ]
  },
  {
   "cell_type": "code",
   "execution_count": null,
   "metadata": {},
   "outputs": [],
   "source": [
    "for site in ['liveperson.com']: # nothing_comply_sites:\n",
    "    print(site)\n",
    "site_cookies = postrej_br_cookies[postrej_br_cookies.site == site]"
   ]
  },
  {
   "cell_type": "code",
   "execution_count": null,
   "metadata": {},
   "outputs": [],
   "source": [
    "acookie = site_cookies[site_cookies.name == 'OptanonAlertBoxClosed'].iloc[0]"
   ]
  },
  {
   "cell_type": "code",
   "execution_count": null,
   "metadata": {},
   "outputs": [],
   "source": [
    "site_prefs = cookie_prefs[cookie_prefs.site == site]\n",
    "consent_cookies = site_prefs[site_prefs.consent]\n",
    "consent_cookie_names = consent_cookies.name\n",
    "site_cookies[site_cookies.name.isin(consent_cookie_names)]\n",
    "# cookie_name = 'OptanonAlertBoxClosed'\n",
    "# cookie_pref = site_prefs[site_prefs.name == cookie_name].iloc[0]\n",
    "# cookie_pref"
   ]
  },
  {
   "cell_type": "code",
   "execution_count": null,
   "metadata": {},
   "outputs": [],
   "source": [
    "consent_cookies"
   ]
  },
  {
   "cell_type": "code",
   "execution_count": null,
   "metadata": {},
   "outputs": [],
   "source": [
    "import sys; import importlib; importlib.reload(sys.modules['consent.consistency.cookie_pref_match'])\n",
    "from consent.consistency.cookie_pref_match import cookie_pref_match\n",
    "cookie_pref_match(acookie, cookie_pref, site, verbose=2)"
   ]
  },
  {
   "cell_type": "code",
   "execution_count": null,
   "metadata": {},
   "outputs": [],
   "source": [
    "# Analyze Contras"
   ]
  },
  {
   "cell_type": "code",
   "execution_count": null,
   "metadata": {},
   "outputs": [],
   "source": []
  },
  {
   "cell_type": "code",
   "execution_count": null,
   "metadata": {},
   "outputs": [],
   "source": []
  },
  {
   "cell_type": "code",
   "execution_count": null,
   "metadata": {},
   "outputs": [],
   "source": []
  },
  {
   "cell_type": "code",
   "execution_count": null,
   "metadata": {},
   "outputs": [],
   "source": []
  },
  {
   "cell_type": "code",
   "execution_count": null,
   "metadata": {},
   "outputs": [],
   "source": []
  },
  {
   "cell_type": "code",
   "execution_count": null,
   "metadata": {},
   "outputs": [],
   "source": []
  },
  {
   "cell_type": "code",
   "execution_count": null,
   "metadata": {},
   "outputs": [],
   "source": []
  },
  {
   "cell_type": "code",
   "execution_count": null,
   "metadata": {},
   "outputs": [],
   "source": []
  },
  {
   "cell_type": "code",
   "execution_count": null,
   "metadata": {},
   "outputs": [],
   "source": []
  },
  {
   "cell_type": "code",
   "execution_count": null,
   "metadata": {},
   "outputs": [],
   "source": []
  },
  {
   "cell_type": "code",
   "execution_count": null,
   "metadata": {},
   "outputs": [],
   "source": []
  },
  {
   "cell_type": "code",
   "execution_count": null,
   "metadata": {},
   "outputs": [],
   "source": []
  },
  {
   "cell_type": "code",
   "execution_count": null,
   "metadata": {},
   "outputs": [],
   "source": []
  },
  {
   "cell_type": "code",
   "execution_count": null,
   "metadata": {},
   "outputs": [],
   "source": []
  },
  {
   "cell_type": "code",
   "execution_count": null,
   "metadata": {},
   "outputs": [],
   "source": []
  },
  {
   "cell_type": "code",
   "execution_count": null,
   "metadata": {},
   "outputs": [],
   "source": []
  },
  {
   "cell_type": "code",
   "execution_count": null,
   "metadata": {},
   "outputs": [],
   "source": []
  },
  {
   "cell_type": "code",
   "execution_count": null,
   "metadata": {},
   "outputs": [],
   "source": []
  },
  {
   "cell_type": "code",
   "execution_count": null,
   "metadata": {},
   "outputs": [],
   "source": [
    "\n",
    "\n",
    "\n",
    "\n",
    "\n",
    "\n",
    "\n",
    "\n",
    "\n",
    "\n",
    "\n",
    "\n",
    "\n",
    "\n",
    "\n",
    "\n",
    "\n",
    "\n",
    "\n",
    "\n",
    "\n",
    "\n",
    "\n",
    "\n",
    "\n",
    "\n",
    "\n",
    "\n",
    "\n",
    "\n",
    "\n",
    "\n",
    "\n",
    "\n",
    "\n",
    "\n",
    "\n",
    "\n",
    "\n",
    "\n",
    "\n",
    "\n",
    "\n",
    "\n",
    "\n",
    "\n",
    "\n",
    "\n",
    "\n",
    "\n",
    "\n"
   ]
  }
 ],
 "metadata": {
  "kernelspec": {
   "display_name": "consent",
   "language": "python",
   "name": "python3"
  },
  "language_info": {
   "codemirror_mode": {
    "name": "ipython",
    "version": 3
   },
   "file_extension": ".py",
   "mimetype": "text/x-python",
   "name": "python",
   "nbconvert_exporter": "python",
   "pygments_lexer": "ipython3",
   "version": "3.8.19"
  }
 },
 "nbformat": 4,
 "nbformat_minor": 4
}
