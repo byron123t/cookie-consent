{
 "cells": [
  {
   "cell_type": "code",
   "execution_count": 1,
   "metadata": {},
   "outputs": [
    {
     "name": "stdout",
     "output_type": "stream",
     "text": [
      "Scan root dir: /mnt/sdd/ducbui/projects/data2/consent/2024-10-10\n",
      "Output suffix: _0k_20k\n",
      "Scan dirs: [PosixPath('/mnt/sdd/ducbui/projects/data2/consent/2024-10-10/pref_menu_scan_0k_20k')]\n"
     ]
    }
   ],
   "source": [
    "from collections import defaultdict\n",
    "from pathlib import Path\n",
    "\n",
    "import matplotlib.pyplot as plt\n",
    "import pandas as pd\n",
    "import seaborn as sns\n",
    "\n",
    "from consent.consistency.comply_util import site_to_contras, get_comply\n",
    "from consent.consistency.cookie_pref_match import cookie_pref_match\n",
    "from consent.consistency.util import get_scan_root_dir, get_scan_dirs # , FIG_DIR uncomment to save fig.\n",
    "from consent.data.pref_menu_scan.cookie_pref_reader import read_cookie_prefs_in_scans\n",
    "from consent.data.pref_menu_scan.har_cookie_reader import read_postrej_sent_cookies_in_scans\n",
    "\n",
    "cur_set = '0k_20k' # '20k_100k'\n",
    "overwrite = True\n",
    "SCAN_ROOT_DIR = get_scan_root_dir('sf')\n",
    "SCAN_DIRS = [SCAN_ROOT_DIR / f'pref_menu_scan_{cur_set}']\n",
    "# SCAN_DIRS = get_scan_dirs('us')[:]\n",
    "output_suffix = '_' + cur_set # '0k_20k'  # '20k_100k' #'60k_80k' # '40k_60k' # # '100k_200k'; done: '20k_40k' '0k_20k'\n",
    "print('Scan root dir:', SCAN_ROOT_DIR)\n",
    "print('Output suffix:', output_suffix)\n",
    "print('Scan dirs:', SCAN_DIRS)"
   ]
  },
  {
   "cell_type": "code",
   "execution_count": 2,
   "metadata": {},
   "outputs": [
    {
     "name": "stdout",
     "output_type": "stream",
     "text": [
      "To save to /mnt/sdd/ducbui/projects/data2/consent/2024-10-10/cookie_decls_0k_20k.parquet\n"
     ]
    },
    {
     "name": "stdout",
     "output_type": "stream",
     "text": [
      "WARNING: Consent cookie not found walesonline.co.uk\n",
      "WARNING: Consent cookie not found manchestereveningnews.co.uk\n",
      "File iberia.com consent_resources.json has no data\n",
      "WARNING: error decoding /mnt/sdd/ducbui/projects/data2/consent/2024-10-10/pref_menu_scan_0k_20k/getclockwise.com/consent_resources.json: region_block Received an out-of-region response\n",
      "WARNING: error decoding /mnt/sdd/ducbui/projects/data2/consent/2024-10-10/pref_menu_scan_0k_20k/scribbr.com/consent_resources.json: region_block Received an out-of-region response\n",
      "https://cdn.cookielaw.org/consent/03b96273-0ebc-43cb-8885-cdfaeadad5b9/1ce77e97-5389-4791-87b0-e40bddba01f0/en.json WARNING: Cookie list has session cookie but duration > 0\n",
      "WARNING: error decoding /mnt/sdd/ducbui/projects/data2/consent/2024-10-10/pref_menu_scan_0k_20k/gitlab.com/consent_resources.json: consent_js not supported yet.\n",
      "https://cdn.cookielaw.org/consent/c570eb43-1169-4222-914c-38a09bd70ca0/018de4cc-f70c-7263-bc39-1d31f46d243a/en.json WARNING: Cookie list has session cookie but duration > 0\n",
      "https://cdn-ukwest.onetrust.com/consent/86f42b6d-7a31-469c-804c-319643173d42/018dfc06-450f-70ae-81ef-536da56b2895/en.json WARNING: Cookie list has session cookie but duration > 0\n",
      "WARNING: error decoding /mnt/sdd/ducbui/projects/data2/consent/2024-10-10/pref_menu_scan_0k_20k/gitlab.io/consent_resources.json: consent_js not supported yet.\n",
      "Written to /mnt/sdd/ducbui/projects/data2/consent/2024-10-10/cookie_decls_0k_20k.parquet\n",
      "Written to /mnt/sdd/ducbui/projects/data2/consent/2024-10-10/cookie_prefs_0k_20k.parquet\n"
     ]
    },
    {
     "data": {
      "text/html": [
       "<div>\n",
       "<style scoped>\n",
       "    .dataframe tbody tr th:only-of-type {\n",
       "        vertical-align: middle;\n",
       "    }\n",
       "\n",
       "    .dataframe tbody tr th {\n",
       "        vertical-align: top;\n",
       "    }\n",
       "\n",
       "    .dataframe thead th {\n",
       "        text-align: right;\n",
       "    }\n",
       "</style>\n",
       "<table border=\"1\" class=\"dataframe\">\n",
       "  <thead>\n",
       "    <tr style=\"text-align: right;\">\n",
       "      <th></th>\n",
       "      <th>name</th>\n",
       "      <th>domain</th>\n",
       "      <th>duration</th>\n",
       "      <th>category_id</th>\n",
       "      <th>category</th>\n",
       "      <th>consent_mode</th>\n",
       "      <th>site</th>\n",
       "      <th>lib_name</th>\n",
       "      <th>pattern_name</th>\n",
       "      <th>consent</th>\n",
       "    </tr>\n",
       "  </thead>\n",
       "  <tbody>\n",
       "    <tr>\n",
       "      <th>0</th>\n",
       "      <td>.AxcmXFaxAuth</td>\n",
       "      <td>fax.nextiva.com</td>\n",
       "      <td>0 days</td>\n",
       "      <td>C0001</td>\n",
       "      <td>Strictly Necessary Cookies</td>\n",
       "      <td>always active</td>\n",
       "      <td>nextiva.com</td>\n",
       "      <td>onetrust</td>\n",
       "      <td>en.json</td>\n",
       "      <td>True</td>\n",
       "    </tr>\n",
       "    <tr>\n",
       "      <th>1</th>\n",
       "      <td>__cf_bm</td>\n",
       "      <td>nextiva.com</td>\n",
       "      <td>0 days</td>\n",
       "      <td>C0001</td>\n",
       "      <td>Strictly Necessary Cookies</td>\n",
       "      <td>always active</td>\n",
       "      <td>nextiva.com</td>\n",
       "      <td>onetrust</td>\n",
       "      <td>en.json</td>\n",
       "      <td>True</td>\n",
       "    </tr>\n",
       "    <tr>\n",
       "      <th>2</th>\n",
       "      <td>_ce.cch</td>\n",
       "      <td>nextiva.com</td>\n",
       "      <td>Session</td>\n",
       "      <td>C0001</td>\n",
       "      <td>Strictly Necessary Cookies</td>\n",
       "      <td>always active</td>\n",
       "      <td>nextiva.com</td>\n",
       "      <td>onetrust</td>\n",
       "      <td>en.json</td>\n",
       "      <td>True</td>\n",
       "    </tr>\n",
       "    <tr>\n",
       "      <th>3</th>\n",
       "      <td>ao</td>\n",
       "      <td>sso.nextiva.com</td>\n",
       "      <td>0 days</td>\n",
       "      <td>C0001</td>\n",
       "      <td>Strictly Necessary Cookies</td>\n",
       "      <td>always active</td>\n",
       "      <td>nextiva.com</td>\n",
       "      <td>onetrust</td>\n",
       "      <td>en.json</td>\n",
       "      <td>True</td>\n",
       "    </tr>\n",
       "    <tr>\n",
       "      <th>4</th>\n",
       "      <td>autolaunch_triggered</td>\n",
       "      <td>sso.nextiva.com</td>\n",
       "      <td>0 days</td>\n",
       "      <td>C0001</td>\n",
       "      <td>Strictly Necessary Cookies</td>\n",
       "      <td>always active</td>\n",
       "      <td>nextiva.com</td>\n",
       "      <td>onetrust</td>\n",
       "      <td>en.json</td>\n",
       "      <td>True</td>\n",
       "    </tr>\n",
       "  </tbody>\n",
       "</table>\n",
       "</div>"
      ],
      "text/plain": [
       "                   name           domain duration category_id  \\\n",
       "0         .AxcmXFaxAuth  fax.nextiva.com   0 days       C0001   \n",
       "1               __cf_bm      nextiva.com   0 days       C0001   \n",
       "2               _ce.cch      nextiva.com  Session       C0001   \n",
       "3                    ao  sso.nextiva.com   0 days       C0001   \n",
       "4  autolaunch_triggered  sso.nextiva.com   0 days       C0001   \n",
       "\n",
       "                     category   consent_mode         site  lib_name  \\\n",
       "0  Strictly Necessary Cookies  always active  nextiva.com  onetrust   \n",
       "1  Strictly Necessary Cookies  always active  nextiva.com  onetrust   \n",
       "2  Strictly Necessary Cookies  always active  nextiva.com  onetrust   \n",
       "3  Strictly Necessary Cookies  always active  nextiva.com  onetrust   \n",
       "4  Strictly Necessary Cookies  always active  nextiva.com  onetrust   \n",
       "\n",
       "  pattern_name consent  \n",
       "0      en.json    True  \n",
       "1      en.json    True  \n",
       "2      en.json    True  \n",
       "3      en.json    True  \n",
       "4      en.json    True  "
      ]
     },
     "execution_count": 2,
     "metadata": {},
     "output_type": "execute_result"
    }
   ],
   "source": [
    "# Get cookie prefs = cookie decls + prefs\n",
    "cookie_prefs_file = SCAN_ROOT_DIR / f'cookie_prefs{output_suffix}.parquet'\n",
    "\n",
    "if not cookie_prefs_file.exists() or overwrite:\n",
    "    save_cookie_decls_file = SCAN_ROOT_DIR / f'cookie_decls{output_suffix}.parquet'\n",
    "    print(f'To save to {save_cookie_decls_file}')\n",
    "    cookie_prefs = read_cookie_prefs_in_scans(SCAN_DIRS, save_cookie_decls_file)  # took 2.3min for top 50k-site scan\n",
    "    cookie_prefs.to_parquet(cookie_prefs_file); print(f'Written to {cookie_prefs_file}')\n",
    "else:\n",
    "    cookie_prefs = pd.read_parquet(cookie_prefs_file)\n",
    "cookie_prefs.head()\n",
    "# TODO: add log_file_checker"
   ]
  },
  {
   "cell_type": "code",
   "execution_count": 3,
   "metadata": {},
   "outputs": [
    {
     "name": "stdout",
     "output_type": "stream",
     "text": [
      "Found cookie libraries:\n"
     ]
    },
    {
     "data": {
      "text/plain": [
       "lib_name\n",
       "onetrust     1334\n",
       "cookiebot     110\n",
       "Name: count, dtype: int64"
      ]
     },
     "execution_count": 3,
     "metadata": {},
     "output_type": "execute_result"
    }
   ],
   "source": [
    "print(\"Found cookie libraries:\")\n",
    "cookie_prefs[['site', 'lib_name']].drop_duplicates().lib_name.value_counts()"
   ]
  },
  {
   "cell_type": "code",
   "execution_count": 4,
   "metadata": {},
   "outputs": [
    {
     "name": "stdout",
     "output_type": "stream",
     "text": [
      "Sites with cookie prefs: 1444 , first 10 sites: ['247sports.com', '2k.com', '2ksports.com', '9gag.com', 'aber.ac.uk', 'acast.com', 'accedo.tv', 'accenture.com', 'accor.com', 'acehardware.com']\n"
     ]
    }
   ],
   "source": [
    "cookielist_sites = sorted(cookie_prefs.site.unique().tolist())\n",
    "n_cookielist_sites = len(cookielist_sites)\n",
    "assert cookie_prefs.site.nunique() == n_cookielist_sites\n",
    "n=10\n",
    "print(\"Sites with cookie prefs:\", n_cookielist_sites, f', first {n} sites:' , cookielist_sites[:n])"
   ]
  },
  {
   "cell_type": "code",
   "execution_count": 5,
   "metadata": {},
   "outputs": [],
   "source": [
    "site_to_libname = {row['site']: row['lib_name'] for row in cookie_prefs[['site', 'lib_name']].drop_duplicates().to_dict('records')}"
   ]
  },
  {
   "cell_type": "code",
   "execution_count": 6,
   "metadata": {},
   "outputs": [
    {
     "name": "stdout",
     "output_type": "stream",
     "text": [
      "0.01161702141836269\n"
     ]
    },
    {
     "name": "stdout",
     "output_type": "stream",
     "text": [
      "0.028497849501770704\n",
      "0.002835126248071881\n"
     ]
    },
    {
     "data": {
      "text/html": [
       "<div>\n",
       "<style scoped>\n",
       "    .dataframe tbody tr th:only-of-type {\n",
       "        vertical-align: middle;\n",
       "    }\n",
       "\n",
       "    .dataframe tbody tr th {\n",
       "        vertical-align: top;\n",
       "    }\n",
       "\n",
       "    .dataframe thead th {\n",
       "        text-align: right;\n",
       "    }\n",
       "</style>\n",
       "<table border=\"1\" class=\"dataframe\">\n",
       "  <thead>\n",
       "    <tr style=\"text-align: right;\">\n",
       "      <th></th>\n",
       "      <th>name</th>\n",
       "      <th>domain</th>\n",
       "      <th>duration</th>\n",
       "      <th>category_id</th>\n",
       "      <th>category</th>\n",
       "      <th>consent_mode</th>\n",
       "      <th>site</th>\n",
       "      <th>lib_name</th>\n",
       "      <th>pattern_name</th>\n",
       "      <th>consent</th>\n",
       "    </tr>\n",
       "  </thead>\n",
       "  <tbody>\n",
       "    <tr>\n",
       "      <th>101</th>\n",
       "      <td>visitor_id#####</td>\n",
       "      <td>go.nextiva.com</td>\n",
       "      <td>364 days</td>\n",
       "      <td>C0004</td>\n",
       "      <td>Targeting Cookies</td>\n",
       "      <td>inactive landingpage</td>\n",
       "      <td>nextiva.com</td>\n",
       "      <td>onetrust</td>\n",
       "      <td>en.json</td>\n",
       "      <td>False</td>\n",
       "    </tr>\n",
       "    <tr>\n",
       "      <th>4</th>\n",
       "      <td>_gd#############</td>\n",
       "      <td>www.wework.com</td>\n",
       "      <td>730 days</td>\n",
       "      <td>C0003</td>\n",
       "      <td>Functional Cookies</td>\n",
       "      <td>always active</td>\n",
       "      <td>wework.com</td>\n",
       "      <td>onetrust</td>\n",
       "      <td>en.json</td>\n",
       "      <td>True</td>\n",
       "    </tr>\n",
       "    <tr>\n",
       "      <th>8</th>\n",
       "      <td>_gd#############</td>\n",
       "      <td>cdnjs.cloudflare.com</td>\n",
       "      <td>730 days</td>\n",
       "      <td>C0003</td>\n",
       "      <td>Functional Cookies</td>\n",
       "      <td>always active</td>\n",
       "      <td>wework.com</td>\n",
       "      <td>onetrust</td>\n",
       "      <td>en.json</td>\n",
       "      <td>True</td>\n",
       "    </tr>\n",
       "    <tr>\n",
       "      <th>46</th>\n",
       "      <td>_gd#############</td>\n",
       "      <td>j.6sc.co</td>\n",
       "      <td>730 days</td>\n",
       "      <td>C0002</td>\n",
       "      <td>Performance Cookies</td>\n",
       "      <td>active</td>\n",
       "      <td>wework.com</td>\n",
       "      <td>onetrust</td>\n",
       "      <td>en.json</td>\n",
       "      <td>False</td>\n",
       "    </tr>\n",
       "    <tr>\n",
       "      <th>44</th>\n",
       "      <td>AMP_unsent_#</td>\n",
       "      <td>commercial.cdn.aws.placeit.net</td>\n",
       "      <td>Persistent</td>\n",
       "      <td>statistics</td>\n",
       "      <td>statistics</td>\n",
       "      <td>None</td>\n",
       "      <td>placeit.net</td>\n",
       "      <td>cookiebot</td>\n",
       "      <td>cc.js</td>\n",
       "      <td>False</td>\n",
       "    </tr>\n",
       "    <tr>\n",
       "      <th>...</th>\n",
       "      <td>...</td>\n",
       "      <td>...</td>\n",
       "      <td>...</td>\n",
       "      <td>...</td>\n",
       "      <td>...</td>\n",
       "      <td>...</td>\n",
       "      <td>...</td>\n",
       "      <td>...</td>\n",
       "      <td>...</td>\n",
       "      <td>...</td>\n",
       "    </tr>\n",
       "    <tr>\n",
       "      <th>140</th>\n",
       "      <td>visitor_id#####</td>\n",
       "      <td>click.outreach.io</td>\n",
       "      <td>3649 days</td>\n",
       "      <td>4</td>\n",
       "      <td>Targeting Cookies</td>\n",
       "      <td>active</td>\n",
       "      <td>outreach.io</td>\n",
       "      <td>onetrust</td>\n",
       "      <td>en.json</td>\n",
       "      <td>False</td>\n",
       "    </tr>\n",
       "    <tr>\n",
       "      <th>147</th>\n",
       "      <td>visitor_id#####</td>\n",
       "      <td>pi.pardot.com</td>\n",
       "      <td>3649 days</td>\n",
       "      <td>4</td>\n",
       "      <td>Targeting Cookies</td>\n",
       "      <td>active</td>\n",
       "      <td>outreach.io</td>\n",
       "      <td>onetrust</td>\n",
       "      <td>en.json</td>\n",
       "      <td>False</td>\n",
       "    </tr>\n",
       "    <tr>\n",
       "      <th>170</th>\n",
       "      <td>visitor_id#####</td>\n",
       "      <td>pardot.com</td>\n",
       "      <td>3649 days</td>\n",
       "      <td>4</td>\n",
       "      <td>Targeting Cookies</td>\n",
       "      <td>active</td>\n",
       "      <td>outreach.io</td>\n",
       "      <td>onetrust</td>\n",
       "      <td>en.json</td>\n",
       "      <td>False</td>\n",
       "    </tr>\n",
       "    <tr>\n",
       "      <th>172</th>\n",
       "      <td>_gd#############</td>\n",
       "      <td>j.6sc.co</td>\n",
       "      <td>729 days</td>\n",
       "      <td>4</td>\n",
       "      <td>Targeting Cookies</td>\n",
       "      <td>active</td>\n",
       "      <td>outreach.io</td>\n",
       "      <td>onetrust</td>\n",
       "      <td>en.json</td>\n",
       "      <td>False</td>\n",
       "    </tr>\n",
       "    <tr>\n",
       "      <th>220</th>\n",
       "      <td>_gd#############</td>\n",
       "      <td>cdnjs.cloudflare.com</td>\n",
       "      <td>729 days</td>\n",
       "      <td>4</td>\n",
       "      <td>Targeting Cookies</td>\n",
       "      <td>active</td>\n",
       "      <td>outreach.io</td>\n",
       "      <td>onetrust</td>\n",
       "      <td>en.json</td>\n",
       "      <td>False</td>\n",
       "    </tr>\n",
       "  </tbody>\n",
       "</table>\n",
       "<p>3487 rows × 10 columns</p>\n",
       "</div>"
      ],
      "text/plain": [
       "                 name                          domain    duration category_id  \\\n",
       "101   visitor_id#####                  go.nextiva.com    364 days       C0004   \n",
       "4    _gd#############                  www.wework.com    730 days       C0003   \n",
       "8    _gd#############            cdnjs.cloudflare.com    730 days       C0003   \n",
       "46   _gd#############                        j.6sc.co    730 days       C0002   \n",
       "44       AMP_unsent_#  commercial.cdn.aws.placeit.net  Persistent  statistics   \n",
       "..                ...                             ...         ...         ...   \n",
       "140   visitor_id#####               click.outreach.io   3649 days           4   \n",
       "147   visitor_id#####                   pi.pardot.com   3649 days           4   \n",
       "170   visitor_id#####                      pardot.com   3649 days           4   \n",
       "172  _gd#############                        j.6sc.co    729 days           4   \n",
       "220  _gd#############            cdnjs.cloudflare.com    729 days           4   \n",
       "\n",
       "                category          consent_mode         site   lib_name  \\\n",
       "101    Targeting Cookies  inactive landingpage  nextiva.com   onetrust   \n",
       "4     Functional Cookies         always active   wework.com   onetrust   \n",
       "8     Functional Cookies         always active   wework.com   onetrust   \n",
       "46   Performance Cookies                active   wework.com   onetrust   \n",
       "44            statistics                  None  placeit.net  cookiebot   \n",
       "..                   ...                   ...          ...        ...   \n",
       "140    Targeting Cookies                active  outreach.io   onetrust   \n",
       "147    Targeting Cookies                active  outreach.io   onetrust   \n",
       "170    Targeting Cookies                active  outreach.io   onetrust   \n",
       "172    Targeting Cookies                active  outreach.io   onetrust   \n",
       "220    Targeting Cookies                active  outreach.io   onetrust   \n",
       "\n",
       "    pattern_name consent  \n",
       "101      en.json   False  \n",
       "4        en.json    True  \n",
       "8        en.json    True  \n",
       "46       en.json   False  \n",
       "44         cc.js   False  \n",
       "..           ...     ...  \n",
       "140      en.json   False  \n",
       "147      en.json   False  \n",
       "170      en.json   False  \n",
       "172      en.json   False  \n",
       "220      en.json   False  \n",
       "\n",
       "[3487 rows x 10 columns]"
      ]
     },
     "execution_count": 6,
     "metadata": {},
     "output_type": "execute_result"
    }
   ],
   "source": [
    "# Quick checking the cookie declaration naming\n",
    "print(len(cookie_prefs[cookie_prefs.name.str.endswith('#')]) / len(cookie_prefs))\n",
    "print(len(cookie_prefs[cookie_prefs.name.str.endswith('xxx')]) / len(cookie_prefs))\n",
    "print(len(cookie_prefs[cookie_prefs.name.str.endswith('XXX')]) / len(cookie_prefs))\n",
    "cookie_prefs[cookie_prefs.name.str.endswith('#')]"
   ]
  },
  {
   "cell_type": "code",
   "execution_count": 7,
   "metadata": {},
   "outputs": [],
   "source": [
    "# # Distribution of errors\n",
    "# print(\"Libs in failed-to-crawl sites\")\n",
    "# errors.consent_lib_name.value_counts()\n",
    "# from ooutil.df_util import expand_dict_col\n",
    "# ot_errs = errors[errors.consent_lib_name == 'onetrust']\n",
    "# errors_dict = pd.DataFrame(ot_errs.error.tolist()).explode('reason')\n",
    "# # Uncomment to show\n",
    "# # errors_dict.reason.value_counts()"
   ]
  },
  {
   "cell_type": "markdown",
   "metadata": {},
   "source": [
    "# Main analysis"
   ]
  },
  {
   "cell_type": "code",
   "execution_count": 8,
   "metadata": {
    "tags": []
   },
   "outputs": [
    {
     "name": "stdout",
     "output_type": "stream",
     "text": [
      "Post rej cookie not contain consent cookie, skrill.com/postrej_0.har.xz not have cookie OptanonConsent of .skrill.com on path /\n",
      "Post rej cookie not contain consent cookie, loggly.com/postrej_0.har.xz not have cookie OptanonConsent of .www.loggly.com on path /\n",
      "Post rej cookie not contain consent cookie, lidl.com/postrej_0.har.xz not have cookie OptanonConsent of .lidl.com on path /\n",
      "Unmatch url and consent cookie domain: page_url='https://login.microsoftonline.com/44467e6f-462c-4ea2-823f-7800de5434e3/saml2?SAMLRequest=fVLLbtswEPwVgneJNEVbMmE5cGMUNZA0RqTk0EtB0auYAEW6JJW0f1%2F6FSSXnHd2ZmdmFzd%2FB4NewQftbI0nOcUIrHI7bV9q%2FNR%2Bzyp8s1wEORh2EKsx7u0j%2FBkhRJQWbRDnSY1Hb4WTQQdh5QBBRCWa1f2dYDkVB%2B%2BiU85gtAoBfExSt86GcQDfgH%2FVCp4e72q8j%2FEQBCFhr7vOGYj7XBujrdMhh91I9O5AElWvDZDTJeSowMj2oWlJ0zxgtE53aSvjycuVzrgXbfNBK%2B%2BC66OziRJy5QbCOZ%2BVMOszPmMq4yBZVrGiz8qK0h1MecGhICeDGG3WNf5dQiHLvuwkqyTv56rjczph04LOpkUHrEiwEEbY2BCljTVmlPFsQjM6b2klaCkmVV5My18YbS%2BRfNP2HPVX%2BXVnUBA%2F2nabHe1i9HytLAHwpSBxUvcfm%2FmaWF7rwMsjbJAKhE7tD4OzYtSjOua%2BIB%2FJ33%2FhZ2LbrLfOaPUPrYxxb7ceZIQaRz8CJsvL3uevWf4H&RelayState=e1s1' consent_cookie.cookie['domain']='.illinois.edu' consent_cookie.cookie['path']='/' uiuc.edu/postrej_1.har.xz\n",
      "Post rej cookie not contain consent cookie, uiuc.edu/postrej_0.har.xz not have cookie OptanonConsent of .illinois.edu on path /\n",
      "Post rej cookie not contain consent cookie, foursquare.com/postrej_4.har.xz not have cookie OptanonConsent of .foursquare.com on path /\n",
      "Unmatch url and consent cookie domain: page_url='https://play.google.com/store/apps/details?id=com.fitnow.loseit&' consent_cookie.cookie['domain']='.loseit.com' consent_cookie.cookie['path']='/' loseit.com/postrej_1.har.xz\n",
      "Post rej cookie not contain consent cookie, jixie.io/postrej_0.har.xz not have cookie OptanonConsent of .accenture.com on path /\n",
      "Post rej cookie not contain consent cookie, moonactive.net/postrej_0.har.xz not have cookie OptanonConsent of .moonactive.com on path /\n",
      "Post rej cookie not contain consent cookie, samknows.com/postrej_0.har.xz not have cookie OptanonConsent of .samknows.com on path /\n",
      "Post rej cookie not contain consent cookie, vewd.com/postrej_0.har.xz not have cookie OptanonConsent of .tivo.com on path /\n",
      "Post rej cookie not contain consent cookie, seriouseats.com/postrej_0.har.xz not have cookie OptanonConsent of .seriouseats.com on path /\n",
      "Domain path mismatch: .www.pwc.com domain's path /us not match url https://www.pwc.com/mg/en/\n",
      "Unmatch url and consent cookie domain: page_url='https://www.pwc.com/mg/en/' consent_cookie.cookie['domain']='.www.pwc.com' consent_cookie.cookie['path']='/us' pwc.com/postrej_2.har.xz\n",
      "Domain path mismatch: .www.pwc.com domain's path /us not match url https://www.pwc.com/ni/es/\n",
      "Unmatch url and consent cookie domain: page_url='https://www.pwc.com/ni/es/' consent_cookie.cookie['domain']='.www.pwc.com' consent_cookie.cookie['path']='/us' pwc.com/postrej_5.har.xz\n",
      "Domain path mismatch: .www.pwc.com domain's path /us not match url https://login.pwc.com/login/?spEntityID=https:%2F%2Fwww.pwc.com&goto=https:%2F%2Flogin.pwc.com%2Fopenam%2Fsaml2%2Fjsp%2FidpSSOInit.jsp%3FmetaAlias%3D%2Fpwc%2Fidp110%26spEntityID%3Dhttps:%2F%2Fwww.pwc.com%26redirected%3Dtrue\n",
      "Unmatch url and consent cookie domain: page_url='https://login.pwc.com/login/?spEntityID=https:%2F%2Fwww.pwc.com&goto=https:%2F%2Flogin.pwc.com%2Fopenam%2Fsaml2%2Fjsp%2FidpSSOInit.jsp%3FmetaAlias%3D%2Fpwc%2Fidp110%26spEntityID%3Dhttps:%2F%2Fwww.pwc.com%26redirected%3Dtrue' consent_cookie.cookie['domain']='.www.pwc.com' consent_cookie.cookie['path']='/us' pwc.com/postrej_1.har.xz\n",
      "Post rej cookie not contain consent cookie, geforce.com/postrej_0.har.xz not have cookie OptanonConsent of .nvidia.com on path /\n",
      "Post rej cookie not contain consent cookie, dexcom.com/postrej_0.har.xz not have cookie OptanonConsent of .dexcom.com on path /\n",
      "Post rej cookie not contain consent cookie, dexcom.com/postrej_3.har.xz not have cookie OptanonConsent of .dexcom.com on path /\n",
      "Post rej cookie not contain consent cookie, turnitin.com/postrej_0.har.xz not have cookie OptanonConsent of .turnitin.com on path /\n",
      "Post rej cookie not contain consent cookie, sheffield.ac.uk/postrej_0.har.xz not have cookie OptanonConsent of .sheffield.ac.uk on path /\n",
      "Post rej cookie not contain consent cookie, mariadb.org/postrej_5.har.xz not have cookie CookieConsent of mariadb.org on path /\n",
      "Post rej cookie not contain consent cookie, phenompeople.com/postrej_0.har.xz not have cookie OptanonConsent of .phenom.com on path /\n",
      "Domain path mismatch: .klarna.com domain's path /us/ not match url https://www.klarna.com/es/\n",
      "Unmatch url and consent cookie domain: page_url='https://www.klarna.com/es/' consent_cookie.cookie['domain']='.klarna.com' consent_cookie.cookie['path']='/us/' usehero.com/postrej_2.har.xz\n",
      "Domain path mismatch: .klarna.com domain's path /us/ not match url https://www.klarna.com/cn/\n",
      "Unmatch url and consent cookie domain: page_url='https://www.klarna.com/cn/' consent_cookie.cookie['domain']='.klarna.com' consent_cookie.cookie['path']='/us/' usehero.com/postrej_4.har.xz\n",
      "Unmatch url and consent cookie domain: page_url='https://handshake.notion.site/Handshake-brand-identity-7b0b077cc88240e2a7ec1b55400b02b0' consent_cookie.cookie['domain']='.joinhandshake.com' consent_cookie.cookie['path']='/' joinhandshake.com/postrej_1.har.xz\n",
      "Unmatch url and consent cookie domain: page_url='https://apps.apple.com/us/app/handshake-jobs-new-careers/id1220620171?pt=96161867' consent_cookie.cookie['domain']='.joinhandshake.com' consent_cookie.cookie['path']='/' joinhandshake.com/postrej_3.har.xz\n",
      "Post rej cookie not contain consent cookie, exponential.com/postrej_0.har.xz not have cookie OptanonConsent of .exponential.com on path /\n",
      "Post rej cookie not contain consent cookie, sonymobile.com/postrej_0.har.xz not have cookie OptanonConsent of .electronics.sony.com on path /\n",
      "Post rej cookie not contain consent cookie, cpanel.net/postrej_0.har.xz not have cookie CookieConsent of www.cpanel.net on path /\n",
      "Unmatch url and consent cookie domain: page_url='https://www.salesforce.com/form/quip/contact/?bc=HB' consent_cookie.cookie['domain']='.quip.com' consent_cookie.cookie['path']='/' quip.com/postrej_5.har.xz\n",
      "Post rej cookie not contain consent cookie, se.com/postrej_0.har.xz not have cookie OptanonConsent of .se.com on path /\n",
      "Error reading har file /mnt/sdd/ducbui/projects/data2/consent/2024-10-10/pref_menu_scan_0k_20k/roberthalf.com/postrej_5.har.xz: 'DataFrame' object has no attribute 'request'\n",
      "Post rej cookie not contain consent cookie, roberthalf.com/postrej_0.har.xz not have cookie OptanonConsent of .roberthalf.com on path /\n",
      "Post rej cookie not contain consent cookie, accenture.com/postrej_0.har.xz not have cookie OptanonConsent of .accenture.com on path /\n",
      "Unmatch url and consent cookie domain: page_url='https://portal.notified.com/en/registration' consent_cookie.cookie['domain']='.globenewswire.com' consent_cookie.cookie['path']='/' globenewswire.com/postrej_3.har.xz\n",
      "Post rej cookie not contain consent cookie, schneider-electric.com/postrej_2.har.xz not have cookie OptanonConsent of .se.com on path /\n",
      "Post rej cookie not contain consent cookie, schneider-electric.com/postrej_0.har.xz not have cookie OptanonConsent of .se.com on path /\n",
      "Post rej cookie not contain consent cookie, docker.com/postrej_2.har.xz not have cookie OptanonConsent of .docker.com on path /\n",
      "Unmatch url and consent cookie domain: page_url='https://www.siriusxmmedia.com/siriusxm-ads' consent_cookie.cookie['domain']='.www.siriusxm.com' consent_cookie.cookie['path']='/' siriusxm.com/postrej_4.har.xz\n",
      "Post rej cookie not contain consent cookie, thoughtco.com/postrej_0.har.xz not have cookie OptanonConsent of .thoughtco.com on path /\n",
      "Post rej cookie not contain consent cookie, ic.ac.uk/postrej_0.har.xz not have cookie OptanonConsent of .imperial.ac.uk on path /\n",
      "Post rej cookie not contain consent cookie, eyeo.com/postrej_0.har.xz not have cookie OptanonConsent of .eyeo.com on path /\n",
      "Post rej cookie not contain consent cookie, penguin.co.uk/postrej_0.har.xz not have cookie OptanonConsent of .penguin.co.uk on path /\n",
      "Post rej cookie not contain consent cookie, vertamedia.com/postrej_0.har.xz not have cookie OptanonConsent of .adtelligent.com on path /\n",
      "Post rej cookie not contain consent cookie, questionpro.com/postrej_0.har.xz not have cookie OptanonConsent of .questionpro.com on path /\n",
      "Post rej cookie not contain consent cookie, spglobal.com/postrej_0.har.xz not have cookie OptanonConsent of .spglobal.com on path /\n",
      "Domain path mismatch: .www.basf.com domain's path /us/ not match url https://www.basf.com/global/en/investors\n",
      "Unmatch url and consent cookie domain: page_url='https://www.basf.com/global/en/investors' consent_cookie.cookie['domain']='.www.basf.com' consent_cookie.cookie['path']='/us/' basf.com/postrej_1.har.xz\n",
      "Domain path mismatch: .www.basf.com domain's path /us/ not match url https://www.basf.com/global/en/media/news-releases/2020/07/p-20-260\n",
      "Unmatch url and consent cookie domain: page_url='https://www.basf.com/global/en/media/news-releases/2020/07/p-20-260' consent_cookie.cookie['domain']='.www.basf.com' consent_cookie.cookie['path']='/us/' basf.com/postrej_3.har.xz\n",
      "Post rej cookie not contain consent cookie, yoti.com/postrej_0.har.xz not have cookie OptanonConsent of www.yoti.com on path /\n",
      "Post rej cookie not contain consent cookie, bromium-online.com/postrej_0.har.xz not have cookie OptanonConsent of .hpwolf.com on path /\n",
      "Post rej cookie not contain consent cookie, bromium-online.com/postrej_3.har.xz not have cookie OptanonConsent of .hpwolf.com on path /\n",
      "Post rej cookie not contain consent cookie, bromium-online.com/postrej_4.har.xz not have cookie OptanonConsent of .hpwolf.com on path /\n",
      "Post rej cookie not contain consent cookie, ucc.ie/postrej_0.har.xz not have cookie OptanonConsent of .www.ucc.ie on path /\n",
      "Post rej cookie not contain consent cookie, hidemyass.com/postrej_0.har.xz not have cookie OptanonConsent of .hidemyass.com on path /\n",
      "Post rej cookie not contain consent cookie, qualys.eu/postrej_0.har.xz not have cookie CookieConsent of www.qualys.com on path /\n",
      "Post rej cookie not contain consent cookie, kandji.io/postrej_5.har.xz not have cookie OptanonConsent of .kandji.io on path /\n",
      "Unmatch url and consent cookie domain: page_url='https://www.ampplaybook.com/' consent_cookie.cookie['domain']='.pandora.com' consent_cookie.cookie['path']='/' pandora.com/postrej_4.har.xz\n",
      "Post rej cookie not contain consent cookie, vfsglobal.com/postrej_0.har.xz not have cookie OptanonConsent of .vfsglobal.com on path /\n",
      "Error reading har file /mnt/sdd/ducbui/projects/data2/consent/2024-10-10/pref_menu_scan_0k_20k/polycom.com/postrej_3.har.xz: 'DataFrame' object has no attribute 'request'\n",
      "Unmatch url and consent cookie domain: page_url='https://www.inmarsat.com/en/solutions-services/maritime.html' consent_cookie.cookie['domain']='.viasat.com' consent_cookie.cookie['path']='/' viasat.com/postrej_1.har.xz\n",
      "Unmatch url and consent cookie domain: page_url='https://www.surveymonkey.com/mp/survey-templates/' consent_cookie.cookie['domain']='.www.research.net' consent_cookie.cookie['path']='/' research.net/postrej_2.har.xz\n",
      "Unmatch url and consent cookie domain: page_url='https://www.surveymonkey.com/about/imprint/' consent_cookie.cookie['domain']='.www.research.net' consent_cookie.cookie['path']='/' research.net/postrej_5.har.xz\n",
      "Unmatch url and consent cookie domain: page_url='https://www.surveymonkey.com/mp/margin-of-error-calculator/' consent_cookie.cookie['domain']='.www.research.net' consent_cookie.cookie['path']='/' research.net/postrej_1.har.xz\n",
      "Unmatch url and consent cookie domain: page_url='https://www.surveymonkey.com/mp/how-to-create-surveys/' consent_cookie.cookie['domain']='.www.research.net' consent_cookie.cookie['path']='/' research.net/postrej_3.har.xz\n",
      "Unmatch url and consent cookie domain: page_url='https://www.surveymonkey.com/use-cases/online-quiz/' consent_cookie.cookie['domain']='.www.research.net' consent_cookie.cookie['path']='/' research.net/postrej_4.har.xz\n",
      "Unmatch url and consent cookie domain: page_url='https://rc.my.site.com/RCPartnerProgram/s/login/?language=en_US' consent_cookie.cookie['domain']='.ringcentral.com' consent_cookie.cookie['path']='/' ringcentral.com/postrej_1.har.xz\n",
      "Error reading har file /mnt/sdd/ducbui/projects/data2/consent/2024-10-10/pref_menu_scan_0k_20k/tcs.com/postrej_1.har.xz: 'DataFrame' object has no attribute 'request'\n",
      "Post rej cookie not contain consent cookie, tcs.com/postrej_0.har.xz not have cookie OptanonConsent of .tcs.com on path /\n",
      "Post rej cookie not contain consent cookie, imperial.ac.uk/postrej_0.har.xz not have cookie OptanonConsent of .imperial.ac.uk on path /\n",
      "Post rej cookie not contain consent cookie, cpanel.com/postrej_0.har.xz not have cookie CookieConsent of cpanel.net on path /\n",
      "Post rej cookie not contain consent cookie, hyprmx.com/postrej_0.har.xz not have cookie OptanonConsent of .hyprmx.com on path /\n",
      "Post rej cookie not contain consent cookie, sc.com/postrej_0.har.xz not have cookie OptanonConsent of .sc.com on path /en/\n",
      "Post rej cookie not contain consent cookie, thespruceeats.com/postrej_0.har.xz not have cookie OptanonConsent of .thespruceeats.com on path /\n",
      "Post rej cookie not contain consent cookie, pingdom.com/postrej_0.har.xz not have cookie OptanonConsent of .www.pingdom.com on path /\n",
      "Post rej cookie not contain consent cookie, kodak.com/postrej_0.har.xz not have cookie OptanonConsent of .www.kodak.com on path /\n",
      "Domain path mismatch: .sage.com domain's path /en-za/ not match url https://www.sage.com/fr-fr/sage-business-cloud/compta-facturation/\n",
      "Unmatch url and consent cookie domain: page_url='https://www.sage.com/fr-fr/sage-business-cloud/compta-facturation/' consent_cookie.cookie['domain']='.sage.com' consent_cookie.cookie['path']='/en-za/' sageone.co.za/postrej_5.har.xz\n",
      "Post rej cookie not contain consent cookie, kaercher.com/postrej_0.har.xz not have cookie OptanonConsent of .kaercher.com on path /int/\n",
      "Post rej cookie not contain consent cookie, sanofi-synthelabo.com/postrej_0.har.xz not have cookie OptanonConsent of .www.sanofi.com on path /\n",
      "Post rej cookie not contain consent cookie, o2.co.uk/postrej_0.har.xz not have cookie OptanonConsent of www.o2.co.uk on path /\n",
      "Unmatch url and consent cookie domain: page_url='https://www.facebook.com/MicronTechUSA' consent_cookie.cookie['domain']='.micron.com' consent_cookie.cookie['path']='/' micron.com/postrej_4.har.xz\n",
      "Post rej cookie not contain consent cookie, merck.com/postrej_0.har.xz not have cookie OptanonConsent of .merck.com on path /\n",
      "Error reading har file /mnt/sdd/ducbui/projects/data2/consent/2024-10-10/pref_menu_scan_0k_20k/barclaycardus.com/postrej_1.har.xz: 'DataFrame' object has no attribute 'request'\n",
      "Post rej cookie not contain consent cookie, pb.com/postrej_0.har.xz not have cookie OptanonConsent of .pitneybowes.com on path /us\n",
      "Domain path mismatch: .pitneybowes.com domain's path /us not match url https://web.pitneybowes.com/dns/dns-form\n",
      "Unmatch url and consent cookie domain: page_url='https://web.pitneybowes.com/dns/dns-form' consent_cookie.cookie['domain']='.pitneybowes.com' consent_cookie.cookie['path']='/us' pb.com/postrej_3.har.xz\n",
      "Post rej cookie not contain consent cookie, plaid.com/postrej_0.har.xz not have cookie OptanonConsent of .plaid.com on path /\n",
      "Post rej cookie not contain consent cookie, purechat.com/postrej_0.har.xz not have cookie OptanonConsent of .purechat.com on path /\n",
      "Error reading har file /mnt/sdd/ducbui/projects/data2/consent/2024-10-10/pref_menu_scan_0k_20k/avast.com/postrej_2.har.xz: 'DataFrame' object has no attribute 'request'\n",
      "Unmatch url and consent cookie domain: page_url='https://apps.apple.com/us/app/avast-security-privacy/id1276551855' consent_cookie.cookie['domain']='.avast.com' consent_cookie.cookie['path']='/' avast.com/postrej_1.har.xz\n",
      "Cannot read /mnt/sdd/ducbui/projects/data2/consent/2024-10-10/pref_menu_scan_0k_20k/givesmart.com/log.json: [Errno 2] No such file or directory: '/mnt/sdd/ducbui/projects/data2/consent/2024-10-10/pref_menu_scan_0k_20k/givesmart.com/log.json'\n",
      "Unmatch url and consent cookie domain: page_url='https://www.tntsports.co.uk/geoblocking.shtml' consent_cookie.cookie['domain']='.bt.com' consent_cookie.cookie['path']='/' bt.com/postrej_2.har.xz\n",
      "Error reading har file /mnt/sdd/ducbui/projects/data2/consent/2024-10-10/pref_menu_scan_0k_20k/winzip.com/postrej_5.har.xz: 'DataFrame' object has no attribute 'request'\n",
      "Post rej cookie not contain consent cookie, unaids.org/postrej_0.har.xz not have cookie CookieConsent of www.unaids.org on path /\n",
      "Post rej cookie not contain consent cookie, nhl.com/postrej_4.har.xz not have cookie OptanonConsent of .nhl.com on path /\n",
      "Unmatch url and consent cookie domain: page_url='https://jobs.ashbyhq.com/sleeper' consent_cookie.cookie['domain']='.sleeper.com' consent_cookie.cookie['path']='/' sleeper.app/postrej_1.har.xz\n",
      "Post rej cookie not contain consent cookie, showtime.com/postrej_0.har.xz not have cookie OptanonConsent of .paramountpluswithshowtime.com on path /\n",
      "Post rej cookie not contain consent cookie, ew.com/postrej_0.har.xz not have cookie OptanonConsent of .ew.com on path /\n",
      "Post rej cookie not contain consent cookie, sumologic.com/postrej_0.har.xz not have cookie OptanonConsent of .sumologic.com on path /\n",
      "Unmatch url and consent cookie domain: page_url='https://www.opentext.com/about' consent_cookie.cookie['domain']='.hightail.com' consent_cookie.cookie['path']='/' hightail.com/postrej_1.har.xz\n",
      "Post rej cookie not contain consent cookie, duosecurity.com/postrej_0.har.xz not have cookie OptanonConsent of .duo.com on path /\n",
      "Unmatch url and consent cookie domain: page_url='https://nielseniq.com/global/en/products/' consent_cookie.cookie['domain']='.www.gfk.com' consent_cookie.cookie['path']='/' gfk.com/postrej_5.har.xz\n",
      "Unmatch url and consent cookie domain: page_url='https://nielseniq.com/global/en/' consent_cookie.cookie['domain']='.www.gfk.com' consent_cookie.cookie['path']='/' gfk.com/postrej_3.har.xz\n",
      "Unmatch url and consent cookie domain: page_url='https://nielseniq.com/global/en/insights/analysis/2023/decoding-campaign-measurement-success-beyond-sales-metrics/' consent_cookie.cookie['domain']='.www.gfk.com' consent_cookie.cookie['path']='/' gfk.com/postrej_4.har.xz\n",
      "Post rej cookie not contain consent cookie, lifewire.com/postrej_0.har.xz not have cookie OptanonConsent of .lifewire.com on path /\n",
      "Error reading har file /mnt/sdd/ducbui/projects/data2/consent/2024-10-10/pref_menu_scan_0k_20k/verkada.com/postrej_2.har.xz: Expecting ':' delimiter: line 1 column 155208 (char 155207)\n",
      "Unmatch url and consent cookie domain: page_url='https://www.appily.com/virtual-college-tours?utm_source=referral&utm_medium=youvisit' consent_cookie.cookie['domain']='.www.youvisit.com' consent_cookie.cookie['path']='/' youvisit.com/postrej_5.har.xz\n",
      "Unmatch url and consent cookie domain: page_url='https://eab.app.box.com/s/ig1xoav1pag3q3af1k812bdthzfyhcwn' consent_cookie.cookie['domain']='.www.youvisit.com' consent_cookie.cookie['path']='/' youvisit.com/postrej_3.har.xz\n",
      "Post rej cookie not contain consent cookie, fonts.com/postrej_0.har.xz not have cookie OptanonConsent of .www.fonts.com on path /\n",
      "Unmatch url and consent cookie domain: page_url='https://virtualexperience.kent.ac.uk/' consent_cookie.cookie['domain']='www.kent.ac.uk' consent_cookie.cookie['path']='/' kent.ac.uk/postrej_1.har.xz\n",
      "Unmatch url and consent cookie domain: page_url='https://coxcodeofconduct.com/' consent_cookie.cookie['domain']='.coxautoinc.com' consent_cookie.cookie['path']='/' coxautoinc.com/postrej_5.har.xz\n",
      "Unmatch url and consent cookie domain: page_url='https://cornerstonehelphub.com/' consent_cookie.cookie['domain']='.www.idexx.com' consent_cookie.cookie['path']='/' idexx.com/postrej_2.har.xz\n",
      "Post rej cookie not contain consent cookie, fonts.net/postrej_0.har.xz not have cookie OptanonConsent of .www.fonts.com on path /\n",
      "Post rej cookie not contain consent cookie, verywellmind.com/postrej_4.har.xz not have cookie OptanonConsent of .verywellmind.com on path /\n",
      "Post rej cookie not contain consent cookie, haydaygame.com/postrej_2.har.xz not have cookie OptanonConsent of .hayday.com on path /\n",
      "Post rej cookie not contain consent cookie, haydaygame.com/postrej_1.har.xz not have cookie OptanonConsent of .hayday.com on path /\n",
      "Post rej cookie not contain consent cookie, haydaygame.com/postrej_0.har.xz not have cookie OptanonConsent of .hayday.com on path /\n",
      "Unmatch url and consent cookie domain: page_url='https://jobs.jobvite.com/pulsepoint' consent_cookie.cookie['domain']='.pulsepoint.com' consent_cookie.cookie['path']='/' contextweb.com/postrej_3.har.xz\n",
      "Post rej cookie not contain consent cookie, sho.com/postrej_0.har.xz not have cookie OptanonConsent of .paramountpluswithshowtime.com on path /\n",
      "Unmatch url and consent cookie domain: page_url='https://feeds.feedburner.com/OLD-WordOfTheDay' consent_cookie.cookie['domain']='.oxfordlearnersdictionaries.com' consent_cookie.cookie['path']='/' oxfordlearnersdictionaries.com/postrej_1.har.xz\n",
      "Domain path mismatch: .kpmg.com domain's path /xx not match url https://kpmg.com/kz/ru/home.html\n",
      "Unmatch url and consent cookie domain: page_url='https://kpmg.com/kz/ru/home.html' consent_cookie.cookie['domain']='.kpmg.com' consent_cookie.cookie['path']='/xx' kpmg.com/postrej_2.har.xz\n",
      "Domain path mismatch: .kpmg.com domain's path /xx not match url https://kpmg.com/za/en/home.html\n",
      "Unmatch url and consent cookie domain: page_url='https://kpmg.com/za/en/home.html' consent_cookie.cookie['domain']='.kpmg.com' consent_cookie.cookie['path']='/xx' kpmg.com/postrej_5.har.xz\n",
      "Domain path mismatch: .kpmg.com domain's path /xx not match url https://kpmg.com/ge/en/home.html\n",
      "Unmatch url and consent cookie domain: page_url='https://kpmg.com/ge/en/home.html' consent_cookie.cookie['domain']='.kpmg.com' consent_cookie.cookie['path']='/xx' kpmg.com/postrej_1.har.xz\n",
      "Post rej cookie not contain consent cookie, kpmg.com/postrej_0.har.xz not have cookie OptanonConsent of .kpmg.com on path /xx\n",
      "Domain path mismatch: .kpmg.com domain's path /xx not match url https://kpmg.com/rs/en/home.html\n",
      "Unmatch url and consent cookie domain: page_url='https://kpmg.com/rs/en/home.html' consent_cookie.cookie['domain']='.kpmg.com' consent_cookie.cookie['path']='/xx' kpmg.com/postrej_3.har.xz\n",
      "Domain path mismatch: .kpmg.com domain's path /xx not match url https://kpmg.com/hu/en/home.html\n",
      "Unmatch url and consent cookie domain: page_url='https://kpmg.com/hu/en/home.html' consent_cookie.cookie['domain']='.kpmg.com' consent_cookie.cookie['path']='/xx' kpmg.com/postrej_4.har.xz\n",
      "Unmatch url and consent cookie domain: page_url='https://partner.thetradedesk.com/v3/homepage' consent_cookie.cookie['domain']='.www.thetradedesk.com' consent_cookie.cookie['path']='/' uidapi.com/postrej_4.har.xz\n",
      "Post rej cookie not contain consent cookie, tide.co/postrej_0.har.xz not have cookie OptanonConsent of .www.tide.co on path /\n",
      "Post rej cookie not contain consent cookie, lavasoft.com/postrej_0.har.xz not have cookie OptanonConsent of .adaware.com on path /\n",
      "Post rej cookie not contain consent cookie, refinitiv.com/postrej_0.har.xz not have cookie OptanonConsent of .www.lseg.com on path /\n",
      "Unmatch url and consent cookie domain: page_url='https://careers.kaspersky.com/' consent_cookie.cookie['domain']='usa.kaspersky.com' consent_cookie.cookie['path']='/' kaspersky-labs.com/postrej_5.har.xz\n",
      "Post rej cookie not contain consent cookie, kaspersky-labs.com/postrej_0.har.xz not have cookie CookieConsent of usa.kaspersky.com on path /\n",
      "Unmatch url and consent cookie domain: page_url='https://www.atlassian.com/software/bitbucket/pricing' consent_cookie.cookie['domain']='.bitbucket.org' consent_cookie.cookie['path']='/' bitbucket.org/postrej_4.har.xz\n",
      "Post rej cookie not contain consent cookie, ucd.ie/postrej_0.har.xz not have cookie OptanonConsent of .ucd.ie on path /\n",
      "Error reading har file /mnt/sdd/ducbui/projects/data2/consent/2024-10-10/pref_menu_scan_0k_20k/cambiumnetworks.com/postrej_2.har.xz: 'DataFrame' object has no attribute 'request'\n",
      "Unmatch url and consent cookie domain: page_url='https://reprint.forrester.com/reports/the-forrester-wavetm-email-marketing-service-providers-q3-2024-f25f8ab8/index.html' consent_cookie.cookie['domain']='.cordial.com' consent_cookie.cookie['path']='/' cordial.com/postrej_1.har.xz\n",
      "Post rej cookie not contain consent cookie, platformsh.site/postrej_0.har.xz not have cookie OptanonConsent of .platform.sh on path /\n",
      "Post rej cookie not contain consent cookie, bet.com/postrej_0.har.xz not have cookie OptanonConsent of .bet.com on path /\n",
      "Post rej cookie not contain consent cookie, sendbird.com/postrej_2.har.xz not have cookie OptanonConsent of .sendbird.com on path /\n",
      "Post rej cookie not contain consent cookie, sendbird.com/postrej_5.har.xz not have cookie OptanonConsent of .sendbird.com on path /\n",
      "Post rej cookie not contain consent cookie, sendbird.com/postrej_1.har.xz not have cookie OptanonConsent of .sendbird.com on path /\n",
      "Post rej cookie not contain consent cookie, sendbird.com/postrej_3.har.xz not have cookie OptanonConsent of .sendbird.com on path /\n",
      "Post rej cookie not contain consent cookie, sendbird.com/postrej_4.har.xz not have cookie OptanonConsent of .sendbird.com on path /\n",
      "Post rej cookie not contain consent cookie, verywellfit.com/postrej_0.har.xz not have cookie OptanonConsent of .verywellfit.com on path /\n",
      "Error reading har file /mnt/sdd/ducbui/projects/data2/consent/2024-10-10/pref_menu_scan_0k_20k/hp.com/postrej_1.har.xz: 'DataFrame' object has no attribute 'request'\n",
      "Unmatch url and consent cookie domain: page_url='https://tivo.pactsafe.io/legal.html#cookies-policy' consent_cookie.cookie['domain']='.tivo.com' consent_cookie.cookie['path']='/' tivo.com/postrej_1.har.xz\n",
      "Post rej cookie not contain consent cookie, qualys.com/postrej_0.har.xz not have cookie CookieConsent of www.qualys.com on path /\n",
      "Unmatch url and consent cookie domain: page_url='https://id.condenast.com/oidc/auth?client_id=condenast.identity.01f7407d302523dddc3622fc685ebdf1&response_type=code&scope=openid+offline_access&redirect_uri=https%3A%2F%2Fwww.architecturaldigest.com%2Fauth%2Fcomplete&state=%7B%22redirectURL%22%3A%22%2Faccount%2Flink%22%7D&prompt=select_account+consent&xid=cc356bec-5790-48e8-8943-57b086d874a1' consent_cookie.cookie['domain']='.architecturaldigest.com' consent_cookie.cookie['path']='/' architecturaldigest.com/postrej_3.har.xz\n",
      "Post rej cookie not contain consent cookie, jedox.com/postrej_0.har.xz not have cookie CookieConsent of www.jedox.com on path /\n",
      "Unmatch url and consent cookie domain: page_url='https://lp.provenexpert.com/en/provenexpert-demo-tour' consent_cookie.cookie['domain']='www.provenexpert.com' consent_cookie.cookie['path']='/' provenexpert.com/postrej_2.har.xz\n",
      "Error reading har file /mnt/sdd/ducbui/projects/data2/consent/2024-10-10/pref_menu_scan_0k_20k/comcast.com/postrej_1.har.xz: 'DataFrame' object has no attribute 'request'\n",
      "Unmatch url and consent cookie domain: page_url='https://www.walesonline.co.uk/' consent_cookie.cookie['domain']='www.fish4.co.uk' consent_cookie.cookie['path']='/' walesonline.co.uk/postrej_0.har.xz\n",
      "Post rej cookie not contain consent cookie, illinois.edu/postrej_0.har.xz not have cookie OptanonConsent of .illinois.edu on path /\n",
      "Post rej cookie not contain consent cookie, cbsnews.com/postrej_2.har.xz not have cookie OptanonConsent of .cbsnews.com on path /\n",
      "Post rej cookie not contain consent cookie, cbsnews.com/postrej_5.har.xz not have cookie OptanonConsent of .cbsnews.com on path /\n",
      "Post rej cookie not contain consent cookie, cbsnews.com/postrej_0.har.xz not have cookie OptanonConsent of .cbsnews.com on path /\n",
      "Post rej cookie not contain consent cookie, nngroup.com/postrej_0.har.xz not have cookie CookieConsent of www.nngroup.com on path /\n",
      "Post rej cookie not contain consent cookie, auctollo.com/postrej_2.har.xz not have cookie CookieConsent of auctollo.com on path /\n",
      "Post rej cookie not contain consent cookie, auctollo.com/postrej_0.har.xz not have cookie CookieConsent of auctollo.com on path /\n",
      "Post rej cookie not contain consent cookie, zdnet.com/postrej_0.har.xz not have cookie OptanonConsent of .zdnet.com on path /\n",
      "Post rej cookie not contain consent cookie, duo.com/postrej_0.har.xz not have cookie OptanonConsent of .duo.com on path /\n",
      "Post rej cookie not contain consent cookie, ipl.org/postrej_0.har.xz not have cookie OptanonConsent of .ipl.org on path /\n",
      "Unmatch url and consent cookie domain: page_url='https://www.zoom.com/en/industry/government/' consent_cookie.cookie['domain']='.zoom.us' consent_cookie.cookie['path']='/' zoom.us/postrej_5.har.xz\n",
      "Post rej cookie not contain consent cookie, marthastewart.com/postrej_0.har.xz not have cookie OptanonConsent of .marthastewart.com on path /\n",
      "Unmatch url and consent cookie domain: page_url='https://www.opentext.com/partners/find-an-opentext-partner' consent_cookie.cookie['domain']='.www.microfocus.com' consent_cookie.cookie['path']='/' microfocus.com/postrej_5.har.xz\n",
      "Error reading har file /mnt/sdd/ducbui/projects/data2/consent/2024-10-10/pref_menu_scan_0k_20k/tcd.ie/postrej_4.har.xz: 'DataFrame' object has no attribute 'request'\n",
      "Error reading har file /mnt/sdd/ducbui/projects/data2/consent/2024-10-10/pref_menu_scan_0k_20k/forrester.com/postrej_5.har.xz: 'DataFrame' object has no attribute 'request'\n",
      "Unmatch url and consent cookie domain: page_url='https://www.inscape.tv/' consent_cookie.cookie['domain']='.www.vizio.com' consent_cookie.cookie['path']='/' vizio.com/postrej_2.har.xz\n",
      "Post rej cookie not contain consent cookie, vizio.com/postrej_0.har.xz not have cookie OptanonConsent of .www.vizio.com on path /\n",
      "Unmatch url and consent cookie domain: page_url='https://www.sony.co.uk/headphones/1000x-series?cid=sco-ww-glb-151' consent_cookie.cookie['domain']='.www.sony.net' consent_cookie.cookie['path']='/' sony.net/postrej_2.har.xz\n",
      "Post rej cookie not contain consent cookie, nolo.com/postrej_0.har.xz not have cookie OptanonConsent of .nolo.com on path /\n",
      "Post rej cookie not contain consent cookie, dow.com/postrej_0.har.xz not have cookie OptanonConsent of .dow.com on path /\n",
      "Domain path mismatch: .coca-cola.com domain's path /us/en not match url https://www.coca-cola.com/country-selector\n",
      "Unmatch url and consent cookie domain: page_url='https://www.coca-cola.com/country-selector' consent_cookie.cookie['domain']='.coca-cola.com' consent_cookie.cookie['path']='/us/en' coca-cola.com/postrej_5.har.xz\n",
      "Unmatch url and consent cookie domain: page_url='https://account.prusa3d.com/login/?next=/o/authorize/%3Fclient_id%3DEK15sodB6SmoUXmOshtCBS4PA3Bkvwgwnb8Ux5Mj%26response_type%3Dcode%26code_challenge%3D83U_ZJUPgB261w2KYlncCi5Vg49oW8IIASeOPLNIizg%26code_challenge_method%3DS256%26scope%3Dbasic_info%26redirect_uri%3Dhttps%253A%252F%252Fwww.printables.com%252Flogin%253Fstate%253D9448a52c9186' consent_cookie.cookie['domain']='.printables.com' consent_cookie.cookie['path']='/' printables.com/postrej_1.har.xz\n",
      "Post rej cookie not contain consent cookie, nbc.com/postrej_0.har.xz not have cookie OptanonConsent of .nbc.com on path /\n",
      "Cannot read /mnt/sdd/ducbui/projects/data2/consent/2024-10-10/pref_menu_scan_0k_20k/funcom.com/log.json: [Errno 2] No such file or directory: '/mnt/sdd/ducbui/projects/data2/consent/2024-10-10/pref_menu_scan_0k_20k/funcom.com/log.json'\n",
      "Post rej cookie not contain consent cookie, thefa.com/postrej_0.har.xz not have cookie OptanonConsent of .www.thefa.com on path /\n",
      "Unmatch url and consent cookie domain: page_url='https://www.voxmedia.com/pages/careers-jobs' consent_cookie.cookie['domain']='.nymag.com' consent_cookie.cookie['path']='/' nymag.com/postrej_4.har.xz\n",
      "Post rej cookie not contain consent cookie, nielsen.com/postrej_0.har.xz not have cookie OptanonConsent of .nielsen.com on path /\n",
      "Error reading har file /mnt/sdd/ducbui/projects/data2/consent/2024-10-10/pref_menu_scan_0k_20k/vmware.com/postrej_5.har.xz: 'DataFrame' object has no attribute 'request'\n",
      "Post rej cookie not contain consent cookie, chaosgroup.com/postrej_2.har.xz not have cookie OptanonConsent of .chaos.com on path /\n",
      "Post rej cookie not contain consent cookie, chaosgroup.com/postrej_5.har.xz not have cookie OptanonConsent of .chaos.com on path /\n",
      "Post rej cookie not contain consent cookie, chaosgroup.com/postrej_1.har.xz not have cookie OptanonConsent of .chaos.com on path /\n",
      "Post rej cookie not contain consent cookie, chaosgroup.com/postrej_0.har.xz not have cookie OptanonConsent of .chaos.com on path /\n",
      "Post rej cookie not contain consent cookie, chaosgroup.com/postrej_3.har.xz not have cookie OptanonConsent of .chaos.com on path /\n",
      "Post rej cookie not contain consent cookie, chaosgroup.com/postrej_4.har.xz not have cookie OptanonConsent of .chaos.com on path /\n",
      "Unmatch url and consent cookie domain: page_url='https://centres.weforum.org/centre-for-new-economy-and-society' consent_cookie.cookie['domain']='www.weforum.org' consent_cookie.cookie['path']='/' weforum.org/postrej_5.har.xz\n",
      "Unmatch url and consent cookie domain: page_url='https://centres.weforum.org/centre-for-the-fourth-industrial-revolution' consent_cookie.cookie['domain']='www.weforum.org' consent_cookie.cookie['path']='/' weforum.org/postrej_1.har.xz\n",
      "Post rej cookie not contain consent cookie, malwarebytes.com/postrej_0.har.xz not have cookie OptanonConsent of .malwarebytes.com on path /\n",
      "Unmatch url and consent cookie domain: page_url='https://careers.unity.com/' consent_cookie.cookie['domain']='.is.com' consent_cookie.cookie['path']='/' tapjoy.com/postrej_3.har.xz\n",
      "Unmatch url and consent cookie domain: page_url='https://login3.id.hp.com/login3/sign-up' consent_cookie.cookie['domain']='.hpsmart.com' consent_cookie.cookie['path']='/' hpsmart.com/postrej_1.har.xz\n",
      "Cannot read /mnt/sdd/ducbui/projects/data2/consent/2024-10-10/pref_menu_scan_0k_20k/sharechat.com/log.json: [Errno 2] No such file or directory: '/mnt/sdd/ducbui/projects/data2/consent/2024-10-10/pref_menu_scan_0k_20k/sharechat.com/log.json'\n",
      "Unmatch url and consent cookie domain: page_url='https://download.battle.net/en-us/desktop' consent_cookie.cookie['domain']='.blizzard.com' consent_cookie.cookie['path']='/' blizzard.com/postrej_4.har.xz\n",
      "Post rej cookie not contain consent cookie, amplifi.com/postrej_0.har.xz not have cookie OptanonConsent of .amplifi.com on path /\n",
      "Post rej cookie not contain consent cookie, simplyrecipes.com/postrej_0.har.xz not have cookie OptanonConsent of .simplyrecipes.com on path /\n",
      "Post rej cookie not contain consent cookie, uic.edu/postrej_0.har.xz not have cookie OptanonConsent of .uic.edu on path /\n",
      "Unmatch url and consent cookie domain: page_url='https://www.take2games.com/cookiepolicy/' consent_cookie.cookie['domain']='.socialpoint.es' consent_cookie.cookie['path']='/' weplaydots.com/postrej_4.har.xz\n",
      "Domain path mismatch: .chubb.com domain's path /us-en not match url https://www.chubb.com/pr-es/\n",
      "Unmatch url and consent cookie domain: page_url='https://www.chubb.com/pr-es/' consent_cookie.cookie['domain']='.chubb.com' consent_cookie.cookie['path']='/us-en' chubb.com/postrej_2.har.xz\n",
      "Post rej cookie not contain consent cookie, kaspersky.com/postrej_0.har.xz not have cookie CookieConsent of usa.kaspersky.com on path /\n",
      "Post rej cookie not contain consent cookie, ora.com/postrej_2.har.xz not have cookie OptanonConsent of .oreilly.com on path /\n",
      "Domain path mismatch: .westernunion.com domain's path /us not match url https://wuprod.service-now.com/wu_privacy\n",
      "Unmatch url and consent cookie domain: page_url='https://wuprod.service-now.com/wu_privacy' consent_cookie.cookie['domain']='.westernunion.com' consent_cookie.cookie['path']='/us' westernunion.com/postrej_2.har.xz\n",
      "Post rej cookie not contain consent cookie, westernunion.com/postrej_0.har.xz not have cookie OptanonConsent of .westernunion.com on path /us\n",
      "Domain path mismatch: .westernunion.com domain's path /us not match url https://agentportal.westernunion.com/ap/agentregister.do?pid=usFtBecomeAgent\n",
      "Unmatch url and consent cookie domain: page_url='https://agentportal.westernunion.com/ap/agentregister.do?pid=usFtBecomeAgent' consent_cookie.cookie['domain']='.westernunion.com' consent_cookie.cookie['path']='/us' westernunion.com/postrej_4.har.xz\n",
      "Error reading har file /mnt/sdd/ducbui/projects/data2/consent/2024-10-10/pref_menu_scan_0k_20k/brightcloud.com/postrej_1.har.xz: 'DataFrame' object has no attribute 'request'\n",
      "Error reading har file /mnt/sdd/ducbui/projects/data2/consent/2024-10-10/pref_menu_scan_0k_20k/brightcloud.com/postrej_4.har.xz: 'DataFrame' object has no attribute 'request'\n",
      "Post rej cookie not contain consent cookie, codecanyon.net/postrej_0.har.xz not have cookie CookieConsent of codecanyon.net on path /\n",
      "Post rej cookie not contain consent cookie, forter.com/postrej_0.har.xz not have cookie OptanonConsent of .forter.com on path /\n",
      "Post rej cookie not contain consent cookie, stitcher.com/postrej_5.har.xz not have cookie OptanonConsent of .www.stitcher.com on path /\n",
      "Post rej cookie not contain consent cookie, cc.com/postrej_0.har.xz not have cookie OptanonConsent of .cc.com on path /\n",
      "Unmatch url and consent cookie domain: page_url='https://accounts.icc-cricket.com/4ba9f276-2497-440e-a6ba-d05d4831b967/b2c_1a_signinsignup/oauth2/v2.0/authorize?client_id=36da6054-8552-4015-a6b2-b7b6906fd4ab&scope=profile%20openid%20offline_access%20https%3A%2F%2Ficcprdlogin.onmicrosoft.com%2Fapi%2Fcatalogue.read%20openid%20profile%20offline_access&redirect_uri=https%3A%2F%2Fwww.icc-cricket.com%2Fsignin&client-request-id=e0b896f9-eb95-4671-ae40-230c5b8af31c&response_mode=fragment&response_type=code&x-client-SKU=msal.js.browser&x-client-VER=2.38.4&client_info=1&code_challenge=y8H_TMfKApadGMpKP9WYMkVgDbkcu3IEhN-OqYZLrbQ&code_challenge_method=S256&nonce=8c1306a3-b5b0-4c70-a8f0-1cb824684d02&state=eyJpZCI6ImIyY2YyOGI4LWI0YjMtNDk4NC1hYWU5LTBiOWExZDg2MmY5MCIsIm1ldGEiOnsiaW50ZXJhY3Rpb25UeXBlIjoicmVkaXJlY3QifX0%3D' consent_cookie.cookie['domain']='.www.icc-cricket.com' consent_cookie.cookie['path']='/' icc-cricket.com/postrej_2.har.xz\n",
      "Unmatch url and consent cookie domain: page_url='https://www.zoom.com/en/accessibility/' consent_cookie.cookie['domain']='.zoom.us' consent_cookie.cookie['path']='/' zoom.com/postrej_1.har.xz\n",
      "Unmatch url and consent cookie domain: page_url='https://www.wolterskluwer.com/en/solutions/uptodate/resources/webinars' consent_cookie.cookie['domain']='.uptodate.com' consent_cookie.cookie['path']='/' uptodate.com/postrej_2.har.xz\n",
      "Unmatch url and consent cookie domain: page_url='https://www.wolterskluwer.com/en/solutions/uptodate/about' consent_cookie.cookie['domain']='.uptodate.com' consent_cookie.cookie['path']='/' uptodate.com/postrej_5.har.xz\n",
      "Unmatch url and consent cookie domain: page_url='https://www.wolterskluwer.com/en/solutions/uptodate/policies-legal/editorial-policy' consent_cookie.cookie['domain']='.uptodate.com' consent_cookie.cookie['path']='/' uptodate.com/postrej_1.har.xz\n",
      "Unmatch url and consent cookie domain: page_url='https://www.wolterskluwer.com/en/solutions/uptodate/policies-legal/linking-policy' consent_cookie.cookie['domain']='.uptodate.com' consent_cookie.cookie['path']='/' uptodate.com/postrej_3.har.xz\n",
      "Post rej cookie not contain consent cookie, adyen.com/postrej_2.har.xz not have cookie OptanonConsent of .adyen.com on path /\n",
      "Post rej cookie not contain consent cookie, adyen.com/postrej_1.har.xz not have cookie OptanonConsent of .adyen.com on path /\n",
      "Post rej cookie not contain consent cookie, adyen.com/postrej_0.har.xz not have cookie OptanonConsent of .adyen.com on path /\n",
      "Post rej cookie not contain consent cookie, adyen.com/postrej_3.har.xz not have cookie OptanonConsent of .adyen.com on path /\n",
      "Error reading har file /mnt/sdd/ducbui/projects/data2/consent/2024-10-10/pref_menu_scan_0k_20k/paramount.com/postrej_1.har.xz: 'DataFrame' object has no attribute 'request'\n",
      "Unmatch url and consent cookie domain: page_url='https://global.fujitsu/et-ee' consent_cookie.cookie['domain']='.www.fujitsu.com' consent_cookie.cookie['path']='/' fujitsu.com/postrej_1.har.xz\n",
      "Unmatch url and consent cookie domain: page_url='https://global.fujitsu/en-benelux' consent_cookie.cookie['domain']='.www.fujitsu.com' consent_cookie.cookie['path']='/' fujitsu.com/postrej_4.har.xz\n",
      "Unmatch url and consent cookie domain: page_url='http://validate.perfdrive.com/b708a8fc3776ece65dd51a0e70b3ae8e/?ssa=e0249bd9-d052-4f0c-ad8b-b8e5fdb8ed87&ssb=82257253910&ssc=https%3A%2F%2Fwww.redlobster.com%2Flocations%2Flist%2Fundefined&ssi=fa7e2658-94c0-44f7-af84-5fe76a4caa35&ssk=support@shieldsquare.com&ssm=09258084695507384103904832918920&ssn=8847ed69e6cf6c163e45d6444ee8fd1c68f2e66e61e3-e249-47c0-9b1349&sso=a7997fac-1a6b82e29e1e8a4a46db0f3eb614ae7405fadffdeb37e1ce&ssp=19187468121728442984172843692363391&ssq=14938495983707067736659837251367475564679&ssr=NjQuMjMuMjQwLjkw&sst=Mozilla/5.0%20(X11;%20Linux%20x86_64)%20AppleWebKit/537.36%20(KHTML,%20like%20Gecko)%20Chrome/101.0.4951.64%20Safari/537.36&ssu=WFY0cUVjanpKYWtBUDBBaVdMNkYzaGt6ajhHZis1QUw3c3pQWWFCZ2RCVT0=&ssv=&ssw=&ssx=eyJ1em14IjoiN2Y5MDAwYTFhMTFkMmItYzI0MC00NWNiLWE1ZGItNGE1ODkwN2U0ZmM1MS0xNzI4NDU5ODM3NzU5MC00NDg4MjY0MDI3MDY5ODBjMTAiLCJfX3V6bWYiOiI3ZjYwMDA0NmRjNzgxZS1kYTM2LTQ3YWMtOGFhZS0zNzVjMTgwZmZjMWQxNzI4NDU5ODM3NzU5MC1hZjM3ZThlNTZhNGRmZTc0MTAiLCJyZCI6InJlZGxvYnN0ZXIuY29tIn0=' consent_cookie.cookie['domain']='.redlobster.com' consent_cookie.cookie['path']='/' redlobster.com/postrej_2.har.xz\n",
      "Unmatch url and consent cookie domain: page_url='http://validate.perfdrive.com/b708a8fc3776ece65dd51a0e70b3ae8e/?ssa=a6564861-873c-41ef-a54a-cff5ea705b45&ssb=82257253910&ssc=https%3A%2F%2Fwww.redlobster.com%2Fterms-conditions%2F&ssi=bfaf6eea-94c0-46c6-b3db-4de4c23231e8&ssk=support@shieldsquare.com&ssm=09258084695507384103904832918920&ssn=8847ed69396481d80f76b3ef4b45fd1c68f2acd3abe5-8832-4156-ab1349&sso=a799796c-2a0db9bdc7b78a4a46db44dd1e8f8f1967f7a7bfeb37e1ce&ssp=19187468121728442984172843692363391&ssq=14938495983707067736659837251367475564679&ssr=NjQuMjMuMjQwLjkw&sst=Mozilla/5.0%20(X11;%20Linux%20x86_64)%20AppleWebKit/537.36%20(KHTML,%20like%20Gecko)%20Chrome/101.0.4951.64%20Safari/537.36&ssu=WFY0cUVjanpKYWtBUDBBaVdMNkYzaGt6ajhHZis1QUw3c3pQWWFCZ2RCVT0=&ssv=&ssw=&ssx=eyJ1em14IjoiN2Y5MDAwZTExMDk5NmEtOGZhYS00MDVhLThmOGMtYjY2YTQ1N2M2NDNmMS0xNzI4NDU5ODM3NzE1MC0wNTE3M2FjYjY0Y2E2NGZiMTAiLCJfX3V6bWYiOiI3ZjYwMDA3YmVhNmU1YS1kOGFkLTRmYWQtYWU3OC1kNDZmOGI1YzRiNmIxNzI4NDU5ODM3NzE1MC0yZDc2ZTk5ZTM4YmJhNTlmMTAiLCJyZCI6InJlZGxvYnN0ZXIuY29tIn0=#halloween' consent_cookie.cookie['domain']='.redlobster.com' consent_cookie.cookie['path']='/' redlobster.com/postrej_1.har.xz\n",
      "Unmatch url and consent cookie domain: page_url='http://validate.perfdrive.com/b708a8fc3776ece65dd51a0e70b3ae8e/?ssa=b791a4be-db59-4209-a5fe-ae8b855c1433&ssb=82257253910&ssc=https%3A%2F%2Fwww.redlobster.com%2Fgift-cards%2F&ssi=04dca35b-94c0-4b41-bc72-db5f1ca64ba1&ssk=support@shieldsquare.com&ssm=09258084695507384103904832918920&ssn=8847ed6918318f0bd52d8f4a11dbfd1c68f26732ebec-8e79-4d98-9b1349&sso=a7997c0b-bcad8443d2c88a4a46dbb5966be6f8be4bcfa7d9eb37e1ce&ssp=19187468121728442984172843692363391&ssq=14938495983707067736659837251367475564679&ssr=NjQuMjMuMjQwLjkw&sst=Mozilla/5.0%20(X11;%20Linux%20x86_64)%20AppleWebKit/537.36%20(KHTML,%20like%20Gecko)%20Chrome/101.0.4951.64%20Safari/537.36&ssu=WFY0cUVjanpKYWtBUDBBaVdMNkYzaGt6ajhHZis1QUw3c3pQWWFCZ2RCVT0=&ssv=&ssw=&ssx=eyJ1em14IjoiN2Y5MDAwY2M4ODc3ZjMtNzM1OS00YmI0LWEzZDItNzdjZGQwYmM5NGVmMS0xNzI4NDU5ODM3ODQ2MC0wMGY0MWFlYzNjMWJhMjUzMTAiLCJfX3V6bWYiOiI3ZjYwMDBiMWUzMWNmNC01YWE3LTRkODEtOGNkNS1iOGFhYjJkZTZkYjYxNzI4NDU5ODM3ODQ2MC0zZDI1MWU0NzQwNzhjNTBjMTAiLCJyZCI6InJlZGxvYnN0ZXIuY29tIn0=' consent_cookie.cookie['domain']='.redlobster.com' consent_cookie.cookie['path']='/' redlobster.com/postrej_4.har.xz\n",
      "Post rej cookie not contain consent cookie, gannett.com/postrej_4.har.xz not have cookie OptanonConsent of .gannett.com on path /\n",
      "Post rej cookie not contain consent cookie, pingdom.net/postrej_0.har.xz not have cookie OptanonConsent of .www.pingdom.com on path /\n",
      "Post rej cookie not contain consent cookie, adtelligent.com/postrej_0.har.xz not have cookie OptanonConsent of .adtelligent.com on path /\n",
      "Post rej cookie not contain consent cookie, adtelligent.com/postrej_4.har.xz not have cookie OptanonConsent of .adtelligent.com on path /\n",
      "Post rej cookie not contain consent cookie, shef.ac.uk/postrej_0.har.xz not have cookie OptanonConsent of .sheffield.ac.uk on path /\n",
      "Domain path mismatch: .kpmg.com domain's path /xx not match url https://kpmg.com/bm/en/home.html\n",
      "Unmatch url and consent cookie domain: page_url='https://kpmg.com/bm/en/home.html' consent_cookie.cookie['domain']='.kpmg.com' consent_cookie.cookie['path']='/xx' home.kpmg/postrej_5.har.xz\n",
      "Domain path mismatch: .kpmg.com domain's path /xx not match url https://kpmg.com/kr/en/home.html\n",
      "Unmatch url and consent cookie domain: page_url='https://kpmg.com/kr/en/home.html' consent_cookie.cookie['domain']='.kpmg.com' consent_cookie.cookie['path']='/xx' home.kpmg/postrej_1.har.xz\n",
      "Post rej cookie not contain consent cookie, home.kpmg/postrej_0.har.xz not have cookie OptanonConsent of .kpmg.com on path /xx\n",
      "Domain path mismatch: .kpmg.com domain's path /xx not match url https://kpmg.com/cy/en/home.html\n",
      "Unmatch url and consent cookie domain: page_url='https://kpmg.com/cy/en/home.html' consent_cookie.cookie['domain']='.kpmg.com' consent_cookie.cookie['path']='/xx' home.kpmg/postrej_3.har.xz\n",
      "Domain path mismatch: .kpmg.com domain's path /xx not match url https://kpmg.com/mk/en/home.html\n",
      "Unmatch url and consent cookie domain: page_url='https://kpmg.com/mk/en/home.html' consent_cookie.cookie['domain']='.kpmg.com' consent_cookie.cookie['path']='/xx' home.kpmg/postrej_4.har.xz\n",
      "Post rej cookie not contain consent cookie, flourish.studio/postrej_0.har.xz not have cookie OptanonConsent of .flourish.studio on path /\n",
      "Error reading har file /mnt/sdd/ducbui/projects/data2/consent/2024-10-10/pref_menu_scan_0k_20k/buzzfeednews.com/postrej_1.har.xz: 'DataFrame' object has no attribute 'request'\n",
      "Unmatch url and consent cookie domain: page_url='https://developers.cloudflare.com/workers' consent_cookie.cookie['domain']='workers.cloudflare.com' consent_cookie.cookie['path']='/' workers.dev/postrej_1.har.xz\n",
      "Unmatch url and consent cookie domain: page_url='https://forum.cfx.re/' consent_cookie.cookie['domain']='.fivem.net' consent_cookie.cookie['path']='/' fivem.net/postrej_5.har.xz\n",
      "Post rej cookie not contain consent cookie, fivem.net/postrej_0.har.xz not have cookie OptanonConsent of .fivem.net on path /\n",
      "Unmatch url and consent cookie domain: page_url='https://forum.cfx.re/' consent_cookie.cookie['domain']='.fivem.net' consent_cookie.cookie['path']='/' fivem.net/postrej_3.har.xz\n",
      "Error reading har file /mnt/sdd/ducbui/projects/data2/consent/2024-10-10/pref_menu_scan_0k_20k/fivem.net/postrej_4.har.xz: 'DataFrame' object has no attribute 'request'\n",
      "Domain path mismatch: .www.bny.com domain's path /corporate not match url https://www.bny.com/investments.html\n",
      "Unmatch url and consent cookie domain: page_url='https://www.bny.com/investments.html' consent_cookie.cookie['domain']='.www.bny.com' consent_cookie.cookie['path']='/corporate' bnymellon.com/postrej_5.har.xz\n",
      "Unmatch url and consent cookie domain: page_url='https://marketing.governmentnavigator.com/' consent_cookie.cookie['domain']='.govtech.com' consent_cookie.cookie['path']='/' govtech.com/postrej_1.har.xz\n",
      "Error reading har file /mnt/sdd/ducbui/projects/data2/consent/2024-10-10/pref_menu_scan_0k_20k/docker.io/postrej_1.har.xz: 'DataFrame' object has no attribute 'request'\n",
      "Post rej cookie not contain consent cookie, metacritic.com/postrej_0.har.xz not have cookie OptanonConsent of .metacritic.com on path /\n",
      "Unmatch url and consent cookie domain: page_url='https://account.cengage.com/login?SAMLRequest=fZLdauMwEIVfxejetqQ6%2FhFxSthQCHTD0j9K74Q8ccXaI1cjJ5u3X9dpSnuxeytmvnP4RsvrP30XHcCTdVgzkXAWARrXWGxr9vhwE5fserUk3XdyUOsxvOIdvI1AIVoTgQ%2FT2g%2BHNPbg78EfrIHHu9uavYYwkEpTPW0kBrDVLSTG9SmRS2dayp2W%2BaIUe6Td82LXrq8WBYs2E9qiDnOdT4oxbsTwDdS51iKLbpw3MPeq2V53BCzabmpmG1HKvCoWVZUJXvA8E7LIyrKQV%2Fk0QTTCFiloDDWTXGax4DGvHnilRK64TLJCvLDo6eJFvnuZTCGps4qajR6V02RJoe6BVDDqfv3zVk2javAuOOM69mFOzYH%2BK%2BH%2FAH1xy1YXB8fjMXG%2Fgz5bnA3SWXg8xR1sAz6l4YBND6hPbvDtm25OTVimXyt8nnI3ZW43v1xnzeldYq%2FDvyuJRMwvton386gakQYwdm%2BhYenqI%2BP7B1n9BQ%3D%3D&RelayState=%252Foauth2%252Fv1%252Fauthorize%252Fredirect%253Fokta_key%253DUtOtYnkZtoKvRLGvYxKP2JTzIDaz_Qdn0Gs6UE4KPbY&SigAlg=http%3A%2F%2Fwww.w3.org%2F2001%2F04%2Fxmldsig-more%23rsa-sha256&Signature=oM0llEeItPbSd3Uc7IlwZQaRa4kZkn%2Bqvz5nAi6Y8DXxqdZaNb9rcpwxolgLy%2FQGuXbYQ0ra91PxOOnNeQXmAdl3gs1xsHxTl2vYalTx826zUpvzkmarADLNjgx%2BP%2BW7prvvC9OYHllmCaAJYeB07hb3CDtjwIDKi4Tx35xuZZtWO2u11pLhXLF3KWATsqyYB4kGAkpSvEsnbjSLh%2BRsbb6eWeKEwS8hQ%2BBqp0Edp7sV0hOdNATk%2BB4Qf58vTzPFD1d8Z2QMsUuL3pbKE9XO12H7iG%2FRN3Y%2BIzZuMUC4Z16ndaoEvoFOrZcrlHDeK57cXiwjtKhsWxLHuGb%2B4JpI9w%3D%3D' consent_cookie.cookie['domain']='.webassign.net' consent_cookie.cookie['path']='/' webassign.net/postrej_2.har.xz\n",
      "Post rej cookie not contain consent cookie, streamlabs.com/postrej_0.har.xz not have cookie OptanonConsent of .streamlabs.com on path /\n",
      "Post rej cookie not contain consent cookie, cbsi.com/postrej_5.har.xz not have cookie OptanonConsent of .paramount.com on path /\n",
      "Post rej cookie not contain consent cookie, videobyte.com/postrej_0.har.xz not have cookie OptanonConsent of .videobyte.com on path /\n",
      "Unmatch url and consent cookie domain: page_url='https://www.outbrain.com/privacy/privacy-policy-outbrain-dsp/' consent_cookie.cookie['domain']='.zemanta.com' consent_cookie.cookie['path']='/' zemanta.com/postrej_3.har.xz\n",
      "Unmatch url and consent cookie domain: page_url='https://partnerships.geocaching.com/' consent_cookie.cookie['domain']='www.geocaching.com' consent_cookie.cookie['path']='/' geocaching.com/postrej_2.har.xz\n",
      "Unmatch url and consent cookie domain: page_url='https://www.starlinkinternet.info/community-gateway' consent_cookie.cookie['domain']='.starlink.com' consent_cookie.cookie['path']='/' starlink.com/postrej_5.har.xz\n",
      "Post rej cookie not contain consent cookie, investopedia.com/postrej_0.har.xz not have cookie OptanonConsent of .investopedia.com on path /\n",
      "Post rej cookie not contain consent cookie, control4.com/postrej_2.har.xz not have cookie OptanonConsent of .control4.com on path /\n",
      "Post rej cookie not contain consent cookie, control4.com/postrej_0.har.xz not have cookie OptanonConsent of .control4.com on path /\n",
      "Unmatch url and consent cookie domain: page_url='https://www.snapone.com/legal/website-terms-of-use' consent_cookie.cookie['domain']='.control4.com' consent_cookie.cookie['path']='/' control4.com/postrej_3.har.xz\n",
      "Unmatch url and consent cookie domain: page_url='https://maplemedia.io/terms-of-service/' consent_cookie.cookie['domain']='.player.fm' consent_cookie.cookie['path']='/' player.fm/postrej_4.har.xz\n",
      "Post rej cookie not contain consent cookie, bsigroup.com/postrej_0.har.xz not have cookie OptanonConsent of .www.bsigroup.com on path /\n",
      "Post rej cookie not contain consent cookie, mynewsdesk.com/postrej_0.har.xz not have cookie OptanonConsent of .mynewsdesk.com on path /\n",
      "Unmatch url and consent cookie domain: page_url='https://developer.status.atlassian.com/' consent_cookie.cookie['domain']='.developer.atlassian.com' consent_cookie.cookie['path']='/' atl-paas.net/postrej_4.har.xz\n",
      "Domain path mismatch: .www.nintendo.com domain's path /en-gb/ not match url https://www.nintendo.com/de-ch/\n",
      "Unmatch url and consent cookie domain: page_url='https://www.nintendo.com/de-ch/' consent_cookie.cookie['domain']='.www.nintendo.com' consent_cookie.cookie['path']='/en-gb/' nintendo.co.uk/postrej_1.har.xz\n",
      "Domain path mismatch: .www.nintendo.com domain's path /en-gb/ not match url https://www.nintendo.com/en-za/\n",
      "Unmatch url and consent cookie domain: page_url='https://www.nintendo.com/en-za/' consent_cookie.cookie['domain']='.www.nintendo.com' consent_cookie.cookie['path']='/en-gb/' nintendo.co.uk/postrej_3.har.xz\n",
      "Post rej cookie not contain consent cookie, redbull.com/postrej_2.har.xz not have cookie OptanonConsent of .www.redbull.com on path /us-en\n",
      "Post rej cookie not contain consent cookie, redbull.com/postrej_5.har.xz not have cookie OptanonConsent of .www.redbull.com on path /us-en\n",
      "Post rej cookie not contain consent cookie, redbull.com/postrej_1.har.xz not have cookie OptanonConsent of .www.redbull.com on path /us-en\n",
      "Post rej cookie not contain consent cookie, redbull.com/postrej_0.har.xz not have cookie OptanonConsent of .www.redbull.com on path /us-en\n",
      "Post rej cookie not contain consent cookie, redbull.com/postrej_3.har.xz not have cookie OptanonConsent of .www.redbull.com on path /us-en\n",
      "Post rej cookie not contain consent cookie, redbull.com/postrej_4.har.xz not have cookie OptanonConsent of .www.redbull.com on path /us-en\n",
      "Post rej cookie not contain consent cookie, parsec.app/postrej_0.har.xz not have cookie OptanonConsent of .parsec.app on path /\n",
      "Post rej cookie not contain consent cookie, themeforest.net/postrej_0.har.xz not have cookie CookieConsent of themeforest.net on path /\n",
      "Unmatch url and consent cookie domain: page_url='https://preview.themeforest.net/item/ecomus-ultimate-html5-template/full_screen_preview/53417990' consent_cookie.cookie['domain']='themeforest.net' consent_cookie.cookie['path']='/' themeforest.net/postrej_4.har.xz\n",
      "Post rej cookie not contain consent cookie, trustpilot.com/postrej_0.har.xz not have cookie OptanonConsent of .trustpilot.com on path /\n",
      "Error reading har file /mnt/sdd/ducbui/projects/data2/consent/2024-10-10/pref_menu_scan_0k_20k/discord.com/postrej_1.har.xz: 'DataFrame' object has no attribute 'request'\n",
      "Unmatch url and consent cookie domain: page_url='https://www.manchestereveningnews.co.uk/' consent_cookie.cookie['domain']='www.fish4.co.uk' consent_cookie.cookie['path']='/' manchestereveningnews.co.uk/postrej_0.har.xz\n",
      "Unmatch url and consent cookie domain: page_url='https://download.battle.net/en-us/mobile' consent_cookie.cookie['domain']='.blizzard.com' consent_cookie.cookie['path']='/' worldofwarcraft.com/postrej_5.har.xz\n",
      "Unmatch url and consent cookie domain: page_url='https://us.account.battle.net/login/en/?ref=https://oauth.battle.net/authorize?response_type%3Dcode%26redirect_uri%3Dhttps%253A%252F%252Fworldofwarcraft.blizzard.com%252Fauth%26scope%3Dwow.profile%2520email%2520primary-address%2520private_flags%2520name%2520account.basic%2520account.standard%2520account.standard%253Amodify%2520account.full%2520commerce.profile.basic%2520commerce.entitlements%26state%3DwSBSRo9n-jDTRJ3QMtV1BdCGxqUWnVLYHD3Y%26client_id%3De674efa0abaa423cb7805d3c41838416&app=oauth&hostingApp=oauth' consent_cookie.cookie['domain']='.blizzard.com' consent_cookie.cookie['path']='/' worldofwarcraft.com/postrej_3.har.xz\n",
      "Domain path mismatch: .www.carrier.com domain's path /carrier not match url https://www.carrier.com/fire-security/en/north-america/products-services/end-market-solutions/commercial-solutions/\n",
      "Unmatch url and consent cookie domain: page_url='https://www.carrier.com/fire-security/en/north-america/products-services/end-market-solutions/commercial-solutions/' consent_cookie.cookie['domain']='.www.carrier.com' consent_cookie.cookie['path']='/carrier' carrier.com/postrej_3.har.xz\n",
      "Post rej cookie not contain consent cookie, tvguide.com/postrej_0.har.xz not have cookie OptanonConsent of .tvguide.com on path /\n",
      "Post rej cookie not contain consent cookie, empower.com/postrej_0.har.xz not have cookie OptanonConsent of .empower.com on path /\n",
      "Post rej cookie not contain consent cookie, mtv.com/postrej_0.har.xz not have cookie OptanonConsent of .mtv.com on path /\n",
      "Unmatch url and consent cookie domain: page_url='https://login.techsmith.com/u/login/identifier?state=hKFo2SBSdENPSGQ0Tk1KSk1aNnhTSzFaMlFvdHl4NUlCbEIwQqFur3VuaXZlcnNhbC1sb2dpbqN0aWTZIEg3bnVtUVZyQkh0WUltTnVLUF9LRllJWHBGZFBxYXZzo2NpZNkgMExSQzFJMXhDTFEzajQwSFRUM3ZDMUE4QWh1d2p5MDI&ui_locales=en-US' consent_cookie.cookie['domain']='.screencast.com' consent_cookie.cookie['path']='/' screencast.com/postrej_4.har.xz\n",
      "Unmatch url and consent cookie domain: page_url='https://investors.blackberry.com/' consent_cookie.cookie['domain']='.www.blackberry.com' consent_cookie.cookie['path']='/' cylance.com/postrej_5.har.xz\n",
      "Domain path mismatch: .www2.deloitte.com domain's path /us/ not match url https://www2.deloitte.com/fr/fr/pages/home.html?icid=site_selector_fr\n",
      "Unmatch url and consent cookie domain: page_url='https://www2.deloitte.com/fr/fr/pages/home.html?icid=site_selector_fr' consent_cookie.cookie['domain']='.www2.deloitte.com' consent_cookie.cookie['path']='/us/' deloitte.com/postrej_1.har.xz\n",
      "Post rej cookie not contain consent cookie, deloitte.com/postrej_0.har.xz not have cookie OptanonConsent of .www2.deloitte.com on path /us/\n",
      "Domain path mismatch: .www2.deloitte.com domain's path /us/ not match url https://www.deloitte.com/ge/en.html?icid=site_selector_ge\n",
      "Unmatch url and consent cookie domain: page_url='https://www.deloitte.com/ge/en.html?icid=site_selector_ge' consent_cookie.cookie['domain']='.www2.deloitte.com' consent_cookie.cookie['path']='/us/' deloitte.com/postrej_3.har.xz\n",
      "Post rej cookie not contain consent cookie, hpdaas.com/postrej_0.har.xz not have cookie OptanonConsent of .hpdaas.com on path /\n",
      "Written to /mnt/sdd/ducbui/projects/data2/consent/2024-10-10/scan_0k_20k.parquet\n",
      "Number sent cookies read: 2,654,056\n"
     ]
    },
    {
     "data": {
      "text/html": [
       "<div>\n",
       "<style scoped>\n",
       "    .dataframe tbody tr th:only-of-type {\n",
       "        vertical-align: middle;\n",
       "    }\n",
       "\n",
       "    .dataframe tbody tr th {\n",
       "        vertical-align: top;\n",
       "    }\n",
       "\n",
       "    .dataframe thead th {\n",
       "        text-align: right;\n",
       "    }\n",
       "</style>\n",
       "<table border=\"1\" class=\"dataframe\">\n",
       "  <thead>\n",
       "    <tr style=\"text-align: right;\">\n",
       "      <th></th>\n",
       "      <th>name</th>\n",
       "      <th>value</th>\n",
       "      <th>domain</th>\n",
       "      <th>path</th>\n",
       "      <th>expires</th>\n",
       "      <th>size</th>\n",
       "      <th>httpOnly</th>\n",
       "      <th>secure</th>\n",
       "      <th>session</th>\n",
       "      <th>sameSite</th>\n",
       "      <th>priority</th>\n",
       "      <th>sameParty</th>\n",
       "      <th>sourceScheme</th>\n",
       "      <th>sourcePort</th>\n",
       "      <th>request_url</th>\n",
       "      <th>site</th>\n",
       "      <th>page_url</th>\n",
       "      <th>partitionKey</th>\n",
       "    </tr>\n",
       "  </thead>\n",
       "  <tbody>\n",
       "    <tr>\n",
       "      <th>0</th>\n",
       "      <td>_ga_914YM665GV</td>\n",
       "      <td>GS1.1.1728455127.1.1.1728455208.51.0.0</td>\n",
       "      <td>.nextiva.com</td>\n",
       "      <td>/</td>\n",
       "      <td>1.763015e+09</td>\n",
       "      <td>52</td>\n",
       "      <td>False</td>\n",
       "      <td>False</td>\n",
       "      <td>False</td>\n",
       "      <td>NaN</td>\n",
       "      <td>Medium</td>\n",
       "      <td>False</td>\n",
       "      <td>Secure</td>\n",
       "      <td>443</td>\n",
       "      <td>https://www.nextiva.com/cdn-cgi/image/width=96...</td>\n",
       "      <td>nextiva.com</td>\n",
       "      <td>https://www.nextiva.com/products/whats-new</td>\n",
       "      <td>NaN</td>\n",
       "    </tr>\n",
       "    <tr>\n",
       "      <th>1</th>\n",
       "      <td>__hssrc</td>\n",
       "      <td>1</td>\n",
       "      <td>.nextiva.com</td>\n",
       "      <td>/</td>\n",
       "      <td>-1.000000e+00</td>\n",
       "      <td>8</td>\n",
       "      <td>False</td>\n",
       "      <td>False</td>\n",
       "      <td>True</td>\n",
       "      <td>Lax</td>\n",
       "      <td>Medium</td>\n",
       "      <td>False</td>\n",
       "      <td>Secure</td>\n",
       "      <td>443</td>\n",
       "      <td>https://www.nextiva.com/wp-content/themes/next...</td>\n",
       "      <td>nextiva.com</td>\n",
       "      <td>https://www.nextiva.com/products/whats-new</td>\n",
       "      <td>NaN</td>\n",
       "    </tr>\n",
       "    <tr>\n",
       "      <th>2</th>\n",
       "      <td>PHPSESSID</td>\n",
       "      <td>2d6f44931491ff61c8d8ca2db65c316e</td>\n",
       "      <td>www.nextiva.com</td>\n",
       "      <td>/</td>\n",
       "      <td>-1.000000e+00</td>\n",
       "      <td>41</td>\n",
       "      <td>False</td>\n",
       "      <td>False</td>\n",
       "      <td>True</td>\n",
       "      <td>NaN</td>\n",
       "      <td>Medium</td>\n",
       "      <td>False</td>\n",
       "      <td>Secure</td>\n",
       "      <td>443</td>\n",
       "      <td>https://www.nextiva.com/cdn-cgi/image/width=15...</td>\n",
       "      <td>nextiva.com</td>\n",
       "      <td>https://www.nextiva.com/products/whats-new</td>\n",
       "      <td>NaN</td>\n",
       "    </tr>\n",
       "  </tbody>\n",
       "</table>\n",
       "</div>"
      ],
      "text/plain": [
       "             name                                   value           domain  \\\n",
       "0  _ga_914YM665GV  GS1.1.1728455127.1.1.1728455208.51.0.0     .nextiva.com   \n",
       "1         __hssrc                                       1     .nextiva.com   \n",
       "2       PHPSESSID        2d6f44931491ff61c8d8ca2db65c316e  www.nextiva.com   \n",
       "\n",
       "  path       expires  size  httpOnly  secure  session sameSite priority  \\\n",
       "0    /  1.763015e+09    52     False   False    False      NaN   Medium   \n",
       "1    / -1.000000e+00     8     False   False     True      Lax   Medium   \n",
       "2    / -1.000000e+00    41     False   False     True      NaN   Medium   \n",
       "\n",
       "   sameParty sourceScheme  sourcePort  \\\n",
       "0      False       Secure         443   \n",
       "1      False       Secure         443   \n",
       "2      False       Secure         443   \n",
       "\n",
       "                                         request_url         site  \\\n",
       "0  https://www.nextiva.com/cdn-cgi/image/width=96...  nextiva.com   \n",
       "1  https://www.nextiva.com/wp-content/themes/next...  nextiva.com   \n",
       "2  https://www.nextiva.com/cdn-cgi/image/width=15...  nextiva.com   \n",
       "\n",
       "                                     page_url partitionKey  \n",
       "0  https://www.nextiva.com/products/whats-new          NaN  \n",
       "1  https://www.nextiva.com/products/whats-new          NaN  \n",
       "2  https://www.nextiva.com/products/whats-new          NaN  "
      ]
     },
     "execution_count": 8,
     "metadata": {},
     "output_type": "execute_result"
    }
   ],
   "source": [
    "# import sys; import importlib; importlib.reload(sys.modules['consent.data.pref_menu_scan.postrej_cookie_reader'])\n",
    "from consent.data.pref_menu_scan.har_cookie_reader import read_postrej_sent_cookies_in_scans\n",
    "\n",
    "cookies_cache_file = SCAN_ROOT_DIR / f'scan{output_suffix}.parquet'  # 'raw_postrej_sent_cookies.parquet'\n",
    "\n",
    "if not cookies_cache_file.exists() or overwrite:\n",
    "    sent_cookies = read_postrej_sent_cookies_in_scans(SCAN_DIRS)\n",
    "    if cookies_cache_file: sent_cookies.to_parquet(cookies_cache_file); print(f\"Written to {cookies_cache_file}\")\n",
    "else:\n",
    "    sent_cookies = pd.read_parquet(cookies_cache_file)\n",
    "\n",
    "print(f\"Number sent cookies read: {len(sent_cookies):,d}\")\n",
    "sent_cookies.head(3)"
   ]
  },
  {
   "cell_type": "code",
   "execution_count": 9,
   "metadata": {},
   "outputs": [],
   "source": [
    "# prj = post-rejection\n",
    "# Old way: consider all flows\n",
    "# prj_sent_cookies = sent_cookies[['domain', 'expires', 'name', 'path', 'sameSite', 'secure', 'value', 'request_url', 'site']].drop_duplicates()\n",
    "# prj_br_cookies = prj_sent_cookies[['domain', 'expires', 'name', 'path', 'sameSite', 'secure', 'site']].drop_duplicates()\n",
    "# New way: consider cookies only (ignore the request url, which is not nused in get_comply cookie matching anyway)\n",
    "prj_sent_cookies = sent_cookies[['name', 'domain', 'path', 'site']].drop_duplicates()"
   ]
  },
  {
   "cell_type": "code",
   "execution_count": 10,
   "metadata": {},
   "outputs": [],
   "source": [
    "# print(f\"Num captured sent cookies: {len(sent_cookies):,d}\")\n",
    "# print(f\"Num unique captured cookies: {len(prj_sent_cookies):,d}\")\n",
    "# n_br_cookies = len(prj_br_cookies)\n",
    "# print(f\"Num unique browser cookies: {n_br_cookies:,d} on {prj_br_cookies.site.nunique():,d} websites\") # and {sent_cookies.page_url.nunique():,d} pages\")"
   ]
  },
  {
   "cell_type": "markdown",
   "metadata": {},
   "source": [
    "## Analyze cookies compliance    "
   ]
  },
  {
   "cell_type": "code",
   "execution_count": null,
   "metadata": {},
   "outputs": [
    {
     "name": "stdout",
     "output_type": "stream",
     "text": [
      "Num sent cookies in the cookie prefs sites: 58,035\n"
     ]
    }
   ],
   "source": [
    "sites = set(cookie_prefs.site)\n",
    "print(f\"Num sent cookies in the cookie prefs sites: {len(prj_sent_cookies[prj_sent_cookies.site.isin(sites)]):,d}\")"
   ]
  },
  {
   "cell_type": "code",
   "execution_count": 12,
   "metadata": {
    "tags": []
   },
   "outputs": [
    {
     "name": "stdout",
     "output_type": "stream",
     "text": [
      "faster: for cookie_pref in cookie_pref_set[cookie_pref_set.name == acookie['name']]:\n"
     ]
    },
    {
     "name": "stderr",
     "output_type": "stream",
     "text": [
      "  0%|          | 3/1444 [00:00<01:11, 20.20it/s]"
     ]
    },
    {
     "name": "stderr",
     "output_type": "stream",
     "text": [
      " 89%|████████▉ | 1283/1444 [04:17<00:08, 19.76it/s]"
     ]
    },
    {
     "name": "stderr",
     "output_type": "stream",
     "text": [
      " 18%|█▊        | 262/1444 [00:50<02:09,  9.10it/s]"
     ]
    },
    {
     "name": "stdout",
     "output_type": "stream",
     "text": [
      "Error fuzzy name match pref_name='mf_[0cc3b612-a97d-4bd0-b496-3ed0686d4603]' cookie_name='_gcl_au' bad character range d-4 at position 20\n",
      "Error fuzzy name match pref_name='mf_[0cc3b612-a97d-4bd0-b496-3ed0686d4603]' cookie_name='AWSALBTG' bad character range d-4 at position 20\n",
      "Error fuzzy name match pref_name='mf_[0cc3b612-a97d-4bd0-b496-3ed0686d4603]' cookie_name='_ga' bad character range d-4 at position 20\n",
      "Error fuzzy name match pref_name='mf_[0cc3b612-a97d-4bd0-b496-3ed0686d4603]' cookie_name='__eoi' bad character range d-4 at position 20\n",
      "Error fuzzy name match pref_name='mf_[0cc3b612-a97d-4bd0-b496-3ed0686d4603]' cookie_name='optimizelyEndUserId' bad character range d-4 at position 20\n",
      "Error fuzzy name match pref_name='mf_[0cc3b612-a97d-4bd0-b496-3ed0686d4603]' cookie_name='_gid' bad character range d-4 at position 20\n",
      "Error fuzzy name match pref_name='mf_[0cc3b612-a97d-4bd0-b496-3ed0686d4603]' cookie_name='__gpi' bad character range d-4 at position 20\n",
      "Error fuzzy name match pref_name='mf_[0cc3b612-a97d-4bd0-b496-3ed0686d4603]' cookie_name='_ga_TNYBCQTJ6G' bad character range d-4 at position 20\n",
      "Error fuzzy name match pref_name='mf_[0cc3b612-a97d-4bd0-b496-3ed0686d4603]' cookie_name='OptanonAlertBoxClosed' bad character range d-4 at position 20\n",
      "Error fuzzy name match pref_name='mf_[0cc3b612-a97d-4bd0-b496-3ed0686d4603]' cookie_name='_ga_T3MKEZBW59' bad character range d-4 at position 20\n",
      "Error fuzzy name match pref_name='mf_[0cc3b612-a97d-4bd0-b496-3ed0686d4603]' cookie_name='zipcode' bad character range d-4 at position 20\n",
      "Error fuzzy name match pref_name='mf_[0cc3b612-a97d-4bd0-b496-3ed0686d4603]' cookie_name='AWSALBTGCORS' bad character range d-4 at position 20\n",
      "Error fuzzy name match pref_name='mf_[0cc3b612-a97d-4bd0-b496-3ed0686d4603]' cookie_name='_ga_64H4Z6TSBF' bad character range d-4 at position 20\n",
      "Error fuzzy name match pref_name='mf_[0cc3b612-a97d-4bd0-b496-3ed0686d4603]' cookie_name='_pxhd' bad character range d-4 at position 20\n",
      "Error fuzzy name match pref_name='mf_[0cc3b612-a97d-4bd0-b496-3ed0686d4603]' cookie_name='__cf_bm' bad character range d-4 at position 20\n",
      "Error fuzzy name match pref_name='mf_[0cc3b612-a97d-4bd0-b496-3ed0686d4603]' cookie_name='__gads' bad character range d-4 at position 20\n",
      "Error fuzzy name match pref_name='mf_[0cc3b612-a97d-4bd0-b496-3ed0686d4603]' cookie_name='visitor' bad character range d-4 at position 20\n",
      "Error fuzzy name match pref_name='mf_[0cc3b612-a97d-4bd0-b496-3ed0686d4603]' cookie_name='UID' bad character range d-4 at position 20\n",
      "Error fuzzy name match pref_name='mf_[0cc3b612-a97d-4bd0-b496-3ed0686d4603]' cookie_name='status' bad character range d-4 at position 20\n",
      "Error fuzzy name match pref_name='mf_[0cc3b612-a97d-4bd0-b496-3ed0686d4603]' cookie_name='aelastsite' bad character range d-4 at position 20\n",
      "Error fuzzy name match pref_name='mf_[0cc3b612-a97d-4bd0-b496-3ed0686d4603]' cookie_name='_ga_0FHHFDE9TG' bad character range d-4 at position 20\n",
      "Error fuzzy name match pref_name='mf_[0cc3b612-a97d-4bd0-b496-3ed0686d4603]' cookie_name='ASP.NET_SessionId' bad character range d-4 at position 20\n",
      "Error fuzzy name match pref_name='mf_[0cc3b612-a97d-4bd0-b496-3ed0686d4603]' cookie_name='IDE' bad character range d-4 at position 20\n",
      "Error fuzzy name match pref_name='mf_[0cc3b612-a97d-4bd0-b496-3ed0686d4603]' cookie_name='TDCPM' bad character range d-4 at position 20\n",
      "Error fuzzy name match pref_name='mf_[0cc3b612-a97d-4bd0-b496-3ed0686d4603]' cookie_name='TDID' bad character range d-4 at position 20\n",
      "Error fuzzy name match pref_name='mf_[0cc3b612-a97d-4bd0-b496-3ed0686d4603]' cookie_name='ar_debug' bad character range d-4 at position 20\n",
      "Error fuzzy name match pref_name='mf_[0cc3b612-a97d-4bd0-b496-3ed0686d4603]' cookie_name='XID' bad character range d-4 at position 20\n",
      "Error fuzzy name match pref_name='mf_[0cc3b612-a97d-4bd0-b496-3ed0686d4603]' cookie_name='id5' bad character range d-4 at position 20\n",
      "Error fuzzy name match pref_name='mf_[0cc3b612-a97d-4bd0-b496-3ed0686d4603]' cookie_name='ad-id' bad character range d-4 at position 20\n",
      "Error fuzzy name match pref_name='mf_[0cc3b612-a97d-4bd0-b496-3ed0686d4603]' cookie_name='_px3' bad character range d-4 at position 20\n",
      "Error fuzzy name match pref_name='mf_[0cc3b612-a97d-4bd0-b496-3ed0686d4603]' cookie_name='_pxvid' bad character range d-4 at position 20\n",
      "Error fuzzy name match pref_name='mf_[0cc3b612-a97d-4bd0-b496-3ed0686d4603]' cookie_name='panoramaId' bad character range d-4 at position 20\n",
      "Error fuzzy name match pref_name='mf_[0cc3b612-a97d-4bd0-b496-3ed0686d4603]' cookie_name='ptrt' bad character range d-4 at position 20\n",
      "Error fuzzy name match pref_name='mf_[0cc3b612-a97d-4bd0-b496-3ed0686d4603]' cookie_name='A3' bad character range d-4 at position 20\n",
      "Error fuzzy name match pref_name='mf_[0cc3b612-a97d-4bd0-b496-3ed0686d4603]' cookie_name='PugT' bad character range d-4 at position 20\n",
      "Error fuzzy name match pref_name='mf_[0cc3b612-a97d-4bd0-b496-3ed0686d4603]' cookie_name='pi' bad character range d-4 at position 20\n",
      "Error fuzzy name match pref_name='mf_[0cc3b612-a97d-4bd0-b496-3ed0686d4603]' cookie_name='khaos' bad character range d-4 at position 20\n",
      "Error fuzzy name match pref_name='mf_[0cc3b612-a97d-4bd0-b496-3ed0686d4603]' cookie_name='SPugT' bad character range d-4 at position 20\n",
      "Error fuzzy name match pref_name='mf_[0cc3b612-a97d-4bd0-b496-3ed0686d4603]' cookie_name='pxcts' bad character range d-4 at position 20\n",
      "Error fuzzy name match pref_name='mf_[0cc3b612-a97d-4bd0-b496-3ed0686d4603]' cookie_name='wrvUserID' bad character range d-4 at position 20\n",
      "Error fuzzy name match pref_name='mf_[0cc3b612-a97d-4bd0-b496-3ed0686d4603]' cookie_name='_pubcid_cst' bad character range d-4 at position 20\n",
      "Error fuzzy name match pref_name='mf_[0cc3b612-a97d-4bd0-b496-3ed0686d4603]' cookie_name='DPSync4' bad character range d-4 at position 20\n",
      "Error fuzzy name match pref_name='mf_[0cc3b612-a97d-4bd0-b496-3ed0686d4603]' cookie_name='chkChromeAb67Sec' bad character range d-4 at position 20\n",
      "Error fuzzy name match pref_name='mf_[0cc3b612-a97d-4bd0-b496-3ed0686d4603]' cookie_name='wrvUserID' bad character range d-4 at position 20\n",
      "Error fuzzy name match pref_name='mf_[0cc3b612-a97d-4bd0-b496-3ed0686d4603]' cookie_name='KADUSERCOOKIE' bad character range d-4 at position 20\n",
      "Error fuzzy name match pref_name='mf_[0cc3b612-a97d-4bd0-b496-3ed0686d4603]' cookie_name='audit_p' bad character range d-4 at position 20\n",
      "Error fuzzy name match pref_name='mf_[0cc3b612-a97d-4bd0-b496-3ed0686d4603]' cookie_name='panoramaId_expiry' bad character range d-4 at position 20\n",
      "Error fuzzy name match pref_name='mf_[0cc3b612-a97d-4bd0-b496-3ed0686d4603]' cookie_name='pbjs-unifiedid' bad character range d-4 at position 20\n",
      "Error fuzzy name match pref_name='mf_[0cc3b612-a97d-4bd0-b496-3ed0686d4603]' cookie_name='_cc_id' bad character range d-4 at position 20\n",
      "Error fuzzy name match pref_name='mf_[0cc3b612-a97d-4bd0-b496-3ed0686d4603]' cookie_name='_pubcid' bad character range d-4 at position 20\n",
      "Error fuzzy name match pref_name='mf_[0cc3b612-a97d-4bd0-b496-3ed0686d4603]' cookie_name='pbjs-unifiedid_cst' bad character range d-4 at position 20\n",
      "Error fuzzy name match pref_name='mf_[0cc3b612-a97d-4bd0-b496-3ed0686d4603]' cookie_name='KRTBCOOKIE_377' bad character range d-4 at position 20\n",
      "Error fuzzy name match pref_name='mf_[0cc3b612-a97d-4bd0-b496-3ed0686d4603]' cookie_name='CMPS' bad character range d-4 at position 20\n",
      "Error fuzzy name match pref_name='mf_[0cc3b612-a97d-4bd0-b496-3ed0686d4603]' cookie_name='SyncRTB4' bad character range d-4 at position 20\n",
      "Error fuzzy name match pref_name='mf_[0cc3b612-a97d-4bd0-b496-3ed0686d4603]' cookie_name='visitor-id' bad character range d-4 at position 20\n",
      "Error fuzzy name match pref_name='mf_[0cc3b612-a97d-4bd0-b496-3ed0686d4603]' cookie_name='whereYouLeftOffData' bad character range d-4 at position 20\n",
      "Error fuzzy name match pref_name='mf_[0cc3b612-a97d-4bd0-b496-3ed0686d4603]' cookie_name='re_sync' bad character range d-4 at position 20\n",
      "Error fuzzy name match pref_name='mf_[0cc3b612-a97d-4bd0-b496-3ed0686d4603]' cookie_name='cto_bundle' bad character range d-4 at position 20\n",
      "Error fuzzy name match pref_name='mf_[0cc3b612-a97d-4bd0-b496-3ed0686d4603]' cookie_name='cto_bidid' bad character range d-4 at position 20\n",
      "Error fuzzy name match pref_name='mf_[0cc3b612-a97d-4bd0-b496-3ed0686d4603]' cookie_name='ad-privacy' bad character range d-4 at position 20\n",
      "Error fuzzy name match pref_name='mf_[0cc3b612-a97d-4bd0-b496-3ed0686d4603]' cookie_name='CMPRO' bad character range d-4 at position 20\n",
      "Error fuzzy name match pref_name='mf_[0cc3b612-a97d-4bd0-b496-3ed0686d4603]' cookie_name='KTPCACOOKIE' bad character range d-4 at position 20\n",
      "Error fuzzy name match pref_name='mf_[0cc3b612-a97d-4bd0-b496-3ed0686d4603]' cookie_name='uuid2' bad character range d-4 at position 20\n",
      "Error fuzzy name match pref_name='mf_[0cc3b612-a97d-4bd0-b496-3ed0686d4603]' cookie_name='pxrc' bad character range d-4 at position 20\n",
      "Error fuzzy name match pref_name='mf_[0cc3b612-a97d-4bd0-b496-3ed0686d4603]' cookie_name='KRTBCOOKIE_57' bad character range d-4 at position 20\n",
      "Error fuzzy name match pref_name='mf_[0cc3b612-a97d-4bd0-b496-3ed0686d4603]' cookie_name='ptran' bad character range d-4 at position 20\n",
      "Error fuzzy name match pref_name='mf_[0cc3b612-a97d-4bd0-b496-3ed0686d4603]' cookie_name='nnls' bad character range d-4 at position 20\n",
      "Error fuzzy name match pref_name='mf_[0cc3b612-a97d-4bd0-b496-3ed0686d4603]' cookie_name='audit' bad character range d-4 at position 20\n",
      "Error fuzzy name match pref_name='mf_[0cc3b612-a97d-4bd0-b496-3ed0686d4603]' cookie_name='ptrpp' bad character range d-4 at position 20\n",
      "Error fuzzy name match pref_name='mf_[0cc3b612-a97d-4bd0-b496-3ed0686d4603]' cookie_name='receive-cookie-deprecation' bad character range d-4 at position 20\n",
      "Error fuzzy name match pref_name='mf_[0cc3b612-a97d-4bd0-b496-3ed0686d4603]' cookie_name='INGRESSCOOKIE' bad character range d-4 at position 20\n",
      "Error fuzzy name match pref_name='mf_[0cc3b612-a97d-4bd0-b496-3ed0686d4603]' cookie_name='KRTBCOOKIE_107' bad character range d-4 at position 20\n",
      "Error fuzzy name match pref_name='mf_[0cc3b612-a97d-4bd0-b496-3ed0686d4603]' cookie_name='i' bad character range d-4 at position 20\n",
      "Error fuzzy name match pref_name='mf_[0cc3b612-a97d-4bd0-b496-3ed0686d4603]' cookie_name='khaos_p' bad character range d-4 at position 20\n",
      "Error fuzzy name match pref_name='mf_[0cc3b612-a97d-4bd0-b496-3ed0686d4603]' cookie_name='KRTBCOOKIE_148' bad character range d-4 at position 20\n",
      "Error fuzzy name match pref_name='mf_[0cc3b612-a97d-4bd0-b496-3ed0686d4603]' cookie_name='pd' bad character range d-4 at position 20\n",
      "Error fuzzy name match pref_name='mf_[0cc3b612-a97d-4bd0-b496-3ed0686d4603]' cookie_name='receive-cookie-deprecation' bad character range d-4 at position 20\n",
      "Error fuzzy name match pref_name='mf_[0cc3b612-a97d-4bd0-b496-3ed0686d4603]' cookie_name='did' bad character range d-4 at position 20\n",
      "Error fuzzy name match pref_name='mf_[0cc3b612-a97d-4bd0-b496-3ed0686d4603]' cookie_name='univ_id' bad character range d-4 at position 20\n",
      "Error fuzzy name match pref_name='mf_[0cc3b612-a97d-4bd0-b496-3ed0686d4603]' cookie_name='KRTBCOOKIE_279' bad character range d-4 at position 20\n",
      "Error fuzzy name match pref_name='mf_[0cc3b612-a97d-4bd0-b496-3ed0686d4603]' cookie_name='pb_rtb_ev' bad character range d-4 at position 20\n",
      "Error fuzzy name match pref_name='mf_[0cc3b612-a97d-4bd0-b496-3ed0686d4603]' cookie_name='yieldmo_id' bad character range d-4 at position 20\n",
      "Error fuzzy name match pref_name='mf_[0cc3b612-a97d-4bd0-b496-3ed0686d4603]' cookie_name='ljt_reader' bad character range d-4 at position 20\n",
      "Error fuzzy name match pref_name='mf_[0cc3b612-a97d-4bd0-b496-3ed0686d4603]' cookie_name='didts' bad character range d-4 at position 20\n",
      "Error fuzzy name match pref_name='mf_[0cc3b612-a97d-4bd0-b496-3ed0686d4603]' cookie_name='CMID' bad character range d-4 at position 20\n",
      "Error fuzzy name match pref_name='mf_[0cc3b612-a97d-4bd0-b496-3ed0686d4603]' cookie_name='XANDR_PANID' bad character range d-4 at position 20\n",
      "Error fuzzy name match pref_name='mf_[0cc3b612-a97d-4bd0-b496-3ed0686d4603]' cookie_name='VP' bad character range d-4 at position 20\n",
      "Error fuzzy name match pref_name='mf_[0cc3b612-a97d-4bd0-b496-3ed0686d4603]' cookie_name='V' bad character range d-4 at position 20\n",
      "Error fuzzy name match pref_name='mf_[0cc3b612-a97d-4bd0-b496-3ed0686d4603]' cookie_name='stx_user_id' bad character range d-4 at position 20\n",
      "Error fuzzy name match pref_name='mf_[0cc3b612-a97d-4bd0-b496-3ed0686d4603]' cookie_name='usp_status' bad character range d-4 at position 20\n",
      "Error fuzzy name match pref_name='mf_[0cc3b612-a97d-4bd0-b496-3ed0686d4603]' cookie_name='ipc' bad character range d-4 at position 20\n",
      "Error fuzzy name match pref_name='mf_[0cc3b612-a97d-4bd0-b496-3ed0686d4603]' cookie_name='pb_rtb_ev_part' bad character range d-4 at position 20\n",
      "Error fuzzy name match pref_name='mf_[0cc3b612-a97d-4bd0-b496-3ed0686d4603]' cookie_name='ccpa' bad character range d-4 at position 20\n",
      "Error fuzzy name match pref_name='mf_[0cc3b612-a97d-4bd0-b496-3ed0686d4603]' cookie_name='mc' bad character range d-4 at position 20\n",
      "Error fuzzy name match pref_name='mf_[0cc3b612-a97d-4bd0-b496-3ed0686d4603]' cookie_name='KRTBCOOKIE_18' bad character range d-4 at position 20\n",
      "Error fuzzy name match pref_name='mf_[0cc3b612-a97d-4bd0-b496-3ed0686d4603]' cookie_name='vdz_sync' bad character range d-4 at position 20\n",
      "Error fuzzy name match pref_name='mf_[0cc3b612-a97d-4bd0-b496-3ed0686d4603]' cookie_name='TapAd_3WAY_SYNCS' bad character range d-4 at position 20\n",
      "Error fuzzy name match pref_name='mf_[0cc3b612-a97d-4bd0-b496-3ed0686d4603]' cookie_name='TapAd_TS' bad character range d-4 at position 20\n",
      "Error fuzzy name match pref_name='mf_[0cc3b612-a97d-4bd0-b496-3ed0686d4603]' cookie_name='KRTBCOOKIE_699' bad character range d-4 at position 20\n",
      "Error fuzzy name match pref_name='mf_[0cc3b612-a97d-4bd0-b496-3ed0686d4603]' cookie_name='_cc_aud' bad character range d-4 at position 20\n",
      "Error fuzzy name match pref_name='mf_[0cc3b612-a97d-4bd0-b496-3ed0686d4603]' cookie_name='_cc_cc' bad character range d-4 at position 20\n",
      "Error fuzzy name match pref_name='mf_[0cc3b612-a97d-4bd0-b496-3ed0686d4603]' cookie_name='vdz_sync' bad character range d-4 at position 20\n",
      "Error fuzzy name match pref_name='mf_[0cc3b612-a97d-4bd0-b496-3ed0686d4603]' cookie_name='KRTBCOOKIE_22' bad character range d-4 at position 20\n",
      "Error fuzzy name match pref_name='mf_[0cc3b612-a97d-4bd0-b496-3ed0686d4603]' cookie_name='check' bad character range d-4 at position 20\n",
      "Error fuzzy name match pref_name='mf_[0cc3b612-a97d-4bd0-b496-3ed0686d4603]' cookie_name='KRTBCOOKIE_32' bad character range d-4 at position 20\n",
      "Error fuzzy name match pref_name='mf_[0cc3b612-a97d-4bd0-b496-3ed0686d4603]' cookie_name='TapAd_DID' bad character range d-4 at position 20\n",
      "Error fuzzy name match pref_name='mf_[0cc3b612-a97d-4bd0-b496-3ed0686d4603]' cookie_name='KRTBCOOKIE_188' bad character range d-4 at position 20\n",
      "Error fuzzy name match pref_name='mf_[0cc3b612-a97d-4bd0-b496-3ed0686d4603]' cookie_name='_cc_id' bad character range d-4 at position 20\n",
      "Error fuzzy name match pref_name='mf_[0cc3b612-a97d-4bd0-b496-3ed0686d4603]' cookie_name='_cc_dc' bad character range d-4 at position 20\n",
      "Error fuzzy name match pref_name='mf_[0cc3b612-a97d-4bd0-b496-3ed0686d4603]' cookie_name='KRTBCOOKIE_860' bad character range d-4 at position 20\n"
     ]
    },
    {
     "name": "stderr",
     "output_type": "stream",
     "text": [
      "100%|██████████| 1444/1444 [04:41<00:00,  5.14it/s]\n"
     ]
    },
    {
     "data": {
      "text/html": [
       "<div>\n",
       "<style scoped>\n",
       "    .dataframe tbody tr th:only-of-type {\n",
       "        vertical-align: middle;\n",
       "    }\n",
       "\n",
       "    .dataframe tbody tr th {\n",
       "        vertical-align: top;\n",
       "    }\n",
       "\n",
       "    .dataframe thead th {\n",
       "        text-align: right;\n",
       "    }\n",
       "</style>\n",
       "<table border=\"1\" class=\"dataframe\">\n",
       "  <thead>\n",
       "    <tr style=\"text-align: right;\">\n",
       "      <th></th>\n",
       "      <th>name</th>\n",
       "      <th>domain</th>\n",
       "      <th>path</th>\n",
       "      <th>site</th>\n",
       "      <th>comply</th>\n",
       "    </tr>\n",
       "  </thead>\n",
       "  <tbody>\n",
       "    <tr>\n",
       "      <th>0</th>\n",
       "      <td>_ga_914YM665GV</td>\n",
       "      <td>.nextiva.com</td>\n",
       "      <td>/</td>\n",
       "      <td>nextiva.com</td>\n",
       "      <td>incorrect</td>\n",
       "    </tr>\n",
       "    <tr>\n",
       "      <th>1</th>\n",
       "      <td>__hssrc</td>\n",
       "      <td>.nextiva.com</td>\n",
       "      <td>/</td>\n",
       "      <td>nextiva.com</td>\n",
       "      <td>omit</td>\n",
       "    </tr>\n",
       "    <tr>\n",
       "      <th>2</th>\n",
       "      <td>PHPSESSID</td>\n",
       "      <td>www.nextiva.com</td>\n",
       "      <td>/</td>\n",
       "      <td>nextiva.com</td>\n",
       "      <td>comply</td>\n",
       "    </tr>\n",
       "    <tr>\n",
       "      <th>3</th>\n",
       "      <td>_ga</td>\n",
       "      <td>.nextiva.com</td>\n",
       "      <td>/</td>\n",
       "      <td>nextiva.com</td>\n",
       "      <td>incorrect</td>\n",
       "    </tr>\n",
       "    <tr>\n",
       "      <th>4</th>\n",
       "      <td>OptanonConsent</td>\n",
       "      <td>.nextiva.com</td>\n",
       "      <td>/</td>\n",
       "      <td>nextiva.com</td>\n",
       "      <td>comply</td>\n",
       "    </tr>\n",
       "  </tbody>\n",
       "</table>\n",
       "</div>"
      ],
      "text/plain": [
       "             name           domain path         site     comply\n",
       "0  _ga_914YM665GV     .nextiva.com    /  nextiva.com  incorrect\n",
       "1         __hssrc     .nextiva.com    /  nextiva.com       omit\n",
       "2       PHPSESSID  www.nextiva.com    /  nextiva.com     comply\n",
       "3             _ga     .nextiva.com    /  nextiva.com  incorrect\n",
       "4  OptanonConsent     .nextiva.com    /  nextiva.com     comply"
      ]
     },
     "execution_count": 12,
     "metadata": {},
     "output_type": "execute_result"
    }
   ],
   "source": [
    "import sys; import importlib; importlib.reload(sys.modules['consent.consistency.comply_util'])\n",
    "from consent.consistency.comply_util import get_comply\n",
    "\n",
    "print(\"faster: for cookie_pref in cookie_pref_set[cookie_pref_set.name == acookie['name']]:\")\n",
    "all_complies = get_comply(cookie_prefs, prj_sent_cookies)\n",
    "all_complies.head()"
   ]
  },
  {
   "cell_type": "code",
   "execution_count": null,
   "metadata": {},
   "outputs": [
    {
     "data": {
      "text/html": [
       "<div>\n",
       "<style scoped>\n",
       "    .dataframe tbody tr th:only-of-type {\n",
       "        vertical-align: middle;\n",
       "    }\n",
       "\n",
       "    .dataframe tbody tr th {\n",
       "        vertical-align: top;\n",
       "    }\n",
       "\n",
       "    .dataframe thead th {\n",
       "        text-align: right;\n",
       "    }\n",
       "</style>\n",
       "<table border=\"1\" class=\"dataframe\">\n",
       "  <thead>\n",
       "    <tr style=\"text-align: right;\">\n",
       "      <th></th>\n",
       "      <th>comply_type</th>\n",
       "      <th>num_sites</th>\n",
       "      <th>num_sites_percent</th>\n",
       "      <th>num_cookies</th>\n",
       "      <th>num_cookies_percent</th>\n",
       "      <th>num_cookies_per_site</th>\n",
       "    </tr>\n",
       "  </thead>\n",
       "  <tbody>\n",
       "    <tr>\n",
       "      <th>3</th>\n",
       "      <td>omit</td>\n",
       "      <td>1346</td>\n",
       "      <td>93.537179</td>\n",
       "      <td>29589</td>\n",
       "      <td>50.984751</td>\n",
       "      <td>21.982912</td>\n",
       "    </tr>\n",
       "    <tr>\n",
       "      <th>2</th>\n",
       "      <td>incorrect</td>\n",
       "      <td>1233</td>\n",
       "      <td>85.684503</td>\n",
       "      <td>18889</td>\n",
       "      <td>32.547601</td>\n",
       "      <td>15.319546</td>\n",
       "    </tr>\n",
       "    <tr>\n",
       "      <th>0</th>\n",
       "      <td>ambiguous</td>\n",
       "      <td>51</td>\n",
       "      <td>3.544128</td>\n",
       "      <td>79</td>\n",
       "      <td>0.136125</td>\n",
       "      <td>1.549020</td>\n",
       "    </tr>\n",
       "  </tbody>\n",
       "</table>\n",
       "</div>"
      ],
      "text/plain": [
       "  comply_type  num_sites  num_sites_percent  num_cookies  num_cookies_percent  \\\n",
       "3        omit       1346          93.537179        29589            50.984751   \n",
       "2   incorrect       1233          85.684503        18889            32.547601   \n",
       "0   ambiguous         51           3.544128           79             0.136125   \n",
       "\n",
       "   num_cookies_per_site  \n",
       "3             21.982912  \n",
       "2             15.319546  \n",
       "0              1.549020  "
      ]
     },
     "execution_count": 13,
     "metadata": {},
     "output_type": "execute_result"
    }
   ],
   "source": [
    "# Analyze complies here\n",
    "complies = all_complies[['name', 'domain', 'path', 'site', 'comply']].drop_duplicates()\n",
    "comply_sites_data = defaultdict(list)\n",
    "for comply_type, comply_group in complies.groupby('comply'):\n",
    "    n_sites = comply_group.site.nunique()\n",
    "    comply_sites_data['comply_type'].append(comply_type)\n",
    "    comply_sites_data['num_sites'].append(n_sites)\n",
    "    comply_sites = pd.DataFrame(comply_sites_data).sort_values(by=['num_sites'], ascending=False)\n",
    "\n",
    "nsites = all_complies.site.nunique()\n",
    "comply_counts = complies.comply.value_counts()\n",
    "comply_sites['num_sites_percent'] = comply_sites['num_sites'] / nsites * 100\n",
    "comply_sites['num_cookies'] = comply_sites['comply_type'].map(comply_counts)\n",
    "comply_sites['num_cookies_percent'] = comply_sites['num_cookies'] / comply_sites['num_cookies'].sum() * 100  # need to read scan_*.parquet for n_br_cookies, but may be unnecessary\n",
    "comply_sites['num_cookies_per_site'] = comply_sites['num_cookies'] / comply_sites['num_sites']\n",
    "\n",
    "# Do not count comply/correct enforcement: which require detecting all possible\n",
    "comply_sites = comply_sites[comply_sites.comply_type != 'comply']\n",
    "comply_sites"
   ]
  },
  {
   "cell_type": "code",
   "execution_count": null,
   "metadata": {},
   "outputs": [
    {
     "name": "stdout",
     "output_type": "stream",
     "text": [
      "Written 58,035 records of all_complies to /mnt/sdd/ducbui/projects/data2/consent/2024-10-10/all_complies_0k_20k.parquet\n"
     ]
    }
   ],
   "source": [
    "# Record the analysis results\n",
    "all_complies_file = SCAN_ROOT_DIR / f'all_complies{output_suffix}.parquet'\n",
    "all_complies.to_parquet(all_complies_file); print(f\"Written {len(all_complies):,d} records of all_complies to {all_complies_file}\")"
   ]
  },
  {
   "cell_type": "code",
   "execution_count": 15,
   "metadata": {},
   "outputs": [],
   "source": [
    "class StopExecution(Exception):\n",
    "    def _render_traceback_(self):\n",
    "        pass\n",
    "\n",
    "raise StopExecution\n",
    "import sys; sys.exit(0)"
   ]
  },
  {
   "cell_type": "code",
   "execution_count": 16,
   "metadata": {},
   "outputs": [
    {
     "data": {
      "text/plain": [
       "0              omit\n",
       "1              omit\n",
       "2              omit\n",
       "3              omit\n",
       "4              omit\n",
       "            ...    \n",
       "115682    incorrect\n",
       "115683    incorrect\n",
       "115684         omit\n",
       "115685       comply\n",
       "115686       comply\n",
       "Name: comply, Length: 115687, dtype: object"
      ]
     },
     "execution_count": 16,
     "metadata": {},
     "output_type": "execute_result"
    }
   ],
   "source": [
    "complies.comply"
   ]
  },
  {
   "cell_type": "code",
   "execution_count": 17,
   "metadata": {},
   "outputs": [
    {
     "data": {
      "text/plain": [
       "3412"
      ]
     },
     "execution_count": 17,
     "metadata": {},
     "output_type": "execute_result"
    }
   ],
   "source": [
    "nsites = all_complies.site.nunique(); nsites\n",
    "# all_complies.site.unique()"
   ]
  },
  {
   "cell_type": "code",
   "execution_count": 18,
   "metadata": {},
   "outputs": [
    {
     "data": {
      "text/plain": [
       "0"
      ]
     },
     "execution_count": 18,
     "metadata": {},
     "output_type": "execute_result"
    }
   ],
   "source": [
    "detected_contra_sites = [s for s, contras in site_to_contras.items() if len(contras) > 0]; len(detected_contra_sites)"
   ]
  },
  {
   "cell_type": "code",
   "execution_count": 19,
   "metadata": {},
   "outputs": [
    {
     "data": {
      "text/plain": [
       "omit         60214\n",
       "incorrect    35575\n",
       "comply       19067\n",
       "ambiguous      271\n",
       "Name: comply, dtype: int64"
      ]
     },
     "execution_count": 19,
     "metadata": {},
     "output_type": "execute_result"
    }
   ],
   "source": [
    "complies = all_complies[ ['name', 'domain', 'site', 'comply',]].drop_duplicates()\n",
    "comply_counts = complies.comply.value_counts()\n",
    "comply_counts"
   ]
  },
  {
   "cell_type": "code",
   "execution_count": 20,
   "metadata": {},
   "outputs": [
    {
     "name": "stdout",
     "output_type": "stream",
     "text": [
      "Num captured sent cookies: 12,865,663\n",
      "Num unique captured cookies: 6,925,444\n",
      "Num unique browser cookies: 276,967 on 3,412 websites\n"
     ]
    }
   ],
   "source": [
    "complies_sites = set(all_complies.site)\n",
    "sent_cookies_com = sent_cookies[sent_cookies.site.isin(complies_sites)]\n",
    "prj_sent_cookies_com = sent_cookies_com[['domain', 'expires', 'name', 'path', 'sameSite', 'secure', 'value', 'request_url', 'site']].drop_duplicates()\n",
    "prj_br_cookies_com = prj_sent_cookies_com[['domain', 'expires', 'name', 'path', 'sameSite', 'secure', 'site']].drop_duplicates()\n",
    "print(f\"Num captured sent cookies: {len(sent_cookies_com):,d}\")\n",
    "print(f\"Num unique captured cookies: {len(prj_sent_cookies_com):,d}\")\n",
    "\n",
    "n_br_cookies_com = len(prj_br_cookies_com)\n",
    "print(f\"Num unique browser cookies: {n_br_cookies_com:,d} on {prj_br_cookies_com.site.nunique():,d} websites\") # and {sent_cookies.page_url.nunique():,d} pages\")"
   ]
  },
  {
   "cell_type": "code",
   "execution_count": null,
   "metadata": {},
   "outputs": [],
   "source": []
  },
  {
   "cell_type": "markdown",
   "metadata": {},
   "source": [
    "# Analyze contras"
   ]
  },
  {
   "cell_type": "code",
   "execution_count": 21,
   "metadata": {},
   "outputs": [
    {
     "data": {
      "text/html": [
       "<div>\n",
       "<style scoped>\n",
       "    .dataframe tbody tr th:only-of-type {\n",
       "        vertical-align: middle;\n",
       "    }\n",
       "\n",
       "    .dataframe tbody tr th {\n",
       "        vertical-align: top;\n",
       "    }\n",
       "\n",
       "    .dataframe thead th {\n",
       "        text-align: right;\n",
       "    }\n",
       "</style>\n",
       "<table border=\"1\" class=\"dataframe\">\n",
       "  <thead>\n",
       "    <tr style=\"text-align: right;\">\n",
       "      <th></th>\n",
       "      <th>domain</th>\n",
       "      <th>name</th>\n",
       "      <th>site</th>\n",
       "    </tr>\n",
       "  </thead>\n",
       "  <tbody>\n",
       "    <tr>\n",
       "      <th>0</th>\n",
       "      <td>www.libertylondon.com</td>\n",
       "      <td>dwanonymous_xxxxxxxx</td>\n",
       "      <td>libertylondon.com</td>\n",
       "    </tr>\n",
       "    <tr>\n",
       "      <th>1</th>\n",
       "      <td>script.hotjar.com</td>\n",
       "      <td>_hjIncludedInPageviewSample</td>\n",
       "      <td>tartecosmetics.com</td>\n",
       "    </tr>\n",
       "    <tr>\n",
       "      <th>2</th>\n",
       "      <td>tartecosmetics.com</td>\n",
       "      <td>_hjIncludedInPageviewSample</td>\n",
       "      <td>tartecosmetics.com</td>\n",
       "    </tr>\n",
       "    <tr>\n",
       "      <th>3</th>\n",
       "      <td>tartecosmetics.com</td>\n",
       "      <td>_hjFirstSeen</td>\n",
       "      <td>tartecosmetics.com</td>\n",
       "    </tr>\n",
       "    <tr>\n",
       "      <th>4</th>\n",
       "      <td>script.hotjar.com</td>\n",
       "      <td>_hjIncludedInSessionSample</td>\n",
       "      <td>tartecosmetics.com</td>\n",
       "    </tr>\n",
       "  </tbody>\n",
       "</table>\n",
       "</div>"
      ],
      "text/plain": [
       "                  domain                         name                site\n",
       "0  www.libertylondon.com         dwanonymous_xxxxxxxx   libertylondon.com\n",
       "1      script.hotjar.com  _hjIncludedInPageviewSample  tartecosmetics.com\n",
       "2     tartecosmetics.com  _hjIncludedInPageviewSample  tartecosmetics.com\n",
       "3     tartecosmetics.com                 _hjFirstSeen  tartecosmetics.com\n",
       "4      script.hotjar.com   _hjIncludedInSessionSample  tartecosmetics.com"
      ]
     },
     "execution_count": 21,
     "metadata": {},
     "output_type": "execute_result"
    }
   ],
   "source": [
    "# Way 1: compute contra sites by dynamic analysis: this should be lower than statically analyzing prefs\n",
    "# because we cannot check all combinations of consent modes.\n",
    "from consent.consistency.comply_util import get_appr_rej_sets\n",
    "contra_data = []\n",
    "for asite in cookie_prefs.site.unique():\n",
    "    site_prefs = cookie_prefs[cookie_prefs.site == asite]\n",
    "    _, _, contras = get_appr_rej_sets(site_prefs)\n",
    "    for contra in contras:\n",
    "        contra['site'] = asite\n",
    "        contra_data.append(contra)\n",
    "contra_sites = pd.DataFrame(contra_data)\n",
    "contra_sites.head()"
   ]
  },
  {
   "cell_type": "code",
   "execution_count": 22,
   "metadata": {},
   "outputs": [
    {
     "ename": "AssertionError",
     "evalue": "this is the same method with above, so the result",
     "output_type": "error",
     "traceback": [
      "\u001b[0;31m---------------------------------------------------------------------------\u001b[0m",
      "\u001b[0;31mAssertionError\u001b[0m                            Traceback (most recent call last)",
      "Cell \u001b[0;32mIn[22], line 1\u001b[0m\n\u001b[0;32m----> 1\u001b[0m \u001b[39massert\u001b[39;00m \u001b[39mset\u001b[39m(detected_contra_sites) \u001b[39m==\u001b[39m \u001b[39mset\u001b[39m(contra_sites\u001b[39m.\u001b[39msite), \u001b[39m\"\u001b[39m\u001b[39mthis is the same method with above, so the result\u001b[39m\u001b[39m\"\u001b[39m\n",
      "\u001b[0;31mAssertionError\u001b[0m: this is the same method with above, so the result"
     ]
    }
   ],
   "source": [
    "assert set(detected_contra_sites) == set(contra_sites.site), \"this is the same method with above, so the result\""
   ]
  },
  {
   "cell_type": "code",
   "execution_count": null,
   "metadata": {},
   "outputs": [
    {
     "data": {
      "text/plain": [
       "{'247sports.com',\n",
       " 'abbvie.com',\n",
       " 'acquia.com',\n",
       " 'adobe.io',\n",
       " 'adweek.com',\n",
       " 'aljazeera.com',\n",
       " 'allaboutvision.com',\n",
       " 'allegiantair.com',\n",
       " 'allergan.com',\n",
       " 'alteryx.com',\n",
       " 'americanbar.org',\n",
       " 'aon.com',\n",
       " 'ariel.co.uk',\n",
       " 'asos.com',\n",
       " 'autosport.com',\n",
       " 'avalara.com',\n",
       " 'avast.com',\n",
       " 'avastbrowser.com',\n",
       " 'barnesandnoble.com',\n",
       " 'bazaarvoice.com',\n",
       " 'bbva.com',\n",
       " 'bd.com',\n",
       " 'behance.net',\n",
       " 'belkin.com',\n",
       " 'betsson.com',\n",
       " 'bitdefender.com',\n",
       " 'bitdefender.net',\n",
       " 'bkstr.com',\n",
       " 'blackboard.com',\n",
       " 'bplans.com',\n",
       " 'brightside.me',\n",
       " 'bromium-online.com',\n",
       " 'callofduty.com',\n",
       " 'cambridge.org',\n",
       " 'carbonite.com',\n",
       " 'cheapoair.com',\n",
       " 'chrysler.com',\n",
       " 'cisco.com',\n",
       " 'citationmachine.net',\n",
       " 'clickmeeting.com',\n",
       " 'clicktale.net',\n",
       " 'cloudbees.com',\n",
       " 'cnet.com',\n",
       " 'colt.net',\n",
       " 'commonsensemedia.org',\n",
       " 'contentsquare.com',\n",
       " 'conviva.com',\n",
       " 'creighton.edu',\n",
       " 'curalate.com',\n",
       " 'dc.com',\n",
       " 'dccomics.com',\n",
       " 'discogs.com',\n",
       " 'dynamicyield.com',\n",
       " 'easybib.com',\n",
       " 'eidos.com',\n",
       " 'elderscrollsonline.com',\n",
       " 'evri.com',\n",
       " 'ew.com',\n",
       " 'fabfitfun.com',\n",
       " 'fotolia.com',\n",
       " 'fourseasons.com',\n",
       " 'frontlineeducation.com',\n",
       " 'geappliances.com',\n",
       " 'geforce.com',\n",
       " 'genial.ly',\n",
       " 'getdbt.com',\n",
       " 'glip.com',\n",
       " 'gmu.edu',\n",
       " 'gopro.com',\n",
       " 'grainger.com',\n",
       " 'halfords.com',\n",
       " 'hallmark.com',\n",
       " 'hightail.com',\n",
       " 'hm.com',\n",
       " 'howstuffworks.com',\n",
       " 'hp.com',\n",
       " 'illumina.com',\n",
       " 'instyle.com',\n",
       " 'ipl.org',\n",
       " 'irishcentral.com',\n",
       " 'ironman.com',\n",
       " 'janes.com',\n",
       " 'jbl.com',\n",
       " 'jeep.com',\n",
       " 'jobvite.com',\n",
       " 'kew.org',\n",
       " 'lastline.com',\n",
       " 'launchdarkly.com',\n",
       " 'levi.com',\n",
       " 'liverpoolfc.com',\n",
       " 'logi.com',\n",
       " 'logitech.com',\n",
       " 'logitechg.com',\n",
       " 'mastercard.com',\n",
       " 'mastercard.us',\n",
       " 'mcgraw-hill.com',\n",
       " 'mckesson.com',\n",
       " 'meraki.com',\n",
       " 'mheducation.com',\n",
       " 'michaels.com',\n",
       " 'mlb.com',\n",
       " 'mongodb.com',\n",
       " 'mongodb.org',\n",
       " 'morningconsult.com',\n",
       " 'morrisons.com',\n",
       " 'motorsport.com',\n",
       " 'mtv.com',\n",
       " 'myportfolio.com',\n",
       " 'name.com',\n",
       " 'nba.com',\n",
       " 'ncaa.com',\n",
       " 'newsday.com',\n",
       " 'newsweaver.com',\n",
       " 'next.co.uk',\n",
       " 'nhl.com',\n",
       " 'ni.com',\n",
       " 'nspcc.org.uk',\n",
       " 'nvidia.com',\n",
       " 'ocado.com',\n",
       " 'omnitracs.com',\n",
       " 'onlyinyourstate.com',\n",
       " 'paradox.ai',\n",
       " 'parents.com',\n",
       " 'paypay.ne.jp',\n",
       " 'pcapredict.com',\n",
       " 'people.com',\n",
       " 'pge.com',\n",
       " 'phoenix.edu',\n",
       " 'pinknews.co.uk',\n",
       " 'politico.com',\n",
       " 'principal.com',\n",
       " 'prweb.com',\n",
       " 'rd.com',\n",
       " 'realsimple.com',\n",
       " 'ringcentral.com',\n",
       " 'rollout.io',\n",
       " 'royalacademy.org.uk',\n",
       " 'salliemae.com',\n",
       " 'samaritans.org',\n",
       " 'sanofi-synthelabo.com',\n",
       " 'sanofi.com',\n",
       " 'santander.co.uk',\n",
       " 'sciam.com',\n",
       " 'scientificamerican.com',\n",
       " 'senderscore.com',\n",
       " 'seon.io',\n",
       " 'sho.com',\n",
       " 'shuttercloud.org',\n",
       " 'shutterstock.com',\n",
       " 'signifyd.com',\n",
       " 'solvvy.com',\n",
       " 'sonos.com',\n",
       " 'sony.co.uk',\n",
       " 'sourcefire.com',\n",
       " 'sparknotes.com',\n",
       " 'square-enix-games.com',\n",
       " 'statista.com',\n",
       " 'suse.com',\n",
       " 'tasteofhome.com',\n",
       " 'telerik.com',\n",
       " 'thedailybeast.com',\n",
       " 'thedodo.com',\n",
       " 'thomsonreuters.com',\n",
       " 'thomsonreuters.net',\n",
       " 'travelandleisure.com',\n",
       " 'treasuredata.com',\n",
       " 'tripadvisor.in',\n",
       " 'typeform.com',\n",
       " 'typekit.com',\n",
       " 'uipath.com',\n",
       " 'ulta.com',\n",
       " 'umbrella.com',\n",
       " 'universe.com',\n",
       " 'urbanairship.com',\n",
       " 'vfsglobal.com',\n",
       " 'viber.com',\n",
       " 'visma.com',\n",
       " 'vmware.com',\n",
       " 'vmwareidentity.com',\n",
       " 'webmd.com',\n",
       " 'wfmz.com',\n",
       " 'whirlpool.com',\n",
       " 'workspaceoneaccess.com',\n",
       " 'worldoftanks.com',\n",
       " 'wwf.org.uk',\n",
       " 'yousendit.com',\n",
       " 'zdnet.com',\n",
       " 'zebra.com',\n",
       " 'zeiss.com',\n",
       " 'zennioptical.com',\n",
       " 'zoom.com',\n",
       " 'zoom.us'}"
      ]
     },
     "execution_count": 26,
     "metadata": {},
     "output_type": "execute_result"
    }
   ],
   "source": [
    "set(detected_contra_sites) - set(contra_sites.site)\n",
    "set(contra_sites.site) - set(detected_contra_sites)\n",
    "# This may be the sites excluded due to testing cookies in the preferences."
   ]
  },
  {
   "cell_type": "code",
   "execution_count": null,
   "metadata": {},
   "outputs": [],
   "source": [
    "# Way 2: compute contra sites by DataFrame group by\n",
    "contra_cookies_dfs = []\n",
    "for _, same_cookies in cookie_prefs.groupby(['name', 'domain', 'site']):\n",
    "    consent_modes = same_cookies.consent_mode.unique()\n",
    "    if len(consent_modes) >= 2 and same_cookies.category.nunique() > 1: # and 'always active' in consent_modes:\n",
    "        contra_cookies_dfs.append(same_cookies)\n",
    "contra_cookies = pd.concat(contra_cookies_dfs).drop_duplicates()"
   ]
  },
  {
   "cell_type": "code",
   "execution_count": null,
   "metadata": {},
   "outputs": [
    {
     "name": "stdout",
     "output_type": "stream",
     "text": [
      "Number sites with contra cookies: 184\n"
     ]
    }
   ],
   "source": [
    "print(\"Number sites with contra cookies:\", contra_cookies.site.nunique())"
   ]
  },
  {
   "cell_type": "code",
   "execution_count": null,
   "metadata": {},
   "outputs": [],
   "source": [
    "# set(contra_cookies.site) - set(contra_sites.site)"
   ]
  },
  {
   "cell_type": "code",
   "execution_count": null,
   "metadata": {},
   "outputs": [
    {
     "name": "stdout",
     "output_type": "stream",
     "text": [
      "Num contra cookie settings (double categories): 648 settings  on 184 sites\n",
      "Contras with 1 always-active: 192\n",
      "Contras with both editable: 0\n"
     ]
    }
   ],
   "source": [
    "print(\"Num contra cookie settings (double categories):\", len(contra_cookies), f\"settings  on {contra_cookies.site.nunique()} sites\")\n",
    "print(\"Contras with 1 always-active:\", contra_sites.site.nunique())\n",
    "print(\"Contras with both editable:\", len(set(contra_cookies.site) - set(contra_sites.site)))"
   ]
  },
  {
   "cell_type": "code",
   "execution_count": null,
   "metadata": {},
   "outputs": [],
   "source": []
  },
  {
   "cell_type": "code",
   "execution_count": null,
   "metadata": {},
   "outputs": [
    {
     "data": {
      "text/html": [
       "<div>\n",
       "<style scoped>\n",
       "    .dataframe tbody tr th:only-of-type {\n",
       "        vertical-align: middle;\n",
       "    }\n",
       "\n",
       "    .dataframe tbody tr th {\n",
       "        vertical-align: top;\n",
       "    }\n",
       "\n",
       "    .dataframe thead th {\n",
       "        text-align: right;\n",
       "    }\n",
       "</style>\n",
       "<table border=\"1\" class=\"dataframe\">\n",
       "  <thead>\n",
       "    <tr style=\"text-align: right;\">\n",
       "      <th></th>\n",
       "      <th>name</th>\n",
       "      <th>domain</th>\n",
       "      <th>duration</th>\n",
       "      <th>category_id</th>\n",
       "      <th>category</th>\n",
       "      <th>consent_mode</th>\n",
       "      <th>site</th>\n",
       "      <th>lib_name</th>\n",
       "      <th>pattern_name</th>\n",
       "      <th>consent</th>\n",
       "    </tr>\n",
       "  </thead>\n",
       "  <tbody>\n",
       "  </tbody>\n",
       "</table>\n",
       "</div>"
      ],
      "text/plain": [
       "Empty DataFrame\n",
       "Columns: [name, domain, duration, category_id, category, consent_mode, site, lib_name, pattern_name, consent]\n",
       "Index: []"
      ]
     },
     "execution_count": 31,
     "metadata": {},
     "output_type": "execute_result"
    }
   ],
   "source": [
    "contra_cookies[contra_cookies.site == 'elsevier.nl']"
   ]
  },
  {
   "cell_type": "code",
   "execution_count": null,
   "metadata": {},
   "outputs": [],
   "source": [
    "# assert len(detected_contra_sites) <= contra_sites.site.nunique() < len(detected_contra_sites) + 2"
   ]
  },
  {
   "cell_type": "code",
   "execution_count": null,
   "metadata": {},
   "outputs": [
    {
     "data": {
      "text/html": [
       "<div>\n",
       "<style scoped>\n",
       "    .dataframe tbody tr th:only-of-type {\n",
       "        vertical-align: middle;\n",
       "    }\n",
       "\n",
       "    .dataframe tbody tr th {\n",
       "        vertical-align: top;\n",
       "    }\n",
       "\n",
       "    .dataframe thead th {\n",
       "        text-align: right;\n",
       "    }\n",
       "</style>\n",
       "<table border=\"1\" class=\"dataframe\">\n",
       "  <thead>\n",
       "    <tr style=\"text-align: right;\">\n",
       "      <th></th>\n",
       "      <th>name</th>\n",
       "      <th>domain</th>\n",
       "      <th>site</th>\n",
       "      <th>comply</th>\n",
       "    </tr>\n",
       "  </thead>\n",
       "  <tbody>\n",
       "    <tr>\n",
       "      <th>173</th>\n",
       "      <td>TS013559a7</td>\n",
       "      <td>www.mastercard.us</td>\n",
       "      <td>mastercard.com</td>\n",
       "      <td>ambiguous</td>\n",
       "    </tr>\n",
       "    <tr>\n",
       "      <th>1236</th>\n",
       "      <td>_qubitTracker</td>\n",
       "      <td>.www.very.co.uk</td>\n",
       "      <td>very.co.uk</td>\n",
       "      <td>ambiguous</td>\n",
       "    </tr>\n",
       "    <tr>\n",
       "      <th>2365</th>\n",
       "      <td>G_ENABLED_IDPS</td>\n",
       "      <td>.www.glassdoor.com</td>\n",
       "      <td>glassdoor.com</td>\n",
       "      <td>ambiguous</td>\n",
       "    </tr>\n",
       "    <tr>\n",
       "      <th>2372</th>\n",
       "      <td>trs</td>\n",
       "      <td>www.glassdoor.com</td>\n",
       "      <td>glassdoor.com</td>\n",
       "      <td>ambiguous</td>\n",
       "    </tr>\n",
       "    <tr>\n",
       "      <th>2375</th>\n",
       "      <td>_gid</td>\n",
       "      <td>.glassdoor.com</td>\n",
       "      <td>glassdoor.com</td>\n",
       "      <td>ambiguous</td>\n",
       "    </tr>\n",
       "    <tr>\n",
       "      <th>...</th>\n",
       "      <td>...</td>\n",
       "      <td>...</td>\n",
       "      <td>...</td>\n",
       "      <td>...</td>\n",
       "    </tr>\n",
       "    <tr>\n",
       "      <th>59468</th>\n",
       "      <td>ak_bmsc</td>\n",
       "      <td>.mulesoft.com</td>\n",
       "      <td>mulesoft.com</td>\n",
       "      <td>ambiguous</td>\n",
       "    </tr>\n",
       "    <tr>\n",
       "      <th>59481</th>\n",
       "      <td>JSESSIONID</td>\n",
       "      <td>training.mulesoft.com</td>\n",
       "      <td>mulesoft.com</td>\n",
       "      <td>ambiguous</td>\n",
       "    </tr>\n",
       "    <tr>\n",
       "      <th>60397</th>\n",
       "      <td>TLTSID</td>\n",
       "      <td>.bkstr.com</td>\n",
       "      <td>bkstr.com</td>\n",
       "      <td>ambiguous</td>\n",
       "    </tr>\n",
       "    <tr>\n",
       "      <th>60412</th>\n",
       "      <td>dtSa</td>\n",
       "      <td>.bkstr.com</td>\n",
       "      <td>bkstr.com</td>\n",
       "      <td>ambiguous</td>\n",
       "    </tr>\n",
       "    <tr>\n",
       "      <th>60622</th>\n",
       "      <td>shortHash</td>\n",
       "      <td>.square-enix-games.com</td>\n",
       "      <td>square-enix-games.com</td>\n",
       "      <td>ambiguous</td>\n",
       "    </tr>\n",
       "  </tbody>\n",
       "</table>\n",
       "<p>116 rows × 4 columns</p>\n",
       "</div>"
      ],
      "text/plain": [
       "                 name                  domain                   site  \\\n",
       "173        TS013559a7       www.mastercard.us         mastercard.com   \n",
       "1236    _qubitTracker         .www.very.co.uk             very.co.uk   \n",
       "2365   G_ENABLED_IDPS      .www.glassdoor.com          glassdoor.com   \n",
       "2372              trs       www.glassdoor.com          glassdoor.com   \n",
       "2375             _gid          .glassdoor.com          glassdoor.com   \n",
       "...               ...                     ...                    ...   \n",
       "59468         ak_bmsc           .mulesoft.com           mulesoft.com   \n",
       "59481      JSESSIONID   training.mulesoft.com           mulesoft.com   \n",
       "60397          TLTSID              .bkstr.com              bkstr.com   \n",
       "60412            dtSa              .bkstr.com              bkstr.com   \n",
       "60622       shortHash  .square-enix-games.com  square-enix-games.com   \n",
       "\n",
       "          comply  \n",
       "173    ambiguous  \n",
       "1236   ambiguous  \n",
       "2365   ambiguous  \n",
       "2372   ambiguous  \n",
       "2375   ambiguous  \n",
       "...          ...  \n",
       "59468  ambiguous  \n",
       "59481  ambiguous  \n",
       "60397  ambiguous  \n",
       "60412  ambiguous  \n",
       "60622  ambiguous  \n",
       "\n",
       "[116 rows x 4 columns]"
      ]
     },
     "execution_count": 33,
     "metadata": {},
     "output_type": "execute_result"
    }
   ],
   "source": [
    "complies[complies.comply == 'ambiguous']"
   ]
  },
  {
   "cell_type": "code",
   "execution_count": null,
   "metadata": {},
   "outputs": [
    {
     "data": {
      "text/html": [
       "<div>\n",
       "<style scoped>\n",
       "    .dataframe tbody tr th:only-of-type {\n",
       "        vertical-align: middle;\n",
       "    }\n",
       "\n",
       "    .dataframe tbody tr th {\n",
       "        vertical-align: top;\n",
       "    }\n",
       "\n",
       "    .dataframe thead th {\n",
       "        text-align: right;\n",
       "    }\n",
       "</style>\n",
       "<table border=\"1\" class=\"dataframe\">\n",
       "  <thead>\n",
       "    <tr style=\"text-align: right;\">\n",
       "      <th></th>\n",
       "      <th>name</th>\n",
       "      <th>domain</th>\n",
       "      <th>duration</th>\n",
       "      <th>category_id</th>\n",
       "      <th>category</th>\n",
       "      <th>consent_mode</th>\n",
       "      <th>site</th>\n",
       "      <th>lib_name</th>\n",
       "      <th>pattern_name</th>\n",
       "      <th>consent</th>\n",
       "    </tr>\n",
       "  </thead>\n",
       "  <tbody>\n",
       "    <tr>\n",
       "      <th>88</th>\n",
       "      <td>utag_main</td>\n",
       "      <td>.michaels.com</td>\n",
       "      <td>365 days</td>\n",
       "      <td>C0001</td>\n",
       "      <td>Strictly Necessary Cookies</td>\n",
       "      <td>always active</td>\n",
       "      <td>michaels.com</td>\n",
       "      <td>onetrust</td>\n",
       "      <td>en.json</td>\n",
       "      <td>True</td>\n",
       "    </tr>\n",
       "    <tr>\n",
       "      <th>148</th>\n",
       "      <td>utag_main</td>\n",
       "      <td>michaels.com</td>\n",
       "      <td>365 days</td>\n",
       "      <td>C0002</td>\n",
       "      <td>Performance Cookies</td>\n",
       "      <td>active</td>\n",
       "      <td>michaels.com</td>\n",
       "      <td>onetrust</td>\n",
       "      <td>en.json</td>\n",
       "      <td>False</td>\n",
       "    </tr>\n",
       "  </tbody>\n",
       "</table>\n",
       "</div>"
      ],
      "text/plain": [
       "          name         domain  duration category_id  \\\n",
       "88   utag_main  .michaels.com  365 days       C0001   \n",
       "148  utag_main   michaels.com  365 days       C0002   \n",
       "\n",
       "                       category   consent_mode          site  lib_name  \\\n",
       "88   Strictly Necessary Cookies  always active  michaels.com  onetrust   \n",
       "148         Performance Cookies         active  michaels.com  onetrust   \n",
       "\n",
       "    pattern_name consent  \n",
       "88       en.json    True  \n",
       "148      en.json   False  "
      ]
     },
     "execution_count": 34,
     "metadata": {},
     "output_type": "execute_result"
    }
   ],
   "source": [
    "cookie_prefs[ (cookie_prefs.site == 'michaels.com') & (cookie_prefs.name == 'utag_main') ]"
   ]
  },
  {
   "cell_type": "code",
   "execution_count": null,
   "metadata": {},
   "outputs": [
    {
     "data": {
      "text/html": [
       "<div>\n",
       "<style scoped>\n",
       "    .dataframe tbody tr th:only-of-type {\n",
       "        vertical-align: middle;\n",
       "    }\n",
       "\n",
       "    .dataframe tbody tr th {\n",
       "        vertical-align: top;\n",
       "    }\n",
       "\n",
       "    .dataframe thead th {\n",
       "        text-align: right;\n",
       "    }\n",
       "</style>\n",
       "<table border=\"1\" class=\"dataframe\">\n",
       "  <thead>\n",
       "    <tr style=\"text-align: right;\">\n",
       "      <th></th>\n",
       "      <th>name</th>\n",
       "      <th>domain</th>\n",
       "      <th>duration</th>\n",
       "      <th>category_id</th>\n",
       "      <th>category</th>\n",
       "      <th>consent_mode</th>\n",
       "      <th>site</th>\n",
       "      <th>lib_name</th>\n",
       "      <th>pattern_name</th>\n",
       "      <th>consent</th>\n",
       "    </tr>\n",
       "  </thead>\n",
       "  <tbody>\n",
       "    <tr>\n",
       "      <th>74</th>\n",
       "      <td>id</td>\n",
       "      <td>m6r.eu</td>\n",
       "      <td>90 days</td>\n",
       "      <td>C0001</td>\n",
       "      <td>Necessary Cookies</td>\n",
       "      <td>always active</td>\n",
       "      <td>statista.com</td>\n",
       "      <td>onetrust</td>\n",
       "      <td>en.json</td>\n",
       "      <td>True</td>\n",
       "    </tr>\n",
       "    <tr>\n",
       "      <th>131</th>\n",
       "      <td>id</td>\n",
       "      <td>m6r.eu</td>\n",
       "      <td>0 days</td>\n",
       "      <td>C0004</td>\n",
       "      <td>Targeting Cookies</td>\n",
       "      <td>inactive</td>\n",
       "      <td>statista.com</td>\n",
       "      <td>onetrust</td>\n",
       "      <td>en.json</td>\n",
       "      <td>False</td>\n",
       "    </tr>\n",
       "  </tbody>\n",
       "</table>\n",
       "</div>"
      ],
      "text/plain": [
       "    name  domain duration category_id           category   consent_mode  \\\n",
       "74    id  m6r.eu  90 days       C0001  Necessary Cookies  always active   \n",
       "131   id  m6r.eu   0 days       C0004  Targeting Cookies       inactive   \n",
       "\n",
       "             site  lib_name pattern_name consent  \n",
       "74   statista.com  onetrust      en.json    True  \n",
       "131  statista.com  onetrust      en.json   False  "
      ]
     },
     "execution_count": 35,
     "metadata": {},
     "output_type": "execute_result"
    }
   ],
   "source": [
    "cookie_prefs[ (cookie_prefs.site == 'statista.com') & (cookie_prefs.name == 'id') ]"
   ]
  },
  {
   "cell_type": "code",
   "execution_count": null,
   "metadata": {},
   "outputs": [],
   "source": [
    "# contra_cookies.name.value_counts()[:10]\n",
    "# contra_cookies[contra_cookies.name == '__cf_bm'].reset_index(drop=True) # .site.nunique()"
   ]
  },
  {
   "cell_type": "markdown",
   "metadata": {},
   "source": [
    "# Analyze ambiguous flows"
   ]
  },
  {
   "cell_type": "code",
   "execution_count": null,
   "metadata": {},
   "outputs": [],
   "source": [
    "ambi_cookies = complies[complies.comply == 'ambiguous']\n",
    "print(\"Num ambiguous cookies:\", len(ambi_cookies), \"on num sites:\", ambi_cookies.site.nunique())\n",
    "assert len(ambi_cookies) == len(ambi_cookies.drop_duplicates()), \"there is some duplicate cookies\"\n"
   ]
  },
  {
   "cell_type": "markdown",
   "metadata": {},
   "source": [
    "## Analyze no-way-to-opt-out"
   ]
  },
  {
   "cell_type": "code",
   "execution_count": null,
   "metadata": {},
   "outputs": [],
   "source": [
    "# Way 1: compute contra sites by DataFrame group by\n",
    "nwtoo_cookies_dfs = []\n",
    "for _, site_cookies in cookie_prefs.groupby(['site']):\n",
    "    consent_modes = site_cookies.consent_mode.unique().tolist()\n",
    "    if len(consent_modes) == 1 and consent_modes[0] == 'always active':\n",
    "        nwtoo_cookies_dfs.append(site_cookies)\n",
    "nwtoo_cookies = pd.concat(nwtoo_cookies_dfs).drop_duplicates()\n",
    "nwtoo_cookies.head()"
   ]
  },
  {
   "cell_type": "code",
   "execution_count": null,
   "metadata": {},
   "outputs": [],
   "source": [
    "nwtoo_cookies.site.nunique()"
   ]
  },
  {
   "cell_type": "markdown",
   "metadata": {},
   "source": [
    "# Analyze inconsistent flows/cookies"
   ]
  },
  {
   "cell_type": "code",
   "execution_count": null,
   "metadata": {},
   "outputs": [],
   "source": [
    "def plot_inconsis_types():\n",
    "    sns.set(rc={'figure.figsize':(9,9),\"font.size\":30,\"axes.titlesize\":30,\"axes.labelsize\":30},style=\"white\", font_scale = 2.5)\n",
    "\n",
    "    ax = sns.barplot(x='comply_type', y='num_sites_percent', data=noncomply_sites)\n",
    "    ax.tick_params(left=True, bottom=True, direction=\"in\")\n",
    "    ax.set_ylabel('# Websites (%)')\n",
    "    ax.set_xlabel('Noncompliance Types')\n",
    "    xticks = [x.get_text().title() for x in ax.get_xticklabels()]\n",
    "    ax.set(xticklabels=xticks)\n",
    "\n",
    "    out_file = FIG_DIR / 'noncomply_types_per_site.png'\n",
    "    # plt.savefig(out_file, dpi=200, bbox_inches='tight'); print(f\"Written to {out_file}\")"
   ]
  },
  {
   "cell_type": "code",
   "execution_count": null,
   "metadata": {},
   "outputs": [],
   "source": [
    "## Plot distribution of omitted cookie declarations"
   ]
  },
  {
   "cell_type": "code",
   "execution_count": null,
   "metadata": {},
   "outputs": [],
   "source": [
    "omit_complies = complies[(complies.comply == 'omit')] #  & ~complies.name.isin(['OptanonAlertBoxClosed', 'OptanonConsent']) ]\n",
    "omit_complies.site.nunique()"
   ]
  },
  {
   "cell_type": "code",
   "execution_count": null,
   "metadata": {},
   "outputs": [],
   "source": [
    "omit_complies.site.value_counts()[:7]"
   ]
  },
  {
   "cell_type": "code",
   "execution_count": null,
   "metadata": {},
   "outputs": [],
   "source": [
    "omit_cookies = omit_complies.name.value_counts()[:5].to_frame().reset_index().rename(columns={'index': 'cookie_name'})\n",
    "omit_cookies['num_sites'] = omit_cookies['cookie_name'].map(lambda cookie_name: omit_complies[omit_complies.name == cookie_name].site.nunique())\n",
    "print(omit_cookies.head(5)[['cookie_name', 'num_sites']].rename(columns={'cookie_name': 'Cookie Name', 'num_sites': '# Websites'}).to_latex(index=False))"
   ]
  },
  {
   "cell_type": "code",
   "execution_count": null,
   "metadata": {},
   "outputs": [],
   "source": [
    "# set(cookielist_sites) - set(omit_complies.site.unique())\n",
    "omit_counts = omit_complies.site.value_counts().to_frame().rename(columns={'site': 'num_omit_cookies'})\n",
    "print(\"Num omitted sites:\", omit_complies.site.nunique())\n",
    "omit_counts.num_omit_cookies.mean(), omit_counts.num_omit_cookies.std(), omit_counts.num_omit_cookies.min(), omit_counts.num_omit_cookies.max()"
   ]
  },
  {
   "cell_type": "code",
   "execution_count": null,
   "metadata": {},
   "outputs": [],
   "source": [
    "sns.set(rc={'figure.figsize':(12,8),\"font.size\":35,\"axes.titlesize\":30,\"axes.labelsize\":50},style=\"white\", font_scale = 4.5)\n",
    "sns.set_style(\"ticks\", {\"xtick.direction\": \"in\", \"ytick.direction\": \"in\"})\n",
    "plt.rcParams['xtick.major.size'] = 15\n",
    "plt.rcParams['ytick.major.size'] = 15\n",
    "\n",
    "ax = sns.ecdfplot(data=omit_counts, x=omit_counts.num_omit_cookies, linewidth=8)\n",
    "ax.set(xlim=(0, 350))\n",
    "\n",
    "plt.xlabel('# Omitted Cookies/Website')\n",
    "plt.ylabel('CDF')\n",
    "# out_file = FIG_DIR / 'eu_omit_cookie_cdf.png'\n",
    "# plt.savefig(out_file, dpi=200, bbox_inches='tight'); print(f\"Written to {out_file}\")"
   ]
  },
  {
   "cell_type": "code",
   "execution_count": null,
   "metadata": {},
   "outputs": [],
   "source": [
    "plot_df = omit_counts[:50]\n",
    "\n",
    "sns.set(rc={'figure.figsize':(24,8),\"font.size\":35,\"axes.titlesize\":35,\"axes.labelsize\":25},style=\"white\", font_scale=1.5)\n",
    "ax = sns.barplot(x=plot_df.index, y=plot_df.num_omit_cookies)\n",
    "ticks = plt.xticks(rotation=45, ha='right')\n",
    "\n",
    "ax.tick_params(left=True, bottom=False, direction=\"in\")\n",
    "ax.set_ylabel('# Omitted Cookies')\n",
    "ax.set_xlabel('Website')\n",
    "\n",
    "# out_file = FIG_DIR / 'omit_site.png'\n",
    "# plt.savefig(out_file, dpi=200, bbox_inches='tight'); print(f\"Written to {out_file}\")"
   ]
  },
  {
   "cell_type": "code",
   "execution_count": null,
   "metadata": {},
   "outputs": [],
   "source": [
    "def plot_histogram_omit():\n",
    "    sns.set(rc={'figure.figsize':(9,6),\"font.size\":25,\"axes.titlesize\":25,\"axes.labelsize\":15},style=\"white\", font_scale = 1)\n",
    "    omit_counts_histo = omit_complies.site.value_counts().value_counts()\n",
    "    sns.barplot(x=omit_counts_histo.index, y=omit_counts_histo.values)\n",
    "    ticks = plt.xticks(rotation=45, ha='right')"
   ]
  },
  {
   "cell_type": "markdown",
   "metadata": {},
   "source": [
    "## Plot distribution of incorrectly enforced cookies"
   ]
  },
  {
   "cell_type": "code",
   "execution_count": null,
   "metadata": {},
   "outputs": [],
   "source": [
    "incor_complies = complies[complies.comply == 'incorrect']\n",
    "# set(cookielist_sites) - set(omit_complies.site.unique())\n",
    "incor_counts = incor_complies.site.value_counts().iloc[:50]\n",
    "incor_counts = incor_counts.to_frame().reset_index().sort_values(by=['site', 'index'], ascending=[False, True])\n",
    "incor_counts.columns"
   ]
  },
  {
   "cell_type": "code",
   "execution_count": null,
   "metadata": {},
   "outputs": [],
   "source": [
    "sns.set(rc={'figure.figsize':(24,8),\"font.size\":35,\"axes.titlesize\":35,\"axes.labelsize\":25},style=\"white\", font_scale=1.5)\n",
    "ax = sns.barplot(x='index', y='site', data=incor_counts)\n",
    "\n",
    "ticks = plt.xticks(rotation=45, ha='right')\n",
    "\n",
    "ax.tick_params(left=True, bottom=True, direction=\"in\")\n",
    "ax.set_ylabel('# Incorrectly Enforced Cookies')\n",
    "ax.set_xlabel('Website')\n",
    "\n",
    "# out_file = FIG_DIR / 'incor_site.png'\n",
    "# plt.savefig(out_file, dpi=200, bbox_inches='tight'); print(f\"Written to {out_file}\")"
   ]
  },
  {
   "cell_type": "code",
   "execution_count": null,
   "metadata": {},
   "outputs": [],
   "source": [
    "# len(incor_counts)"
   ]
  },
  {
   "cell_type": "code",
   "execution_count": null,
   "metadata": {},
   "outputs": [],
   "source": [
    "incor_counts[incor_counts.site == 33].reset_index(drop=True)"
   ]
  },
  {
   "cell_type": "markdown",
   "metadata": {},
   "source": [
    "### Top incorrect cookies"
   ]
  },
  {
   "cell_type": "code",
   "execution_count": null,
   "metadata": {},
   "outputs": [],
   "source": [
    "incor_cookies = complies[complies.comply == 'incorrect']"
   ]
  },
  {
   "cell_type": "code",
   "execution_count": null,
   "metadata": {},
   "outputs": [],
   "source": [
    "# site = 'onetrust.com'\n",
    "# complies[complies.site == site].reset_index(drop=True)\n",
    "# cookie_prefs[(cookie_prefs.site == site) & (cookie_prefs.name == '_gid')]"
   ]
  },
  {
   "cell_type": "code",
   "execution_count": null,
   "metadata": {},
   "outputs": [],
   "source": [
    "top_incor_cookies = incor_cookies.name.value_counts().sort_values(ascending=False).to_frame().reset_index().rename(columns={'index':'cookie_name', 'name': 'num_occur'})"
   ]
  },
  {
   "cell_type": "code",
   "execution_count": null,
   "metadata": {},
   "outputs": [],
   "source": [
    "top_incor_cookies['num_sites'] = top_incor_cookies.cookie_name.map(lambda cookie_name: incor_cookies[incor_cookies.name == cookie_name].site.nunique())"
   ]
  },
  {
   "cell_type": "code",
   "execution_count": null,
   "metadata": {},
   "outputs": [],
   "source": [
    "print(top_incor_cookies.head(5)[['cookie_name', 'num_sites']].rename(columns={'cookie_name': 'Cookie Name', 'num_sites': '# Websites'}).to_latex(index=False))"
   ]
  },
  {
   "cell_type": "markdown",
   "metadata": {},
   "source": [
    "# Narrow cookie consent preferences"
   ]
  },
  {
   "cell_type": "code",
   "execution_count": null,
   "metadata": {},
   "outputs": [],
   "source": [
    "consent_cookies = sent_cookies[sent_cookies.name.isin(['OptanonConsent', 'CookieConsent'])][['domain', 'name', 'site']].drop_duplicates()\n",
    "narrow_consent_cookies = consent_cookies[~consent_cookies.domain.str.startswith('.')].reset_index(drop=True)"
   ]
  },
  {
   "cell_type": "code",
   "execution_count": null,
   "metadata": {},
   "outputs": [],
   "source": [
    "set(contra_cookies.site).intersection(set(narrow_consent_cookies.site))"
   ]
  },
  {
   "cell_type": "code",
   "execution_count": null,
   "metadata": {},
   "outputs": [],
   "source": [
    "narrow_consent_cookies"
   ]
  },
  {
   "cell_type": "markdown",
   "metadata": {},
   "source": [
    "# Case studies"
   ]
  },
  {
   "cell_type": "code",
   "execution_count": null,
   "metadata": {},
   "outputs": [],
   "source": [
    "incor_df = complies[complies.comply == 'incorrect']\n",
    "incor_df.site.value_counts().sort_values(ascending=False).head()"
   ]
  },
  {
   "cell_type": "code",
   "execution_count": null,
   "metadata": {},
   "outputs": [],
   "source": [
    "case_site = 'blabbermouth.net'\n",
    "incor_df[incor_df.site == case_site]"
   ]
  },
  {
   "cell_type": "code",
   "execution_count": null,
   "metadata": {},
   "outputs": [],
   "source": [
    "# cookie_prefs[(cookie_prefs.site == 'scientificamerican.com') & (cookie_prefs.name == 'MXP_TRACKINGID')]\n",
    "cookie_prefs[(cookie_prefs.site == case_site) & (cookie_prefs.name == 'IDE')]"
   ]
  },
  {
   "cell_type": "code",
   "execution_count": null,
   "metadata": {},
   "outputs": [],
   "source": [
    "# sent_cookies[(sent_cookies.site == 'scientificamerican.com') & (sent_cookies.name == 'MXP_TRACKINGID')]"
   ]
  },
  {
   "cell_type": "code",
   "execution_count": null,
   "metadata": {},
   "outputs": [],
   "source": [
    "omit_df = complies[complies.comply == 'omit']\n",
    "omit_df.site.value_counts().sort_values(ascending=False).iloc[20:30]"
   ]
  },
  {
   "cell_type": "code",
   "execution_count": null,
   "metadata": {},
   "outputs": [],
   "source": [
    "print(omit_df[omit_df.site == 'scientificamerican.com'].reset_index().name.tolist())"
   ]
  },
  {
   "cell_type": "code",
   "execution_count": null,
   "metadata": {},
   "outputs": [],
   "source": [
    "'uids' in omit_df[omit_df.site == 'scientificamerican.com'].reset_index().name.tolist()"
   ]
  },
  {
   "cell_type": "code",
   "execution_count": null,
   "metadata": {},
   "outputs": [],
   "source": [
    "omit_df[(omit_df.site == 'scientificamerican.com') & (omit_df.name == 'cftoken')]"
   ]
  },
  {
   "cell_type": "code",
   "execution_count": null,
   "metadata": {},
   "outputs": [],
   "source": [
    "cookie_prefs[(cookie_prefs.site == 'scientificamerican.com') & (cookie_prefs.name == 'ADGRX_UID')]"
   ]
  },
  {
   "cell_type": "code",
   "execution_count": null,
   "metadata": {},
   "outputs": [],
   "source": []
  },
  {
   "cell_type": "code",
   "execution_count": null,
   "metadata": {},
   "outputs": [],
   "source": []
  },
  {
   "cell_type": "code",
   "execution_count": null,
   "metadata": {},
   "outputs": [],
   "source": []
  },
  {
   "cell_type": "code",
   "execution_count": null,
   "metadata": {},
   "outputs": [],
   "source": []
  },
  {
   "cell_type": "code",
   "execution_count": null,
   "metadata": {},
   "outputs": [],
   "source": []
  },
  {
   "cell_type": "code",
   "execution_count": null,
   "metadata": {},
   "outputs": [],
   "source": [
    "all_sites = set(complies.site)\n",
    "nothing_comply_sites = all_sites - set(complies[complies.comply == 'comply'].site)\n",
    "print(\"Sites with no compliant cookies:\", nothing_comply_sites)"
   ]
  },
  {
   "cell_type": "code",
   "execution_count": null,
   "metadata": {},
   "outputs": [],
   "source": [
    "for site in ['liveperson.com']: # nothing_comply_sites:\n",
    "    print(site)\n",
    "site_cookies = postrej_br_cookies[postrej_br_cookies.site == site]"
   ]
  },
  {
   "cell_type": "code",
   "execution_count": null,
   "metadata": {},
   "outputs": [],
   "source": [
    "acookie = site_cookies[site_cookies.name == 'OptanonAlertBoxClosed'].iloc[0]"
   ]
  },
  {
   "cell_type": "code",
   "execution_count": null,
   "metadata": {},
   "outputs": [],
   "source": [
    "site_prefs = cookie_prefs[cookie_prefs.site == site]\n",
    "consent_cookies = site_prefs[site_prefs.consent]\n",
    "consent_cookie_names = consent_cookies.name\n",
    "site_cookies[site_cookies.name.isin(consent_cookie_names)]\n",
    "# cookie_name = 'OptanonAlertBoxClosed'\n",
    "# cookie_pref = site_prefs[site_prefs.name == cookie_name].iloc[0]\n",
    "# cookie_pref"
   ]
  },
  {
   "cell_type": "code",
   "execution_count": null,
   "metadata": {},
   "outputs": [],
   "source": [
    "consent_cookies"
   ]
  },
  {
   "cell_type": "code",
   "execution_count": null,
   "metadata": {},
   "outputs": [],
   "source": [
    "import sys; import importlib; importlib.reload(sys.modules['consent.consistency.cookie_pref_match'])\n",
    "from consent.consistency.cookie_pref_match import cookie_pref_match\n",
    "cookie_pref_match(acookie, cookie_pref, site, verbose=2)"
   ]
  },
  {
   "cell_type": "code",
   "execution_count": null,
   "metadata": {},
   "outputs": [],
   "source": [
    "# Analyze Contras"
   ]
  },
  {
   "cell_type": "code",
   "execution_count": null,
   "metadata": {},
   "outputs": [],
   "source": []
  },
  {
   "cell_type": "code",
   "execution_count": null,
   "metadata": {},
   "outputs": [],
   "source": []
  },
  {
   "cell_type": "code",
   "execution_count": null,
   "metadata": {},
   "outputs": [],
   "source": []
  },
  {
   "cell_type": "code",
   "execution_count": null,
   "metadata": {},
   "outputs": [],
   "source": []
  },
  {
   "cell_type": "code",
   "execution_count": null,
   "metadata": {},
   "outputs": [],
   "source": []
  },
  {
   "cell_type": "code",
   "execution_count": null,
   "metadata": {},
   "outputs": [],
   "source": []
  },
  {
   "cell_type": "code",
   "execution_count": null,
   "metadata": {},
   "outputs": [],
   "source": []
  },
  {
   "cell_type": "code",
   "execution_count": null,
   "metadata": {},
   "outputs": [],
   "source": []
  },
  {
   "cell_type": "code",
   "execution_count": null,
   "metadata": {},
   "outputs": [],
   "source": []
  },
  {
   "cell_type": "code",
   "execution_count": null,
   "metadata": {},
   "outputs": [],
   "source": []
  },
  {
   "cell_type": "code",
   "execution_count": null,
   "metadata": {},
   "outputs": [],
   "source": []
  },
  {
   "cell_type": "code",
   "execution_count": null,
   "metadata": {},
   "outputs": [],
   "source": []
  },
  {
   "cell_type": "code",
   "execution_count": null,
   "metadata": {},
   "outputs": [],
   "source": []
  },
  {
   "cell_type": "code",
   "execution_count": null,
   "metadata": {},
   "outputs": [],
   "source": []
  },
  {
   "cell_type": "code",
   "execution_count": null,
   "metadata": {},
   "outputs": [],
   "source": []
  },
  {
   "cell_type": "code",
   "execution_count": null,
   "metadata": {},
   "outputs": [],
   "source": []
  },
  {
   "cell_type": "code",
   "execution_count": null,
   "metadata": {},
   "outputs": [],
   "source": []
  },
  {
   "cell_type": "code",
   "execution_count": null,
   "metadata": {},
   "outputs": [],
   "source": []
  },
  {
   "cell_type": "code",
   "execution_count": null,
   "metadata": {},
   "outputs": [],
   "source": [
    "\n",
    "\n",
    "\n",
    "\n",
    "\n",
    "\n",
    "\n",
    "\n",
    "\n",
    "\n",
    "\n",
    "\n",
    "\n",
    "\n",
    "\n",
    "\n",
    "\n",
    "\n",
    "\n",
    "\n",
    "\n",
    "\n",
    "\n",
    "\n",
    "\n",
    "\n",
    "\n",
    "\n",
    "\n",
    "\n",
    "\n",
    "\n",
    "\n",
    "\n",
    "\n",
    "\n",
    "\n",
    "\n",
    "\n",
    "\n",
    "\n",
    "\n",
    "\n",
    "\n",
    "\n",
    "\n",
    "\n",
    "\n",
    "\n",
    "\n",
    "\n"
   ]
  }
 ],
 "metadata": {
  "kernelspec": {
   "display_name": "consent",
   "language": "python",
   "name": "python3"
  },
  "language_info": {
   "codemirror_mode": {
    "name": "ipython",
    "version": 3
   },
   "file_extension": ".py",
   "mimetype": "text/x-python",
   "name": "python",
   "nbconvert_exporter": "python",
   "pygments_lexer": "ipython3",
   "version": "3.8.19"
  }
 },
 "nbformat": 4,
 "nbformat_minor": 4
}
