{
 "cells": [
  {
   "cell_type": "code",
   "execution_count": 1,
   "metadata": {},
   "outputs": [
    {
     "name": "stdout",
     "output_type": "stream",
     "text": [
      "Scan root dir: /mnt/sdd/ducbui/projects/data2/consent/2024-10-06\n",
      "Output suffix: _0k_20k\n",
      "Scan dirs: [PosixPath('/mnt/sdd/ducbui/projects/data2/consent/2024-10-06/pref_menu_scan_0k_20k')]\n"
     ]
    }
   ],
   "source": [
    "from collections import defaultdict\n",
    "from pathlib import Path\n",
    "\n",
    "import matplotlib.pyplot as plt\n",
    "import pandas as pd\n",
    "import seaborn as sns\n",
    "\n",
    "from consent.consistency.comply_util import site_to_contras, get_comply\n",
    "from consent.consistency.cookie_pref_match import cookie_pref_match\n",
    "from consent.consistency.util import get_scan_root_dir, get_scan_dirs # , FIG_DIR uncomment to save fig.\n",
    "from consent.data.pref_menu_scan.cookie_pref_reader import read_cookie_prefs_in_scans\n",
    "from consent.data.pref_menu_scan.har_cookie_reader import read_postrej_sent_cookies_in_scans\n",
    "\n",
    "cur_set = '0k_20k' # '20k_100k'\n",
    "overwrite = True\n",
    "SCAN_ROOT_DIR = get_scan_root_dir('london')\n",
    "SCAN_DIRS = [SCAN_ROOT_DIR / f'pref_menu_scan_{cur_set}']\n",
    "# SCAN_DIRS = get_scan_dirs('us')[:]\n",
    "output_suffix = '_' + cur_set # '0k_20k'  # '20k_100k' #'60k_80k' # '40k_60k' # # '100k_200k'; done: '20k_40k' '0k_20k'\n",
    "print('Scan root dir:', SCAN_ROOT_DIR)\n",
    "print('Output suffix:', output_suffix)\n",
    "print('Scan dirs:', SCAN_DIRS)"
   ]
  },
  {
   "cell_type": "code",
   "execution_count": 2,
   "metadata": {},
   "outputs": [
    {
     "name": "stdout",
     "output_type": "stream",
     "text": [
      "To save to /mnt/sdd/ducbui/projects/data2/consent/2024-10-06/cookie_decls_0k_20k.parquet\n"
     ]
    },
    {
     "name": "stdout",
     "output_type": "stream",
     "text": [
      "WARNING: Found non-unique (not found or >1 instance) apc.com\n",
      "WARNING: error decoding /mnt/sdd/ducbui/projects/data2/consent/2024-10-06/pref_menu_scan_0k_20k/getclockwise.com/consent_resources.json: region_block Received an out-of-region response\n",
      "WARNING: error decoding /mnt/sdd/ducbui/projects/data2/consent/2024-10-06/pref_menu_scan_0k_20k/movavi.com/consent_resources.json: malform_resp Failed to extract cookie data from cc.js: invalid syntax (<unknown>, line 1)\n",
      "https://cdn.cookielaw.org/consent/03b96273-0ebc-43cb-8885-cdfaeadad5b9/ea63918d-8f11-4be4-8159-b197f44513ee/en.json WARNING: Cookie list has session cookie but duration > 0\n",
      "File sumup.com consent_resources.json has no data\n",
      "File iberia.com consent_resources.json has no data\n",
      "WARNING: error decoding /mnt/sdd/ducbui/projects/data2/consent/2024-10-06/pref_menu_scan_0k_20k/scribbr.com/consent_resources.json: region_block Received an out-of-region response\n",
      "https://cdn-ukwest.onetrust.com/consent/86f42b6d-7a31-469c-804c-319643173d42/018dfc06-483a-7d19-9eb2-a34125b8679d/en.json WARNING: Cookie list has session cookie but duration > 0\n",
      "WARNING: error decoding /mnt/sdd/ducbui/projects/data2/consent/2024-10-06/pref_menu_scan_0k_20k/gitlab.com/consent_resources.json: consent_js not supported yet.\n",
      "WARNING: error decoding /mnt/sdd/ducbui/projects/data2/consent/2024-10-06/pref_menu_scan_0k_20k/gitlab.io/consent_resources.json: consent_js not supported yet.\n",
      "https://cdn.cookielaw.org/consent/c570eb43-1169-4222-914c-38a09bd70ca0/018de4cc-f70c-7787-a3c1-7bbec76b67f4/en.json WARNING: Cookie list has session cookie but duration > 0\n",
      "Written to /mnt/sdd/ducbui/projects/data2/consent/2024-10-06/cookie_decls_0k_20k.parquet\n",
      "Written to /mnt/sdd/ducbui/projects/data2/consent/2024-10-06/cookie_prefs_0k_20k.parquet\n"
     ]
    },
    {
     "data": {
      "text/html": [
       "<div>\n",
       "<style scoped>\n",
       "    .dataframe tbody tr th:only-of-type {\n",
       "        vertical-align: middle;\n",
       "    }\n",
       "\n",
       "    .dataframe tbody tr th {\n",
       "        vertical-align: top;\n",
       "    }\n",
       "\n",
       "    .dataframe thead th {\n",
       "        text-align: right;\n",
       "    }\n",
       "</style>\n",
       "<table border=\"1\" class=\"dataframe\">\n",
       "  <thead>\n",
       "    <tr style=\"text-align: right;\">\n",
       "      <th></th>\n",
       "      <th>name</th>\n",
       "      <th>domain</th>\n",
       "      <th>duration</th>\n",
       "      <th>category_id</th>\n",
       "      <th>category</th>\n",
       "      <th>consent_mode</th>\n",
       "      <th>site</th>\n",
       "      <th>lib_name</th>\n",
       "      <th>pattern_name</th>\n",
       "      <th>consent</th>\n",
       "    </tr>\n",
       "  </thead>\n",
       "  <tbody>\n",
       "    <tr>\n",
       "      <th>0</th>\n",
       "      <td>.AxcmXFaxAuth</td>\n",
       "      <td>fax.nextiva.com</td>\n",
       "      <td>0 days</td>\n",
       "      <td>C0001</td>\n",
       "      <td>Strictly Necessary Cookies</td>\n",
       "      <td>always active</td>\n",
       "      <td>nextiva.com</td>\n",
       "      <td>onetrust</td>\n",
       "      <td>en.json</td>\n",
       "      <td>True</td>\n",
       "    </tr>\n",
       "    <tr>\n",
       "      <th>1</th>\n",
       "      <td>__cf_bm</td>\n",
       "      <td>nextiva.com</td>\n",
       "      <td>0 days</td>\n",
       "      <td>C0001</td>\n",
       "      <td>Strictly Necessary Cookies</td>\n",
       "      <td>always active</td>\n",
       "      <td>nextiva.com</td>\n",
       "      <td>onetrust</td>\n",
       "      <td>en.json</td>\n",
       "      <td>True</td>\n",
       "    </tr>\n",
       "    <tr>\n",
       "      <th>2</th>\n",
       "      <td>_ce.cch</td>\n",
       "      <td>nextiva.com</td>\n",
       "      <td>Session</td>\n",
       "      <td>C0001</td>\n",
       "      <td>Strictly Necessary Cookies</td>\n",
       "      <td>always active</td>\n",
       "      <td>nextiva.com</td>\n",
       "      <td>onetrust</td>\n",
       "      <td>en.json</td>\n",
       "      <td>True</td>\n",
       "    </tr>\n",
       "    <tr>\n",
       "      <th>3</th>\n",
       "      <td>ao</td>\n",
       "      <td>sso.nextiva.com</td>\n",
       "      <td>0 days</td>\n",
       "      <td>C0001</td>\n",
       "      <td>Strictly Necessary Cookies</td>\n",
       "      <td>always active</td>\n",
       "      <td>nextiva.com</td>\n",
       "      <td>onetrust</td>\n",
       "      <td>en.json</td>\n",
       "      <td>True</td>\n",
       "    </tr>\n",
       "    <tr>\n",
       "      <th>4</th>\n",
       "      <td>autolaunch_triggered</td>\n",
       "      <td>sso.nextiva.com</td>\n",
       "      <td>0 days</td>\n",
       "      <td>C0001</td>\n",
       "      <td>Strictly Necessary Cookies</td>\n",
       "      <td>always active</td>\n",
       "      <td>nextiva.com</td>\n",
       "      <td>onetrust</td>\n",
       "      <td>en.json</td>\n",
       "      <td>True</td>\n",
       "    </tr>\n",
       "  </tbody>\n",
       "</table>\n",
       "</div>"
      ],
      "text/plain": [
       "                   name           domain duration category_id  \\\n",
       "0         .AxcmXFaxAuth  fax.nextiva.com   0 days       C0001   \n",
       "1               __cf_bm      nextiva.com   0 days       C0001   \n",
       "2               _ce.cch      nextiva.com  Session       C0001   \n",
       "3                    ao  sso.nextiva.com   0 days       C0001   \n",
       "4  autolaunch_triggered  sso.nextiva.com   0 days       C0001   \n",
       "\n",
       "                     category   consent_mode         site  lib_name  \\\n",
       "0  Strictly Necessary Cookies  always active  nextiva.com  onetrust   \n",
       "1  Strictly Necessary Cookies  always active  nextiva.com  onetrust   \n",
       "2  Strictly Necessary Cookies  always active  nextiva.com  onetrust   \n",
       "3  Strictly Necessary Cookies  always active  nextiva.com  onetrust   \n",
       "4  Strictly Necessary Cookies  always active  nextiva.com  onetrust   \n",
       "\n",
       "  pattern_name consent  \n",
       "0      en.json    True  \n",
       "1      en.json    True  \n",
       "2      en.json    True  \n",
       "3      en.json    True  \n",
       "4      en.json    True  "
      ]
     },
     "execution_count": 2,
     "metadata": {},
     "output_type": "execute_result"
    }
   ],
   "source": [
    "# Get cookie prefs = cookie decls + prefs\n",
    "cookie_prefs_file = SCAN_ROOT_DIR / f'cookie_prefs{output_suffix}.parquet'\n",
    "\n",
    "if not cookie_prefs_file.exists() or overwrite:\n",
    "    save_cookie_decls_file = SCAN_ROOT_DIR / f'cookie_decls{output_suffix}.parquet'\n",
    "    print(f'To save to {save_cookie_decls_file}')\n",
    "    cookie_prefs = read_cookie_prefs_in_scans(SCAN_DIRS, save_cookie_decls_file)  # took 2.3min for top 50k-site scan\n",
    "    cookie_prefs.to_parquet(cookie_prefs_file); print(f'Written to {cookie_prefs_file}')\n",
    "else:\n",
    "    cookie_prefs = pd.read_parquet(cookie_prefs_file)\n",
    "cookie_prefs.head()\n",
    "# TODO: add log_file_checker"
   ]
  },
  {
   "cell_type": "code",
   "execution_count": null,
   "metadata": {},
   "outputs": [
    {
     "name": "stdout",
     "output_type": "stream",
     "text": [
      "Found cookie libraries:\n"
     ]
    },
    {
     "data": {
      "text/plain": [
       "lib_name\n",
       "onetrust     1223\n",
       "cookiebot     132\n",
       "Name: count, dtype: int64"
      ]
     },
     "execution_count": 3,
     "metadata": {},
     "output_type": "execute_result"
    }
   ],
   "source": [
    "print(\"Found cookie libraries:\")\n",
    "cookie_prefs[['site', 'lib_name']].drop_duplicates().lib_name.value_counts()"
   ]
  },
  {
   "cell_type": "code",
   "execution_count": null,
   "metadata": {},
   "outputs": [
    {
     "name": "stdout",
     "output_type": "stream",
     "text": [
      "Sites with cookie prefs: 1355 , first 10 sites: ['2k.com', '2ksports.com', 'aber.ac.uk', 'abercrombie.com', 'acast.com', 'accedo.tv', 'accenture.com', 'accor.com', 'accorhotels.com', 'acehardware.com']\n"
     ]
    }
   ],
   "source": [
    "cookielist_sites = sorted(cookie_prefs.site.unique().tolist())\n",
    "n_cookielist_sites = len(cookielist_sites)\n",
    "assert cookie_prefs.site.nunique() == n_cookielist_sites\n",
    "n=10\n",
    "print(\"Sites with cookie prefs:\", n_cookielist_sites, f', first {n} sites:' , cookielist_sites[:n])"
   ]
  },
  {
   "cell_type": "code",
   "execution_count": 5,
   "metadata": {},
   "outputs": [],
   "source": [
    "site_to_libname = {row['site']: row['lib_name'] for row in cookie_prefs[['site', 'lib_name']].drop_duplicates().to_dict('records')}"
   ]
  },
  {
   "cell_type": "code",
   "execution_count": 6,
   "metadata": {},
   "outputs": [
    {
     "name": "stdout",
     "output_type": "stream",
     "text": [
      "0.015817310477830106\n",
      "0.029888177988197026\n",
      "0.002896943310957895\n"
     ]
    },
    {
     "data": {
      "text/html": [
       "<div>\n",
       "<style scoped>\n",
       "    .dataframe tbody tr th:only-of-type {\n",
       "        vertical-align: middle;\n",
       "    }\n",
       "\n",
       "    .dataframe tbody tr th {\n",
       "        vertical-align: top;\n",
       "    }\n",
       "\n",
       "    .dataframe thead th {\n",
       "        text-align: right;\n",
       "    }\n",
       "</style>\n",
       "<table border=\"1\" class=\"dataframe\">\n",
       "  <thead>\n",
       "    <tr style=\"text-align: right;\">\n",
       "      <th></th>\n",
       "      <th>name</th>\n",
       "      <th>domain</th>\n",
       "      <th>duration</th>\n",
       "      <th>category_id</th>\n",
       "      <th>category</th>\n",
       "      <th>consent_mode</th>\n",
       "      <th>site</th>\n",
       "      <th>lib_name</th>\n",
       "      <th>pattern_name</th>\n",
       "      <th>consent</th>\n",
       "    </tr>\n",
       "  </thead>\n",
       "  <tbody>\n",
       "    <tr>\n",
       "      <th>101</th>\n",
       "      <td>visitor_id#####</td>\n",
       "      <td>go.nextiva.com</td>\n",
       "      <td>364 days</td>\n",
       "      <td>C0004</td>\n",
       "      <td>Targeting Cookies</td>\n",
       "      <td>inactive</td>\n",
       "      <td>nextiva.com</td>\n",
       "      <td>onetrust</td>\n",
       "      <td>en.json</td>\n",
       "      <td>False</td>\n",
       "    </tr>\n",
       "    <tr>\n",
       "      <th>24</th>\n",
       "      <td>_gd#############</td>\n",
       "      <td>j.6sc.co</td>\n",
       "      <td>730 days</td>\n",
       "      <td>C0002</td>\n",
       "      <td>Performance Cookies</td>\n",
       "      <td>inactive</td>\n",
       "      <td>wework.com</td>\n",
       "      <td>onetrust</td>\n",
       "      <td>en.json</td>\n",
       "      <td>False</td>\n",
       "    </tr>\n",
       "    <tr>\n",
       "      <th>30</th>\n",
       "      <td>_gd#############</td>\n",
       "      <td>www.wework.com</td>\n",
       "      <td>730 days</td>\n",
       "      <td>C0003</td>\n",
       "      <td>Functional Cookies</td>\n",
       "      <td>inactive</td>\n",
       "      <td>wework.com</td>\n",
       "      <td>onetrust</td>\n",
       "      <td>en.json</td>\n",
       "      <td>False</td>\n",
       "    </tr>\n",
       "    <tr>\n",
       "      <th>34</th>\n",
       "      <td>_gd#############</td>\n",
       "      <td>cdnjs.cloudflare.com</td>\n",
       "      <td>730 days</td>\n",
       "      <td>C0003</td>\n",
       "      <td>Functional Cookies</td>\n",
       "      <td>inactive</td>\n",
       "      <td>wework.com</td>\n",
       "      <td>onetrust</td>\n",
       "      <td>en.json</td>\n",
       "      <td>False</td>\n",
       "    </tr>\n",
       "    <tr>\n",
       "      <th>44</th>\n",
       "      <td>AMP_unsent_#</td>\n",
       "      <td>commercial.cdn.aws.placeit.net</td>\n",
       "      <td>Persistent</td>\n",
       "      <td>statistics</td>\n",
       "      <td>statistics</td>\n",
       "      <td>None</td>\n",
       "      <td>placeit.net</td>\n",
       "      <td>cookiebot</td>\n",
       "      <td>cc.js</td>\n",
       "      <td>False</td>\n",
       "    </tr>\n",
       "    <tr>\n",
       "      <th>...</th>\n",
       "      <td>...</td>\n",
       "      <td>...</td>\n",
       "      <td>...</td>\n",
       "      <td>...</td>\n",
       "      <td>...</td>\n",
       "      <td>...</td>\n",
       "      <td>...</td>\n",
       "      <td>...</td>\n",
       "      <td>...</td>\n",
       "      <td>...</td>\n",
       "    </tr>\n",
       "    <tr>\n",
       "      <th>140</th>\n",
       "      <td>visitor_id#####</td>\n",
       "      <td>click.outreach.io</td>\n",
       "      <td>3649 days</td>\n",
       "      <td>4</td>\n",
       "      <td>Targeting Cookies</td>\n",
       "      <td>inactive</td>\n",
       "      <td>outreach.io</td>\n",
       "      <td>onetrust</td>\n",
       "      <td>en.json</td>\n",
       "      <td>False</td>\n",
       "    </tr>\n",
       "    <tr>\n",
       "      <th>147</th>\n",
       "      <td>visitor_id#####</td>\n",
       "      <td>pi.pardot.com</td>\n",
       "      <td>3649 days</td>\n",
       "      <td>4</td>\n",
       "      <td>Targeting Cookies</td>\n",
       "      <td>inactive</td>\n",
       "      <td>outreach.io</td>\n",
       "      <td>onetrust</td>\n",
       "      <td>en.json</td>\n",
       "      <td>False</td>\n",
       "    </tr>\n",
       "    <tr>\n",
       "      <th>170</th>\n",
       "      <td>visitor_id#####</td>\n",
       "      <td>pardot.com</td>\n",
       "      <td>3649 days</td>\n",
       "      <td>4</td>\n",
       "      <td>Targeting Cookies</td>\n",
       "      <td>inactive</td>\n",
       "      <td>outreach.io</td>\n",
       "      <td>onetrust</td>\n",
       "      <td>en.json</td>\n",
       "      <td>False</td>\n",
       "    </tr>\n",
       "    <tr>\n",
       "      <th>172</th>\n",
       "      <td>_gd#############</td>\n",
       "      <td>j.6sc.co</td>\n",
       "      <td>729 days</td>\n",
       "      <td>4</td>\n",
       "      <td>Targeting Cookies</td>\n",
       "      <td>inactive</td>\n",
       "      <td>outreach.io</td>\n",
       "      <td>onetrust</td>\n",
       "      <td>en.json</td>\n",
       "      <td>False</td>\n",
       "    </tr>\n",
       "    <tr>\n",
       "      <th>220</th>\n",
       "      <td>_gd#############</td>\n",
       "      <td>cdnjs.cloudflare.com</td>\n",
       "      <td>729 days</td>\n",
       "      <td>4</td>\n",
       "      <td>Targeting Cookies</td>\n",
       "      <td>inactive</td>\n",
       "      <td>outreach.io</td>\n",
       "      <td>onetrust</td>\n",
       "      <td>en.json</td>\n",
       "      <td>False</td>\n",
       "    </tr>\n",
       "  </tbody>\n",
       "</table>\n",
       "<p>3822 rows × 10 columns</p>\n",
       "</div>"
      ],
      "text/plain": [
       "                 name                          domain    duration category_id  \\\n",
       "101   visitor_id#####                  go.nextiva.com    364 days       C0004   \n",
       "24   _gd#############                        j.6sc.co    730 days       C0002   \n",
       "30   _gd#############                  www.wework.com    730 days       C0003   \n",
       "34   _gd#############            cdnjs.cloudflare.com    730 days       C0003   \n",
       "44       AMP_unsent_#  commercial.cdn.aws.placeit.net  Persistent  statistics   \n",
       "..                ...                             ...         ...         ...   \n",
       "140   visitor_id#####               click.outreach.io   3649 days           4   \n",
       "147   visitor_id#####                   pi.pardot.com   3649 days           4   \n",
       "170   visitor_id#####                      pardot.com   3649 days           4   \n",
       "172  _gd#############                        j.6sc.co    729 days           4   \n",
       "220  _gd#############            cdnjs.cloudflare.com    729 days           4   \n",
       "\n",
       "                category consent_mode         site   lib_name pattern_name  \\\n",
       "101    Targeting Cookies     inactive  nextiva.com   onetrust      en.json   \n",
       "24   Performance Cookies     inactive   wework.com   onetrust      en.json   \n",
       "30    Functional Cookies     inactive   wework.com   onetrust      en.json   \n",
       "34    Functional Cookies     inactive   wework.com   onetrust      en.json   \n",
       "44            statistics         None  placeit.net  cookiebot        cc.js   \n",
       "..                   ...          ...          ...        ...          ...   \n",
       "140    Targeting Cookies     inactive  outreach.io   onetrust      en.json   \n",
       "147    Targeting Cookies     inactive  outreach.io   onetrust      en.json   \n",
       "170    Targeting Cookies     inactive  outreach.io   onetrust      en.json   \n",
       "172    Targeting Cookies     inactive  outreach.io   onetrust      en.json   \n",
       "220    Targeting Cookies     inactive  outreach.io   onetrust      en.json   \n",
       "\n",
       "    consent  \n",
       "101   False  \n",
       "24    False  \n",
       "30    False  \n",
       "34    False  \n",
       "44    False  \n",
       "..      ...  \n",
       "140   False  \n",
       "147   False  \n",
       "170   False  \n",
       "172   False  \n",
       "220   False  \n",
       "\n",
       "[3822 rows x 10 columns]"
      ]
     },
     "execution_count": 6,
     "metadata": {},
     "output_type": "execute_result"
    }
   ],
   "source": [
    "# Quick checking the cookie declaration naming\n",
    "print(len(cookie_prefs[cookie_prefs.name.str.endswith('#')]) / len(cookie_prefs))\n",
    "print(len(cookie_prefs[cookie_prefs.name.str.endswith('xxx')]) / len(cookie_prefs))\n",
    "print(len(cookie_prefs[cookie_prefs.name.str.endswith('XXX')]) / len(cookie_prefs))\n",
    "cookie_prefs[cookie_prefs.name.str.endswith('#')]"
   ]
  },
  {
   "cell_type": "code",
   "execution_count": 7,
   "metadata": {},
   "outputs": [],
   "source": [
    "# # Distribution of errors\n",
    "# print(\"Libs in failed-to-crawl sites\")\n",
    "# errors.consent_lib_name.value_counts()\n",
    "# from ooutil.df_util import expand_dict_col\n",
    "# ot_errs = errors[errors.consent_lib_name == 'onetrust']\n",
    "# errors_dict = pd.DataFrame(ot_errs.error.tolist()).explode('reason')\n",
    "# # Uncomment to show\n",
    "# # errors_dict.reason.value_counts()"
   ]
  },
  {
   "cell_type": "markdown",
   "metadata": {},
   "source": [
    "# Main analysis"
   ]
  },
  {
   "cell_type": "code",
   "execution_count": 8,
   "metadata": {
    "tags": []
   },
   "outputs": [
    {
     "name": "stdout",
     "output_type": "stream",
     "text": [
      "Unmatch url and consent cookie domain: page_url='https://www.wework.cn/zh-CN/city/shenzhen/?lang=en-us' consent_cookie.cookie['domain']='.www.wework.com' consent_cookie.cookie['path']='/' wework.com/postrej_2.har.xz\n",
      "Unmatch url and consent cookie domain: page_url='https://www.cengage.com/' consent_cookie.cookie['domain']='.cengage.uk' consent_cookie.cookie['path']='/' cengage.com/postrej_0.har.xz\n",
      "Post rej cookie not contain consent cookie, renfe.com/postrej_0.har.xz not have cookie OptanonConsent of .renfe.com on path /\n",
      "Post rej cookie not contain consent cookie, loggly.com/postrej_2.har.xz not have cookie OptanonConsent of .www.loggly.com on path /\n",
      "Unmatch url and consent cookie domain: page_url='https://documentation.solarwinds.com/en/success_center/loggly/content/admin/cloudtrail-log-ingestion.htm?cshid=loggly_cloudtrail-log-ingestion' consent_cookie.cookie['domain']='.www.loggly.com' consent_cookie.cookie['path']='/' loggly.com/postrej_1.har.xz\n",
      "Unmatch url and consent cookie domain: page_url='https://documentation.solarwinds.com/en/success_center/loggly/content/admin/logging-setup.htm?cshid=loggly_logging-setup' consent_cookie.cookie['domain']='.www.loggly.com' consent_cookie.cookie['path']='/' loggly.com/postrej_4.har.xz\n",
      "Post rej cookie not contain consent cookie, lidl.com/postrej_0.har.xz not have cookie OptanonConsent of .lidl.com on path /\n",
      "Error reading har file /mnt/sdd/ducbui/projects/data2/consent/2024-10-06/pref_menu_scan_0k_20k/osu.edu/postrej_2.har.xz: 'DataFrame' object has no attribute 'request'\n",
      "Post rej cookie not contain consent cookie, warnerbros.com/postrej_0.har.xz not have cookie OptanonConsent of .warnerbros.com on path /\n",
      "Post rej cookie not contain consent cookie, twoplayergames.org/postrej_0.har.xz not have cookie CookieConsent of www.twoplayergames.org on path /\n",
      "Post rej cookie not contain consent cookie, foursquare.com/postrej_2.har.xz not have cookie OptanonConsent of .foursquare.com on path /\n",
      "Post rej cookie not contain consent cookie, jixie.io/postrej_0.har.xz not have cookie OptanonConsent of .accenture.com on path /\n",
      "Post rej cookie not contain consent cookie, moonactive.net/postrej_0.har.xz not have cookie OptanonConsent of .moonactive.com on path /\n",
      "Post rej cookie not contain consent cookie, samknows.com/postrej_0.har.xz not have cookie OptanonConsent of .samknows.com on path /\n",
      "Post rej cookie not contain consent cookie, samknows.com/postrej_4.har.xz not have cookie OptanonConsent of .samknows.com on path /\n",
      "Post rej cookie not contain consent cookie, vewd.com/postrej_0.har.xz not have cookie OptanonConsent of .tivo.com on path /\n",
      "Domain path mismatch: .www.pwc.com domain's path /us not match url https://www.pwc.com/bw/en/\n",
      "Unmatch url and consent cookie domain: page_url='https://www.pwc.com/bw/en/' consent_cookie.cookie['domain']='.www.pwc.com' consent_cookie.cookie['path']='/us' pwc.com/postrej_2.har.xz\n",
      "Post rej cookie not contain consent cookie, evergage.com/postrej_0.har.xz not have cookie OptanonConsent of .salesforce.com on path /\n",
      "Domain path mismatch: .www.asics.com domain's path /us/en-us not match url https://uscareers.asics.com/\n",
      "Unmatch url and consent cookie domain: page_url='https://uscareers.asics.com/' consent_cookie.cookie['domain']='.www.asics.com' consent_cookie.cookie['path']='/us/en-us' asics.com/postrej_4.har.xz\n",
      "Post rej cookie not contain consent cookie, dexcom.com/postrej_0.har.xz not have cookie OptanonConsent of .dexcom.com on path /\n",
      "Post rej cookie not contain consent cookie, turnitin.com/postrej_0.har.xz not have cookie OptanonConsent of .turnitin.com on path /\n",
      "Post rej cookie not contain consent cookie, sheffield.ac.uk/postrej_0.har.xz not have cookie OptanonConsent of .sheffield.ac.uk on path /\n",
      "Post rej cookie not contain consent cookie, phenompeople.com/postrej_0.har.xz not have cookie OptanonConsent of .phenom.com on path /\n",
      "Domain path mismatch: .klarna.com domain's path /us/ not match url https://www.klarna.com/ca/\n",
      "Unmatch url and consent cookie domain: page_url='https://www.klarna.com/ca/' consent_cookie.cookie['domain']='.klarna.com' consent_cookie.cookie['path']='/us/' usehero.com/postrej_2.har.xz\n",
      "Domain path mismatch: .klarna.com domain's path /us/ not match url https://www.klarna.com/ie/\n",
      "Unmatch url and consent cookie domain: page_url='https://www.klarna.com/ie/' consent_cookie.cookie['domain']='.klarna.com' consent_cookie.cookie['path']='/us/' usehero.com/postrej_5.har.xz\n",
      "Domain path mismatch: .klarna.com domain's path /us/ not match url https://www.klarna.com/gr/\n",
      "Unmatch url and consent cookie domain: page_url='https://www.klarna.com/gr/' consent_cookie.cookie['domain']='.klarna.com' consent_cookie.cookie['path']='/us/' usehero.com/postrej_1.har.xz\n",
      "Domain path mismatch: .klarna.com domain's path /us/ not match url https://login.klarna.com/na/lp/idp/oauth2/auth?client_id=639c2886-026e-452f-b5fc-096683d95b0e&redirect_uri=https%3A%2F%2Fapp.klarna.com%2Fauth%2Fcallback&nonce=fpNQQA_BB9g111VqoGGQPQ&response_type=code&scope=openid+offline_access+default&state=v_AwQk9L8Q8Uj4K1TunvYw&market=US&ui_locales=en-US&code_challenge_method=S256&code_challenge=HqWy_QnsS_kzYKp__DN9rn7jErMlnFITuXxr9_fvaG0&mode=login&funnel_id=8f4cd7e0-f57b-458f-8e35-d3c5c849e7da&device_id=undefined&klarna_app_flavor=pink&klarna_app_version=24.41.157%2B16&audience=access\n",
      "Unmatch url and consent cookie domain: page_url='https://login.klarna.com/na/lp/idp/oauth2/auth?client_id=639c2886-026e-452f-b5fc-096683d95b0e&redirect_uri=https%3A%2F%2Fapp.klarna.com%2Fauth%2Fcallback&nonce=fpNQQA_BB9g111VqoGGQPQ&response_type=code&scope=openid+offline_access+default&state=v_AwQk9L8Q8Uj4K1TunvYw&market=US&ui_locales=en-US&code_challenge_method=S256&code_challenge=HqWy_QnsS_kzYKp__DN9rn7jErMlnFITuXxr9_fvaG0&mode=login&funnel_id=8f4cd7e0-f57b-458f-8e35-d3c5c849e7da&device_id=undefined&klarna_app_flavor=pink&klarna_app_version=24.41.157%2B16&audience=access' consent_cookie.cookie['domain']='.klarna.com' consent_cookie.cookie['path']='/us/' usehero.com/postrej_3.har.xz\n",
      "Domain path mismatch: .klarna.com domain's path /us/ not match url https://www.klarna.com/dk/\n",
      "Unmatch url and consent cookie domain: page_url='https://www.klarna.com/dk/' consent_cookie.cookie['domain']='.klarna.com' consent_cookie.cookie['path']='/us/' usehero.com/postrej_4.har.xz\n",
      "Unmatch url and consent cookie domain: page_url='https://handshake.notion.site/Handshake-brand-identity-7b0b077cc88240e2a7ec1b55400b02b0' consent_cookie.cookie['domain']='.joinhandshake.com' consent_cookie.cookie['path']='/' joinhandshake.com/postrej_5.har.xz\n",
      "Post rej cookie not contain consent cookie, sonymobile.com/postrej_0.har.xz not have cookie OptanonConsent of .electronics.sony.com on path /\n",
      "Post rej cookie not contain consent cookie, cpanel.net/postrej_0.har.xz not have cookie CookieConsent of www.cpanel.net on path /\n",
      "Unmatch url and consent cookie domain: page_url='https://www.salesforce.com/privacy/products/?bc=HB' consent_cookie.cookie['domain']='.quip.com' consent_cookie.cookie['path']='/' quip.com/postrej_4.har.xz\n",
      "Post rej cookie not contain consent cookie, se.com/postrej_0.har.xz not have cookie OptanonConsent of .se.com on path /\n",
      "Unmatch url and consent cookie domain: page_url='https://portal.notified.com/en/registration' consent_cookie.cookie['domain']='.globenewswire.com' consent_cookie.cookie['path']='/' globenewswire.com/postrej_4.har.xz\n",
      "Error reading har file /mnt/sdd/ducbui/projects/data2/consent/2024-10-06/pref_menu_scan_0k_20k/schneider-electric.com/postrej_1.har.xz: 'DataFrame' object has no attribute 'request'\n",
      "Post rej cookie not contain consent cookie, schneider-electric.com/postrej_0.har.xz not have cookie OptanonConsent of .se.com on path /\n",
      "Unmatch url and consent cookie domain: page_url='https://privacyportal-cdn.onetrust.com/dsarwebform/dbf5ae8a-0a6a-4f4b-b527-7f94d0de6bbc/5dc91c0f-f1b7-4b6e-9d42-76043adaf72d.html' consent_cookie.cookie['domain']='.thomsonreuters.com' consent_cookie.cookie['path']='/' thomsonreuters.net/postrej_2.har.xz\n",
      "Post rej cookie not contain consent cookie, frontier.com/postrej_0.har.xz not have cookie OptanonConsent of .frontier.com on path /\n",
      "Unmatch url and consent cookie domain: page_url='https://id.elsevier.com/as/authorization.oauth2?ui_locales=en-US&client_id=HMM2-PROD&redirect_uri=https%3A%2F%2Fwww.us.elsevierhealth.com%2Fidplus-customer%2Ftoken%2Fexchange%2F&platSite=HMM2%2Fhmm2&response_type=code&prompt=login&state=502597864793842064a75c1ce8015de3&scope=openid+profile+email+phone+address+els_auth_info+els_analytics_info+urn%3Acom%3Aelsevier%3Aidp%3Apolicy%3Aproduct%3Aindv_identity+urn%3Aidp%3Apolicy%3Aproduct%3Aconfirmation%3Aemailconfirmation' consent_cookie.cookie['domain']='.us.elsevierhealth.com' consent_cookie.cookie['path']='/' elsevierhealth.com/postrej_5.har.xz\n",
      "Domain path mismatch: .verizon.com domain's path /business not match url https://www.verizon.com/about/responsibility/giving-and-grants\n",
      "Unmatch url and consent cookie domain: page_url='https://www.verizon.com/about/responsibility/giving-and-grants' consent_cookie.cookie['domain']='.verizon.com' consent_cookie.cookie['path']='/business' cybertrust.com/postrej_1.har.xz\n",
      "Unmatch url and consent cookie domain: page_url='https://login.microsoftonline.com/2b897507-ee8c-4575-830b-4f8267c3d307/saml2?SAMLRequest=jVLLbtswEPwVgndKFCWHMmE5cBoEDZAiRqT0kBvNrGy6IulyKaOfX9UPNL0EBXhZcnZmObOL219uIEeIaINvaJFxSsCb8G79tqGv3QOr6e1ygdoN4qBWY9r5F%2Fg5AiYyNXpU55eGjtGroNGi8toBqmRUu%2Fr2pETG1SGGFEwYKFkhQkyT1JfgcXQQW4hHa%2BD15amhu5QOqPI8Vcw4zKw7QLR6yLTJxh95guis10Mfxpj%2FUc3b9pmS%2B2mU6Tqdxr8yDGFrfeasiQFDn4IfrIfMBJeLTT2XMy4ZQG1YNZMzVpd8w6q%2BFjfSlO8llyd2QclDiAZOX25orwcESh7vG6r3FuxmP%2B%2F1vC9rWdTAq63Y74t5v6vkhMG1RrRH%2BNuFOMKjx6R9aqjgomIFZ1x2XKpiOiIryps3StYXn%2B6sP%2Fv%2FmambMwjV165bs%2FVz21Hy%2FZrjBKCX1NRJPX6M63Nifc2ILv8%2FkUX%2BUWx5Kf%2FdmOVv#edit/250/contents' consent_cookie.cookie['domain']='.imperial.ac.uk' consent_cookie.cookie['path']='/' ic.ac.uk/postrej_5.har.xz\n",
      "Post rej cookie not contain consent cookie, ic.ac.uk/postrej_0.har.xz not have cookie OptanonConsent of .imperial.ac.uk on path /\n",
      "Post rej cookie not contain consent cookie, eyeo.com/postrej_0.har.xz not have cookie OptanonConsent of .eyeo.com on path /\n",
      "Post rej cookie not contain consent cookie, questionpro.com/postrej_0.har.xz not have cookie OptanonConsent of .questionpro.com on path /\n",
      "Post rej cookie not contain consent cookie, yoti.com/postrej_0.har.xz not have cookie OptanonConsent of www.yoti.com on path /\n",
      "Post rej cookie not contain consent cookie, bromium-online.com/postrej_1.har.xz not have cookie OptanonConsent of .hpwolf.com on path /\n",
      "Post rej cookie not contain consent cookie, bromium-online.com/postrej_0.har.xz not have cookie OptanonConsent of .hpwolf.com on path /\n",
      "Post rej cookie not contain consent cookie, ucc.ie/postrej_2.har.xz not have cookie OptanonConsent of .www.ucc.ie on path /\n",
      "Post rej cookie not contain consent cookie, ucc.ie/postrej_0.har.xz not have cookie OptanonConsent of .www.ucc.ie on path /\n",
      "Post rej cookie not contain consent cookie, hidemyass.com/postrej_0.har.xz not have cookie OptanonConsent of .hidemyass.com on path /\n",
      "Post rej cookie not contain consent cookie, qualys.eu/postrej_0.har.xz not have cookie CookieConsent of www.qualys.com on path /\n",
      "Unmatch url and consent cookie domain: page_url='https://help.pandora.net/s/topic/0TO3i000000D2mEGAS/shipping?language=en_US' consent_cookie.cookie['domain']='.us.pandora.net' consent_cookie.cookie['path']='/' pandora.net/postrej_3.har.xz\n",
      "Post rej cookie not contain consent cookie, toasttab.com/postrej_0.har.xz not have cookie OptanonConsent of .pos.toasttab.com on path /\n",
      "Post rej cookie not contain consent cookie, vfsglobal.com/postrej_0.har.xz not have cookie OptanonConsent of .vfsglobal.com on path /\n",
      "Unmatch url and consent cookie domain: page_url='https://www.kaiserpermanentejobs.org/?kp_shortcut_referrer=kp.org/careers' consent_cookie.cookie['domain']='.kaiserpermanente.org' consent_cookie.cookie['path']='/' kaiserpermanente.org/postrej_1.har.xz\n",
      "Error reading har file /mnt/sdd/ducbui/projects/data2/consent/2024-10-06/pref_menu_scan_0k_20k/viasat.com/postrej_3.har.xz: 'DataFrame' object has no attribute 'request'\n",
      "Unmatch url and consent cookie domain: page_url='https://www.surveymonkey.com/mp/free-survey-templates/' consent_cookie.cookie['domain']='.www.research.net' consent_cookie.cookie['path']='/' research.net/postrej_2.har.xz\n",
      "Unmatch url and consent cookie domain: page_url='https://www.surveymonkey.com/product/integrations/' consent_cookie.cookie['domain']='.www.research.net' consent_cookie.cookie['path']='/' research.net/postrej_5.har.xz\n",
      "Unmatch url and consent cookie domain: page_url='https://www.surveymonkey.com/product/surveys/' consent_cookie.cookie['domain']='.www.research.net' consent_cookie.cookie['path']='/' research.net/postrej_1.har.xz\n",
      "Unmatch url and consent cookie domain: page_url='https://www.surveymonkey.com/about/leadership/' consent_cookie.cookie['domain']='.www.research.net' consent_cookie.cookie['path']='/' research.net/postrej_3.har.xz\n",
      "Unmatch url and consent cookie domain: page_url='https://www.surveymonkey.com/newsroom/' consent_cookie.cookie['domain']='.www.research.net' consent_cookie.cookie['path']='/' research.net/postrej_4.har.xz\n",
      "Post rej cookie not contain consent cookie, tcs.com/postrej_0.har.xz not have cookie OptanonConsent of .tcs.com on path /\n",
      "Post rej cookie not contain consent cookie, imperial.ac.uk/postrej_0.har.xz not have cookie OptanonConsent of .imperial.ac.uk on path /\n",
      "Post rej cookie not contain consent cookie, cpanel.com/postrej_0.har.xz not have cookie CookieConsent of cpanel.net on path /\n",
      "Domain path mismatch: .sage.com domain's path /en-us/ not match url https://www.sage.com/en-ca/\n",
      "Unmatch url and consent cookie domain: page_url='https://www.sage.com/en-ca/' consent_cookie.cookie['domain']='.sage.com' consent_cookie.cookie['path']='/en-us/' sage.com/postrej_1.har.xz\n",
      "Post rej cookie not contain consent cookie, hyprmx.com/postrej_0.har.xz not have cookie OptanonConsent of .hyprmx.com on path /\n",
      "Post rej cookie not contain consent cookie, sc.com/postrej_0.har.xz not have cookie OptanonConsent of .sc.com on path /en/\n",
      "Unmatch url and consent cookie domain: page_url='https://promotions.bankofamerica.com/student-banking' consent_cookie.cookie['domain']='.www.bankofamerica.com' consent_cookie.cookie['path']='/' bankofamerica.com/postrej_3.har.xz\n",
      "Post rej cookie not contain consent cookie, pingdom.com/postrej_0.har.xz not have cookie OptanonConsent of .www.pingdom.com on path /\n",
      "Post rej cookie not contain consent cookie, stylitics.com/postrej_0.har.xz not have cookie OptanonConsent of .stylitics.com on path /\n",
      "Post rej cookie not contain consent cookie, kodak.com/postrej_0.har.xz not have cookie OptanonConsent of .www.kodak.com on path /\n",
      "Post rej cookie not contain consent cookie, kaercher.com/postrej_0.har.xz not have cookie OptanonConsent of .kaercher.com on path /int/\n",
      "Post rej cookie not contain consent cookie, cognizant.com/postrej_0.har.xz not have cookie OptanonConsent of .cognizant.com on path /\n",
      "Unmatch url and consent cookie domain: page_url='https://www.linkedin.com/company/micron-technology' consent_cookie.cookie['domain']='.micron.com' consent_cookie.cookie['path']='/' micron.com/postrej_3.har.xz\n",
      "Post rej cookie not contain consent cookie, merck.com/postrej_0.har.xz not have cookie OptanonConsent of .merck.com on path /\n",
      "Post rej cookie not contain consent cookie, pb.com/postrej_0.har.xz not have cookie OptanonConsent of .pitneybowes.com on path /us\n",
      "Error reading har file /mnt/sdd/ducbui/projects/data2/consent/2024-10-06/pref_menu_scan_0k_20k/onepeloton.com/postrej_1.har.xz: 'DataFrame' object has no attribute 'request'\n",
      "Post rej cookie not contain consent cookie, purechat.com/postrej_0.har.xz not have cookie OptanonConsent of .purechat.com on path /\n",
      "Unmatch url and consent cookie domain: page_url='https://www.nortonlifelock.com/us/en/contact-us/report-a-security-vulnerability/' consent_cookie.cookie['domain']='.avast.com' consent_cookie.cookie['path']='/' avast.com/postrej_2.har.xz\n",
      "Unmatch url and consent cookie domain: page_url='https://www.tntsports.co.uk/football/' consent_cookie.cookie['domain']='.bt.com' consent_cookie.cookie['path']='/' bt.com/postrej_1.har.xz\n",
      "Unmatch url and consent cookie domain: page_url='https://www.pickx.be/fr/abonnements' consent_cookie.cookie['domain']='.proximus.be' consent_cookie.cookie['path']='/' proximus.be/postrej_4.har.xz\n",
      "Unmatch url and consent cookie domain: page_url='https://policies.warnerbros.com/terms/en-us/html/terms_en-us_1.4.0.html' consent_cookie.cookie['domain']='.adultswim.com' consent_cookie.cookie['path']='/' adultswim.com/postrej_3.har.xz\n",
      "Unmatch url and consent cookie domain: page_url='https://www.gaylordhotels.com/' consent_cookie.cookie['domain']='www.marriott.com' consent_cookie.cookie['path']='/' marriott.com/postrej_5.har.xz\n",
      "Post rej cookie not contain consent cookie, unaids.org/postrej_0.har.xz not have cookie CookieConsent of www.unaids.org on path /\n",
      "Unmatch url and consent cookie domain: page_url='https://www.se.com/hu/hu/brands/apc/' consent_cookie.cookie['domain']='.apc.com' consent_cookie.cookie['path']='/' apc.com/postrej_2.har.xz\n",
      "Post rej cookie not contain consent cookie, apc.com/postrej_5.har.xz not have cookie OptanonConsent of .apc.com on path /\n",
      "Post rej cookie not contain consent cookie, apc.com/postrej_1.har.xz not have cookie OptanonConsent of .apc.com on path /\n",
      "Unmatch url and consent cookie domain: page_url='https://www.se.com/my/en/brands/apc/' consent_cookie.cookie['domain']='.apc.com' consent_cookie.cookie['path']='/' apc.com/postrej_3.har.xz\n",
      "Post rej cookie not contain consent cookie, apc.com/postrej_4.har.xz not have cookie OptanonConsent of .apc.com on path /\n",
      "Unmatch url and consent cookie domain: page_url='https://www.world.rugby/privacy-policy' consent_cookie.cookie['domain']='.rugbyworldcup.com' consent_cookie.cookie['path']='/' rugbyworldcup.com/postrej_2.har.xz\n",
      "Unmatch url and consent cookie domain: page_url='https://hrtechprivacy.com/brands/glassdoor#privacypolicy' consent_cookie.cookie['domain']='.glassdoor.co.in' consent_cookie.cookie['path']='/' glassdoor.co.in/postrej_4.har.xz\n",
      "Post rej cookie not contain consent cookie, sumologic.com/postrej_0.har.xz not have cookie OptanonConsent of .sumologic.com on path /\n",
      "Unmatch url and consent cookie domain: page_url='https://careers.opentext.com/' consent_cookie.cookie['domain']='.hightail.com' consent_cookie.cookie['path']='/' hightail.com/postrej_2.har.xz\n",
      "Post rej cookie not contain consent cookie, duosecurity.com/postrej_0.har.xz not have cookie OptanonConsent of .duo.com on path /\n",
      "Unmatch url and consent cookie domain: page_url='https://eab.app.box.com/s/ig1xoav1pag3q3af1k812bdthzfyhcwn' consent_cookie.cookie['domain']='.www.youvisit.com' consent_cookie.cookie['path']='/' youvisit.com/postrej_2.har.xz\n",
      "Post rej cookie not contain consent cookie, fonts.com/postrej_0.har.xz not have cookie OptanonConsent of .www.fonts.com on path /\n",
      "Unmatch url and consent cookie domain: page_url='https://student.kent.ac.uk/support/kfsp' consent_cookie.cookie['domain']='www.kent.ac.uk' consent_cookie.cookie['path']='/' kent.ac.uk/postrej_4.har.xz\n",
      "Post rej cookie not contain consent cookie, fonts.net/postrej_0.har.xz not have cookie OptanonConsent of .www.fonts.com on path /\n",
      "Post rej cookie not contain consent cookie, playboy.com/postrej_0.har.xz not have cookie OptanonConsent of .playboy.com on path /\n",
      "Post rej cookie not contain consent cookie, haydaygame.com/postrej_2.har.xz not have cookie OptanonConsent of .hayday.com on path /\n",
      "Post rej cookie not contain consent cookie, haydaygame.com/postrej_1.har.xz not have cookie OptanonConsent of .hayday.com on path /\n",
      "Post rej cookie not contain consent cookie, haydaygame.com/postrej_0.har.xz not have cookie OptanonConsent of .hayday.com on path /\n",
      "Post rej cookie not contain consent cookie, sho.com/postrej_0.har.xz not have cookie OptanonConsent of .paramountpluswithshowtime.com on path /\n",
      "Domain path mismatch: .kpmg.com domain's path /xx not match url https://kpmg.com/nz/en/home.html\n",
      "Unmatch url and consent cookie domain: page_url='https://kpmg.com/nz/en/home.html' consent_cookie.cookie['domain']='.kpmg.com' consent_cookie.cookie['path']='/xx' kpmg.com/postrej_2.har.xz\n",
      "Domain path mismatch: .kpmg.com domain's path /xx not match url https://kpmg.com/br/pt/home.html\n",
      "Unmatch url and consent cookie domain: page_url='https://kpmg.com/br/pt/home.html' consent_cookie.cookie['domain']='.kpmg.com' consent_cookie.cookie['path']='/xx' kpmg.com/postrej_1.har.xz\n",
      "Post rej cookie not contain consent cookie, kpmg.com/postrej_0.har.xz not have cookie OptanonConsent of .kpmg.com on path /xx\n",
      "Domain path mismatch: .kpmg.com domain's path /xx not match url https://kpmg.com/bg/en/home.html\n",
      "Unmatch url and consent cookie domain: page_url='https://kpmg.com/bg/en/home.html' consent_cookie.cookie['domain']='.kpmg.com' consent_cookie.cookie['path']='/xx' kpmg.com/postrej_3.har.xz\n",
      "Unmatch url and consent cookie domain: page_url='https://salesforceventures.com/' consent_cookie.cookie['domain']='.salesforce.com' consent_cookie.cookie['path']='/' salesforcescrt.com/postrej_1.har.xz\n",
      "Post rej cookie not contain consent cookie, tide.co/postrej_0.har.xz not have cookie OptanonConsent of .www.tide.co on path /\n",
      "Error reading har file /mnt/sdd/ducbui/projects/data2/consent/2024-10-06/pref_menu_scan_0k_20k/lavasoft.com/postrej_1.har.xz: 'DataFrame' object has no attribute 'request'\n",
      "Post rej cookie not contain consent cookie, lavasoft.com/postrej_0.har.xz not have cookie OptanonConsent of .adaware.com on path /\n",
      "Post rej cookie not contain consent cookie, kaspersky-labs.com/postrej_0.har.xz not have cookie CookieConsent of usa.kaspersky.com on path /\n",
      "Unmatch url and consent cookie domain: page_url='https://jobs.ashbyhq.com/sleeper' consent_cookie.cookie['domain']='.sleeper.com' consent_cookie.cookie['path']='/' sleeper.com/postrej_2.har.xz\n",
      "Post rej cookie not contain consent cookie, ucd.ie/postrej_0.har.xz not have cookie OptanonConsent of .ucd.ie on path /\n",
      "Unmatch url and consent cookie domain: page_url='https://reprint.forrester.com/reports/the-forrester-wavetm-email-marketing-service-providers-q3-2024-f25f8ab8/index.html' consent_cookie.cookie['domain']='.cordial.com' consent_cookie.cookie['path']='/' cordial.com/postrej_4.har.xz\n",
      "Post rej cookie not contain consent cookie, platformsh.site/postrej_0.har.xz not have cookie OptanonConsent of .platform.sh on path /\n",
      "Unmatch url and consent cookie domain: page_url='https://life360-legal.zendesk.com/hc/en-us/articles/16038777217175-Life360-Privacy-Policy' consent_cookie.cookie['domain']='.life360.com' consent_cookie.cookie['path']='/' life360.com/postrej_3.har.xz\n",
      "Unmatch url and consent cookie domain: page_url='https://www.instagram.com/accounts/login/?next=https%3A%2F%2Fwww.instagram.com%2Fsixgroup%2F&is_from_rle' consent_cookie.cookie['domain']='.six-group.com' consent_cookie.cookie['path']='/' six-group.com/postrej_5.har.xz\n",
      "Post rej cookie not contain consent cookie, sendbird.com/postrej_2.har.xz not have cookie OptanonConsent of .sendbird.com on path /\n",
      "Error reading har file /mnt/sdd/ducbui/projects/data2/consent/2024-10-06/pref_menu_scan_0k_20k/hp.com/postrej_4.har.xz: 'DataFrame' object has no attribute 'request'\n",
      "Post rej cookie not contain consent cookie, qualys.com/postrej_0.har.xz not have cookie CookieConsent of www.qualys.com on path /\n",
      "Post rej cookie not contain consent cookie, jedox.com/postrej_0.har.xz not have cookie CookieConsent of www.jedox.com on path /\n",
      "Error reading har file /mnt/sdd/ducbui/projects/data2/consent/2024-10-06/pref_menu_scan_0k_20k/fortinet.com/postrej_1.har.xz: 'DataFrame' object has no attribute 'request'\n",
      "Post rej cookie not contain consent cookie, crowdstrike.com/postrej_0.har.xz not have cookie OptanonConsent of .crowdstrike.com on path /\n",
      "Post rej cookie not contain consent cookie, nngroup.com/postrej_0.har.xz not have cookie CookieConsent of www.nngroup.com on path /\n",
      "Unmatch url and consent cookie domain: page_url='https://belgium.tomorrowland.com/en/tickets/your-privacy/' consent_cookie.cookie['domain']='www.tomorrowland.com' consent_cookie.cookie['path']='/' tomorrowland.com/postrej_1.har.xz\n",
      "Domain path mismatch: .klarna.com domain's path /us/ not match url https://www.klarna.com/cn/\n",
      "Unmatch url and consent cookie domain: page_url='https://www.klarna.com/cn/' consent_cookie.cookie['domain']='.klarna.com' consent_cookie.cookie['path']='/us/' klarna.com/postrej_5.har.xz\n",
      "Domain path mismatch: .klarna.com domain's path /us/ not match url https://www.klarna.com/at/\n",
      "Unmatch url and consent cookie domain: page_url='https://www.klarna.com/at/' consent_cookie.cookie['domain']='.klarna.com' consent_cookie.cookie['path']='/us/' klarna.com/postrej_1.har.xz\n",
      "Domain path mismatch: .klarna.com domain's path /us/ not match url https://www.klarna.com/nz/\n",
      "Unmatch url and consent cookie domain: page_url='https://www.klarna.com/nz/' consent_cookie.cookie['domain']='.klarna.com' consent_cookie.cookie['path']='/us/' klarna.com/postrej_3.har.xz\n",
      "Post rej cookie not contain consent cookie, auctollo.com/postrej_2.har.xz not have cookie CookieConsent of auctollo.com on path /\n",
      "Post rej cookie not contain consent cookie, auctollo.com/postrej_0.har.xz not have cookie CookieConsent of auctollo.com on path /\n",
      "Unmatch url and consent cookie domain: page_url='https://www.opentext.com/about/accessibility' consent_cookie.cookie['domain']='.www.microfocus.com' consent_cookie.cookie['path']='/' microfocus.com/postrej_2.har.xz\n",
      "Unmatch url and consent cookie domain: page_url='https://www.opentext.com/' consent_cookie.cookie['domain']='.www.microfocus.com' consent_cookie.cookie['path']='/' microfocus.com/postrej_4.har.xz\n",
      "Unmatch url and consent cookie domain: page_url='https://play.google.com/store/apps/details?id=net.cotterweb.inboxpounds' consent_cookie.cookie['domain']='.inboxpounds.co.uk' consent_cookie.cookie['path']='/' inboxdollars.com/postrej_4.har.xz\n",
      "Unmatch url and consent cookie domain: page_url='https://www.ubs.com/global/en/investment-bank.html' consent_cookie.cookie['domain']='.credit-suisse.com' consent_cookie.cookie['path']='/' credit-suisse.com/postrej_1.har.xz\n",
      "Unmatch url and consent cookie domain: page_url='https://www.sony.co.uk/all-products' consent_cookie.cookie['domain']='.www.sony.net' consent_cookie.cookie['path']='/' sony.net/postrej_4.har.xz\n",
      "Post rej cookie not contain consent cookie, dow.com/postrej_0.har.xz not have cookie OptanonConsent of .dow.com on path /\n",
      "Post rej cookie not contain consent cookie, voicemod.net/postrej_0.har.xz not have cookie OptanonConsent of .www.voicemod.net on path /\n",
      "Error reading har file /mnt/sdd/ducbui/projects/data2/consent/2024-10-06/pref_menu_scan_0k_20k/datto.com/postrej_3.har.xz: 'DataFrame' object has no attribute 'request'\n",
      "Post rej cookie not contain consent cookie, nbc.com/postrej_0.har.xz not have cookie OptanonConsent of .nbc.com on path /\n",
      "Cannot read /mnt/sdd/ducbui/projects/data2/consent/2024-10-06/pref_menu_scan_0k_20k/funcom.com/log.json: [Errno 2] No such file or directory: '/mnt/sdd/ducbui/projects/data2/consent/2024-10-06/pref_menu_scan_0k_20k/funcom.com/log.json'\n",
      "Post rej cookie not contain consent cookie, thefa.com/postrej_0.har.xz not have cookie OptanonConsent of .www.thefa.com on path /\n",
      "Post rej cookie not contain consent cookie, nielsen.com/postrej_0.har.xz not have cookie OptanonConsent of .nielsen.com on path /\n",
      "Unmatch url and consent cookie domain: page_url='https://squareup.com/gb/en/online-store' consent_cookie.cookie['domain']='.weebly.com' consent_cookie.cookie['path']='/' weebly.com/postrej_5.har.xz\n",
      "Post rej cookie not contain consent cookie, chaosgroup.com/postrej_2.har.xz not have cookie OptanonConsent of .chaos.com on path /\n",
      "Post rej cookie not contain consent cookie, chaosgroup.com/postrej_5.har.xz not have cookie OptanonConsent of .chaos.com on path /\n",
      "Post rej cookie not contain consent cookie, chaosgroup.com/postrej_1.har.xz not have cookie OptanonConsent of .chaos.com on path /\n",
      "Post rej cookie not contain consent cookie, chaosgroup.com/postrej_0.har.xz not have cookie OptanonConsent of .chaos.com on path /\n",
      "Post rej cookie not contain consent cookie, chaosgroup.com/postrej_3.har.xz not have cookie OptanonConsent of .chaos.com on path /\n",
      "Post rej cookie not contain consent cookie, chaosgroup.com/postrej_4.har.xz not have cookie OptanonConsent of .chaos.com on path /\n",
      "Unmatch url and consent cookie domain: page_url='https://centres.weforum.org/centre-for-health-and-healthcare' consent_cookie.cookie['domain']='www.weforum.org' consent_cookie.cookie['path']='/' weforum.org/postrej_4.har.xz\n",
      "Post rej cookie not contain consent cookie, malwarebytes.com/postrej_0.har.xz not have cookie OptanonConsent of .malwarebytes.com on path /\n",
      "Error reading har file /mnt/sdd/ducbui/projects/data2/consent/2024-10-06/pref_menu_scan_0k_20k/vtex.com/postrej_2.har.xz: 'DataFrame' object has no attribute 'request'\n",
      "Unmatch url and consent cookie domain: page_url='https://www.chemistryworld.com/chemistryworld' consent_cookie.cookie['domain']='.www.rsc.org' consent_cookie.cookie['path']='/' rsc.org/postrej_4.har.xz\n",
      "Unmatch url and consent cookie domain: page_url='https://login3.id.hp.com/login3/sign-up' consent_cookie.cookie['domain']='.hpsmart.com' consent_cookie.cookie['path']='/' hpsmart.com/postrej_2.har.xz\n",
      "Cannot read /mnt/sdd/ducbui/projects/data2/consent/2024-10-06/pref_menu_scan_0k_20k/sharechat.com/log.json: [Errno 2] No such file or directory: '/mnt/sdd/ducbui/projects/data2/consent/2024-10-06/pref_menu_scan_0k_20k/sharechat.com/log.json'\n",
      "Unmatch url and consent cookie domain: page_url='https://download.battle.net/en-us/desktop' consent_cookie.cookie['domain']='.blizzard.com' consent_cookie.cookie['path']='/' blizzard.com/postrej_3.har.xz\n",
      "Post rej cookie not contain consent cookie, amplifi.com/postrej_0.har.xz not have cookie OptanonConsent of .amplifi.com on path /\n",
      "Unmatch url and consent cookie domain: page_url='https://www.take2games.com/legal/' consent_cookie.cookie['domain']='.socialpoint.es' consent_cookie.cookie['path']='/' weplaydots.com/postrej_2.har.xz\n",
      "Post rej cookie not contain consent cookie, csmonitor.com/postrej_0.har.xz not have cookie OptanonConsent of .csmonitor.com on path /\n",
      "Domain path mismatch: .chubb.com domain's path /us-en not match url https://www.chubb.com/pr-es/\n",
      "Unmatch url and consent cookie domain: page_url='https://www.chubb.com/pr-es/' consent_cookie.cookie['domain']='.chubb.com' consent_cookie.cookie['path']='/us-en' chubb.com/postrej_5.har.xz\n",
      "Post rej cookie not contain consent cookie, kaspersky.com/postrej_0.har.xz not have cookie CookieConsent of usa.kaspersky.com on path /\n",
      "Post rej cookie not contain consent cookie, namecheap.com/postrej_0.har.xz not have cookie OptanonConsent of .namecheap.com on path /\n",
      "Error reading har file /mnt/sdd/ducbui/projects/data2/consent/2024-10-06/pref_menu_scan_0k_20k/brightcloud.com/postrej_2.har.xz: 'DataFrame' object has no attribute 'request'\n",
      "Post rej cookie not contain consent cookie, codecanyon.net/postrej_0.har.xz not have cookie CookieConsent of codecanyon.net on path /\n",
      "Post rej cookie not contain consent cookie, forter.com/postrej_0.har.xz not have cookie OptanonConsent of .forter.com on path /\n",
      "Post rej cookie not contain consent cookie, hbomax.com/postrej_0.har.xz not have cookie OptanonConsent of .max.com on path /\n",
      "Post rej cookie not contain consent cookie, stitcher.com/postrej_3.har.xz not have cookie OptanonConsent of .www.stitcher.com on path /\n",
      "Unmatch url and consent cookie domain: page_url='https://careers.gene.com/us/en' consent_cookie.cookie['domain']='.www.gene.com' consent_cookie.cookie['path']='/' gene.com/postrej_4.har.xz\n",
      "Unmatch url and consent cookie domain: page_url='https://www.prnewswire.com/resources/case-studies/simmons-bank/' consent_cookie.cookie['domain']='.cision.com' consent_cookie.cookie['path']='/' cision.com/postrej_3.har.xz\n",
      "Unmatch url and consent cookie domain: page_url='https://www.zoom.com/en/industry/education/' consent_cookie.cookie['domain']='.zoom.us' consent_cookie.cookie['path']='/' zoom.com/postrej_2.har.xz\n",
      "Unmatch url and consent cookie domain: page_url='https://www.wolterskluwer.com/en/solutions/uptodate/about/expert-insights' consent_cookie.cookie['domain']='.uptodate.com' consent_cookie.cookie['path']='/' uptodate.com/postrej_2.har.xz\n",
      "Unmatch url and consent cookie domain: page_url='https://www.wolterskluwer.com/en/solutions/uptodate/about' consent_cookie.cookie['domain']='.uptodate.com' consent_cookie.cookie['path']='/' uptodate.com/postrej_1.har.xz\n",
      "Unmatch url and consent cookie domain: page_url='https://www.wolterskluwer.com/en/solutions/uptodate/resources/webinars' consent_cookie.cookie['domain']='.uptodate.com' consent_cookie.cookie['path']='/' uptodate.com/postrej_3.har.xz\n",
      "Unmatch url and consent cookie domain: page_url='https://www.wolterskluwer.com/en/solutions/uptodate/about/customer-success-stories' consent_cookie.cookie['domain']='.uptodate.com' consent_cookie.cookie['path']='/' uptodate.com/postrej_4.har.xz\n",
      "Post rej cookie not contain consent cookie, adyen.com/postrej_5.har.xz not have cookie OptanonConsent of .adyen.com on path /\n",
      "Post rej cookie not contain consent cookie, adyen.com/postrej_1.har.xz not have cookie OptanonConsent of .adyen.com on path /\n",
      "Post rej cookie not contain consent cookie, adyen.com/postrej_0.har.xz not have cookie OptanonConsent of .adyen.com on path /\n",
      "Post rej cookie not contain consent cookie, adyen.com/postrej_3.har.xz not have cookie OptanonConsent of .adyen.com on path /\n",
      "Post rej cookie not contain consent cookie, adyen.com/postrej_4.har.xz not have cookie OptanonConsent of .adyen.com on path /\n",
      "Unmatch url and consent cookie domain: page_url='https://global.fujitsu/en-uk' consent_cookie.cookie['domain']='.www.fujitsu.com' consent_cookie.cookie['path']='/' fujitsu.com/postrej_5.har.xz\n",
      "Post rej cookie not contain consent cookie, fujitsu.com/postrej_0.har.xz not have cookie OptanonConsent of .www.fujitsu.com on path /\n",
      "Unmatch url and consent cookie domain: page_url='http://validate.perfdrive.com/b708a8fc3776ece65dd51a0e70b3ae8e/?ssa=e82462ed-c6c0-4af1-982f-b6681ec2e5b2&ssb=31494276949&ssc=https%3A%2F%2Fwww.redlobster.com%2Fcart&ssi=20b1e8d6-94c0-435f-a81a-60029e94feb6&ssk=support@shieldsquare.com&ssm=75253518898591520168514830134312&ssn=49805cd110aa84b19f2316b72b4756db5b2a58e6f73b-5204-419f-83ffb1&sso=3ca7fbe5-21f877efdf9d0707577781c1ef1c13dac39e9f105aa3fe8b&ssp=00058059651728221732172827280398998&ssq=23059069005958517205589869552459474680313&ssr=MTY3LjE3Mi40OS4xMA==&sst=Mozilla/5.0%20(X11;%20Linux%20x86_64)%20AppleWebKit/537.36%20(KHTML,%20like%20Gecko)%20Chrome/101.0.4951.64%20Safari/537.36&ssu=Z3Ntby9VS0c0aWtsaUo5d1pxd3VTOUtFSHc2cFdDSlRTTzFrQkl4aVNQVT0=&ssv=&ssw=&ssx=eyJ1em14IjoiN2Y5MDAwYTE1N2M4NzQtY2VmMS00NmRjLTgwZTMtY2UzZGQ0YmVmNjhiMS0xNzI4Mjg5ODY5NzMwMTg5NzQ0LTkxMzE4ZDMxMGU1YTlhYTMxNiIsInJkIjoicmVkbG9ic3Rlci5jb20iLCJfX3V6bWYiOiI3ZjYwMDBiZjEyMjgxOC1jY2JmLTQzMmItOGYwNC1kNWYxZDg1MGVhZWUxNzI4Mjg5ODY5NzMwMTg5NzQ0LWVlZmM1ZjYwOTMzYWI2ZWUxNiJ9' consent_cookie.cookie['domain']='.redlobster.com' consent_cookie.cookie['path']='/' redlobster.com/postrej_2.har.xz\n",
      "Unmatch url and consent cookie domain: page_url='http://validate.perfdrive.com/b708a8fc3776ece65dd51a0e70b3ae8e/?ssa=9bad997e-7b0c-4569-a15d-46ffcb183771&ssb=31494276949&ssc=https%3A%2F%2Fwww.redlobster.com%2Faccount%2Flogin%3FreturnUrl%3D%2F&ssi=95e5e055-94c0-4610-91ce-1580c62e9643&ssk=support@shieldsquare.com&ssm=75253518898591520168514830134312&ssn=49805cd147d8fb501cc1a2f21a4b56db5b2a58e6f73b-5204-419f-83ffb1&sso=3ca7fbe5-21f877efdf9d070757773954cda5ba07ab4e9e955aa3fe8b&ssp=00058059651728221732172827280398998&ssq=23059069005958517205589869552459474680313&ssr=MTY3LjE3Mi40OS4xMA==&sst=Mozilla/5.0%20(X11;%20Linux%20x86_64)%20AppleWebKit/537.36%20(KHTML,%20like%20Gecko)%20Chrome/101.0.4951.64%20Safari/537.36&ssu=Z3Ntby9VS0c0aWtsaUo5d1pxd3VTOUtFSHc2cFdDSlRTTzFrQkl4aVNQVT0=&ssv=&ssw=&ssx=eyJ1em14IjoiN2Y5MDAwYTE1N2M4NzQtY2VmMS00NmRjLTgwZTMtY2UzZGQ0YmVmNjhiMS0xNzI4Mjg5ODY5NzMwMTg5ODQ3LTU3NTkyY2QyMmI4MmFkMGIxNiIsInJkIjoicmVkbG9ic3Rlci5jb20iLCJfX3V6bWYiOiI3ZjYwMDBiZjEyMjgxOC1jY2JmLTQzMmItOGYwNC1kNWYxZDg1MGVhZWUxNzI4Mjg5ODY5NzMwMTg5ODQ3LTNhNjk4OTlhMDdlZmViNzUxNiJ9' consent_cookie.cookie['domain']='.redlobster.com' consent_cookie.cookie['path']='/' redlobster.com/postrej_5.har.xz\n",
      "Unmatch url and consent cookie domain: page_url='http://validate.perfdrive.com/b708a8fc3776ece65dd51a0e70b3ae8e/?ssa=253031ce-d3be-46be-8462-e8458d200858&ssb=31494276949&ssc=https%3A%2F%2Fwww.redlobster.com%2Fmenu&ssi=6267f738-94c0-472c-9f1c-708c841b4515&ssk=support@shieldsquare.com&ssm=75253518898591520168514830134312&ssn=49805cd16f3be24777890e3e641556db5b2a58e6f73b-5204-419f-83ffb1&sso=3ca7fbe5-21f877efdf9d07075777daada352683f1d31ccd65aa3fe8b&ssp=00058059651728221732172827280398998&ssq=23059069005958517205589869552459474680313&ssr=MTY3LjE3Mi40OS4xMA==&sst=Mozilla/5.0%20(X11;%20Linux%20x86_64)%20AppleWebKit/537.36%20(KHTML,%20like%20Gecko)%20Chrome/101.0.4951.64%20Safari/537.36&ssu=Z3Ntby9VS0c0aWtsaUo5d1pxd3VTOUtFSHc2cFdDSlRTTzFrQkl4aVNQVT0=&ssv=&ssw=&ssx=eyJfX3V6bWYiOiI3ZjYwMDBiZjEyMjgxOC1jY2JmLTQzMmItOGYwNC1kNWYxZDg1MGVhZWUxNzI4Mjg5ODY5NzMwMTg5NzA4LTRlNzZkNGM1ZjcxNWVmNGIxNiIsInV6bXgiOiI3ZjkwMDBhMTU3Yzg3NC1jZWYxLTQ2ZGMtODBlMy1jZTNkZDRiZWY2OGIxLTE3MjgyODk4Njk3MzAxODk3MDgtYzJjMTYyMjdkYjM1ZGY5MjE2IiwicmQiOiJyZWRsb2JzdGVyLmNvbSJ9' consent_cookie.cookie['domain']='.redlobster.com' consent_cookie.cookie['path']='/' redlobster.com/postrej_1.har.xz\n",
      "Unmatch url and consent cookie domain: page_url='http://validate.perfdrive.com/b708a8fc3776ece65dd51a0e70b3ae8e/?ssa=5ddce68b-a944-4712-9ab7-7ef9471a8480&ssb=31494276949&ssc=https%3A%2F%2Fwww.redlobster.com%2Flocations%2Flist%2Fundefined&ssi=c02c8b93-94c0-4a28-b516-674ce1c956d0&ssk=support@shieldsquare.com&ssm=75253518898591520168514830134312&ssn=49805cd17bbe84cfd16b6c384b3256db5b2a58e6f73b-5204-419f-83ffb1&sso=3ca7fbe5-21f877efdf9d07075777ca68c7d7821a15a7045f5aa3fe8b&ssp=00058059651728221732172827280398998&ssq=23059069005958517205589869552459474680313&ssr=MTY3LjE3Mi40OS4xMA==&sst=Mozilla/5.0%20(X11;%20Linux%20x86_64)%20AppleWebKit/537.36%20(KHTML,%20like%20Gecko)%20Chrome/101.0.4951.64%20Safari/537.36&ssu=Z3Ntby9VS0c0aWtsaUo5d1pxd3VTOUtFSHc2cFdDSlRTTzFrQkl4aVNQVT0=&ssv=&ssw=&ssx=eyJfX3V6bWYiOiI3ZjYwMDBiZjEyMjgxOC1jY2JmLTQzMmItOGYwNC1kNWYxZDg1MGVhZWUxNzI4Mjg5ODY5NzMwMTg5Nzk3LWI5ODY3ZTg5MTEyNWVmZTUxNiIsInV6bXgiOiI3ZjkwMDBhMTU3Yzg3NC1jZWYxLTQ2ZGMtODBlMy1jZTNkZDRiZWY2OGIxLTE3MjgyODk4Njk3MzAxODk3OTctZmY1YzNiZGUxMTFiMzQ0NjE2IiwicmQiOiJyZWRsb2JzdGVyLmNvbSJ9' consent_cookie.cookie['domain']='.redlobster.com' consent_cookie.cookie['path']='/' redlobster.com/postrej_3.har.xz\n",
      "Unmatch url and consent cookie domain: page_url='http://validate.perfdrive.com/b708a8fc3776ece65dd51a0e70b3ae8e/?ssa=57ed20a2-b2a6-46b7-9e6f-f0f7bf12a7bc&ssb=31494276949&ssc=https%3A%2F%2Fwww.redlobster.com%2Fmenu%2Fshrimp-your-way&ssi=48c8d2f7-94c0-4f7b-84f6-0ccf835657d3&ssk=support@shieldsquare.com&ssm=75253518898591520168514830134312&ssn=49805cd13bc25a22544e36cb69c656db5b2a58e6f73b-5204-419f-83ffb1&sso=3ca7fbe5-21f877efdf9d0707577759a9848d2adceae5e2ac5aa3fe8b&ssp=00058059651728221732172827280398998&ssq=23059069005958517205589869552459474680313&ssr=MTY3LjE3Mi40OS4xMA==&sst=Mozilla/5.0%20(X11;%20Linux%20x86_64)%20AppleWebKit/537.36%20(KHTML,%20like%20Gecko)%20Chrome/101.0.4951.64%20Safari/537.36&ssu=Z3Ntby9VS0c0aWtsaUo5d1pxd3VTOUtFSHc2cFdDSlRTTzFrQkl4aVNQVT0=&ssv=&ssw=&ssx=eyJfX3V6bWYiOiI3ZjYwMDBiZjEyMjgxOC1jY2JmLTQzMmItOGYwNC1kNWYxZDg1MGVhZWUxNzI4Mjg5ODY5NzMwMTg5ODE0LTQzOGQwMmEzOGJkY2QyNjExNiIsInV6bXgiOiI3ZjkwMDBhMTU3Yzg3NC1jZWYxLTQ2ZGMtODBlMy1jZTNkZDRiZWY2OGIxLTE3MjgyODk4Njk3MzAxODk4MTQtZWE3MzIzNjE3Mjk4Zjg5NTE2IiwicmQiOiJyZWRsb2JzdGVyLmNvbSJ9' consent_cookie.cookie['domain']='.redlobster.com' consent_cookie.cookie['path']='/' redlobster.com/postrej_4.har.xz\n",
      "Post rej cookie not contain consent cookie, sgn.com/postrej_0.har.xz not have cookie CookieConsent of www.jamcity.com on path /\n",
      "Post rej cookie not contain consent cookie, keywee.co/postrej_2.har.xz not have cookie CookieConsent of keywee.co on path /\n",
      "Post rej cookie not contain consent cookie, keywee.co/postrej_5.har.xz not have cookie CookieConsent of keywee.co on path /\n",
      "Post rej cookie not contain consent cookie, keywee.co/postrej_3.har.xz not have cookie CookieConsent of keywee.co on path /\n",
      "Post rej cookie not contain consent cookie, pingdom.net/postrej_0.har.xz not have cookie OptanonConsent of .www.pingdom.com on path /\n",
      "Unmatch url and consent cookie domain: page_url='https://gumgum.com/terms-and-policies/buyer-policy' consent_cookie.cookie['domain']='.playgroundxyz.com' consent_cookie.cookie['path']='/' playground.xyz/postrej_5.har.xz\n",
      "Post rej cookie not contain consent cookie, playground.xyz/postrej_4.har.xz not have cookie OptanonConsent of .playgroundxyz.com on path /\n",
      "Post rej cookie not contain consent cookie, shef.ac.uk/postrej_0.har.xz not have cookie OptanonConsent of .sheffield.ac.uk on path /\n",
      "Post rej cookie not contain consent cookie, sonymusic.com/postrej_0.har.xz not have cookie OptanonConsent of .sonymusic.com on path /\n",
      "Unmatch url and consent cookie domain: page_url='https://status.mcgrawhill.com/#!/' consent_cookie.cookie['domain']='.mheducation.com' consent_cookie.cookie['path']='/' mcgraw-hill.com/postrej_4.har.xz\n",
      "Post rej cookie not contain consent cookie, medtronic.com/postrej_0.har.xz not have cookie OptanonConsent of .medtronic.com on path /\n",
      "Domain path mismatch: .kpmg.com domain's path /xx not match url https://kpmg.com/bd/en/home.html\n",
      "Unmatch url and consent cookie domain: page_url='https://kpmg.com/bd/en/home.html' consent_cookie.cookie['domain']='.kpmg.com' consent_cookie.cookie['path']='/xx' home.kpmg/postrej_2.har.xz\n",
      "Domain path mismatch: .kpmg.com domain's path /xx not match url https://kpmg.com/ba/en/home.html\n",
      "Unmatch url and consent cookie domain: page_url='https://kpmg.com/ba/en/home.html' consent_cookie.cookie['domain']='.kpmg.com' consent_cookie.cookie['path']='/xx' home.kpmg/postrej_5.har.xz\n",
      "Post rej cookie not contain consent cookie, home.kpmg/postrej_0.har.xz not have cookie OptanonConsent of .kpmg.com on path /xx\n",
      "Domain path mismatch: .kpmg.com domain's path /xx not match url https://kpmg.com/al/en/home.html\n",
      "Unmatch url and consent cookie domain: page_url='https://kpmg.com/al/en/home.html' consent_cookie.cookie['domain']='.kpmg.com' consent_cookie.cookie['path']='/xx' home.kpmg/postrej_4.har.xz\n",
      "Post rej cookie not contain consent cookie, flourish.studio/postrej_0.har.xz not have cookie OptanonConsent of .flourish.studio on path /\n",
      "Unmatch url and consent cookie domain: page_url='https://app.drata.com/trust/81f60852-62bb-4ec9-ada9-019fb968c39c' consent_cookie.cookie['domain']='.hyros.com' consent_cookie.cookie['path']='/' hyros.com/postrej_4.har.xz\n",
      "Unmatch url and consent cookie domain: page_url='https://developers.cloudflare.com/workers' consent_cookie.cookie['domain']='workers.cloudflare.com' consent_cookie.cookie['path']='/' workers.dev/postrej_1.har.xz\n",
      "Post rej cookie not contain consent cookie, fivem.net/postrej_0.har.xz not have cookie OptanonConsent of .fivem.net on path /\n",
      "Error reading har file /mnt/sdd/ducbui/projects/data2/consent/2024-10-06/pref_menu_scan_0k_20k/fivem.net/postrej_3.har.xz: 'DataFrame' object has no attribute 'request'\n",
      "Post rej cookie not contain consent cookie, platform.sh/postrej_0.har.xz not have cookie OptanonConsent of .platform.sh on path /\n",
      "Post rej cookie not contain consent cookie, cookielaw.org/postrej_0.har.xz not have cookie OptanonConsent of .cookielaw.org on path /\n",
      "Unmatch url and consent cookie domain: page_url='https://www.microsoft.com/en-us/dynamics-365/products/contact-center' consent_cookie.cookie['domain']='.www.nuance.com' consent_cookie.cookie['path']='/' nuance.com/postrej_1.har.xz\n",
      "Unmatch url and consent cookie domain: page_url='https://app.jingsocial.com/mF/ems/none/Tx7YBnNdwkPS29ZMeDC8pL/CzQFjVZoc9kvR7iSKShnMB1?hsLang=en' consent_cookie.cookie['domain']='.qt.io' consent_cookie.cookie['path']='/' qt.io/postrej_1.har.xz\n",
      "Unmatch url and consent cookie domain: page_url='https://account.cengage.com/login?SAMLRequest=fZLdauMwEEZfxejetizHdiLilLChEGjD0j%2BWvRPyxBVrj1yNnDRvv6rTlPaivZVmzvdxpOXVa99FB3BkLNYsSziLALVtDLY1e3y4jufsarUk1XdikOvRP%2BMdvIxAPloTgfNh7ZdFGntw9%2BAORsPj3U3Nnr0fSKapChuJBmxVC4m2fUpk04mWcqtEWcyzPdLuT7Fr13lRsWgT0AaVn%2Bp8ULS2I%2FovoM62Bll0bZ2GqVfN9qojYNF2UzPTZIHN87IqZ3OxyPPFvMxFyQsR7olG2CJ5hb5mgotZnPGYVw98IWdC8iKpqtlfFj1drIg3K8ETkjyLqNnoUFpFhiSqHkh6Le%2FXtzcyjMrBWW%2B17di7NzkFus%2BEnwHqYpatLgaOx2Ni%2F3l1djj5o7PuOMQdTAMupeGATQ%2BoTnZw7YtqTo1fpp8rfDzkLmRuN79tZ%2FTpTWGv%2FPeVsiSbTkwT76dROSINoM3eQMPS1XvG1%2B%2Bx%2Bg8%3D&RelayState=%252Foauth2%252Fv1%252Fauthorize%252Fredirect%253Fokta_key%253DLSmb3W9ysDCHFcrHVwbEjm4LK-TrVOmPsiIMkCWIn6Q&SigAlg=http%3A%2F%2Fwww.w3.org%2F2001%2F04%2Fxmldsig-more%23rsa-sha256&Signature=gO96S7P0Zt1hu3xnvu%2Bmk0AOeT9CJPLH6EH0GZII8a7j2Orc7szPIrle4cqt30vAabu%2FleUTqxMcTghMliLhXRkGT2l6xkbbsSJMgT3N79I7J90jz1F5jZHJGC3nOQr%2BQVCgXQg0WzWH%2B8fps275aefj%2Biw5FTTDCbklGamJfRkGUwvYh1985UAOmXyDIXYhKY3AEWAzZSal%2BM5mBD%2BIkgohoAvW3RercB6YNdBKX7em2p0vn%2BkuP1y0gK2ND0tUxIy8KPrmxVOB%2FQciJUnuZVZNqYa6%2FftHv9q8m885rk3IHBV2I1O6ppi5G2IQyl3C6Dy7GG2Z4%2FavP6qfd3b9XQ%3D%3D' consent_cookie.cookie['domain']='.webassign.net' consent_cookie.cookie['path']='/' webassign.net/postrej_5.har.xz\n",
      "Unmatch url and consent cookie domain: page_url='https://www.getenrolled.com/' consent_cookie.cookie['domain']='.webassign.net' consent_cookie.cookie['path']='/' webassign.net/postrej_1.har.xz\n",
      "Unmatch url and consent cookie domain: page_url='https://account.cengage.com/login?SAMLRequest=fZLRTsIwFIZfZen9tm4wGA2DLBITEiVG0Rjvmu5sNG6ns6cDeXvnEAMXetuc8%2F1%2FvtP58rOpvT1Y0gYzFgWceYDKFBqrjD1vb%2F2ULRdzkk0dtyLv3A4f4aMDcl5OBNb1azcGqWvAPoHdawXPj3cZ2znXkghD2W8ECrCSFQTKNCGRCQdayI2MJ0kalUib12RT5aNkyrxVj9Yo3VDnl6KU6dBdgWpTaWTerbEKhl4ZK2VNwLz1KmO6iCbJLOIjnqajOJ3waJaO4%2BmIj2f9AFEHayQn0WUs5vHYj7jPp1s%2BE%2BNY8CSYcP7GvJezlvhbSy8KSZxMZKyzKIwkTQJlAyScEk%2F5%2FZ3oR0VrjTPK1OxHnBgC7SXhf4A8q2WLs4LD4RCYdydPEgeBdPLt93F7XYANqd1j0QDKo2lt9SGLY%2BHm4WWF30tu%2Bsz16sHUWh2%2FHTbS%2FV0pCqLhRRd%2BOYyKDqkFpUsNBQsXPxnX%2F2PxBQ%3D%3D&RelayState=%252Foauth2%252Fv1%252Fauthorize%252Fredirect%253Fokta_key%253DpKkP18iSxJStpx9jF4tXjo7vpgmSCMvUMEoxAGJYnk0&SigAlg=http%3A%2F%2Fwww.w3.org%2F2001%2F04%2Fxmldsig-more%23rsa-sha256&Signature=VtvpjWTHXsPZfFjt6HvQsnL2TiLG88Nx%2BpuyBuZSHVuFOmTqkOQCIe%2FavPuw7wmwLQ940sZVCzCmWc%2BDIFPpsEwJopMkQxIay5XQqKUbyTYMwcBWu7%2BNrdBLSxAXhVQTLRXppX0V2pLhwTk0UIHcjBLHZMXh6hHm5XQwqemNUomV7nSu7cQbVoJ2RUSG9wP%2FCfnB1ugMEzQWhnGOzgZI9HgkbJgg9uZ%2BenQoRQxKa%2FxHLJKfFkTvavWRdkrpwST4DUFSkwmS6LtHnFtTseOHgzZ5S5tUzCKvZslYDPWlqezQcWGM8mktRFDlB%2B%2FUZcRNC5MMMupa7AJyB4AoX5WZFg%3D%3D' consent_cookie.cookie['domain']='.webassign.net' consent_cookie.cookie['path']='/' webassign.net/postrej_3.har.xz\n",
      "Post rej cookie not contain consent cookie, streamlabs.com/postrej_0.har.xz not have cookie OptanonConsent of .streamlabs.com on path /\n",
      "Error reading har file /mnt/sdd/ducbui/projects/data2/consent/2024-10-06/pref_menu_scan_0k_20k/cbsi.com/postrej_5.har.xz: 'DataFrame' object has no attribute 'request'\n",
      "Unmatch url and consent cookie domain: page_url='https://paramountcareers.uk/' consent_cookie.cookie['domain']='.paramount.com' consent_cookie.cookie['path']='/' cbsi.com/postrej_3.har.xz\n",
      "Unmatch url and consent cookie domain: page_url='https://paramountcareers.uk/' consent_cookie.cookie['domain']='.paramount.com' consent_cookie.cookie['path']='/' cbsi.com/postrej_4.har.xz\n",
      "Error reading har file /mnt/sdd/ducbui/projects/data2/consent/2024-10-06/pref_menu_scan_0k_20k/bendingspoonsapps.com/postrej_5.har.xz: 'DataFrame' object has no attribute 'request'\n",
      "Post rej cookie not contain consent cookie, videobyte.com/postrej_0.har.xz not have cookie OptanonConsent of .videobyte.com on path /\n",
      "Unmatch url and consent cookie domain: page_url='https://www.employinc.com/company/news/' consent_cookie.cookie['domain']='.www.lever.co' consent_cookie.cookie['path']='/' lever.co/postrej_4.har.xz\n",
      "Unmatch url and consent cookie domain: page_url='https://www.outbrain.com/privacy/privacy-policy-outbrain-dsp/' consent_cookie.cookie['domain']='.zemanta.com' consent_cookie.cookie['path']='/' zemanta.com/postrej_2.har.xz\n",
      "Unmatch url and consent cookie domain: page_url='https://uk.babbel-giftshop.com/?utm_source=babbel_website&utm_medium=referrer&utm_campaign=footer' consent_cookie.cookie['domain']='.babbel.com' consent_cookie.cookie['path']='/' babbel.com/postrej_3.har.xz\n",
      "Unmatch url and consent cookie domain: page_url='https://profile.creatio.com/user/login?destination=corp/com' consent_cookie.cookie['domain']='www.creatio.com' consent_cookie.cookie['path']='/' bpmonline.com/postrej_5.har.xz\n",
      "Post rej cookie not contain consent cookie, ihsmarkit.com/postrej_0.har.xz not have cookie OptanonConsent of .spglobal.com on path /\n",
      "Post rej cookie not contain consent cookie, control4.com/postrej_0.har.xz not have cookie OptanonConsent of .control4.com on path /\n",
      "Error reading har file /mnt/sdd/ducbui/projects/data2/consent/2024-10-06/pref_menu_scan_0k_20k/citigroup.com/postrej_5.har.xz: 'DataFrame' object has no attribute 'request'\n",
      "Post rej cookie not contain consent cookie, technologyreview.com/postrej_0.har.xz not have cookie OptanonConsent of .technologyreview.com on path /\n",
      "Post rej cookie not contain consent cookie, bsigroup.com/postrej_0.har.xz not have cookie OptanonConsent of .www.bsigroup.com on path /\n",
      "Post rej cookie not contain consent cookie, mynewsdesk.com/postrej_0.har.xz not have cookie OptanonConsent of .mynewsdesk.com on path /\n",
      "Unmatch url and consent cookie domain: page_url='https://id.atlassian.com/login?continue=https%3A%2F%2Fdeveloper.atlassian.com%2F' consent_cookie.cookie['domain']='.developer.atlassian.com' consent_cookie.cookie['path']='/' atl-paas.net/postrej_2.har.xz\n",
      "Unmatch url and consent cookie domain: page_url='https://support.logi.com/hc/en-us' consent_cookie.cookie['domain']='.logitech.com' consent_cookie.cookie['path']='/' logi.com/postrej_5.har.xz\n",
      "Error reading har file /mnt/sdd/ducbui/projects/data2/consent/2024-10-06/pref_menu_scan_0k_20k/rbcroyalbank.com/postrej_2.har.xz: 'DataFrame' object has no attribute 'request'\n",
      "Domain path mismatch: .www.nintendo.com domain's path /en-gb/ not match url https://www.nintendo.com/en-za/\n",
      "Unmatch url and consent cookie domain: page_url='https://www.nintendo.com/en-za/' consent_cookie.cookie['domain']='.www.nintendo.com' consent_cookie.cookie['path']='/en-gb/' nintendo.co.uk/postrej_2.har.xz\n",
      "Domain path mismatch: .www.nintendo.com domain's path /en-gb/ not match url https://www.nintendo.com/fr-ch/\n",
      "Unmatch url and consent cookie domain: page_url='https://www.nintendo.com/fr-ch/' consent_cookie.cookie['domain']='.www.nintendo.com' consent_cookie.cookie['path']='/en-gb/' nintendo.co.uk/postrej_5.har.xz\n",
      "Post rej cookie not contain consent cookie, redbull.com/postrej_2.har.xz not have cookie OptanonConsent of .www.redbull.com on path /us-en\n",
      "Post rej cookie not contain consent cookie, redbull.com/postrej_5.har.xz not have cookie OptanonConsent of .www.redbull.com on path /us-en\n",
      "Post rej cookie not contain consent cookie, redbull.com/postrej_1.har.xz not have cookie OptanonConsent of .www.redbull.com on path /us-en\n",
      "Post rej cookie not contain consent cookie, redbull.com/postrej_0.har.xz not have cookie OptanonConsent of .www.redbull.com on path /us-en\n",
      "Post rej cookie not contain consent cookie, redbull.com/postrej_3.har.xz not have cookie OptanonConsent of .www.redbull.com on path /us-en\n",
      "Post rej cookie not contain consent cookie, redbull.com/postrej_4.har.xz not have cookie OptanonConsent of .www.redbull.com on path /us-en\n",
      "Error reading har file /mnt/sdd/ducbui/projects/data2/consent/2024-10-06/pref_menu_scan_0k_20k/slotomania.com/postrej_2.har.xz: 'DataFrame' object has no attribute 'request'\n",
      "Unmatch url and consent cookie domain: page_url='https://supplier.sonypictures.com/' consent_cookie.cookie['domain']='.www.sonypictures.com' consent_cookie.cookie['path']='/' sonypictures.com/postrej_1.har.xz\n",
      "Post rej cookie not contain consent cookie, sonypictures.com/postrej_0.har.xz not have cookie OptanonConsent of .www.sonypictures.com on path /\n",
      "Error reading har file /mnt/sdd/ducbui/projects/data2/consent/2024-10-06/pref_menu_scan_0k_20k/agora.io/postrej_3.har.xz: 'DataFrame' object has no attribute 'request'\n",
      "Post rej cookie not contain consent cookie, themeforest.net/postrej_0.har.xz not have cookie CookieConsent of themeforest.net on path /\n",
      "Post rej cookie not contain consent cookie, 2k.com/postrej_0.har.xz not have cookie OptanonConsent of .2k.com on path /\n",
      "Post rej cookie not contain consent cookie, trustpilot.com/postrej_0.har.xz not have cookie OptanonConsent of .trustpilot.com on path /\n",
      "Error reading har file /mnt/sdd/ducbui/projects/data2/consent/2024-10-06/pref_menu_scan_0k_20k/secondlife.com/postrej_3.har.xz: 'DataFrame' object has no attribute 'request'\n",
      "Post rej cookie not contain consent cookie, tutsplus.com/postrej_0.har.xz not have cookie CookieConsent of tutsplus.com on path /\n",
      "Domain path mismatch: .www.carrier.com domain's path /carrier not match url https://www.carrier.com/commercial/en/us/\n",
      "Unmatch url and consent cookie domain: page_url='https://www.carrier.com/commercial/en/us/' consent_cookie.cookie['domain']='.www.carrier.com' consent_cookie.cookie['path']='/carrier' carrier.com/postrej_5.har.xz\n",
      "Domain path mismatch: .www.carrier.com domain's path /carrier not match url https://www.carrier.com/refrigeration/en/worldwide/transport-refrigeration/\n",
      "Unmatch url and consent cookie domain: page_url='https://www.carrier.com/refrigeration/en/worldwide/transport-refrigeration/' consent_cookie.cookie['domain']='.www.carrier.com' consent_cookie.cookie['path']='/carrier' carrier.com/postrej_3.har.xz\n",
      "Post rej cookie not contain consent cookie, empower.com/postrej_0.har.xz not have cookie OptanonConsent of .empower.com on path /\n",
      "Post rej cookie not contain consent cookie, katespade.com/postrej_5.har.xz not have cookie OptanonConsent of .katespade.co.uk on path /\n",
      "Post rej cookie not contain consent cookie, katespade.com/postrej_1.har.xz not have cookie OptanonConsent of .katespade.co.uk on path /\n",
      "Post rej cookie not contain consent cookie, katespade.com/postrej_0.har.xz not have cookie OptanonConsent of .katespade.co.uk on path /\n",
      "Post rej cookie not contain consent cookie, katespade.com/postrej_3.har.xz not have cookie OptanonConsent of .katespade.co.uk on path /\n",
      "Post rej cookie not contain consent cookie, katespade.com/postrej_4.har.xz not have cookie OptanonConsent of .katespade.co.uk on path /\n",
      "Unmatch url and consent cookie domain: page_url='https://login.techsmith.com/u/login/identifier?state=hKFo2SBPUEJ3NlFHSDI0OTU3aVpHbElBZEw3R0NKVkltZjdfUaFur3VuaXZlcnNhbC1sb2dpbqN0aWTZIDVWcDRfSDE1SjJTMXIxcFdRN1NTQU1Tem5tRWZ4QWZLo2NpZNkgMExSQzFJMXhDTFEzajQwSFRUM3ZDMUE4QWh1d2p5MDI&ui_locales=en-US' consent_cookie.cookie['domain']='.screencast.com' consent_cookie.cookie['path']='/' screencast.com/postrej_2.har.xz\n",
      "Unmatch url and consent cookie domain: page_url='https://login.techsmith.com/u/login/identifier?state=hKFo2SBBMURweU5GSGhjS3FyWXNDV2pydDYtRmdvampyTTZuUKFur3VuaXZlcnNhbC1sb2dpbqN0aWTZIEZvR1lWRV9xbTdTV0lGcjg2N2xqWk1hVS1OMDd5UEFto2NpZNkgMExSQzFJMXhDTFEzajQwSFRUM3ZDMUE4QWh1d2p5MDI&ui_locales=en-US' consent_cookie.cookie['domain']='.screencast.com' consent_cookie.cookie['path']='/' screencast.com/postrej_5.har.xz\n",
      "Post rej cookie not contain consent cookie, dataseat.com/postrej_5.har.xz not have cookie OptanonConsent of .dataseat.com on path /\n",
      "Unmatch url and consent cookie domain: page_url='https://partner.rubrik.com/s/login/?ec=302&startURL=%2Fs%2Fdealreglist' consent_cookie.cookie['domain']='.www.rubrik.com' consent_cookie.cookie['path']='/' rubrik.com/postrej_5.har.xz\n",
      "Error reading har file /mnt/sdd/ducbui/projects/data2/consent/2024-10-06/pref_menu_scan_0k_20k/liveperson.com/postrej_4.har.xz: 'DataFrame' object has no attribute 'request'\n",
      "Domain path mismatch: .www2.deloitte.com domain's path /us/ not match url https://www.deloitte.com/ng/en.html?icid=site_selector_ng\n",
      "Unmatch url and consent cookie domain: page_url='https://www.deloitte.com/ng/en.html?icid=site_selector_ng' consent_cookie.cookie['domain']='.www2.deloitte.com' consent_cookie.cookie['path']='/us/' deloitte.com/postrej_2.har.xz\n",
      "Post rej cookie not contain consent cookie, deloitte.com/postrej_0.har.xz not have cookie OptanonConsent of .www2.deloitte.com on path /us/\n",
      "Post rej cookie not contain consent cookie, wordstream.com/postrej_0.har.xz not have cookie OptanonConsent of .wordstream.com on path /\n",
      "Post rej cookie not contain consent cookie, hpdaas.com/postrej_0.har.xz not have cookie OptanonConsent of .hpdaas.com on path /\n",
      "Written to /mnt/sdd/ducbui/projects/data2/consent/2024-10-06/scan_0k_20k.parquet\n",
      "Number sent cookies read: 1,698,413\n"
     ]
    },
    {
     "data": {
      "text/html": [
       "<div>\n",
       "<style scoped>\n",
       "    .dataframe tbody tr th:only-of-type {\n",
       "        vertical-align: middle;\n",
       "    }\n",
       "\n",
       "    .dataframe tbody tr th {\n",
       "        vertical-align: top;\n",
       "    }\n",
       "\n",
       "    .dataframe thead th {\n",
       "        text-align: right;\n",
       "    }\n",
       "</style>\n",
       "<table border=\"1\" class=\"dataframe\">\n",
       "  <thead>\n",
       "    <tr style=\"text-align: right;\">\n",
       "      <th></th>\n",
       "      <th>name</th>\n",
       "      <th>value</th>\n",
       "      <th>domain</th>\n",
       "      <th>path</th>\n",
       "      <th>expires</th>\n",
       "      <th>size</th>\n",
       "      <th>httpOnly</th>\n",
       "      <th>secure</th>\n",
       "      <th>session</th>\n",
       "      <th>sameSite</th>\n",
       "      <th>priority</th>\n",
       "      <th>sameParty</th>\n",
       "      <th>sourceScheme</th>\n",
       "      <th>sourcePort</th>\n",
       "      <th>request_url</th>\n",
       "      <th>site</th>\n",
       "      <th>page_url</th>\n",
       "      <th>partitionKey</th>\n",
       "    </tr>\n",
       "  </thead>\n",
       "  <tbody>\n",
       "    <tr>\n",
       "      <th>0</th>\n",
       "      <td>_gcl_au</td>\n",
       "      <td>1.1.793239040.1728286382</td>\n",
       "      <td>.nextiva.com</td>\n",
       "      <td>/</td>\n",
       "      <td>1.736062e+09</td>\n",
       "      <td>31</td>\n",
       "      <td>False</td>\n",
       "      <td>False</td>\n",
       "      <td>False</td>\n",
       "      <td>NaN</td>\n",
       "      <td>Medium</td>\n",
       "      <td>False</td>\n",
       "      <td>Secure</td>\n",
       "      <td>443</td>\n",
       "      <td>https://www.nextiva.com/blog/wp-content/themes...</td>\n",
       "      <td>nextiva.com</td>\n",
       "      <td>https://www.nextiva.com/blog/what-is-contact-c...</td>\n",
       "      <td>NaN</td>\n",
       "    </tr>\n",
       "    <tr>\n",
       "      <th>1</th>\n",
       "      <td>_ga</td>\n",
       "      <td>GA1.1.1952608818.1728286382</td>\n",
       "      <td>.nextiva.com</td>\n",
       "      <td>/</td>\n",
       "      <td>1.762846e+09</td>\n",
       "      <td>30</td>\n",
       "      <td>False</td>\n",
       "      <td>False</td>\n",
       "      <td>False</td>\n",
       "      <td>NaN</td>\n",
       "      <td>Medium</td>\n",
       "      <td>False</td>\n",
       "      <td>Secure</td>\n",
       "      <td>443</td>\n",
       "      <td>https://www.nextiva.com/blog/wp-content/plugin...</td>\n",
       "      <td>nextiva.com</td>\n",
       "      <td>https://www.nextiva.com/blog/what-is-contact-c...</td>\n",
       "      <td>NaN</td>\n",
       "    </tr>\n",
       "    <tr>\n",
       "      <th>2</th>\n",
       "      <td>_omappvp</td>\n",
       "      <td>jWrmCTr28U6lq1gwACGw6vaWsEBOdVQw0VzoM80HARYtAG...</td>\n",
       "      <td>www.nextiva.com</td>\n",
       "      <td>/</td>\n",
       "      <td>1.762846e+09</td>\n",
       "      <td>104</td>\n",
       "      <td>False</td>\n",
       "      <td>True</td>\n",
       "      <td>False</td>\n",
       "      <td>Lax</td>\n",
       "      <td>Medium</td>\n",
       "      <td>False</td>\n",
       "      <td>Secure</td>\n",
       "      <td>443</td>\n",
       "      <td>https://www.nextiva.com/blog/wp-content/mu-plu...</td>\n",
       "      <td>nextiva.com</td>\n",
       "      <td>https://www.nextiva.com/blog/what-is-contact-c...</td>\n",
       "      <td>NaN</td>\n",
       "    </tr>\n",
       "  </tbody>\n",
       "</table>\n",
       "</div>"
      ],
      "text/plain": [
       "       name                                              value  \\\n",
       "0   _gcl_au                           1.1.793239040.1728286382   \n",
       "1       _ga                        GA1.1.1952608818.1728286382   \n",
       "2  _omappvp  jWrmCTr28U6lq1gwACGw6vaWsEBOdVQw0VzoM80HARYtAG...   \n",
       "\n",
       "            domain path       expires  size  httpOnly  secure  session  \\\n",
       "0     .nextiva.com    /  1.736062e+09    31     False   False    False   \n",
       "1     .nextiva.com    /  1.762846e+09    30     False   False    False   \n",
       "2  www.nextiva.com    /  1.762846e+09   104     False    True    False   \n",
       "\n",
       "  sameSite priority  sameParty sourceScheme  sourcePort  \\\n",
       "0      NaN   Medium      False       Secure         443   \n",
       "1      NaN   Medium      False       Secure         443   \n",
       "2      Lax   Medium      False       Secure         443   \n",
       "\n",
       "                                         request_url         site  \\\n",
       "0  https://www.nextiva.com/blog/wp-content/themes...  nextiva.com   \n",
       "1  https://www.nextiva.com/blog/wp-content/plugin...  nextiva.com   \n",
       "2  https://www.nextiva.com/blog/wp-content/mu-plu...  nextiva.com   \n",
       "\n",
       "                                            page_url partitionKey  \n",
       "0  https://www.nextiva.com/blog/what-is-contact-c...          NaN  \n",
       "1  https://www.nextiva.com/blog/what-is-contact-c...          NaN  \n",
       "2  https://www.nextiva.com/blog/what-is-contact-c...          NaN  "
      ]
     },
     "execution_count": 8,
     "metadata": {},
     "output_type": "execute_result"
    }
   ],
   "source": [
    "# import sys; import importlib; importlib.reload(sys.modules['consent.data.pref_menu_scan.postrej_cookie_reader'])\n",
    "from consent.data.pref_menu_scan.har_cookie_reader import read_postrej_sent_cookies_in_scans\n",
    "\n",
    "cookies_cache_file = SCAN_ROOT_DIR / f'scan{output_suffix}.parquet'  # 'raw_postrej_sent_cookies.parquet'\n",
    "\n",
    "if not cookies_cache_file.exists() or overwrite:\n",
    "    sent_cookies = read_postrej_sent_cookies_in_scans(SCAN_DIRS)\n",
    "    if cookies_cache_file: sent_cookies.to_parquet(cookies_cache_file); print(f\"Written to {cookies_cache_file}\")\n",
    "else:\n",
    "    sent_cookies = pd.read_parquet(cookies_cache_file)\n",
    "\n",
    "print(f\"Number sent cookies read: {len(sent_cookies):,d}\")\n",
    "sent_cookies.head(3)"
   ]
  },
  {
   "cell_type": "code",
   "execution_count": 9,
   "metadata": {},
   "outputs": [],
   "source": [
    "# prj = post-rejection\n",
    "# Old way: consider all flows\n",
    "# prj_sent_cookies = sent_cookies[['domain', 'expires', 'name', 'path', 'sameSite', 'secure', 'value', 'request_url', 'site']].drop_duplicates()\n",
    "# prj_br_cookies = prj_sent_cookies[['domain', 'expires', 'name', 'path', 'sameSite', 'secure', 'site']].drop_duplicates()\n",
    "# New way: consider cookies only (ignore the request url, which is not nused in get_comply cookie matching anyway)\n",
    "prj_sent_cookies = sent_cookies[['name', 'domain', 'path', 'site']].drop_duplicates()"
   ]
  },
  {
   "cell_type": "code",
   "execution_count": 10,
   "metadata": {},
   "outputs": [],
   "source": [
    "# print(f\"Num captured sent cookies: {len(sent_cookies):,d}\")\n",
    "# print(f\"Num unique captured cookies: {len(prj_sent_cookies):,d}\")\n",
    "# n_br_cookies = len(prj_br_cookies)\n",
    "# print(f\"Num unique browser cookies: {n_br_cookies:,d} on {prj_br_cookies.site.nunique():,d} websites\") # and {sent_cookies.page_url.nunique():,d} pages\")"
   ]
  },
  {
   "cell_type": "markdown",
   "metadata": {},
   "source": [
    "## Analyze cookies compliance    "
   ]
  },
  {
   "cell_type": "code",
   "execution_count": null,
   "metadata": {},
   "outputs": [
    {
     "name": "stdout",
     "output_type": "stream",
     "text": [
      "Num sent cookies in the cookie prefs sites: 28,668\n"
     ]
    }
   ],
   "source": [
    "sites = set(cookie_prefs.site)\n",
    "print(f\"Num sent cookies in the cookie prefs sites: {len(prj_sent_cookies[prj_sent_cookies.site.isin(sites)]):,d}\")"
   ]
  },
  {
   "cell_type": "code",
   "execution_count": 12,
   "metadata": {
    "tags": []
   },
   "outputs": [
    {
     "name": "stdout",
     "output_type": "stream",
     "text": [
      "faster: for cookie_pref in cookie_pref_set[cookie_pref_set.name == acookie['name']]:\n"
     ]
    },
    {
     "name": "stderr",
     "output_type": "stream",
     "text": [
      "  1%|          | 7/1355 [00:00<00:41, 32.18it/s]"
     ]
    },
    {
     "name": "stderr",
     "output_type": "stream",
     "text": [
      " 88%|████████▊ | 1199/1355 [01:20<00:06, 24.30it/s]"
     ]
    },
    {
     "name": "stdout",
     "output_type": "stream",
     "text": [
      "Error fuzzy name match pref_name='mf_[0cc3b612-a97d-4bd0-b496-3ed0686d4603]' cookie_name='__cf_bm' bad character range d-4 at position 20\n",
      "Error fuzzy name match pref_name='mf_[0cc3b612-a97d-4bd0-b496-3ed0686d4603]' cookie_name='_px3' bad character range d-4 at position 20\n",
      "Error fuzzy name match pref_name='mf_[0cc3b612-a97d-4bd0-b496-3ed0686d4603]' cookie_name='_ga_0FHHFDE9TG' bad character range d-4 at position 20\n",
      "Error fuzzy name match pref_name='mf_[0cc3b612-a97d-4bd0-b496-3ed0686d4603]' cookie_name='OptanonAlertBoxClosed' bad character range d-4 at position 20\n",
      "Error fuzzy name match pref_name='mf_[0cc3b612-a97d-4bd0-b496-3ed0686d4603]' cookie_name='_gid' bad character range d-4 at position 20\n",
      "Error fuzzy name match pref_name='mf_[0cc3b612-a97d-4bd0-b496-3ed0686d4603]' cookie_name='_ga' bad character range d-4 at position 20\n",
      "Error fuzzy name match pref_name='mf_[0cc3b612-a97d-4bd0-b496-3ed0686d4603]' cookie_name='pxcts' bad character range d-4 at position 20\n",
      "Error fuzzy name match pref_name='mf_[0cc3b612-a97d-4bd0-b496-3ed0686d4603]' cookie_name='whereYouLeftOffData' bad character range d-4 at position 20\n",
      "Error fuzzy name match pref_name='mf_[0cc3b612-a97d-4bd0-b496-3ed0686d4603]' cookie_name='OptanonConsent' bad character range d-4 at position 20\n",
      "Error fuzzy name match pref_name='mf_[0cc3b612-a97d-4bd0-b496-3ed0686d4603]' cookie_name='_ga_T3MKEZBW59' bad character range d-4 at position 20\n",
      "Error fuzzy name match pref_name='mf_[0cc3b612-a97d-4bd0-b496-3ed0686d4603]' cookie_name='_ga_TNYBCQTJ6G' bad character range d-4 at position 20\n",
      "Error fuzzy name match pref_name='mf_[0cc3b612-a97d-4bd0-b496-3ed0686d4603]' cookie_name='s_cc' bad character range d-4 at position 20\n",
      "Error fuzzy name match pref_name='mf_[0cc3b612-a97d-4bd0-b496-3ed0686d4603]' cookie_name='_pxvid' bad character range d-4 at position 20\n",
      "Error fuzzy name match pref_name='mf_[0cc3b612-a97d-4bd0-b496-3ed0686d4603]' cookie_name='stickyRandomValue' bad character range d-4 at position 20\n",
      "Error fuzzy name match pref_name='mf_[0cc3b612-a97d-4bd0-b496-3ed0686d4603]' cookie_name='_ga_64H4Z6TSBF' bad character range d-4 at position 20\n",
      "Error fuzzy name match pref_name='mf_[0cc3b612-a97d-4bd0-b496-3ed0686d4603]' cookie_name='_pxhd' bad character range d-4 at position 20\n",
      "Error fuzzy name match pref_name='mf_[0cc3b612-a97d-4bd0-b496-3ed0686d4603]' cookie_name='state' bad character range d-4 at position 20\n",
      "Error fuzzy name match pref_name='mf_[0cc3b612-a97d-4bd0-b496-3ed0686d4603]' cookie_name='ASP.NET_SessionId' bad character range d-4 at position 20\n",
      "Error fuzzy name match pref_name='mf_[0cc3b612-a97d-4bd0-b496-3ed0686d4603]' cookie_name='adsCallCount' bad character range d-4 at position 20\n",
      "Error fuzzy name match pref_name='mf_[0cc3b612-a97d-4bd0-b496-3ed0686d4603]' cookie_name='_gcl_au' bad character range d-4 at position 20\n",
      "Error fuzzy name match pref_name='mf_[0cc3b612-a97d-4bd0-b496-3ed0686d4603]' cookie_name='AWSALBTG' bad character range d-4 at position 20\n",
      "Error fuzzy name match pref_name='mf_[0cc3b612-a97d-4bd0-b496-3ed0686d4603]' cookie_name='s_sq' bad character range d-4 at position 20\n",
      "Error fuzzy name match pref_name='mf_[0cc3b612-a97d-4bd0-b496-3ed0686d4603]' cookie_name='IDE' bad character range d-4 at position 20\n",
      "Error fuzzy name match pref_name='mf_[0cc3b612-a97d-4bd0-b496-3ed0686d4603]' cookie_name='AWSALBTGCORS' bad character range d-4 at position 20\n",
      "Error fuzzy name match pref_name='mf_[0cc3b612-a97d-4bd0-b496-3ed0686d4603]' cookie_name='userid' bad character range d-4 at position 20\n",
      "Error fuzzy name match pref_name='mf_[0cc3b612-a97d-4bd0-b496-3ed0686d4603]' cookie_name='userCount' bad character range d-4 at position 20\n"
     ]
    },
    {
     "name": "stderr",
     "output_type": "stream",
     "text": [
      "100%|██████████| 1355/1355 [01:32<00:00, 14.64it/s]\n"
     ]
    },
    {
     "data": {
      "text/html": [
       "<div>\n",
       "<style scoped>\n",
       "    .dataframe tbody tr th:only-of-type {\n",
       "        vertical-align: middle;\n",
       "    }\n",
       "\n",
       "    .dataframe tbody tr th {\n",
       "        vertical-align: top;\n",
       "    }\n",
       "\n",
       "    .dataframe thead th {\n",
       "        text-align: right;\n",
       "    }\n",
       "</style>\n",
       "<table border=\"1\" class=\"dataframe\">\n",
       "  <thead>\n",
       "    <tr style=\"text-align: right;\">\n",
       "      <th></th>\n",
       "      <th>name</th>\n",
       "      <th>domain</th>\n",
       "      <th>path</th>\n",
       "      <th>site</th>\n",
       "      <th>comply</th>\n",
       "    </tr>\n",
       "  </thead>\n",
       "  <tbody>\n",
       "    <tr>\n",
       "      <th>0</th>\n",
       "      <td>_gcl_au</td>\n",
       "      <td>.nextiva.com</td>\n",
       "      <td>/</td>\n",
       "      <td>nextiva.com</td>\n",
       "      <td>incorrect</td>\n",
       "    </tr>\n",
       "    <tr>\n",
       "      <th>1</th>\n",
       "      <td>_ga</td>\n",
       "      <td>.nextiva.com</td>\n",
       "      <td>/</td>\n",
       "      <td>nextiva.com</td>\n",
       "      <td>incorrect</td>\n",
       "    </tr>\n",
       "    <tr>\n",
       "      <th>2</th>\n",
       "      <td>_omappvp</td>\n",
       "      <td>www.nextiva.com</td>\n",
       "      <td>/</td>\n",
       "      <td>nextiva.com</td>\n",
       "      <td>incorrect</td>\n",
       "    </tr>\n",
       "    <tr>\n",
       "      <th>3</th>\n",
       "      <td>cf_clearance</td>\n",
       "      <td>.nextiva.com</td>\n",
       "      <td>/</td>\n",
       "      <td>nextiva.com</td>\n",
       "      <td>incorrect</td>\n",
       "    </tr>\n",
       "    <tr>\n",
       "      <th>4</th>\n",
       "      <td>VISITOR_PRIVACY_METADATA</td>\n",
       "      <td>.youtube.com</td>\n",
       "      <td>/</td>\n",
       "      <td>nextiva.com</td>\n",
       "      <td>incorrect</td>\n",
       "    </tr>\n",
       "  </tbody>\n",
       "</table>\n",
       "</div>"
      ],
      "text/plain": [
       "                       name           domain path         site     comply\n",
       "0                   _gcl_au     .nextiva.com    /  nextiva.com  incorrect\n",
       "1                       _ga     .nextiva.com    /  nextiva.com  incorrect\n",
       "2                  _omappvp  www.nextiva.com    /  nextiva.com  incorrect\n",
       "3              cf_clearance     .nextiva.com    /  nextiva.com  incorrect\n",
       "4  VISITOR_PRIVACY_METADATA     .youtube.com    /  nextiva.com  incorrect"
      ]
     },
     "execution_count": 12,
     "metadata": {},
     "output_type": "execute_result"
    }
   ],
   "source": [
    "import sys; import importlib; importlib.reload(sys.modules['consent.consistency.comply_util'])\n",
    "from consent.consistency.comply_util import get_comply\n",
    "\n",
    "print(\"faster: for cookie_pref in cookie_pref_set[cookie_pref_set.name == acookie['name']]:\")\n",
    "all_complies = get_comply(cookie_prefs, prj_sent_cookies)\n",
    "all_complies.head()"
   ]
  },
  {
   "cell_type": "code",
   "execution_count": null,
   "metadata": {},
   "outputs": [
    {
     "data": {
      "text/html": [
       "<div>\n",
       "<style scoped>\n",
       "    .dataframe tbody tr th:only-of-type {\n",
       "        vertical-align: middle;\n",
       "    }\n",
       "\n",
       "    .dataframe tbody tr th {\n",
       "        vertical-align: top;\n",
       "    }\n",
       "\n",
       "    .dataframe thead th {\n",
       "        text-align: right;\n",
       "    }\n",
       "</style>\n",
       "<table border=\"1\" class=\"dataframe\">\n",
       "  <thead>\n",
       "    <tr style=\"text-align: right;\">\n",
       "      <th></th>\n",
       "      <th>comply_type</th>\n",
       "      <th>num_sites</th>\n",
       "      <th>num_sites_percent</th>\n",
       "      <th>num_cookies</th>\n",
       "      <th>num_cookies_percent</th>\n",
       "      <th>num_cookies_per_site</th>\n",
       "    </tr>\n",
       "  </thead>\n",
       "  <tbody>\n",
       "    <tr>\n",
       "      <th>3</th>\n",
       "      <td>omit</td>\n",
       "      <td>1205</td>\n",
       "      <td>89.259259</td>\n",
       "      <td>12187</td>\n",
       "      <td>42.510813</td>\n",
       "      <td>10.113693</td>\n",
       "    </tr>\n",
       "    <tr>\n",
       "      <th>2</th>\n",
       "      <td>incorrect</td>\n",
       "      <td>1100</td>\n",
       "      <td>81.481481</td>\n",
       "      <td>9271</td>\n",
       "      <td>32.339194</td>\n",
       "      <td>8.428182</td>\n",
       "    </tr>\n",
       "    <tr>\n",
       "      <th>0</th>\n",
       "      <td>ambiguous</td>\n",
       "      <td>42</td>\n",
       "      <td>3.111111</td>\n",
       "      <td>49</td>\n",
       "      <td>0.170922</td>\n",
       "      <td>1.166667</td>\n",
       "    </tr>\n",
       "  </tbody>\n",
       "</table>\n",
       "</div>"
      ],
      "text/plain": [
       "  comply_type  num_sites  num_sites_percent  num_cookies  num_cookies_percent  \\\n",
       "3        omit       1205          89.259259        12187            42.510813   \n",
       "2   incorrect       1100          81.481481         9271            32.339194   \n",
       "0   ambiguous         42           3.111111           49             0.170922   \n",
       "\n",
       "   num_cookies_per_site  \n",
       "3             10.113693  \n",
       "2              8.428182  \n",
       "0              1.166667  "
      ]
     },
     "execution_count": 13,
     "metadata": {},
     "output_type": "execute_result"
    }
   ],
   "source": [
    "# Analyze complies here\n",
    "complies = all_complies[['name', 'domain', 'path', 'site', 'comply']].drop_duplicates()\n",
    "comply_sites_data = defaultdict(list)\n",
    "for comply_type, comply_group in complies.groupby('comply'):\n",
    "    n_sites = comply_group.site.nunique()\n",
    "    comply_sites_data['comply_type'].append(comply_type)\n",
    "    comply_sites_data['num_sites'].append(n_sites)\n",
    "    comply_sites = pd.DataFrame(comply_sites_data).sort_values(by=['num_sites'], ascending=False)\n",
    "\n",
    "nsites = all_complies.site.nunique()\n",
    "comply_counts = complies.comply.value_counts()\n",
    "comply_sites['num_sites_percent'] = comply_sites['num_sites'] / nsites * 100\n",
    "comply_sites['num_cookies'] = comply_sites['comply_type'].map(comply_counts)\n",
    "comply_sites['num_cookies_percent'] = comply_sites['num_cookies'] / comply_sites['num_cookies'].sum() * 100  # need to read scan_*.parquet for n_br_cookies, but may be unnecessary\n",
    "comply_sites['num_cookies_per_site'] = comply_sites['num_cookies'] / comply_sites['num_sites']\n",
    "\n",
    "# Do not count comply/correct enforcement: which require detecting all possible\n",
    "comply_sites = comply_sites[comply_sites.comply_type != 'comply']\n",
    "comply_sites"
   ]
  },
  {
   "cell_type": "code",
   "execution_count": null,
   "metadata": {},
   "outputs": [
    {
     "name": "stdout",
     "output_type": "stream",
     "text": [
      "Written 28,668 records of all_complies to /mnt/sdd/ducbui/projects/data2/consent/2024-10-06/all_complies_0k_20k.parquet\n"
     ]
    }
   ],
   "source": [
    "# Record the analysis results\n",
    "all_complies_file = SCAN_ROOT_DIR / f'all_complies{output_suffix}.parquet'\n",
    "all_complies.to_parquet(all_complies_file); print(f\"Written {len(all_complies):,d} records of all_complies to {all_complies_file}\")"
   ]
  },
  {
   "cell_type": "code",
   "execution_count": 15,
   "metadata": {},
   "outputs": [],
   "source": [
    "class StopExecution(Exception):\n",
    "    def _render_traceback_(self):\n",
    "        pass\n",
    "\n",
    "raise StopExecution\n",
    "import sys; sys.exit(0)"
   ]
  },
  {
   "cell_type": "code",
   "execution_count": 16,
   "metadata": {},
   "outputs": [
    {
     "data": {
      "text/plain": [
       "0           comply\n",
       "1             omit\n",
       "2           comply\n",
       "3           comply\n",
       "4             omit\n",
       "           ...    \n",
       "33397       comply\n",
       "33398       comply\n",
       "33399       comply\n",
       "33400    incorrect\n",
       "33401         omit\n",
       "Name: comply, Length: 33402, dtype: object"
      ]
     },
     "execution_count": 16,
     "metadata": {},
     "output_type": "execute_result"
    }
   ],
   "source": [
    "complies.comply"
   ]
  },
  {
   "cell_type": "code",
   "execution_count": 17,
   "metadata": {},
   "outputs": [
    {
     "data": {
      "text/plain": [
       "1427"
      ]
     },
     "execution_count": 17,
     "metadata": {},
     "output_type": "execute_result"
    }
   ],
   "source": [
    "nsites = all_complies.site.nunique(); nsites\n",
    "# all_complies.site.unique()"
   ]
  },
  {
   "cell_type": "code",
   "execution_count": 18,
   "metadata": {},
   "outputs": [
    {
     "data": {
      "text/plain": [
       "0"
      ]
     },
     "execution_count": 18,
     "metadata": {},
     "output_type": "execute_result"
    }
   ],
   "source": [
    "detected_contra_sites = [s for s, contras in site_to_contras.items() if len(contras) > 0]; len(detected_contra_sites)"
   ]
  },
  {
   "cell_type": "code",
   "execution_count": 19,
   "metadata": {},
   "outputs": [
    {
     "data": {
      "text/plain": [
       "omit         14789\n",
       "incorrect    10637\n",
       "comply        7661\n",
       "ambiguous       88\n",
       "Name: comply, dtype: int64"
      ]
     },
     "execution_count": 19,
     "metadata": {},
     "output_type": "execute_result"
    }
   ],
   "source": [
    "complies = all_complies[ ['name', 'domain', 'site', 'comply',]].drop_duplicates()\n",
    "comply_counts = complies.comply.value_counts()\n",
    "comply_counts"
   ]
  },
  {
   "cell_type": "code",
   "execution_count": 20,
   "metadata": {},
   "outputs": [
    {
     "name": "stdout",
     "output_type": "stream",
     "text": [
      "Num captured sent cookies: 4,293,721\n",
      "Num unique captured cookies: 2,545,816\n",
      "Num unique browser cookies: 77,040 on 1,427 websites\n"
     ]
    }
   ],
   "source": [
    "complies_sites = set(all_complies.site)\n",
    "sent_cookies_com = sent_cookies[sent_cookies.site.isin(complies_sites)]\n",
    "prj_sent_cookies_com = sent_cookies_com[['domain', 'expires', 'name', 'path', 'sameSite', 'secure', 'value', 'request_url', 'site']].drop_duplicates()\n",
    "prj_br_cookies_com = prj_sent_cookies_com[['domain', 'expires', 'name', 'path', 'sameSite', 'secure', 'site']].drop_duplicates()\n",
    "print(f\"Num captured sent cookies: {len(sent_cookies_com):,d}\")\n",
    "print(f\"Num unique captured cookies: {len(prj_sent_cookies_com):,d}\")\n",
    "\n",
    "n_br_cookies_com = len(prj_br_cookies_com)\n",
    "print(f\"Num unique browser cookies: {n_br_cookies_com:,d} on {prj_br_cookies_com.site.nunique():,d} websites\") # and {sent_cookies.page_url.nunique():,d} pages\")"
   ]
  },
  {
   "cell_type": "code",
   "execution_count": null,
   "metadata": {},
   "outputs": [],
   "source": []
  },
  {
   "cell_type": "markdown",
   "metadata": {},
   "source": [
    "# Analyze contras"
   ]
  },
  {
   "cell_type": "code",
   "execution_count": 21,
   "metadata": {},
   "outputs": [
    {
     "data": {
      "text/html": [
       "<div>\n",
       "<style scoped>\n",
       "    .dataframe tbody tr th:only-of-type {\n",
       "        vertical-align: middle;\n",
       "    }\n",
       "\n",
       "    .dataframe tbody tr th {\n",
       "        vertical-align: top;\n",
       "    }\n",
       "\n",
       "    .dataframe thead th {\n",
       "        text-align: right;\n",
       "    }\n",
       "</style>\n",
       "<table border=\"1\" class=\"dataframe\">\n",
       "  <thead>\n",
       "    <tr style=\"text-align: right;\">\n",
       "      <th></th>\n",
       "      <th>domain</th>\n",
       "      <th>name</th>\n",
       "      <th>site</th>\n",
       "    </tr>\n",
       "  </thead>\n",
       "  <tbody>\n",
       "    <tr>\n",
       "      <th>0</th>\n",
       "      <td>blog.lumen.com</td>\n",
       "      <td>PHPSESSID</td>\n",
       "      <td>savvis.net</td>\n",
       "    </tr>\n",
       "    <tr>\n",
       "      <th>1</th>\n",
       "      <td>news.lumen.com</td>\n",
       "      <td>__cfruid</td>\n",
       "      <td>savvis.net</td>\n",
       "    </tr>\n",
       "    <tr>\n",
       "      <th>2</th>\n",
       "      <td>www.hottopic.com</td>\n",
       "      <td>__cqact</td>\n",
       "      <td>hottopic.com</td>\n",
       "    </tr>\n",
       "    <tr>\n",
       "      <th>3</th>\n",
       "      <td>www.pgatour.com</td>\n",
       "      <td>PGAT_City</td>\n",
       "      <td>pgatour.com</td>\n",
       "    </tr>\n",
       "    <tr>\n",
       "      <th>4</th>\n",
       "      <td>nr-data.net</td>\n",
       "      <td>JSESSIONID</td>\n",
       "      <td>liverpoolfc.com</td>\n",
       "    </tr>\n",
       "  </tbody>\n",
       "</table>\n",
       "</div>"
      ],
      "text/plain": [
       "             domain        name             site\n",
       "0    blog.lumen.com   PHPSESSID       savvis.net\n",
       "1    news.lumen.com    __cfruid       savvis.net\n",
       "2  www.hottopic.com     __cqact     hottopic.com\n",
       "3   www.pgatour.com   PGAT_City      pgatour.com\n",
       "4       nr-data.net  JSESSIONID  liverpoolfc.com"
      ]
     },
     "execution_count": 21,
     "metadata": {},
     "output_type": "execute_result"
    }
   ],
   "source": [
    "# Way 1: compute contra sites by dynamic analysis: this should be lower than statically analyzing prefs\n",
    "# because we cannot check all combinations of consent modes.\n",
    "from consent.consistency.comply_util import get_appr_rej_sets\n",
    "contra_data = []\n",
    "for asite in cookie_prefs.site.unique():\n",
    "    site_prefs = cookie_prefs[cookie_prefs.site == asite]\n",
    "    _, _, contras = get_appr_rej_sets(site_prefs)\n",
    "    for contra in contras:\n",
    "        contra['site'] = asite\n",
    "        contra_data.append(contra)\n",
    "contra_sites = pd.DataFrame(contra_data)\n",
    "contra_sites.head()"
   ]
  },
  {
   "cell_type": "code",
   "execution_count": 22,
   "metadata": {},
   "outputs": [
    {
     "ename": "AssertionError",
     "evalue": "this is the same method with above, so the result",
     "output_type": "error",
     "traceback": [
      "\u001b[0;31m---------------------------------------------------------------------------\u001b[0m",
      "\u001b[0;31mAssertionError\u001b[0m                            Traceback (most recent call last)",
      "\u001b[1;32m/home/ducbui/local_projects/consent/consent_project/src/consent/consistency/main_analysis/consistency_notebook/2023_11/uk_consistency.ipynb Cell 26\u001b[0m line \u001b[0;36m1\n\u001b[0;32m----> <a href='vscode-notebook-cell://ssh-remote%2Bkroos.eecs.umich.edu/home/ducbui/local_projects/consent/consent_project/src/consent/consistency/main_analysis/consistency_notebook/2023_11/uk_consistency.ipynb#X34sdnNjb2RlLXJlbW90ZQ%3D%3D?line=0'>1</a>\u001b[0m \u001b[39massert\u001b[39;00m \u001b[39mset\u001b[39m(detected_contra_sites) \u001b[39m==\u001b[39m \u001b[39mset\u001b[39m(contra_sites\u001b[39m.\u001b[39msite), \u001b[39m\"\u001b[39m\u001b[39mthis is the same method with above, so the result\u001b[39m\u001b[39m\"\u001b[39m\n",
      "\u001b[0;31mAssertionError\u001b[0m: this is the same method with above, so the result"
     ]
    }
   ],
   "source": [
    "assert set(detected_contra_sites) == set(contra_sites.site), \"this is the same method with above, so the result\""
   ]
  },
  {
   "cell_type": "code",
   "execution_count": null,
   "metadata": {},
   "outputs": [
    {
     "data": {
      "text/plain": [
       "{'247sports.com',\n",
       " 'abbvie.com',\n",
       " 'acquia.com',\n",
       " 'adobe.io',\n",
       " 'adweek.com',\n",
       " 'aljazeera.com',\n",
       " 'allaboutvision.com',\n",
       " 'allegiantair.com',\n",
       " 'allergan.com',\n",
       " 'alteryx.com',\n",
       " 'americanbar.org',\n",
       " 'aon.com',\n",
       " 'ariel.co.uk',\n",
       " 'asos.com',\n",
       " 'autosport.com',\n",
       " 'avalara.com',\n",
       " 'avast.com',\n",
       " 'avastbrowser.com',\n",
       " 'barnesandnoble.com',\n",
       " 'bazaarvoice.com',\n",
       " 'bbva.com',\n",
       " 'bd.com',\n",
       " 'behance.net',\n",
       " 'belkin.com',\n",
       " 'betsson.com',\n",
       " 'bitdefender.com',\n",
       " 'bitdefender.net',\n",
       " 'bkstr.com',\n",
       " 'blackboard.com',\n",
       " 'bplans.com',\n",
       " 'brightside.me',\n",
       " 'bromium-online.com',\n",
       " 'callofduty.com',\n",
       " 'cambridge.org',\n",
       " 'carbonite.com',\n",
       " 'cheapoair.com',\n",
       " 'chrysler.com',\n",
       " 'cisco.com',\n",
       " 'citationmachine.net',\n",
       " 'clickmeeting.com',\n",
       " 'clicktale.net',\n",
       " 'cloudbees.com',\n",
       " 'cnet.com',\n",
       " 'colt.net',\n",
       " 'commonsensemedia.org',\n",
       " 'contentsquare.com',\n",
       " 'conviva.com',\n",
       " 'creighton.edu',\n",
       " 'curalate.com',\n",
       " 'dc.com',\n",
       " 'dccomics.com',\n",
       " 'discogs.com',\n",
       " 'dynamicyield.com',\n",
       " 'easybib.com',\n",
       " 'eidos.com',\n",
       " 'elderscrollsonline.com',\n",
       " 'evri.com',\n",
       " 'ew.com',\n",
       " 'fabfitfun.com',\n",
       " 'fotolia.com',\n",
       " 'fourseasons.com',\n",
       " 'frontlineeducation.com',\n",
       " 'geappliances.com',\n",
       " 'geforce.com',\n",
       " 'genial.ly',\n",
       " 'getdbt.com',\n",
       " 'glip.com',\n",
       " 'gmu.edu',\n",
       " 'gopro.com',\n",
       " 'grainger.com',\n",
       " 'halfords.com',\n",
       " 'hallmark.com',\n",
       " 'hightail.com',\n",
       " 'hm.com',\n",
       " 'howstuffworks.com',\n",
       " 'hp.com',\n",
       " 'illumina.com',\n",
       " 'instyle.com',\n",
       " 'ipl.org',\n",
       " 'irishcentral.com',\n",
       " 'ironman.com',\n",
       " 'janes.com',\n",
       " 'jbl.com',\n",
       " 'jeep.com',\n",
       " 'jobvite.com',\n",
       " 'kew.org',\n",
       " 'lastline.com',\n",
       " 'launchdarkly.com',\n",
       " 'levi.com',\n",
       " 'liverpoolfc.com',\n",
       " 'logi.com',\n",
       " 'logitech.com',\n",
       " 'logitechg.com',\n",
       " 'mastercard.com',\n",
       " 'mastercard.us',\n",
       " 'mcgraw-hill.com',\n",
       " 'mckesson.com',\n",
       " 'meraki.com',\n",
       " 'mheducation.com',\n",
       " 'michaels.com',\n",
       " 'mlb.com',\n",
       " 'mongodb.com',\n",
       " 'mongodb.org',\n",
       " 'morningconsult.com',\n",
       " 'morrisons.com',\n",
       " 'motorsport.com',\n",
       " 'mtv.com',\n",
       " 'myportfolio.com',\n",
       " 'name.com',\n",
       " 'nba.com',\n",
       " 'ncaa.com',\n",
       " 'newsday.com',\n",
       " 'newsweaver.com',\n",
       " 'next.co.uk',\n",
       " 'nhl.com',\n",
       " 'ni.com',\n",
       " 'nspcc.org.uk',\n",
       " 'nvidia.com',\n",
       " 'ocado.com',\n",
       " 'omnitracs.com',\n",
       " 'onlyinyourstate.com',\n",
       " 'paradox.ai',\n",
       " 'parents.com',\n",
       " 'paypay.ne.jp',\n",
       " 'pcapredict.com',\n",
       " 'people.com',\n",
       " 'pge.com',\n",
       " 'phoenix.edu',\n",
       " 'pinknews.co.uk',\n",
       " 'politico.com',\n",
       " 'principal.com',\n",
       " 'prweb.com',\n",
       " 'rd.com',\n",
       " 'realsimple.com',\n",
       " 'ringcentral.com',\n",
       " 'rollout.io',\n",
       " 'royalacademy.org.uk',\n",
       " 'salliemae.com',\n",
       " 'samaritans.org',\n",
       " 'sanofi-synthelabo.com',\n",
       " 'sanofi.com',\n",
       " 'santander.co.uk',\n",
       " 'sciam.com',\n",
       " 'scientificamerican.com',\n",
       " 'senderscore.com',\n",
       " 'seon.io',\n",
       " 'sho.com',\n",
       " 'shuttercloud.org',\n",
       " 'shutterstock.com',\n",
       " 'signifyd.com',\n",
       " 'solvvy.com',\n",
       " 'sonos.com',\n",
       " 'sony.co.uk',\n",
       " 'sourcefire.com',\n",
       " 'sparknotes.com',\n",
       " 'square-enix-games.com',\n",
       " 'statista.com',\n",
       " 'suse.com',\n",
       " 'tasteofhome.com',\n",
       " 'telerik.com',\n",
       " 'thedailybeast.com',\n",
       " 'thedodo.com',\n",
       " 'thomsonreuters.com',\n",
       " 'thomsonreuters.net',\n",
       " 'travelandleisure.com',\n",
       " 'treasuredata.com',\n",
       " 'tripadvisor.in',\n",
       " 'typeform.com',\n",
       " 'typekit.com',\n",
       " 'uipath.com',\n",
       " 'ulta.com',\n",
       " 'umbrella.com',\n",
       " 'universe.com',\n",
       " 'urbanairship.com',\n",
       " 'vfsglobal.com',\n",
       " 'viber.com',\n",
       " 'visma.com',\n",
       " 'vmware.com',\n",
       " 'vmwareidentity.com',\n",
       " 'webmd.com',\n",
       " 'wfmz.com',\n",
       " 'whirlpool.com',\n",
       " 'workspaceoneaccess.com',\n",
       " 'worldoftanks.com',\n",
       " 'wwf.org.uk',\n",
       " 'yousendit.com',\n",
       " 'zdnet.com',\n",
       " 'zebra.com',\n",
       " 'zeiss.com',\n",
       " 'zennioptical.com',\n",
       " 'zoom.com',\n",
       " 'zoom.us'}"
      ]
     },
     "execution_count": 26,
     "metadata": {},
     "output_type": "execute_result"
    }
   ],
   "source": [
    "set(detected_contra_sites) - set(contra_sites.site)\n",
    "set(contra_sites.site) - set(detected_contra_sites)\n",
    "# This may be the sites excluded due to testing cookies in the preferences."
   ]
  },
  {
   "cell_type": "code",
   "execution_count": null,
   "metadata": {},
   "outputs": [],
   "source": [
    "# Way 2: compute contra sites by DataFrame group by\n",
    "contra_cookies_dfs = []\n",
    "for _, same_cookies in cookie_prefs.groupby(['name', 'domain', 'site']):\n",
    "    consent_modes = same_cookies.consent_mode.unique()\n",
    "    if len(consent_modes) >= 2 and same_cookies.category.nunique() > 1: # and 'always active' in consent_modes:\n",
    "        contra_cookies_dfs.append(same_cookies)\n",
    "contra_cookies = pd.concat(contra_cookies_dfs).drop_duplicates()"
   ]
  },
  {
   "cell_type": "code",
   "execution_count": null,
   "metadata": {},
   "outputs": [
    {
     "name": "stdout",
     "output_type": "stream",
     "text": [
      "Number sites with contra cookies: 184\n"
     ]
    }
   ],
   "source": [
    "print(\"Number sites with contra cookies:\", contra_cookies.site.nunique())"
   ]
  },
  {
   "cell_type": "code",
   "execution_count": null,
   "metadata": {},
   "outputs": [],
   "source": [
    "# set(contra_cookies.site) - set(contra_sites.site)"
   ]
  },
  {
   "cell_type": "code",
   "execution_count": null,
   "metadata": {},
   "outputs": [
    {
     "name": "stdout",
     "output_type": "stream",
     "text": [
      "Num contra cookie settings (double categories): 648 settings  on 184 sites\n",
      "Contras with 1 always-active: 192\n",
      "Contras with both editable: 0\n"
     ]
    }
   ],
   "source": [
    "print(\"Num contra cookie settings (double categories):\", len(contra_cookies), f\"settings  on {contra_cookies.site.nunique()} sites\")\n",
    "print(\"Contras with 1 always-active:\", contra_sites.site.nunique())\n",
    "print(\"Contras with both editable:\", len(set(contra_cookies.site) - set(contra_sites.site)))"
   ]
  },
  {
   "cell_type": "code",
   "execution_count": null,
   "metadata": {},
   "outputs": [],
   "source": []
  },
  {
   "cell_type": "code",
   "execution_count": null,
   "metadata": {},
   "outputs": [
    {
     "data": {
      "text/html": [
       "<div>\n",
       "<style scoped>\n",
       "    .dataframe tbody tr th:only-of-type {\n",
       "        vertical-align: middle;\n",
       "    }\n",
       "\n",
       "    .dataframe tbody tr th {\n",
       "        vertical-align: top;\n",
       "    }\n",
       "\n",
       "    .dataframe thead th {\n",
       "        text-align: right;\n",
       "    }\n",
       "</style>\n",
       "<table border=\"1\" class=\"dataframe\">\n",
       "  <thead>\n",
       "    <tr style=\"text-align: right;\">\n",
       "      <th></th>\n",
       "      <th>name</th>\n",
       "      <th>domain</th>\n",
       "      <th>duration</th>\n",
       "      <th>category_id</th>\n",
       "      <th>category</th>\n",
       "      <th>consent_mode</th>\n",
       "      <th>site</th>\n",
       "      <th>lib_name</th>\n",
       "      <th>pattern_name</th>\n",
       "      <th>consent</th>\n",
       "    </tr>\n",
       "  </thead>\n",
       "  <tbody>\n",
       "  </tbody>\n",
       "</table>\n",
       "</div>"
      ],
      "text/plain": [
       "Empty DataFrame\n",
       "Columns: [name, domain, duration, category_id, category, consent_mode, site, lib_name, pattern_name, consent]\n",
       "Index: []"
      ]
     },
     "execution_count": 31,
     "metadata": {},
     "output_type": "execute_result"
    }
   ],
   "source": [
    "contra_cookies[contra_cookies.site == 'elsevier.nl']"
   ]
  },
  {
   "cell_type": "code",
   "execution_count": null,
   "metadata": {},
   "outputs": [],
   "source": [
    "# assert len(detected_contra_sites) <= contra_sites.site.nunique() < len(detected_contra_sites) + 2"
   ]
  },
  {
   "cell_type": "code",
   "execution_count": null,
   "metadata": {},
   "outputs": [
    {
     "data": {
      "text/html": [
       "<div>\n",
       "<style scoped>\n",
       "    .dataframe tbody tr th:only-of-type {\n",
       "        vertical-align: middle;\n",
       "    }\n",
       "\n",
       "    .dataframe tbody tr th {\n",
       "        vertical-align: top;\n",
       "    }\n",
       "\n",
       "    .dataframe thead th {\n",
       "        text-align: right;\n",
       "    }\n",
       "</style>\n",
       "<table border=\"1\" class=\"dataframe\">\n",
       "  <thead>\n",
       "    <tr style=\"text-align: right;\">\n",
       "      <th></th>\n",
       "      <th>name</th>\n",
       "      <th>domain</th>\n",
       "      <th>site</th>\n",
       "      <th>comply</th>\n",
       "    </tr>\n",
       "  </thead>\n",
       "  <tbody>\n",
       "    <tr>\n",
       "      <th>173</th>\n",
       "      <td>TS013559a7</td>\n",
       "      <td>www.mastercard.us</td>\n",
       "      <td>mastercard.com</td>\n",
       "      <td>ambiguous</td>\n",
       "    </tr>\n",
       "    <tr>\n",
       "      <th>1236</th>\n",
       "      <td>_qubitTracker</td>\n",
       "      <td>.www.very.co.uk</td>\n",
       "      <td>very.co.uk</td>\n",
       "      <td>ambiguous</td>\n",
       "    </tr>\n",
       "    <tr>\n",
       "      <th>2365</th>\n",
       "      <td>G_ENABLED_IDPS</td>\n",
       "      <td>.www.glassdoor.com</td>\n",
       "      <td>glassdoor.com</td>\n",
       "      <td>ambiguous</td>\n",
       "    </tr>\n",
       "    <tr>\n",
       "      <th>2372</th>\n",
       "      <td>trs</td>\n",
       "      <td>www.glassdoor.com</td>\n",
       "      <td>glassdoor.com</td>\n",
       "      <td>ambiguous</td>\n",
       "    </tr>\n",
       "    <tr>\n",
       "      <th>2375</th>\n",
       "      <td>_gid</td>\n",
       "      <td>.glassdoor.com</td>\n",
       "      <td>glassdoor.com</td>\n",
       "      <td>ambiguous</td>\n",
       "    </tr>\n",
       "    <tr>\n",
       "      <th>...</th>\n",
       "      <td>...</td>\n",
       "      <td>...</td>\n",
       "      <td>...</td>\n",
       "      <td>...</td>\n",
       "    </tr>\n",
       "    <tr>\n",
       "      <th>59468</th>\n",
       "      <td>ak_bmsc</td>\n",
       "      <td>.mulesoft.com</td>\n",
       "      <td>mulesoft.com</td>\n",
       "      <td>ambiguous</td>\n",
       "    </tr>\n",
       "    <tr>\n",
       "      <th>59481</th>\n",
       "      <td>JSESSIONID</td>\n",
       "      <td>training.mulesoft.com</td>\n",
       "      <td>mulesoft.com</td>\n",
       "      <td>ambiguous</td>\n",
       "    </tr>\n",
       "    <tr>\n",
       "      <th>60397</th>\n",
       "      <td>TLTSID</td>\n",
       "      <td>.bkstr.com</td>\n",
       "      <td>bkstr.com</td>\n",
       "      <td>ambiguous</td>\n",
       "    </tr>\n",
       "    <tr>\n",
       "      <th>60412</th>\n",
       "      <td>dtSa</td>\n",
       "      <td>.bkstr.com</td>\n",
       "      <td>bkstr.com</td>\n",
       "      <td>ambiguous</td>\n",
       "    </tr>\n",
       "    <tr>\n",
       "      <th>60622</th>\n",
       "      <td>shortHash</td>\n",
       "      <td>.square-enix-games.com</td>\n",
       "      <td>square-enix-games.com</td>\n",
       "      <td>ambiguous</td>\n",
       "    </tr>\n",
       "  </tbody>\n",
       "</table>\n",
       "<p>116 rows × 4 columns</p>\n",
       "</div>"
      ],
      "text/plain": [
       "                 name                  domain                   site  \\\n",
       "173        TS013559a7       www.mastercard.us         mastercard.com   \n",
       "1236    _qubitTracker         .www.very.co.uk             very.co.uk   \n",
       "2365   G_ENABLED_IDPS      .www.glassdoor.com          glassdoor.com   \n",
       "2372              trs       www.glassdoor.com          glassdoor.com   \n",
       "2375             _gid          .glassdoor.com          glassdoor.com   \n",
       "...               ...                     ...                    ...   \n",
       "59468         ak_bmsc           .mulesoft.com           mulesoft.com   \n",
       "59481      JSESSIONID   training.mulesoft.com           mulesoft.com   \n",
       "60397          TLTSID              .bkstr.com              bkstr.com   \n",
       "60412            dtSa              .bkstr.com              bkstr.com   \n",
       "60622       shortHash  .square-enix-games.com  square-enix-games.com   \n",
       "\n",
       "          comply  \n",
       "173    ambiguous  \n",
       "1236   ambiguous  \n",
       "2365   ambiguous  \n",
       "2372   ambiguous  \n",
       "2375   ambiguous  \n",
       "...          ...  \n",
       "59468  ambiguous  \n",
       "59481  ambiguous  \n",
       "60397  ambiguous  \n",
       "60412  ambiguous  \n",
       "60622  ambiguous  \n",
       "\n",
       "[116 rows x 4 columns]"
      ]
     },
     "execution_count": 33,
     "metadata": {},
     "output_type": "execute_result"
    }
   ],
   "source": [
    "complies[complies.comply == 'ambiguous']"
   ]
  },
  {
   "cell_type": "code",
   "execution_count": null,
   "metadata": {},
   "outputs": [
    {
     "data": {
      "text/html": [
       "<div>\n",
       "<style scoped>\n",
       "    .dataframe tbody tr th:only-of-type {\n",
       "        vertical-align: middle;\n",
       "    }\n",
       "\n",
       "    .dataframe tbody tr th {\n",
       "        vertical-align: top;\n",
       "    }\n",
       "\n",
       "    .dataframe thead th {\n",
       "        text-align: right;\n",
       "    }\n",
       "</style>\n",
       "<table border=\"1\" class=\"dataframe\">\n",
       "  <thead>\n",
       "    <tr style=\"text-align: right;\">\n",
       "      <th></th>\n",
       "      <th>name</th>\n",
       "      <th>domain</th>\n",
       "      <th>duration</th>\n",
       "      <th>category_id</th>\n",
       "      <th>category</th>\n",
       "      <th>consent_mode</th>\n",
       "      <th>site</th>\n",
       "      <th>lib_name</th>\n",
       "      <th>pattern_name</th>\n",
       "      <th>consent</th>\n",
       "    </tr>\n",
       "  </thead>\n",
       "  <tbody>\n",
       "    <tr>\n",
       "      <th>88</th>\n",
       "      <td>utag_main</td>\n",
       "      <td>.michaels.com</td>\n",
       "      <td>365 days</td>\n",
       "      <td>C0001</td>\n",
       "      <td>Strictly Necessary Cookies</td>\n",
       "      <td>always active</td>\n",
       "      <td>michaels.com</td>\n",
       "      <td>onetrust</td>\n",
       "      <td>en.json</td>\n",
       "      <td>True</td>\n",
       "    </tr>\n",
       "    <tr>\n",
       "      <th>148</th>\n",
       "      <td>utag_main</td>\n",
       "      <td>michaels.com</td>\n",
       "      <td>365 days</td>\n",
       "      <td>C0002</td>\n",
       "      <td>Performance Cookies</td>\n",
       "      <td>active</td>\n",
       "      <td>michaels.com</td>\n",
       "      <td>onetrust</td>\n",
       "      <td>en.json</td>\n",
       "      <td>False</td>\n",
       "    </tr>\n",
       "  </tbody>\n",
       "</table>\n",
       "</div>"
      ],
      "text/plain": [
       "          name         domain  duration category_id  \\\n",
       "88   utag_main  .michaels.com  365 days       C0001   \n",
       "148  utag_main   michaels.com  365 days       C0002   \n",
       "\n",
       "                       category   consent_mode          site  lib_name  \\\n",
       "88   Strictly Necessary Cookies  always active  michaels.com  onetrust   \n",
       "148         Performance Cookies         active  michaels.com  onetrust   \n",
       "\n",
       "    pattern_name consent  \n",
       "88       en.json    True  \n",
       "148      en.json   False  "
      ]
     },
     "execution_count": 34,
     "metadata": {},
     "output_type": "execute_result"
    }
   ],
   "source": [
    "cookie_prefs[ (cookie_prefs.site == 'michaels.com') & (cookie_prefs.name == 'utag_main') ]"
   ]
  },
  {
   "cell_type": "code",
   "execution_count": null,
   "metadata": {},
   "outputs": [
    {
     "data": {
      "text/html": [
       "<div>\n",
       "<style scoped>\n",
       "    .dataframe tbody tr th:only-of-type {\n",
       "        vertical-align: middle;\n",
       "    }\n",
       "\n",
       "    .dataframe tbody tr th {\n",
       "        vertical-align: top;\n",
       "    }\n",
       "\n",
       "    .dataframe thead th {\n",
       "        text-align: right;\n",
       "    }\n",
       "</style>\n",
       "<table border=\"1\" class=\"dataframe\">\n",
       "  <thead>\n",
       "    <tr style=\"text-align: right;\">\n",
       "      <th></th>\n",
       "      <th>name</th>\n",
       "      <th>domain</th>\n",
       "      <th>duration</th>\n",
       "      <th>category_id</th>\n",
       "      <th>category</th>\n",
       "      <th>consent_mode</th>\n",
       "      <th>site</th>\n",
       "      <th>lib_name</th>\n",
       "      <th>pattern_name</th>\n",
       "      <th>consent</th>\n",
       "    </tr>\n",
       "  </thead>\n",
       "  <tbody>\n",
       "    <tr>\n",
       "      <th>74</th>\n",
       "      <td>id</td>\n",
       "      <td>m6r.eu</td>\n",
       "      <td>90 days</td>\n",
       "      <td>C0001</td>\n",
       "      <td>Necessary Cookies</td>\n",
       "      <td>always active</td>\n",
       "      <td>statista.com</td>\n",
       "      <td>onetrust</td>\n",
       "      <td>en.json</td>\n",
       "      <td>True</td>\n",
       "    </tr>\n",
       "    <tr>\n",
       "      <th>131</th>\n",
       "      <td>id</td>\n",
       "      <td>m6r.eu</td>\n",
       "      <td>0 days</td>\n",
       "      <td>C0004</td>\n",
       "      <td>Targeting Cookies</td>\n",
       "      <td>inactive</td>\n",
       "      <td>statista.com</td>\n",
       "      <td>onetrust</td>\n",
       "      <td>en.json</td>\n",
       "      <td>False</td>\n",
       "    </tr>\n",
       "  </tbody>\n",
       "</table>\n",
       "</div>"
      ],
      "text/plain": [
       "    name  domain duration category_id           category   consent_mode  \\\n",
       "74    id  m6r.eu  90 days       C0001  Necessary Cookies  always active   \n",
       "131   id  m6r.eu   0 days       C0004  Targeting Cookies       inactive   \n",
       "\n",
       "             site  lib_name pattern_name consent  \n",
       "74   statista.com  onetrust      en.json    True  \n",
       "131  statista.com  onetrust      en.json   False  "
      ]
     },
     "execution_count": 35,
     "metadata": {},
     "output_type": "execute_result"
    }
   ],
   "source": [
    "cookie_prefs[ (cookie_prefs.site == 'statista.com') & (cookie_prefs.name == 'id') ]"
   ]
  },
  {
   "cell_type": "code",
   "execution_count": null,
   "metadata": {},
   "outputs": [],
   "source": [
    "# contra_cookies.name.value_counts()[:10]\n",
    "# contra_cookies[contra_cookies.name == '__cf_bm'].reset_index(drop=True) # .site.nunique()"
   ]
  },
  {
   "cell_type": "markdown",
   "metadata": {},
   "source": [
    "# Analyze ambiguous flows"
   ]
  },
  {
   "cell_type": "code",
   "execution_count": null,
   "metadata": {},
   "outputs": [],
   "source": [
    "ambi_cookies = complies[complies.comply == 'ambiguous']\n",
    "print(\"Num ambiguous cookies:\", len(ambi_cookies), \"on num sites:\", ambi_cookies.site.nunique())\n",
    "assert len(ambi_cookies) == len(ambi_cookies.drop_duplicates()), \"there is some duplicate cookies\"\n"
   ]
  },
  {
   "cell_type": "markdown",
   "metadata": {},
   "source": [
    "## Analyze no-way-to-opt-out"
   ]
  },
  {
   "cell_type": "code",
   "execution_count": null,
   "metadata": {},
   "outputs": [],
   "source": [
    "# Way 1: compute contra sites by DataFrame group by\n",
    "nwtoo_cookies_dfs = []\n",
    "for _, site_cookies in cookie_prefs.groupby(['site']):\n",
    "    consent_modes = site_cookies.consent_mode.unique().tolist()\n",
    "    if len(consent_modes) == 1 and consent_modes[0] == 'always active':\n",
    "        nwtoo_cookies_dfs.append(site_cookies)\n",
    "nwtoo_cookies = pd.concat(nwtoo_cookies_dfs).drop_duplicates()\n",
    "nwtoo_cookies.head()"
   ]
  },
  {
   "cell_type": "code",
   "execution_count": null,
   "metadata": {},
   "outputs": [],
   "source": [
    "nwtoo_cookies.site.nunique()"
   ]
  },
  {
   "cell_type": "markdown",
   "metadata": {},
   "source": [
    "# Analyze inconsistent flows/cookies"
   ]
  },
  {
   "cell_type": "code",
   "execution_count": null,
   "metadata": {},
   "outputs": [],
   "source": [
    "def plot_inconsis_types():\n",
    "    sns.set(rc={'figure.figsize':(9,9),\"font.size\":30,\"axes.titlesize\":30,\"axes.labelsize\":30},style=\"white\", font_scale = 2.5)\n",
    "\n",
    "    ax = sns.barplot(x='comply_type', y='num_sites_percent', data=noncomply_sites)\n",
    "    ax.tick_params(left=True, bottom=True, direction=\"in\")\n",
    "    ax.set_ylabel('# Websites (%)')\n",
    "    ax.set_xlabel('Noncompliance Types')\n",
    "    xticks = [x.get_text().title() for x in ax.get_xticklabels()]\n",
    "    ax.set(xticklabels=xticks)\n",
    "\n",
    "    out_file = FIG_DIR / 'noncomply_types_per_site.png'\n",
    "    # plt.savefig(out_file, dpi=200, bbox_inches='tight'); print(f\"Written to {out_file}\")"
   ]
  },
  {
   "cell_type": "code",
   "execution_count": null,
   "metadata": {},
   "outputs": [],
   "source": [
    "## Plot distribution of omitted cookie declarations"
   ]
  },
  {
   "cell_type": "code",
   "execution_count": null,
   "metadata": {},
   "outputs": [],
   "source": [
    "omit_complies = complies[(complies.comply == 'omit')] #  & ~complies.name.isin(['OptanonAlertBoxClosed', 'OptanonConsent']) ]\n",
    "omit_complies.site.nunique()"
   ]
  },
  {
   "cell_type": "code",
   "execution_count": null,
   "metadata": {},
   "outputs": [],
   "source": [
    "omit_complies.site.value_counts()[:7]"
   ]
  },
  {
   "cell_type": "code",
   "execution_count": null,
   "metadata": {},
   "outputs": [],
   "source": [
    "omit_cookies = omit_complies.name.value_counts()[:5].to_frame().reset_index().rename(columns={'index': 'cookie_name'})\n",
    "omit_cookies['num_sites'] = omit_cookies['cookie_name'].map(lambda cookie_name: omit_complies[omit_complies.name == cookie_name].site.nunique())\n",
    "print(omit_cookies.head(5)[['cookie_name', 'num_sites']].rename(columns={'cookie_name': 'Cookie Name', 'num_sites': '# Websites'}).to_latex(index=False))"
   ]
  },
  {
   "cell_type": "code",
   "execution_count": null,
   "metadata": {},
   "outputs": [],
   "source": [
    "# set(cookielist_sites) - set(omit_complies.site.unique())\n",
    "omit_counts = omit_complies.site.value_counts().to_frame().rename(columns={'site': 'num_omit_cookies'})\n",
    "print(\"Num omitted sites:\", omit_complies.site.nunique())\n",
    "omit_counts.num_omit_cookies.mean(), omit_counts.num_omit_cookies.std(), omit_counts.num_omit_cookies.min(), omit_counts.num_omit_cookies.max()"
   ]
  },
  {
   "cell_type": "code",
   "execution_count": null,
   "metadata": {},
   "outputs": [],
   "source": [
    "sns.set(rc={'figure.figsize':(12,8),\"font.size\":35,\"axes.titlesize\":30,\"axes.labelsize\":50},style=\"white\", font_scale = 4.5)\n",
    "sns.set_style(\"ticks\", {\"xtick.direction\": \"in\", \"ytick.direction\": \"in\"})\n",
    "plt.rcParams['xtick.major.size'] = 15\n",
    "plt.rcParams['ytick.major.size'] = 15\n",
    "\n",
    "ax = sns.ecdfplot(data=omit_counts, x=omit_counts.num_omit_cookies, linewidth=8)\n",
    "ax.set(xlim=(0, 350))\n",
    "\n",
    "plt.xlabel('# Omitted Cookies/Website')\n",
    "plt.ylabel('CDF')\n",
    "# out_file = FIG_DIR / 'eu_omit_cookie_cdf.png'\n",
    "# plt.savefig(out_file, dpi=200, bbox_inches='tight'); print(f\"Written to {out_file}\")"
   ]
  },
  {
   "cell_type": "code",
   "execution_count": null,
   "metadata": {},
   "outputs": [],
   "source": [
    "plot_df = omit_counts[:50]\n",
    "\n",
    "sns.set(rc={'figure.figsize':(24,8),\"font.size\":35,\"axes.titlesize\":35,\"axes.labelsize\":25},style=\"white\", font_scale=1.5)\n",
    "ax = sns.barplot(x=plot_df.index, y=plot_df.num_omit_cookies)\n",
    "ticks = plt.xticks(rotation=45, ha='right')\n",
    "\n",
    "ax.tick_params(left=True, bottom=False, direction=\"in\")\n",
    "ax.set_ylabel('# Omitted Cookies')\n",
    "ax.set_xlabel('Website')\n",
    "\n",
    "# out_file = FIG_DIR / 'omit_site.png'\n",
    "# plt.savefig(out_file, dpi=200, bbox_inches='tight'); print(f\"Written to {out_file}\")"
   ]
  },
  {
   "cell_type": "code",
   "execution_count": null,
   "metadata": {},
   "outputs": [],
   "source": [
    "def plot_histogram_omit():\n",
    "    sns.set(rc={'figure.figsize':(9,6),\"font.size\":25,\"axes.titlesize\":25,\"axes.labelsize\":15},style=\"white\", font_scale = 1)\n",
    "    omit_counts_histo = omit_complies.site.value_counts().value_counts()\n",
    "    sns.barplot(x=omit_counts_histo.index, y=omit_counts_histo.values)\n",
    "    ticks = plt.xticks(rotation=45, ha='right')"
   ]
  },
  {
   "cell_type": "markdown",
   "metadata": {},
   "source": [
    "## Plot distribution of incorrectly enforced cookies"
   ]
  },
  {
   "cell_type": "code",
   "execution_count": null,
   "metadata": {},
   "outputs": [],
   "source": [
    "incor_complies = complies[complies.comply == 'incorrect']\n",
    "# set(cookielist_sites) - set(omit_complies.site.unique())\n",
    "incor_counts = incor_complies.site.value_counts().iloc[:50]\n",
    "incor_counts = incor_counts.to_frame().reset_index().sort_values(by=['site', 'index'], ascending=[False, True])\n",
    "incor_counts.columns"
   ]
  },
  {
   "cell_type": "code",
   "execution_count": null,
   "metadata": {},
   "outputs": [],
   "source": [
    "sns.set(rc={'figure.figsize':(24,8),\"font.size\":35,\"axes.titlesize\":35,\"axes.labelsize\":25},style=\"white\", font_scale=1.5)\n",
    "ax = sns.barplot(x='index', y='site', data=incor_counts)\n",
    "\n",
    "ticks = plt.xticks(rotation=45, ha='right')\n",
    "\n",
    "ax.tick_params(left=True, bottom=True, direction=\"in\")\n",
    "ax.set_ylabel('# Incorrectly Enforced Cookies')\n",
    "ax.set_xlabel('Website')\n",
    "\n",
    "# out_file = FIG_DIR / 'incor_site.png'\n",
    "# plt.savefig(out_file, dpi=200, bbox_inches='tight'); print(f\"Written to {out_file}\")"
   ]
  },
  {
   "cell_type": "code",
   "execution_count": null,
   "metadata": {},
   "outputs": [],
   "source": [
    "# len(incor_counts)"
   ]
  },
  {
   "cell_type": "code",
   "execution_count": null,
   "metadata": {},
   "outputs": [],
   "source": [
    "incor_counts[incor_counts.site == 33].reset_index(drop=True)"
   ]
  },
  {
   "cell_type": "markdown",
   "metadata": {},
   "source": [
    "### Top incorrect cookies"
   ]
  },
  {
   "cell_type": "code",
   "execution_count": null,
   "metadata": {},
   "outputs": [],
   "source": [
    "incor_cookies = complies[complies.comply == 'incorrect']"
   ]
  },
  {
   "cell_type": "code",
   "execution_count": null,
   "metadata": {},
   "outputs": [],
   "source": [
    "# site = 'onetrust.com'\n",
    "# complies[complies.site == site].reset_index(drop=True)\n",
    "# cookie_prefs[(cookie_prefs.site == site) & (cookie_prefs.name == '_gid')]"
   ]
  },
  {
   "cell_type": "code",
   "execution_count": null,
   "metadata": {},
   "outputs": [],
   "source": [
    "top_incor_cookies = incor_cookies.name.value_counts().sort_values(ascending=False).to_frame().reset_index().rename(columns={'index':'cookie_name', 'name': 'num_occur'})"
   ]
  },
  {
   "cell_type": "code",
   "execution_count": null,
   "metadata": {},
   "outputs": [],
   "source": [
    "top_incor_cookies['num_sites'] = top_incor_cookies.cookie_name.map(lambda cookie_name: incor_cookies[incor_cookies.name == cookie_name].site.nunique())"
   ]
  },
  {
   "cell_type": "code",
   "execution_count": null,
   "metadata": {},
   "outputs": [],
   "source": [
    "print(top_incor_cookies.head(5)[['cookie_name', 'num_sites']].rename(columns={'cookie_name': 'Cookie Name', 'num_sites': '# Websites'}).to_latex(index=False))"
   ]
  },
  {
   "cell_type": "markdown",
   "metadata": {},
   "source": [
    "# Narrow cookie consent preferences"
   ]
  },
  {
   "cell_type": "code",
   "execution_count": null,
   "metadata": {},
   "outputs": [],
   "source": [
    "consent_cookies = sent_cookies[sent_cookies.name.isin(['OptanonConsent', 'CookieConsent'])][['domain', 'name', 'site']].drop_duplicates()\n",
    "narrow_consent_cookies = consent_cookies[~consent_cookies.domain.str.startswith('.')].reset_index(drop=True)"
   ]
  },
  {
   "cell_type": "code",
   "execution_count": null,
   "metadata": {},
   "outputs": [],
   "source": [
    "set(contra_cookies.site).intersection(set(narrow_consent_cookies.site))"
   ]
  },
  {
   "cell_type": "code",
   "execution_count": null,
   "metadata": {},
   "outputs": [],
   "source": [
    "narrow_consent_cookies"
   ]
  },
  {
   "cell_type": "markdown",
   "metadata": {},
   "source": [
    "# Case studies"
   ]
  },
  {
   "cell_type": "code",
   "execution_count": null,
   "metadata": {},
   "outputs": [],
   "source": [
    "incor_df = complies[complies.comply == 'incorrect']\n",
    "incor_df.site.value_counts().sort_values(ascending=False).head()"
   ]
  },
  {
   "cell_type": "code",
   "execution_count": null,
   "metadata": {},
   "outputs": [],
   "source": [
    "case_site = 'blabbermouth.net'\n",
    "incor_df[incor_df.site == case_site]"
   ]
  },
  {
   "cell_type": "code",
   "execution_count": null,
   "metadata": {},
   "outputs": [],
   "source": [
    "# cookie_prefs[(cookie_prefs.site == 'scientificamerican.com') & (cookie_prefs.name == 'MXP_TRACKINGID')]\n",
    "cookie_prefs[(cookie_prefs.site == case_site) & (cookie_prefs.name == 'IDE')]"
   ]
  },
  {
   "cell_type": "code",
   "execution_count": null,
   "metadata": {},
   "outputs": [],
   "source": [
    "# sent_cookies[(sent_cookies.site == 'scientificamerican.com') & (sent_cookies.name == 'MXP_TRACKINGID')]"
   ]
  },
  {
   "cell_type": "code",
   "execution_count": null,
   "metadata": {},
   "outputs": [],
   "source": [
    "omit_df = complies[complies.comply == 'omit']\n",
    "omit_df.site.value_counts().sort_values(ascending=False).iloc[20:30]"
   ]
  },
  {
   "cell_type": "code",
   "execution_count": null,
   "metadata": {},
   "outputs": [],
   "source": [
    "print(omit_df[omit_df.site == 'scientificamerican.com'].reset_index().name.tolist())"
   ]
  },
  {
   "cell_type": "code",
   "execution_count": null,
   "metadata": {},
   "outputs": [],
   "source": [
    "'uids' in omit_df[omit_df.site == 'scientificamerican.com'].reset_index().name.tolist()"
   ]
  },
  {
   "cell_type": "code",
   "execution_count": null,
   "metadata": {},
   "outputs": [],
   "source": [
    "omit_df[(omit_df.site == 'scientificamerican.com') & (omit_df.name == 'cftoken')]"
   ]
  },
  {
   "cell_type": "code",
   "execution_count": null,
   "metadata": {},
   "outputs": [],
   "source": [
    "cookie_prefs[(cookie_prefs.site == 'scientificamerican.com') & (cookie_prefs.name == 'ADGRX_UID')]"
   ]
  },
  {
   "cell_type": "code",
   "execution_count": null,
   "metadata": {},
   "outputs": [],
   "source": []
  },
  {
   "cell_type": "code",
   "execution_count": null,
   "metadata": {},
   "outputs": [],
   "source": []
  },
  {
   "cell_type": "code",
   "execution_count": null,
   "metadata": {},
   "outputs": [],
   "source": []
  },
  {
   "cell_type": "code",
   "execution_count": null,
   "metadata": {},
   "outputs": [],
   "source": []
  },
  {
   "cell_type": "code",
   "execution_count": null,
   "metadata": {},
   "outputs": [],
   "source": []
  },
  {
   "cell_type": "code",
   "execution_count": null,
   "metadata": {},
   "outputs": [],
   "source": [
    "all_sites = set(complies.site)\n",
    "nothing_comply_sites = all_sites - set(complies[complies.comply == 'comply'].site)\n",
    "print(\"Sites with no compliant cookies:\", nothing_comply_sites)"
   ]
  },
  {
   "cell_type": "code",
   "execution_count": null,
   "metadata": {},
   "outputs": [],
   "source": [
    "for site in ['liveperson.com']: # nothing_comply_sites:\n",
    "    print(site)\n",
    "site_cookies = postrej_br_cookies[postrej_br_cookies.site == site]"
   ]
  },
  {
   "cell_type": "code",
   "execution_count": null,
   "metadata": {},
   "outputs": [],
   "source": [
    "acookie = site_cookies[site_cookies.name == 'OptanonAlertBoxClosed'].iloc[0]"
   ]
  },
  {
   "cell_type": "code",
   "execution_count": null,
   "metadata": {},
   "outputs": [],
   "source": [
    "site_prefs = cookie_prefs[cookie_prefs.site == site]\n",
    "consent_cookies = site_prefs[site_prefs.consent]\n",
    "consent_cookie_names = consent_cookies.name\n",
    "site_cookies[site_cookies.name.isin(consent_cookie_names)]\n",
    "# cookie_name = 'OptanonAlertBoxClosed'\n",
    "# cookie_pref = site_prefs[site_prefs.name == cookie_name].iloc[0]\n",
    "# cookie_pref"
   ]
  },
  {
   "cell_type": "code",
   "execution_count": null,
   "metadata": {},
   "outputs": [],
   "source": [
    "consent_cookies"
   ]
  },
  {
   "cell_type": "code",
   "execution_count": null,
   "metadata": {},
   "outputs": [],
   "source": [
    "import sys; import importlib; importlib.reload(sys.modules['consent.consistency.cookie_pref_match'])\n",
    "from consent.consistency.cookie_pref_match import cookie_pref_match\n",
    "cookie_pref_match(acookie, cookie_pref, site, verbose=2)"
   ]
  },
  {
   "cell_type": "code",
   "execution_count": null,
   "metadata": {},
   "outputs": [],
   "source": [
    "# Analyze Contras"
   ]
  },
  {
   "cell_type": "code",
   "execution_count": null,
   "metadata": {},
   "outputs": [],
   "source": []
  },
  {
   "cell_type": "code",
   "execution_count": null,
   "metadata": {},
   "outputs": [],
   "source": []
  },
  {
   "cell_type": "code",
   "execution_count": null,
   "metadata": {},
   "outputs": [],
   "source": []
  },
  {
   "cell_type": "code",
   "execution_count": null,
   "metadata": {},
   "outputs": [],
   "source": []
  },
  {
   "cell_type": "code",
   "execution_count": null,
   "metadata": {},
   "outputs": [],
   "source": []
  },
  {
   "cell_type": "code",
   "execution_count": null,
   "metadata": {},
   "outputs": [],
   "source": []
  },
  {
   "cell_type": "code",
   "execution_count": null,
   "metadata": {},
   "outputs": [],
   "source": []
  },
  {
   "cell_type": "code",
   "execution_count": null,
   "metadata": {},
   "outputs": [],
   "source": []
  },
  {
   "cell_type": "code",
   "execution_count": null,
   "metadata": {},
   "outputs": [],
   "source": []
  },
  {
   "cell_type": "code",
   "execution_count": null,
   "metadata": {},
   "outputs": [],
   "source": []
  },
  {
   "cell_type": "code",
   "execution_count": null,
   "metadata": {},
   "outputs": [],
   "source": []
  },
  {
   "cell_type": "code",
   "execution_count": null,
   "metadata": {},
   "outputs": [],
   "source": []
  },
  {
   "cell_type": "code",
   "execution_count": null,
   "metadata": {},
   "outputs": [],
   "source": []
  },
  {
   "cell_type": "code",
   "execution_count": null,
   "metadata": {},
   "outputs": [],
   "source": []
  },
  {
   "cell_type": "code",
   "execution_count": null,
   "metadata": {},
   "outputs": [],
   "source": []
  },
  {
   "cell_type": "code",
   "execution_count": null,
   "metadata": {},
   "outputs": [],
   "source": []
  },
  {
   "cell_type": "code",
   "execution_count": null,
   "metadata": {},
   "outputs": [],
   "source": []
  },
  {
   "cell_type": "code",
   "execution_count": null,
   "metadata": {},
   "outputs": [],
   "source": []
  },
  {
   "cell_type": "code",
   "execution_count": null,
   "metadata": {},
   "outputs": [],
   "source": [
    "\n",
    "\n",
    "\n",
    "\n",
    "\n",
    "\n",
    "\n",
    "\n",
    "\n",
    "\n",
    "\n",
    "\n",
    "\n",
    "\n",
    "\n",
    "\n",
    "\n",
    "\n",
    "\n",
    "\n",
    "\n",
    "\n",
    "\n",
    "\n",
    "\n",
    "\n",
    "\n",
    "\n",
    "\n",
    "\n",
    "\n",
    "\n",
    "\n",
    "\n",
    "\n",
    "\n",
    "\n",
    "\n",
    "\n",
    "\n",
    "\n",
    "\n",
    "\n",
    "\n",
    "\n",
    "\n",
    "\n",
    "\n",
    "\n",
    "\n",
    "\n"
   ]
  }
 ],
 "metadata": {
  "kernelspec": {
   "display_name": "consent",
   "language": "python",
   "name": "python3"
  },
  "language_info": {
   "codemirror_mode": {
    "name": "ipython",
    "version": 3
   },
   "file_extension": ".py",
   "mimetype": "text/x-python",
   "name": "python",
   "nbconvert_exporter": "python",
   "pygments_lexer": "ipython3",
   "version": "3.8.19"
  }
 },
 "nbformat": 4,
 "nbformat_minor": 4
}
