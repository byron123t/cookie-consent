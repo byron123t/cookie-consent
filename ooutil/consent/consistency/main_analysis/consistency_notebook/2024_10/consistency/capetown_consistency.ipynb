{
 "cells": [
  {
   "cell_type": "code",
   "execution_count": 1,
   "metadata": {},
   "outputs": [
    {
     "name": "stdout",
     "output_type": "stream",
     "text": [
      "Scan root dir: /mnt/sdd/ducbui/projects/data2/consent/2024-10-12\n",
      "Output suffix: _0k_20k\n",
      "Scan dirs: [PosixPath('/mnt/sdd/ducbui/projects/data2/consent/2024-10-12/pref_menu_scan_0k_20k')]\n"
     ]
    }
   ],
   "source": [
    "from collections import defaultdict\n",
    "from pathlib import Path\n",
    "\n",
    "import matplotlib.pyplot as plt\n",
    "import pandas as pd\n",
    "import seaborn as sns\n",
    "\n",
    "from consent.consistency.comply_util import site_to_contras, get_comply\n",
    "from consent.consistency.cookie_pref_match import cookie_pref_match\n",
    "from consent.consistency.util import get_scan_root_dir, get_scan_dirs # , FIG_DIR uncomment to save fig.\n",
    "from consent.data.pref_menu_scan.cookie_pref_reader import read_cookie_prefs_in_scans\n",
    "from consent.data.pref_menu_scan.har_cookie_reader import read_postrej_sent_cookies_in_scans\n",
    "\n",
    "cur_set = '0k_20k' # '20k_100k'\n",
    "overwrite = True\n",
    "SCAN_ROOT_DIR = get_scan_root_dir('capetown')\n",
    "SCAN_DIRS = [SCAN_ROOT_DIR / f'pref_menu_scan_{cur_set}']\n",
    "# SCAN_DIRS = get_scan_dirs('us')[:]\n",
    "output_suffix = '_' + cur_set # '0k_20k'  # '20k_100k' #'60k_80k' # '40k_60k' # # '100k_200k'; done: '20k_40k' '0k_20k'\n",
    "print('Scan root dir:', SCAN_ROOT_DIR)\n",
    "print('Output suffix:', output_suffix)\n",
    "print('Scan dirs:', SCAN_DIRS)"
   ]
  },
  {
   "cell_type": "code",
   "execution_count": 2,
   "metadata": {},
   "outputs": [
    {
     "name": "stdout",
     "output_type": "stream",
     "text": [
      "To save to /mnt/sdd/ducbui/projects/data2/consent/2024-10-12/cookie_decls_0k_20k.parquet\n"
     ]
    },
    {
     "name": "stdout",
     "output_type": "stream",
     "text": [
      "WARNING: Consent cookie not found bepress.com\n",
      "WARNING: Consent cookie not found siteground.asia\n",
      "WARNING: Consent cookie not found burberry.com\n",
      "WARNING: error decoding /mnt/sdd/ducbui/projects/data2/consent/2024-10-12/pref_menu_scan_0k_20k/placeit.net/consent_resources.json: region_block Received an out-of-region response\n",
      "WARNING: error decoding /mnt/sdd/ducbui/projects/data2/consent/2024-10-12/pref_menu_scan_0k_20k/constantcontact.com/consent_resources.json: region_block Received an out-of-region response\n",
      "WARNING: error decoding /mnt/sdd/ducbui/projects/data2/consent/2024-10-12/pref_menu_scan_0k_20k/getclockwise.com/consent_resources.json: \n",
      "region_block Received an out-of-region responseWARNING: error decoding /mnt/sdd/ducbui/projects/data2/consent/2024-10-12/pref_menu_scan_0k_20k/envato.com/consent_resources.json: region_block Received an out-of-region response\n",
      "https://cdn.cookielaw.org/consent/03b96273-0ebc-43cb-8885-cdfaeadad5b9/b019db6d-bccf-46f9-bde0-478e3c1f6028/en.json WARNING: Cookie list has session cookie but duration > 0\n",
      "WARNING: error decoding /mnt/sdd/ducbui/projects/data2/consent/2024-10-12/pref_menu_scan_0k_20k/scribbr.com/consent_resources.json: region_block Received an out-of-region response\n",
      "WARNING: error decoding /mnt/sdd/ducbui/projects/data2/consent/2024-10-12/pref_menu_scan_0k_20k/codecanyon.net/consent_resources.json: region_block Received an out-of-region response\n",
      "WARNING: error decoding /mnt/sdd/ducbui/projects/data2/consent/2024-10-12/pref_menu_scan_0k_20k/gitlab.com/consent_resources.json:consent_js not supported yet. \n",
      "WARNING: error decoding /mnt/sdd/ducbui/projects/data2/consent/2024-10-12/pref_menu_scan_0k_20k/conta.cc/consent_resources.json: region_block Received an out-of-region response\n",
      "WARNING: error decoding /mnt/sdd/ducbui/projects/data2/consent/2024-10-12/pref_menu_scan_0k_20k/pressreader.com/consent_resources.json: region_block Received an out-of-region response\n",
      "https://cdn-ukwest.onetrust.com/consent/86f42b6d-7a31-469c-804c-319643173d42/018dfc06-4525-75f5-b4f2-881e5366447a/en.json WARNING: Cookie list has session cookie but duration > 0\n",
      "WARNING: error decoding /mnt/sdd/ducbui/projects/data2/consent/2024-10-12/pref_menu_scan_0k_20k/gitlab.io/consent_resources.json: consent_js not supported yet.\n",
      "WARNING: error decoding /mnt/sdd/ducbui/projects/data2/consent/2024-10-12/pref_menu_scan_0k_20k/themeforest.net/consent_resources.json: region_block Received an out-of-region response\n",
      "WARNING: error decoding /mnt/sdd/ducbui/projects/data2/consent/2024-10-12/pref_menu_scan_0k_20k/tutsplus.com/consent_resources.json: region_block Received an out-of-region response\n",
      "Written to /mnt/sdd/ducbui/projects/data2/consent/2024-10-12/cookie_decls_0k_20k.parquet\n",
      "Written to /mnt/sdd/ducbui/projects/data2/consent/2024-10-12/cookie_prefs_0k_20k.parquet\n"
     ]
    },
    {
     "data": {
      "text/html": [
       "<div>\n",
       "<style scoped>\n",
       "    .dataframe tbody tr th:only-of-type {\n",
       "        vertical-align: middle;\n",
       "    }\n",
       "\n",
       "    .dataframe tbody tr th {\n",
       "        vertical-align: top;\n",
       "    }\n",
       "\n",
       "    .dataframe thead th {\n",
       "        text-align: right;\n",
       "    }\n",
       "</style>\n",
       "<table border=\"1\" class=\"dataframe\">\n",
       "  <thead>\n",
       "    <tr style=\"text-align: right;\">\n",
       "      <th></th>\n",
       "      <th>name</th>\n",
       "      <th>domain</th>\n",
       "      <th>duration</th>\n",
       "      <th>category_id</th>\n",
       "      <th>category</th>\n",
       "      <th>consent_mode</th>\n",
       "      <th>site</th>\n",
       "      <th>lib_name</th>\n",
       "      <th>pattern_name</th>\n",
       "      <th>consent</th>\n",
       "    </tr>\n",
       "  </thead>\n",
       "  <tbody>\n",
       "    <tr>\n",
       "      <th>0</th>\n",
       "      <td>.AxcmXFaxAuth</td>\n",
       "      <td>fax.nextiva.com</td>\n",
       "      <td>0 days</td>\n",
       "      <td>C0001</td>\n",
       "      <td>Strictly Necessary Cookies</td>\n",
       "      <td>always active</td>\n",
       "      <td>nextiva.com</td>\n",
       "      <td>onetrust</td>\n",
       "      <td>en.json</td>\n",
       "      <td>True</td>\n",
       "    </tr>\n",
       "    <tr>\n",
       "      <th>1</th>\n",
       "      <td>__cf_bm</td>\n",
       "      <td>nextiva.com</td>\n",
       "      <td>0 days</td>\n",
       "      <td>C0001</td>\n",
       "      <td>Strictly Necessary Cookies</td>\n",
       "      <td>always active</td>\n",
       "      <td>nextiva.com</td>\n",
       "      <td>onetrust</td>\n",
       "      <td>en.json</td>\n",
       "      <td>True</td>\n",
       "    </tr>\n",
       "    <tr>\n",
       "      <th>2</th>\n",
       "      <td>_ce.cch</td>\n",
       "      <td>nextiva.com</td>\n",
       "      <td>Session</td>\n",
       "      <td>C0001</td>\n",
       "      <td>Strictly Necessary Cookies</td>\n",
       "      <td>always active</td>\n",
       "      <td>nextiva.com</td>\n",
       "      <td>onetrust</td>\n",
       "      <td>en.json</td>\n",
       "      <td>True</td>\n",
       "    </tr>\n",
       "    <tr>\n",
       "      <th>3</th>\n",
       "      <td>ao</td>\n",
       "      <td>sso.nextiva.com</td>\n",
       "      <td>0 days</td>\n",
       "      <td>C0001</td>\n",
       "      <td>Strictly Necessary Cookies</td>\n",
       "      <td>always active</td>\n",
       "      <td>nextiva.com</td>\n",
       "      <td>onetrust</td>\n",
       "      <td>en.json</td>\n",
       "      <td>True</td>\n",
       "    </tr>\n",
       "    <tr>\n",
       "      <th>4</th>\n",
       "      <td>autolaunch_triggered</td>\n",
       "      <td>sso.nextiva.com</td>\n",
       "      <td>0 days</td>\n",
       "      <td>C0001</td>\n",
       "      <td>Strictly Necessary Cookies</td>\n",
       "      <td>always active</td>\n",
       "      <td>nextiva.com</td>\n",
       "      <td>onetrust</td>\n",
       "      <td>en.json</td>\n",
       "      <td>True</td>\n",
       "    </tr>\n",
       "  </tbody>\n",
       "</table>\n",
       "</div>"
      ],
      "text/plain": [
       "                   name           domain duration category_id  \\\n",
       "0         .AxcmXFaxAuth  fax.nextiva.com   0 days       C0001   \n",
       "1               __cf_bm      nextiva.com   0 days       C0001   \n",
       "2               _ce.cch      nextiva.com  Session       C0001   \n",
       "3                    ao  sso.nextiva.com   0 days       C0001   \n",
       "4  autolaunch_triggered  sso.nextiva.com   0 days       C0001   \n",
       "\n",
       "                     category   consent_mode         site  lib_name  \\\n",
       "0  Strictly Necessary Cookies  always active  nextiva.com  onetrust   \n",
       "1  Strictly Necessary Cookies  always active  nextiva.com  onetrust   \n",
       "2  Strictly Necessary Cookies  always active  nextiva.com  onetrust   \n",
       "3  Strictly Necessary Cookies  always active  nextiva.com  onetrust   \n",
       "4  Strictly Necessary Cookies  always active  nextiva.com  onetrust   \n",
       "\n",
       "  pattern_name consent  \n",
       "0      en.json    True  \n",
       "1      en.json    True  \n",
       "2      en.json    True  \n",
       "3      en.json    True  \n",
       "4      en.json    True  "
      ]
     },
     "execution_count": 2,
     "metadata": {},
     "output_type": "execute_result"
    }
   ],
   "source": [
    "# Get cookie prefs = cookie decls + prefs\n",
    "cookie_prefs_file = SCAN_ROOT_DIR / f'cookie_prefs{output_suffix}.parquet'\n",
    "\n",
    "if not cookie_prefs_file.exists() or overwrite:\n",
    "    save_cookie_decls_file = SCAN_ROOT_DIR / f'cookie_decls{output_suffix}.parquet'\n",
    "    print(f'To save to {save_cookie_decls_file}')\n",
    "    cookie_prefs = read_cookie_prefs_in_scans(SCAN_DIRS, save_cookie_decls_file)  # took 2.3min for top 50k-site scan\n",
    "    cookie_prefs.to_parquet(cookie_prefs_file); print(f'Written to {cookie_prefs_file}')\n",
    "else:\n",
    "    cookie_prefs = pd.read_parquet(cookie_prefs_file)\n",
    "cookie_prefs.head()\n",
    "# TODO: add log_file_checker"
   ]
  },
  {
   "cell_type": "code",
   "execution_count": null,
   "metadata": {},
   "outputs": [
    {
     "name": "stdout",
     "output_type": "stream",
     "text": [
      "Found cookie libraries:\n"
     ]
    },
    {
     "data": {
      "text/plain": [
       "lib_name\n",
       "onetrust     1266\n",
       "cookiebot     102\n",
       "Name: count, dtype: int64"
      ]
     },
     "execution_count": 3,
     "metadata": {},
     "output_type": "execute_result"
    }
   ],
   "source": [
    "print(\"Found cookie libraries:\")\n",
    "cookie_prefs[['site', 'lib_name']].drop_duplicates().lib_name.value_counts()"
   ]
  },
  {
   "cell_type": "code",
   "execution_count": null,
   "metadata": {},
   "outputs": [
    {
     "name": "stdout",
     "output_type": "stream",
     "text": [
      "Sites with cookie prefs: 1368 , first 10 sites: ['247sports.com', '2k.com', '2ksports.com', 'aao.org', 'aber.ac.uk', 'abercrombie.com', 'acast.com', 'accedo.tv', 'accenture.com', 'accor.com']\n"
     ]
    }
   ],
   "source": [
    "cookielist_sites = sorted(cookie_prefs.site.unique().tolist())\n",
    "n_cookielist_sites = len(cookielist_sites)\n",
    "assert cookie_prefs.site.nunique() == n_cookielist_sites\n",
    "n=10\n",
    "print(\"Sites with cookie prefs:\", n_cookielist_sites, f', first {n} sites:' , cookielist_sites[:n])"
   ]
  },
  {
   "cell_type": "code",
   "execution_count": 5,
   "metadata": {},
   "outputs": [],
   "source": [
    "site_to_libname = {row['site']: row['lib_name'] for row in cookie_prefs[['site', 'lib_name']].drop_duplicates().to_dict('records')}"
   ]
  },
  {
   "cell_type": "code",
   "execution_count": 6,
   "metadata": {},
   "outputs": [
    {
     "name": "stdout",
     "output_type": "stream",
     "text": [
      "0.011726616589983684\n"
     ]
    },
    {
     "name": "stdout",
     "output_type": "stream",
     "text": [
      "0.029156683179232385\n",
      "0.002781901835981714\n"
     ]
    },
    {
     "data": {
      "text/html": [
       "<div>\n",
       "<style scoped>\n",
       "    .dataframe tbody tr th:only-of-type {\n",
       "        vertical-align: middle;\n",
       "    }\n",
       "\n",
       "    .dataframe tbody tr th {\n",
       "        vertical-align: top;\n",
       "    }\n",
       "\n",
       "    .dataframe thead th {\n",
       "        text-align: right;\n",
       "    }\n",
       "</style>\n",
       "<table border=\"1\" class=\"dataframe\">\n",
       "  <thead>\n",
       "    <tr style=\"text-align: right;\">\n",
       "      <th></th>\n",
       "      <th>name</th>\n",
       "      <th>domain</th>\n",
       "      <th>duration</th>\n",
       "      <th>category_id</th>\n",
       "      <th>category</th>\n",
       "      <th>consent_mode</th>\n",
       "      <th>site</th>\n",
       "      <th>lib_name</th>\n",
       "      <th>pattern_name</th>\n",
       "      <th>consent</th>\n",
       "    </tr>\n",
       "  </thead>\n",
       "  <tbody>\n",
       "    <tr>\n",
       "      <th>101</th>\n",
       "      <td>visitor_id#####</td>\n",
       "      <td>go.nextiva.com</td>\n",
       "      <td>364 days</td>\n",
       "      <td>C0004</td>\n",
       "      <td>Targeting Cookies</td>\n",
       "      <td>active</td>\n",
       "      <td>nextiva.com</td>\n",
       "      <td>onetrust</td>\n",
       "      <td>en.json</td>\n",
       "      <td>False</td>\n",
       "    </tr>\n",
       "    <tr>\n",
       "      <th>24</th>\n",
       "      <td>_gd#############</td>\n",
       "      <td>j.6sc.co</td>\n",
       "      <td>730 days</td>\n",
       "      <td>C0002</td>\n",
       "      <td>Performance Cookies</td>\n",
       "      <td>inactive</td>\n",
       "      <td>wework.com</td>\n",
       "      <td>onetrust</td>\n",
       "      <td>en.json</td>\n",
       "      <td>False</td>\n",
       "    </tr>\n",
       "    <tr>\n",
       "      <th>30</th>\n",
       "      <td>_gd#############</td>\n",
       "      <td>www.wework.com</td>\n",
       "      <td>730 days</td>\n",
       "      <td>C0003</td>\n",
       "      <td>Functional Cookies</td>\n",
       "      <td>inactive</td>\n",
       "      <td>wework.com</td>\n",
       "      <td>onetrust</td>\n",
       "      <td>en.json</td>\n",
       "      <td>False</td>\n",
       "    </tr>\n",
       "    <tr>\n",
       "      <th>34</th>\n",
       "      <td>_gd#############</td>\n",
       "      <td>cdnjs.cloudflare.com</td>\n",
       "      <td>730 days</td>\n",
       "      <td>C0003</td>\n",
       "      <td>Functional Cookies</td>\n",
       "      <td>inactive</td>\n",
       "      <td>wework.com</td>\n",
       "      <td>onetrust</td>\n",
       "      <td>en.json</td>\n",
       "      <td>False</td>\n",
       "    </tr>\n",
       "    <tr>\n",
       "      <th>44</th>\n",
       "      <td>AMP_unsent_#</td>\n",
       "      <td>commercial.cdn.aws.placeit.net</td>\n",
       "      <td>Persistent</td>\n",
       "      <td>statistics</td>\n",
       "      <td>statistics</td>\n",
       "      <td>None</td>\n",
       "      <td>placeit.net</td>\n",
       "      <td>cookiebot</td>\n",
       "      <td>cc.js</td>\n",
       "      <td>False</td>\n",
       "    </tr>\n",
       "    <tr>\n",
       "      <th>...</th>\n",
       "      <td>...</td>\n",
       "      <td>...</td>\n",
       "      <td>...</td>\n",
       "      <td>...</td>\n",
       "      <td>...</td>\n",
       "      <td>...</td>\n",
       "      <td>...</td>\n",
       "      <td>...</td>\n",
       "      <td>...</td>\n",
       "      <td>...</td>\n",
       "    </tr>\n",
       "    <tr>\n",
       "      <th>140</th>\n",
       "      <td>visitor_id#####</td>\n",
       "      <td>click.outreach.io</td>\n",
       "      <td>3649 days</td>\n",
       "      <td>4</td>\n",
       "      <td>Targeting Cookies</td>\n",
       "      <td>active</td>\n",
       "      <td>outreach.io</td>\n",
       "      <td>onetrust</td>\n",
       "      <td>en.json</td>\n",
       "      <td>False</td>\n",
       "    </tr>\n",
       "    <tr>\n",
       "      <th>147</th>\n",
       "      <td>visitor_id#####</td>\n",
       "      <td>pi.pardot.com</td>\n",
       "      <td>3649 days</td>\n",
       "      <td>4</td>\n",
       "      <td>Targeting Cookies</td>\n",
       "      <td>active</td>\n",
       "      <td>outreach.io</td>\n",
       "      <td>onetrust</td>\n",
       "      <td>en.json</td>\n",
       "      <td>False</td>\n",
       "    </tr>\n",
       "    <tr>\n",
       "      <th>170</th>\n",
       "      <td>visitor_id#####</td>\n",
       "      <td>pardot.com</td>\n",
       "      <td>3649 days</td>\n",
       "      <td>4</td>\n",
       "      <td>Targeting Cookies</td>\n",
       "      <td>active</td>\n",
       "      <td>outreach.io</td>\n",
       "      <td>onetrust</td>\n",
       "      <td>en.json</td>\n",
       "      <td>False</td>\n",
       "    </tr>\n",
       "    <tr>\n",
       "      <th>172</th>\n",
       "      <td>_gd#############</td>\n",
       "      <td>j.6sc.co</td>\n",
       "      <td>729 days</td>\n",
       "      <td>4</td>\n",
       "      <td>Targeting Cookies</td>\n",
       "      <td>active</td>\n",
       "      <td>outreach.io</td>\n",
       "      <td>onetrust</td>\n",
       "      <td>en.json</td>\n",
       "      <td>False</td>\n",
       "    </tr>\n",
       "    <tr>\n",
       "      <th>220</th>\n",
       "      <td>_gd#############</td>\n",
       "      <td>cdnjs.cloudflare.com</td>\n",
       "      <td>729 days</td>\n",
       "      <td>4</td>\n",
       "      <td>Targeting Cookies</td>\n",
       "      <td>active</td>\n",
       "      <td>outreach.io</td>\n",
       "      <td>onetrust</td>\n",
       "      <td>en.json</td>\n",
       "      <td>False</td>\n",
       "    </tr>\n",
       "  </tbody>\n",
       "</table>\n",
       "<p>3191 rows × 10 columns</p>\n",
       "</div>"
      ],
      "text/plain": [
       "                 name                          domain    duration category_id  \\\n",
       "101   visitor_id#####                  go.nextiva.com    364 days       C0004   \n",
       "24   _gd#############                        j.6sc.co    730 days       C0002   \n",
       "30   _gd#############                  www.wework.com    730 days       C0003   \n",
       "34   _gd#############            cdnjs.cloudflare.com    730 days       C0003   \n",
       "44       AMP_unsent_#  commercial.cdn.aws.placeit.net  Persistent  statistics   \n",
       "..                ...                             ...         ...         ...   \n",
       "140   visitor_id#####               click.outreach.io   3649 days           4   \n",
       "147   visitor_id#####                   pi.pardot.com   3649 days           4   \n",
       "170   visitor_id#####                      pardot.com   3649 days           4   \n",
       "172  _gd#############                        j.6sc.co    729 days           4   \n",
       "220  _gd#############            cdnjs.cloudflare.com    729 days           4   \n",
       "\n",
       "                category consent_mode         site   lib_name pattern_name  \\\n",
       "101    Targeting Cookies       active  nextiva.com   onetrust      en.json   \n",
       "24   Performance Cookies     inactive   wework.com   onetrust      en.json   \n",
       "30    Functional Cookies     inactive   wework.com   onetrust      en.json   \n",
       "34    Functional Cookies     inactive   wework.com   onetrust      en.json   \n",
       "44            statistics         None  placeit.net  cookiebot        cc.js   \n",
       "..                   ...          ...          ...        ...          ...   \n",
       "140    Targeting Cookies       active  outreach.io   onetrust      en.json   \n",
       "147    Targeting Cookies       active  outreach.io   onetrust      en.json   \n",
       "170    Targeting Cookies       active  outreach.io   onetrust      en.json   \n",
       "172    Targeting Cookies       active  outreach.io   onetrust      en.json   \n",
       "220    Targeting Cookies       active  outreach.io   onetrust      en.json   \n",
       "\n",
       "    consent  \n",
       "101   False  \n",
       "24    False  \n",
       "30    False  \n",
       "34    False  \n",
       "44    False  \n",
       "..      ...  \n",
       "140   False  \n",
       "147   False  \n",
       "170   False  \n",
       "172   False  \n",
       "220   False  \n",
       "\n",
       "[3191 rows x 10 columns]"
      ]
     },
     "execution_count": 6,
     "metadata": {},
     "output_type": "execute_result"
    }
   ],
   "source": [
    "# Quick checking the cookie declaration naming\n",
    "print(len(cookie_prefs[cookie_prefs.name.str.endswith('#')]) / len(cookie_prefs))\n",
    "print(len(cookie_prefs[cookie_prefs.name.str.endswith('xxx')]) / len(cookie_prefs))\n",
    "print(len(cookie_prefs[cookie_prefs.name.str.endswith('XXX')]) / len(cookie_prefs))\n",
    "cookie_prefs[cookie_prefs.name.str.endswith('#')]"
   ]
  },
  {
   "cell_type": "code",
   "execution_count": 7,
   "metadata": {},
   "outputs": [],
   "source": [
    "# # Distribution of errors\n",
    "# print(\"Libs in failed-to-crawl sites\")\n",
    "# errors.consent_lib_name.value_counts()\n",
    "# from ooutil.df_util import expand_dict_col\n",
    "# ot_errs = errors[errors.consent_lib_name == 'onetrust']\n",
    "# errors_dict = pd.DataFrame(ot_errs.error.tolist()).explode('reason')\n",
    "# # Uncomment to show\n",
    "# # errors_dict.reason.value_counts()"
   ]
  },
  {
   "cell_type": "markdown",
   "metadata": {},
   "source": [
    "# Main analysis"
   ]
  },
  {
   "cell_type": "code",
   "execution_count": 8,
   "metadata": {
    "tags": []
   },
   "outputs": [
    {
     "name": "stdout",
     "output_type": "stream",
     "text": [
      "Unmatch url and consent cookie domain: page_url='https://www.wework.cn/zh-CN/city/shenzhen/?lang=en-us' consent_cookie.cookie['domain']='.www.wework.com' consent_cookie.cookie['path']='/' wework.com/postrej_2.har.xz\n",
      "Unmatch url and consent cookie domain: page_url='https://refer.wework.com/' consent_cookie.cookie['domain']='.www.wework.com' consent_cookie.cookie['path']='/' wework.com/postrej_3.har.xz\n",
      "Unmatch url and consent cookie domain: page_url='https://authn.sd00.worldcat.org/wayf/metaauth-ui/cmnd/protocol/samlpost' consent_cookie.cookie['domain']='.oclc.org' consent_cookie.cookie['path']='/' oclc.org/postrej_4.har.xz\n",
      "Post rej cookie not contain consent cookie, renfe.com/postrej_0.har.xz not have cookie OptanonConsent of .renfe.com on path /\n",
      "Unmatch url and consent cookie domain: page_url='http://elle.hearstmobile.com/Sweepstakes/' consent_cookie.cookie['domain']='.elle.com' consent_cookie.cookie['path']='/' elle.com/postrej_4.har.xz\n",
      "Post rej cookie not contain consent cookie, skrill.com/postrej_0.har.xz not have cookie OptanonConsent of .skrill.com on path /\n",
      "Post rej cookie not contain consent cookie, loggly.com/postrej_0.har.xz not have cookie OptanonConsent of .www.loggly.com on path /\n",
      "Post rej cookie not contain consent cookie, lidl.com/postrej_0.har.xz not have cookie OptanonConsent of .lidl.com on path /\n",
      "Post rej cookie not contain consent cookie, warnerbros.com/postrej_0.har.xz not have cookie OptanonConsent of .warnerbros.com on path /\n",
      "Unmatch url and consent cookie domain: page_url='https://www.fitnowinc.com/privacy/loseit/#consumer-health-data-privacy' consent_cookie.cookie['domain']='.loseit.com' consent_cookie.cookie['path']='/' loseit.com/postrej_2.har.xz\n",
      "Unmatch url and consent cookie domain: page_url='https://www.fitnowinc.com/privacy/loseit/' consent_cookie.cookie['domain']='.loseit.com' consent_cookie.cookie['path']='/' loseit.com/postrej_4.har.xz\n",
      "Post rej cookie not contain consent cookie, jixie.io/postrej_0.har.xz not have cookie OptanonConsent of .accenture.com on path /\n",
      "Post rej cookie not contain consent cookie, moonactive.net/postrej_0.har.xz not have cookie OptanonConsent of .moonactive.com on path /\n",
      "Post rej cookie not contain consent cookie, samknows.com/postrej_0.har.xz not have cookie OptanonConsent of .samknows.com on path /\n",
      "Post rej cookie not contain consent cookie, vewd.com/postrej_0.har.xz not have cookie OptanonConsent of .tivo.com on path /\n",
      "Domain path mismatch: .www.pwc.com domain's path /us not match url https://www.pwc.com/sg/en/\n",
      "Unmatch url and consent cookie domain: page_url='https://www.pwc.com/sg/en/' consent_cookie.cookie['domain']='.www.pwc.com' consent_cookie.cookie['path']='/us' pwc.com/postrej_2.har.xz\n",
      "Domain path mismatch: .www.pwc.com domain's path /us not match url https://www.pwc.com/zw/en/\n",
      "Unmatch url and consent cookie domain: page_url='https://www.pwc.com/zw/en/' consent_cookie.cookie['domain']='.www.pwc.com' consent_cookie.cookie['path']='/us' pwc.com/postrej_5.har.xz\n",
      "Domain path mismatch: .www.pwc.com domain's path /us not match url https://www.pwc.com/gx/en/about/corporate-governance/network-structure.html\n",
      "Unmatch url and consent cookie domain: page_url='https://www.pwc.com/gx/en/about/corporate-governance/network-structure.html' consent_cookie.cookie['domain']='.www.pwc.com' consent_cookie.cookie['path']='/us' pwc.com/postrej_4.har.xz\n",
      "Post rej cookie not contain consent cookie, volvocars.com/postrej_0.har.xz not have cookie OptanonConsent of .www.volvocars.com on path /us\n",
      "Post rej cookie not contain consent cookie, startlogic.com/postrej_0.har.xz not have cookie OptanonConsent of .web.com on path /\n",
      "Post rej cookie not contain consent cookie, imperva.com/postrej_2.har.xz not have cookie OptanonConsent of .imperva.com on path /\n",
      "Post rej cookie not contain consent cookie, imperva.com/postrej_1.har.xz not have cookie OptanonConsent of .imperva.com on path /\n",
      "Post rej cookie not contain consent cookie, imperva.com/postrej_3.har.xz not have cookie OptanonConsent of .imperva.com on path /\n",
      "Post rej cookie not contain consent cookie, imperva.com/postrej_4.har.xz not have cookie OptanonConsent of .imperva.com on path /\n",
      "Post rej cookie not contain consent cookie, max.com/postrej_2.har.xz not have cookie OptanonConsent of .max.com on path /\n",
      "Post rej cookie not contain consent cookie, max.com/postrej_0.har.xz not have cookie OptanonConsent of .max.com on path /\n",
      "Error reading har file /mnt/sdd/ducbui/projects/data2/consent/2024-10-12/pref_menu_scan_0k_20k/geforce.com/postrej_5.har.xz: 'DataFrame' object has no attribute 'request'\n",
      "Post rej cookie not contain consent cookie, geforce.com/postrej_0.har.xz not have cookie OptanonConsent of .nvidia.com on path /\n",
      "Post rej cookie not contain consent cookie, dexcom.com/postrej_5.har.xz not have cookie OptanonConsent of .dexcom.com on path /\n",
      "Post rej cookie not contain consent cookie, dexcom.com/postrej_0.har.xz not have cookie OptanonConsent of .dexcom.com on path /\n",
      "Post rej cookie not contain consent cookie, turnitin.com/postrej_0.har.xz not have cookie OptanonConsent of .turnitin.com on path /\n",
      "Unmatch url and consent cookie domain: page_url='https://admissionsclub.digistorm.com/au/' consent_cookie.cookie['domain']='www.digistorm.com' consent_cookie.cookie['path']='/' digistorm.com/postrej_2.har.xz\n",
      "Unmatch url and consent cookie domain: page_url='https://www.lexisnexis.com/en-us/terms/general/default.page' consent_cookie.cookie['domain']='.www.law360.com' consent_cookie.cookie['path']='/' law360.com/postrej_3.har.xz\n",
      "Post rej cookie not contain consent cookie, sheffield.ac.uk/postrej_0.har.xz not have cookie OptanonConsent of .sheffield.ac.uk on path /\n",
      "Post rej cookie not contain consent cookie, mariadb.org/postrej_3.har.xz not have cookie CookieConsent of mariadb.org on path /\n",
      "Post rej cookie not contain consent cookie, phenompeople.com/postrej_0.har.xz not have cookie OptanonConsent of .phenom.com on path /\n",
      "Domain path mismatch: .klarna.com domain's path /us/ not match url https://www.klarna.com/ch/\n",
      "Unmatch url and consent cookie domain: page_url='https://www.klarna.com/ch/' consent_cookie.cookie['domain']='.klarna.com' consent_cookie.cookie['path']='/us/' usehero.com/postrej_5.har.xz\n",
      "Domain path mismatch: .klarna.com domain's path /us/ not match url https://cdn.klarna.com/1.0/shared/content/legal/terms/en-US/notice_at_collection\n",
      "Unmatch url and consent cookie domain: page_url='https://cdn.klarna.com/1.0/shared/content/legal/terms/en-US/notice_at_collection' consent_cookie.cookie['domain']='.klarna.com' consent_cookie.cookie['path']='/us/' usehero.com/postrej_1.har.xz\n",
      "Domain path mismatch: .klarna.com domain's path /us/ not match url https://www.klarna.com/international/press/\n",
      "Unmatch url and consent cookie domain: page_url='https://www.klarna.com/international/press/' consent_cookie.cookie['domain']='.klarna.com' consent_cookie.cookie['path']='/us/' usehero.com/postrej_3.har.xz\n",
      "Domain path mismatch: .klarna.com domain's path /us/ not match url https://www.klarna.com/ch/it/\n",
      "Unmatch url and consent cookie domain: page_url='https://www.klarna.com/ch/it/' consent_cookie.cookie['domain']='.klarna.com' consent_cookie.cookie['path']='/us/' usehero.com/postrej_4.har.xz\n",
      "Error reading har file /mnt/sdd/ducbui/projects/data2/consent/2024-10-12/pref_menu_scan_0k_20k/exponential.com/postrej_1.har.xz: 'DataFrame' object has no attribute 'request'\n",
      "Post rej cookie not contain consent cookie, exponential.com/postrej_0.har.xz not have cookie OptanonConsent of .exponential.com on path /\n",
      "Post rej cookie not contain consent cookie, sonymobile.com/postrej_0.har.xz not have cookie OptanonConsent of .electronics.sony.com on path /\n",
      "Unmatch url and consent cookie domain: page_url='https://pentaho.com/download/' consent_cookie.cookie['domain']='.www.hitachivantara.com' consent_cookie.cookie['path']='/' hds.com/postrej_1.har.xz\n",
      "Unmatch url and consent cookie domain: page_url='https://www.salesforce.com/privacy/products/?bc=HB' consent_cookie.cookie['domain']='.quip.com' consent_cookie.cookie['path']='/' quip.com/postrej_5.har.xz\n",
      "Post rej cookie not contain consent cookie, se.com/postrej_0.har.xz not have cookie OptanonConsent of .se.com on path /\n",
      "Post rej cookie not contain consent cookie, accenture.com/postrej_0.har.xz not have cookie OptanonConsent of .accenture.com on path /\n",
      "Post rej cookie not contain consent cookie, schneider-electric.com/postrej_0.har.xz not have cookie OptanonConsent of .se.com on path /\n",
      "Error reading har file /mnt/sdd/ducbui/projects/data2/consent/2024-10-12/pref_menu_scan_0k_20k/schneider-electric.com/postrej_3.har.xz: 'DataFrame' object has no attribute 'request'\n",
      "Post rej cookie not contain consent cookie, observer.com/postrej_0.har.xz not have cookie OptanonConsent of .observer.com on path /\n",
      "Unmatch url and consent cookie domain: page_url='https://id.elsevier.com/as/authorization.oauth2?state=4ac407c4029aed5c65fae80317736992&prompt=login&scope=openid%20email%20profile%20els_auth_info%20els_analytics_info%20urn%3Acom%3Aelsevier%3Aidp%3Apolicy%3Aproduct%3Aindv_identity&authType=SINGLE_SIGN_IN&response_type=code&platSite=MDY%2Fmendeley&redirect_uri=https%3A%2F%2Fwww.mendeley.com%2Fcallback%2F&client_id=MENDELEY' consent_cookie.cookie['domain']='.mendeley.com' consent_cookie.cookie['path']='/' mendeley.com/postrej_1.har.xz\n",
      "Unmatch url and consent cookie domain: page_url='https://www.instagram.com/accounts/login/?next=https%3A%2F%2Fwww.instagram.com%2Fsiriusxm%2F%3Fintcmp%3DFullFooter_NA_www%253AHome_instagram&is_from_rle' consent_cookie.cookie['domain']='.www.siriusxm.com' consent_cookie.cookie['path']='/' siriusxm.com/postrej_5.har.xz\n",
      "Post rej cookie not contain consent cookie, ic.ac.uk/postrej_0.har.xz not have cookie OptanonConsent of .imperial.ac.uk on path /\n",
      "Unmatch url and consent cookie domain: page_url='https://login.microsoftonline.com/common/oauth2/authorize?client_id=00000002-0000-0ff1-ce00-000000000000&redirect_uri=https%3a%2f%2foutlook.office365.com%2fowa%2f&resource=00000002-0000-0ff1-ce00-000000000000&response_mode=form_post&response_type=code+id_token&scope=openid&msafed=1&msaredir=1&client-request-id=e2a53833-5409-9239-28a3-3d7c3eda45b9&protectedtoken=true&claims=%7b%22id_token%22%3a%7b%22xms_cc%22%3a%7b%22values%22%3a%5b%22CP1%22%5d%7d%7d%7d&domain_hint=ic.ac.uk&nonce=638641437388868367.61ae218c-c82c-4152-8bf3-f84e20542ecb&state=DctLDoAgDEVR0LFL4dfW8rYDDSTGgSPj9mVw7ux659y-bIvPK64qQ6UIVwagYK1RSxtUYMFAFqScFNAnhwkZlE-hYd2v90jP19JlsVl87x8' consent_cookie.cookie['domain']='.imperial.ac.uk' consent_cookie.cookie['path']='/' ic.ac.uk/postrej_3.har.xz\n",
      "Post rej cookie not contain consent cookie, eyeo.com/postrej_0.har.xz not have cookie OptanonConsent of .eyeo.com on path /\n",
      "Post rej cookie not contain consent cookie, penguin.co.uk/postrej_0.har.xz not have cookie OptanonConsent of .penguin.co.uk on path /\n",
      "Unmatch url and consent cookie domain: page_url='https://community.opentextcybersecurity.com/' consent_cookie.cookie['domain']='.webroot.com' consent_cookie.cookie['path']='/' webrootanywhere.com/postrej_5.har.xz\n",
      "Post rej cookie not contain consent cookie, questionpro.com/postrej_0.har.xz not have cookie OptanonConsent of .questionpro.com on path /\n",
      "Post rej cookie not contain consent cookie, payoneer.com/postrej_0.har.xz not have cookie OptanonConsent of .payoneer.com on path /\n",
      "Domain path mismatch: .www.basf.com domain's path /us/ not match url https://www.basf.com/global/en/investors/calendar-and-publications/reporting\n",
      "Unmatch url and consent cookie domain: page_url='https://www.basf.com/global/en/investors/calendar-and-publications/reporting' consent_cookie.cookie['domain']='.www.basf.com' consent_cookie.cookie['path']='/us/' basf.com/postrej_2.har.xz\n",
      "Domain path mismatch: .www.basf.com domain's path /us/ not match url https://www.basf.com/global/en/who-we-are/sustainability/we-produce-safely-and-efficiently/environmental-protection/resources-and-ecosystems/engagement-against-plastic-waste/Alliance-to-end-plastic-waste\n",
      "Unmatch url and consent cookie domain: page_url='https://www.basf.com/global/en/who-we-are/sustainability/we-produce-safely-and-efficiently/environmental-protection/resources-and-ecosystems/engagement-against-plastic-waste/Alliance-to-end-plastic-waste' consent_cookie.cookie['domain']='.www.basf.com' consent_cookie.cookie['path']='/us/' basf.com/postrej_5.har.xz\n",
      "Post rej cookie not contain consent cookie, yoti.com/postrej_0.har.xz not have cookie OptanonConsent of www.yoti.com on path /\n",
      "Post rej cookie not contain consent cookie, bromium-online.com/postrej_2.har.xz not have cookie OptanonConsent of .hpwolf.com on path /\n",
      "Post rej cookie not contain consent cookie, bromium-online.com/postrej_0.har.xz not have cookie OptanonConsent of .hpwolf.com on path /\n",
      "Post rej cookie not contain consent cookie, battle.net/postrej_5.har.xz not have cookie OptanonConsent of .battle.net on path /\n",
      "Unmatch url and consent cookie domain: page_url='https://login.microsoftonline.com/46fe5ca5-866f-4e42-92e9-ed8786245545/oauth2/authorize?client%5Fid=00000003%2D0000%2D0ff1%2Dce00%2D000000000000&response%5Fmode=form%5Fpost&response%5Ftype=code%20id%5Ftoken&resource=00000003%2D0000%2D0ff1%2Dce00%2D000000000000&scope=openid&nonce=6B4C9768068587A784090EB3DD048E7582B6E083D5793745%2D6669BA35F0EEAF21CA33EE3871130181B4CB2F656B4D12D36B72F2826672B9E3&redirect%5Furi=https%3A%2F%2Fuccireland%2Esharepoint%2Ecom%2F%5Fforms%2Fdefault%2Easpx&state=OD0w&claims=%7B%22id%5Ftoken%22%3A%7B%22xms%5Fcc%22%3A%7B%22values%22%3A%5B%22CP1%22%5D%7D%7D%7D&wsucxt=1&cobrandid=11bd8083%2D87e0%2D41b5%2Dbb78%2D0bc43c8a8e8a&client%2Drequest%2Did=4a8158a1%2D00b6%2Da000%2D00c4%2Dee4e68dc3ec6' consent_cookie.cookie['domain']='.www.ucc.ie' consent_cookie.cookie['path']='/' ucc.ie/postrej_2.har.xz\n",
      "Post rej cookie not contain consent cookie, ucc.ie/postrej_0.har.xz not have cookie OptanonConsent of .www.ucc.ie on path /\n",
      "Post rej cookie not contain consent cookie, hidemyass.com/postrej_0.har.xz not have cookie OptanonConsent of .hidemyass.com on path /\n",
      "Post rej cookie not contain consent cookie, qualys.eu/postrej_0.har.xz not have cookie CookieConsent of www.qualys.com on path /\n",
      "Post rej cookie not contain consent cookie, vfsglobal.com/postrej_0.har.xz not have cookie OptanonConsent of .vfsglobal.com on path /\n",
      "Post rej cookie not contain consent cookie, vfsglobal.com/postrej_3.har.xz not have cookie OptanonConsent of .vfsglobal.com on path /\n",
      "Post rej cookie not contain consent cookie, uoc.edu/postrej_0.har.xz not have cookie OptanonConsent of .uoc.edu on path /\n",
      "Unmatch url and consent cookie domain: page_url='https://www.mylo.id/login?client_id=6l4fkr0k2en3n3pjmuu7kfl6o3&redirect_uri=https%3A%2F%2Fwww.goodhousekeeping.com%2Fauth%2Flogin&state=4nvErqjg-1Tl8qYkvD8xVEYMTNORD7BeSLFM' consent_cookie.cookie['domain']='.goodhousekeeping.com' consent_cookie.cookie['path']='/' goodhousekeeping.com/postrej_4.har.xz\n",
      "Post rej cookie not contain consent cookie, tcs.com/postrej_0.har.xz not have cookie OptanonConsent of .tcs.com on path /\n",
      "Post rej cookie not contain consent cookie, fortunecity.com/postrej_0.har.xz not have cookie OptanonConsent of .web.com on path /\n",
      "Unmatch url and consent cookie domain: page_url='https://developers.verve.com/reference/before-getting-started' consent_cookie.cookie['domain']='.pubnative.net' consent_cookie.cookie['path']='/' pubnative.net/postrej_3.har.xz\n",
      "Post rej cookie not contain consent cookie, imperial.ac.uk/postrej_0.har.xz not have cookie OptanonConsent of .imperial.ac.uk on path /\n",
      "Unmatch url and consent cookie domain: page_url='https://login.microsoftonline.com/common/oauth2/authorize?client_id=00000002-0000-0ff1-ce00-000000000000&redirect_uri=https%3a%2f%2foutlook.office365.com%2fowa%2f&resource=00000002-0000-0ff1-ce00-000000000000&response_mode=form_post&response_type=code+id_token&scope=openid&msafed=1&msaredir=1&client-request-id=0bb947bc-a7b4-c3ca-7923-dd9d69aadb03&protectedtoken=true&claims=%7b%22id_token%22%3a%7b%22xms_cc%22%3a%7b%22values%22%3a%5b%22CP1%22%5d%7d%7d%7d&domain_hint=ic.ac.uk&nonce=638641515185773113.b3a64306-2432-4c99-af21-6d6701b149f8&state=DYtBDoAgDMBAzz5lwNgY8JyBITEePBm_79K0t3rn3G5upk8WV4WaMBajlVoJkcIgFaYkkJky8OwddGUEOaUmHMh9NW_vEZ9P4zWDzvDePw' consent_cookie.cookie['domain']='.imperial.ac.uk' consent_cookie.cookie['path']='/' imperial.ac.uk/postrej_4.har.xz\n",
      "Post rej cookie not contain consent cookie, siteground.eu/postrej_0.har.xz not have cookie CookieConsent of world.siteground.com on path /\n",
      "Post rej cookie not contain consent cookie, cpanel.com/postrej_0.har.xz not have cookie CookieConsent of cpanel.net on path /\n",
      "Unmatch url and consent cookie domain: page_url='https://eu.wargaming.net/id/signin/?next=%2Fid%2Fopenid%2F223592294600298775%2F&trust_root=https%3A%2F%2Fworldoftanks.eu%2F' consent_cookie.cookie['domain']='.worldoftanks.eu' consent_cookie.cookie['path']='/' worldoftanks.eu/postrej_5.har.xz\n",
      "Post rej cookie not contain consent cookie, hyprmx.com/postrej_0.har.xz not have cookie OptanonConsent of .hyprmx.com on path /\n",
      "Post rej cookie not contain consent cookie, sc.com/postrej_0.har.xz not have cookie OptanonConsent of .sc.com on path /en/\n",
      "Post rej cookie not contain consent cookie, hbogola.com/postrej_5.har.xz not have cookie OptanonConsent of .max.com on path /\n",
      "Post rej cookie not contain consent cookie, hbogola.com/postrej_0.har.xz not have cookie OptanonConsent of .max.com on path /\n",
      "Unmatch url and consent cookie domain: page_url='https://accounts.toggl.com/track/signup/' consent_cookie.cookie['domain']='toggl.com' consent_cookie.cookie['path']='/' toggl.com/postrej_2.har.xz\n",
      "Post rej cookie not contain consent cookie, pingdom.com/postrej_0.har.xz not have cookie OptanonConsent of .www.pingdom.com on path /\n",
      "Unmatch url and consent cookie domain: page_url='https://accounts.google.com/v3/signin/identifier?opparams=%253F&dsh=S-1758269307%3A1728562055733741&client_id=788061727671-8lsnbnf701j58tbec561so1t2irvn9pj.apps.googleusercontent.com&ddm=1&nonce=CYw6v_T3mPHS3jLTgJuSj3SierRsNx3DAI9ASfxGzlXPZAmNIzU_I8qqMMcGxS7ZlsfsV7RpqQyuIhNpMzu8wXvk8iNn8hLlg3di9IVG6mbJsT2WazX7oFotTznIxuab&o2v=2&redirect_uri=https%3A%2F%2Fwww.jstor.org%2Flogin%2Foidc%2Fgoogle%2Fredirect&response_type=code&scope=openid+https%3A%2F%2Fwww.googleapis.com%2Fauth%2Fuserinfo.email+https%3A%2F%2Fwww.googleapis.com%2Fauth%2Fuserinfo.profile&service=lso&state=eyJkZXN0aW5hdGlvbiI6Imh0dHBzOi8vd3d3LmpzdG9yLm9yZy8iLCJlcnJvclVybCI6Ii9hY3Rpb24vc2hvd0xvZ2luIiwid29ya2Zsb3dfbmFtZSI6ImxvZ2luIiwidGFyZ2V0Ijoid3d3LmpzdG9yLm9yZyIsIm5vbmNlIjoiMDFKOVY1N0dCOUE2WlJZUzI3S0FRUEVaNVciLCJzZXNzaW9uIjoiZDYyNDk3NGQtZDgwMS00Y2NkLWIwMWEtZmRkYWNmZThlNmFkIn0%3D&flowName=GeneralOAuthFlow&continue=https%3A%2F%2Faccounts.google.com%2Fsignin%2Foauth%2Fconsent%3Fauthuser%3Dunknown%26part%3DAJi8hANHw227sLKjllnZXQastgayB3NyjydZL57z_qnNUQH6WKyrNb5rja6VCE46AozGSmL-ZSyg6Jm2HT3tgz9-I33D5wPeqCYAI6ivnjtBe6EiqGK-Ppc4gyF7yWunYvmFJ_MBb_EmxEIYPP2i-wpAUAmdXxTFIV9Q19u_9r9cooVVnZ1mIMETl0eAyo6c-8PoGLNyl-qs0oGNhVklZDflRfrH8-HmDV-h0MYfVbuqCpyXmLMEgiBhH-8Hns4BagWvp2ThSgzOjvID1EZ4ghHNKbYC9sYzJr0vy4t-BDfPGFzzjZJDNFtNluc0rSnv0FY4TKwHmlhV5GvdgdurAiBfAhtiUJ3vydxqJ9mLfni4xlqFtOSN5XRGmuQGmv3uZELd999ziVryerjviVKNiNfvk81-czKVRAFEyOii9YIKlOXi38ldQ6UbLY76qOGFvWTrm2XAd1VrrjaUiZnCiKKYyV9ItbOUXw%26flowName%3DGeneralOAuthFlow%26as%3DS-1758269307%253A1728562055733741%26client_id%3D788061727671-8lsnbnf701j58tbec561so1t2irvn9pj.apps.googleusercontent.com%23&app_domain=https%3A%2F%2Fwww.jstor.org&rart=ANgoxcctb3x1nGhY8ioc0GLQiefRk983NmxMzToydJZ_cwS9mOw5uMoyUPCaf5RcAoPlgWgD3WDLfaA-HYONtf9Lm54s22FE7TOOrv7MgL4obvI9isqmpBg' consent_cookie.cookie['domain']='.jstor.org' consent_cookie.cookie['path']='/' jstor.org/postrej_5.har.xz\n",
      "Post rej cookie not contain consent cookie, stylitics.com/postrej_0.har.xz not have cookie OptanonConsent of .stylitics.com on path /\n",
      "Post rej cookie not contain consent cookie, kodak.com/postrej_0.har.xz not have cookie OptanonConsent of .www.kodak.com on path /\n",
      "Domain path mismatch: .sage.com domain's path /en-za/ not match url https://id.sage.com/login?state=hKFo2SBERUcwQmI5TWU1ZTBzVV9GcVhTUXRZT242YUlqYTVLNaFupWxvZ2luo3RpZNkgVlUxclpIaHVYZkFpTTNteDZUOVJqRnB2WGNScXgyY3ejY2lk2SBFVlpKMlVLZXMwTWtIV0M0SGd3TWtnM1dBdjI0WnlYdA&client=EVZJ2UKes0MkHWC4HgwMkg3WAv24ZyXt&protocol=oauth2&scope=openid%20user%3Afull%20read_write%20profile%20email%20offline_access&audience=sbcpaypd%2Fprivateapiza&redirect_uri=https%3A%2F%2Fpayroll.za.sbc.sage.com%2Fcloudid%2Fcallback&response_type=code&response_mode=query&nonce=MlhaVUNqSlJlMFV1UU4zNkJEaEp2UFUwNzFTbDFNTjR%2BY0xMTUZtdllkWA%3D%3D&code_challenge=BpttKRLgWCVr8bptwwYzqjJqL6Wufrcq9t3DNycuF1c&code_challenge_method=S256&auth0Client=eyJuYW1lIjoiYXV0aDAtc3BhLWpzIiwidmVyc2lvbiI6IjIuMS4yIn0%3D\n",
      "Unmatch url and consent cookie domain: page_url='https://id.sage.com/login?state=hKFo2SBERUcwQmI5TWU1ZTBzVV9GcVhTUXRZT242YUlqYTVLNaFupWxvZ2luo3RpZNkgVlUxclpIaHVYZkFpTTNteDZUOVJqRnB2WGNScXgyY3ejY2lk2SBFVlpKMlVLZXMwTWtIV0M0SGd3TWtnM1dBdjI0WnlYdA&client=EVZJ2UKes0MkHWC4HgwMkg3WAv24ZyXt&protocol=oauth2&scope=openid%20user%3Afull%20read_write%20profile%20email%20offline_access&audience=sbcpaypd%2Fprivateapiza&redirect_uri=https%3A%2F%2Fpayroll.za.sbc.sage.com%2Fcloudid%2Fcallback&response_type=code&response_mode=query&nonce=MlhaVUNqSlJlMFV1UU4zNkJEaEp2UFUwNzFTbDFNTjR%2BY0xMTUZtdllkWA%3D%3D&code_challenge=BpttKRLgWCVr8bptwwYzqjJqL6Wufrcq9t3DNycuF1c&code_challenge_method=S256&auth0Client=eyJuYW1lIjoiYXV0aDAtc3BhLWpzIiwidmVyc2lvbiI6IjIuMS4yIn0%3D' consent_cookie.cookie['domain']='.sage.com' consent_cookie.cookie['path']='/en-za/' sageone.co.za/postrej_2.har.xz\n",
      "Domain path mismatch: .sage.com domain's path /en-za/ not match url https://www.sage.com/de-de/\n",
      "Unmatch url and consent cookie domain: page_url='https://www.sage.com/de-de/' consent_cookie.cookie['domain']='.sage.com' consent_cookie.cookie['path']='/en-za/' sageone.co.za/postrej_3.har.xz\n",
      "Post rej cookie not contain consent cookie, kaercher.com/postrej_0.har.xz not have cookie OptanonConsent of .kaercher.com on path /int/\n",
      "Post rej cookie not contain consent cookie, itglue.com/postrej_5.har.xz not have cookie OptanonConsent of .itglue.com on path /\n",
      "Post rej cookie not contain consent cookie, sanofi-synthelabo.com/postrej_0.har.xz not have cookie OptanonConsent of .www.sanofi.com on path /\n",
      "Post rej cookie not contain consent cookie, merck.com/postrej_0.har.xz not have cookie OptanonConsent of .merck.com on path /\n",
      "Post rej cookie not contain consent cookie, download.com/postrej_0.har.xz not have cookie OptanonConsent of .download.cnet.com on path /\n",
      "Unmatch url and consent cookie domain: page_url='https://www.forever21.com/?irclickid=2t-26WUDDxyKR6txy12MaxH1UkCUfm1oVSHa140&sharedid=&utm_source=impact&irgwc=1&irpid=10621&mpname=WhaleShark%20Media%2C%20Inc.&utm_medium=affiliate&utm_content=WhaleShark%20Media%2C%20Inc.' consent_cookie.cookie['domain']='.retailmenot.com' consent_cookie.cookie['path']='/' retailmenot.com/postrej_4.har.xz\n",
      "Post rej cookie not contain consent cookie, pb.com/postrej_0.har.xz not have cookie OptanonConsent of .pitneybowes.com on path /us\n",
      "Post rej cookie not contain consent cookie, purechat.com/postrej_0.har.xz not have cookie OptanonConsent of .purechat.com on path /\n",
      "Unmatch url and consent cookie domain: page_url='https://play.google.com/store/apps/details?id=com.avast.android.mobilesecurity&referrer=utm_source%3Davast_com%26amp%3Butm_medium%3Dhomepage%26amp%3Butm_campaign%3Dhomepage_ams&alt=en-us' consent_cookie.cookie['domain']='.avast.com' consent_cookie.cookie['path']='/' avast.com/postrej_3.har.xz\n",
      "Error reading har file /mnt/sdd/ducbui/projects/data2/consent/2024-10-12/pref_menu_scan_0k_20k/avast.com/postrej_4.har.xz: 'DataFrame' object has no attribute 'request'\n",
      "Cannot read /mnt/sdd/ducbui/projects/data2/consent/2024-10-12/pref_menu_scan_0k_20k/givesmart.com/log.json: [Errno 2] No such file or directory: '/mnt/sdd/ducbui/projects/data2/consent/2024-10-12/pref_menu_scan_0k_20k/givesmart.com/log.json'\n",
      "Unmatch url and consent cookie domain: page_url='https://id.condenast.com/interaction/OVwk7NQmT7ad7Gva1Jt7C/email?xid=f3efbff8-f841-41b2-af7b-e37246fa82f0&scope=openid%20offline_access&state=%7B%22redirectURL%22%3A%22%2F%22%7D&prompt=select_account%20consent&client_id=condenast.identity.62d610585aaa2f162eb9bd6bb0008b9a&redirect_uri=https%3A%2F%2Fwww.gq.com%2Fauth%2Fcomplete&response_type=code' consent_cookie.cookie['domain']='.gq.com' consent_cookie.cookie['path']='/' gq.com/postrej_1.har.xz\n",
      "Unmatch url and consent cookie domain: page_url='https://www.proximus.com/pxc/our-company/company.html' consent_cookie.cookie['domain']='.proximus.be' consent_cookie.cookie['path']='/' proximus.be/postrej_2.har.xz\n",
      "Error reading har file /mnt/sdd/ducbui/projects/data2/consent/2024-10-12/pref_menu_scan_0k_20k/winzip.com/postrej_4.har.xz: 'DataFrame' object has no attribute 'request'\n",
      "Unmatch url and consent cookie domain: page_url='https://developer.zendesk.com/documentation/' consent_cookie.cookie['domain']='.www.zendesk.com' consent_cookie.cookie['path']='/' smooch.io/postrej_4.har.xz\n",
      "Post rej cookie not contain consent cookie, unaids.org/postrej_0.har.xz not have cookie CookieConsent of www.unaids.org on path /\n",
      "Post rej cookie not contain consent cookie, nhl.com/postrej_1.har.xz not have cookie OptanonConsent of .nhl.com on path /\n",
      "Post rej cookie not contain consent cookie, nhl.com/postrej_4.har.xz not have cookie OptanonConsent of .nhl.com on path /\n",
      "Unmatch url and consent cookie domain: page_url='https://www.world.rugby/privacy-policy' consent_cookie.cookie['domain']='.rugbyworldcup.com' consent_cookie.cookie['path']='/' rugbyworldcup.com/postrej_5.har.xz\n",
      "Unmatch url and consent cookie domain: page_url='http://prevention.hearstmobile.com/sweeps/' consent_cookie.cookie['domain']='.prevention.com' consent_cookie.cookie['path']='/' prevention.com/postrej_2.har.xz\n",
      "Post rej cookie not contain consent cookie, sumologic.com/postrej_0.har.xz not have cookie OptanonConsent of .sumologic.com on path /\n",
      "Unmatch url and consent cookie domain: page_url='https://irender.co.za/buy-sketchup-pro-studio-2021/' consent_cookie.cookie['domain']='.www.sketchup.com' consent_cookie.cookie['path']='/' sketchup.com/postrej_5.har.xz\n",
      "Post rej cookie not contain consent cookie, duosecurity.com/postrej_0.har.xz not have cookie OptanonConsent of .duo.com on path /\n",
      "Unmatch url and consent cookie domain: page_url='https://nielseniq.com/global/en/insights/success-story/2023/localize-your-e-commerce-strategy-for-global-success/' consent_cookie.cookie['domain']='.www.gfk.com' consent_cookie.cookie['path']='/' gfk.com/postrej_1.har.xz\n",
      "Unmatch url and consent cookie domain: page_url='https://nielseniq.com/global/en/insights/success-story/2023/vijay-sales-planning-aggressive-and-defensive-sales-strategies/' consent_cookie.cookie['domain']='.www.gfk.com' consent_cookie.cookie['path']='/' gfk.com/postrej_3.har.xz\n",
      "Unmatch url and consent cookie domain: page_url='https://nielseniq.com/global/en/solutions/market-measurement/' consent_cookie.cookie['domain']='.www.gfk.com' consent_cookie.cookie['path']='/' gfk.com/postrej_4.har.xz\n",
      "Unmatch url and consent cookie domain: page_url='https://eab.app.box.com/s/ig1xoav1pag3q3af1k812bdthzfyhcwn' consent_cookie.cookie['domain']='.www.youvisit.com' consent_cookie.cookie['path']='/' youvisit.com/postrej_1.har.xz\n",
      "Unmatch url and consent cookie domain: page_url='https://www.appily.com/virtual-college-tours?utm_source=referral&utm_medium=youvisit' consent_cookie.cookie['domain']='.www.youvisit.com' consent_cookie.cookie['path']='/' youvisit.com/postrej_4.har.xz\n",
      "Post rej cookie not contain consent cookie, fonts.com/postrej_0.har.xz not have cookie OptanonConsent of .www.fonts.com on path /\n",
      "Unmatch url and consent cookie domain: page_url='https://student.kent.ac.uk/support/kfsp' consent_cookie.cookie['domain']='www.kent.ac.uk' consent_cookie.cookie['path']='/' kent.ac.uk/postrej_3.har.xz\n",
      "Unmatch url and consent cookie domain: page_url='https://bepress.com/' consent_cookie.cookie['domain']='.www.elsevier.com' consent_cookie.cookie['path']='/' bepress.com/postrej_0.har.xz\n",
      "Post rej cookie not contain consent cookie, uu.net/postrej_0.har.xz not have cookie OptanonConsent of .verizon.com on path /business\n",
      "Post rej cookie not contain consent cookie, fonts.net/postrej_0.har.xz not have cookie OptanonConsent of .www.fonts.com on path /\n",
      "Error reading har file /mnt/sdd/ducbui/projects/data2/consent/2024-10-12/pref_menu_scan_0k_20k/jnj.com/postrej_5.har.xz: 'DataFrame' object has no attribute 'request'\n",
      "Post rej cookie not contain consent cookie, haydaygame.com/postrej_2.har.xz not have cookie OptanonConsent of .hayday.com on path /\n",
      "Post rej cookie not contain consent cookie, haydaygame.com/postrej_1.har.xz not have cookie OptanonConsent of .hayday.com on path /\n",
      "Post rej cookie not contain consent cookie, haydaygame.com/postrej_0.har.xz not have cookie OptanonConsent of .hayday.com on path /\n",
      "Post rej cookie not contain consent cookie, sho.com/postrej_0.har.xz not have cookie OptanonConsent of .paramountpluswithshowtime.com on path /\n",
      "Unmatch url and consent cookie domain: page_url='https://feeds.feedburner.com/OLD-WordOfTheDay' consent_cookie.cookie['domain']='.oxfordlearnersdictionaries.com' consent_cookie.cookie['path']='/' oxfordlearnersdictionaries.com/postrej_3.har.xz\n",
      "Domain path mismatch: .kpmg.com domain's path /xx not match url https://kpmg.com/lv/en/home.html\n",
      "Unmatch url and consent cookie domain: page_url='https://kpmg.com/lv/en/home.html' consent_cookie.cookie['domain']='.kpmg.com' consent_cookie.cookie['path']='/xx' kpmg.com/postrej_2.har.xz\n",
      "Domain path mismatch: .kpmg.com domain's path /xx not match url https://kpmg.com/kr/en/home.html\n",
      "Unmatch url and consent cookie domain: page_url='https://kpmg.com/kr/en/home.html' consent_cookie.cookie['domain']='.kpmg.com' consent_cookie.cookie['path']='/xx' kpmg.com/postrej_5.har.xz\n",
      "Domain path mismatch: .kpmg.com domain's path /xx not match url https://kpmg.com/th/en/home.html\n",
      "Unmatch url and consent cookie domain: page_url='https://kpmg.com/th/en/home.html' consent_cookie.cookie['domain']='.kpmg.com' consent_cookie.cookie['path']='/xx' kpmg.com/postrej_1.har.xz\n",
      "Post rej cookie not contain consent cookie, kpmg.com/postrej_0.har.xz not have cookie OptanonConsent of .kpmg.com on path /xx\n",
      "Domain path mismatch: .kpmg.com domain's path /xx not match url https://kpmg.com/za/en/home.html\n",
      "Unmatch url and consent cookie domain: page_url='https://kpmg.com/za/en/home.html' consent_cookie.cookie['domain']='.kpmg.com' consent_cookie.cookie['path']='/xx' kpmg.com/postrej_4.har.xz\n",
      "Unmatch url and consent cookie domain: page_url='https://investors.thetradedesk.com/overview/default.aspx' consent_cookie.cookie['domain']='.www.thetradedesk.com' consent_cookie.cookie['path']='/' uidapi.com/postrej_4.har.xz\n",
      "Post rej cookie not contain consent cookie, tide.co/postrej_0.har.xz not have cookie OptanonConsent of .www.tide.co on path /\n",
      "Post rej cookie not contain consent cookie, refinitiv.com/postrej_0.har.xz not have cookie OptanonConsent of .www.lseg.com on path /\n",
      "Post rej cookie not contain consent cookie, kaspersky-labs.com/postrej_0.har.xz not have cookie CookieConsent of usa.kaspersky.com on path /\n",
      "Post rej cookie not contain consent cookie, ucd.ie/postrej_0.har.xz not have cookie OptanonConsent of .ucd.ie on path /\n",
      "Unmatch url and consent cookie domain: page_url='https://reprint.forrester.com/reports/the-forrester-wavetm-email-marketing-service-providers-q3-2024-f25f8ab8/index.html' consent_cookie.cookie['domain']='.cordial.com' consent_cookie.cookie['path']='/' cordial.com/postrej_3.har.xz\n",
      "Unmatch url and consent cookie domain: page_url='https://www.altium365.com/trust' consent_cookie.cookie['domain']='.altium.com' consent_cookie.cookie['path']='/' altium.com/postrej_5.har.xz\n",
      "Post rej cookie not contain consent cookie, platformsh.site/postrej_0.har.xz not have cookie OptanonConsent of .platform.sh on path /\n",
      "Unmatch url and consent cookie domain: page_url='https://life360-legal.zendesk.com/hc/en-us/articles/16038777217175-Life360-Privacy-Policy' consent_cookie.cookie['domain']='.life360.com' consent_cookie.cookie['path']='/' life360.com/postrej_3.har.xz\n",
      "Post rej cookie not contain consent cookie, sendbird.com/postrej_2.har.xz not have cookie OptanonConsent of .sendbird.com on path /\n",
      "Post rej cookie not contain consent cookie, sendbird.com/postrej_5.har.xz not have cookie OptanonConsent of .sendbird.com on path /\n",
      "Post rej cookie not contain consent cookie, sendbird.com/postrej_3.har.xz not have cookie OptanonConsent of .sendbird.com on path /\n",
      "Post rej cookie not contain consent cookie, sendbird.com/postrej_4.har.xz not have cookie OptanonConsent of .sendbird.com on path /\n",
      "Post rej cookie not contain consent cookie, mailspamprotection.com/postrej_0.har.xz not have cookie CookieConsent of world.siteground.com on path /\n",
      "Error reading har file /mnt/sdd/ducbui/projects/data2/consent/2024-10-12/pref_menu_scan_0k_20k/hp.com/postrej_3.har.xz: 'DataFrame' object has no attribute 'request'\n",
      "Unmatch url and consent cookie domain: page_url='https://tivo.pactsafe.io/legal.html#cookies-policy' consent_cookie.cookie['domain']='.tivo.com' consent_cookie.cookie['path']='/' tivo.com/postrej_2.har.xz\n",
      "Post rej cookie not contain consent cookie, prodigygame.com/postrej_0.har.xz not have cookie OptanonConsent of .prodigygame.com on path /\n",
      "Post rej cookie not contain consent cookie, qualys.com/postrej_0.har.xz not have cookie CookieConsent of www.qualys.com on path /\n",
      "Post rej cookie not contain consent cookie, jedox.com/postrej_0.har.xz not have cookie CookieConsent of www.jedox.com on path /\n",
      "Post rej cookie not contain consent cookie, siteground.biz/postrej_0.har.xz not have cookie CookieConsent of world.siteground.com on path /\n",
      "Unmatch url and consent cookie domain: page_url='https://id.condenast.com/interaction/ikBeo89M8wtLUclY9PPH4/email?xid=0a98ecf6-a9d3-4070-a250-142cf4283fdf&scope=openid%20offline_access&state=%7B%22redirectURL%22%3A%22%2F%22%7D&prompt=select_account%20consent&source=VERSO_NAVIGATION&client_id=condenast.identity.608744bd5ce61191247151e9c4b3fc76&redirect_uri=https%3A%2F%2Fwww.bonappetit.com%2Fauth%2Fcomplete&response_type=code' consent_cookie.cookie['domain']='.bonappetit.com' consent_cookie.cookie['path']='/' bonappetit.com/postrej_2.har.xz\n",
      "Post rej cookie not contain consent cookie, illinois.edu/postrej_0.har.xz not have cookie OptanonConsent of .illinois.edu on path /\n",
      "Post rej cookie not contain consent cookie, nngroup.com/postrej_0.har.xz not have cookie CookieConsent of www.nngroup.com on path /\n",
      "Domain path mismatch: .klarna.com domain's path /us/ not match url https://www.klarna.com/be/fr/\n",
      "Unmatch url and consent cookie domain: page_url='https://www.klarna.com/be/fr/' consent_cookie.cookie['domain']='.klarna.com' consent_cookie.cookie['path']='/us/' klarna.com/postrej_5.har.xz\n",
      "Domain path mismatch: .klarna.com domain's path /us/ not match url https://www.klarna.com/de/\n",
      "Unmatch url and consent cookie domain: page_url='https://www.klarna.com/de/' consent_cookie.cookie['domain']='.klarna.com' consent_cookie.cookie['path']='/us/' klarna.com/postrej_1.har.xz\n",
      "Post rej cookie not contain consent cookie, auctollo.com/postrej_5.har.xz not have cookie CookieConsent of auctollo.com on path /\n",
      "Post rej cookie not contain consent cookie, auctollo.com/postrej_0.har.xz not have cookie CookieConsent of auctollo.com on path /\n",
      "Post rej cookie not contain consent cookie, duo.com/postrej_0.har.xz not have cookie OptanonConsent of .duo.com on path /\n",
      "Post rej cookie not contain consent cookie, siteground.com/postrej_0.har.xz not have cookie CookieConsent of world.siteground.com on path /\n",
      "Post rej cookie not contain consent cookie, ipl.org/postrej_0.har.xz not have cookie OptanonConsent of .ipl.org on path /\n",
      "Unmatch url and consent cookie domain: page_url='https://www.opentext.com/products/it-operations-cloud' consent_cookie.cookie['domain']='.www.microfocus.com' consent_cookie.cookie['path']='/' microfocus.com/postrej_2.har.xz\n",
      "Unmatch url and consent cookie domain: page_url='https://www.opentext.com/contact' consent_cookie.cookie['domain']='.www.microfocus.com' consent_cookie.cookie['path']='/' microfocus.com/postrej_1.har.xz\n",
      "Unmatch url and consent cookie domain: page_url='https://www.opentext.com/services/pivot-to-the-cloud' consent_cookie.cookie['domain']='.www.microfocus.com' consent_cookie.cookie['path']='/' microfocus.com/postrej_3.har.xz\n",
      "Unmatch url and consent cookie domain: page_url='https://www.opentext.com/resources/solutions-for-sap-modernization' consent_cookie.cookie['domain']='.www.microfocus.com' consent_cookie.cookie['path']='/' microfocus.com/postrej_4.har.xz\n",
      "Unmatch url and consent cookie domain: page_url='https://www.sony.com/za/all-products' consent_cookie.cookie['domain']='.www.sony.net' consent_cookie.cookie['path']='/' sony.net/postrej_4.har.xz\n",
      "Post rej cookie not contain consent cookie, dow.com/postrej_0.har.xz not have cookie OptanonConsent of .dow.com on path /\n",
      "Unmatch url and consent cookie domain: page_url='https://ir.netflix.net/ir-overview/profile/default.aspx' consent_cookie.cookie['domain']='.netflix.com' consent_cookie.cookie['path']='/' nflxvideo.net/postrej_2.har.xz\n",
      "Post rej cookie not contain consent cookie, nbc.com/postrej_0.har.xz not have cookie OptanonConsent of .nbc.com on path /\n",
      "Cannot read /mnt/sdd/ducbui/projects/data2/consent/2024-10-12/pref_menu_scan_0k_20k/funcom.com/log.json: [Errno 2] No such file or directory: '/mnt/sdd/ducbui/projects/data2/consent/2024-10-12/pref_menu_scan_0k_20k/funcom.com/log.json'\n",
      "Post rej cookie not contain consent cookie, thefa.com/postrej_0.har.xz not have cookie OptanonConsent of .www.thefa.com on path /\n",
      "Error reading har file /mnt/sdd/ducbui/projects/data2/consent/2024-10-12/pref_menu_scan_0k_20k/lastline.com/postrej_5.har.xz: 'DataFrame' object has no attribute 'request'\n",
      "Error reading har file /mnt/sdd/ducbui/projects/data2/consent/2024-10-12/pref_menu_scan_0k_20k/vmware.com/postrej_1.har.xz: 'DataFrame' object has no attribute 'request'\n",
      "Unmatch url and consent cookie domain: page_url='https://news.broadcom.com/releases/vmware-explore-2023-barcelona-ibm-watsonx-private-ai?src=WWW_US_HPD0_GenAIWatson_SiteLink' consent_cookie.cookie['domain']='.vmware.com' consent_cookie.cookie['path']='/' vmware.com/postrej_4.har.xz\n",
      "Post rej cookie not contain consent cookie, chaosgroup.com/postrej_2.har.xz not have cookie OptanonConsent of .chaos.com on path /\n",
      "Post rej cookie not contain consent cookie, chaosgroup.com/postrej_5.har.xz not have cookie OptanonConsent of .chaos.com on path /\n",
      "Post rej cookie not contain consent cookie, chaosgroup.com/postrej_1.har.xz not have cookie OptanonConsent of .chaos.com on path /\n",
      "Post rej cookie not contain consent cookie, chaosgroup.com/postrej_0.har.xz not have cookie OptanonConsent of .chaos.com on path /\n",
      "Post rej cookie not contain consent cookie, chaosgroup.com/postrej_3.har.xz not have cookie OptanonConsent of .chaos.com on path /\n",
      "Post rej cookie not contain consent cookie, chaosgroup.com/postrej_4.har.xz not have cookie OptanonConsent of .chaos.com on path /\n",
      "Error reading har file /mnt/sdd/ducbui/projects/data2/consent/2024-10-12/pref_menu_scan_0k_20k/npr.org/postrej_4.har.xz: 'DataFrame' object has no attribute 'request'\n",
      "Unmatch url and consent cookie domain: page_url='https://standards-impact.buzzsprout.com/' consent_cookie.cookie['domain']='.astm.org' consent_cookie.cookie['path']='/' astm.org/postrej_4.har.xz\n",
      "Unmatch url and consent cookie domain: page_url='https://resources.trustyou.com/' consent_cookie.cookie['domain']='www.trustyou.com' consent_cookie.cookie['path']='/' trustyou.com/postrej_3.har.xz\n",
      "Unmatch url and consent cookie domain: page_url='https://login3.id.hp.com/login3/sign-up' consent_cookie.cookie['domain']='.hpsmart.com' consent_cookie.cookie['path']='/' hpsmart.com/postrej_1.har.xz\n",
      "Cannot read /mnt/sdd/ducbui/projects/data2/consent/2024-10-12/pref_menu_scan_0k_20k/sharechat.com/log.json: [Errno 2] No such file or directory: '/mnt/sdd/ducbui/projects/data2/consent/2024-10-12/pref_menu_scan_0k_20k/sharechat.com/log.json'\n",
      "Post rej cookie not contain consent cookie, uic.edu/postrej_0.har.xz not have cookie OptanonConsent of .uic.edu on path /\n",
      "Unmatch url and consent cookie domain: page_url='https://www.take2games.com/legal/en-US/' consent_cookie.cookie['domain']='.socialpoint.es' consent_cookie.cookie['path']='/' weplaydots.com/postrej_5.har.xz\n",
      "Domain path mismatch: .chubb.com domain's path /us-en not match url https://www.chubb.com/tw-zh/\n",
      "Unmatch url and consent cookie domain: page_url='https://www.chubb.com/tw-zh/' consent_cookie.cookie['domain']='.chubb.com' consent_cookie.cookie['path']='/us-en' chubb.com/postrej_3.har.xz\n",
      "Post rej cookie not contain consent cookie, kaspersky.com/postrej_0.har.xz not have cookie CookieConsent of usa.kaspersky.com on path /\n",
      "Domain path mismatch: .westernunion.com domain's path /us not match url https://corporate.westernunion.com/\n",
      "Unmatch url and consent cookie domain: page_url='https://corporate.westernunion.com/' consent_cookie.cookie['domain']='.westernunion.com' consent_cookie.cookie['path']='/us' westernunion.com/postrej_2.har.xz\n",
      "Domain path mismatch: .westernunion.com domain's path /us not match url https://www.westernunion.com/global-services/find-locations?WUCountry=us&WULanguage=en\n",
      "Unmatch url and consent cookie domain: page_url='https://www.westernunion.com/global-services/find-locations?WUCountry=us&WULanguage=en' consent_cookie.cookie['domain']='.westernunion.com' consent_cookie.cookie['path']='/us' westernunion.com/postrej_5.har.xz\n",
      "Post rej cookie not contain consent cookie, westernunion.com/postrej_0.har.xz not have cookie OptanonConsent of .westernunion.com on path /us\n",
      "Domain path mismatch: .westernunion.com domain's path /us not match url https://www.westernunion.com/blog/en/\n",
      "Unmatch url and consent cookie domain: page_url='https://www.westernunion.com/blog/en/' consent_cookie.cookie['domain']='.westernunion.com' consent_cookie.cookie['path']='/us' westernunion.com/postrej_4.har.xz\n",
      "Unmatch url and consent cookie domain: page_url='https://preview.codecanyon.net/item/magicai-openai-content-text-image-chat-code-generator-as-saas/full_screen_preview/45408109' consent_cookie.cookie['domain']='codecanyon.net' consent_cookie.cookie['path']='/' codecanyon.net/postrej_1.har.xz\n",
      "Post rej cookie not contain consent cookie, codecanyon.net/postrej_0.har.xz not have cookie CookieConsent of codecanyon.net on path /\n",
      "Post rej cookie not contain consent cookie, forter.com/postrej_0.har.xz not have cookie OptanonConsent of .forter.com on path /\n",
      "Post rej cookie not contain consent cookie, hbomax.com/postrej_0.har.xz not have cookie OptanonConsent of .max.com on path /\n",
      "Post rej cookie not contain consent cookie, hbomax.com/postrej_3.har.xz not have cookie OptanonConsent of .max.com on path /\n",
      "Post rej cookie not contain consent cookie, stitcher.com/postrej_5.har.xz not have cookie OptanonConsent of .www.stitcher.com on path /\n",
      "Error reading har file /mnt/sdd/ducbui/projects/data2/consent/2024-10-12/pref_menu_scan_0k_20k/mdpi.com/postrej_3.har.xz: 'DataFrame' object has no attribute 'request'\n",
      "Post rej cookie not contain consent cookie, cc.com/postrej_0.har.xz not have cookie OptanonConsent of .cc.com on path /\n",
      "Post rej cookie not contain consent cookie, hopkinsmedicine.org/postrej_0.har.xz not have cookie OptanonConsent of .hopkinsmedicine.org on path /\n",
      "Unmatch url and consent cookie domain: page_url='https://www.zoom.com/en/contact/' consent_cookie.cookie['domain']='.zoom.us' consent_cookie.cookie['path']='/' zoom.com/postrej_5.har.xz\n",
      "Unmatch url and consent cookie domain: page_url='https://www.zoom.com/en/accessibility/' consent_cookie.cookie['domain']='.zoom.us' consent_cookie.cookie['path']='/' zoom.com/postrej_3.har.xz\n",
      "Unmatch url and consent cookie domain: page_url='https://www.wolterskluwer.com/en/solutions/uptodate/resources/webinars' consent_cookie.cookie['domain']='.uptodate.com' consent_cookie.cookie['path']='/' uptodate.com/postrej_2.har.xz\n",
      "Unmatch url and consent cookie domain: page_url='https://www.wolterskluwer.com/en/solutions/uptodate/resources' consent_cookie.cookie['domain']='.uptodate.com' consent_cookie.cookie['path']='/' uptodate.com/postrej_5.har.xz\n",
      "Unmatch url and consent cookie domain: page_url='https://www.wolterskluwer.com/en/solutions/uptodate/about/customer-success-stories' consent_cookie.cookie['domain']='.uptodate.com' consent_cookie.cookie['path']='/' uptodate.com/postrej_1.har.xz\n",
      "Unmatch url and consent cookie domain: page_url='https://www.wolterskluwer.com/en/solutions/uptodate' consent_cookie.cookie['domain']='.uptodate.com' consent_cookie.cookie['path']='/' uptodate.com/postrej_3.har.xz\n",
      "Unmatch url and consent cookie domain: page_url='https://www.wolterskluwer.com/en/solutions/uptodate/policies-legal/linking-policy' consent_cookie.cookie['domain']='.uptodate.com' consent_cookie.cookie['path']='/' uptodate.com/postrej_4.har.xz\n",
      "Post rej cookie not contain consent cookie, disneyplus.com/postrej_0.har.xz not have cookie OptanonConsent of .www.apps.disneyplus.com on path /\n",
      "Post rej cookie not contain consent cookie, adyen.com/postrej_2.har.xz not have cookie OptanonConsent of .adyen.com on path /\n",
      "Post rej cookie not contain consent cookie, adyen.com/postrej_5.har.xz not have cookie OptanonConsent of .adyen.com on path /\n",
      "Post rej cookie not contain consent cookie, adyen.com/postrej_1.har.xz not have cookie OptanonConsent of .adyen.com on path /\n",
      "Post rej cookie not contain consent cookie, adyen.com/postrej_0.har.xz not have cookie OptanonConsent of .adyen.com on path /\n",
      "Post rej cookie not contain consent cookie, adyen.com/postrej_3.har.xz not have cookie OptanonConsent of .adyen.com on path /\n",
      "Post rej cookie not contain consent cookie, adyen.com/postrej_4.har.xz not have cookie OptanonConsent of .adyen.com on path /\n",
      "Unmatch url and consent cookie domain: page_url='https://www.lifeatmatch.com/' consent_cookie.cookie['domain']='.match.com' consent_cookie.cookie['path']='/' match.com/postrej_5.har.xz\n",
      "Post rej cookie not contain consent cookie, natwest.com/postrej_0.har.xz not have cookie OptanonConsent of .natwest.com on path /\n",
      "Error reading har file /mnt/sdd/ducbui/projects/data2/consent/2024-10-12/pref_menu_scan_0k_20k/paramount.com/postrej_2.har.xz: 'DataFrame' object has no attribute 'request'\n",
      "Error reading har file /mnt/sdd/ducbui/projects/data2/consent/2024-10-12/pref_menu_scan_0k_20k/paramount.com/postrej_1.har.xz: 'DataFrame' object has no attribute 'request'\n",
      "Error reading har file /mnt/sdd/ducbui/projects/data2/consent/2024-10-12/pref_menu_scan_0k_20k/paramount.com/postrej_3.har.xz: 'DataFrame' object has no attribute 'request'\n",
      "Unmatch url and consent cookie domain: page_url='https://global.fujitsu/zh-tw' consent_cookie.cookie['domain']='.www.fujitsu.com' consent_cookie.cookie['path']='/' fujitsu.com/postrej_5.har.xz\n",
      "Unmatch url and consent cookie domain: page_url='http://validate.perfdrive.com/b708a8fc3776ece65dd51a0e70b3ae8e/?ssa=9295461d-6da3-48cb-9f52-12b8bbe18b8b&ssb=34623204387&ssc=https%3A%2F%2Fwww.redlobster.com%2Forder&ssi=f154cb5c-94c0-4d9c-aab9-fbd2af6866ff&ssk=support@shieldsquare.com&ssm=87406087964167914192634726819118&ssn=b4fb5618efcbf4d656bcce4e944273e4b9e6872d63b3-08d9-4659-99c4f7&sso=6d59c552-3a4d709284a6f9e4eb7088ec9151ab245ae2c65a75642bd9&ssp=76357194321728599289172854298243001&ssq=91412295402808981319753840391629474094556&ssr=MTMuMjQ3LjE4My45NQ==&sst=Mozilla/5.0%20(X11;%20Linux%20x86_64)%20AppleWebKit/537.36%20(KHTML,%20like%20Gecko)%20Chrome/101.0.4951.64%20Safari/537.36&ssu=RU1aQ1pSTVpwYlZ5Zmdna3hlc24rbUVQU3MzRitjU0dncStteG1WdXQ4QT0=&ssv=&ssw=&ssx=eyJyZCI6InJlZGxvYnN0ZXIuY29tIiwiX191em1mIjoiN2Y2MDAwYjAwZjMyZTAtNzg0Zi00YzZhLTg1MmQtMzE4MmQ5MTQ2Y2I3MTcyODU1Mzg0MDIxMjE4ODUxMy0wMzcxMmM0N2FiYjBkYjExMTkiLCJ1em14IjoiN2Y5MDAwOTBlMTE0MDAtMzMzZS00MDdlLWFiNGYtZmQ4Y2IxYmQwY2QzMS0xNzI4NTUzODQwMjEyMTg4NTEzLTlhYmI2NDkxMjM1ZTc2MzkxOSJ9' consent_cookie.cookie['domain']='.redlobster.com' consent_cookie.cookie['path']='/' redlobster.com/postrej_2.har.xz\n",
      "Unmatch url and consent cookie domain: page_url='http://validate.perfdrive.com/b708a8fc3776ece65dd51a0e70b3ae8e/?ssa=1830d544-d3be-486c-b4b6-3a9e0b3a84a7&ssb=34623204387&ssc=https%3A%2F%2Fwww.redlobster.com%2Fcontact-us&ssi=b1b44d7e-94c0-48d9-921f-459c80a3a1d6&ssk=support@shieldsquare.com&ssm=87406087964167914192634726819118&ssn=b4fb5618eb707e732f58f666d5c473e4b9e6872d63b3-08d9-4659-99c4f7&sso=6d59c552-3a4d709284a6f9e4eb705e1f4867221b80059d4d75642bd9&ssp=76357194321728599289172854298243001&ssq=91412295402808981319753840391629474094556&ssr=MTMuMjQ3LjE4My45NQ==&sst=Mozilla/5.0%20(X11;%20Linux%20x86_64)%20AppleWebKit/537.36%20(KHTML,%20like%20Gecko)%20Chrome/101.0.4951.64%20Safari/537.36&ssu=RU1aQ1pSTVpwYlZ5Zmdna3hlc24rbUVQU3MzRitjU0dncStteG1WdXQ4QT0=&ssv=&ssw=&ssx=eyJyZCI6InJlZGxvYnN0ZXIuY29tIiwidXpteCI6IjdmOTAwMDkwZTExNDAwLTMzM2UtNDA3ZS1hYjRmLWZkOGNiMWJkMGNkMzEtMTcyODU1Mzg0MDIxMjE4ODYwOC0zNDA5ZDE5OTIzNDQ0ZWY4MTkiLCJfX3V6bWYiOiI3ZjYwMDBiMDBmMzJlMC03ODRmLTRjNmEtODUyZC0zMTgyZDkxNDZjYjcxNzI4NTUzODQwMjEyMTg4NjA4LTc0NWQwN2FlM2ExZTNmOGExOSJ9' consent_cookie.cookie['domain']='.redlobster.com' consent_cookie.cookie['path']='/' redlobster.com/postrej_5.har.xz\n",
      "Unmatch url and consent cookie domain: page_url='http://validate.perfdrive.com/b708a8fc3776ece65dd51a0e70b3ae8e/?ssa=b2e57494-7ea5-4f48-91cd-2f9cae3c3721&ssb=34623204387&ssc=https%3A%2F%2Fwww.redlobster.com%2Fmenu%2Fspecials%2Fdaily-deals%2F&ssi=a60c352d-94c0-4044-9b96-f32a729e52a6&ssk=support@shieldsquare.com&ssm=87406087964167914192634726819118&ssn=b4fb5618a67284bd498f7bd4b3ee73e4b9e6872d63b3-08d9-4659-99c4f7&sso=6d59c552-3a4d709284a6f9e4eb70f62c7d3e84d22fd4e87475642bd9&ssp=76357194321728599289172854298243001&ssq=91412295402808981319753840391629474094556&ssr=MTMuMjQ3LjE4My45NQ==&sst=Mozilla/5.0%20(X11;%20Linux%20x86_64)%20AppleWebKit/537.36%20(KHTML,%20like%20Gecko)%20Chrome/101.0.4951.64%20Safari/537.36&ssu=RU1aQ1pSTVpwYlZ5Zmdna3hlc24rbUVQU3MzRitjU0dncStteG1WdXQ4QT0=&ssv=&ssw=&ssx=eyJyZCI6InJlZGxvYnN0ZXIuY29tIiwiX191em1mIjoiN2Y2MDAwYjAwZjMyZTAtNzg0Zi00YzZhLTg1MmQtMzE4MmQ5MTQ2Y2I3MTcyODU1Mzg0MDIxMjE4ODUwMS04MGI0Zjk4NzEzZmIyZGI5MTkiLCJ1em14IjoiN2Y5MDAwOTBlMTE0MDAtMzMzZS00MDdlLWFiNGYtZmQ4Y2IxYmQwY2QzMS0xNzI4NTUzODQwMjEyMTg4NTAxLTA3Nzk5ODgwNGMzZDg3NzUxOSJ9' consent_cookie.cookie['domain']='.redlobster.com' consent_cookie.cookie['path']='/' redlobster.com/postrej_1.har.xz\n",
      "Unmatch url and consent cookie domain: page_url='http://validate.perfdrive.com/b708a8fc3776ece65dd51a0e70b3ae8e/?ssa=b03e2dac-3e6a-4ada-9f5a-898522c51f6f&ssb=34623204387&ssc=https%3A%2F%2Fwww.redlobster.com%2Four-story%2Four-history%2F&ssi=fa0f1913-94c0-4908-8172-7103cf3517ba&ssk=support@shieldsquare.com&ssm=87406087964167914192634726819118&ssn=b4fb5618d67141890d8ca623088473e4b9e6872d63b3-08d9-4659-99c4f7&sso=6d59c552-3a4d709284a6f9e4eb70feceab566847bbe0e25775642bd9&ssp=76357194321728599289172854298243001&ssq=91412295402808981319753840391629474094556&ssr=MTMuMjQ3LjE4My45NQ==&sst=Mozilla/5.0%20(X11;%20Linux%20x86_64)%20AppleWebKit/537.36%20(KHTML,%20like%20Gecko)%20Chrome/101.0.4951.64%20Safari/537.36&ssu=RU1aQ1pSTVpwYlZ5Zmdna3hlc24rbUVQU3MzRitjU0dncStteG1WdXQ4QT0=&ssv=&ssw=&ssx=eyJ1em14IjoiN2Y5MDAwOTBlMTE0MDAtMzMzZS00MDdlLWFiNGYtZmQ4Y2IxYmQwY2QzMS0xNzI4NTUzODQwMjEyMTg4NTkyLWYwNjFmMzc2ZTQwMDRhZjgxOSIsIl9fdXptZiI6IjdmNjAwMGIwMGYzMmUwLTc4NGYtNGM2YS04NTJkLTMxODJkOTE0NmNiNzE3Mjg1NTM4NDAyMTIxODg1OTItNDFlMmE3MzdkODA0ZWUwNTE5IiwicmQiOiJyZWRsb2JzdGVyLmNvbSJ9' consent_cookie.cookie['domain']='.redlobster.com' consent_cookie.cookie['path']='/' redlobster.com/postrej_3.har.xz\n",
      "Unmatch url and consent cookie domain: page_url='http://validate.perfdrive.com/b708a8fc3776ece65dd51a0e70b3ae8e/?ssa=76b55e87-329d-4590-b7dc-beecaa1bb9a5&ssb=34623204387&ssc=https%3A%2F%2Fwww.redlobster.com%2Fterms-conditions%2F&ssi=1f885cf6-94c0-4ec8-a6a9-d13bc9d8d182&ssk=support@shieldsquare.com&ssm=87406087964167914192634726819118&ssn=b4fb561845fa3f49830afa421dd273e4b9e6872d63b3-08d9-4659-99c4f7&sso=6d59c552-3a4d709284a6f9e4eb70ace85c7e8b5b01a9afff75642bd9&ssp=76357194321728599289172854298243001&ssq=91412295402808981319753840391629474094556&ssr=MTMuMjQ3LjE4My45NQ==&sst=Mozilla/5.0%20(X11;%20Linux%20x86_64)%20AppleWebKit/537.36%20(KHTML,%20like%20Gecko)%20Chrome/101.0.4951.64%20Safari/537.36&ssu=RU1aQ1pSTVpwYlZ5Zmdna3hlc24rbUVQU3MzRitjU0dncStteG1WdXQ4QT0=&ssv=&ssw=&ssx=eyJ1em14IjoiN2Y5MDAwOTBlMTE0MDAtMzMzZS00MDdlLWFiNGYtZmQ4Y2IxYmQwY2QzMS0xNzI4NTUzODQwMjEyMTg4NjA4LTM0MDlkMTk5MjM0NDRlZjgxOSIsIl9fdXptZiI6IjdmNjAwMGIwMGYzMmUwLTc4NGYtNGM2YS04NTJkLTMxODJkOTE0NmNiNzE3Mjg1NTM4NDAyMTIxODg2MDgtNzQ1ZDA3YWUzYTFlM2Y4YTE5IiwicmQiOiJyZWRsb2JzdGVyLmNvbSJ9#syw' consent_cookie.cookie['domain']='.redlobster.com' consent_cookie.cookie['path']='/' redlobster.com/postrej_4.har.xz\n",
      "Unmatch url and consent cookie domain: page_url='https://auth.skybetservices.com/skybingo?AFF_ID=1197321637&dcmp=SL_LOGO_SBIN_19' consent_cookie.cookie['domain']='.sportinglife.com' consent_cookie.cookie['path']='/' sportinglife.com/postrej_4.har.xz\n",
      "Post rej cookie not contain consent cookie, pingdom.net/postrej_0.har.xz not have cookie OptanonConsent of .www.pingdom.com on path /\n",
      "Post rej cookie not contain consent cookie, shef.ac.uk/postrej_0.har.xz not have cookie OptanonConsent of .sheffield.ac.uk on path /\n",
      "Post rej cookie not contain consent cookie, bleacherreport.com/postrej_0.har.xz not have cookie OptanonConsent of .bleacherreport.com on path /\n",
      "Post rej cookie not contain consent cookie, sonymusic.com/postrej_0.har.xz not have cookie OptanonConsent of .sonymusic.com on path /\n",
      "Domain path mismatch: .kpmg.com domain's path /xx not match url https://kpmg.com/si/en/home.html\n",
      "Unmatch url and consent cookie domain: page_url='https://kpmg.com/si/en/home.html' consent_cookie.cookie['domain']='.kpmg.com' consent_cookie.cookie['path']='/xx' home.kpmg/postrej_2.har.xz\n",
      "Domain path mismatch: .kpmg.com domain's path /xx not match url https://kpmg.com/it/it/home.html\n",
      "Unmatch url and consent cookie domain: page_url='https://kpmg.com/it/it/home.html' consent_cookie.cookie['domain']='.kpmg.com' consent_cookie.cookie['path']='/xx' home.kpmg/postrej_5.har.xz\n",
      "Post rej cookie not contain consent cookie, home.kpmg/postrej_0.har.xz not have cookie OptanonConsent of .kpmg.com on path /xx\n",
      "Domain path mismatch: .kpmg.com domain's path /xx not match url https://kpmg.com/in/en/home.html\n",
      "Unmatch url and consent cookie domain: page_url='https://kpmg.com/in/en/home.html' consent_cookie.cookie['domain']='.kpmg.com' consent_cookie.cookie['path']='/xx' home.kpmg/postrej_3.har.xz\n",
      "Domain path mismatch: .kpmg.com domain's path /xx not match url https://kpmg.com/ke/en/home.html\n",
      "Unmatch url and consent cookie domain: page_url='https://kpmg.com/ke/en/home.html' consent_cookie.cookie['domain']='.kpmg.com' consent_cookie.cookie['path']='/xx' home.kpmg/postrej_4.har.xz\n",
      "Error reading har file /mnt/sdd/ducbui/projects/data2/consent/2024-10-12/pref_menu_scan_0k_20k/c212.net/postrej_1.har.xz: 'DataFrame' object has no attribute 'request'\n",
      "Post rej cookie not contain consent cookie, c212.net/postrej_0.har.xz not have cookie OptanonConsent of .cision.com on path /\n",
      "Post rej cookie not contain consent cookie, hyros.com/postrej_0.har.xz not have cookie OptanonConsent of .hyros.com on path /\n",
      "Unmatch url and consent cookie domain: page_url='https://developers.cloudflare.com/workers' consent_cookie.cookie['domain']='workers.cloudflare.com' consent_cookie.cookie['path']='/' workers.dev/postrej_5.har.xz\n",
      "Unmatch url and consent cookie domain: page_url='https://forum.cfx.re/t/technical-support-template/861/7' consent_cookie.cookie['domain']='.fivem.net' consent_cookie.cookie['path']='/' fivem.net/postrej_2.har.xz\n",
      "Error reading har file /mnt/sdd/ducbui/projects/data2/consent/2024-10-12/pref_menu_scan_0k_20k/fivem.net/postrej_1.har.xz: 'DataFrame' object has no attribute 'request'\n",
      "Post rej cookie not contain consent cookie, fivem.net/postrej_0.har.xz not have cookie OptanonConsent of .fivem.net on path /\n",
      "Post rej cookie not contain consent cookie, platform.sh/postrej_0.har.xz not have cookie OptanonConsent of .platform.sh on path /\n",
      "Unmatch url and consent cookie domain: page_url='https://www.mylo.id/login?client_id=64113cra8ad0gtf88ls5ceue4d&redirect_uri=https%3A%2F%2Fwww.esquire.com%2Fauth%2Flogin&state=i9KEUeQO-W9L5m546dgGZyDmhJuueK4eodPk' consent_cookie.cookie['domain']='.esquire.com' consent_cookie.cookie['path']='/' esquire.com/postrej_5.har.xz\n",
      "Post rej cookie not contain consent cookie, cookielaw.org/postrej_0.har.xz not have cookie OptanonConsent of .cookielaw.org on path /\n",
      "Post rej cookie not contain consent cookie, nexstardigital.net/postrej_0.har.xz not have cookie OptanonConsent of .nexstardigital.com on path /\n",
      "Unmatch url and consent cookie domain: page_url='https://developer.moloco.cloud/' consent_cookie.cookie['domain']='.moloco.com' consent_cookie.cookie['path']='/' moloco.com/postrej_4.har.xz\n",
      "Error reading har file /mnt/sdd/ducbui/projects/data2/consent/2024-10-12/pref_menu_scan_0k_20k/docker.io/postrej_4.har.xz: 'DataFrame' object has no attribute 'request'\n",
      "Unmatch url and consent cookie domain: page_url='https://www.getenrolled.com/' consent_cookie.cookie['domain']='.webassign.net' consent_cookie.cookie['path']='/' webassign.net/postrej_5.har.xz\n",
      "Unmatch url and consent cookie domain: page_url='https://account.cengage.com/login?SAMLRequest=fZJdS8MwFIb%2FSsn92qRr9xHWyXAIAx2iTsS7kJ7VYHvS5aSb%2B%2FfGzsm8UMhVOOd5X55kdvXR1NEeHBmLBRMxZxGgtqXBqmCbp5vBhF3NZ6SaOm3lovNv%2BAC7DshHCyJwPqxdW6SuAfcIbm80bB5uC%2FbmfUsySVTYiDVgpSqItW0SIpv0tIRblY7yidgirV%2FydbUY5mMWLQPaoPJ9nR%2BK1rZD%2FwtU28ogi26s09D3KthW1QQsWi0LZkoxTfl4mk94NpmOpul4zEWW5sOhCANEHayQvEJfsJSn2UDwcJ6EkBmXPIuHGX9l0fNZS%2FqlJYhCkicTBescSqvIkETVAEmv5ePi7laGUdk66622NfsWJ%2FtAd0n4H6DOatn8rOBwOMT23auTxF4gnXwPQtzelOASavdYNoDqaFtX7VR5LP0suazw85LrkLla3tva6OOXw0b5vyuJWPQ3phxs%2B1HZIbWgzdZAyZL5d8bv%2FzH%2FBA%3D%3D&RelayState=%252Foauth2%252Fv1%252Fauthorize%252Fredirect%253Fokta_key%253DWxycpwCUXq0BsNM2vq73ZTNwTT3ftPFnMjDP0pe0ZrA&SigAlg=http%3A%2F%2Fwww.w3.org%2F2001%2F04%2Fxmldsig-more%23rsa-sha256&Signature=a9Ce%2FuGI%2FyvQHYls2Zo%2BmJRcjqjKPll0ZxN7eL6yY0t7BszzgPOxbU6ouj4IZd5FcbnsrlYQowWS8vKBTQjX2pLrdFQUj12QlieGzh7VXcWpFtD5Tpln%2Fwtyyea5XP1S0YS35DqZKqe%2BOR6mb3fzHEw6m2ELk8fxQYaJDxRoQrqDdzgZlr13CBO2SrXLGaCA935xq6NjQFr2e0VqjmCfKTt%2FsNwpXStrlwCCI0ECUdo%2BrlH7NewOq0Ox81OT6%2FU%2FjIGdR7gN0i5AvmMH7hFv5s4qrH15En4Tcq92w7dW5Rn5LChxkwXaJkMALOPhA%2Byom4zsFrPacpUaDU6EdQbEfQ%3D%3D' consent_cookie.cookie['domain']='.webassign.net' consent_cookie.cookie['path']='/' webassign.net/postrej_1.har.xz\n",
      "Unmatch url and consent cookie domain: page_url='https://account.cengage.com/login?SAMLRequest=fZLRSsMwFIZfpeR%2BbdK16xbWyXAIAx2iU8S7kJ7VYHtSc9LNvb2xc6IXCrkK53z%2Fz5fML97bJtqDI2OxZCLmLALUtjJYl%2BxhezWasovFnFTbpJ1c9v4F7%2BCtB%2FLRkgicD2uXFqlvwd2D2xsND3fXJXvxviOZJCpsxBqwVjXE2rYJkU0GWsKtSif5VOyQNk%2F5pl6O84JFq4A2qPxQ55uite3R%2FwI1tjbIoivrNAy9SrZTDQGL1quSmUrMRDHmfJxzXvBZkQleTGaFmEzDAFEPaySv0Jcs5Wk2EjycrRAy45JncZ4Vzyx6PGtJP7UEUUjyZKJkvUNpFRmSqFog6bW8X95cyzAqO2e91bZhX%2BLkEOh%2BEv4HqLNatjgrOBwOsX316iRxEEgn36MQtzcVuIS6PVYtoDraztVvqjpWfp78rPD9kpuQuV7d2sbo46fDVvm%2FK4lYDDemGu2GUdkjdaDNzkDFksVXxu%2F%2FsfgA&RelayState=%252Foauth2%252Fv1%252Fauthorize%252Fredirect%253Fokta_key%253DrngiZ1FHe_WXMh8Ylr4UEjrcJzsld-4BqkdYuV4iesw&SigAlg=http%3A%2F%2Fwww.w3.org%2F2001%2F04%2Fxmldsig-more%23rsa-sha256&Signature=kZXAsaPwCej0TWTiPB3P%2BOFQOvuE5eckXWJa1jUD7Gcv11b%2FvabB4jyLGKNPXF0T%2F5CdEJtrr1wLe9h4O9QN6sYa2jk4L1yLWd3wcJCkEaUHPCQKAZfmBoPWOP5A1RhkNkbgQTiGOzD4BOU3w%2BY7WVSRBy1%2Fl5%2FWghF1McNdoD0LWiqCN2tf9KqkWFIMFj%2BQNGgDUNmB3Q%2By%2FvnA%2BHpqHkKtg0BgEH1y%2FyFsD1kX4Oxv3sDaHzB5vTXEtae7vUHyqkHYmFi9kbNS9n9To5TEXrMY6%2BQTkFh3maHGtQZWGRPSo00m360j9mfg9TSJuWkG7veH8303lbidgj7lrBFx3A%3D%3D' consent_cookie.cookie['domain']='.webassign.net' consent_cookie.cookie['path']='/' webassign.net/postrej_3.har.xz\n",
      "Unmatch url and consent cookie domain: page_url='https://portal.watchguard.com/partners_sales_productlist' consent_cookie.cookie['domain']='.www.watchguard.com' consent_cookie.cookie['path']='/' watchguard.com/postrej_5.har.xz\n",
      "Error reading har file /mnt/sdd/ducbui/projects/data2/consent/2024-10-12/pref_menu_scan_0k_20k/cbsi.com/postrej_2.har.xz: 'DataFrame' object has no attribute 'request'\n",
      "Error reading har file /mnt/sdd/ducbui/projects/data2/consent/2024-10-12/pref_menu_scan_0k_20k/bendingspoonsapps.com/postrej_3.har.xz: 'DataFrame' object has no attribute 'request'\n",
      "Post rej cookie not contain consent cookie, videobyte.com/postrej_5.har.xz not have cookie OptanonConsent of .videobyte.com on path /\n",
      "Post rej cookie not contain consent cookie, videobyte.com/postrej_0.har.xz not have cookie OptanonConsent of .videobyte.com on path /\n",
      "Post rej cookie not contain consent cookie, videobyte.com/postrej_3.har.xz not have cookie OptanonConsent of .videobyte.com on path /\n",
      "Post rej cookie not contain consent cookie, videobyte.com/postrej_4.har.xz not have cookie OptanonConsent of .videobyte.com on path /\n",
      "Unmatch url and consent cookie domain: page_url='https://www.outbrain.com/privacy/privacy-policy-outbrain-dsp/' consent_cookie.cookie['domain']='.zemanta.com' consent_cookie.cookie['path']='/' zemanta.com/postrej_1.har.xz\n",
      "Unmatch url and consent cookie domain: page_url='https://secure.blogtalkradio.com/login.aspx?ReturnUrl=/&f=h' consent_cookie.cookie['domain']='.www.blogtalkradio.com' consent_cookie.cookie['path']='/' blogtalkradio.com/postrej_2.har.xz\n",
      "Post rej cookie not contain consent cookie, siteground.asia/postrej_1.har.xz not have cookie CookieConsent of world.siteground.com on path /\n",
      "Unmatch url and consent cookie domain: page_url='https://www.siteground.com/' consent_cookie.cookie['domain']='world.siteground.com' consent_cookie.cookie['path']='/' siteground.asia/postrej_0.har.xz\n",
      "Post rej cookie not contain consent cookie, ihsmarkit.com/postrej_0.har.xz not have cookie OptanonConsent of .spglobal.com on path /\n",
      "Post rej cookie not contain consent cookie, control4.com/postrej_0.har.xz not have cookie OptanonConsent of .control4.com on path /\n",
      "Unmatch url and consent cookie domain: page_url='https://www.snapone.com/legal/website-terms-of-use' consent_cookie.cookie['domain']='.control4.com' consent_cookie.cookie['path']='/' control4.com/postrej_3.har.xz\n",
      "Unmatch url and consent cookie domain: page_url='https://id.condenast.com/interaction/1C1L3VaSGCjdwzeuLNHzX/email?xid=5d23a3ce-0fe6-43e7-ad56-14c6ce527771&scope=openid%20offline_access&state=%7B%22redirectURL%22%3A%22%2F%22%7D&prompt=select_account%20consent&client_id=condenast.identity.fcbb99ce005faa120c9582b6fe02eca1&redirect_uri=https%3A%2F%2Fwww.self.com%2Fauth%2Fcomplete&response_type=code' consent_cookie.cookie['domain']='.self.com' consent_cookie.cookie['path']='/' self.com/postrej_5.har.xz\n",
      "Error reading har file /mnt/sdd/ducbui/projects/data2/consent/2024-10-12/pref_menu_scan_0k_20k/tickets.com/postrej_2.har.xz: 'DataFrame' object has no attribute 'request'\n",
      "Error reading har file /mnt/sdd/ducbui/projects/data2/consent/2024-10-12/pref_menu_scan_0k_20k/tickets.com/postrej_1.har.xz: 'DataFrame' object has no attribute 'request'\n",
      "Error reading har file /mnt/sdd/ducbui/projects/data2/consent/2024-10-12/pref_menu_scan_0k_20k/tickets.com/postrej_3.har.xz: 'DataFrame' object has no attribute 'request'\n",
      "Error reading har file /mnt/sdd/ducbui/projects/data2/consent/2024-10-12/pref_menu_scan_0k_20k/tickets.com/postrej_4.har.xz: 'DataFrame' object has no attribute 'request'\n",
      "Unmatch url and consent cookie domain: page_url='https://login.fronius.com/authenticationendpoint/login.do?client_id=mf_o9iTAyKemNLQTa6Sp6HYonCIa&commonAuthCallerPath=%2Foauth2%2Fauthorize&forceAuth=false&nonce=638641588394580800.NjM2MDcxOTQtNzY5ZC00ZDI4LWIzYzYtNDE0OTZjMzAxMTc3ZmM1Mzk4MDYtOGM3Zi00NjRhLWJmMDctODIxM2E5OTFhNmJj&passiveAuth=false&redirect_uri=https%3A%2F%2Fwww.solarweb.com%2FAccount%2FExternalLoginCallback&response_mode=form_post&response_type=code+id_token&scope=openid+profile+solarweb+solweb_browserid_c33ec5d0f83a42a6229759a220479173&state=OpenIdConnect.AuthenticationProperties%3DaR4bqSRs6TKZDxm4xrt7z0i8qU6a5nWL0bGxqxM5kiB9azt0wm2GeC67AvGSn5AGc25JYw-22J8bsmWwjV7ezjhNpmeEbQsn71wyCrxzSVOUx5qrjjIi6xn64Lfby1fZffUm8t7gUQPjDvonccjDKf6QLyuOseKiiNffgCsWJc7MrLxet_Z7Y4kuAh7FpYl8ITjXzQBnCk5mgYNUx5rBZIr2Sf9o8Bb2_u57F5jTo2oXnNcfsieV_uZwbQhQlW2Z-EmstQ&tenantDomain=carbon.super&x-client-SKU=ID_NET461&x-client-ver=6.9.0.0&sessionDataKey=cf462a15-4fdc-456b-b1b0-e91275a67ed3&relyingParty=mf_o9iTAyKemNLQTa6Sp6HYonCIa&type=oidc&sp=Solar.web+-+Portals&isSaaSApp=false&authenticators=SAMLSSOAuthenticator%3AFronius+Login%3BFroniusBasicAuthenticator%3ALOCAL' consent_cookie.cookie['domain']='www.solarweb.com' consent_cookie.cookie['path']='/' solarweb.com/postrej_2.har.xz\n",
      "Post rej cookie not contain consent cookie, bsigroup.com/postrej_0.har.xz not have cookie OptanonConsent of .www.bsigroup.com on path /\n",
      "Post rej cookie not contain consent cookie, mynewsdesk.com/postrej_0.har.xz not have cookie OptanonConsent of .mynewsdesk.com on path /\n",
      "Error reading har file /mnt/sdd/ducbui/projects/data2/consent/2024-10-12/pref_menu_scan_0k_20k/poly.com/postrej_3.har.xz: 'DataFrame' object has no attribute 'request'\n",
      "Domain path mismatch: .www.nintendo.com domain's path /en-gb/ not match url https://www.nintendo.com/de-at/\n",
      "Unmatch url and consent cookie domain: page_url='https://www.nintendo.com/de-at/' consent_cookie.cookie['domain']='.www.nintendo.com' consent_cookie.cookie['path']='/en-gb/' nintendo.co.uk/postrej_5.har.xz\n",
      "Post rej cookie not contain consent cookie, dxc.com/postrej_0.har.xz not have cookie OptanonConsent of .dxc.com on path /\n",
      "Post rej cookie not contain consent cookie, redbull.com/postrej_2.har.xz not have cookie OptanonConsent of .www.redbull.com on path /us-en\n",
      "Post rej cookie not contain consent cookie, redbull.com/postrej_5.har.xz not have cookie OptanonConsent of .www.redbull.com on path /us-en\n",
      "Post rej cookie not contain consent cookie, redbull.com/postrej_1.har.xz not have cookie OptanonConsent of .www.redbull.com on path /us-en\n",
      "Post rej cookie not contain consent cookie, redbull.com/postrej_0.har.xz not have cookie OptanonConsent of .www.redbull.com on path /us-en\n",
      "Post rej cookie not contain consent cookie, redbull.com/postrej_3.har.xz not have cookie OptanonConsent of .www.redbull.com on path /us-en\n",
      "Post rej cookie not contain consent cookie, redbull.com/postrej_4.har.xz not have cookie OptanonConsent of .www.redbull.com on path /us-en\n",
      "Unmatch url and consent cookie domain: page_url='https://www.burberry.com/' consent_cookie.cookie['domain']='.int.burberry.com' consent_cookie.cookie['path']='/' burberry.com/postrej_0.har.xz\n",
      "Post rej cookie not contain consent cookie, parsec.app/postrej_0.har.xz not have cookie OptanonConsent of .parsec.app on path /\n",
      "Post rej cookie not contain consent cookie, themeforest.net/postrej_0.har.xz not have cookie CookieConsent of themeforest.net on path /\n",
      "Unmatch url and consent cookie domain: page_url='https://preview.themeforest.net/item/the7-responsive-multipurpose-wordpress-theme/full_screen_preview/5556590' consent_cookie.cookie['domain']='themeforest.net' consent_cookie.cookie['path']='/' themeforest.net/postrej_3.har.xz\n",
      "Unmatch url and consent cookie domain: page_url='https://eu.account.battle.net/login/en-us/?ref=https://oauth.battle.net/authorize?response_type%3Dcode%26redirect_uri%3Dhttps%253A%252F%252Fworldofwarcraft.blizzard.com%252Fauth%26scope%3Dwow.profile%2520email%2520primary-address%2520private_flags%2520name%2520account.basic%2520account.standard%2520account.standard%253Amodify%2520account.full%2520commerce.profile.basic%2520commerce.entitlements%26state%3DLjmiIvFV-8Kl8ccfKrlPL4FHxhUWy5t12c9M%26client_id%3De674efa0abaa423cb7805d3c41838416&app=oauth&hostingApp=oauth' consent_cookie.cookie['domain']='.blizzard.com' consent_cookie.cookie['path']='/' worldofwarcraft.com/postrej_3.har.xz\n",
      "Domain path mismatch: .www.carrier.com domain's path /carrier not match url https://www.carrier.com/residential/en/us/products/indoor-air-quality/\n",
      "Unmatch url and consent cookie domain: page_url='https://www.carrier.com/residential/en/us/products/indoor-air-quality/' consent_cookie.cookie['domain']='.www.carrier.com' consent_cookie.cookie['path']='/carrier' carrier.com/postrej_2.har.xz\n",
      "Domain path mismatch: .www.carrier.com domain's path /carrier not match url https://www.carrier.com/refrigeration/en/worldwide/\n",
      "Unmatch url and consent cookie domain: page_url='https://www.carrier.com/refrigeration/en/worldwide/' consent_cookie.cookie['domain']='.www.carrier.com' consent_cookie.cookie['path']='/carrier' carrier.com/postrej_1.har.xz\n",
      "Post rej cookie not contain consent cookie, mtv.com/postrej_0.har.xz not have cookie OptanonConsent of .mtv.com on path /\n",
      "Unmatch url and consent cookie domain: page_url='https://login.techsmith.com/u/login/identifier?state=hKFo2SBOcjlJUFA0WnYxZy1YVV9NQ3lfSVQzVXhwcF9pVTl3bKFur3VuaXZlcnNhbC1sb2dpbqN0aWTZIGplSUROc3RJT25nTEpFZVdDLVRGd1Mwd2UyTjlUam9to2NpZNkgMExSQzFJMXhDTFEzajQwSFRUM3ZDMUE4QWh1d2p5MDI&ui_locales=en-US' consent_cookie.cookie['domain']='.screencast.com' consent_cookie.cookie['path']='/' screencast.com/postrej_1.har.xz\n",
      "Unmatch url and consent cookie domain: page_url='https://login.techsmith.com/u/login/identifier?state=hKFo2SBqRHV2SExjQVVPcUpBNTJ5cUt6UV9NU0xKNnZVRDdVWaFur3VuaXZlcnNhbC1sb2dpbqN0aWTZIFdnc0xkVWF3LUw1QlI5VHdwSE85OWlVdUtjNWUtMHNjo2NpZNkgMExSQzFJMXhDTFEzajQwSFRUM3ZDMUE4QWh1d2p5MDI&ui_locales=en-US' consent_cookie.cookie['domain']='.screencast.com' consent_cookie.cookie['path']='/' screencast.com/postrej_4.har.xz\n",
      "Unmatch url and consent cookie domain: page_url='https://community.opentextcybersecurity.com/' consent_cookie.cookie['domain']='.webroot.com' consent_cookie.cookie['path']='/' webroot.com/postrej_5.har.xz\n",
      "Unmatch url and consent cookie domain: page_url='https://id.condenast.com/interaction/UlZfv59ywlIJEEh02Q1R7/email?xid=0b383c7e-8a1b-4418-9f75-8ef23bd3f9ad&scope=openid%20offline_access&state=%7B%22redirectURL%22%3A%22https%3A%2F%2Fwww.allure.com%2F%22%7D&prompt=select_account%20consent&client_id=condenast.identity.a318b40d8565866bb6fb642842b94566&redirect_uri=https%3A%2F%2Fwww.allure.com%2Fauth%2Fcomplete&response_type=code' consent_cookie.cookie['domain']='.allure.com' consent_cookie.cookie['path']='/' allure.com/postrej_5.har.xz\n",
      "Unmatch url and consent cookie domain: page_url='https://privacyportal.onetrust.com/webform/fa6fb68e-f740-462d-904a-2646fdf07448/0ddaa1e6-701b-4bbd-9ced-56e8b08aec82' consent_cookie.cookie['domain']='.pantheon.io' consent_cookie.cookie['path']='/' pantheonsite.io/postrej_2.har.xz\n",
      "Domain path mismatch: .www2.deloitte.com domain's path /us/ not match url https://www2.deloitte.com/afrique/fr/footerlinks/deloitte-rdc.html?icid=site_selector_cd\n",
      "Unmatch url and consent cookie domain: page_url='https://www2.deloitte.com/afrique/fr/footerlinks/deloitte-rdc.html?icid=site_selector_cd' consent_cookie.cookie['domain']='.www2.deloitte.com' consent_cookie.cookie['path']='/us/' deloitte.com/postrej_2.har.xz\n",
      "Post rej cookie not contain consent cookie, deloitte.com/postrej_0.har.xz not have cookie OptanonConsent of .www2.deloitte.com on path /us/\n",
      "Post rej cookie not contain consent cookie, hpdaas.com/postrej_0.har.xz not have cookie OptanonConsent of .hpdaas.com on path /\n",
      "Post rej cookie not contain consent cookie, starplus.com/postrej_0.har.xz not have cookie OptanonConsent of .www.apps.disneyplus.com on path /\n",
      "Written to /mnt/sdd/ducbui/projects/data2/consent/2024-10-12/scan_0k_20k.parquet\n",
      "Number sent cookies read: 2,570,573\n"
     ]
    },
    {
     "data": {
      "text/html": [
       "<div>\n",
       "<style scoped>\n",
       "    .dataframe tbody tr th:only-of-type {\n",
       "        vertical-align: middle;\n",
       "    }\n",
       "\n",
       "    .dataframe tbody tr th {\n",
       "        vertical-align: top;\n",
       "    }\n",
       "\n",
       "    .dataframe thead th {\n",
       "        text-align: right;\n",
       "    }\n",
       "</style>\n",
       "<table border=\"1\" class=\"dataframe\">\n",
       "  <thead>\n",
       "    <tr style=\"text-align: right;\">\n",
       "      <th></th>\n",
       "      <th>name</th>\n",
       "      <th>value</th>\n",
       "      <th>domain</th>\n",
       "      <th>path</th>\n",
       "      <th>expires</th>\n",
       "      <th>size</th>\n",
       "      <th>httpOnly</th>\n",
       "      <th>secure</th>\n",
       "      <th>session</th>\n",
       "      <th>sameSite</th>\n",
       "      <th>priority</th>\n",
       "      <th>sameParty</th>\n",
       "      <th>sourceScheme</th>\n",
       "      <th>sourcePort</th>\n",
       "      <th>request_url</th>\n",
       "      <th>site</th>\n",
       "      <th>page_url</th>\n",
       "      <th>partitionKey</th>\n",
       "    </tr>\n",
       "  </thead>\n",
       "  <tbody>\n",
       "    <tr>\n",
       "      <th>0</th>\n",
       "      <td>IDE</td>\n",
       "      <td>AHWqTUnn-Ld2kM2VuoIlt7zKqvb4ejlFoUPgzuqHhNtQrz...</td>\n",
       "      <td>.doubleclick.net</td>\n",
       "      <td>/</td>\n",
       "      <td>1.763108e+09</td>\n",
       "      <td>67</td>\n",
       "      <td>True</td>\n",
       "      <td>True</td>\n",
       "      <td>False</td>\n",
       "      <td>None</td>\n",
       "      <td>Medium</td>\n",
       "      <td>False</td>\n",
       "      <td>Secure</td>\n",
       "      <td>443</td>\n",
       "      <td>https://td.doubleclick.net/td/rul/862413881?ra...</td>\n",
       "      <td>nextiva.com</td>\n",
       "      <td>https://www.nextiva.com/integrations</td>\n",
       "      <td>NaN</td>\n",
       "    </tr>\n",
       "    <tr>\n",
       "      <th>1</th>\n",
       "      <td>_vis_opt_s</td>\n",
       "      <td>1%7C</td>\n",
       "      <td>.nextiva.com</td>\n",
       "      <td>/</td>\n",
       "      <td>1.737188e+09</td>\n",
       "      <td>14</td>\n",
       "      <td>False</td>\n",
       "      <td>False</td>\n",
       "      <td>False</td>\n",
       "      <td>NaN</td>\n",
       "      <td>Medium</td>\n",
       "      <td>False</td>\n",
       "      <td>Secure</td>\n",
       "      <td>443</td>\n",
       "      <td>https://www.nextiva.com/wp/wp-content/themes/n...</td>\n",
       "      <td>nextiva.com</td>\n",
       "      <td>https://www.nextiva.com/integrations</td>\n",
       "      <td>NaN</td>\n",
       "    </tr>\n",
       "    <tr>\n",
       "      <th>2</th>\n",
       "      <td>lidc</td>\n",
       "      <td>\"b=TGST03:s=T:r=T:a=T:p=T:g=3351:u=1:x=1:i=172...</td>\n",
       "      <td>.linkedin.com</td>\n",
       "      <td>/</td>\n",
       "      <td>1.728635e+09</td>\n",
       "      <td>112</td>\n",
       "      <td>False</td>\n",
       "      <td>True</td>\n",
       "      <td>False</td>\n",
       "      <td>None</td>\n",
       "      <td>Medium</td>\n",
       "      <td>False</td>\n",
       "      <td>Secure</td>\n",
       "      <td>443</td>\n",
       "      <td>https://px.ads.linkedin.com/wa/</td>\n",
       "      <td>nextiva.com</td>\n",
       "      <td>https://www.nextiva.com/integrations</td>\n",
       "      <td>NaN</td>\n",
       "    </tr>\n",
       "  </tbody>\n",
       "</table>\n",
       "</div>"
      ],
      "text/plain": [
       "         name                                              value  \\\n",
       "0         IDE  AHWqTUnn-Ld2kM2VuoIlt7zKqvb4ejlFoUPgzuqHhNtQrz...   \n",
       "1  _vis_opt_s                                               1%7C   \n",
       "2        lidc  \"b=TGST03:s=T:r=T:a=T:p=T:g=3351:u=1:x=1:i=172...   \n",
       "\n",
       "             domain path       expires  size  httpOnly  secure  session  \\\n",
       "0  .doubleclick.net    /  1.763108e+09    67      True    True    False   \n",
       "1      .nextiva.com    /  1.737188e+09    14     False   False    False   \n",
       "2     .linkedin.com    /  1.728635e+09   112     False    True    False   \n",
       "\n",
       "  sameSite priority  sameParty sourceScheme  sourcePort  \\\n",
       "0     None   Medium      False       Secure         443   \n",
       "1      NaN   Medium      False       Secure         443   \n",
       "2     None   Medium      False       Secure         443   \n",
       "\n",
       "                                         request_url         site  \\\n",
       "0  https://td.doubleclick.net/td/rul/862413881?ra...  nextiva.com   \n",
       "1  https://www.nextiva.com/wp/wp-content/themes/n...  nextiva.com   \n",
       "2                    https://px.ads.linkedin.com/wa/  nextiva.com   \n",
       "\n",
       "                               page_url partitionKey  \n",
       "0  https://www.nextiva.com/integrations          NaN  \n",
       "1  https://www.nextiva.com/integrations          NaN  \n",
       "2  https://www.nextiva.com/integrations          NaN  "
      ]
     },
     "execution_count": 8,
     "metadata": {},
     "output_type": "execute_result"
    }
   ],
   "source": [
    "# import sys; import importlib; importlib.reload(sys.modules['consent.data.pref_menu_scan.postrej_cookie_reader'])\n",
    "from consent.data.pref_menu_scan.har_cookie_reader import read_postrej_sent_cookies_in_scans\n",
    "\n",
    "cookies_cache_file = SCAN_ROOT_DIR / f'scan{output_suffix}.parquet'  # 'raw_postrej_sent_cookies.parquet'\n",
    "\n",
    "if not cookies_cache_file.exists() or overwrite:\n",
    "    sent_cookies = read_postrej_sent_cookies_in_scans(SCAN_DIRS)\n",
    "    if cookies_cache_file: sent_cookies.to_parquet(cookies_cache_file); print(f\"Written to {cookies_cache_file}\")\n",
    "else:\n",
    "    sent_cookies = pd.read_parquet(cookies_cache_file)\n",
    "\n",
    "print(f\"Number sent cookies read: {len(sent_cookies):,d}\")\n",
    "sent_cookies.head(3)"
   ]
  },
  {
   "cell_type": "code",
   "execution_count": 9,
   "metadata": {},
   "outputs": [],
   "source": [
    "# prj = post-rejection\n",
    "# Old way: consider all flows\n",
    "# prj_sent_cookies = sent_cookies[['domain', 'expires', 'name', 'path', 'sameSite', 'secure', 'value', 'request_url', 'site']].drop_duplicates()\n",
    "# prj_br_cookies = prj_sent_cookies[['domain', 'expires', 'name', 'path', 'sameSite', 'secure', 'site']].drop_duplicates()\n",
    "# New way: consider cookies only (ignore the request url, which is not nused in get_comply cookie matching anyway)\n",
    "prj_sent_cookies = sent_cookies[['name', 'domain', 'path', 'site']].drop_duplicates()"
   ]
  },
  {
   "cell_type": "code",
   "execution_count": 10,
   "metadata": {},
   "outputs": [],
   "source": [
    "# print(f\"Num captured sent cookies: {len(sent_cookies):,d}\")\n",
    "# print(f\"Num unique captured cookies: {len(prj_sent_cookies):,d}\")\n",
    "# n_br_cookies = len(prj_br_cookies)\n",
    "# print(f\"Num unique browser cookies: {n_br_cookies:,d} on {prj_br_cookies.site.nunique():,d} websites\") # and {sent_cookies.page_url.nunique():,d} pages\")"
   ]
  },
  {
   "cell_type": "markdown",
   "metadata": {},
   "source": [
    "## Analyze cookies compliance    "
   ]
  },
  {
   "cell_type": "code",
   "execution_count": null,
   "metadata": {},
   "outputs": [
    {
     "name": "stdout",
     "output_type": "stream",
     "text": [
      "Num sent cookies in the cookie prefs sites: 49,018\n"
     ]
    }
   ],
   "source": [
    "sites = set(cookie_prefs.site)\n",
    "print(f\"Num sent cookies in the cookie prefs sites: {len(prj_sent_cookies[prj_sent_cookies.site.isin(sites)]):,d}\")"
   ]
  },
  {
   "cell_type": "code",
   "execution_count": 12,
   "metadata": {
    "tags": []
   },
   "outputs": [
    {
     "name": "stdout",
     "output_type": "stream",
     "text": [
      "faster: for cookie_pref in cookie_pref_set[cookie_pref_set.name == acookie['name']]:\n"
     ]
    },
    {
     "name": "stderr",
     "output_type": "stream",
     "text": [
      "  1%|          | 7/1368 [00:00<00:46, 29.34it/s]"
     ]
    },
    {
     "name": "stderr",
     "output_type": "stream",
     "text": [
      " 88%|████████▊ | 1210/1368 [03:07<00:07, 21.64it/s]"
     ]
    },
    {
     "name": "stdout",
     "output_type": "stream",
     "text": [
      "Error fuzzy name match pref_name='mf_[0cc3b612-a97d-4bd0-b496-3ed0686d4603]' cookie_name='panoramaId' bad character range d-4 at position 20\n",
      "Error fuzzy name match pref_name='mf_[0cc3b612-a97d-4bd0-b496-3ed0686d4603]' cookie_name='_cc_id' bad character range d-4 at position 20\n",
      "Error fuzzy name match pref_name='mf_[0cc3b612-a97d-4bd0-b496-3ed0686d4603]' cookie_name='__eoi' bad character range d-4 at position 20\n",
      "Error fuzzy name match pref_name='mf_[0cc3b612-a97d-4bd0-b496-3ed0686d4603]' cookie_name='pxcts' bad character range d-4 at position 20\n",
      "Error fuzzy name match pref_name='mf_[0cc3b612-a97d-4bd0-b496-3ed0686d4603]' cookie_name='_px3' bad character range d-4 at position 20\n",
      "Error fuzzy name match pref_name='mf_[0cc3b612-a97d-4bd0-b496-3ed0686d4603]' cookie_name='_ga_64H4Z6TSBF' bad character range d-4 at position 20\n",
      "Error fuzzy name match pref_name='mf_[0cc3b612-a97d-4bd0-b496-3ed0686d4603]' cookie_name='_pxvid' bad character range d-4 at position 20\n",
      "Error fuzzy name match pref_name='mf_[0cc3b612-a97d-4bd0-b496-3ed0686d4603]' cookie_name='_ga_0FHHFDE9TG' bad character range d-4 at position 20\n",
      "Error fuzzy name match pref_name='mf_[0cc3b612-a97d-4bd0-b496-3ed0686d4603]' cookie_name='OptanonAlertBoxClosed' bad character range d-4 at position 20\n",
      "Error fuzzy name match pref_name='mf_[0cc3b612-a97d-4bd0-b496-3ed0686d4603]' cookie_name='panoramaId_expiry' bad character range d-4 at position 20\n",
      "Error fuzzy name match pref_name='mf_[0cc3b612-a97d-4bd0-b496-3ed0686d4603]' cookie_name='_gcl_au' bad character range d-4 at position 20\n",
      "Error fuzzy name match pref_name='mf_[0cc3b612-a97d-4bd0-b496-3ed0686d4603]' cookie_name='_ga' bad character range d-4 at position 20\n",
      "Error fuzzy name match pref_name='mf_[0cc3b612-a97d-4bd0-b496-3ed0686d4603]' cookie_name='s_cc' bad character range d-4 at position 20\n",
      "Error fuzzy name match pref_name='mf_[0cc3b612-a97d-4bd0-b496-3ed0686d4603]' cookie_name='OptanonConsent' bad character range d-4 at position 20\n",
      "Error fuzzy name match pref_name='mf_[0cc3b612-a97d-4bd0-b496-3ed0686d4603]' cookie_name='panoramaIdType' bad character range d-4 at position 20\n",
      "Error fuzzy name match pref_name='mf_[0cc3b612-a97d-4bd0-b496-3ed0686d4603]' cookie_name='__cf_bm' bad character range d-4 at position 20\n",
      "Error fuzzy name match pref_name='mf_[0cc3b612-a97d-4bd0-b496-3ed0686d4603]' cookie_name='_ga_T3MKEZBW59' bad character range d-4 at position 20\n",
      "Error fuzzy name match pref_name='mf_[0cc3b612-a97d-4bd0-b496-3ed0686d4603]' cookie_name='lotame_domain_check' bad character range d-4 at position 20\n",
      "Error fuzzy name match pref_name='mf_[0cc3b612-a97d-4bd0-b496-3ed0686d4603]' cookie_name='aelastsite' bad character range d-4 at position 20\n",
      "Error fuzzy name match pref_name='mf_[0cc3b612-a97d-4bd0-b496-3ed0686d4603]' cookie_name='_pxhd' bad character range d-4 at position 20\n",
      "Error fuzzy name match pref_name='mf_[0cc3b612-a97d-4bd0-b496-3ed0686d4603]' cookie_name='whereYouLeftOffData' bad character range d-4 at position 20\n",
      "Error fuzzy name match pref_name='mf_[0cc3b612-a97d-4bd0-b496-3ed0686d4603]' cookie_name='userCount' bad character range d-4 at position 20\n",
      "Error fuzzy name match pref_name='mf_[0cc3b612-a97d-4bd0-b496-3ed0686d4603]' cookie_name='userid' bad character range d-4 at position 20\n",
      "Error fuzzy name match pref_name='mf_[0cc3b612-a97d-4bd0-b496-3ed0686d4603]' cookie_name='AWSALBTG' bad character range d-4 at position 20\n",
      "Error fuzzy name match pref_name='mf_[0cc3b612-a97d-4bd0-b496-3ed0686d4603]' cookie_name='AWSALBTGCORS' bad character range d-4 at position 20\n",
      "Error fuzzy name match pref_name='mf_[0cc3b612-a97d-4bd0-b496-3ed0686d4603]' cookie_name='UID' bad character range d-4 at position 20\n",
      "Error fuzzy name match pref_name='mf_[0cc3b612-a97d-4bd0-b496-3ed0686d4603]' cookie_name='DSID' bad character range d-4 at position 20\n",
      "Error fuzzy name match pref_name='mf_[0cc3b612-a97d-4bd0-b496-3ed0686d4603]' cookie_name='XID' bad character range d-4 at position 20\n",
      "Error fuzzy name match pref_name='mf_[0cc3b612-a97d-4bd0-b496-3ed0686d4603]' cookie_name='ad-privacy' bad character range d-4 at position 20\n",
      "Error fuzzy name match pref_name='mf_[0cc3b612-a97d-4bd0-b496-3ed0686d4603]' cookie_name='PugT' bad character range d-4 at position 20\n",
      "Error fuzzy name match pref_name='mf_[0cc3b612-a97d-4bd0-b496-3ed0686d4603]' cookie_name='CMID' bad character range d-4 at position 20\n",
      "Error fuzzy name match pref_name='mf_[0cc3b612-a97d-4bd0-b496-3ed0686d4603]' cookie_name='KRTBCOOKIE_632' bad character range d-4 at position 20\n",
      "Error fuzzy name match pref_name='mf_[0cc3b612-a97d-4bd0-b496-3ed0686d4603]' cookie_name='DPSync4' bad character range d-4 at position 20\n",
      "Error fuzzy name match pref_name='mf_[0cc3b612-a97d-4bd0-b496-3ed0686d4603]' cookie_name='KRTBCOOKIE_188' bad character range d-4 at position 20\n",
      "Error fuzzy name match pref_name='mf_[0cc3b612-a97d-4bd0-b496-3ed0686d4603]' cookie_name='KRTBCOOKIE_153' bad character range d-4 at position 20\n",
      "Error fuzzy name match pref_name='mf_[0cc3b612-a97d-4bd0-b496-3ed0686d4603]' cookie_name='receive-cookie-deprecation' bad character range d-4 at position 20\n",
      "Error fuzzy name match pref_name='mf_[0cc3b612-a97d-4bd0-b496-3ed0686d4603]' cookie_name='KRTBCOOKIE_377' bad character range d-4 at position 20\n",
      "Error fuzzy name match pref_name='mf_[0cc3b612-a97d-4bd0-b496-3ed0686d4603]' cookie_name='ad-id' bad character range d-4 at position 20\n",
      "Error fuzzy name match pref_name='mf_[0cc3b612-a97d-4bd0-b496-3ed0686d4603]' cookie_name='SyncRTB4' bad character range d-4 at position 20\n",
      "Error fuzzy name match pref_name='mf_[0cc3b612-a97d-4bd0-b496-3ed0686d4603]' cookie_name='khaos' bad character range d-4 at position 20\n",
      "Error fuzzy name match pref_name='mf_[0cc3b612-a97d-4bd0-b496-3ed0686d4603]' cookie_name='KADUSERCOOKIE' bad character range d-4 at position 20\n",
      "Error fuzzy name match pref_name='mf_[0cc3b612-a97d-4bd0-b496-3ed0686d4603]' cookie_name='pi' bad character range d-4 at position 20\n",
      "Error fuzzy name match pref_name='mf_[0cc3b612-a97d-4bd0-b496-3ed0686d4603]' cookie_name='KRTBCOOKIE_57' bad character range d-4 at position 20\n",
      "Error fuzzy name match pref_name='mf_[0cc3b612-a97d-4bd0-b496-3ed0686d4603]' cookie_name='yieldmo_id' bad character range d-4 at position 20\n",
      "Error fuzzy name match pref_name='mf_[0cc3b612-a97d-4bd0-b496-3ed0686d4603]' cookie_name='KRTBCOOKIE_80' bad character range d-4 at position 20\n",
      "Error fuzzy name match pref_name='mf_[0cc3b612-a97d-4bd0-b496-3ed0686d4603]' cookie_name='audit_p' bad character range d-4 at position 20\n",
      "Error fuzzy name match pref_name='mf_[0cc3b612-a97d-4bd0-b496-3ed0686d4603]' cookie_name='chkChromeAb67Sec' bad character range d-4 at position 20\n",
      "Error fuzzy name match pref_name='mf_[0cc3b612-a97d-4bd0-b496-3ed0686d4603]' cookie_name='KRTBCOOKIE_391' bad character range d-4 at position 20\n",
      "Error fuzzy name match pref_name='mf_[0cc3b612-a97d-4bd0-b496-3ed0686d4603]' cookie_name='TapAd_TS' bad character range d-4 at position 20\n",
      "Error fuzzy name match pref_name='mf_[0cc3b612-a97d-4bd0-b496-3ed0686d4603]' cookie_name='CMPRO' bad character range d-4 at position 20\n",
      "Error fuzzy name match pref_name='mf_[0cc3b612-a97d-4bd0-b496-3ed0686d4603]' cookie_name='audit' bad character range d-4 at position 20\n",
      "Error fuzzy name match pref_name='mf_[0cc3b612-a97d-4bd0-b496-3ed0686d4603]' cookie_name='khaos_p' bad character range d-4 at position 20\n",
      "Error fuzzy name match pref_name='mf_[0cc3b612-a97d-4bd0-b496-3ed0686d4603]' cookie_name='SPugT' bad character range d-4 at position 20\n",
      "Error fuzzy name match pref_name='mf_[0cc3b612-a97d-4bd0-b496-3ed0686d4603]' cookie_name='TapAd_3WAY_SYNCS' bad character range d-4 at position 20\n",
      "Error fuzzy name match pref_name='mf_[0cc3b612-a97d-4bd0-b496-3ed0686d4603]' cookie_name='ljt_reader' bad character range d-4 at position 20\n",
      "Error fuzzy name match pref_name='mf_[0cc3b612-a97d-4bd0-b496-3ed0686d4603]' cookie_name='re_sync' bad character range d-4 at position 20\n",
      "Error fuzzy name match pref_name='mf_[0cc3b612-a97d-4bd0-b496-3ed0686d4603]' cookie_name='ipc' bad character range d-4 at position 20\n",
      "Error fuzzy name match pref_name='mf_[0cc3b612-a97d-4bd0-b496-3ed0686d4603]' cookie_name='CMPS' bad character range d-4 at position 20\n",
      "Error fuzzy name match pref_name='mf_[0cc3b612-a97d-4bd0-b496-3ed0686d4603]' cookie_name='A3' bad character range d-4 at position 20\n",
      "Error fuzzy name match pref_name='mf_[0cc3b612-a97d-4bd0-b496-3ed0686d4603]' cookie_name='TapAd_DID' bad character range d-4 at position 20\n",
      "Error fuzzy name match pref_name='mf_[0cc3b612-a97d-4bd0-b496-3ed0686d4603]' cookie_name='KRTBCOOKIE_32' bad character range d-4 at position 20\n",
      "Error fuzzy name match pref_name='mf_[0cc3b612-a97d-4bd0-b496-3ed0686d4603]' cookie_name='C' bad character range d-4 at position 20\n",
      "Error fuzzy name match pref_name='mf_[0cc3b612-a97d-4bd0-b496-3ed0686d4603]' cookie_name='_cc_dc' bad character range d-4 at position 20\n",
      "Error fuzzy name match pref_name='mf_[0cc3b612-a97d-4bd0-b496-3ed0686d4603]' cookie_name='KTPCACOOKIE' bad character range d-4 at position 20\n",
      "Error fuzzy name match pref_name='mf_[0cc3b612-a97d-4bd0-b496-3ed0686d4603]' cookie_name='KCCH' bad character range d-4 at position 20\n",
      "Error fuzzy name match pref_name='mf_[0cc3b612-a97d-4bd0-b496-3ed0686d4603]' cookie_name='_cc_id' bad character range d-4 at position 20\n",
      "Error fuzzy name match pref_name='mf_[0cc3b612-a97d-4bd0-b496-3ed0686d4603]' cookie_name='SEUNCY' bad character range d-4 at position 20\n",
      "Error fuzzy name match pref_name='mf_[0cc3b612-a97d-4bd0-b496-3ed0686d4603]' cookie_name='AFFICHE_W' bad character range d-4 at position 20\n",
      "Error fuzzy name match pref_name='mf_[0cc3b612-a97d-4bd0-b496-3ed0686d4603]' cookie_name='ar_debug' bad character range d-4 at position 20\n",
      "Error fuzzy name match pref_name='mf_[0cc3b612-a97d-4bd0-b496-3ed0686d4603]' cookie_name='GLOBALID' bad character range d-4 at position 20\n"
     ]
    },
    {
     "name": "stderr",
     "output_type": "stream",
     "text": [
      "100%|██████████| 1368/1368 [03:28<00:00,  6.55it/s]\n"
     ]
    },
    {
     "data": {
      "text/html": [
       "<div>\n",
       "<style scoped>\n",
       "    .dataframe tbody tr th:only-of-type {\n",
       "        vertical-align: middle;\n",
       "    }\n",
       "\n",
       "    .dataframe tbody tr th {\n",
       "        vertical-align: top;\n",
       "    }\n",
       "\n",
       "    .dataframe thead th {\n",
       "        text-align: right;\n",
       "    }\n",
       "</style>\n",
       "<table border=\"1\" class=\"dataframe\">\n",
       "  <thead>\n",
       "    <tr style=\"text-align: right;\">\n",
       "      <th></th>\n",
       "      <th>name</th>\n",
       "      <th>domain</th>\n",
       "      <th>path</th>\n",
       "      <th>site</th>\n",
       "      <th>comply</th>\n",
       "    </tr>\n",
       "  </thead>\n",
       "  <tbody>\n",
       "    <tr>\n",
       "      <th>0</th>\n",
       "      <td>IDE</td>\n",
       "      <td>.doubleclick.net</td>\n",
       "      <td>/</td>\n",
       "      <td>nextiva.com</td>\n",
       "      <td>incorrect</td>\n",
       "    </tr>\n",
       "    <tr>\n",
       "      <th>1</th>\n",
       "      <td>_vis_opt_s</td>\n",
       "      <td>.nextiva.com</td>\n",
       "      <td>/</td>\n",
       "      <td>nextiva.com</td>\n",
       "      <td>incorrect</td>\n",
       "    </tr>\n",
       "    <tr>\n",
       "      <th>2</th>\n",
       "      <td>lidc</td>\n",
       "      <td>.linkedin.com</td>\n",
       "      <td>/</td>\n",
       "      <td>nextiva.com</td>\n",
       "      <td>incorrect</td>\n",
       "    </tr>\n",
       "    <tr>\n",
       "      <th>3</th>\n",
       "      <td>_an_uid</td>\n",
       "      <td>www.nextiva.com</td>\n",
       "      <td>/</td>\n",
       "      <td>nextiva.com</td>\n",
       "      <td>omit</td>\n",
       "    </tr>\n",
       "    <tr>\n",
       "      <th>4</th>\n",
       "      <td>_gcl_au</td>\n",
       "      <td>.nextiva.com</td>\n",
       "      <td>/</td>\n",
       "      <td>nextiva.com</td>\n",
       "      <td>incorrect</td>\n",
       "    </tr>\n",
       "  </tbody>\n",
       "</table>\n",
       "</div>"
      ],
      "text/plain": [
       "         name            domain path         site     comply\n",
       "0         IDE  .doubleclick.net    /  nextiva.com  incorrect\n",
       "1  _vis_opt_s      .nextiva.com    /  nextiva.com  incorrect\n",
       "2        lidc     .linkedin.com    /  nextiva.com  incorrect\n",
       "3     _an_uid   www.nextiva.com    /  nextiva.com       omit\n",
       "4     _gcl_au      .nextiva.com    /  nextiva.com  incorrect"
      ]
     },
     "execution_count": 12,
     "metadata": {},
     "output_type": "execute_result"
    }
   ],
   "source": [
    "import sys; import importlib; importlib.reload(sys.modules['consent.consistency.comply_util'])\n",
    "from consent.consistency.comply_util import get_comply\n",
    "\n",
    "print(\"faster: for cookie_pref in cookie_pref_set[cookie_pref_set.name == acookie['name']]:\")\n",
    "all_complies = get_comply(cookie_prefs, prj_sent_cookies)\n",
    "all_complies.head()"
   ]
  },
  {
   "cell_type": "code",
   "execution_count": null,
   "metadata": {},
   "outputs": [
    {
     "data": {
      "text/html": [
       "<div>\n",
       "<style scoped>\n",
       "    .dataframe tbody tr th:only-of-type {\n",
       "        vertical-align: middle;\n",
       "    }\n",
       "\n",
       "    .dataframe tbody tr th {\n",
       "        vertical-align: top;\n",
       "    }\n",
       "\n",
       "    .dataframe thead th {\n",
       "        text-align: right;\n",
       "    }\n",
       "</style>\n",
       "<table border=\"1\" class=\"dataframe\">\n",
       "  <thead>\n",
       "    <tr style=\"text-align: right;\">\n",
       "      <th></th>\n",
       "      <th>comply_type</th>\n",
       "      <th>num_sites</th>\n",
       "      <th>num_sites_percent</th>\n",
       "      <th>num_cookies</th>\n",
       "      <th>num_cookies_percent</th>\n",
       "      <th>num_cookies_per_site</th>\n",
       "    </tr>\n",
       "  </thead>\n",
       "  <tbody>\n",
       "    <tr>\n",
       "      <th>3</th>\n",
       "      <td>omit</td>\n",
       "      <td>1242</td>\n",
       "      <td>91.256429</td>\n",
       "      <td>22938</td>\n",
       "      <td>46.795055</td>\n",
       "      <td>18.468599</td>\n",
       "    </tr>\n",
       "    <tr>\n",
       "      <th>2</th>\n",
       "      <td>incorrect</td>\n",
       "      <td>1062</td>\n",
       "      <td>78.030860</td>\n",
       "      <td>14099</td>\n",
       "      <td>28.762903</td>\n",
       "      <td>13.275895</td>\n",
       "    </tr>\n",
       "    <tr>\n",
       "      <th>0</th>\n",
       "      <td>ambiguous</td>\n",
       "      <td>58</td>\n",
       "      <td>4.261572</td>\n",
       "      <td>69</td>\n",
       "      <td>0.140765</td>\n",
       "      <td>1.189655</td>\n",
       "    </tr>\n",
       "  </tbody>\n",
       "</table>\n",
       "</div>"
      ],
      "text/plain": [
       "  comply_type  num_sites  num_sites_percent  num_cookies  num_cookies_percent  \\\n",
       "3        omit       1242          91.256429        22938            46.795055   \n",
       "2   incorrect       1062          78.030860        14099            28.762903   \n",
       "0   ambiguous         58           4.261572           69             0.140765   \n",
       "\n",
       "   num_cookies_per_site  \n",
       "3             18.468599  \n",
       "2             13.275895  \n",
       "0              1.189655  "
      ]
     },
     "execution_count": 13,
     "metadata": {},
     "output_type": "execute_result"
    }
   ],
   "source": [
    "# Analyze complies here\n",
    "complies = all_complies[['name', 'domain', 'path', 'site', 'comply']].drop_duplicates()\n",
    "comply_sites_data = defaultdict(list)\n",
    "for comply_type, comply_group in complies.groupby('comply'):\n",
    "    n_sites = comply_group.site.nunique()\n",
    "    comply_sites_data['comply_type'].append(comply_type)\n",
    "    comply_sites_data['num_sites'].append(n_sites)\n",
    "    comply_sites = pd.DataFrame(comply_sites_data).sort_values(by=['num_sites'], ascending=False)\n",
    "\n",
    "nsites = all_complies.site.nunique()\n",
    "comply_counts = complies.comply.value_counts()\n",
    "comply_sites['num_sites_percent'] = comply_sites['num_sites'] / nsites * 100\n",
    "comply_sites['num_cookies'] = comply_sites['comply_type'].map(comply_counts)\n",
    "comply_sites['num_cookies_percent'] = comply_sites['num_cookies'] / comply_sites['num_cookies'].sum() * 100  # need to read scan_*.parquet for n_br_cookies, but may be unnecessary\n",
    "comply_sites['num_cookies_per_site'] = comply_sites['num_cookies'] / comply_sites['num_sites']\n",
    "\n",
    "# Do not count comply/correct enforcement: which require detecting all possible\n",
    "comply_sites = comply_sites[comply_sites.comply_type != 'comply']\n",
    "comply_sites"
   ]
  },
  {
   "cell_type": "code",
   "execution_count": null,
   "metadata": {},
   "outputs": [
    {
     "name": "stdout",
     "output_type": "stream",
     "text": [
      "Written 49,018 records of all_complies to /mnt/sdd/ducbui/projects/data2/consent/2024-10-12/all_complies_0k_20k.parquet\n"
     ]
    }
   ],
   "source": [
    "# Record the analysis results\n",
    "all_complies_file = SCAN_ROOT_DIR / f'all_complies{output_suffix}.parquet'\n",
    "all_complies.to_parquet(all_complies_file); print(f\"Written {len(all_complies):,d} records of all_complies to {all_complies_file}\")"
   ]
  },
  {
   "cell_type": "code",
   "execution_count": 15,
   "metadata": {},
   "outputs": [],
   "source": [
    "class StopExecution(Exception):\n",
    "    def _render_traceback_(self):\n",
    "        pass\n",
    "\n",
    "raise StopExecution\n",
    "import sys; sys.exit(0)"
   ]
  },
  {
   "cell_type": "code",
   "execution_count": 16,
   "metadata": {},
   "outputs": [
    {
     "data": {
      "text/plain": [
       "0        incorrect\n",
       "1             omit\n",
       "2             omit\n",
       "3             omit\n",
       "4        incorrect\n",
       "           ...    \n",
       "50516       comply\n",
       "50517       comply\n",
       "50518       comply\n",
       "50519       comply\n",
       "50520       comply\n",
       "Name: comply, Length: 50521, dtype: object"
      ]
     },
     "execution_count": 16,
     "metadata": {},
     "output_type": "execute_result"
    }
   ],
   "source": [
    "complies.comply"
   ]
  },
  {
   "cell_type": "code",
   "execution_count": 17,
   "metadata": {},
   "outputs": [
    {
     "data": {
      "text/plain": [
       "1286"
      ]
     },
     "execution_count": 17,
     "metadata": {},
     "output_type": "execute_result"
    }
   ],
   "source": [
    "nsites = all_complies.site.nunique(); nsites\n",
    "# all_complies.site.unique()"
   ]
  },
  {
   "cell_type": "code",
   "execution_count": 18,
   "metadata": {},
   "outputs": [
    {
     "data": {
      "text/plain": [
       "0"
      ]
     },
     "execution_count": 18,
     "metadata": {},
     "output_type": "execute_result"
    }
   ],
   "source": [
    "detected_contra_sites = [s for s, contras in site_to_contras.items() if len(contras) > 0]; len(detected_contra_sites)"
   ]
  },
  {
   "cell_type": "code",
   "execution_count": 19,
   "metadata": {},
   "outputs": [
    {
     "data": {
      "text/plain": [
       "omit         26549\n",
       "incorrect    12978\n",
       "comply       10703\n",
       "ambiguous       93\n",
       "Name: comply, dtype: int64"
      ]
     },
     "execution_count": 19,
     "metadata": {},
     "output_type": "execute_result"
    }
   ],
   "source": [
    "complies = all_complies[ ['name', 'domain', 'site', 'comply',]].drop_duplicates()\n",
    "comply_counts = complies.comply.value_counts()\n",
    "comply_counts"
   ]
  },
  {
   "cell_type": "code",
   "execution_count": 20,
   "metadata": {},
   "outputs": [
    {
     "name": "stdout",
     "output_type": "stream",
     "text": [
      "Num captured sent cookies: 5,485,046\n",
      "Num unique captured cookies: 3,341,107\n",
      "Num unique browser cookies: 133,395 on 1,286 websites\n"
     ]
    }
   ],
   "source": [
    "complies_sites = set(all_complies.site)\n",
    "sent_cookies_com = sent_cookies[sent_cookies.site.isin(complies_sites)]\n",
    "prj_sent_cookies_com = sent_cookies_com[['domain', 'expires', 'name', 'path', 'sameSite', 'secure', 'value', 'request_url', 'site']].drop_duplicates()\n",
    "prj_br_cookies_com = prj_sent_cookies_com[['domain', 'expires', 'name', 'path', 'sameSite', 'secure', 'site']].drop_duplicates()\n",
    "print(f\"Num captured sent cookies: {len(sent_cookies_com):,d}\")\n",
    "print(f\"Num unique captured cookies: {len(prj_sent_cookies_com):,d}\")\n",
    "\n",
    "n_br_cookies_com = len(prj_br_cookies_com)\n",
    "print(f\"Num unique browser cookies: {n_br_cookies_com:,d} on {prj_br_cookies_com.site.nunique():,d} websites\") # and {sent_cookies.page_url.nunique():,d} pages\")"
   ]
  },
  {
   "cell_type": "code",
   "execution_count": null,
   "metadata": {},
   "outputs": [],
   "source": []
  },
  {
   "cell_type": "markdown",
   "metadata": {},
   "source": [
    "# Analyze contras"
   ]
  },
  {
   "cell_type": "code",
   "execution_count": 21,
   "metadata": {},
   "outputs": [
    {
     "data": {
      "text/html": [
       "<div>\n",
       "<style scoped>\n",
       "    .dataframe tbody tr th:only-of-type {\n",
       "        vertical-align: middle;\n",
       "    }\n",
       "\n",
       "    .dataframe tbody tr th {\n",
       "        vertical-align: top;\n",
       "    }\n",
       "\n",
       "    .dataframe thead th {\n",
       "        text-align: right;\n",
       "    }\n",
       "</style>\n",
       "<table border=\"1\" class=\"dataframe\">\n",
       "  <thead>\n",
       "    <tr style=\"text-align: right;\">\n",
       "      <th></th>\n",
       "      <th>domain</th>\n",
       "      <th>name</th>\n",
       "      <th>site</th>\n",
       "    </tr>\n",
       "  </thead>\n",
       "  <tbody>\n",
       "    <tr>\n",
       "      <th>0</th>\n",
       "      <td>www.menshealth.com</td>\n",
       "      <td>location_data</td>\n",
       "      <td>menshealth.com</td>\n",
       "    </tr>\n",
       "    <tr>\n",
       "      <th>1</th>\n",
       "      <td>www.elle.com</td>\n",
       "      <td>location_data</td>\n",
       "      <td>elle.com</td>\n",
       "    </tr>\n",
       "    <tr>\n",
       "      <th>2</th>\n",
       "      <td>www.hottopic.com</td>\n",
       "      <td>__cqact</td>\n",
       "      <td>hottopic.com</td>\n",
       "    </tr>\n",
       "    <tr>\n",
       "      <th>3</th>\n",
       "      <td>aljazeera.com</td>\n",
       "      <td>_dlt</td>\n",
       "      <td>aljazeera.com</td>\n",
       "    </tr>\n",
       "    <tr>\n",
       "      <th>4</th>\n",
       "      <td>nr-data.net</td>\n",
       "      <td>JSESSIONID</td>\n",
       "      <td>liverpoolfc.com</td>\n",
       "    </tr>\n",
       "  </tbody>\n",
       "</table>\n",
       "</div>"
      ],
      "text/plain": [
       "               domain           name             site\n",
       "0  www.menshealth.com  location_data   menshealth.com\n",
       "1        www.elle.com  location_data         elle.com\n",
       "2    www.hottopic.com        __cqact     hottopic.com\n",
       "3       aljazeera.com           _dlt    aljazeera.com\n",
       "4         nr-data.net     JSESSIONID  liverpoolfc.com"
      ]
     },
     "execution_count": 21,
     "metadata": {},
     "output_type": "execute_result"
    }
   ],
   "source": [
    "# Way 1: compute contra sites by dynamic analysis: this should be lower than statically analyzing prefs\n",
    "# because we cannot check all combinations of consent modes.\n",
    "from consent.consistency.comply_util import get_appr_rej_sets\n",
    "contra_data = []\n",
    "for asite in cookie_prefs.site.unique():\n",
    "    site_prefs = cookie_prefs[cookie_prefs.site == asite]\n",
    "    _, _, contras = get_appr_rej_sets(site_prefs)\n",
    "    for contra in contras:\n",
    "        contra['site'] = asite\n",
    "        contra_data.append(contra)\n",
    "contra_sites = pd.DataFrame(contra_data)\n",
    "contra_sites.head()"
   ]
  },
  {
   "cell_type": "code",
   "execution_count": 22,
   "metadata": {},
   "outputs": [
    {
     "ename": "AssertionError",
     "evalue": "this is the same method with above, so the result",
     "output_type": "error",
     "traceback": [
      "\u001b[0;31m---------------------------------------------------------------------------\u001b[0m",
      "\u001b[0;31mAssertionError\u001b[0m                            Traceback (most recent call last)",
      "\u001b[1;32m/home/ducbui/local_projects/consent/consent_project/src/consent/consistency/main_analysis/consistency_notebook/2023_11/za_consistency.ipynb Cell 26\u001b[0m line \u001b[0;36m1\n\u001b[0;32m----> <a href='vscode-notebook-cell://ssh-remote%2Bkroos.eecs.umich.edu/home/ducbui/local_projects/consent/consent_project/src/consent/consistency/main_analysis/consistency_notebook/2023_11/za_consistency.ipynb#X34sdnNjb2RlLXJlbW90ZQ%3D%3D?line=0'>1</a>\u001b[0m \u001b[39massert\u001b[39;00m \u001b[39mset\u001b[39m(detected_contra_sites) \u001b[39m==\u001b[39m \u001b[39mset\u001b[39m(contra_sites\u001b[39m.\u001b[39msite), \u001b[39m\"\u001b[39m\u001b[39mthis is the same method with above, so the result\u001b[39m\u001b[39m\"\u001b[39m\n",
      "\u001b[0;31mAssertionError\u001b[0m: this is the same method with above, so the result"
     ]
    }
   ],
   "source": [
    "assert set(detected_contra_sites) == set(contra_sites.site), \"this is the same method with above, so the result\""
   ]
  },
  {
   "cell_type": "code",
   "execution_count": null,
   "metadata": {},
   "outputs": [
    {
     "data": {
      "text/plain": [
       "{'247sports.com',\n",
       " 'abbvie.com',\n",
       " 'acquia.com',\n",
       " 'adobe.io',\n",
       " 'adweek.com',\n",
       " 'aljazeera.com',\n",
       " 'allaboutvision.com',\n",
       " 'allegiantair.com',\n",
       " 'allergan.com',\n",
       " 'alteryx.com',\n",
       " 'americanbar.org',\n",
       " 'aon.com',\n",
       " 'ariel.co.uk',\n",
       " 'asos.com',\n",
       " 'autosport.com',\n",
       " 'avalara.com',\n",
       " 'avast.com',\n",
       " 'avastbrowser.com',\n",
       " 'barnesandnoble.com',\n",
       " 'bazaarvoice.com',\n",
       " 'bbva.com',\n",
       " 'bd.com',\n",
       " 'behance.net',\n",
       " 'belkin.com',\n",
       " 'betsson.com',\n",
       " 'bitdefender.com',\n",
       " 'bitdefender.net',\n",
       " 'bkstr.com',\n",
       " 'blackboard.com',\n",
       " 'bplans.com',\n",
       " 'brightside.me',\n",
       " 'bromium-online.com',\n",
       " 'callofduty.com',\n",
       " 'cambridge.org',\n",
       " 'carbonite.com',\n",
       " 'cheapoair.com',\n",
       " 'chrysler.com',\n",
       " 'cisco.com',\n",
       " 'citationmachine.net',\n",
       " 'clickmeeting.com',\n",
       " 'clicktale.net',\n",
       " 'cloudbees.com',\n",
       " 'cnet.com',\n",
       " 'colt.net',\n",
       " 'commonsensemedia.org',\n",
       " 'contentsquare.com',\n",
       " 'conviva.com',\n",
       " 'creighton.edu',\n",
       " 'curalate.com',\n",
       " 'dc.com',\n",
       " 'dccomics.com',\n",
       " 'discogs.com',\n",
       " 'dynamicyield.com',\n",
       " 'easybib.com',\n",
       " 'eidos.com',\n",
       " 'elderscrollsonline.com',\n",
       " 'evri.com',\n",
       " 'ew.com',\n",
       " 'fabfitfun.com',\n",
       " 'fotolia.com',\n",
       " 'fourseasons.com',\n",
       " 'frontlineeducation.com',\n",
       " 'geappliances.com',\n",
       " 'geforce.com',\n",
       " 'genial.ly',\n",
       " 'getdbt.com',\n",
       " 'glip.com',\n",
       " 'gmu.edu',\n",
       " 'gopro.com',\n",
       " 'grainger.com',\n",
       " 'halfords.com',\n",
       " 'hallmark.com',\n",
       " 'hightail.com',\n",
       " 'hm.com',\n",
       " 'howstuffworks.com',\n",
       " 'hp.com',\n",
       " 'illumina.com',\n",
       " 'instyle.com',\n",
       " 'ipl.org',\n",
       " 'irishcentral.com',\n",
       " 'ironman.com',\n",
       " 'janes.com',\n",
       " 'jbl.com',\n",
       " 'jeep.com',\n",
       " 'jobvite.com',\n",
       " 'kew.org',\n",
       " 'lastline.com',\n",
       " 'launchdarkly.com',\n",
       " 'levi.com',\n",
       " 'liverpoolfc.com',\n",
       " 'logi.com',\n",
       " 'logitech.com',\n",
       " 'logitechg.com',\n",
       " 'mastercard.com',\n",
       " 'mastercard.us',\n",
       " 'mcgraw-hill.com',\n",
       " 'mckesson.com',\n",
       " 'meraki.com',\n",
       " 'mheducation.com',\n",
       " 'michaels.com',\n",
       " 'mlb.com',\n",
       " 'mongodb.com',\n",
       " 'mongodb.org',\n",
       " 'morningconsult.com',\n",
       " 'morrisons.com',\n",
       " 'motorsport.com',\n",
       " 'mtv.com',\n",
       " 'myportfolio.com',\n",
       " 'name.com',\n",
       " 'nba.com',\n",
       " 'ncaa.com',\n",
       " 'newsday.com',\n",
       " 'newsweaver.com',\n",
       " 'next.co.uk',\n",
       " 'nhl.com',\n",
       " 'ni.com',\n",
       " 'nspcc.org.uk',\n",
       " 'nvidia.com',\n",
       " 'ocado.com',\n",
       " 'omnitracs.com',\n",
       " 'onlyinyourstate.com',\n",
       " 'paradox.ai',\n",
       " 'parents.com',\n",
       " 'paypay.ne.jp',\n",
       " 'pcapredict.com',\n",
       " 'people.com',\n",
       " 'pge.com',\n",
       " 'phoenix.edu',\n",
       " 'pinknews.co.uk',\n",
       " 'politico.com',\n",
       " 'principal.com',\n",
       " 'prweb.com',\n",
       " 'rd.com',\n",
       " 'realsimple.com',\n",
       " 'ringcentral.com',\n",
       " 'rollout.io',\n",
       " 'royalacademy.org.uk',\n",
       " 'salliemae.com',\n",
       " 'samaritans.org',\n",
       " 'sanofi-synthelabo.com',\n",
       " 'sanofi.com',\n",
       " 'santander.co.uk',\n",
       " 'sciam.com',\n",
       " 'scientificamerican.com',\n",
       " 'senderscore.com',\n",
       " 'seon.io',\n",
       " 'sho.com',\n",
       " 'shuttercloud.org',\n",
       " 'shutterstock.com',\n",
       " 'signifyd.com',\n",
       " 'solvvy.com',\n",
       " 'sonos.com',\n",
       " 'sony.co.uk',\n",
       " 'sourcefire.com',\n",
       " 'sparknotes.com',\n",
       " 'square-enix-games.com',\n",
       " 'statista.com',\n",
       " 'suse.com',\n",
       " 'tasteofhome.com',\n",
       " 'telerik.com',\n",
       " 'thedailybeast.com',\n",
       " 'thedodo.com',\n",
       " 'thomsonreuters.com',\n",
       " 'thomsonreuters.net',\n",
       " 'travelandleisure.com',\n",
       " 'treasuredata.com',\n",
       " 'tripadvisor.in',\n",
       " 'typeform.com',\n",
       " 'typekit.com',\n",
       " 'uipath.com',\n",
       " 'ulta.com',\n",
       " 'umbrella.com',\n",
       " 'universe.com',\n",
       " 'urbanairship.com',\n",
       " 'vfsglobal.com',\n",
       " 'viber.com',\n",
       " 'visma.com',\n",
       " 'vmware.com',\n",
       " 'vmwareidentity.com',\n",
       " 'webmd.com',\n",
       " 'wfmz.com',\n",
       " 'whirlpool.com',\n",
       " 'workspaceoneaccess.com',\n",
       " 'worldoftanks.com',\n",
       " 'wwf.org.uk',\n",
       " 'yousendit.com',\n",
       " 'zdnet.com',\n",
       " 'zebra.com',\n",
       " 'zeiss.com',\n",
       " 'zennioptical.com',\n",
       " 'zoom.com',\n",
       " 'zoom.us'}"
      ]
     },
     "execution_count": 26,
     "metadata": {},
     "output_type": "execute_result"
    }
   ],
   "source": [
    "set(detected_contra_sites) - set(contra_sites.site)\n",
    "set(contra_sites.site) - set(detected_contra_sites)\n",
    "# This may be the sites excluded due to testing cookies in the preferences."
   ]
  },
  {
   "cell_type": "code",
   "execution_count": null,
   "metadata": {},
   "outputs": [],
   "source": [
    "# Way 2: compute contra sites by DataFrame group by\n",
    "contra_cookies_dfs = []\n",
    "for _, same_cookies in cookie_prefs.groupby(['name', 'domain', 'site']):\n",
    "    consent_modes = same_cookies.consent_mode.unique()\n",
    "    if len(consent_modes) >= 2 and same_cookies.category.nunique() > 1: # and 'always active' in consent_modes:\n",
    "        contra_cookies_dfs.append(same_cookies)\n",
    "contra_cookies = pd.concat(contra_cookies_dfs).drop_duplicates()"
   ]
  },
  {
   "cell_type": "code",
   "execution_count": null,
   "metadata": {},
   "outputs": [
    {
     "name": "stdout",
     "output_type": "stream",
     "text": [
      "Number sites with contra cookies: 184\n"
     ]
    }
   ],
   "source": [
    "print(\"Number sites with contra cookies:\", contra_cookies.site.nunique())"
   ]
  },
  {
   "cell_type": "code",
   "execution_count": null,
   "metadata": {},
   "outputs": [],
   "source": [
    "# set(contra_cookies.site) - set(contra_sites.site)"
   ]
  },
  {
   "cell_type": "code",
   "execution_count": null,
   "metadata": {},
   "outputs": [
    {
     "name": "stdout",
     "output_type": "stream",
     "text": [
      "Num contra cookie settings (double categories): 648 settings  on 184 sites\n",
      "Contras with 1 always-active: 192\n",
      "Contras with both editable: 0\n"
     ]
    }
   ],
   "source": [
    "print(\"Num contra cookie settings (double categories):\", len(contra_cookies), f\"settings  on {contra_cookies.site.nunique()} sites\")\n",
    "print(\"Contras with 1 always-active:\", contra_sites.site.nunique())\n",
    "print(\"Contras with both editable:\", len(set(contra_cookies.site) - set(contra_sites.site)))"
   ]
  },
  {
   "cell_type": "code",
   "execution_count": null,
   "metadata": {},
   "outputs": [],
   "source": []
  },
  {
   "cell_type": "code",
   "execution_count": null,
   "metadata": {},
   "outputs": [
    {
     "data": {
      "text/html": [
       "<div>\n",
       "<style scoped>\n",
       "    .dataframe tbody tr th:only-of-type {\n",
       "        vertical-align: middle;\n",
       "    }\n",
       "\n",
       "    .dataframe tbody tr th {\n",
       "        vertical-align: top;\n",
       "    }\n",
       "\n",
       "    .dataframe thead th {\n",
       "        text-align: right;\n",
       "    }\n",
       "</style>\n",
       "<table border=\"1\" class=\"dataframe\">\n",
       "  <thead>\n",
       "    <tr style=\"text-align: right;\">\n",
       "      <th></th>\n",
       "      <th>name</th>\n",
       "      <th>domain</th>\n",
       "      <th>duration</th>\n",
       "      <th>category_id</th>\n",
       "      <th>category</th>\n",
       "      <th>consent_mode</th>\n",
       "      <th>site</th>\n",
       "      <th>lib_name</th>\n",
       "      <th>pattern_name</th>\n",
       "      <th>consent</th>\n",
       "    </tr>\n",
       "  </thead>\n",
       "  <tbody>\n",
       "  </tbody>\n",
       "</table>\n",
       "</div>"
      ],
      "text/plain": [
       "Empty DataFrame\n",
       "Columns: [name, domain, duration, category_id, category, consent_mode, site, lib_name, pattern_name, consent]\n",
       "Index: []"
      ]
     },
     "execution_count": 31,
     "metadata": {},
     "output_type": "execute_result"
    }
   ],
   "source": [
    "contra_cookies[contra_cookies.site == 'elsevier.nl']"
   ]
  },
  {
   "cell_type": "code",
   "execution_count": null,
   "metadata": {},
   "outputs": [],
   "source": [
    "# assert len(detected_contra_sites) <= contra_sites.site.nunique() < len(detected_contra_sites) + 2"
   ]
  },
  {
   "cell_type": "code",
   "execution_count": null,
   "metadata": {},
   "outputs": [
    {
     "data": {
      "text/html": [
       "<div>\n",
       "<style scoped>\n",
       "    .dataframe tbody tr th:only-of-type {\n",
       "        vertical-align: middle;\n",
       "    }\n",
       "\n",
       "    .dataframe tbody tr th {\n",
       "        vertical-align: top;\n",
       "    }\n",
       "\n",
       "    .dataframe thead th {\n",
       "        text-align: right;\n",
       "    }\n",
       "</style>\n",
       "<table border=\"1\" class=\"dataframe\">\n",
       "  <thead>\n",
       "    <tr style=\"text-align: right;\">\n",
       "      <th></th>\n",
       "      <th>name</th>\n",
       "      <th>domain</th>\n",
       "      <th>site</th>\n",
       "      <th>comply</th>\n",
       "    </tr>\n",
       "  </thead>\n",
       "  <tbody>\n",
       "    <tr>\n",
       "      <th>173</th>\n",
       "      <td>TS013559a7</td>\n",
       "      <td>www.mastercard.us</td>\n",
       "      <td>mastercard.com</td>\n",
       "      <td>ambiguous</td>\n",
       "    </tr>\n",
       "    <tr>\n",
       "      <th>1236</th>\n",
       "      <td>_qubitTracker</td>\n",
       "      <td>.www.very.co.uk</td>\n",
       "      <td>very.co.uk</td>\n",
       "      <td>ambiguous</td>\n",
       "    </tr>\n",
       "    <tr>\n",
       "      <th>2365</th>\n",
       "      <td>G_ENABLED_IDPS</td>\n",
       "      <td>.www.glassdoor.com</td>\n",
       "      <td>glassdoor.com</td>\n",
       "      <td>ambiguous</td>\n",
       "    </tr>\n",
       "    <tr>\n",
       "      <th>2372</th>\n",
       "      <td>trs</td>\n",
       "      <td>www.glassdoor.com</td>\n",
       "      <td>glassdoor.com</td>\n",
       "      <td>ambiguous</td>\n",
       "    </tr>\n",
       "    <tr>\n",
       "      <th>2375</th>\n",
       "      <td>_gid</td>\n",
       "      <td>.glassdoor.com</td>\n",
       "      <td>glassdoor.com</td>\n",
       "      <td>ambiguous</td>\n",
       "    </tr>\n",
       "    <tr>\n",
       "      <th>...</th>\n",
       "      <td>...</td>\n",
       "      <td>...</td>\n",
       "      <td>...</td>\n",
       "      <td>...</td>\n",
       "    </tr>\n",
       "    <tr>\n",
       "      <th>59468</th>\n",
       "      <td>ak_bmsc</td>\n",
       "      <td>.mulesoft.com</td>\n",
       "      <td>mulesoft.com</td>\n",
       "      <td>ambiguous</td>\n",
       "    </tr>\n",
       "    <tr>\n",
       "      <th>59481</th>\n",
       "      <td>JSESSIONID</td>\n",
       "      <td>training.mulesoft.com</td>\n",
       "      <td>mulesoft.com</td>\n",
       "      <td>ambiguous</td>\n",
       "    </tr>\n",
       "    <tr>\n",
       "      <th>60397</th>\n",
       "      <td>TLTSID</td>\n",
       "      <td>.bkstr.com</td>\n",
       "      <td>bkstr.com</td>\n",
       "      <td>ambiguous</td>\n",
       "    </tr>\n",
       "    <tr>\n",
       "      <th>60412</th>\n",
       "      <td>dtSa</td>\n",
       "      <td>.bkstr.com</td>\n",
       "      <td>bkstr.com</td>\n",
       "      <td>ambiguous</td>\n",
       "    </tr>\n",
       "    <tr>\n",
       "      <th>60622</th>\n",
       "      <td>shortHash</td>\n",
       "      <td>.square-enix-games.com</td>\n",
       "      <td>square-enix-games.com</td>\n",
       "      <td>ambiguous</td>\n",
       "    </tr>\n",
       "  </tbody>\n",
       "</table>\n",
       "<p>116 rows × 4 columns</p>\n",
       "</div>"
      ],
      "text/plain": [
       "                 name                  domain                   site  \\\n",
       "173        TS013559a7       www.mastercard.us         mastercard.com   \n",
       "1236    _qubitTracker         .www.very.co.uk             very.co.uk   \n",
       "2365   G_ENABLED_IDPS      .www.glassdoor.com          glassdoor.com   \n",
       "2372              trs       www.glassdoor.com          glassdoor.com   \n",
       "2375             _gid          .glassdoor.com          glassdoor.com   \n",
       "...               ...                     ...                    ...   \n",
       "59468         ak_bmsc           .mulesoft.com           mulesoft.com   \n",
       "59481      JSESSIONID   training.mulesoft.com           mulesoft.com   \n",
       "60397          TLTSID              .bkstr.com              bkstr.com   \n",
       "60412            dtSa              .bkstr.com              bkstr.com   \n",
       "60622       shortHash  .square-enix-games.com  square-enix-games.com   \n",
       "\n",
       "          comply  \n",
       "173    ambiguous  \n",
       "1236   ambiguous  \n",
       "2365   ambiguous  \n",
       "2372   ambiguous  \n",
       "2375   ambiguous  \n",
       "...          ...  \n",
       "59468  ambiguous  \n",
       "59481  ambiguous  \n",
       "60397  ambiguous  \n",
       "60412  ambiguous  \n",
       "60622  ambiguous  \n",
       "\n",
       "[116 rows x 4 columns]"
      ]
     },
     "execution_count": 33,
     "metadata": {},
     "output_type": "execute_result"
    }
   ],
   "source": [
    "complies[complies.comply == 'ambiguous']"
   ]
  },
  {
   "cell_type": "code",
   "execution_count": null,
   "metadata": {},
   "outputs": [
    {
     "data": {
      "text/html": [
       "<div>\n",
       "<style scoped>\n",
       "    .dataframe tbody tr th:only-of-type {\n",
       "        vertical-align: middle;\n",
       "    }\n",
       "\n",
       "    .dataframe tbody tr th {\n",
       "        vertical-align: top;\n",
       "    }\n",
       "\n",
       "    .dataframe thead th {\n",
       "        text-align: right;\n",
       "    }\n",
       "</style>\n",
       "<table border=\"1\" class=\"dataframe\">\n",
       "  <thead>\n",
       "    <tr style=\"text-align: right;\">\n",
       "      <th></th>\n",
       "      <th>name</th>\n",
       "      <th>domain</th>\n",
       "      <th>duration</th>\n",
       "      <th>category_id</th>\n",
       "      <th>category</th>\n",
       "      <th>consent_mode</th>\n",
       "      <th>site</th>\n",
       "      <th>lib_name</th>\n",
       "      <th>pattern_name</th>\n",
       "      <th>consent</th>\n",
       "    </tr>\n",
       "  </thead>\n",
       "  <tbody>\n",
       "    <tr>\n",
       "      <th>88</th>\n",
       "      <td>utag_main</td>\n",
       "      <td>.michaels.com</td>\n",
       "      <td>365 days</td>\n",
       "      <td>C0001</td>\n",
       "      <td>Strictly Necessary Cookies</td>\n",
       "      <td>always active</td>\n",
       "      <td>michaels.com</td>\n",
       "      <td>onetrust</td>\n",
       "      <td>en.json</td>\n",
       "      <td>True</td>\n",
       "    </tr>\n",
       "    <tr>\n",
       "      <th>148</th>\n",
       "      <td>utag_main</td>\n",
       "      <td>michaels.com</td>\n",
       "      <td>365 days</td>\n",
       "      <td>C0002</td>\n",
       "      <td>Performance Cookies</td>\n",
       "      <td>active</td>\n",
       "      <td>michaels.com</td>\n",
       "      <td>onetrust</td>\n",
       "      <td>en.json</td>\n",
       "      <td>False</td>\n",
       "    </tr>\n",
       "  </tbody>\n",
       "</table>\n",
       "</div>"
      ],
      "text/plain": [
       "          name         domain  duration category_id  \\\n",
       "88   utag_main  .michaels.com  365 days       C0001   \n",
       "148  utag_main   michaels.com  365 days       C0002   \n",
       "\n",
       "                       category   consent_mode          site  lib_name  \\\n",
       "88   Strictly Necessary Cookies  always active  michaels.com  onetrust   \n",
       "148         Performance Cookies         active  michaels.com  onetrust   \n",
       "\n",
       "    pattern_name consent  \n",
       "88       en.json    True  \n",
       "148      en.json   False  "
      ]
     },
     "execution_count": 34,
     "metadata": {},
     "output_type": "execute_result"
    }
   ],
   "source": [
    "cookie_prefs[ (cookie_prefs.site == 'michaels.com') & (cookie_prefs.name == 'utag_main') ]"
   ]
  },
  {
   "cell_type": "code",
   "execution_count": null,
   "metadata": {},
   "outputs": [
    {
     "data": {
      "text/html": [
       "<div>\n",
       "<style scoped>\n",
       "    .dataframe tbody tr th:only-of-type {\n",
       "        vertical-align: middle;\n",
       "    }\n",
       "\n",
       "    .dataframe tbody tr th {\n",
       "        vertical-align: top;\n",
       "    }\n",
       "\n",
       "    .dataframe thead th {\n",
       "        text-align: right;\n",
       "    }\n",
       "</style>\n",
       "<table border=\"1\" class=\"dataframe\">\n",
       "  <thead>\n",
       "    <tr style=\"text-align: right;\">\n",
       "      <th></th>\n",
       "      <th>name</th>\n",
       "      <th>domain</th>\n",
       "      <th>duration</th>\n",
       "      <th>category_id</th>\n",
       "      <th>category</th>\n",
       "      <th>consent_mode</th>\n",
       "      <th>site</th>\n",
       "      <th>lib_name</th>\n",
       "      <th>pattern_name</th>\n",
       "      <th>consent</th>\n",
       "    </tr>\n",
       "  </thead>\n",
       "  <tbody>\n",
       "    <tr>\n",
       "      <th>74</th>\n",
       "      <td>id</td>\n",
       "      <td>m6r.eu</td>\n",
       "      <td>90 days</td>\n",
       "      <td>C0001</td>\n",
       "      <td>Necessary Cookies</td>\n",
       "      <td>always active</td>\n",
       "      <td>statista.com</td>\n",
       "      <td>onetrust</td>\n",
       "      <td>en.json</td>\n",
       "      <td>True</td>\n",
       "    </tr>\n",
       "    <tr>\n",
       "      <th>131</th>\n",
       "      <td>id</td>\n",
       "      <td>m6r.eu</td>\n",
       "      <td>0 days</td>\n",
       "      <td>C0004</td>\n",
       "      <td>Targeting Cookies</td>\n",
       "      <td>inactive</td>\n",
       "      <td>statista.com</td>\n",
       "      <td>onetrust</td>\n",
       "      <td>en.json</td>\n",
       "      <td>False</td>\n",
       "    </tr>\n",
       "  </tbody>\n",
       "</table>\n",
       "</div>"
      ],
      "text/plain": [
       "    name  domain duration category_id           category   consent_mode  \\\n",
       "74    id  m6r.eu  90 days       C0001  Necessary Cookies  always active   \n",
       "131   id  m6r.eu   0 days       C0004  Targeting Cookies       inactive   \n",
       "\n",
       "             site  lib_name pattern_name consent  \n",
       "74   statista.com  onetrust      en.json    True  \n",
       "131  statista.com  onetrust      en.json   False  "
      ]
     },
     "execution_count": 35,
     "metadata": {},
     "output_type": "execute_result"
    }
   ],
   "source": [
    "cookie_prefs[ (cookie_prefs.site == 'statista.com') & (cookie_prefs.name == 'id') ]"
   ]
  },
  {
   "cell_type": "code",
   "execution_count": null,
   "metadata": {},
   "outputs": [],
   "source": [
    "# contra_cookies.name.value_counts()[:10]\n",
    "# contra_cookies[contra_cookies.name == '__cf_bm'].reset_index(drop=True) # .site.nunique()"
   ]
  },
  {
   "cell_type": "markdown",
   "metadata": {},
   "source": [
    "# Analyze ambiguous flows"
   ]
  },
  {
   "cell_type": "code",
   "execution_count": null,
   "metadata": {},
   "outputs": [],
   "source": [
    "ambi_cookies = complies[complies.comply == 'ambiguous']\n",
    "print(\"Num ambiguous cookies:\", len(ambi_cookies), \"on num sites:\", ambi_cookies.site.nunique())\n",
    "assert len(ambi_cookies) == len(ambi_cookies.drop_duplicates()), \"there is some duplicate cookies\"\n"
   ]
  },
  {
   "cell_type": "markdown",
   "metadata": {},
   "source": [
    "## Analyze no-way-to-opt-out"
   ]
  },
  {
   "cell_type": "code",
   "execution_count": null,
   "metadata": {},
   "outputs": [],
   "source": [
    "# Way 1: compute contra sites by DataFrame group by\n",
    "nwtoo_cookies_dfs = []\n",
    "for _, site_cookies in cookie_prefs.groupby(['site']):\n",
    "    consent_modes = site_cookies.consent_mode.unique().tolist()\n",
    "    if len(consent_modes) == 1 and consent_modes[0] == 'always active':\n",
    "        nwtoo_cookies_dfs.append(site_cookies)\n",
    "nwtoo_cookies = pd.concat(nwtoo_cookies_dfs).drop_duplicates()\n",
    "nwtoo_cookies.head()"
   ]
  },
  {
   "cell_type": "code",
   "execution_count": null,
   "metadata": {},
   "outputs": [],
   "source": [
    "nwtoo_cookies.site.nunique()"
   ]
  },
  {
   "cell_type": "markdown",
   "metadata": {},
   "source": [
    "# Analyze inconsistent flows/cookies"
   ]
  },
  {
   "cell_type": "code",
   "execution_count": null,
   "metadata": {},
   "outputs": [],
   "source": [
    "def plot_inconsis_types():\n",
    "    sns.set(rc={'figure.figsize':(9,9),\"font.size\":30,\"axes.titlesize\":30,\"axes.labelsize\":30},style=\"white\", font_scale = 2.5)\n",
    "\n",
    "    ax = sns.barplot(x='comply_type', y='num_sites_percent', data=noncomply_sites)\n",
    "    ax.tick_params(left=True, bottom=True, direction=\"in\")\n",
    "    ax.set_ylabel('# Websites (%)')\n",
    "    ax.set_xlabel('Noncompliance Types')\n",
    "    xticks = [x.get_text().title() for x in ax.get_xticklabels()]\n",
    "    ax.set(xticklabels=xticks)\n",
    "\n",
    "    out_file = FIG_DIR / 'noncomply_types_per_site.png'\n",
    "    # plt.savefig(out_file, dpi=200, bbox_inches='tight'); print(f\"Written to {out_file}\")"
   ]
  },
  {
   "cell_type": "code",
   "execution_count": null,
   "metadata": {},
   "outputs": [],
   "source": [
    "## Plot distribution of omitted cookie declarations"
   ]
  },
  {
   "cell_type": "code",
   "execution_count": null,
   "metadata": {},
   "outputs": [],
   "source": [
    "omit_complies = complies[(complies.comply == 'omit')] #  & ~complies.name.isin(['OptanonAlertBoxClosed', 'OptanonConsent']) ]\n",
    "omit_complies.site.nunique()"
   ]
  },
  {
   "cell_type": "code",
   "execution_count": null,
   "metadata": {},
   "outputs": [],
   "source": [
    "omit_complies.site.value_counts()[:7]"
   ]
  },
  {
   "cell_type": "code",
   "execution_count": null,
   "metadata": {},
   "outputs": [],
   "source": [
    "omit_cookies = omit_complies.name.value_counts()[:5].to_frame().reset_index().rename(columns={'index': 'cookie_name'})\n",
    "omit_cookies['num_sites'] = omit_cookies['cookie_name'].map(lambda cookie_name: omit_complies[omit_complies.name == cookie_name].site.nunique())\n",
    "print(omit_cookies.head(5)[['cookie_name', 'num_sites']].rename(columns={'cookie_name': 'Cookie Name', 'num_sites': '# Websites'}).to_latex(index=False))"
   ]
  },
  {
   "cell_type": "code",
   "execution_count": null,
   "metadata": {},
   "outputs": [],
   "source": [
    "# set(cookielist_sites) - set(omit_complies.site.unique())\n",
    "omit_counts = omit_complies.site.value_counts().to_frame().rename(columns={'site': 'num_omit_cookies'})\n",
    "print(\"Num omitted sites:\", omit_complies.site.nunique())\n",
    "omit_counts.num_omit_cookies.mean(), omit_counts.num_omit_cookies.std(), omit_counts.num_omit_cookies.min(), omit_counts.num_omit_cookies.max()"
   ]
  },
  {
   "cell_type": "code",
   "execution_count": null,
   "metadata": {},
   "outputs": [],
   "source": [
    "sns.set(rc={'figure.figsize':(12,8),\"font.size\":35,\"axes.titlesize\":30,\"axes.labelsize\":50},style=\"white\", font_scale = 4.5)\n",
    "sns.set_style(\"ticks\", {\"xtick.direction\": \"in\", \"ytick.direction\": \"in\"})\n",
    "plt.rcParams['xtick.major.size'] = 15\n",
    "plt.rcParams['ytick.major.size'] = 15\n",
    "\n",
    "ax = sns.ecdfplot(data=omit_counts, x=omit_counts.num_omit_cookies, linewidth=8)\n",
    "ax.set(xlim=(0, 350))\n",
    "\n",
    "plt.xlabel('# Omitted Cookies/Website')\n",
    "plt.ylabel('CDF')\n",
    "# out_file = FIG_DIR / 'eu_omit_cookie_cdf.png'\n",
    "# plt.savefig(out_file, dpi=200, bbox_inches='tight'); print(f\"Written to {out_file}\")"
   ]
  },
  {
   "cell_type": "code",
   "execution_count": null,
   "metadata": {},
   "outputs": [],
   "source": [
    "plot_df = omit_counts[:50]\n",
    "\n",
    "sns.set(rc={'figure.figsize':(24,8),\"font.size\":35,\"axes.titlesize\":35,\"axes.labelsize\":25},style=\"white\", font_scale=1.5)\n",
    "ax = sns.barplot(x=plot_df.index, y=plot_df.num_omit_cookies)\n",
    "ticks = plt.xticks(rotation=45, ha='right')\n",
    "\n",
    "ax.tick_params(left=True, bottom=False, direction=\"in\")\n",
    "ax.set_ylabel('# Omitted Cookies')\n",
    "ax.set_xlabel('Website')\n",
    "\n",
    "# out_file = FIG_DIR / 'omit_site.png'\n",
    "# plt.savefig(out_file, dpi=200, bbox_inches='tight'); print(f\"Written to {out_file}\")"
   ]
  },
  {
   "cell_type": "code",
   "execution_count": null,
   "metadata": {},
   "outputs": [],
   "source": [
    "def plot_histogram_omit():\n",
    "    sns.set(rc={'figure.figsize':(9,6),\"font.size\":25,\"axes.titlesize\":25,\"axes.labelsize\":15},style=\"white\", font_scale = 1)\n",
    "    omit_counts_histo = omit_complies.site.value_counts().value_counts()\n",
    "    sns.barplot(x=omit_counts_histo.index, y=omit_counts_histo.values)\n",
    "    ticks = plt.xticks(rotation=45, ha='right')"
   ]
  },
  {
   "cell_type": "markdown",
   "metadata": {},
   "source": [
    "## Plot distribution of incorrectly enforced cookies"
   ]
  },
  {
   "cell_type": "code",
   "execution_count": null,
   "metadata": {},
   "outputs": [],
   "source": [
    "incor_complies = complies[complies.comply == 'incorrect']\n",
    "# set(cookielist_sites) - set(omit_complies.site.unique())\n",
    "incor_counts = incor_complies.site.value_counts().iloc[:50]\n",
    "incor_counts = incor_counts.to_frame().reset_index().sort_values(by=['site', 'index'], ascending=[False, True])\n",
    "incor_counts.columns"
   ]
  },
  {
   "cell_type": "code",
   "execution_count": null,
   "metadata": {},
   "outputs": [],
   "source": [
    "sns.set(rc={'figure.figsize':(24,8),\"font.size\":35,\"axes.titlesize\":35,\"axes.labelsize\":25},style=\"white\", font_scale=1.5)\n",
    "ax = sns.barplot(x='index', y='site', data=incor_counts)\n",
    "\n",
    "ticks = plt.xticks(rotation=45, ha='right')\n",
    "\n",
    "ax.tick_params(left=True, bottom=True, direction=\"in\")\n",
    "ax.set_ylabel('# Incorrectly Enforced Cookies')\n",
    "ax.set_xlabel('Website')\n",
    "\n",
    "# out_file = FIG_DIR / 'incor_site.png'\n",
    "# plt.savefig(out_file, dpi=200, bbox_inches='tight'); print(f\"Written to {out_file}\")"
   ]
  },
  {
   "cell_type": "code",
   "execution_count": null,
   "metadata": {},
   "outputs": [],
   "source": [
    "# len(incor_counts)"
   ]
  },
  {
   "cell_type": "code",
   "execution_count": null,
   "metadata": {},
   "outputs": [],
   "source": [
    "incor_counts[incor_counts.site == 33].reset_index(drop=True)"
   ]
  },
  {
   "cell_type": "markdown",
   "metadata": {},
   "source": [
    "### Top incorrect cookies"
   ]
  },
  {
   "cell_type": "code",
   "execution_count": null,
   "metadata": {},
   "outputs": [],
   "source": [
    "incor_cookies = complies[complies.comply == 'incorrect']"
   ]
  },
  {
   "cell_type": "code",
   "execution_count": null,
   "metadata": {},
   "outputs": [],
   "source": [
    "# site = 'onetrust.com'\n",
    "# complies[complies.site == site].reset_index(drop=True)\n",
    "# cookie_prefs[(cookie_prefs.site == site) & (cookie_prefs.name == '_gid')]"
   ]
  },
  {
   "cell_type": "code",
   "execution_count": null,
   "metadata": {},
   "outputs": [],
   "source": [
    "top_incor_cookies = incor_cookies.name.value_counts().sort_values(ascending=False).to_frame().reset_index().rename(columns={'index':'cookie_name', 'name': 'num_occur'})"
   ]
  },
  {
   "cell_type": "code",
   "execution_count": null,
   "metadata": {},
   "outputs": [],
   "source": [
    "top_incor_cookies['num_sites'] = top_incor_cookies.cookie_name.map(lambda cookie_name: incor_cookies[incor_cookies.name == cookie_name].site.nunique())"
   ]
  },
  {
   "cell_type": "code",
   "execution_count": null,
   "metadata": {},
   "outputs": [],
   "source": [
    "print(top_incor_cookies.head(5)[['cookie_name', 'num_sites']].rename(columns={'cookie_name': 'Cookie Name', 'num_sites': '# Websites'}).to_latex(index=False))"
   ]
  },
  {
   "cell_type": "markdown",
   "metadata": {},
   "source": [
    "# Narrow cookie consent preferences"
   ]
  },
  {
   "cell_type": "code",
   "execution_count": null,
   "metadata": {},
   "outputs": [],
   "source": [
    "consent_cookies = sent_cookies[sent_cookies.name.isin(['OptanonConsent', 'CookieConsent'])][['domain', 'name', 'site']].drop_duplicates()\n",
    "narrow_consent_cookies = consent_cookies[~consent_cookies.domain.str.startswith('.')].reset_index(drop=True)"
   ]
  },
  {
   "cell_type": "code",
   "execution_count": null,
   "metadata": {},
   "outputs": [],
   "source": [
    "set(contra_cookies.site).intersection(set(narrow_consent_cookies.site))"
   ]
  },
  {
   "cell_type": "code",
   "execution_count": null,
   "metadata": {},
   "outputs": [],
   "source": [
    "narrow_consent_cookies"
   ]
  },
  {
   "cell_type": "markdown",
   "metadata": {},
   "source": [
    "# Case studies"
   ]
  },
  {
   "cell_type": "code",
   "execution_count": null,
   "metadata": {},
   "outputs": [],
   "source": [
    "incor_df = complies[complies.comply == 'incorrect']\n",
    "incor_df.site.value_counts().sort_values(ascending=False).head()"
   ]
  },
  {
   "cell_type": "code",
   "execution_count": null,
   "metadata": {},
   "outputs": [],
   "source": [
    "case_site = 'blabbermouth.net'\n",
    "incor_df[incor_df.site == case_site]"
   ]
  },
  {
   "cell_type": "code",
   "execution_count": null,
   "metadata": {},
   "outputs": [],
   "source": [
    "# cookie_prefs[(cookie_prefs.site == 'scientificamerican.com') & (cookie_prefs.name == 'MXP_TRACKINGID')]\n",
    "cookie_prefs[(cookie_prefs.site == case_site) & (cookie_prefs.name == 'IDE')]"
   ]
  },
  {
   "cell_type": "code",
   "execution_count": null,
   "metadata": {},
   "outputs": [],
   "source": [
    "# sent_cookies[(sent_cookies.site == 'scientificamerican.com') & (sent_cookies.name == 'MXP_TRACKINGID')]"
   ]
  },
  {
   "cell_type": "code",
   "execution_count": null,
   "metadata": {},
   "outputs": [],
   "source": [
    "omit_df = complies[complies.comply == 'omit']\n",
    "omit_df.site.value_counts().sort_values(ascending=False).iloc[20:30]"
   ]
  },
  {
   "cell_type": "code",
   "execution_count": null,
   "metadata": {},
   "outputs": [],
   "source": [
    "print(omit_df[omit_df.site == 'scientificamerican.com'].reset_index().name.tolist())"
   ]
  },
  {
   "cell_type": "code",
   "execution_count": null,
   "metadata": {},
   "outputs": [],
   "source": [
    "'uids' in omit_df[omit_df.site == 'scientificamerican.com'].reset_index().name.tolist()"
   ]
  },
  {
   "cell_type": "code",
   "execution_count": null,
   "metadata": {},
   "outputs": [],
   "source": [
    "omit_df[(omit_df.site == 'scientificamerican.com') & (omit_df.name == 'cftoken')]"
   ]
  },
  {
   "cell_type": "code",
   "execution_count": null,
   "metadata": {},
   "outputs": [],
   "source": [
    "cookie_prefs[(cookie_prefs.site == 'scientificamerican.com') & (cookie_prefs.name == 'ADGRX_UID')]"
   ]
  },
  {
   "cell_type": "code",
   "execution_count": null,
   "metadata": {},
   "outputs": [],
   "source": []
  },
  {
   "cell_type": "code",
   "execution_count": null,
   "metadata": {},
   "outputs": [],
   "source": []
  },
  {
   "cell_type": "code",
   "execution_count": null,
   "metadata": {},
   "outputs": [],
   "source": []
  },
  {
   "cell_type": "code",
   "execution_count": null,
   "metadata": {},
   "outputs": [],
   "source": []
  },
  {
   "cell_type": "code",
   "execution_count": null,
   "metadata": {},
   "outputs": [],
   "source": []
  },
  {
   "cell_type": "code",
   "execution_count": null,
   "metadata": {},
   "outputs": [],
   "source": [
    "all_sites = set(complies.site)\n",
    "nothing_comply_sites = all_sites - set(complies[complies.comply == 'comply'].site)\n",
    "print(\"Sites with no compliant cookies:\", nothing_comply_sites)"
   ]
  },
  {
   "cell_type": "code",
   "execution_count": null,
   "metadata": {},
   "outputs": [],
   "source": [
    "for site in ['liveperson.com']: # nothing_comply_sites:\n",
    "    print(site)\n",
    "site_cookies = postrej_br_cookies[postrej_br_cookies.site == site]"
   ]
  },
  {
   "cell_type": "code",
   "execution_count": null,
   "metadata": {},
   "outputs": [],
   "source": [
    "acookie = site_cookies[site_cookies.name == 'OptanonAlertBoxClosed'].iloc[0]"
   ]
  },
  {
   "cell_type": "code",
   "execution_count": null,
   "metadata": {},
   "outputs": [],
   "source": [
    "site_prefs = cookie_prefs[cookie_prefs.site == site]\n",
    "consent_cookies = site_prefs[site_prefs.consent]\n",
    "consent_cookie_names = consent_cookies.name\n",
    "site_cookies[site_cookies.name.isin(consent_cookie_names)]\n",
    "# cookie_name = 'OptanonAlertBoxClosed'\n",
    "# cookie_pref = site_prefs[site_prefs.name == cookie_name].iloc[0]\n",
    "# cookie_pref"
   ]
  },
  {
   "cell_type": "code",
   "execution_count": null,
   "metadata": {},
   "outputs": [],
   "source": [
    "consent_cookies"
   ]
  },
  {
   "cell_type": "code",
   "execution_count": null,
   "metadata": {},
   "outputs": [],
   "source": [
    "import sys; import importlib; importlib.reload(sys.modules['consent.consistency.cookie_pref_match'])\n",
    "from consent.consistency.cookie_pref_match import cookie_pref_match\n",
    "cookie_pref_match(acookie, cookie_pref, site, verbose=2)"
   ]
  },
  {
   "cell_type": "code",
   "execution_count": null,
   "metadata": {},
   "outputs": [],
   "source": [
    "# Analyze Contras"
   ]
  },
  {
   "cell_type": "code",
   "execution_count": null,
   "metadata": {},
   "outputs": [],
   "source": []
  },
  {
   "cell_type": "code",
   "execution_count": null,
   "metadata": {},
   "outputs": [],
   "source": []
  },
  {
   "cell_type": "code",
   "execution_count": null,
   "metadata": {},
   "outputs": [],
   "source": []
  },
  {
   "cell_type": "code",
   "execution_count": null,
   "metadata": {},
   "outputs": [],
   "source": []
  },
  {
   "cell_type": "code",
   "execution_count": null,
   "metadata": {},
   "outputs": [],
   "source": []
  },
  {
   "cell_type": "code",
   "execution_count": null,
   "metadata": {},
   "outputs": [],
   "source": []
  },
  {
   "cell_type": "code",
   "execution_count": null,
   "metadata": {},
   "outputs": [],
   "source": []
  },
  {
   "cell_type": "code",
   "execution_count": null,
   "metadata": {},
   "outputs": [],
   "source": []
  },
  {
   "cell_type": "code",
   "execution_count": null,
   "metadata": {},
   "outputs": [],
   "source": []
  },
  {
   "cell_type": "code",
   "execution_count": null,
   "metadata": {},
   "outputs": [],
   "source": []
  },
  {
   "cell_type": "code",
   "execution_count": null,
   "metadata": {},
   "outputs": [],
   "source": []
  },
  {
   "cell_type": "code",
   "execution_count": null,
   "metadata": {},
   "outputs": [],
   "source": []
  },
  {
   "cell_type": "code",
   "execution_count": null,
   "metadata": {},
   "outputs": [],
   "source": []
  },
  {
   "cell_type": "code",
   "execution_count": null,
   "metadata": {},
   "outputs": [],
   "source": []
  },
  {
   "cell_type": "code",
   "execution_count": null,
   "metadata": {},
   "outputs": [],
   "source": []
  },
  {
   "cell_type": "code",
   "execution_count": null,
   "metadata": {},
   "outputs": [],
   "source": []
  },
  {
   "cell_type": "code",
   "execution_count": null,
   "metadata": {},
   "outputs": [],
   "source": []
  },
  {
   "cell_type": "code",
   "execution_count": null,
   "metadata": {},
   "outputs": [],
   "source": []
  },
  {
   "cell_type": "code",
   "execution_count": null,
   "metadata": {},
   "outputs": [],
   "source": [
    "\n",
    "\n",
    "\n",
    "\n",
    "\n",
    "\n",
    "\n",
    "\n",
    "\n",
    "\n",
    "\n",
    "\n",
    "\n",
    "\n",
    "\n",
    "\n",
    "\n",
    "\n",
    "\n",
    "\n",
    "\n",
    "\n",
    "\n",
    "\n",
    "\n",
    "\n",
    "\n",
    "\n",
    "\n",
    "\n",
    "\n",
    "\n",
    "\n",
    "\n",
    "\n",
    "\n",
    "\n",
    "\n",
    "\n",
    "\n",
    "\n",
    "\n",
    "\n",
    "\n",
    "\n",
    "\n",
    "\n",
    "\n",
    "\n",
    "\n",
    "\n"
   ]
  }
 ],
 "metadata": {
  "kernelspec": {
   "display_name": "consent",
   "language": "python",
   "name": "python3"
  },
  "language_info": {
   "codemirror_mode": {
    "name": "ipython",
    "version": 3
   },
   "file_extension": ".py",
   "mimetype": "text/x-python",
   "name": "python",
   "nbconvert_exporter": "python",
   "pygments_lexer": "ipython3",
   "version": "3.8.19"
  }
 },
 "nbformat": 4,
 "nbformat_minor": 4
}
