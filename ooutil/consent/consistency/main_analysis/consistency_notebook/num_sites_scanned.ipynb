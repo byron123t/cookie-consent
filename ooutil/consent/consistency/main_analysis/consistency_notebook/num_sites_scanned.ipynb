{
 "cells": [
  {
   "cell_type": "code",
   "execution_count": 9,
   "metadata": {},
   "outputs": [],
   "source": [
    "from collections import defaultdict\n",
    "import os\n",
    "\n",
    "from tqdm import tqdm\n",
    "import pandas as pd\n",
    "import seaborn as sns\n",
    "\n",
    "from consent.consistency.util import get_scan_root_dir, get_scan_dirs # , FIG_DIR uncomment to save fig.\n",
    "from consent.data.database.exper_result_database import ExperResultDatabase\n",
    "from ooutil.df_util import read_data_files\n",
    "\n",
    "pd.options.display.max_rows = 100\n",
    "\n",
    "\n",
    "def get_num_dirs(paths):\n",
    "    def _get_num_dirs(apath):\n",
    "        return len(next(os.walk(apath))[1])\n",
    "    return sum(_get_num_dirs(path) for path in paths)\n",
    "\n",
    "def get_num_scanned_sites(location: str):\n",
    "    return get_num_dirs(get_scan_dirs(location))"
   ]
  },
  {
   "cell_type": "code",
   "execution_count": 7,
   "metadata": {},
   "outputs": [
    {
     "data": {
      "text/plain": [
       "54323"
      ]
     },
     "execution_count": 7,
     "metadata": {},
     "output_type": "execute_result"
    }
   ],
   "source": [
    "get_num_scanned_sites('ca')"
   ]
  },
  {
   "cell_type": "code",
   "execution_count": 8,
   "metadata": {},
   "outputs": [
    {
     "data": {
      "text/plain": [
       "54323"
      ]
     },
     "execution_count": 8,
     "metadata": {},
     "output_type": "execute_result"
    }
   ],
   "source": [
    "get_num_scanned_sites('de')"
   ]
  },
  {
   "cell_type": "code",
   "execution_count": 12,
   "metadata": {},
   "outputs": [
    {
     "data": {
      "text/plain": [
       "54323"
      ]
     },
     "execution_count": 12,
     "metadata": {},
     "output_type": "execute_result"
    }
   ],
   "source": [
    "exper_date = '2023-04-08'\n",
    "\n",
    "site_dfs = [ExperResultDatabase(exper_date, f'en_suc_{cur_set}').query_to_df(projection=['site']) for cur_set in ['0k_20k', '20k_100k']]\n",
    "sites = pd.concat(site_dfs)\n",
    "len(sites)"
   ]
  },
  {
   "cell_type": "code",
   "execution_count": null,
   "metadata": {},
   "outputs": [],
   "source": []
  }
 ],
 "metadata": {
  "kernelspec": {
   "display_name": "consent",
   "language": "python",
   "name": "python3"
  },
  "language_info": {
   "codemirror_mode": {
    "name": "ipython",
    "version": 3
   },
   "file_extension": ".py",
   "mimetype": "text/x-python",
   "name": "python",
   "nbconvert_exporter": "python",
   "pygments_lexer": "ipython3",
   "version": "3.8.19"
  },
  "orig_nbformat": 4
 },
 "nbformat": 4,
 "nbformat_minor": 2
}
