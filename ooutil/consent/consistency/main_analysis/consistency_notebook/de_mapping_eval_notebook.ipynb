{
 "cells": [
  {
   "cell_type": "code",
   "execution_count": 1,
   "metadata": {},
   "outputs": [],
   "source": [
    "from multiprocessing import Pool\n",
    "from pathlib import Path\n",
    "\n",
    "from tqdm import tqdm\n",
    "import pandas as pd\n",
    "from p_tqdm import p_umap\n",
    "\n",
    "from consent.consistency.cookie_pref_match import cookie_pref_match\n",
    "from consent.consistency.util import FIG_DIR, get_scan_dirs, get_scan_root_dir\n",
    "from consent.data.pref_menu_scan.cookie_pref_reader import read_cookie_prefs_in_scans\n",
    "from consent.data.pref_menu_scan.log_reader import read_logs_in_scans\n",
    "from consent.data.pref_menu_scan.cookie_decl_reader import read_cookie_decls_in_scans\n",
    "from consent.data.pref_menu_scan.postrej_cookie_reader import read_postrej_sent_cookies_in_scans\n",
    "from consent.data.pref_menu_scan.cat_pref_reader import read_cat_prefs_in_dirs\n",
    "from consent.util.default_path import get_data_dir\n",
    "from ooutil.type_util import hashabledict\n",
    "from ooutil.url_util import get_suffixed_domain\n",
    "\n",
    "# scan_root_dir = get_data_dir('2021-08-12')\n",
    "# scan_dirs = [scan_root_dir / 'pref_menu_scan_0k_10k',\n",
    "#              scan_root_dir / 'pref_menu_scan_10k_20k',\n",
    "#              scan_root_dir / 'pref_menu_scan_20k_30k']\n",
    "# assert all(scan_dir.exists() for scan_dir in scan_dirs)\n",
    "location = 'de'\n",
    "SCAN_DIRS = get_scan_dirs(location)\n",
    "SCAN_ROOT_DIR = get_scan_root_dir(location)\n",
    "fig_dir = Path.home() / 'local_projects/consent/paper/sp22/figures'\n",
    "assert fig_dir.exists() and fig_dir.is_dir()"
   ]
  },
  {
   "cell_type": "code",
   "execution_count": 2,
   "metadata": {},
   "outputs": [
    {
     "name": "stdout",
     "output_type": "stream",
     "text": [
      "WARNING: Found non-unique (not found or >1 instance) moonpay.com\n",
      "WARNING: Consent cookie not found globaldata.com\n",
      "WARNING: Found non-unique (not found or >1 instance) hidive.com\n",
      "WARNING: Found non-unique (not found or >1 instance) cookiebot.com\n",
      "WARNING: Consent cookie not found wego.com\n",
      "WARNING: Consent cookie not found gtnexus.com\n",
      "WARNING: Found non-unique (not found or >1 instance) tme.eu\n",
      "https://cdn-ukwest.onetrust.com/consent/86f42b6d-7a31-469c-804c-319643173d42/09011ced-ecb6-4fa7-bd0b-30149d23ca54/en.json WARNING: Cookie list has session cookie but duration > 0\n",
      "https://cdn.cookielaw.org/consent/97c4dcf9-39b5-41a7-b88b-69c94baa35f1/f3fcf717-2dfd-4df2-94c1-d16a7b2e7324/en.json WARNING: Cookie list has session cookie but duration > 0\n",
      "https://cdn.cookielaw.org/consent/bfc3f6d1-88f6-4292-b5d2-757633a696fe/ac184959-dbdc-45be-bc47-5fe1f7f7a064/en.json WARNING: Cookie list has session cookie but duration > 0\n",
      "https://cdn-ukwest.onetrust.com/consent/e4eb3b2e-4cc5-4752-b2ca-381970849659/204361df-8a07-4ca3-a82b-f9c3a0433d38/en.json WARNING: Cookie list has session cookie but duration > 0\n",
      "https://cdn.cookielaw.org/consent/c570eb43-1169-4222-914c-38a09bd70ca0/a1f914ac-390b-484b-9577-7c7ad52c8361/en.json WARNING: Cookie list has session cookie but duration > 0\n",
      "https://cdn.cookielaw.org/consent/c570eb43-1169-4222-914c-38a09bd70ca0/a1f914ac-390b-484b-9577-7c7ad52c8361/en.json WARNING: Cookie list has session cookie but duration > 0\n",
      "https://cdn-ukwest.onetrust.com/consent/e00c3e10-0e07-461a-94d5-e87b899fa55a/442b5be0-8f10-4555-b6a6-2aa7c2e23dfa/en.json WARNING: Cookie list has session cookie but duration > 0\n",
      "WARNING: error decoding /mnt/sdd/ducbui/projects/data2/consent/2023-04-14/pref_menu_scan_20k_100k/chromedata.com/consent_resources.json: consent_js not supported yet.\n",
      "https://cdn-ukwest.onetrust.com/consent/86f42b6d-7a31-469c-804c-319643173d42/09011ced-ecb6-4fa7-bd0b-30149d23ca54/en.json WARNING: Cookie list has session cookie but duration > 0\n",
      "WARNING: error decoding /mnt/sdd/ducbui/projects/data2/consent/2023-04-14/pref_menu_scan_20k_100k/keyfactorpki.com/consent_resources.json: \"None of [Index(['name', 'domain', 'duration', 'category_id', 'category',\\n       'consent_mode'],\\n      dtype='object')] are in the [columns]\"\n",
      "https://cookie-cdn.cookiepro.com/consent/b8d5c851-476d-44a8-b314-f31da05a8584/e2664ad1-b808-4766-a4b0-7bebbcb48c5a/en.json WARNING: Cookie list has session cookie but duration > 0\n",
      "https://cdn.cookielaw.org/consent/e59bbdce-b4f8-4ff2-b61b-0e2fd5cdd8eb/580de968-9e99-4ea0-b2cd-0facb2dfec08/en.json WARNING: Cookie list has session cookie but duration > 0\n",
      "WARNING: error decoding /mnt/sdd/ducbui/projects/data2/consent/2023-04-14/pref_menu_scan_20k_100k/workforcesoftware.com/consent_resources.json: \"None of [Index(['name', 'domain', 'duration', 'category_id', 'category',\\n       'consent_mode'],\\n      dtype='object')] are in the [columns]\"\n",
      "WARNING: error decoding /mnt/sdd/ducbui/projects/data2/consent/2023-04-14/pref_menu_scan_20k_100k/fhi360.org/consent_resources.json: consent_js not supported yet.\n",
      "https://cdn.cookielaw.org/consent/c64adbf1-1bf4-42a3-adca-725321c1f6ed/947fe58f-7764-46a7-bcca-e6bd6562f66a/en.json WARNING: Cookie list has session cookie but duration > 0\n",
      "https://cdn.cookielaw.org/consent/32c7db80-9d5f-490a-ae76-44fa02fd78c9/07998eed-4c10-4728-a36f-7708eed34314/en.json WARNING: Cookie list has session cookie but duration > 0\n",
      "WARNING: error decoding /mnt/sdd/ducbui/projects/data2/consent/2023-04-14/pref_menu_scan_20k_100k/appsolid.net/consent_resources.json: No objects to concatenate\n",
      "WARNING: error decoding /mnt/sdd/ducbui/projects/data2/consent/2023-04-14/pref_menu_scan_20k_100k/appsolid.net/consent_resources.json: No objects to concatenate\n",
      "https://cdn.cookielaw.org/consent/c570eb43-1169-4222-914c-38a09bd70ca0/a1f914ac-390b-484b-9577-7c7ad52c8361/en.json WARNING: Cookie list has session cookie but duration > 0\n",
      "WARNING: error decoding /mnt/sdd/ducbui/projects/data2/consent/2023-04-14/pref_menu_scan_20k_100k/mediaforce.com/consent_resources.json: 'NoneType' object has no attribute 'IsSession'\n",
      "https://cdn.cookielaw.org/consent/502d0d7b-6014-4373-9c72-879af88d8e53/13cd4ce4-5bc0-47a0-811a-e6e5823805b6/en-gb.json WARNING: Cookie list has session cookie but duration > 0\n",
      "WARNING: error decoding /mnt/sdd/ducbui/projects/data2/consent/2023-04-14/pref_menu_scan_20k_100k/firaxis.com/consent_resources.json: consent_js not supported yet.\n"
     ]
    },
    {
     "data": {
      "text/html": [
       "<div>\n",
       "<style scoped>\n",
       "    .dataframe tbody tr th:only-of-type {\n",
       "        vertical-align: middle;\n",
       "    }\n",
       "\n",
       "    .dataframe tbody tr th {\n",
       "        vertical-align: top;\n",
       "    }\n",
       "\n",
       "    .dataframe thead th {\n",
       "        text-align: right;\n",
       "    }\n",
       "</style>\n",
       "<table border=\"1\" class=\"dataframe\">\n",
       "  <thead>\n",
       "    <tr style=\"text-align: right;\">\n",
       "      <th></th>\n",
       "      <th>name</th>\n",
       "      <th>domain</th>\n",
       "      <th>duration</th>\n",
       "      <th>category_id</th>\n",
       "      <th>category</th>\n",
       "      <th>consent_mode</th>\n",
       "      <th>site</th>\n",
       "      <th>lib_name</th>\n",
       "      <th>pattern_name</th>\n",
       "      <th>consent</th>\n",
       "    </tr>\n",
       "  </thead>\n",
       "  <tbody>\n",
       "    <tr>\n",
       "      <th>0</th>\n",
       "      <td>user</td>\n",
       "      <td>www.wework.com</td>\n",
       "      <td>Session</td>\n",
       "      <td>C0001</td>\n",
       "      <td>Strictly Necessary Cookies</td>\n",
       "      <td>always active</td>\n",
       "      <td>wework.com</td>\n",
       "      <td>onetrust</td>\n",
       "      <td>en.json</td>\n",
       "      <td>True</td>\n",
       "    </tr>\n",
       "    <tr>\n",
       "      <th>1</th>\n",
       "      <td>__we_request_id</td>\n",
       "      <td>www.wework.com</td>\n",
       "      <td>Session</td>\n",
       "      <td>C0001</td>\n",
       "      <td>Strictly Necessary Cookies</td>\n",
       "      <td>always active</td>\n",
       "      <td>wework.com</td>\n",
       "      <td>onetrust</td>\n",
       "      <td>en.json</td>\n",
       "      <td>True</td>\n",
       "    </tr>\n",
       "    <tr>\n",
       "      <th>2</th>\n",
       "      <td>ajs_anonymous_id</td>\n",
       "      <td>wework.com</td>\n",
       "      <td>365 days</td>\n",
       "      <td>C0001</td>\n",
       "      <td>Strictly Necessary Cookies</td>\n",
       "      <td>always active</td>\n",
       "      <td>wework.com</td>\n",
       "      <td>onetrust</td>\n",
       "      <td>en.json</td>\n",
       "      <td>True</td>\n",
       "    </tr>\n",
       "    <tr>\n",
       "      <th>3</th>\n",
       "      <td>_gclxxxx</td>\n",
       "      <td>wework.com</td>\n",
       "      <td>90 days</td>\n",
       "      <td>C0001</td>\n",
       "      <td>Strictly Necessary Cookies</td>\n",
       "      <td>always active</td>\n",
       "      <td>wework.com</td>\n",
       "      <td>onetrust</td>\n",
       "      <td>en.json</td>\n",
       "      <td>True</td>\n",
       "    </tr>\n",
       "    <tr>\n",
       "      <th>4</th>\n",
       "      <td>__we_bucket_id</td>\n",
       "      <td>www.wework.com</td>\n",
       "      <td>365 days</td>\n",
       "      <td>C0001</td>\n",
       "      <td>Strictly Necessary Cookies</td>\n",
       "      <td>always active</td>\n",
       "      <td>wework.com</td>\n",
       "      <td>onetrust</td>\n",
       "      <td>en.json</td>\n",
       "      <td>True</td>\n",
       "    </tr>\n",
       "  </tbody>\n",
       "</table>\n",
       "</div>"
      ],
      "text/plain": [
       "               name          domain  duration category_id  \\\n",
       "0              user  www.wework.com   Session       C0001   \n",
       "1   __we_request_id  www.wework.com   Session       C0001   \n",
       "2  ajs_anonymous_id      wework.com  365 days       C0001   \n",
       "3          _gclxxxx      wework.com   90 days       C0001   \n",
       "4    __we_bucket_id  www.wework.com  365 days       C0001   \n",
       "\n",
       "                     category   consent_mode        site  lib_name  \\\n",
       "0  Strictly Necessary Cookies  always active  wework.com  onetrust   \n",
       "1  Strictly Necessary Cookies  always active  wework.com  onetrust   \n",
       "2  Strictly Necessary Cookies  always active  wework.com  onetrust   \n",
       "3  Strictly Necessary Cookies  always active  wework.com  onetrust   \n",
       "4  Strictly Necessary Cookies  always active  wework.com  onetrust   \n",
       "\n",
       "  pattern_name consent  \n",
       "0      en.json    True  \n",
       "1      en.json    True  \n",
       "2      en.json    True  \n",
       "3      en.json    True  \n",
       "4      en.json    True  "
      ]
     },
     "execution_count": 2,
     "metadata": {},
     "output_type": "execute_result"
    }
   ],
   "source": [
    "# Read in cookie declaration\n",
    "# Number cookie declarations per websites\n",
    "raw_cookie_prefs = read_cookie_prefs_in_scans(SCAN_DIRS)\n",
    "raw_cookie_prefs.head()"
   ]
  },
  {
   "cell_type": "code",
   "execution_count": 3,
   "metadata": {},
   "outputs": [
    {
     "name": "stdout",
     "output_type": "stream",
     "text": [
      "Number sent cookies read: 13,055,212\n"
     ]
    },
    {
     "data": {
      "text/html": [
       "<div>\n",
       "<style scoped>\n",
       "    .dataframe tbody tr th:only-of-type {\n",
       "        vertical-align: middle;\n",
       "    }\n",
       "\n",
       "    .dataframe tbody tr th {\n",
       "        vertical-align: top;\n",
       "    }\n",
       "\n",
       "    .dataframe thead th {\n",
       "        text-align: right;\n",
       "    }\n",
       "</style>\n",
       "<table border=\"1\" class=\"dataframe\">\n",
       "  <thead>\n",
       "    <tr style=\"text-align: right;\">\n",
       "      <th></th>\n",
       "      <th>name</th>\n",
       "      <th>value</th>\n",
       "      <th>domain</th>\n",
       "      <th>path</th>\n",
       "      <th>expires</th>\n",
       "      <th>size</th>\n",
       "      <th>httpOnly</th>\n",
       "      <th>secure</th>\n",
       "      <th>session</th>\n",
       "      <th>sameSite</th>\n",
       "      <th>priority</th>\n",
       "      <th>sameParty</th>\n",
       "      <th>sourceScheme</th>\n",
       "      <th>sourcePort</th>\n",
       "      <th>request_url</th>\n",
       "      <th>site</th>\n",
       "      <th>page_url</th>\n",
       "    </tr>\n",
       "  </thead>\n",
       "  <tbody>\n",
       "    <tr>\n",
       "      <th>0</th>\n",
       "      <td>ajs_anonymous_id</td>\n",
       "      <td>8b883f8e-dd49-4ffa-bc01-56e536e0e19c</td>\n",
       "      <td>.wework.com</td>\n",
       "      <td>/</td>\n",
       "      <td>1.713082e+09</td>\n",
       "      <td>52</td>\n",
       "      <td>False</td>\n",
       "      <td>False</td>\n",
       "      <td>False</td>\n",
       "      <td>Lax</td>\n",
       "      <td>Medium</td>\n",
       "      <td>False</td>\n",
       "      <td>Secure</td>\n",
       "      <td>443</td>\n",
       "      <td>https://www.wework.com/</td>\n",
       "      <td>wework.com</td>\n",
       "      <td>https://www.wework.com/l/commercial-real-estat...</td>\n",
       "    </tr>\n",
       "    <tr>\n",
       "      <th>1</th>\n",
       "      <td>ajs_anonymous_id</td>\n",
       "      <td>8b883f8e-dd49-4ffa-bc01-56e536e0e19c</td>\n",
       "      <td>.wework.com</td>\n",
       "      <td>/</td>\n",
       "      <td>1.713082e+09</td>\n",
       "      <td>52</td>\n",
       "      <td>False</td>\n",
       "      <td>False</td>\n",
       "      <td>False</td>\n",
       "      <td>Lax</td>\n",
       "      <td>Medium</td>\n",
       "      <td>False</td>\n",
       "      <td>Secure</td>\n",
       "      <td>443</td>\n",
       "      <td>https://www-static.wework.com/apercu/apercu.css</td>\n",
       "      <td>wework.com</td>\n",
       "      <td>https://www.wework.com/l/commercial-real-estat...</td>\n",
       "    </tr>\n",
       "    <tr>\n",
       "      <th>2</th>\n",
       "      <td>we_referring_domain</td>\n",
       "      <td></td>\n",
       "      <td>www.wework.com</td>\n",
       "      <td>/</td>\n",
       "      <td>1.682755e+09</td>\n",
       "      <td>19</td>\n",
       "      <td>False</td>\n",
       "      <td>False</td>\n",
       "      <td>False</td>\n",
       "      <td>None</td>\n",
       "      <td>Medium</td>\n",
       "      <td>False</td>\n",
       "      <td>Secure</td>\n",
       "      <td>443</td>\n",
       "      <td>https://www.wework.com/l/commercial-real-estat...</td>\n",
       "      <td>wework.com</td>\n",
       "      <td>https://www.wework.com/l/commercial-real-estat...</td>\n",
       "    </tr>\n",
       "  </tbody>\n",
       "</table>\n",
       "</div>"
      ],
      "text/plain": [
       "                  name                                 value          domain  \\\n",
       "0     ajs_anonymous_id  8b883f8e-dd49-4ffa-bc01-56e536e0e19c     .wework.com   \n",
       "1     ajs_anonymous_id  8b883f8e-dd49-4ffa-bc01-56e536e0e19c     .wework.com   \n",
       "2  we_referring_domain                                        www.wework.com   \n",
       "\n",
       "  path       expires  size  httpOnly  secure  session sameSite priority  \\\n",
       "0    /  1.713082e+09    52     False   False    False      Lax   Medium   \n",
       "1    /  1.713082e+09    52     False   False    False      Lax   Medium   \n",
       "2    /  1.682755e+09    19     False   False    False     None   Medium   \n",
       "\n",
       "   sameParty sourceScheme  sourcePort  \\\n",
       "0      False       Secure         443   \n",
       "1      False       Secure         443   \n",
       "2      False       Secure         443   \n",
       "\n",
       "                                         request_url        site  \\\n",
       "0                            https://www.wework.com/  wework.com   \n",
       "1    https://www-static.wework.com/apercu/apercu.css  wework.com   \n",
       "2  https://www.wework.com/l/commercial-real-estat...  wework.com   \n",
       "\n",
       "                                            page_url  \n",
       "0  https://www.wework.com/l/commercial-real-estat...  \n",
       "1  https://www.wework.com/l/commercial-real-estat...  \n",
       "2  https://www.wework.com/l/commercial-real-estat...  "
      ]
     },
     "execution_count": 3,
     "metadata": {},
     "output_type": "execute_result"
    }
   ],
   "source": [
    "# Read in cookie transfer \n",
    "# import sys; import importlib; importlib.reload(sys.modules['consent.data.pref_menu_scan.postrej_cookie_reader'])\n",
    "from consent.data.pref_menu_scan.har_cookie_reader import read_postrej_sent_cookies_in_scans\n",
    "\n",
    "\n",
    "overwrite = False\n",
    "cookies_cache_file = SCAN_ROOT_DIR / 'scan.parquet'\n",
    "\n",
    "if not overwrite and cookies_cache_file and cookies_cache_file.exists():\n",
    "    sent_cookies = pd.read_parquet(cookies_cache_file)\n",
    "else:\n",
    "    sent_cookies = read_postrej_sent_cookies_in_scans(SCAN_DIRS)\n",
    "    if cookies_cache_file: sent_cookies.to_parquet(cookies_cache_file); print(f\"Written to {cookies_cache_file}\")\n",
    "\n",
    "print(f\"Number sent cookies read: {len(sent_cookies):,d}\")\n",
    "sent_cookies.head(3)"
   ]
  },
  {
   "cell_type": "code",
   "execution_count": 4,
   "metadata": {},
   "outputs": [
    {
     "name": "stdout",
     "output_type": "stream",
     "text": [
      "There are 678,040 unique_cookie_prefs (761,943 preferences with duplicates)\n",
      "126 sites in sent cookies but do not have preferences.\n"
     ]
    }
   ],
   "source": [
    "# check duplicates in cookie preferences\n",
    "cookie_prefs = raw_cookie_prefs.drop_duplicates()\n",
    "print(f'There are {len(cookie_prefs):,d} unique_cookie_prefs ({len(raw_cookie_prefs):,d} preferences with duplicates)')\n",
    "print(f\"{len(set(sent_cookies.site) - set(cookie_prefs.site))} sites in sent cookies but do not have preferences.\")"
   ]
  },
  {
   "cell_type": "code",
   "execution_count": 5,
   "metadata": {},
   "outputs": [
    {
     "name": "stdout",
     "output_type": "stream",
     "text": [
      "Num sample sites: 4,785 100.00% of all 4785 sites.\n"
     ]
    }
   ],
   "source": [
    "# Sample a subset, from this point, use s_cookie_prefs\n",
    "n_samples = len(cookie_prefs) # 100\n",
    "sample_sites = cookie_prefs.sample(n_samples, random_state=1024).site.unique()\n",
    "n_sites = cookie_prefs.site.nunique()\n",
    "print(f\"Num sample sites: {len(sample_sites):,d} {len(sample_sites) / n_sites*100:.2f}% of all {n_sites} sites.\")\n",
    "\n",
    "s_cookie_prefs = cookie_prefs[cookie_prefs.site.isin(sample_sites)].drop_duplicates()"
   ]
  },
  {
   "cell_type": "code",
   "execution_count": 6,
   "metadata": {},
   "outputs": [],
   "source": [
    "# Map and detect ambiguity; note: prj = post-rejection, from this point, use prj_sent_cookies and prj_br_cookies\n",
    "s_sent_cookies = sent_cookies[sent_cookies.site.isin(sample_sites)]\n",
    "prj_sent_cookies = s_sent_cookies[['domain', 'expires', 'name', 'path', 'sameSite', 'secure', 'value', 'request_url', 'site']].drop_duplicates()\n",
    "prj_br_cookies = prj_sent_cookies[['domain', 'expires', 'name', 'path', 'sameSite', 'secure', 'site']].drop_duplicates()"
   ]
  },
  {
   "cell_type": "code",
   "execution_count": 7,
   "metadata": {},
   "outputs": [
    {
     "name": "stdout",
     "output_type": "stream",
     "text": [
      "Num captured sent cookies: 12,730,436\n",
      "Num unique captured cookies: 7,262,077\n",
      "Num unique browser cookies: 242,007 on 4,760 websites and 26,391 pages\n"
     ]
    }
   ],
   "source": [
    "print(f\"Num captured sent cookies: {len(s_sent_cookies):,d}\")\n",
    "print(f\"Num unique captured cookies: {len(prj_sent_cookies):,d}\")\n",
    "n_br_cookies = len(prj_br_cookies)\n",
    "print(f\"Num unique browser cookies: {n_br_cookies:,d} on {prj_br_cookies.site.nunique():,d} websites and {s_sent_cookies.page_url.nunique():,d} pages\")"
   ]
  },
  {
   "cell_type": "markdown",
   "metadata": {},
   "source": [
    "# Find number of cookie preferences that match a browser cookie."
   ]
  },
  {
   "cell_type": "code",
   "execution_count": 8,
   "metadata": {},
   "outputs": [
    {
     "name": "stdout",
     "output_type": "stream",
     "text": [
      "Num browser cookies: 242,007, Num preferences: 676,087\n"
     ]
    }
   ],
   "source": [
    "# Select the strategy with the lowest ambiguity score.\n",
    "\n",
    "import sys; import importlib; importlib.reload(sys.modules['consent.consistency.cookie_pref_match'])\n",
    "from consent.consistency.cookie_pref_match import cookie_pref_match\n",
    "\n",
    "prefs = s_cookie_prefs[['name', 'domain', 'category_id', 'category', 'consent_mode', 'site']].drop_duplicates()\n",
    "print(f\"Num browser cookies: {len(prj_br_cookies):,d}, Num preferences: {len(prefs):,d}\")"
   ]
  },
  {
   "cell_type": "code",
   "execution_count": 9,
   "metadata": {},
   "outputs": [
    {
     "name": "stdout",
     "output_type": "stream",
     "text": [
      "242007\n",
      "103157\n",
      "102011\n",
      "101581\n"
     ]
    }
   ],
   "source": [
    "# How number of cookies changes when reducing the properties\n",
    "print(len(prj_sent_cookies[['name', 'domain', 'path', 'sameSite', 'secure', 'site', 'expires']].drop_duplicates()))\n",
    "print(len(prj_sent_cookies[['name', 'domain', 'path', 'sameSite', 'secure', 'site']].drop_duplicates()))\n",
    "print(len(prj_sent_cookies[['name', 'domain', 'path', 'site']].drop_duplicates()))\n",
    "print(len(prj_sent_cookies[['name', 'domain', 'site']].drop_duplicates()))"
   ]
  },
  {
   "cell_type": "code",
   "execution_count": 10,
   "metadata": {},
   "outputs": [
    {
     "name": "stdout",
     "output_type": "stream",
     "text": [
      "After reduction and dropping duplicates, num browser cookies: 102,011, Num preferences: 672,848\n"
     ]
    }
   ],
   "source": [
    "prefs = prefs[['name', 'domain', 'site']].drop_duplicates()\n",
    "prj_br_cookies = prj_br_cookies[['name', 'domain', 'path', 'site']].drop_duplicates()\n",
    "print(f\"After reduction and dropping duplicates, num browser cookies: {len(prj_br_cookies):,d}, Num preferences: {len(prefs):,d}\")"
   ]
  },
  {
   "cell_type": "code",
   "execution_count": 11,
   "metadata": {},
   "outputs": [
    {
     "name": "stdout",
     "output_type": "stream",
     "text": [
      "Number of sites: 4,785\n"
     ]
    }
   ],
   "source": [
    "sites = prefs.site.unique()\n",
    "print(f\"Number of sites: {len(sites):,d}\")"
   ]
  },
  {
   "cell_type": "code",
   "execution_count": 12,
   "metadata": {},
   "outputs": [],
   "source": [
    "def get_cookie_pref_pairs(sites):\n",
    "    for site in sites:\n",
    "        site_prefs = prefs[prefs.site == site]\n",
    "        site_cookies = prj_br_cookies[prj_br_cookies.site == site]\n",
    "        yield (site_prefs.copy(), site_cookies.copy())\n",
    "\n",
    "pref_cookie_pairs = list(get_cookie_pref_pairs(sites)) # about 20 secs"
   ]
  },
  {
   "cell_type": "markdown",
   "metadata": {},
   "source": [
    "# Get pref->cookies"
   ]
  },
  {
   "cell_type": "code",
   "execution_count": 13,
   "metadata": {},
   "outputs": [
    {
     "data": {
      "application/vnd.jupyter.widget-view+json": {
       "model_id": "50823dbc7ed3430babf81a7fe5752b44",
       "version_major": 2,
       "version_minor": 0
      },
      "text/plain": [
       "  0%|          | 0/4785 [00:00<?, ?it/s]"
      ]
     },
     "metadata": {},
     "output_type": "display_data"
    },
    {
     "name": "stdout",
     "output_type": "stream",
     "text": [
      "Error fuzzy name match pref_name='csrf[frontend.store-api.proxy]' cookie_name='csrf[frontend.store-api.proxy]' bad character range e-a at position 22\n",
      "Error fuzzy name match pref_name='csrf[frontend.store-api.proxy]' cookie_name='csrf[frontend.store-api.proxy]' bad character range e-a at position 22\n",
      "Error fuzzy name match pref_name='csrf[moorl.sign-in.get-url]' cookie_name='csrf[moorl.sign-in.get-url]' bad character range n-i at position 18\n",
      "Error fuzzy name match pref_name='csrf[moorl.sign-in.get-url]' cookie_name='csrf[moorl.sign-in.get-url]' bad character range n-i at position 18\n"
     ]
    }
   ],
   "source": [
    "\n",
    "def get_n_cookie_matches(pref, cookies):\n",
    "    n_matches = 0\n",
    "    for cookie in cookies[(cookies.site == pref['site']) & (cookies.name == pref['name'])][['domain', 'name']].drop_duplicates().to_dict('records'):\n",
    "        if cookie_pref_match(cookie, pref, pref['site']):\n",
    "        # if cookie['domain'] == pref['domain']:\n",
    "        # if cookie['domain'] == '.' + pref['domain']:\n",
    "            n_matches += 1\n",
    "    return n_matches\n",
    "\n",
    "def get_site_cookie_matches(site_prefs, site_cookies):\n",
    "    site_prefs['n_cookie_matches'] = site_prefs.apply(lambda row: get_n_cookie_matches(row, site_cookies), axis=1)\n",
    "    return site_prefs\n",
    "\n",
    "def run_get_n_cookie_matches(pref_cookie_pairs):\n",
    "    results = p_umap(get_site_cookie_matches, *zip(*pref_cookie_pairs), num_cpus=32)  # 8-16: cannot interrupt. 48 takes 122s, 32-48 because no IO-blocking\n",
    "    return pd.concat(results)\n",
    "\n",
    "\n",
    "match_prefs = run_get_n_cookie_matches(pref_cookie_pairs)  # 21min with 1 core, 1 min with 8 cores"
   ]
  },
  {
   "cell_type": "code",
   "execution_count": 14,
   "metadata": {},
   "outputs": [
    {
     "name": "stdout",
     "output_type": "stream",
     "text": [
      "Distribution of preference -> n cookie matches:\n",
      "\\begin{tabular}{lr}\n",
      "\\toprule\n",
      "{} &  n\\_cookie\\_matches \\\\\n",
      "\\midrule\n",
      "0 &            614170 \\\\\n",
      "1 &             58333 \\\\\n",
      "2 &               336 \\\\\n",
      "3 &                 8 \\\\\n",
      "4 &                 1 \\\\\n",
      "\\bottomrule\n",
      "\\end{tabular}\n",
      "\n"
     ]
    },
    {
     "name": "stderr",
     "output_type": "stream",
     "text": [
      "/tmp/ipykernel_1821784/1528097255.py:3: FutureWarning: In future versions `DataFrame.to_latex` is expected to utilise the base implementation of `Styler.to_latex` for formatting and rendering. The arguments signature may therefore change. It is recommended instead to use `DataFrame.style.to_latex` which also contains additional functionality.\n",
      "  print(vc.to_latex())\n"
     ]
    }
   ],
   "source": [
    "print(\"Distribution of preference -> n cookie matches:\")\n",
    "vc = match_prefs.n_cookie_matches.value_counts()\n",
    "print(vc.to_latex())"
   ]
  },
  {
   "cell_type": "code",
   "execution_count": 15,
   "metadata": {},
   "outputs": [
    {
     "name": "stdout",
     "output_type": "stream",
     "text": [
      "Number of missing mapping (1 decl -> 0 cookies): 91.28%\n",
      "Number of ambiguous mapping (1 decl -> cookie declarations): n_multi=345 n_uniq=58,333 n_nempt=58,678 total=672,848: 0.05%\n",
      "Total cookies with mapping: 58,678\n"
     ]
    }
   ],
   "source": [
    "n_zero = vc[vc.index == 0].sum()\n",
    "n_nempt = vc[vc.index > 0].sum()\n",
    "n_multi = vc[vc.index > 1].sum()\n",
    "n_uniq = vc[1]\n",
    "total = vc.sum()\n",
    "print(f\"Number of missing mapping (1 decl -> 0 cookies): {n_zero/total*100:.2f}%\")\n",
    "print(f\"Number of ambiguous mapping (1 decl -> cookie declarations): {n_multi=:,d} {n_uniq=:,d} {n_nempt=:,d} {total=:,d}: {n_multi/total*100:.2f}%\")\n",
    "print(f\"Total cookies with mapping: {n_nempt:,d}\")"
   ]
  },
  {
   "cell_type": "markdown",
   "metadata": {},
   "source": [
    "# Get cookie->pref"
   ]
  },
  {
   "cell_type": "code",
   "execution_count": 16,
   "metadata": {},
   "outputs": [
    {
     "data": {
      "application/vnd.jupyter.widget-view+json": {
       "model_id": "93a732be629c423ab08da0f68d750991",
       "version_major": 2,
       "version_minor": 0
      },
      "text/plain": [
       "  0%|          | 0/4785 [00:00<?, ?it/s]"
      ]
     },
     "metadata": {},
     "output_type": "display_data"
    },
    {
     "name": "stdout",
     "output_type": "stream",
     "text": [
      "Error fuzzy name match pref_name='csrf[moorl.sign-in.get-url]' cookie_name='csrf[moorl.sign-in.get-url]'Error fuzzy name match pref_name='csrf[moorl.sign-in.get-url]' cookie_name='csrf[moorl.sign-in.get-url]' bad character range n-i at position 18\n",
      " bad character range n-i at position 18\n",
      "Error fuzzy name match pref_name='csrf[frontend.store-api.proxy]' cookie_name='csrf[frontend.store-api.proxy]' bad character range e-a at position 22\n",
      "Error fuzzy name match pref_name='csrf[frontend.store-api.proxy]' cookie_name='csrf[frontend.store-api.proxy]' bad character range e-a at position 22\n"
     ]
    }
   ],
   "source": [
    "# Dask single machine 57 sec, 35 min single core, 6min min on 32 cores, progress bar not show progressively\n",
    "\n",
    "# from dask.distributed import Client\n",
    "# Client()\n",
    "# prj_br_cookies_ddf = dd.from_pandas(prj_br_cookies, npartitions=32)\n",
    "# x = prj_br_cookies_ddf.apply(lambda row: get_n_pref_matches(row, prefs), axis=1, meta=('n_matches', 'int64'))\n",
    "# prj_br_cookies['n_pref_matches'] = x.compute() # convert to final result, instantly\n",
    "\n",
    "def get_n_pref_matches(cookie, cookie_prefs):\n",
    "    n_matches = 0\n",
    "    for pref in cookie_prefs[(cookie_prefs.site == cookie['site']) & (cookie_prefs.name == cookie['name'])][['domain', 'name']].drop_duplicates().to_dict('records'):\n",
    "        if cookie_pref_match(cookie, pref, cookie['site']):\n",
    "        # if cookie['domain'] == pref['domain']:\n",
    "        # if cookie['domain'] == '.' + pref['domain']:\n",
    "            n_matches += 1\n",
    "    return n_matches\n",
    "\n",
    "def get_site_pref_matches(site_prefs, site_cookies):\n",
    "    if len(site_cookies) == 0:\n",
    "        return None\n",
    "\n",
    "    site_cookies['n_pref_matches'] = site_cookies.apply(lambda row: get_n_pref_matches(row, site_prefs), axis=1)\n",
    "    return site_cookies\n",
    "\n",
    "def run_get_n_pref_matches(pref_cookie_pairs):\n",
    "    # for site_prefs, site_cookies in pref_cookie_pairs: # get_site_pref_matches(site_prefs, site_cookies) # Debug\n",
    "    results = p_umap(get_site_pref_matches, *zip(*pref_cookie_pairs), num_cpus=16)\n",
    "    results = [r for r in results if r is not None]\n",
    "    return pd.concat(results)\n",
    "\n",
    "match_cookies = run_get_n_pref_matches(pref_cookie_pairs)"
   ]
  },
  {
   "cell_type": "code",
   "execution_count": 17,
   "metadata": {},
   "outputs": [
    {
     "name": "stdout",
     "output_type": "stream",
     "text": [
      "\\begin{tabular}{lr}\n",
      "\\toprule\n",
      "{} &  n\\_pref\\_matches \\\\\n",
      "\\midrule\n",
      "1 &           55929 \\\\\n",
      "0 &           44417 \\\\\n",
      "2 &            1663 \\\\\n",
      "3 &               2 \\\\\n",
      "\\bottomrule\n",
      "\\end{tabular}\n",
      "\n"
     ]
    },
    {
     "name": "stderr",
     "output_type": "stream",
     "text": [
      "/tmp/ipykernel_1821784/864777999.py:2: FutureWarning: In future versions `DataFrame.to_latex` is expected to utilise the base implementation of `Styler.to_latex` for formatting and rendering. The arguments signature may therefore change. It is recommended instead to use `DataFrame.style.to_latex` which also contains additional functionality.\n",
      "  print(vc.to_latex())\n"
     ]
    }
   ],
   "source": [
    "vc = match_cookies.n_pref_matches.value_counts()\n",
    "print(vc.to_latex())"
   ]
  },
  {
   "cell_type": "code",
   "execution_count": 18,
   "metadata": {},
   "outputs": [
    {
     "name": "stdout",
     "output_type": "stream",
     "text": [
      "Number of missing mapping (decl -> 0 cookie): 43.54\n",
      "Number of ambiguous mapping (1 cookie -> multiple preferences): n_multi=1,665 n_uniq=55,929 n_nempt=57,594 total=102,011: 1.63\n",
      "Total cookies with mapping: 57,594\n"
     ]
    }
   ],
   "source": [
    "n_zeros = vc[vc.index == 0].sum()\n",
    "n_nempt = vc[vc.index > 0].sum()\n",
    "n_multi = vc[vc.index > 1].sum()\n",
    "n_uniq = vc[1]\n",
    "total = vc.sum()\n",
    "print(f\"Number of missing mapping (decl -> 0 cookie): {n_zeros/total*100:.2f}\")\n",
    "print(f\"Number of ambiguous mapping (1 cookie -> multiple preferences): {n_multi=:,d} {n_uniq=:,d} {n_nempt=:,d} {total=:,d}: {n_multi/total*100:.2f}\")\n",
    "print(f\"Total cookies with mapping: {n_nempt:,d}\")"
   ]
  },
  {
   "cell_type": "code",
   "execution_count": null,
   "metadata": {},
   "outputs": [],
   "source": [
    "import sys; sys.exit(0)"
   ]
  },
  {
   "cell_type": "markdown",
   "metadata": {},
   "source": [
    "# Case study of 1 cookie -> multiple preferences"
   ]
  },
  {
   "cell_type": "code",
   "execution_count": 21,
   "metadata": {},
   "outputs": [
    {
     "data": {
      "text/html": [
       "<div>\n",
       "<style scoped>\n",
       "    .dataframe tbody tr th:only-of-type {\n",
       "        vertical-align: middle;\n",
       "    }\n",
       "\n",
       "    .dataframe tbody tr th {\n",
       "        vertical-align: top;\n",
       "    }\n",
       "\n",
       "    .dataframe thead th {\n",
       "        text-align: right;\n",
       "    }\n",
       "</style>\n",
       "<table border=\"1\" class=\"dataframe\">\n",
       "  <thead>\n",
       "    <tr style=\"text-align: right;\">\n",
       "      <th></th>\n",
       "      <th>name</th>\n",
       "      <th>domain</th>\n",
       "      <th>path</th>\n",
       "      <th>site</th>\n",
       "      <th>n_pref_matches</th>\n",
       "    </tr>\n",
       "  </thead>\n",
       "  <tbody>\n",
       "    <tr>\n",
       "      <th>316</th>\n",
       "      <td>RT</td>\n",
       "      <td>.exxonmobil.com</td>\n",
       "      <td>/</td>\n",
       "      <td>exxonmobil.com</td>\n",
       "      <td>2</td>\n",
       "    </tr>\n",
       "    <tr>\n",
       "      <th>87</th>\n",
       "      <td>fr</td>\n",
       "      <td>.facebook.com</td>\n",
       "      <td>/</td>\n",
       "      <td>hindawi.com</td>\n",
       "      <td>2</td>\n",
       "    </tr>\n",
       "    <tr>\n",
       "      <th>113</th>\n",
       "      <td>MUID</td>\n",
       "      <td>.bing.com</td>\n",
       "      <td>/</td>\n",
       "      <td>hindawi.com</td>\n",
       "      <td>2</td>\n",
       "    </tr>\n",
       "    <tr>\n",
       "      <th>6</th>\n",
       "      <td>__cflb</td>\n",
       "      <td>www.rentalcars.com</td>\n",
       "      <td>/</td>\n",
       "      <td>rentalcars.com</td>\n",
       "      <td>2</td>\n",
       "    </tr>\n",
       "    <tr>\n",
       "      <th>1980</th>\n",
       "      <td>IDE</td>\n",
       "      <td>.doubleclick.net</td>\n",
       "      <td>/</td>\n",
       "      <td>bankrate.com</td>\n",
       "      <td>2</td>\n",
       "    </tr>\n",
       "  </tbody>\n",
       "</table>\n",
       "</div>"
      ],
      "text/plain": [
       "        name              domain path            site  n_pref_matches\n",
       "316       RT     .exxonmobil.com    /  exxonmobil.com               2\n",
       "87        fr       .facebook.com    /     hindawi.com               2\n",
       "113     MUID           .bing.com    /     hindawi.com               2\n",
       "6     __cflb  www.rentalcars.com    /  rentalcars.com               2\n",
       "1980     IDE    .doubleclick.net    /    bankrate.com               2"
      ]
     },
     "execution_count": 21,
     "metadata": {},
     "output_type": "execute_result"
    }
   ],
   "source": [
    "match_cookies[match_cookies.n_pref_matches > 1].head(5)"
   ]
  },
  {
   "cell_type": "code",
   "execution_count": 22,
   "metadata": {},
   "outputs": [
    {
     "name": "stderr",
     "output_type": "stream",
     "text": [
      "100%|██████████| 888/888 [00:25<00:00, 35.38it/s]"
     ]
    },
    {
     "name": "stdout",
     "output_type": "stream",
     "text": [
      "Number of cases that domains differ only by the prefix dot: 445\n",
      "Number of cases that domains are suffixes: 888\n"
     ]
    },
    {
     "name": "stderr",
     "output_type": "stream",
     "text": [
      "\n"
     ]
    }
   ],
   "source": [
    "n_dot_prefix_domains = 0\n",
    "n_same_suffix_domains = 0\n",
    "for mcookie in tqdm(match_cookies[match_cookies.n_pref_matches == 2].to_dict('records')):\n",
    "    mprefs = prefs[(prefs.name == mcookie['name']) & (prefs.site == mcookie['site'])]\n",
    "    mprefs = mprefs[mprefs.apply(lambda row: cookie_pref_match(mcookie, row, mcookie['site']), axis=1)]\n",
    "    pr_domains = [d.lower() for d in mprefs.domain.to_list()]\n",
    "    pr_domains = sorted(pr_domains, key=len)\n",
    "    if pr_domains[1] == '.' + pr_domains[0]:\n",
    "        n_dot_prefix_domains += 1\n",
    "    if pr_domains[1].endswith(pr_domains[0]):\n",
    "        n_same_suffix_domains += 1\n",
    "print(f\"Number of cases that domains differ only by the prefix dot: {n_dot_prefix_domains:,d}\") \n",
    "print(f\"Number of cases that domains are suffixes: {n_same_suffix_domains:,d}\") "
   ]
  },
  {
   "cell_type": "code",
   "execution_count": 23,
   "metadata": {},
   "outputs": [
    {
     "data": {
      "text/html": [
       "<div>\n",
       "<style scoped>\n",
       "    .dataframe tbody tr th:only-of-type {\n",
       "        vertical-align: middle;\n",
       "    }\n",
       "\n",
       "    .dataframe tbody tr th {\n",
       "        vertical-align: top;\n",
       "    }\n",
       "\n",
       "    .dataframe thead th {\n",
       "        text-align: right;\n",
       "    }\n",
       "</style>\n",
       "<table border=\"1\" class=\"dataframe\">\n",
       "  <thead>\n",
       "    <tr style=\"text-align: right;\">\n",
       "      <th></th>\n",
       "      <th>name</th>\n",
       "      <th>domain</th>\n",
       "      <th>site</th>\n",
       "    </tr>\n",
       "  </thead>\n",
       "  <tbody>\n",
       "    <tr>\n",
       "      <th>37</th>\n",
       "      <td>IDE</td>\n",
       "      <td>doubleclick.net</td>\n",
       "      <td>splunkcloud.com</td>\n",
       "    </tr>\n",
       "    <tr>\n",
       "      <th>57</th>\n",
       "      <td>IDE</td>\n",
       "      <td>.doubleclick.net</td>\n",
       "      <td>splunkcloud.com</td>\n",
       "    </tr>\n",
       "  </tbody>\n",
       "</table>\n",
       "</div>"
      ],
      "text/plain": [
       "   name            domain             site\n",
       "37  IDE   doubleclick.net  splunkcloud.com\n",
       "57  IDE  .doubleclick.net  splunkcloud.com"
      ]
     },
     "execution_count": 23,
     "metadata": {},
     "output_type": "execute_result"
    }
   ],
   "source": [
    "# Case study\n",
    "mcookie  = match_cookies[match_cookies.n_pref_matches == 2].iloc[6]\n",
    "prefs[(prefs.name == mcookie['name']) & (prefs.site == mcookie['site'])]"
   ]
  },
  {
   "cell_type": "code",
   "execution_count": 24,
   "metadata": {},
   "outputs": [],
   "source": [
    "# How many cookies that have same both domain and name?\n",
    "# print(\"Num cookies preferences:\", len(s_cookie_prefs))\n",
    "# s_cookies = s_cookie_prefs[['domain', 'name', 'category', 'site']].drop_duplicates()\n",
    "# print(\"Num unique cookie preferences:\", len(s_cookies))"
   ]
  },
  {
   "cell_type": "code",
   "execution_count": 25,
   "metadata": {},
   "outputs": [],
   "source": [
    "# plain pandas, 27-29 secs for sample(100)\n",
    "# prj_br_cookies['n_matches'] = prj_br_cookies.apply(lambda row: get_n_matches(row, prefs), axis=1)"
   ]
  },
  {
   "cell_type": "code",
   "execution_count": 26,
   "metadata": {},
   "outputs": [],
   "source": [
    "# s_cookie_prefs"
   ]
  },
  {
   "cell_type": "markdown",
   "metadata": {},
   "source": [
    "# Analyze duplicate cookies"
   ]
  },
  {
   "cell_type": "code",
   "execution_count": 27,
   "metadata": {},
   "outputs": [],
   "source": [
    "# s_cookies.value_counts()[:5]"
   ]
  },
  {
   "cell_type": "code",
   "execution_count": 28,
   "metadata": {},
   "outputs": [],
   "source": [
    "# Case studies\n",
    "# s_cookie_prefs[(s_cookie_prefs.domain == 'mc.yandex.ru') & (s_cookie_prefs.name == '_ym_uid')]\n",
    "# s_cookie_prefs[(s_cookie_prefs.domain == 'bat.bing.com') & (s_cookie_prefs.name == '_uetsid')]\n",
    "# s_cookie_prefs[(s_cookie_prefs.domain == 'start.stepchange.org') & (s_cookie_prefs.name == '_uetvid')]"
   ]
  },
  {
   "cell_type": "code",
   "execution_count": 29,
   "metadata": {},
   "outputs": [],
   "source": [
    "def get_n_cookie_matches(cookies, pref):\n",
    "    matched_cookies = set()\n",
    "    for cookie in cookies.to_dict('records'):\n",
    "        if cookie_pref_match(cookie, pref, cookie['site']):\n",
    "            matched_cookies.add(hashabledict({'name': cookie['name'], 'domain': cookie['domain']}))\n",
    "        # if cookie['domain'] == pref['domain']:\n",
    "        # if cookie['domain'] == '.' + pref['domain']:\n",
    "    return len(matched_cookies)\n",
    "\n",
    "# s_cookie_prefs2 = s_cookie_prefs.copy()\n",
    "# s_cookie_prefs2['n_matches'] = s_cookie_prefs2.apply(lambda pref: get_n_cookie_matches(prj_sent_cookies, pref), axis=1)\n",
    "# s_cookie_prefs2.sort_values(by='n_matches', ascending=False)"
   ]
  },
  {
   "cell_type": "code",
   "execution_count": 30,
   "metadata": {},
   "outputs": [],
   "source": [
    "# s_cookie_prefs2.n_matches.value_counts()"
   ]
  },
  {
   "cell_type": "code",
   "execution_count": null,
   "metadata": {},
   "outputs": [],
   "source": []
  },
  {
   "cell_type": "code",
   "execution_count": 31,
   "metadata": {},
   "outputs": [],
   "source": [
    "# prj_sent_cookies.head()"
   ]
  },
  {
   "cell_type": "code",
   "execution_count": 32,
   "metadata": {},
   "outputs": [],
   "source": [
    "# s_cookie_prefs"
   ]
  },
  {
   "cell_type": "code",
   "execution_count": 33,
   "metadata": {},
   "outputs": [],
   "source": [
    "# s_cookie_prefs = s_cookie_prefs[s_cookie_prefs.name == 'TAUnique']\n",
    "# s_cookie_prefs "
   ]
  },
  {
   "cell_type": "code",
   "execution_count": 34,
   "metadata": {},
   "outputs": [],
   "source": [
    "# print('Num websites:', all_complies.site.nunique())\n",
    "# all_complies.comply.unique()"
   ]
  },
  {
   "cell_type": "code",
   "execution_count": 35,
   "metadata": {},
   "outputs": [],
   "source": [
    "# s_cookie_prefs"
   ]
  },
  {
   "cell_type": "code",
   "execution_count": null,
   "metadata": {},
   "outputs": [],
   "source": []
  },
  {
   "cell_type": "code",
   "execution_count": null,
   "metadata": {},
   "outputs": [],
   "source": []
  },
  {
   "cell_type": "code",
   "execution_count": null,
   "metadata": {},
   "outputs": [],
   "source": []
  },
  {
   "cell_type": "code",
   "execution_count": null,
   "metadata": {},
   "outputs": [],
   "source": []
  },
  {
   "cell_type": "code",
   "execution_count": null,
   "metadata": {},
   "outputs": [],
   "source": []
  },
  {
   "cell_type": "code",
   "execution_count": null,
   "metadata": {},
   "outputs": [],
   "source": []
  },
  {
   "cell_type": "code",
   "execution_count": null,
   "metadata": {},
   "outputs": [],
   "source": []
  },
  {
   "cell_type": "code",
   "execution_count": null,
   "metadata": {},
   "outputs": [],
   "source": []
  },
  {
   "cell_type": "code",
   "execution_count": 36,
   "metadata": {},
   "outputs": [
    {
     "name": "stdout",
     "output_type": "stream",
     "text": [
      "faster: for cookie_pref in cookie_pref_set[cookie_pref_set.name == acookie['name']]:\n"
     ]
    },
    {
     "name": "stderr",
     "output_type": "stream",
     "text": [
      "  0%|          | 4/1623 [00:01<09:28,  2.85it/s]"
     ]
    },
    {
     "name": "stdout",
     "output_type": "stream",
     "text": [
      "Contradictory set: site='genial.ly' contra_set={{'domain': 'app.genial.ly', 'name': '__stripe_sid'}, {'domain': 'app.genial.ly', 'name': '__stripe_mid'}}\n"
     ]
    },
    {
     "name": "stderr",
     "output_type": "stream",
     "text": [
      "  0%|          | 6/1623 [00:02<15:41,  1.72it/s]"
     ]
    },
    {
     "name": "stdout",
     "output_type": "stream",
     "text": [
      "Contradictory set: site='ulta.com' contra_set={{'domain': 'ulta.com', 'name': '_schn'}}\n"
     ]
    },
    {
     "name": "stderr",
     "output_type": "stream",
     "text": [
      "  2%|▏         | 33/1623 [00:16<14:05,  1.88it/s]"
     ]
    },
    {
     "name": "stdout",
     "output_type": "stream",
     "text": [
      "Contradictory set: site='piriform.com' contra_set={{'domain': 'ccleanercom-production-slave.azurewebsites.net', 'name': 'ARRAffinity'}}\n"
     ]
    },
    {
     "name": "stderr",
     "output_type": "stream",
     "text": [
      "  3%|▎         | 45/1623 [00:21<09:48,  2.68it/s]"
     ]
    },
    {
     "name": "stdout",
     "output_type": "stream",
     "text": [
      "Contradictory set: site='cell.com' contra_set={{'domain': 'hubspot.net', 'name': '__cfduid'}}\n"
     ]
    },
    {
     "name": "stderr",
     "output_type": "stream",
     "text": [
      "  4%|▍         | 69/1623 [00:33<35:35,  1.37s/it]"
     ]
    },
    {
     "name": "stdout",
     "output_type": "stream",
     "text": [
      "Contradictory set: site='checkout.com' contra_set={{'domain': 'static.cdn.prismic.io', 'name': 'io.prismic.preview'}}\n"
     ]
    },
    {
     "name": "stderr",
     "output_type": "stream",
     "text": [
      "  4%|▍         | 71/1623 [00:34<27:26,  1.06s/it]"
     ]
    },
    {
     "name": "stdout",
     "output_type": "stream",
     "text": [
      "Contradictory set: site='adobeconnect.com' contra_set={{'domain': 'app-sj16.marketo.com', 'name': '__cfduid'}, {'domain': 'app-aba.marketo.com', 'name': '__cf_bm'}}\n"
     ]
    },
    {
     "name": "stderr",
     "output_type": "stream",
     "text": [
      "  4%|▍         | 73/1623 [00:35<18:33,  1.39it/s]"
     ]
    },
    {
     "name": "stdout",
     "output_type": "stream",
     "text": [
      "Contradictory set: site='returnpath.net' contra_set={{'domain': 'app.jazz.co', 'name': 'SF_PHPSESSID'}, {'domain': 'community.validity.com', 'name': 'cookieTest'}}\n"
     ]
    },
    {
     "name": "stderr",
     "output_type": "stream",
     "text": [
      "  5%|▌         | 86/1623 [00:41<20:17,  1.26it/s]"
     ]
    },
    {
     "name": "stdout",
     "output_type": "stream",
     "text": [
      "Contradictory set: site='echosign.com' contra_set={{'domain': 'app-sj16.marketo.com', 'name': '__cfduid'}, {'domain': 'app-aba.marketo.com', 'name': '__cf_bm'}}\n"
     ]
    },
    {
     "name": "stderr",
     "output_type": "stream",
     "text": [
      "  5%|▌         | 88/1623 [00:41<15:42,  1.63it/s]"
     ]
    },
    {
     "name": "stdout",
     "output_type": "stream",
     "text": [
      "Contradictory set: site='aon.com' contra_set={{'domain': 'insights.humancapital.aon.com', 'name': 'ufentry'}, {'domain': 'sleeknotestaticcontent.sleeknote.com', 'name': 'SNS'}}\n"
     ]
    },
    {
     "name": "stderr",
     "output_type": "stream",
     "text": [
      "  6%|▌         | 91/1623 [00:42<11:06,  2.30it/s]"
     ]
    },
    {
     "name": "stdout",
     "output_type": "stream",
     "text": [
      "Contradictory set: site='balenciaga.com' contra_set={{'domain': 'www.balenciaga.com', 'name': '_cs_same_site'}}\n"
     ]
    },
    {
     "name": "stderr",
     "output_type": "stream",
     "text": [
      "  6%|▌         | 94/1623 [00:43<08:46,  2.90it/s]"
     ]
    },
    {
     "name": "stdout",
     "output_type": "stream",
     "text": [
      "Contradictory set: site='statista.com' contra_set={{'domain': 'm6r.eu', 'name': 'id'}}\n"
     ]
    },
    {
     "name": "stderr",
     "output_type": "stream",
     "text": [
      "  6%|▌         | 98/1623 [00:45<08:12,  3.10it/s]"
     ]
    },
    {
     "name": "stdout",
     "output_type": "stream",
     "text": [
      "Contradictory set: site='currys.co.uk' contra_set={{'domain': 'www.currys.co.uk', 'name': 'cookietest'}}\n"
     ]
    },
    {
     "name": "stderr",
     "output_type": "stream",
     "text": [
      "  6%|▌         | 100/1623 [00:47<23:29,  1.08it/s]"
     ]
    },
    {
     "name": "stdout",
     "output_type": "stream",
     "text": [
      "Contradictory set: site='accorhotels.com' contra_set={{'domain': 'all.accor.com', 'name': 'cookietest'}}\n"
     ]
    },
    {
     "name": "stderr",
     "output_type": "stream",
     "text": [
      "  6%|▋         | 102/1623 [00:49<24:51,  1.02it/s]"
     ]
    },
    {
     "name": "stdout",
     "output_type": "stream",
     "text": [
      "Contradictory set: site='meraki.com' contra_set={{'domain': 'cisco.com', 'name': '_vapi'}}\n"
     ]
    },
    {
     "name": "stderr",
     "output_type": "stream",
     "text": [
      "  6%|▋         | 104/1623 [00:52<36:30,  1.44s/it]"
     ]
    },
    {
     "name": "stdout",
     "output_type": "stream",
     "text": [
      "Contradictory set: site='magentocommerce.com' contra_set={{'domain': 'app-sj16.marketo.com', 'name': '__cfduid'}}\n"
     ]
    },
    {
     "name": "stderr",
     "output_type": "stream",
     "text": [
      "  7%|▋         | 108/1623 [01:01<50:43,  2.01s/it]"
     ]
    },
    {
     "name": "stdout",
     "output_type": "stream",
     "text": [
      "Contradictory set: site='vmware.com' contra_set={{'domain': 'communities.vmware.com', 'name': 'LithiumCookiesAccepted'}}\n"
     ]
    },
    {
     "name": "stderr",
     "output_type": "stream",
     "text": [
      "  7%|▋         | 109/1623 [01:01<39:49,  1.58s/it]"
     ]
    },
    {
     "name": "stdout",
     "output_type": "stream",
     "text": [
      "Contradictory set: site='ledger.com' contra_set={{'domain': 'shop.ledger.com', 'name': 'cookietest'}}\n"
     ]
    },
    {
     "name": "stderr",
     "output_type": "stream",
     "text": [
      "  7%|▋         | 110/1623 [01:02<30:29,  1.21s/it]"
     ]
    },
    {
     "name": "stdout",
     "output_type": "stream",
     "text": [
      "Contradictory set: site='frontiersin.org' contra_set={{'domain': 'zendesk.frontiersin.org', 'name': 'cf_chl_seq_xxxxxxxxxxxxxxx'}}\n"
     ]
    },
    {
     "name": "stderr",
     "output_type": "stream",
     "text": [
      "  7%|▋         | 118/1623 [01:07<22:59,  1.09it/s]"
     ]
    },
    {
     "name": "stdout",
     "output_type": "stream",
     "text": [
      "Contradictory set: site='demdex.net' contra_set={{'domain': 'app-sj16.marketo.com', 'name': '__cfduid'}, {'domain': 'app-aba.marketo.com', 'name': '__cf_bm'}}\n"
     ]
    },
    {
     "name": "stderr",
     "output_type": "stream",
     "text": [
      "100%|██████████| 1623/1623 [11:47<00:00,  2.29it/s]\n"
     ]
    },
    {
     "data": {
      "text/html": [
       "<div>\n",
       "<style scoped>\n",
       "    .dataframe tbody tr th:only-of-type {\n",
       "        vertical-align: middle;\n",
       "    }\n",
       "\n",
       "    .dataframe tbody tr th {\n",
       "        vertical-align: top;\n",
       "    }\n",
       "\n",
       "    .dataframe thead th {\n",
       "        text-align: right;\n",
       "    }\n",
       "</style>\n",
       "<table border=\"1\" class=\"dataframe\">\n",
       "  <thead>\n",
       "    <tr style=\"text-align: right;\">\n",
       "      <th></th>\n",
       "      <th>domain</th>\n",
       "      <th>expires</th>\n",
       "      <th>name</th>\n",
       "      <th>path</th>\n",
       "      <th>sameSite</th>\n",
       "      <th>secure</th>\n",
       "      <th>value</th>\n",
       "      <th>request_url</th>\n",
       "      <th>site</th>\n",
       "      <th>appr_pref_domain</th>\n",
       "      <th>appr_pref_name</th>\n",
       "      <th>rej_pref_domain</th>\n",
       "      <th>rej_pref_name</th>\n",
       "      <th>comply</th>\n",
       "    </tr>\n",
       "  </thead>\n",
       "  <tbody>\n",
       "    <tr>\n",
       "      <th>1076</th>\n",
       "      <td>.helpshift.com</td>\n",
       "      <td>1.702659e+09</td>\n",
       "      <td>_ga</td>\n",
       "      <td>/</td>\n",
       "      <td>None</td>\n",
       "      <td>False</td>\n",
       "      <td>GA1.2.1307472611.1639587332</td>\n",
       "      <td>https://cdn.helpshift.com/wp-content/plugins/t...</td>\n",
       "      <td>helpshift.com</td>\n",
       "      <td>None</td>\n",
       "      <td>None</td>\n",
       "      <td>helpshift.com</td>\n",
       "      <td>_ga</td>\n",
       "      <td>incorrect</td>\n",
       "    </tr>\n",
       "    <tr>\n",
       "      <th>1080</th>\n",
       "      <td>.helpshift.com</td>\n",
       "      <td>1.655355e+09</td>\n",
       "      <td>__utmz</td>\n",
       "      <td>/</td>\n",
       "      <td>None</td>\n",
       "      <td>False</td>\n",
       "      <td>148167982.1639587333.1.1.utmcsr=(direct)|utmcc...</td>\n",
       "      <td>https://cdn.helpshift.com/wp-content/plugins/p...</td>\n",
       "      <td>helpshift.com</td>\n",
       "      <td>None</td>\n",
       "      <td>None</td>\n",
       "      <td>helpshift.com</td>\n",
       "      <td>__utmz</td>\n",
       "      <td>incorrect</td>\n",
       "    </tr>\n",
       "    <tr>\n",
       "      <th>1084</th>\n",
       "      <td>.helpshift.com</td>\n",
       "      <td>1.647363e+09</td>\n",
       "      <td>_fbp</td>\n",
       "      <td>/</td>\n",
       "      <td>None</td>\n",
       "      <td>False</td>\n",
       "      <td>fb.1.1639587333019.107912994</td>\n",
       "      <td>https://cdn.helpshift.com/wp-includes/css/dist...</td>\n",
       "      <td>helpshift.com</td>\n",
       "      <td>None</td>\n",
       "      <td>None</td>\n",
       "      <td>helpshift.com</td>\n",
       "      <td>_fbp</td>\n",
       "      <td>incorrect</td>\n",
       "    </tr>\n",
       "    <tr>\n",
       "      <th>1086</th>\n",
       "      <td>.helpshift.com</td>\n",
       "      <td>1.702659e+09</td>\n",
       "      <td>_ga</td>\n",
       "      <td>/</td>\n",
       "      <td>None</td>\n",
       "      <td>False</td>\n",
       "      <td>GA1.2.1307472611.1639587332</td>\n",
       "      <td>https://cdn.helpshift.com/wp-content/plugins/h...</td>\n",
       "      <td>helpshift.com</td>\n",
       "      <td>None</td>\n",
       "      <td>None</td>\n",
       "      <td>helpshift.com</td>\n",
       "      <td>_ga</td>\n",
       "      <td>incorrect</td>\n",
       "    </tr>\n",
       "    <tr>\n",
       "      <th>1094</th>\n",
       "      <td>.helpshift.com</td>\n",
       "      <td>1.702659e+09</td>\n",
       "      <td>__utma</td>\n",
       "      <td>/</td>\n",
       "      <td>None</td>\n",
       "      <td>False</td>\n",
       "      <td>148167982.1307472611.1639587332.1639587333.163...</td>\n",
       "      <td>https://cdn.helpshift.com/wp-content/plugins/h...</td>\n",
       "      <td>helpshift.com</td>\n",
       "      <td>None</td>\n",
       "      <td>None</td>\n",
       "      <td>helpshift.com</td>\n",
       "      <td>__utma</td>\n",
       "      <td>incorrect</td>\n",
       "    </tr>\n",
       "    <tr>\n",
       "      <th>...</th>\n",
       "      <td>...</td>\n",
       "      <td>...</td>\n",
       "      <td>...</td>\n",
       "      <td>...</td>\n",
       "      <td>...</td>\n",
       "      <td>...</td>\n",
       "      <td>...</td>\n",
       "      <td>...</td>\n",
       "      <td>...</td>\n",
       "      <td>...</td>\n",
       "      <td>...</td>\n",
       "      <td>...</td>\n",
       "      <td>...</td>\n",
       "      <td>...</td>\n",
       "    </tr>\n",
       "    <tr>\n",
       "      <th>3059520</th>\n",
       "      <td>.vespa.com</td>\n",
       "      <td>1.702970e+09</td>\n",
       "      <td>_ga</td>\n",
       "      <td>/</td>\n",
       "      <td>None</td>\n",
       "      <td>False</td>\n",
       "      <td>GA1.2.1432834110.1639897653</td>\n",
       "      <td>https://wlassets.vespa.com/wlassets/vespa/mast...</td>\n",
       "      <td>vespa.com</td>\n",
       "      <td>None</td>\n",
       "      <td>None</td>\n",
       "      <td>vespa.com</td>\n",
       "      <td>_ga</td>\n",
       "      <td>incorrect</td>\n",
       "    </tr>\n",
       "    <tr>\n",
       "      <th>3059521</th>\n",
       "      <td>.vespa.com</td>\n",
       "      <td>1.639984e+09</td>\n",
       "      <td>_gid</td>\n",
       "      <td>/</td>\n",
       "      <td>None</td>\n",
       "      <td>False</td>\n",
       "      <td>GA1.2.457380286.1639897653</td>\n",
       "      <td>https://wlassets.vespa.com/wlassets/vespa/mast...</td>\n",
       "      <td>vespa.com</td>\n",
       "      <td>None</td>\n",
       "      <td>None</td>\n",
       "      <td>vespa.com</td>\n",
       "      <td>_gid</td>\n",
       "      <td>incorrect</td>\n",
       "    </tr>\n",
       "    <tr>\n",
       "      <th>3059522</th>\n",
       "      <td>.vespa.com</td>\n",
       "      <td>1.647674e+09</td>\n",
       "      <td>_fbp</td>\n",
       "      <td>/</td>\n",
       "      <td>None</td>\n",
       "      <td>False</td>\n",
       "      <td>fb.1.1639897653364.492083713</td>\n",
       "      <td>https://wlassets.vespa.com/wlassets/vespa/mast...</td>\n",
       "      <td>vespa.com</td>\n",
       "      <td>None</td>\n",
       "      <td>None</td>\n",
       "      <td>vespa.com</td>\n",
       "      <td>_fbp</td>\n",
       "      <td>incorrect</td>\n",
       "    </tr>\n",
       "    <tr>\n",
       "      <th>3059524</th>\n",
       "      <td>.vespa.com</td>\n",
       "      <td>1.647674e+09</td>\n",
       "      <td>_gcl_au</td>\n",
       "      <td>/</td>\n",
       "      <td>None</td>\n",
       "      <td>False</td>\n",
       "      <td>1.1.1311567854.1639897653</td>\n",
       "      <td>https://wlassets.vespa.com/wlassets/vespa/mast...</td>\n",
       "      <td>vespa.com</td>\n",
       "      <td>None</td>\n",
       "      <td>None</td>\n",
       "      <td>vespa.com</td>\n",
       "      <td>_gcl_au</td>\n",
       "      <td>incorrect</td>\n",
       "    </tr>\n",
       "    <tr>\n",
       "      <th>3059526</th>\n",
       "      <td>.vespa.com</td>\n",
       "      <td>1.647674e+09</td>\n",
       "      <td>_gcl_au</td>\n",
       "      <td>/</td>\n",
       "      <td>None</td>\n",
       "      <td>False</td>\n",
       "      <td>1.1.1311567854.1639897653</td>\n",
       "      <td>https://wlassets.vespa.com/wlassets/vespa/mast...</td>\n",
       "      <td>vespa.com</td>\n",
       "      <td>None</td>\n",
       "      <td>None</td>\n",
       "      <td>vespa.com</td>\n",
       "      <td>_gcl_au</td>\n",
       "      <td>incorrect</td>\n",
       "    </tr>\n",
       "  </tbody>\n",
       "</table>\n",
       "<p>957291 rows × 14 columns</p>\n",
       "</div>"
      ],
      "text/plain": [
       "                 domain       expires     name path sameSite  secure  \\\n",
       "1076     .helpshift.com  1.702659e+09      _ga    /     None   False   \n",
       "1080     .helpshift.com  1.655355e+09   __utmz    /     None   False   \n",
       "1084     .helpshift.com  1.647363e+09     _fbp    /     None   False   \n",
       "1086     .helpshift.com  1.702659e+09      _ga    /     None   False   \n",
       "1094     .helpshift.com  1.702659e+09   __utma    /     None   False   \n",
       "...                 ...           ...      ...  ...      ...     ...   \n",
       "3059520      .vespa.com  1.702970e+09      _ga    /     None   False   \n",
       "3059521      .vespa.com  1.639984e+09     _gid    /     None   False   \n",
       "3059522      .vespa.com  1.647674e+09     _fbp    /     None   False   \n",
       "3059524      .vespa.com  1.647674e+09  _gcl_au    /     None   False   \n",
       "3059526      .vespa.com  1.647674e+09  _gcl_au    /     None   False   \n",
       "\n",
       "                                                     value  \\\n",
       "1076                           GA1.2.1307472611.1639587332   \n",
       "1080     148167982.1639587333.1.1.utmcsr=(direct)|utmcc...   \n",
       "1084                          fb.1.1639587333019.107912994   \n",
       "1086                           GA1.2.1307472611.1639587332   \n",
       "1094     148167982.1307472611.1639587332.1639587333.163...   \n",
       "...                                                    ...   \n",
       "3059520                        GA1.2.1432834110.1639897653   \n",
       "3059521                         GA1.2.457380286.1639897653   \n",
       "3059522                       fb.1.1639897653364.492083713   \n",
       "3059524                          1.1.1311567854.1639897653   \n",
       "3059526                          1.1.1311567854.1639897653   \n",
       "\n",
       "                                               request_url           site  \\\n",
       "1076     https://cdn.helpshift.com/wp-content/plugins/t...  helpshift.com   \n",
       "1080     https://cdn.helpshift.com/wp-content/plugins/p...  helpshift.com   \n",
       "1084     https://cdn.helpshift.com/wp-includes/css/dist...  helpshift.com   \n",
       "1086     https://cdn.helpshift.com/wp-content/plugins/h...  helpshift.com   \n",
       "1094     https://cdn.helpshift.com/wp-content/plugins/h...  helpshift.com   \n",
       "...                                                    ...            ...   \n",
       "3059520  https://wlassets.vespa.com/wlassets/vespa/mast...      vespa.com   \n",
       "3059521  https://wlassets.vespa.com/wlassets/vespa/mast...      vespa.com   \n",
       "3059522  https://wlassets.vespa.com/wlassets/vespa/mast...      vespa.com   \n",
       "3059524  https://wlassets.vespa.com/wlassets/vespa/mast...      vespa.com   \n",
       "3059526  https://wlassets.vespa.com/wlassets/vespa/mast...      vespa.com   \n",
       "\n",
       "        appr_pref_domain appr_pref_name rej_pref_domain rej_pref_name  \\\n",
       "1076                None           None   helpshift.com           _ga   \n",
       "1080                None           None   helpshift.com        __utmz   \n",
       "1084                None           None   helpshift.com          _fbp   \n",
       "1086                None           None   helpshift.com           _ga   \n",
       "1094                None           None   helpshift.com        __utma   \n",
       "...                  ...            ...             ...           ...   \n",
       "3059520             None           None       vespa.com           _ga   \n",
       "3059521             None           None       vespa.com          _gid   \n",
       "3059522             None           None       vespa.com          _fbp   \n",
       "3059524             None           None       vespa.com       _gcl_au   \n",
       "3059526             None           None       vespa.com       _gcl_au   \n",
       "\n",
       "            comply  \n",
       "1076     incorrect  \n",
       "1080     incorrect  \n",
       "1084     incorrect  \n",
       "1086     incorrect  \n",
       "1094     incorrect  \n",
       "...            ...  \n",
       "3059520  incorrect  \n",
       "3059521  incorrect  \n",
       "3059522  incorrect  \n",
       "3059524  incorrect  \n",
       "3059526  incorrect  \n",
       "\n",
       "[957291 rows x 14 columns]"
      ]
     },
     "execution_count": 36,
     "metadata": {},
     "output_type": "execute_result"
    }
   ],
   "source": [
    "# Map intercepted cookies to browser cookies.\n",
    "import sys; import importlib; importlib.reload(sys.modules['consent.consistency.cookie_pref_match'])\n",
    "from consent.consistency.cookie_pref_match import cookie_pref_match\n",
    "\n",
    "site_to_contras = {}  # TODO: make this to non-global one.\n",
    "\n",
    "def check_in_set(site, acookie, cookie_pref_set, verbose=0):\n",
    "    # check_url_host_match = relax_check_url_host_match # strict_check_url_host_match\n",
    "    for cookie_pref in cookie_pref_set:\n",
    "        if verbose >= 3:\n",
    "            print(f'{cookie_pref=} {acookie=}')\n",
    "        elif verbose >= 2:\n",
    "            if cookie_pref['name'] == acookie['name']:\n",
    "                print(f'{cookie_pref=} {acookie=}')\n",
    "        \n",
    "        if cookie_pref_match(acookie, cookie_pref, site):\n",
    "            return True, cookie_pref\n",
    "    return False, None\n",
    "\n",
    "def get_comply_type(is_appr, is_rej):\n",
    "    if is_appr and not is_rej:\n",
    "        return 'comply'\n",
    "    if not is_appr and is_rej:\n",
    "        return 'incorrect'\n",
    "    if not is_appr and not is_rej:\n",
    "        return 'omit'\n",
    "    return 'ambiguous'\n",
    "\n",
    "def get_appr_rej_sets(prefs):\n",
    "    \"\"\"Return 2 sets: appr and rejection.\"\"\"\n",
    "    def get_hashable_cookie_set(df):\n",
    "        cookies = df[['domain', 'name']].to_dict('records')\n",
    "        return set(hashabledict(c) for c in cookies)\n",
    "    \n",
    "    appr_set = get_hashable_cookie_set(prefs[prefs.consent == True])\n",
    "    rej_set = get_hashable_cookie_set(prefs[prefs.consent == False])\n",
    "    assert len(prefs[~prefs.consent.isin([True, False])]) == 0\n",
    "    \n",
    "    contra_set = appr_set.intersection(rej_set)\n",
    "\n",
    "    return appr_set, rej_set, contra_set\n",
    "\n",
    "def update_appr_rej_pref(comply_result, appr_pref, rej_pref):\n",
    "    name_to_pref = {'appr_pref': appr_pref, 'rej_pref': rej_pref}\n",
    "    for name, pref in name_to_pref.items():\n",
    "        for key in ['domain', 'name']:\n",
    "            comply_result[name + '_' + key] = pref[key] if pref else None\n",
    "    \n",
    "def _get_comply_for_site(site, prefs, sent_cookies):\n",
    "    appr_set, rej_set, contra_set = get_appr_rej_sets(prefs)\n",
    "    comply_results = []\n",
    "    for sent_cookie in sent_cookies:\n",
    "        is_appr, appr_pref = check_in_set(site, sent_cookie, appr_set)\n",
    "        is_rej, rej_pref = check_in_set(site, sent_cookie, rej_set)\n",
    "        comply = get_comply_type(is_appr, is_rej)\n",
    "        comply_result = sent_cookie.copy()\n",
    "        update_appr_rej_pref(comply_result, appr_pref, rej_pref)\n",
    "        # comply_result.update({'comply': comply, 'site': site})\n",
    "        assert site == sent_cookie['site']\n",
    "        comply_result['comply'] = comply # .update({'comply': comply, 'site': site})\n",
    "        comply_results.append(comply_result)\n",
    "    if len(contra_set) > 0:\n",
    "        site_to_contras[site] = contra_set\n",
    "        if len(site_to_contras) < 20: # Print some of the contra to see the progress only\n",
    "            print(f'Contradictory set: {site=} {contra_set=}')    \n",
    "    return comply_results\n",
    "\n",
    "def get_comply_for_sites(args, sites, parallel=False):\n",
    "    if parallel: # not work, maybe bottleneck is the transfer of a big data frame.\n",
    "        pool = Pool(32)\n",
    "        for result in pool.starmap(_get_comply_for_site, args):\n",
    "            yield result\n",
    "    else:\n",
    "        for arg in tqdm(args, total=len(sites)):\n",
    "            yield _get_comply_for_site(*arg)\n",
    "            \n",
    "def get_compute_args(sites, cookie_prefs, prj_sent_cookies):\n",
    "    #     return [(site, cookie_prefs, prj_sent_cookies) for site in sites]\n",
    "    for site in sites:\n",
    "        site_cookie_prefs = cookie_prefs[cookie_prefs.site == site]\n",
    "        site_prj_sent_cookies = prj_sent_cookies[prj_sent_cookies.site == site].to_dict('records')   \n",
    "        yield site, site_cookie_prefs, site_prj_sent_cookies\n",
    "            \n",
    "def get_comply(cookie_prefs, prj_sent_cookies):\n",
    "    sites = cookie_prefs.site.unique() # .tolist()\n",
    "#     sites = ['suse.com', 'ulta.com', 'optimizely.com', 'cell.com']\n",
    "    args = get_compute_args(sites, cookie_prefs, prj_sent_cookies)\n",
    "    \n",
    "    comply_results = []    \n",
    "    for complies_for_site in get_comply_for_sites(args, sites, parallel=False):\n",
    "        comply_results.extend(complies_for_site)\n",
    "        \n",
    "    return pd.DataFrame(comply_results)\n",
    "\n",
    "print(\"faster: for cookie_pref in cookie_pref_set[cookie_pref_set.name == acookie['name']]:\")\n",
    "all_complies = get_comply(s_cookie_prefs, prj_sent_cookies)\n",
    "# print(\"Number of incor\"\n",
    "all_complies[all_complies.comply == 'incorrect']"
   ]
  },
  {
   "cell_type": "code",
   "execution_count": 37,
   "metadata": {},
   "outputs": [
    {
     "data": {
      "text/html": [
       "<div>\n",
       "<style scoped>\n",
       "    .dataframe tbody tr th:only-of-type {\n",
       "        vertical-align: middle;\n",
       "    }\n",
       "\n",
       "    .dataframe tbody tr th {\n",
       "        vertical-align: top;\n",
       "    }\n",
       "\n",
       "    .dataframe thead th {\n",
       "        text-align: right;\n",
       "    }\n",
       "</style>\n",
       "<table border=\"1\" class=\"dataframe\">\n",
       "  <thead>\n",
       "    <tr style=\"text-align: right;\">\n",
       "      <th></th>\n",
       "      <th>domain</th>\n",
       "      <th>expires</th>\n",
       "      <th>name</th>\n",
       "      <th>path</th>\n",
       "      <th>sameSite</th>\n",
       "      <th>secure</th>\n",
       "      <th>value</th>\n",
       "      <th>request_url</th>\n",
       "      <th>site</th>\n",
       "      <th>appr_pref_domain</th>\n",
       "      <th>appr_pref_name</th>\n",
       "      <th>rej_pref_domain</th>\n",
       "      <th>rej_pref_name</th>\n",
       "      <th>comply</th>\n",
       "    </tr>\n",
       "  </thead>\n",
       "  <tbody>\n",
       "    <tr>\n",
       "      <th>0</th>\n",
       "      <td>.wework.com</td>\n",
       "      <td>1.671123e+09</td>\n",
       "      <td>ajs_user_id</td>\n",
       "      <td>/</td>\n",
       "      <td>Lax</td>\n",
       "      <td>False</td>\n",
       "      <td>%22e465a0f34b3bdaa686645b9f88599d5563d0e8562db...</td>\n",
       "      <td>https://www-static.wework.com/apercu/apercu_mo...</td>\n",
       "      <td>wework.com</td>\n",
       "      <td>wework.com</td>\n",
       "      <td>ajs_user_id</td>\n",
       "      <td>None</td>\n",
       "      <td>None</td>\n",
       "      <td>comply</td>\n",
       "    </tr>\n",
       "    <tr>\n",
       "      <th>1</th>\n",
       "      <td>.wework.com</td>\n",
       "      <td>1.702659e+09</td>\n",
       "      <td>_ga</td>\n",
       "      <td>/</td>\n",
       "      <td>None</td>\n",
       "      <td>False</td>\n",
       "      <td>GA1.1.1271302899.1639586858</td>\n",
       "      <td>https://www.wework.com/vanilla-assets/javascri...</td>\n",
       "      <td>wework.com</td>\n",
       "      <td>wework.com</td>\n",
       "      <td>_ga</td>\n",
       "      <td>None</td>\n",
       "      <td>None</td>\n",
       "      <td>comply</td>\n",
       "    </tr>\n",
       "    <tr>\n",
       "      <th>2</th>\n",
       "      <td>.wework.com</td>\n",
       "      <td>1.671123e+09</td>\n",
       "      <td>ajs_user_id</td>\n",
       "      <td>/</td>\n",
       "      <td>Lax</td>\n",
       "      <td>False</td>\n",
       "      <td>%22e465a0f34b3bdaa686645b9f88599d5563d0e8562db...</td>\n",
       "      <td>https://www.wework.com/vanilla-assets/fonts/ic...</td>\n",
       "      <td>wework.com</td>\n",
       "      <td>wework.com</td>\n",
       "      <td>ajs_user_id</td>\n",
       "      <td>None</td>\n",
       "      <td>None</td>\n",
       "      <td>comply</td>\n",
       "    </tr>\n",
       "    <tr>\n",
       "      <th>3</th>\n",
       "      <td>www.wework.com</td>\n",
       "      <td>1.639601e+09</td>\n",
       "      <td>_gd_session</td>\n",
       "      <td>/</td>\n",
       "      <td>None</td>\n",
       "      <td>True</td>\n",
       "      <td>7245fb13-c2cf-4c94-8be5-e2089d00f378</td>\n",
       "      <td>https://www.wework.com/vanilla-assets/javascri...</td>\n",
       "      <td>wework.com</td>\n",
       "      <td>None</td>\n",
       "      <td>None</td>\n",
       "      <td>None</td>\n",
       "      <td>None</td>\n",
       "      <td>omit</td>\n",
       "    </tr>\n",
       "    <tr>\n",
       "      <th>4</th>\n",
       "      <td>.krxd.net</td>\n",
       "      <td>1.655139e+09</td>\n",
       "      <td>_kuid_</td>\n",
       "      <td>/</td>\n",
       "      <td>None</td>\n",
       "      <td>True</td>\n",
       "      <td>OiuKv-_v</td>\n",
       "      <td>https://cdn.krxd.net/userdata/get?pub=6667d5d3...</td>\n",
       "      <td>wework.com</td>\n",
       "      <td>krxd.net</td>\n",
       "      <td>_kuid_</td>\n",
       "      <td>None</td>\n",
       "      <td>None</td>\n",
       "      <td>comply</td>\n",
       "    </tr>\n",
       "    <tr>\n",
       "      <th>...</th>\n",
       "      <td>...</td>\n",
       "      <td>...</td>\n",
       "      <td>...</td>\n",
       "      <td>...</td>\n",
       "      <td>...</td>\n",
       "      <td>...</td>\n",
       "      <td>...</td>\n",
       "      <td>...</td>\n",
       "      <td>...</td>\n",
       "      <td>...</td>\n",
       "      <td>...</td>\n",
       "      <td>...</td>\n",
       "      <td>...</td>\n",
       "      <td>...</td>\n",
       "    </tr>\n",
       "    <tr>\n",
       "      <th>3059522</th>\n",
       "      <td>.vespa.com</td>\n",
       "      <td>1.647674e+09</td>\n",
       "      <td>_fbp</td>\n",
       "      <td>/</td>\n",
       "      <td>None</td>\n",
       "      <td>False</td>\n",
       "      <td>fb.1.1639897653364.492083713</td>\n",
       "      <td>https://wlassets.vespa.com/wlassets/vespa/mast...</td>\n",
       "      <td>vespa.com</td>\n",
       "      <td>None</td>\n",
       "      <td>None</td>\n",
       "      <td>vespa.com</td>\n",
       "      <td>_fbp</td>\n",
       "      <td>incorrect</td>\n",
       "    </tr>\n",
       "    <tr>\n",
       "      <th>3059523</th>\n",
       "      <td>.vespa.com</td>\n",
       "      <td>1.639901e+09</td>\n",
       "      <td>AKA_A2</td>\n",
       "      <td>/</td>\n",
       "      <td>None</td>\n",
       "      <td>True</td>\n",
       "      <td>A</td>\n",
       "      <td>https://wlassets.vespa.com/wlassets/vespa/mast...</td>\n",
       "      <td>vespa.com</td>\n",
       "      <td>vespa.com</td>\n",
       "      <td>AKA_A2</td>\n",
       "      <td>None</td>\n",
       "      <td>None</td>\n",
       "      <td>comply</td>\n",
       "    </tr>\n",
       "    <tr>\n",
       "      <th>3059524</th>\n",
       "      <td>.vespa.com</td>\n",
       "      <td>1.647674e+09</td>\n",
       "      <td>_gcl_au</td>\n",
       "      <td>/</td>\n",
       "      <td>None</td>\n",
       "      <td>False</td>\n",
       "      <td>1.1.1311567854.1639897653</td>\n",
       "      <td>https://wlassets.vespa.com/wlassets/vespa/mast...</td>\n",
       "      <td>vespa.com</td>\n",
       "      <td>None</td>\n",
       "      <td>None</td>\n",
       "      <td>vespa.com</td>\n",
       "      <td>_gcl_au</td>\n",
       "      <td>incorrect</td>\n",
       "    </tr>\n",
       "    <tr>\n",
       "      <th>3059525</th>\n",
       "      <td>.vespa.com</td>\n",
       "      <td>1.639898e+09</td>\n",
       "      <td>_gat_UA-66187049-5</td>\n",
       "      <td>/</td>\n",
       "      <td>None</td>\n",
       "      <td>False</td>\n",
       "      <td>1</td>\n",
       "      <td>https://wlassets.vespa.com/wlassets/vespa/mast...</td>\n",
       "      <td>vespa.com</td>\n",
       "      <td>None</td>\n",
       "      <td>None</td>\n",
       "      <td>None</td>\n",
       "      <td>None</td>\n",
       "      <td>omit</td>\n",
       "    </tr>\n",
       "    <tr>\n",
       "      <th>3059526</th>\n",
       "      <td>.vespa.com</td>\n",
       "      <td>1.647674e+09</td>\n",
       "      <td>_gcl_au</td>\n",
       "      <td>/</td>\n",
       "      <td>None</td>\n",
       "      <td>False</td>\n",
       "      <td>1.1.1311567854.1639897653</td>\n",
       "      <td>https://wlassets.vespa.com/wlassets/vespa/mast...</td>\n",
       "      <td>vespa.com</td>\n",
       "      <td>None</td>\n",
       "      <td>None</td>\n",
       "      <td>vespa.com</td>\n",
       "      <td>_gcl_au</td>\n",
       "      <td>incorrect</td>\n",
       "    </tr>\n",
       "  </tbody>\n",
       "</table>\n",
       "<p>3059527 rows × 14 columns</p>\n",
       "</div>"
      ],
      "text/plain": [
       "                 domain       expires                name path sameSite  \\\n",
       "0           .wework.com  1.671123e+09         ajs_user_id    /      Lax   \n",
       "1           .wework.com  1.702659e+09                 _ga    /     None   \n",
       "2           .wework.com  1.671123e+09         ajs_user_id    /      Lax   \n",
       "3        www.wework.com  1.639601e+09         _gd_session    /     None   \n",
       "4             .krxd.net  1.655139e+09              _kuid_    /     None   \n",
       "...                 ...           ...                 ...  ...      ...   \n",
       "3059522      .vespa.com  1.647674e+09                _fbp    /     None   \n",
       "3059523      .vespa.com  1.639901e+09              AKA_A2    /     None   \n",
       "3059524      .vespa.com  1.647674e+09             _gcl_au    /     None   \n",
       "3059525      .vespa.com  1.639898e+09  _gat_UA-66187049-5    /     None   \n",
       "3059526      .vespa.com  1.647674e+09             _gcl_au    /     None   \n",
       "\n",
       "         secure                                              value  \\\n",
       "0         False  %22e465a0f34b3bdaa686645b9f88599d5563d0e8562db...   \n",
       "1         False                        GA1.1.1271302899.1639586858   \n",
       "2         False  %22e465a0f34b3bdaa686645b9f88599d5563d0e8562db...   \n",
       "3          True               7245fb13-c2cf-4c94-8be5-e2089d00f378   \n",
       "4          True                                           OiuKv-_v   \n",
       "...         ...                                                ...   \n",
       "3059522   False                       fb.1.1639897653364.492083713   \n",
       "3059523    True                                                  A   \n",
       "3059524   False                          1.1.1311567854.1639897653   \n",
       "3059525   False                                                  1   \n",
       "3059526   False                          1.1.1311567854.1639897653   \n",
       "\n",
       "                                               request_url        site  \\\n",
       "0        https://www-static.wework.com/apercu/apercu_mo...  wework.com   \n",
       "1        https://www.wework.com/vanilla-assets/javascri...  wework.com   \n",
       "2        https://www.wework.com/vanilla-assets/fonts/ic...  wework.com   \n",
       "3        https://www.wework.com/vanilla-assets/javascri...  wework.com   \n",
       "4        https://cdn.krxd.net/userdata/get?pub=6667d5d3...  wework.com   \n",
       "...                                                    ...         ...   \n",
       "3059522  https://wlassets.vespa.com/wlassets/vespa/mast...   vespa.com   \n",
       "3059523  https://wlassets.vespa.com/wlassets/vespa/mast...   vespa.com   \n",
       "3059524  https://wlassets.vespa.com/wlassets/vespa/mast...   vespa.com   \n",
       "3059525  https://wlassets.vespa.com/wlassets/vespa/mast...   vespa.com   \n",
       "3059526  https://wlassets.vespa.com/wlassets/vespa/mast...   vespa.com   \n",
       "\n",
       "        appr_pref_domain appr_pref_name rej_pref_domain rej_pref_name  \\\n",
       "0             wework.com    ajs_user_id            None          None   \n",
       "1             wework.com            _ga            None          None   \n",
       "2             wework.com    ajs_user_id            None          None   \n",
       "3                   None           None            None          None   \n",
       "4               krxd.net         _kuid_            None          None   \n",
       "...                  ...            ...             ...           ...   \n",
       "3059522             None           None       vespa.com          _fbp   \n",
       "3059523        vespa.com         AKA_A2            None          None   \n",
       "3059524             None           None       vespa.com       _gcl_au   \n",
       "3059525             None           None            None          None   \n",
       "3059526             None           None       vespa.com       _gcl_au   \n",
       "\n",
       "            comply  \n",
       "0           comply  \n",
       "1           comply  \n",
       "2           comply  \n",
       "3             omit  \n",
       "4           comply  \n",
       "...            ...  \n",
       "3059522  incorrect  \n",
       "3059523     comply  \n",
       "3059524  incorrect  \n",
       "3059525       omit  \n",
       "3059526  incorrect  \n",
       "\n",
       "[3059527 rows x 14 columns]"
      ]
     },
     "execution_count": 37,
     "metadata": {},
     "output_type": "execute_result"
    }
   ],
   "source": [
    "all_complies"
   ]
  }
 ],
 "metadata": {
  "interpreter": {
   "hash": "716ef94a01c3d994cde453e411f4463b0105d2a3a71c6aed84dea7988b1708f3"
  },
  "kernelspec": {
   "display_name": "Python 3.8.10 64-bit ('consent': conda)",
   "name": "python3"
  },
  "language_info": {
   "codemirror_mode": {
    "name": "ipython",
    "version": 3
   },
   "file_extension": ".py",
   "mimetype": "text/x-python",
   "name": "python",
   "nbconvert_exporter": "python",
   "pygments_lexer": "ipython3",
   "version": "3.8.16"
  },
  "orig_nbformat": 4
 },
 "nbformat": 4,
 "nbformat_minor": 2
}
