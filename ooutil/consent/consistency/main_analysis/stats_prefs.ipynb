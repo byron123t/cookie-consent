{
 "cells": [
  {
   "cell_type": "code",
   "execution_count": 3,
   "metadata": {},
   "outputs": [
    {
     "data": {
      "text/plain": [
       "[PosixPath('/mnt/sda/ducbui/Dropbox/Dropbox (University of Michigan)/projects/data_sync/consent/2022-05-30/pref_menu_scan_0k_20k'),\n",
       " PosixPath('/mnt/sda/ducbui/Dropbox/Dropbox (University of Michigan)/projects/data_sync/consent/2022-05-30/pref_menu_scan_20k_40k'),\n",
       " PosixPath('/mnt/sda/ducbui/Dropbox/Dropbox (University of Michigan)/projects/data_sync/consent/2022-05-30/pref_menu_scan_40k_60k'),\n",
       " PosixPath('/mnt/sda/ducbui/Dropbox/Dropbox (University of Michigan)/projects/data_sync/consent/2022-05-30/pref_menu_scan_60k_80k'),\n",
       " PosixPath('/mnt/sda/ducbui/Dropbox/Dropbox (University of Michigan)/projects/data_sync/consent/2022-05-30/pref_menu_scan_80k_100k')]"
      ]
     },
     "execution_count": 3,
     "metadata": {},
     "output_type": "execute_result"
    }
   ],
   "source": [
    "from collections import defaultdict\n",
    "from multiprocessing import Pool\n",
    "from pathlib import Path\n",
    "\n",
    "from tqdm import tqdm\n",
    "import matplotlib.pyplot as plt\n",
    "import pandas as pd\n",
    "import seaborn as sns\n",
    "\n",
    "from consent.consistency.comply_util import site_to_contras\n",
    "from consent.consistency.cookie_pref_match import cookie_pref_match\n",
    "from consent.consistency.util import get_scan_root_dir, get_scan_dirs # , FIG_DIR uncomment to save fig.\n",
    "from consent.data.pref_menu_scan.cookie_pref_reader import read_cookie_prefs_in_scans\n",
    "from consent.data.pref_menu_scan.log_reader import read_logs_in_scans\n",
    "from consent.data.pref_menu_scan.cookie_decl_reader import read_cookie_decls_in_scans\n",
    "from consent.data.pref_menu_scan.har_cookie_reader import read_postrej_sent_cookies_in_scans\n",
    "from ooutil.type_util import hashabledict\n"
   ]
  },
  {
   "cell_type": "code",
   "execution_count": 4,
   "metadata": {},
   "outputs": [
    {
     "name": "stdout",
     "output_type": "stream",
     "text": [
      "WARNING: Consent cookie not found manchestereveningnews.co.uk\n",
      "Error reading intel.com dictionary update sequence element #0 has length 1; 2 is required\n",
      "WARNING: Found non-unique (not found or >1 instance) copper.com\n",
      "Error reading copper.com dictionary update sequence element #0 has length 1; 2 is required\n",
      "WARNING: Consent cookie not found essexlive.news\n",
      "Error reading intel.co.uk dictionary update sequence element #0 has length 1; 2 is required\n",
      "\u001b[31mFail to read log 3 sites: ['intel.com', 'copper.com', 'intel.co.uk'] \u001b[39m\n",
      "https://cdn-ukwest.onetrust.com/consent/e4eb3b2e-4cc5-4752-b2ca-381970849659/204361df-8a07-4ca3-a82b-f9c3a0433d38/en.json WARNING: Cookie list has session cookie but duration > 0\n",
      "https://cdn.cookielaw.org/consent/bfc3f6d1-88f6-4292-b5d2-757633a696fe/ac184959-dbdc-45be-bc47-5fe1f7f7a064/en.json WARNING: Cookie list has session cookie but duration > 0\n",
      "https://cdn.cookielaw.org/consent/c570eb43-1169-4222-914c-38a09bd70ca0/a1f914ac-390b-484b-9577-7c7ad52c8361/en.json WARNING: Cookie list has session cookie but duration > 0\n",
      "https://cdn.cookielaw.org/consent/c570eb43-1169-4222-914c-38a09bd70ca0/a1f914ac-390b-484b-9577-7c7ad52c8361/en.json WARNING: Cookie list has session cookie but duration > 0\n",
      "WARNING: error decoding /mnt/sda/ducbui/Dropbox/Dropbox (University of Michigan)/projects/data_sync/consent/2022-05-30/pref_menu_scan_20k_40k/runkeeper.com/consent_resources.json: consent_js not supported yet.\n",
      "WARNING: error decoding /mnt/sda/ducbui/Dropbox/Dropbox (University of Michigan)/projects/data_sync/consent/2022-05-30/pref_menu_scan_20k_40k/anheuser-busch.com/consent_resources.json: consent_js not supported yet.\n",
      "WARNING: error decoding /mnt/sda/ducbui/Dropbox/Dropbox (University of Michigan)/projects/data_sync/consent/2022-05-30/pref_menu_scan_20k_40k/firaxislive.com/consent_resources.json: consent_js not supported yet.\n",
      "https://cdn.cookielaw.org/consent/c570eb43-1169-4222-914c-38a09bd70ca0/a1f914ac-390b-484b-9577-7c7ad52c8361/en.json WARNING: Cookie list has session cookie but duration > 0\n",
      "https://cdn.cookielaw.org/consent/7196b120-4dcb-4a27-9db1-c222ce6f73a4/13cd4ce4-5bc0-47a0-811a-e6e5823805b6/en-gb.json WARNING: Cookie list has session cookie but duration > 0\n",
      "WARNING: error decoding /mnt/sda/ducbui/Dropbox/Dropbox (University of Michigan)/projects/data_sync/consent/2022-05-30/pref_menu_scan_20k_40k/fing.com/consent_resources.json: \"None of [Index(['name', 'domain', 'duration', 'category_id', 'category',\\n       'consent_mode'],\\n      dtype='object')] are in the [columns]\"\n",
      "https://cookie-cdn.cookiepro.com/consent/77116fdd-096b-4185-a5b0-3dbe7955ca65/cd0c8157-44c4-49c8-a11f-2443cc573be8/en.json WARNING: Cookie list has session cookie but duration > 0\n",
      "WARNING: error decoding /mnt/sda/ducbui/Dropbox/Dropbox (University of Michigan)/projects/data_sync/consent/2022-05-30/pref_menu_scan_40k_60k/fhi360.org/consent_resources.json: consent_js not supported yet.\n",
      "https://cdn-ukwest.onetrust.com/consent/e00c3e10-0e07-461a-94d5-e87b899fa55a/442b5be0-8f10-4555-b6a6-2aa7c2e23dfa/en.json WARNING: Cookie list has session cookie but duration > 0\n",
      "https://cdn.cookielaw.org/consent/c570eb43-1169-4222-914c-38a09bd70ca0/a1f914ac-390b-484b-9577-7c7ad52c8361/en.json WARNING: Cookie list has session cookie but duration > 0\n",
      "WARNING: error decoding /mnt/sda/ducbui/Dropbox/Dropbox (University of Michigan)/projects/data_sync/consent/2022-05-30/pref_menu_scan_60k_80k/appsolid.net/consent_resources.json: No objects to concatenate\n",
      "WARNING: error decoding /mnt/sda/ducbui/Dropbox/Dropbox (University of Michigan)/projects/data_sync/consent/2022-05-30/pref_menu_scan_60k_80k/appsolid.net/consent_resources.json: No objects to concatenate\n",
      "https://cdn.cookielaw.org/consent/c570eb43-1169-4222-914c-38a09bd70ca0/a1f914ac-390b-484b-9577-7c7ad52c8361/en.json WARNING: Cookie list has session cookie but duration > 0\n",
      "WARNING: error decoding /mnt/sda/ducbui/Dropbox/Dropbox (University of Michigan)/projects/data_sync/consent/2022-05-30/pref_menu_scan_60k_80k/firaxis.com/consent_resources.json: consent_js not supported yet.\n",
      "https://cdn.cookielaw.org/consent/c64adbf1-1bf4-42a3-adca-725321c1f6ed/947fe58f-7764-46a7-bcca-e6bd6562f66a/en.json WARNING: Cookie list has session cookie but duration > 0\n",
      "WARNING: error decoding /mnt/sda/ducbui/Dropbox/Dropbox (University of Michigan)/projects/data_sync/consent/2022-05-30/pref_menu_scan_60k_80k/presspage.com/consent_resources.json: \"None of [Index(['name', 'domain', 'duration', 'category_id', 'category',\\n       'consent_mode'],\\n      dtype='object')] are in the [columns]\"\n",
      "https://cdn.cookielaw.org/consent/502d0d7b-6014-4373-9c72-879af88d8e53/13cd4ce4-5bc0-47a0-811a-e6e5823805b6/en-gb.json WARNING: Cookie list has session cookie but duration > 0\n",
      "https://cdn.cookielaw.org/consent/c570eb43-1169-4222-914c-38a09bd70ca0/a1f914ac-390b-484b-9577-7c7ad52c8361/en.json WARNING: Cookie list has session cookie but duration > 0\n",
      "https://cdn.cookielaw.org/consent/c570eb43-1169-4222-914c-38a09bd70ca0/a1f914ac-390b-484b-9577-7c7ad52c8361/en.json WARNING: Cookie list has session cookie but duration > 0\n",
      "https://cdn.cookielaw.org/consent/a3cad216-8692-4702-a85d-06e5c30c35cc/73c2b8f6-cbec-440f-92bb-20b88083e557/en.json WARNING: Cookie list has session cookie but duration > 0\n",
      "WARNING: error decoding /mnt/sda/ducbui/Dropbox/Dropbox (University of Michigan)/projects/data_sync/consent/2022-05-30/pref_menu_scan_40k_60k/statscore.com/consent_resources.json: \"None of [Index(['name', 'domain', 'duration', 'category_id', 'category',\\n       'consent_mode'],\\n      dtype='object')] are in the [columns]\"\n",
      "WARNING: error decoding /mnt/sda/ducbui/Dropbox/Dropbox (University of Michigan)/projects/data_sync/consent/2022-05-30/pref_menu_scan_80k_100k/spendmatters.com/consent_resources.json: region_block Received an out-of-region response\n",
      "WARNING: error decoding /mnt/sda/ducbui/Dropbox/Dropbox (University of Michigan)/projects/data_sync/consent/2022-05-30/pref_menu_scan_80k_100k/kerry.com/consent_resources.json: \"None of [Index(['name', 'domain', 'duration', 'category_id', 'category',\\n       'consent_mode'],\\n      dtype='object')] are in the [columns]\"\n",
      "WARNING: error decoding /mnt/sda/ducbui/Dropbox/Dropbox (University of Michigan)/projects/data_sync/consent/2022-05-30/pref_menu_scan_80k_100k/facil-iti.com/consent_resources.json: region_block Received an out-of-region response\n",
      "https://cdn.cookielaw.org/consent/ddebb8b7-b30a-4859-924f-d0975be45e2d/dcb05151-09c2-4427-859c-4b76282ca6ab/en.json WARNING: Cookie list has session cookie but duration > 0\n",
      "https://cdn.cookielaw.org/consent/c8c5fc9a-11a2-4fd0-9481-fa97368e9bcb/b2483676-ad61-43f4-abdb-1c6b743873df/en.json WARNING: Cookie list has session cookie but duration > 0\n",
      "https://cdn.cookielaw.org/consent/971d3d12-3472-438b-8808-e6315de8e250/13cd4ce4-5bc0-47a0-811a-e6e5823805b6/en-gb.json WARNING: Cookie list has session cookie but duration > 0\n",
      "https://cdn.cookielaw.org/consent/0eaf4d46-79f4-4fa3-840b-93b037fd275b/13cd4ce4-5bc0-47a0-811a-e6e5823805b6/en-gb.json WARNING: Cookie list has session cookie but duration > 0\n",
      "https://cdn.cookielaw.org/consent/588528ab-1b00-4165-ab97-cd3c12aef24e/ec70f8d6-6f58-4b5b-a0b8-fc4d8a8aa6a9/en.json WARNING: Cookie list has session cookie but duration > 0\n"
     ]
    },
    {
     "data": {
      "text/html": [
       "<div>\n",
       "<style scoped>\n",
       "    .dataframe tbody tr th:only-of-type {\n",
       "        vertical-align: middle;\n",
       "    }\n",
       "\n",
       "    .dataframe tbody tr th {\n",
       "        vertical-align: top;\n",
       "    }\n",
       "\n",
       "    .dataframe thead th {\n",
       "        text-align: right;\n",
       "    }\n",
       "</style>\n",
       "<table border=\"1\" class=\"dataframe\">\n",
       "  <thead>\n",
       "    <tr style=\"text-align: right;\">\n",
       "      <th></th>\n",
       "      <th>name</th>\n",
       "      <th>domain</th>\n",
       "      <th>duration</th>\n",
       "      <th>category_id</th>\n",
       "      <th>category</th>\n",
       "      <th>consent_mode</th>\n",
       "      <th>site</th>\n",
       "      <th>lib_name</th>\n",
       "      <th>pattern_name</th>\n",
       "      <th>consent</th>\n",
       "    </tr>\n",
       "  </thead>\n",
       "  <tbody>\n",
       "    <tr>\n",
       "      <th>0</th>\n",
       "      <td>__we_bucket_id</td>\n",
       "      <td>www.wework.com</td>\n",
       "      <td>365 days</td>\n",
       "      <td>C0001</td>\n",
       "      <td>Strictly Necessary Cookies</td>\n",
       "      <td>always active</td>\n",
       "      <td>wework.com</td>\n",
       "      <td>onetrust</td>\n",
       "      <td>en.json</td>\n",
       "      <td>True</td>\n",
       "    </tr>\n",
       "    <tr>\n",
       "      <th>1</th>\n",
       "      <td>OptanonAlertBoxClosed</td>\n",
       "      <td>wework.com</td>\n",
       "      <td>365 days</td>\n",
       "      <td>C0001</td>\n",
       "      <td>Strictly Necessary Cookies</td>\n",
       "      <td>always active</td>\n",
       "      <td>wework.com</td>\n",
       "      <td>onetrust</td>\n",
       "      <td>en.json</td>\n",
       "      <td>True</td>\n",
       "    </tr>\n",
       "    <tr>\n",
       "      <th>2</th>\n",
       "      <td>OptanonConsent</td>\n",
       "      <td>www.wework.com</td>\n",
       "      <td>365 days</td>\n",
       "      <td>C0001</td>\n",
       "      <td>Strictly Necessary Cookies</td>\n",
       "      <td>always active</td>\n",
       "      <td>wework.com</td>\n",
       "      <td>onetrust</td>\n",
       "      <td>en.json</td>\n",
       "      <td>True</td>\n",
       "    </tr>\n",
       "    <tr>\n",
       "      <th>3</th>\n",
       "      <td>__we_request_id</td>\n",
       "      <td>www.wework.com</td>\n",
       "      <td>Session</td>\n",
       "      <td>C0001</td>\n",
       "      <td>Strictly Necessary Cookies</td>\n",
       "      <td>always active</td>\n",
       "      <td>wework.com</td>\n",
       "      <td>onetrust</td>\n",
       "      <td>en.json</td>\n",
       "      <td>True</td>\n",
       "    </tr>\n",
       "    <tr>\n",
       "      <th>4</th>\n",
       "      <td>we_referring_domain</td>\n",
       "      <td>www.wework.com</td>\n",
       "      <td>14 days</td>\n",
       "      <td>C0001</td>\n",
       "      <td>Strictly Necessary Cookies</td>\n",
       "      <td>always active</td>\n",
       "      <td>wework.com</td>\n",
       "      <td>onetrust</td>\n",
       "      <td>en.json</td>\n",
       "      <td>True</td>\n",
       "    </tr>\n",
       "  </tbody>\n",
       "</table>\n",
       "</div>"
      ],
      "text/plain": [
       "                    name          domain  duration category_id  \\\n",
       "0         __we_bucket_id  www.wework.com  365 days       C0001   \n",
       "1  OptanonAlertBoxClosed      wework.com  365 days       C0001   \n",
       "2         OptanonConsent  www.wework.com  365 days       C0001   \n",
       "3        __we_request_id  www.wework.com   Session       C0001   \n",
       "4    we_referring_domain  www.wework.com   14 days       C0001   \n",
       "\n",
       "                     category   consent_mode        site  lib_name  \\\n",
       "0  Strictly Necessary Cookies  always active  wework.com  onetrust   \n",
       "1  Strictly Necessary Cookies  always active  wework.com  onetrust   \n",
       "2  Strictly Necessary Cookies  always active  wework.com  onetrust   \n",
       "3  Strictly Necessary Cookies  always active  wework.com  onetrust   \n",
       "4  Strictly Necessary Cookies  always active  wework.com  onetrust   \n",
       "\n",
       "  pattern_name consent  \n",
       "0      en.json    True  \n",
       "1      en.json    True  \n",
       "2      en.json    True  \n",
       "3      en.json    True  \n",
       "4      en.json    True  "
      ]
     },
     "execution_count": 4,
     "metadata": {},
     "output_type": "execute_result"
    }
   ],
   "source": [
    "# Get cookie prefs = cookie decls + prefs\n",
    "# TODO: cache this ...\n"
   ]
  },
  {
   "cell_type": "code",
   "execution_count": 5,
   "metadata": {},
   "outputs": [
    {
     "name": "stdout",
     "output_type": "stream",
     "text": [
      "Written to /mnt/sda/ducbui/Dropbox/Dropbox (University of Michigan)/projects/data_sync/consent/2022-05-30/cookie_prefs.parquet\n"
     ]
    }
   ],
   "source": []
  },
  {
   "cell_type": "code",
   "execution_count": 7,
   "metadata": {},
   "outputs": [
    {
     "name": "stdout",
     "output_type": "stream",
     "text": [
      "Sites with cookie prefs: 3809 , first 10 sites: ['100percentpure.com', '101blockchains.com', '123helpme.com', '177milkstreet.com', '1hotels.com', '24hourfitness.com', '24s.com', '2k.com', '2kgames.com', '2ksports.com']\n"
     ]
    }
   ],
   "source": [
    "cookielist_sites = sorted(cookie_prefs.site.unique().tolist())\n",
    "n_cookielist_sites = len(cookielist_sites)\n",
    "assert cookie_prefs.site.nunique() == n_cookielist_sites\n",
    "n=10\n",
    "print(\"Sites with cookie prefs:\", n_cookielist_sites, f', first {n} sites:' , cookielist_sites[:n])"
   ]
  },
  {
   "cell_type": "code",
   "execution_count": 6,
   "metadata": {},
   "outputs": [
    {
     "name": "stdout",
     "output_type": "stream",
     "text": [
      "Found cookie libraries:\n"
     ]
    },
    {
     "data": {
      "text/plain": [
       "onetrust     3352\n",
       "cookiebot     433\n",
       "termly         24\n",
       "Name: lib_name, dtype: int64"
      ]
     },
     "execution_count": 6,
     "metadata": {},
     "output_type": "execute_result"
    }
   ],
   "source": [
    "print(\"Found cookie libraries:\")\n",
    "cookie_prefs[['site', 'lib_name']].drop_duplicates().lib_name.value_counts()"
   ]
  },
  {
   "cell_type": "code",
   "execution_count": null,
   "metadata": {},
   "outputs": [],
   "source": [
    "print(f\"Number of extracted cookie preferences: {len(cookie_prefs):,d}\")"
   ]
  }
 ],
 "metadata": {
  "interpreter": {
   "hash": "716ef94a01c3d994cde453e411f4463b0105d2a3a71c6aed84dea7988b1708f3"
  },
  "kernelspec": {
   "display_name": "Python 3.8.10 ('consent')",
   "language": "python",
   "name": "python3"
  },
  "language_info": {
   "codemirror_mode": {
    "name": "ipython",
    "version": 3
   },
   "file_extension": ".py",
   "mimetype": "text/x-python",
   "name": "python",
   "nbconvert_exporter": "python",
   "pygments_lexer": "ipython3",
   "version": "3.8.10"
  },
  "orig_nbformat": 4
 },
 "nbformat": 4,
 "nbformat_minor": 2
}
