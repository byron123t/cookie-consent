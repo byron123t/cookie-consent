{
 "cells": [
  {
   "cell_type": "code",
   "execution_count": 1,
   "metadata": {},
   "outputs": [],
   "source": [
    "from collections import defaultdict\n",
    "\n",
    "from tqdm import tqdm\n",
    "import pandas as pd\n",
    "import seaborn as sns\n",
    "\n",
    "from consent.consistency.util import get_scan_root_dir, get_scan_dirs # , FIG_DIR uncomment to save fig.\n",
    "from ooutil.df_util import read_data_files\n",
    "\n",
    "pd.options.display.max_rows = 100\n",
    "\n",
    "SCAN_DIRS = get_scan_dirs('us')\n",
    "SCAN_ROOT_DIR = get_scan_root_dir('us')"
   ]
  },
  {
   "cell_type": "code",
   "execution_count": 2,
   "metadata": {},
   "outputs": [
    {
     "name": "stdout",
     "output_type": "stream",
     "text": [
      "['cookie_prefs_0k_20k.parquet', 'cookie_prefs_100k_200k.parquet', 'cookie_prefs_20k_100k.parquet']\n"
     ]
    },
    {
     "name": "stderr",
     "output_type": "stream",
     "text": [
      "100%|██████████| 3/3 [00:00<00:00,  6.09it/s]\n"
     ]
    },
    {
     "data": {
      "text/html": [
       "<div>\n",
       "<style scoped>\n",
       "    .dataframe tbody tr th:only-of-type {\n",
       "        vertical-align: middle;\n",
       "    }\n",
       "\n",
       "    .dataframe tbody tr th {\n",
       "        vertical-align: top;\n",
       "    }\n",
       "\n",
       "    .dataframe thead th {\n",
       "        text-align: right;\n",
       "    }\n",
       "</style>\n",
       "<table border=\"1\" class=\"dataframe\">\n",
       "  <thead>\n",
       "    <tr style=\"text-align: right;\">\n",
       "      <th></th>\n",
       "      <th>name</th>\n",
       "      <th>domain</th>\n",
       "      <th>duration</th>\n",
       "      <th>category_id</th>\n",
       "      <th>category</th>\n",
       "      <th>consent_mode</th>\n",
       "      <th>site</th>\n",
       "      <th>lib_name</th>\n",
       "      <th>pattern_name</th>\n",
       "      <th>consent</th>\n",
       "    </tr>\n",
       "  </thead>\n",
       "  <tbody>\n",
       "    <tr>\n",
       "      <th>0</th>\n",
       "      <td>_NS</td>\n",
       "      <td>secure.paybyphone.com</td>\n",
       "      <td>0 days</td>\n",
       "      <td>C0001</td>\n",
       "      <td>Strictly Necessary Cookies</td>\n",
       "      <td>always active</td>\n",
       "      <td>paybyphone.com</td>\n",
       "      <td>onetrust</td>\n",
       "      <td>en.json</td>\n",
       "      <td>True</td>\n",
       "    </tr>\n",
       "    <tr>\n",
       "      <th>1</th>\n",
       "      <td>ASP.NET_SessionId</td>\n",
       "      <td>secure.paybyphone.com</td>\n",
       "      <td>Session</td>\n",
       "      <td>C0001</td>\n",
       "      <td>Strictly Necessary Cookies</td>\n",
       "      <td>always active</td>\n",
       "      <td>paybyphone.com</td>\n",
       "      <td>onetrust</td>\n",
       "      <td>en.json</td>\n",
       "      <td>True</td>\n",
       "    </tr>\n",
       "    <tr>\n",
       "      <th>2</th>\n",
       "      <td>ClientSettings</td>\n",
       "      <td>secure.paybyphone.com</td>\n",
       "      <td>30 days</td>\n",
       "      <td>C0001</td>\n",
       "      <td>Strictly Necessary Cookies</td>\n",
       "      <td>always active</td>\n",
       "      <td>paybyphone.com</td>\n",
       "      <td>onetrust</td>\n",
       "      <td>en.json</td>\n",
       "      <td>True</td>\n",
       "    </tr>\n",
       "    <tr>\n",
       "      <th>3</th>\n",
       "      <td>cookie-primary-language</td>\n",
       "      <td>www.paybyphone.com</td>\n",
       "      <td>90 days</td>\n",
       "      <td>C0001</td>\n",
       "      <td>Strictly Necessary Cookies</td>\n",
       "      <td>always active</td>\n",
       "      <td>paybyphone.com</td>\n",
       "      <td>onetrust</td>\n",
       "      <td>en.json</td>\n",
       "      <td>True</td>\n",
       "    </tr>\n",
       "    <tr>\n",
       "      <th>4</th>\n",
       "      <td>geoip-country-code</td>\n",
       "      <td>www.paybyphone.com</td>\n",
       "      <td>90 days</td>\n",
       "      <td>C0001</td>\n",
       "      <td>Strictly Necessary Cookies</td>\n",
       "      <td>always active</td>\n",
       "      <td>paybyphone.com</td>\n",
       "      <td>onetrust</td>\n",
       "      <td>en.json</td>\n",
       "      <td>True</td>\n",
       "    </tr>\n",
       "  </tbody>\n",
       "</table>\n",
       "</div>"
      ],
      "text/plain": [
       "                      name                 domain duration category_id  \\\n",
       "0                      _NS  secure.paybyphone.com   0 days       C0001   \n",
       "1        ASP.NET_SessionId  secure.paybyphone.com  Session       C0001   \n",
       "2           ClientSettings  secure.paybyphone.com  30 days       C0001   \n",
       "3  cookie-primary-language     www.paybyphone.com  90 days       C0001   \n",
       "4       geoip-country-code     www.paybyphone.com  90 days       C0001   \n",
       "\n",
       "                     category   consent_mode            site  lib_name  \\\n",
       "0  Strictly Necessary Cookies  always active  paybyphone.com  onetrust   \n",
       "1  Strictly Necessary Cookies  always active  paybyphone.com  onetrust   \n",
       "2  Strictly Necessary Cookies  always active  paybyphone.com  onetrust   \n",
       "3  Strictly Necessary Cookies  always active  paybyphone.com  onetrust   \n",
       "4  Strictly Necessary Cookies  always active  paybyphone.com  onetrust   \n",
       "\n",
       "  pattern_name  consent  \n",
       "0      en.json     True  \n",
       "1      en.json     True  \n",
       "2      en.json     True  \n",
       "3      en.json     True  \n",
       "4      en.json     True  "
      ]
     },
     "execution_count": 2,
     "metadata": {},
     "output_type": "execute_result"
    }
   ],
   "source": [
    "cookie_prefs_files = list(SCAN_ROOT_DIR.glob('cookie_prefs_*.parquet'))\n",
    "print(sorted(f.name for f in cookie_prefs_files))\n",
    "cookie_prefs = read_data_files(cookie_prefs_files) # pd.read_parquet(cookie_prefs_file)\n",
    "cookie_prefs.head()"
   ]
  },
  {
   "cell_type": "code",
   "execution_count": 3,
   "metadata": {},
   "outputs": [
    {
     "name": "stdout",
     "output_type": "stream",
     "text": [
      "['all_complies_0k_20k.parquet', 'all_complies_100k_200k.parquet', 'all_complies_20k_100k.parquet']\n"
     ]
    },
    {
     "name": "stderr",
     "output_type": "stream",
     "text": [
      "100%|██████████| 3/3 [00:00<00:00, 31.86it/s]\n"
     ]
    },
    {
     "data": {
      "text/html": [
       "<div>\n",
       "<style scoped>\n",
       "    .dataframe tbody tr th:only-of-type {\n",
       "        vertical-align: middle;\n",
       "    }\n",
       "\n",
       "    .dataframe tbody tr th {\n",
       "        vertical-align: top;\n",
       "    }\n",
       "\n",
       "    .dataframe thead th {\n",
       "        text-align: right;\n",
       "    }\n",
       "</style>\n",
       "<table border=\"1\" class=\"dataframe\">\n",
       "  <thead>\n",
       "    <tr style=\"text-align: right;\">\n",
       "      <th></th>\n",
       "      <th>name</th>\n",
       "      <th>domain</th>\n",
       "      <th>path</th>\n",
       "      <th>site</th>\n",
       "      <th>comply</th>\n",
       "    </tr>\n",
       "  </thead>\n",
       "  <tbody>\n",
       "    <tr>\n",
       "      <th>0</th>\n",
       "      <td>_gid</td>\n",
       "      <td>.paybyphone.com</td>\n",
       "      <td>/</td>\n",
       "      <td>paybyphone.com</td>\n",
       "      <td>incorrect</td>\n",
       "    </tr>\n",
       "    <tr>\n",
       "      <th>1</th>\n",
       "      <td>_ga</td>\n",
       "      <td>.paybyphone.com</td>\n",
       "      <td>/</td>\n",
       "      <td>paybyphone.com</td>\n",
       "      <td>incorrect</td>\n",
       "    </tr>\n",
       "    <tr>\n",
       "      <th>2</th>\n",
       "      <td>geoip-country-code</td>\n",
       "      <td>www.paybyphone.com</td>\n",
       "      <td>/</td>\n",
       "      <td>paybyphone.com</td>\n",
       "      <td>comply</td>\n",
       "    </tr>\n",
       "    <tr>\n",
       "      <th>3</th>\n",
       "      <td>OptanonConsent</td>\n",
       "      <td>.www.paybyphone.com</td>\n",
       "      <td>/</td>\n",
       "      <td>paybyphone.com</td>\n",
       "      <td>comply</td>\n",
       "    </tr>\n",
       "    <tr>\n",
       "      <th>4</th>\n",
       "      <td>_NS</td>\n",
       "      <td>www.paybyphone.com</td>\n",
       "      <td>/</td>\n",
       "      <td>paybyphone.com</td>\n",
       "      <td>omit</td>\n",
       "    </tr>\n",
       "  </tbody>\n",
       "</table>\n",
       "</div>"
      ],
      "text/plain": [
       "                 name               domain path            site     comply\n",
       "0                _gid      .paybyphone.com    /  paybyphone.com  incorrect\n",
       "1                 _ga      .paybyphone.com    /  paybyphone.com  incorrect\n",
       "2  geoip-country-code   www.paybyphone.com    /  paybyphone.com     comply\n",
       "3      OptanonConsent  .www.paybyphone.com    /  paybyphone.com     comply\n",
       "4                 _NS   www.paybyphone.com    /  paybyphone.com       omit"
      ]
     },
     "execution_count": 3,
     "metadata": {},
     "output_type": "execute_result"
    }
   ],
   "source": [
    "all_complies_files = list(SCAN_ROOT_DIR.glob('all_complies_*.parquet'))\n",
    "print(sorted(f.name for f in all_complies_files))\n",
    "all_complies = read_data_files(all_complies_files)\n",
    "all_complies.head()"
   ]
  },
  {
   "cell_type": "code",
   "execution_count": 4,
   "metadata": {},
   "outputs": [
    {
     "name": "stdout",
     "output_type": "stream",
     "text": [
      "Number of sites with prefs: 5,083\n",
      "Number of sites with consistency: 5,050\n",
      "Number of flows analyzed: 140,279\n"
     ]
    }
   ],
   "source": [
    "nsites = all_complies.site.nunique()\n",
    "print(f'Number of sites with prefs: {cookie_prefs.site.nunique():,d}')\n",
    "print(f\"Number of sites with consistency: {nsites:,d}\")\n",
    "print(f'Number of flows analyzed: {len(all_complies):,d}')"
   ]
  },
  {
   "cell_type": "code",
   "execution_count": 5,
   "metadata": {},
   "outputs": [
    {
     "name": "stdout",
     "output_type": "stream",
     "text": [
      "5050\n"
     ]
    },
    {
     "data": {
      "text/plain": [
       "onetrust     4373\n",
       "cookiebot     659\n",
       "termly         18\n",
       "Name: lib_name, dtype: int64"
      ]
     },
     "execution_count": 5,
     "metadata": {},
     "output_type": "execute_result"
    }
   ],
   "source": [
    "site_to_libname = {row['site']: row['lib_name'] for row in cookie_prefs[['site', 'lib_name']].drop_duplicates().to_dict('records')}\n",
    "all_complies['lib_name'] = all_complies.site.map(site_to_libname)\n",
    "all_complies_libs = all_complies.drop_duplicates(subset='site').lib_name.value_counts()\n",
    "print(all_complies_libs.sum())\n",
    "all_complies_libs"
   ]
  },
  {
   "cell_type": "code",
   "execution_count": 6,
   "metadata": {},
   "outputs": [
    {
     "name": "stdout",
     "output_type": "stream",
     "text": [
      "140222\n"
     ]
    },
    {
     "data": {
      "text/plain": [
       "omit         70547\n",
       "incorrect    39446\n",
       "comply       29884\n",
       "ambiguous      345\n",
       "Name: comply, dtype: int64"
      ]
     },
     "execution_count": 6,
     "metadata": {},
     "output_type": "execute_result"
    }
   ],
   "source": [
    "# all_complies: comply flows, complies: comply cookies\n",
    "complies = all_complies[['name', 'domain', 'path', 'site', 'comply']].drop_duplicates()\n",
    "comply_counts = complies.comply.value_counts()\n",
    "assert len(complies) == comply_counts.sum(), \"Some cookie have 2 different comply values\"\n",
    "print(comply_counts.sum())\n",
    "comply_counts"
   ]
  },
  {
   "cell_type": "code",
   "execution_count": 7,
   "metadata": {},
   "outputs": [
    {
     "data": {
      "text/html": [
       "<div>\n",
       "<style scoped>\n",
       "    .dataframe tbody tr th:only-of-type {\n",
       "        vertical-align: middle;\n",
       "    }\n",
       "\n",
       "    .dataframe tbody tr th {\n",
       "        vertical-align: top;\n",
       "    }\n",
       "\n",
       "    .dataframe thead th {\n",
       "        text-align: right;\n",
       "    }\n",
       "</style>\n",
       "<table border=\"1\" class=\"dataframe\">\n",
       "  <thead>\n",
       "    <tr style=\"text-align: right;\">\n",
       "      <th></th>\n",
       "      <th>comply_type</th>\n",
       "      <th>num_sites</th>\n",
       "      <th>num_sites_percent</th>\n",
       "      <th>num_cookies</th>\n",
       "      <th>num_cookies_percent</th>\n",
       "      <th>num_cookies_per_site</th>\n",
       "    </tr>\n",
       "  </thead>\n",
       "  <tbody>\n",
       "    <tr>\n",
       "      <th>3</th>\n",
       "      <td>omit</td>\n",
       "      <td>4497</td>\n",
       "      <td>89.049505</td>\n",
       "      <td>70547</td>\n",
       "      <td>50.310936</td>\n",
       "      <td>15.687569</td>\n",
       "    </tr>\n",
       "    <tr>\n",
       "      <th>2</th>\n",
       "      <td>incorrect</td>\n",
       "      <td>4134</td>\n",
       "      <td>81.861386</td>\n",
       "      <td>39446</td>\n",
       "      <td>28.131106</td>\n",
       "      <td>9.541848</td>\n",
       "    </tr>\n",
       "    <tr>\n",
       "      <th>0</th>\n",
       "      <td>ambiguous</td>\n",
       "      <td>203</td>\n",
       "      <td>4.019802</td>\n",
       "      <td>345</td>\n",
       "      <td>0.246038</td>\n",
       "      <td>1.699507</td>\n",
       "    </tr>\n",
       "  </tbody>\n",
       "</table>\n",
       "</div>"
      ],
      "text/plain": [
       "  comply_type  num_sites  num_sites_percent  num_cookies  num_cookies_percent  \\\n",
       "3        omit       4497          89.049505        70547            50.310936   \n",
       "2   incorrect       4134          81.861386        39446            28.131106   \n",
       "0   ambiguous        203           4.019802          345             0.246038   \n",
       "\n",
       "   num_cookies_per_site  \n",
       "3             15.687569  \n",
       "2              9.541848  \n",
       "0              1.699507  "
      ]
     },
     "execution_count": 7,
     "metadata": {},
     "output_type": "execute_result"
    }
   ],
   "source": [
    "# Counts violated sites = at least 1 violation detected.\n",
    "comply_sites_data = defaultdict(list)\n",
    "for comply_type, comply_group in complies.groupby('comply'):\n",
    "    n_sites = comply_group.site.nunique()\n",
    "    comply_sites_data['comply_type'].append(comply_type)\n",
    "    comply_sites_data['num_sites'].append(n_sites)\n",
    "    comply_sites = pd.DataFrame(comply_sites_data).sort_values(by=['num_sites'], ascending=False)\n",
    "    \n",
    "\n",
    "comply_sites['num_sites_percent'] = comply_sites['num_sites'] / nsites * 100\n",
    "comply_sites['num_cookies'] = comply_sites['comply_type'].map(comply_counts)\n",
    "comply_sites['num_cookies_percent'] = comply_sites['num_cookies'] / comply_sites['num_cookies'].sum() * 100  # need to read scan_*.parquet for n_br_cookies, but may be unnecessary\n",
    "comply_sites['num_cookies_per_site'] = comply_sites['num_cookies'] / comply_sites['num_sites'] \n",
    "\n",
    "# Do not count comply/correct enforcement: which require detecting all possible\n",
    "comply_sites = comply_sites[comply_sites.comply_type != 'comply']\n",
    "comply_sites"
   ]
  },
  {
   "cell_type": "code",
   "execution_count": 8,
   "metadata": {},
   "outputs": [
    {
     "data": {
      "text/plain": [
       "267"
      ]
     },
     "execution_count": 8,
     "metadata": {},
     "output_type": "execute_result"
    }
   ],
   "source": [
    "# Count complying (no violation detected)\n",
    "n_comply_sites = 0\n",
    "for site, site_comply in complies.groupby('site'):\n",
    "    if set(site_comply.comply.unique()) == {'comply'}:\n",
    "        n_comply_sites += 1\n",
    "n_comply_sites"
   ]
  },
  {
   "cell_type": "code",
   "execution_count": 9,
   "metadata": {},
   "outputs": [
    {
     "name": "stdout",
     "output_type": "stream",
     "text": [
      "Num cookies analyzed: 110,338\n"
     ]
    },
    {
     "data": {
      "text/plain": [
       "comply_type             omitincorrectambiguous\n",
       "num_sites                                 8834\n",
       "num_sites_percent                   174.930693\n",
       "num_cookies                             110338\n",
       "num_cookies_percent                   78.68808\n",
       "num_cookies_per_site                 26.928925\n",
       "dtype: object"
      ]
     },
     "execution_count": 9,
     "metadata": {},
     "output_type": "execute_result"
    }
   ],
   "source": [
    "totals = comply_sites.sum()\n",
    "n_cookies_analyzed = totals['num_cookies']\n",
    "print(f'Num cookies analyzed: {n_cookies_analyzed:,d}')\n",
    "totals"
   ]
  },
  {
   "cell_type": "code",
   "execution_count": 10,
   "metadata": {},
   "outputs": [
    {
     "name": "stdout",
     "output_type": "stream",
     "text": [
      "\\begin{tabular}{lrl}\n",
      "\\toprule\n",
      "Violation Type & \\# Cookies & \\# Websites \\\\\n",
      "\\midrule\n",
      "Omitted Preference & 70,547 & 89.05\\% (4,497/5,050) \\\\\n",
      "Incorrect Enforcement & 39,446 & 81.86\\% (4,134/5,050) \\\\\n",
      "Ambiguous Enforcement & 345 & 4.02\\% (203/5,050) \\\\\n",
      "\\bottomrule\n",
      "\\end{tabular}\n",
      "\n"
     ]
    }
   ],
   "source": [
    "latex = comply_sites[['comply_type', 'num_cookies', 'num_sites', 'num_sites_percent']].copy()\n",
    "# latex['num_sites_combine'] = latex.apply(lambda row: f\"{row['num_sites']} ({row['num_sites_percent']:.2f}%)\", axis=1)\n",
    "latex['num_sites_combine'] = latex.apply(lambda row: f\"{row['num_sites_percent']:.2f}% ({row['num_sites']:,d}/{nsites:,d})\", axis=1)\n",
    "latex = latex[['comply_type', 'num_cookies', 'num_sites_combine']]\n",
    "latex = latex[latex.comply_type != 'comply']\n",
    "latex = latex.rename(columns={'comply_type': 'Violation Type', 'num_sites_combine': '# Websites', 'num_cookies': '# Cookies'})\n",
    "latex = latex.replace({'omit': \"Omitted Preference\", \"incorrect\": \"Incorrect Enforcement\", \"ambiguous\": \"Ambiguous Enforcement\", \"comply\": \"Correct Enforcement\"})\n",
    "# print(latex.to_latex())\n",
    "print(latex.style.hide(axis='index').format_index(escape='latex', axis=1).format({'# Cookies': '{:,d}'}, escape='latex').to_latex(hrules=True))\n",
    "# print(latex_df.style.hide(axis='index').format_index(escape='latex', axis=1).format({\"percent\": '{:.2f}'}, escape='latex').to_latex(hrules=True))\n",
    "# print(latex_df.style.format(subset='Opt-out Policy', escape=None).to_latex(hrules=True, multirow_align=True))"
   ]
  },
  {
   "cell_type": "code",
   "execution_count": 11,
   "metadata": {},
   "outputs": [
    {
     "ename": "StopExecution",
     "evalue": "",
     "output_type": "error",
     "traceback": []
    }
   ],
   "source": [
    "class StopExecution(Exception):\n",
    "    def _render_traceback_(self):\n",
    "        pass\n",
    "\n",
    "raise StopExecution"
   ]
  },
  {
   "cell_type": "code",
   "execution_count": null,
   "metadata": {},
   "outputs": [
    {
     "name": "stdout",
     "output_type": "stream",
     "text": [
      "Num correct sites: 360 (360 / 6050 = 5.95 %)\n",
      "['abus.com', 'accesso.com', 'activelearnprimary.co.uk', 'adcombo.com', 'adtelligent.com']\n"
     ]
    }
   ],
   "source": [
    "sites = set(complies.site)\n",
    "vio_sites = set(complies[complies.comply != 'comply'].site)\n",
    "cor_sites = sites - vio_sites\n",
    "n_cor_sites = len(cor_sites)\n",
    "print(f\"Num correct sites: {n_cor_sites:,d} ({n_cor_sites} / {len(sites)} = {n_cor_sites / len(sites) * 100:.2f} %)\")\n",
    "print(sorted(list(cor_sites))[:5])\n"
   ]
  },
  {
   "cell_type": "code",
   "execution_count": null,
   "metadata": {},
   "outputs": [
    {
     "data": {
      "text/html": [
       "<div>\n",
       "<style scoped>\n",
       "    .dataframe tbody tr th:only-of-type {\n",
       "        vertical-align: middle;\n",
       "    }\n",
       "\n",
       "    .dataframe tbody tr th {\n",
       "        vertical-align: top;\n",
       "    }\n",
       "\n",
       "    .dataframe thead th {\n",
       "        text-align: right;\n",
       "    }\n",
       "</style>\n",
       "<table border=\"1\" class=\"dataframe\">\n",
       "  <thead>\n",
       "    <tr style=\"text-align: right;\">\n",
       "      <th></th>\n",
       "      <th>name</th>\n",
       "      <th>site_count</th>\n",
       "    </tr>\n",
       "  </thead>\n",
       "  <tbody>\n",
       "    <tr>\n",
       "      <th>1129</th>\n",
       "      <td>_ga</td>\n",
       "      <td>2542</td>\n",
       "    </tr>\n",
       "    <tr>\n",
       "      <th>1724</th>\n",
       "      <td>_gid</td>\n",
       "      <td>2442</td>\n",
       "    </tr>\n",
       "    <tr>\n",
       "      <th>1121</th>\n",
       "      <td>_fbp</td>\n",
       "      <td>1374</td>\n",
       "    </tr>\n",
       "    <tr>\n",
       "      <th>480</th>\n",
       "      <td>IDE</td>\n",
       "      <td>938</td>\n",
       "    </tr>\n",
       "    <tr>\n",
       "      <th>798</th>\n",
       "      <td>YSC</td>\n",
       "      <td>875</td>\n",
       "    </tr>\n",
       "    <tr>\n",
       "      <th>771</th>\n",
       "      <td>VISITOR_INFO1_LIVE</td>\n",
       "      <td>867</td>\n",
       "    </tr>\n",
       "    <tr>\n",
       "      <th>3317</th>\n",
       "      <td>lang</td>\n",
       "      <td>808</td>\n",
       "    </tr>\n",
       "  </tbody>\n",
       "</table>\n",
       "</div>"
      ],
      "text/plain": [
       "                    name  site_count\n",
       "1129                 _ga        2542\n",
       "1724                _gid        2442\n",
       "1121                _fbp        1374\n",
       "480                  IDE         938\n",
       "798                  YSC         875\n",
       "771   VISITOR_INFO1_LIVE         867\n",
       "3317                lang         808"
      ]
     },
     "execution_count": 21,
     "metadata": {},
     "output_type": "execute_result"
    }
   ],
   "source": [
    "# Cookie counts on sites\n",
    "cookie_counts_map = {}\n",
    "for cookie_name, cookies in complies[complies.comply == 'incorrect'].groupby('name'):\n",
    "    cookie_counts_map[cookie_name] = cookies.site.nunique()\n",
    "cookie_counts = pd.DataFrame(cookie_counts_map.items(), columns=['name', 'site_count'])\n",
    "cookie_counts.sort_values(by='site_count', ascending=False).head(7)"
   ]
  },
  {
   "cell_type": "code",
   "execution_count": null,
   "metadata": {},
   "outputs": [
    {
     "name": "stdout",
     "output_type": "stream",
     "text": [
      "Written 829 to /mnt/sda/ducbui/Dropbox/Dropbox (University of Michigan)/projects/data_sync/consent/2022-06-07/incor_sites_0.txt\n",
      "Written 829 to /mnt/sda/ducbui/Dropbox/Dropbox (University of Michigan)/projects/data_sync/consent/2022-06-07/incor_sites_1.txt\n",
      "Written 829 to /mnt/sda/ducbui/Dropbox/Dropbox (University of Michigan)/projects/data_sync/consent/2022-06-07/incor_sites_2.txt\n",
      "Written 829 to /mnt/sda/ducbui/Dropbox/Dropbox (University of Michigan)/projects/data_sync/consent/2022-06-07/incor_sites_3.txt\n",
      "Written 829 to /mnt/sda/ducbui/Dropbox/Dropbox (University of Michigan)/projects/data_sync/consent/2022-06-07/incor_sites_4.txt\n",
      "Written 828 to /mnt/sda/ducbui/Dropbox/Dropbox (University of Michigan)/projects/data_sync/consent/2022-06-07/incor_sites_5.txt\n"
     ]
    }
   ],
   "source": [
    "# Export list of incor sites\n",
    "from consent.util.default_path import create_data_dir\n",
    "import numpy as np\n",
    "\n",
    "out_dir = create_data_dir('2022-06-07')\n",
    "site_list = sorted(list(set(complies[complies.comply == 'incorrect'].site)))\n",
    "for i, sub_list in enumerate(np.array_split(site_list, 6)):\n",
    "    out_file =  out_dir/ f'incor_sites_{i}.txt'\n",
    "    out_file.write_text('\\n'.join(sub_list))\n",
    "    print(f'Written {len(sub_list)} to {out_file}')"
   ]
  },
  {
   "cell_type": "markdown",
   "metadata": {},
   "source": [
    "# Analyze sent cookies"
   ]
  },
  {
   "cell_type": "code",
   "execution_count": null,
   "metadata": {},
   "outputs": [
    {
     "name": "stderr",
     "output_type": "stream",
     "text": [
      "100%|██████████| 6/6 [00:09<00:00,  1.57s/it]\n"
     ]
    }
   ],
   "source": [
    "sent_cookies_files = list(SCAN_ROOT_DIR.glob('scan_*.parquet'))\n",
    "sent_cookies_dfs = [pd.read_parquet(afile) for afile in tqdm(sent_cookies_files)]\n",
    "sent_cookies = pd.concat(sent_cookies_dfs)"
   ]
  },
  {
   "cell_type": "code",
   "execution_count": null,
   "metadata": {},
   "outputs": [
    {
     "name": "stdout",
     "output_type": "stream",
     "text": [
      "(Raw) Num sites with flows: 6,086\n"
     ]
    }
   ],
   "source": [
    "print(f\"(Raw) Num sites with flows: {sent_cookies.site.nunique():,d}\")"
   ]
  },
  {
   "cell_type": "code",
   "execution_count": null,
   "metadata": {},
   "outputs": [],
   "source": [
    "complies_sites = set(all_complies.site)\n",
    "sent_cookies_com = sent_cookies[sent_cookies.site.isin(complies_sites)]"
   ]
  },
  {
   "cell_type": "code",
   "execution_count": null,
   "metadata": {},
   "outputs": [
    {
     "name": "stdout",
     "output_type": "stream",
     "text": [
      "Num captured sent cookies: 13,364,222\n",
      "Num unique captured cookies: 7,712,901\n",
      "Num unique browser cookies: 274,143 on 6,050 websites\n",
      "Num cookies: 124,830 in web pages: 32,196\n"
     ]
    }
   ],
   "source": [
    "prj_sent_cookies_com = sent_cookies_com[['domain', 'expires', 'name', 'path', 'sameSite', 'secure', 'value', 'request_url', 'site']].drop_duplicates()\n",
    "prj_br_cookies_com = prj_sent_cookies_com[['domain', 'expires', 'name', 'path', 'sameSite', 'secure', 'site']].drop_duplicates()\n",
    "print(f\"Num captured sent cookies: {len(sent_cookies_com):,d}\")\n",
    "print(f\"Num unique captured cookies: {len(prj_sent_cookies_com):,d}\")\n",
    "\n",
    "n_br_cookies_com = len(prj_br_cookies_com)\n",
    "print(f\"Num unique browser cookies: {n_br_cookies_com:,d} on {prj_br_cookies_com.site.nunique():,d} websites\") # and {sent_cookies.page_url.nunique():,d} pages\")\n",
    "assert len(prj_sent_cookies_com[['domain', 'name', 'path', 'site']].drop_duplicates()) == n_cookies_analyzed, 'Number of cookies in all_complies does not match the flows'\n",
    "print(f\"Num cookies: {n_cookies_analyzed:,d} in web pages: {sent_cookies_com.page_url.nunique():,d}\")"
   ]
  },
  {
   "cell_type": "code",
   "execution_count": null,
   "metadata": {},
   "outputs": [
    {
     "name": "stdout",
     "output_type": "stream",
     "text": [
      "13,458,638\n"
     ]
    }
   ],
   "source": [
    "print(f'{len(sent_cookies):,d}')"
   ]
  },
  {
   "cell_type": "code",
   "execution_count": null,
   "metadata": {},
   "outputs": [
    {
     "name": "stdout",
     "output_type": "stream",
     "text": [
      "Common sites between cookie prefs and cookie captured: 6057\n"
     ]
    }
   ],
   "source": [
    "print(\"Common sites between cookie prefs and cookie captured:\", len(set(cookie_prefs.site).intersection(set(sent_cookies.site))))"
   ]
  },
  {
   "cell_type": "code",
   "execution_count": null,
   "metadata": {},
   "outputs": [
    {
     "data": {
      "text/plain": [
       "124830"
      ]
     },
     "execution_count": 19,
     "metadata": {},
     "output_type": "execute_result"
    }
   ],
   "source": [
    "decl_cookies = sent_cookies_com[['name', 'domain', 'path', 'site']].drop_duplicates()\n",
    "len(decl_cookies)"
   ]
  },
  {
   "cell_type": "markdown",
   "metadata": {},
   "source": [
    "# Analyze contradictions"
   ]
  },
  {
   "cell_type": "code",
   "execution_count": null,
   "metadata": {},
   "outputs": [],
   "source": [
    "# (Testing) Way 1: compute contra sites by dynamic analysis: this should be lower than statically analyzing prefs\n",
    "from consent.consistency.comply_util import get_appr_rej_sets\n",
    "contra_data = []\n",
    "for asite in cookie_prefs.site.unique():\n",
    "    site_prefs = cookie_prefs[cookie_prefs.site == asite]\n",
    "    _, _, contras = get_appr_rej_sets(site_prefs)\n",
    "    for contra in contras:\n",
    "        contra['site'] = asite\n",
    "        contra_data.append(contra)\n",
    "contra_sites = pd.DataFrame(contra_data)\n",
    "contra_sites.head()"
   ]
  },
  {
   "cell_type": "code",
   "execution_count": null,
   "metadata": {},
   "outputs": [
    {
     "data": {
      "text/html": [
       "<div>\n",
       "<style scoped>\n",
       "    .dataframe tbody tr th:only-of-type {\n",
       "        vertical-align: middle;\n",
       "    }\n",
       "\n",
       "    .dataframe tbody tr th {\n",
       "        vertical-align: top;\n",
       "    }\n",
       "\n",
       "    .dataframe thead th {\n",
       "        text-align: right;\n",
       "    }\n",
       "</style>\n",
       "<table border=\"1\" class=\"dataframe\">\n",
       "  <thead>\n",
       "    <tr style=\"text-align: right;\">\n",
       "      <th></th>\n",
       "      <th>name</th>\n",
       "      <th>domain</th>\n",
       "      <th>duration</th>\n",
       "      <th>category_id</th>\n",
       "      <th>category</th>\n",
       "      <th>consent_mode</th>\n",
       "      <th>site</th>\n",
       "      <th>lib_name</th>\n",
       "      <th>pattern_name</th>\n",
       "      <th>consent</th>\n",
       "    </tr>\n",
       "  </thead>\n",
       "  <tbody>\n",
       "    <tr>\n",
       "      <th>716434</th>\n",
       "      <td>.ASPXANONYMOUS</td>\n",
       "      <td>professionals.muuto.com</td>\n",
       "      <td>69 days</td>\n",
       "      <td>1</td>\n",
       "      <td>Strictly Necessary Cookies</td>\n",
       "      <td>always active</td>\n",
       "      <td>muuto.com</td>\n",
       "      <td>onetrust</td>\n",
       "      <td>en.json</td>\n",
       "      <td>True</td>\n",
       "    </tr>\n",
       "    <tr>\n",
       "      <th>716449</th>\n",
       "      <td>.ASPXANONYMOUS</td>\n",
       "      <td>professionals.muuto.com</td>\n",
       "      <td>69 days</td>\n",
       "      <td>2</td>\n",
       "      <td>Performance Cookies</td>\n",
       "      <td>inactive</td>\n",
       "      <td>muuto.com</td>\n",
       "      <td>onetrust</td>\n",
       "      <td>en.json</td>\n",
       "      <td>False</td>\n",
       "    </tr>\n",
       "    <tr>\n",
       "      <th>362744</th>\n",
       "      <td>.EPiForm_BID</td>\n",
       "      <td>www.epicor.com</td>\n",
       "      <td>89 days</td>\n",
       "      <td>C0001</td>\n",
       "      <td>Strictly Necessary Cookies</td>\n",
       "      <td>always active</td>\n",
       "      <td>epicor.com</td>\n",
       "      <td>onetrust</td>\n",
       "      <td>en.json</td>\n",
       "      <td>True</td>\n",
       "    </tr>\n",
       "    <tr>\n",
       "      <th>362839</th>\n",
       "      <td>.EPiForm_BID</td>\n",
       "      <td>www.epicor.com</td>\n",
       "      <td>89 days</td>\n",
       "      <td>C0003</td>\n",
       "      <td>Functional Cookies</td>\n",
       "      <td>inactive</td>\n",
       "      <td>epicor.com</td>\n",
       "      <td>onetrust</td>\n",
       "      <td>en.json</td>\n",
       "      <td>False</td>\n",
       "    </tr>\n",
       "    <tr>\n",
       "      <th>795321</th>\n",
       "      <td>.EPiForm_BID</td>\n",
       "      <td>www.epicor.com</td>\n",
       "      <td>89 days</td>\n",
       "      <td>C0001</td>\n",
       "      <td>Strictly Necessary Cookies</td>\n",
       "      <td>always active</td>\n",
       "      <td>mechanicnet.com</td>\n",
       "      <td>onetrust</td>\n",
       "      <td>en.json</td>\n",
       "      <td>True</td>\n",
       "    </tr>\n",
       "  </tbody>\n",
       "</table>\n",
       "</div>"
      ],
      "text/plain": [
       "                  name                   domain duration category_id  \\\n",
       "716434  .ASPXANONYMOUS  professionals.muuto.com  69 days           1   \n",
       "716449  .ASPXANONYMOUS  professionals.muuto.com  69 days           2   \n",
       "362744    .EPiForm_BID           www.epicor.com  89 days       C0001   \n",
       "362839    .EPiForm_BID           www.epicor.com  89 days       C0003   \n",
       "795321    .EPiForm_BID           www.epicor.com  89 days       C0001   \n",
       "\n",
       "                          category   consent_mode             site  lib_name  \\\n",
       "716434  Strictly Necessary Cookies  always active        muuto.com  onetrust   \n",
       "716449         Performance Cookies       inactive        muuto.com  onetrust   \n",
       "362744  Strictly Necessary Cookies  always active       epicor.com  onetrust   \n",
       "362839          Functional Cookies       inactive       epicor.com  onetrust   \n",
       "795321  Strictly Necessary Cookies  always active  mechanicnet.com  onetrust   \n",
       "\n",
       "       pattern_name  consent  \n",
       "716434      en.json     True  \n",
       "716449      en.json    False  \n",
       "362744      en.json     True  \n",
       "362839      en.json    False  \n",
       "795321      en.json     True  "
      ]
     },
     "execution_count": 12,
     "metadata": {},
     "output_type": "execute_result"
    }
   ],
   "source": [
    "# (use this) Way 2: compute contra sites by DataFrame group by\n",
    "contra_cookies_dfs = []\n",
    "n_always_active_cookies = 0\n",
    "for _, same_cookies in cookie_prefs.groupby(['name', 'domain', 'site']):\n",
    "    consent_modes = same_cookies.consent_mode.unique()\n",
    "    if len(consent_modes) >= 2 and same_cookies.category.nunique() > 1: # and 'always active' in consent_modes:\n",
    "        contra_cookies_dfs.append(same_cookies)\n",
    "        if 'always active' in consent_modes:\n",
    "            n_always_active_cookies += 1\n",
    "contra_cookies = pd.concat(contra_cookies_dfs).drop_duplicates()\n",
    "contra_cookies.head()"
   ]
  },
  {
   "cell_type": "code",
   "execution_count": null,
   "metadata": {},
   "outputs": [
    {
     "data": {
      "text/html": [
       "<div>\n",
       "<style scoped>\n",
       "    .dataframe tbody tr th:only-of-type {\n",
       "        vertical-align: middle;\n",
       "    }\n",
       "\n",
       "    .dataframe tbody tr th {\n",
       "        vertical-align: top;\n",
       "    }\n",
       "\n",
       "    .dataframe thead th {\n",
       "        text-align: right;\n",
       "    }\n",
       "</style>\n",
       "<table border=\"1\" class=\"dataframe\">\n",
       "  <thead>\n",
       "    <tr style=\"text-align: right;\">\n",
       "      <th></th>\n",
       "      <th>name</th>\n",
       "      <th>domain</th>\n",
       "      <th>duration</th>\n",
       "      <th>category_id</th>\n",
       "      <th>category</th>\n",
       "      <th>consent_mode</th>\n",
       "      <th>site</th>\n",
       "      <th>lib_name</th>\n",
       "      <th>pattern_name</th>\n",
       "      <th>consent</th>\n",
       "    </tr>\n",
       "  </thead>\n",
       "  <tbody>\n",
       "    <tr>\n",
       "      <th>746270</th>\n",
       "      <td>weird_get_top_level_domain</td>\n",
       "      <td>cathkidston.com</td>\n",
       "      <td>Session</td>\n",
       "      <td>C0001</td>\n",
       "      <td>Strictly Necessary Cookies</td>\n",
       "      <td>always active</td>\n",
       "      <td>cathkidston.com</td>\n",
       "      <td>onetrust</td>\n",
       "      <td>en.json</td>\n",
       "      <td>True</td>\n",
       "    </tr>\n",
       "    <tr>\n",
       "      <th>746284</th>\n",
       "      <td>weird_get_top_level_domain</td>\n",
       "      <td>cathkidston.com</td>\n",
       "      <td>Session</td>\n",
       "      <td>C0003</td>\n",
       "      <td>Functional Cookies</td>\n",
       "      <td>inactive</td>\n",
       "      <td>cathkidston.com</td>\n",
       "      <td>onetrust</td>\n",
       "      <td>en.json</td>\n",
       "      <td>False</td>\n",
       "    </tr>\n",
       "  </tbody>\n",
       "</table>\n",
       "</div>"
      ],
      "text/plain": [
       "                              name           domain duration category_id  \\\n",
       "746270  weird_get_top_level_domain  cathkidston.com  Session       C0001   \n",
       "746284  weird_get_top_level_domain  cathkidston.com  Session       C0003   \n",
       "\n",
       "                          category   consent_mode             site  lib_name  \\\n",
       "746270  Strictly Necessary Cookies  always active  cathkidston.com  onetrust   \n",
       "746284          Functional Cookies       inactive  cathkidston.com  onetrust   \n",
       "\n",
       "       pattern_name  consent  \n",
       "746270      en.json     True  \n",
       "746284      en.json    False  "
      ]
     },
     "execution_count": 13,
     "metadata": {},
     "output_type": "execute_result"
    }
   ],
   "source": [
    "contra_cookies[contra_cookies.site == 'cathkidston.com']"
   ]
  },
  {
   "cell_type": "code",
   "execution_count": null,
   "metadata": {},
   "outputs": [
    {
     "name": "stdout",
     "output_type": "stream",
     "text": [
      "Written to /mnt/sda/ducbui/Dropbox/Dropbox (University of Michigan)/projects/data_sync/consent/2022-05-30/contra_sample.csv\n"
     ]
    }
   ],
   "source": [
    "# Sample contradiction for manual verification.\n",
    "N = 30\n",
    "dfs = []\n",
    "sample_sites = set(contra_cookies.site.sample(30, random_state=3))\n",
    "for site, site_contra_cookies in contra_cookies.groupby('site'):\n",
    "    if site not in sample_sites:\n",
    "        continue\n",
    "    dfs.append(site_contra_cookies[:2])\n",
    "contra_samples = pd.concat(dfs)\n",
    "contra_samples_file = SCAN_ROOT_DIR / 'contra_sample.csv'\n",
    "contra_samples.to_csv(contra_samples_file); print(f'Written to {contra_samples_file}')"
   ]
  },
  {
   "cell_type": "code",
   "execution_count": null,
   "metadata": {},
   "outputs": [
    {
     "data": {
      "text/plain": [
       "always active           1082\n",
       "inactive                 932\n",
       "active                   202\n",
       "inactive landingpage      16\n",
       "Name: consent_mode, dtype: int64"
      ]
     },
     "execution_count": 13,
     "metadata": {},
     "output_type": "execute_result"
    }
   ],
   "source": [
    "contra_cookies.consent_mode.value_counts()"
   ]
  },
  {
   "cell_type": "code",
   "execution_count": null,
   "metadata": {},
   "outputs": [
    {
     "name": "stdout",
     "output_type": "stream",
     "text": [
      "681 676 1081 1107\n"
     ]
    }
   ],
   "source": [
    "n_contra_settings = len(contra_cookies_dfs)\n",
    "print(contra_sites.site.nunique(), contra_cookies.site.nunique(), n_always_active_cookies, n_contra_settings)"
   ]
  },
  {
   "cell_type": "code",
   "execution_count": null,
   "metadata": {},
   "outputs": [
    {
     "name": "stdout",
     "output_type": "stream",
     "text": [
      "Number sites with contra cookies: 676\n"
     ]
    }
   ],
   "source": [
    "print(\"Number sites with contra cookies:\", contra_cookies.site.nunique())"
   ]
  },
  {
   "cell_type": "code",
   "execution_count": null,
   "metadata": {},
   "outputs": [
    {
     "name": "stdout",
     "output_type": "stream",
     "text": [
      "Num contra cookie settings (multiple categories): 1,107 settings on 676 sites\n",
      "Contras with 1 always-active: 1081\n",
      "Contras with both editable: 26\n"
     ]
    }
   ],
   "source": [
    "print(f\"Num contra cookie settings (multiple categories): {n_contra_settings:,d} settings on {contra_cookies.site.nunique()} sites\")\n",
    "print(f\"Contras with 1 always-active: {n_always_active_cookies}\")\n",
    "print(f\"Contras with both editable: {n_contra_settings - n_always_active_cookies:,d}\")"
   ]
  }
 ],
 "metadata": {
  "interpreter": {
   "hash": "716ef94a01c3d994cde453e411f4463b0105d2a3a71c6aed84dea7988b1708f3"
  },
  "kernelspec": {
   "display_name": "Python 3.8.10 ('consent')",
   "language": "python",
   "name": "python3"
  },
  "language_info": {
   "codemirror_mode": {
    "name": "ipython",
    "version": 3
   },
   "file_extension": ".py",
   "mimetype": "text/x-python",
   "name": "python",
   "nbconvert_exporter": "python",
   "pygments_lexer": "ipython3",
   "version": "3.8.10"
  },
  "orig_nbformat": 4
 },
 "nbformat": 4,
 "nbformat_minor": 2
}
