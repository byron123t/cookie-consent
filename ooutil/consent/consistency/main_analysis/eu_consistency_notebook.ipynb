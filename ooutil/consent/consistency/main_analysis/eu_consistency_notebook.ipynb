{
 "cells": [
  {
   "cell_type": "code",
   "execution_count": 1,
   "metadata": {},
   "outputs": [
    {
     "data": {
      "text/plain": [
       "[PosixPath('/mnt/sda/ducbui/Dropbox/Dropbox (University of Michigan)/projects/data_sync/consent/2022-05-30/pref_menu_scan_0k_20k'),\n",
       " PosixPath('/mnt/sda/ducbui/Dropbox/Dropbox (University of Michigan)/projects/data_sync/consent/2022-05-30/pref_menu_scan_20k_40k'),\n",
       " PosixPath('/mnt/sda/ducbui/Dropbox/Dropbox (University of Michigan)/projects/data_sync/consent/2022-05-30/pref_menu_scan_40k_60k'),\n",
       " PosixPath('/mnt/sda/ducbui/Dropbox/Dropbox (University of Michigan)/projects/data_sync/consent/2022-05-30/pref_menu_scan_60k_80k'),\n",
       " PosixPath('/mnt/sda/ducbui/Dropbox/Dropbox (University of Michigan)/projects/data_sync/consent/2022-05-30/pref_menu_scan_80k_100k'),\n",
       " PosixPath('/mnt/sda/ducbui/Dropbox/Dropbox (University of Michigan)/projects/data_sync/consent/2022-05-30/pref_menu_scan_100k_200k')]"
      ]
     },
     "execution_count": 1,
     "metadata": {},
     "output_type": "execute_result"
    }
   ],
   "source": [
    "from collections import defaultdict\n",
    "\n",
    "import matplotlib.pyplot as plt\n",
    "import pandas as pd\n",
    "import seaborn as sns\n",
    "\n",
    "from consent.consistency.comply_util import site_to_contras, get_comply\n",
    "from consent.consistency.cookie_pref_match import cookie_pref_match\n",
    "from consent.consistency.util import get_scan_root_dir, get_scan_dirs # , FIG_DIR uncomment to save fig.\n",
    "from consent.data.pref_menu_scan.cookie_pref_reader import read_cookie_prefs_in_scans\n",
    "from consent.data.pref_menu_scan.har_cookie_reader import read_postrej_sent_cookies_in_scans\n",
    "\n",
    "overwrite = False\n",
    "SCAN_ROOT_DIR = get_scan_root_dir('eu')\n",
    "SCAN_DIRS = get_scan_dirs('eu')[:]\n",
    "output_suffix = '_' + '0k_200k' #'60k_80k' # '40k_60k' # # '100k_200k'; done: '20k_40k' '0k_20k' \n",
    "SCAN_DIRS"
   ]
  },
  {
   "cell_type": "code",
   "execution_count": 2,
   "metadata": {},
   "outputs": [
    {
     "data": {
      "text/html": [
       "<div>\n",
       "<style scoped>\n",
       "    .dataframe tbody tr th:only-of-type {\n",
       "        vertical-align: middle;\n",
       "    }\n",
       "\n",
       "    .dataframe tbody tr th {\n",
       "        vertical-align: top;\n",
       "    }\n",
       "\n",
       "    .dataframe thead th {\n",
       "        text-align: right;\n",
       "    }\n",
       "</style>\n",
       "<table border=\"1\" class=\"dataframe\">\n",
       "  <thead>\n",
       "    <tr style=\"text-align: right;\">\n",
       "      <th></th>\n",
       "      <th>name</th>\n",
       "      <th>domain</th>\n",
       "      <th>duration</th>\n",
       "      <th>category_id</th>\n",
       "      <th>category</th>\n",
       "      <th>consent_mode</th>\n",
       "      <th>site</th>\n",
       "      <th>lib_name</th>\n",
       "      <th>pattern_name</th>\n",
       "      <th>consent</th>\n",
       "    </tr>\n",
       "  </thead>\n",
       "  <tbody>\n",
       "    <tr>\n",
       "      <th>0</th>\n",
       "      <td>__we_bucket_id</td>\n",
       "      <td>www.wework.com</td>\n",
       "      <td>365 days</td>\n",
       "      <td>C0001</td>\n",
       "      <td>Strictly Necessary Cookies</td>\n",
       "      <td>always active</td>\n",
       "      <td>wework.com</td>\n",
       "      <td>onetrust</td>\n",
       "      <td>en.json</td>\n",
       "      <td>True</td>\n",
       "    </tr>\n",
       "    <tr>\n",
       "      <th>1</th>\n",
       "      <td>OptanonAlertBoxClosed</td>\n",
       "      <td>wework.com</td>\n",
       "      <td>365 days</td>\n",
       "      <td>C0001</td>\n",
       "      <td>Strictly Necessary Cookies</td>\n",
       "      <td>always active</td>\n",
       "      <td>wework.com</td>\n",
       "      <td>onetrust</td>\n",
       "      <td>en.json</td>\n",
       "      <td>True</td>\n",
       "    </tr>\n",
       "    <tr>\n",
       "      <th>2</th>\n",
       "      <td>OptanonConsent</td>\n",
       "      <td>www.wework.com</td>\n",
       "      <td>365 days</td>\n",
       "      <td>C0001</td>\n",
       "      <td>Strictly Necessary Cookies</td>\n",
       "      <td>always active</td>\n",
       "      <td>wework.com</td>\n",
       "      <td>onetrust</td>\n",
       "      <td>en.json</td>\n",
       "      <td>True</td>\n",
       "    </tr>\n",
       "    <tr>\n",
       "      <th>3</th>\n",
       "      <td>__we_request_id</td>\n",
       "      <td>www.wework.com</td>\n",
       "      <td>Session</td>\n",
       "      <td>C0001</td>\n",
       "      <td>Strictly Necessary Cookies</td>\n",
       "      <td>always active</td>\n",
       "      <td>wework.com</td>\n",
       "      <td>onetrust</td>\n",
       "      <td>en.json</td>\n",
       "      <td>True</td>\n",
       "    </tr>\n",
       "    <tr>\n",
       "      <th>4</th>\n",
       "      <td>we_referring_domain</td>\n",
       "      <td>www.wework.com</td>\n",
       "      <td>14 days</td>\n",
       "      <td>C0001</td>\n",
       "      <td>Strictly Necessary Cookies</td>\n",
       "      <td>always active</td>\n",
       "      <td>wework.com</td>\n",
       "      <td>onetrust</td>\n",
       "      <td>en.json</td>\n",
       "      <td>True</td>\n",
       "    </tr>\n",
       "  </tbody>\n",
       "</table>\n",
       "</div>"
      ],
      "text/plain": [
       "                    name          domain  duration category_id  \\\n",
       "0         __we_bucket_id  www.wework.com  365 days       C0001   \n",
       "1  OptanonAlertBoxClosed      wework.com  365 days       C0001   \n",
       "2         OptanonConsent  www.wework.com  365 days       C0001   \n",
       "3        __we_request_id  www.wework.com   Session       C0001   \n",
       "4    we_referring_domain  www.wework.com   14 days       C0001   \n",
       "\n",
       "                     category   consent_mode        site  lib_name  \\\n",
       "0  Strictly Necessary Cookies  always active  wework.com  onetrust   \n",
       "1  Strictly Necessary Cookies  always active  wework.com  onetrust   \n",
       "2  Strictly Necessary Cookies  always active  wework.com  onetrust   \n",
       "3  Strictly Necessary Cookies  always active  wework.com  onetrust   \n",
       "4  Strictly Necessary Cookies  always active  wework.com  onetrust   \n",
       "\n",
       "  pattern_name  consent  \n",
       "0      en.json     True  \n",
       "1      en.json     True  \n",
       "2      en.json     True  \n",
       "3      en.json     True  \n",
       "4      en.json     True  "
      ]
     },
     "execution_count": 2,
     "metadata": {},
     "output_type": "execute_result"
    }
   ],
   "source": [
    "# Get cookie prefs = cookie decls + prefs\n",
    "cookie_prefs_file = SCAN_ROOT_DIR / f'cookie_prefs{output_suffix}.parquet'\n",
    "\n",
    "if not cookie_prefs_file.exists() or overwrite:\n",
    "    save_cookie_decls_file = SCAN_ROOT_DIR / f'cookie_decls{output_suffix}.parquet'\n",
    "    cookie_prefs = read_cookie_prefs_in_scans(SCAN_DIRS, save_cookie_decls_file)  # took 2.3min for top 50k-site scan\n",
    "    cookie_prefs.to_parquet(cookie_prefs_file); print(f'Written to {cookie_prefs_file}')\n",
    "else:\n",
    "    cookie_prefs = pd.read_parquet(cookie_prefs_file)\n",
    "cookie_prefs.head() \n",
    "# TODO: add log_file_checker"
   ]
  },
  {
   "cell_type": "code",
   "execution_count": 3,
   "metadata": {},
   "outputs": [
    {
     "name": "stdout",
     "output_type": "stream",
     "text": [
      "Found cookie libraries:\n"
     ]
    },
    {
     "data": {
      "text/plain": [
       "onetrust     5255\n",
       "cookiebot     787\n",
       "termly         53\n",
       "Name: lib_name, dtype: int64"
      ]
     },
     "execution_count": 3,
     "metadata": {},
     "output_type": "execute_result"
    }
   ],
   "source": [
    "print(\"Found cookie libraries:\")\n",
    "cookie_prefs[['site', 'lib_name']].drop_duplicates().lib_name.value_counts()"
   ]
  },
  {
   "cell_type": "code",
   "execution_count": 4,
   "metadata": {},
   "outputs": [
    {
     "name": "stdout",
     "output_type": "stream",
     "text": [
      "Sites with cookie prefs: 6095 , first 10 sites: ['100percentpure.com', '101blockchains.com', '10faq.com', '123helpme.com', '177milkstreet.com', '1hotels.com', '207.net', '24hourfitness.com', '24s.com', '2k.com']\n"
     ]
    }
   ],
   "source": [
    "cookielist_sites = sorted(cookie_prefs.site.unique().tolist())\n",
    "n_cookielist_sites = len(cookielist_sites)\n",
    "assert cookie_prefs.site.nunique() == n_cookielist_sites\n",
    "n=10\n",
    "print(\"Sites with cookie prefs:\", n_cookielist_sites, f', first {n} sites:' , cookielist_sites[:n])"
   ]
  },
  {
   "cell_type": "code",
   "execution_count": 5,
   "metadata": {},
   "outputs": [],
   "source": [
    "site_to_libname = {row['site']: row['lib_name'] for row in cookie_prefs[['site', 'lib_name']].drop_duplicates().to_dict('records')}"
   ]
  },
  {
   "cell_type": "code",
   "execution_count": 6,
   "metadata": {},
   "outputs": [
    {
     "name": "stdout",
     "output_type": "stream",
     "text": [
      "0.01688636157406007\n",
      "0.020817277154351048\n",
      "0.002445177096881522\n"
     ]
    },
    {
     "data": {
      "text/html": [
       "<div>\n",
       "<style scoped>\n",
       "    .dataframe tbody tr th:only-of-type {\n",
       "        vertical-align: middle;\n",
       "    }\n",
       "\n",
       "    .dataframe tbody tr th {\n",
       "        vertical-align: top;\n",
       "    }\n",
       "\n",
       "    .dataframe thead th {\n",
       "        text-align: right;\n",
       "    }\n",
       "</style>\n",
       "<table border=\"1\" class=\"dataframe\">\n",
       "  <thead>\n",
       "    <tr style=\"text-align: right;\">\n",
       "      <th></th>\n",
       "      <th>name</th>\n",
       "      <th>domain</th>\n",
       "      <th>duration</th>\n",
       "      <th>category_id</th>\n",
       "      <th>category</th>\n",
       "      <th>consent_mode</th>\n",
       "      <th>site</th>\n",
       "      <th>lib_name</th>\n",
       "      <th>pattern_name</th>\n",
       "      <th>consent</th>\n",
       "    </tr>\n",
       "  </thead>\n",
       "  <tbody>\n",
       "    <tr>\n",
       "      <th>28</th>\n",
       "      <td>_gd#############</td>\n",
       "      <td>j.6sc.co</td>\n",
       "      <td>730 days</td>\n",
       "      <td>C0002</td>\n",
       "      <td>Performance Cookies</td>\n",
       "      <td>inactive</td>\n",
       "      <td>wework.com</td>\n",
       "      <td>onetrust</td>\n",
       "      <td>en.json</td>\n",
       "      <td>False</td>\n",
       "    </tr>\n",
       "    <tr>\n",
       "      <th>42</th>\n",
       "      <td>_gd#############</td>\n",
       "      <td>www.wework.com</td>\n",
       "      <td>730 days</td>\n",
       "      <td>C0003</td>\n",
       "      <td>Functional Cookies</td>\n",
       "      <td>inactive</td>\n",
       "      <td>wework.com</td>\n",
       "      <td>onetrust</td>\n",
       "      <td>en.json</td>\n",
       "      <td>False</td>\n",
       "    </tr>\n",
       "    <tr>\n",
       "      <th>44</th>\n",
       "      <td>_gd#############</td>\n",
       "      <td>cdnjs.cloudflare.com</td>\n",
       "      <td>730 days</td>\n",
       "      <td>C0003</td>\n",
       "      <td>Functional Cookies</td>\n",
       "      <td>inactive</td>\n",
       "      <td>wework.com</td>\n",
       "      <td>onetrust</td>\n",
       "      <td>en.json</td>\n",
       "      <td>False</td>\n",
       "    </tr>\n",
       "    <tr>\n",
       "      <th>60</th>\n",
       "      <td>_hp2_ses_props.##########</td>\n",
       "      <td>wework.com</td>\n",
       "      <td>0 days</td>\n",
       "      <td>C0004</td>\n",
       "      <td>Targeting Cookies</td>\n",
       "      <td>inactive</td>\n",
       "      <td>wework.com</td>\n",
       "      <td>onetrust</td>\n",
       "      <td>en.json</td>\n",
       "      <td>False</td>\n",
       "    </tr>\n",
       "    <tr>\n",
       "      <th>69</th>\n",
       "      <td>_hp2_id.##########</td>\n",
       "      <td>wework.com</td>\n",
       "      <td>395 days</td>\n",
       "      <td>C0004</td>\n",
       "      <td>Targeting Cookies</td>\n",
       "      <td>inactive</td>\n",
       "      <td>wework.com</td>\n",
       "      <td>onetrust</td>\n",
       "      <td>en.json</td>\n",
       "      <td>False</td>\n",
       "    </tr>\n",
       "    <tr>\n",
       "      <th>...</th>\n",
       "      <td>...</td>\n",
       "      <td>...</td>\n",
       "      <td>...</td>\n",
       "      <td>...</td>\n",
       "      <td>...</td>\n",
       "      <td>...</td>\n",
       "      <td>...</td>\n",
       "      <td>...</td>\n",
       "      <td>...</td>\n",
       "      <td>...</td>\n",
       "    </tr>\n",
       "    <tr>\n",
       "      <th>29</th>\n",
       "      <td>_hp2_ses_props.##########</td>\n",
       "      <td>xmatters.com</td>\n",
       "      <td>0 days</td>\n",
       "      <td>C0004</td>\n",
       "      <td>Targeting Cookies</td>\n",
       "      <td>inactive</td>\n",
       "      <td>xmatters.com</td>\n",
       "      <td>onetrust</td>\n",
       "      <td>en.json</td>\n",
       "      <td>False</td>\n",
       "    </tr>\n",
       "    <tr>\n",
       "      <th>111</th>\n",
       "      <td>SESS#</td>\n",
       "      <td>xmatters.com</td>\n",
       "      <td>Session</td>\n",
       "      <td>C0001</td>\n",
       "      <td>Strictly Necessary Cookies</td>\n",
       "      <td>always active</td>\n",
       "      <td>xmatters.com</td>\n",
       "      <td>onetrust</td>\n",
       "      <td>en.json</td>\n",
       "      <td>True</td>\n",
       "    </tr>\n",
       "    <tr>\n",
       "      <th>37</th>\n",
       "      <td>_gd#############</td>\n",
       "      <td>spinmaster.com</td>\n",
       "      <td>Session</td>\n",
       "      <td>C0003</td>\n",
       "      <td>Functional Cookies</td>\n",
       "      <td>inactive</td>\n",
       "      <td>spinmasterstudios.com</td>\n",
       "      <td>onetrust</td>\n",
       "      <td>en.json</td>\n",
       "      <td>False</td>\n",
       "    </tr>\n",
       "    <tr>\n",
       "      <th>15</th>\n",
       "      <td>_ga_#</td>\n",
       "      <td>axiell.com</td>\n",
       "      <td>2 years</td>\n",
       "      <td>statistics</td>\n",
       "      <td>statistics</td>\n",
       "      <td>None</td>\n",
       "      <td>axiell.com</td>\n",
       "      <td>cookiebot</td>\n",
       "      <td>cc.js</td>\n",
       "      <td>False</td>\n",
       "    </tr>\n",
       "    <tr>\n",
       "      <th>16</th>\n",
       "      <td>_ga_#</td>\n",
       "      <td>www.googletagmanager.com</td>\n",
       "      <td>2 years</td>\n",
       "      <td>statistics</td>\n",
       "      <td>statistics</td>\n",
       "      <td>None</td>\n",
       "      <td>axiell.com</td>\n",
       "      <td>cookiebot</td>\n",
       "      <td>cc.js</td>\n",
       "      <td>False</td>\n",
       "    </tr>\n",
       "  </tbody>\n",
       "</table>\n",
       "<p>13957 rows × 10 columns</p>\n",
       "</div>"
      ],
      "text/plain": [
       "                          name                    domain  duration  \\\n",
       "28            _gd#############                  j.6sc.co  730 days   \n",
       "42            _gd#############            www.wework.com  730 days   \n",
       "44            _gd#############      cdnjs.cloudflare.com  730 days   \n",
       "60   _hp2_ses_props.##########                wework.com    0 days   \n",
       "69          _hp2_id.##########                wework.com  395 days   \n",
       "..                         ...                       ...       ...   \n",
       "29   _hp2_ses_props.##########              xmatters.com    0 days   \n",
       "111                      SESS#              xmatters.com   Session   \n",
       "37            _gd#############            spinmaster.com   Session   \n",
       "15                       _ga_#                axiell.com   2 years   \n",
       "16                       _ga_#  www.googletagmanager.com   2 years   \n",
       "\n",
       "    category_id                    category   consent_mode  \\\n",
       "28        C0002         Performance Cookies       inactive   \n",
       "42        C0003          Functional Cookies       inactive   \n",
       "44        C0003          Functional Cookies       inactive   \n",
       "60        C0004           Targeting Cookies       inactive   \n",
       "69        C0004           Targeting Cookies       inactive   \n",
       "..          ...                         ...            ...   \n",
       "29        C0004           Targeting Cookies       inactive   \n",
       "111       C0001  Strictly Necessary Cookies  always active   \n",
       "37        C0003          Functional Cookies       inactive   \n",
       "15   statistics                  statistics           None   \n",
       "16   statistics                  statistics           None   \n",
       "\n",
       "                      site   lib_name pattern_name  consent  \n",
       "28              wework.com   onetrust      en.json    False  \n",
       "42              wework.com   onetrust      en.json    False  \n",
       "44              wework.com   onetrust      en.json    False  \n",
       "60              wework.com   onetrust      en.json    False  \n",
       "69              wework.com   onetrust      en.json    False  \n",
       "..                     ...        ...          ...      ...  \n",
       "29            xmatters.com   onetrust      en.json    False  \n",
       "111           xmatters.com   onetrust      en.json     True  \n",
       "37   spinmasterstudios.com   onetrust      en.json    False  \n",
       "15              axiell.com  cookiebot        cc.js    False  \n",
       "16              axiell.com  cookiebot        cc.js    False  \n",
       "\n",
       "[13957 rows x 10 columns]"
      ]
     },
     "execution_count": 6,
     "metadata": {},
     "output_type": "execute_result"
    }
   ],
   "source": [
    "# Quick checking the cookie declaration naming\n",
    "print(len(cookie_prefs[cookie_prefs.name.str.endswith('#')]) / len(cookie_prefs))\n",
    "print(len(cookie_prefs[cookie_prefs.name.str.endswith('xxx')]) / len(cookie_prefs))\n",
    "print(len(cookie_prefs[cookie_prefs.name.str.endswith('XXX')]) / len(cookie_prefs))\n",
    "cookie_prefs[cookie_prefs.name.str.endswith('#')]"
   ]
  },
  {
   "cell_type": "code",
   "execution_count": 7,
   "metadata": {},
   "outputs": [],
   "source": [
    "# # Distribution of errors\n",
    "# print(\"Libs in failed-to-crawl sites\")\n",
    "# errors.consent_lib_name.value_counts()\n",
    "# from ooutil.df_util import expand_dict_col\n",
    "# ot_errs = errors[errors.consent_lib_name == 'onetrust']\n",
    "# errors_dict = pd.DataFrame(ot_errs.error.tolist()).explode('reason')\n",
    "# # Uncomment to show\n",
    "# # errors_dict.reason.value_counts()"
   ]
  },
  {
   "cell_type": "markdown",
   "metadata": {},
   "source": [
    "# Main analysis"
   ]
  },
  {
   "cell_type": "code",
   "execution_count": 8,
   "metadata": {
    "tags": []
   },
   "outputs": [
    {
     "name": "stdout",
     "output_type": "stream",
     "text": [
      "Number sent cookies read: 13,458,638\n"
     ]
    },
    {
     "data": {
      "text/html": [
       "<div>\n",
       "<style scoped>\n",
       "    .dataframe tbody tr th:only-of-type {\n",
       "        vertical-align: middle;\n",
       "    }\n",
       "\n",
       "    .dataframe tbody tr th {\n",
       "        vertical-align: top;\n",
       "    }\n",
       "\n",
       "    .dataframe thead th {\n",
       "        text-align: right;\n",
       "    }\n",
       "</style>\n",
       "<table border=\"1\" class=\"dataframe\">\n",
       "  <thead>\n",
       "    <tr style=\"text-align: right;\">\n",
       "      <th></th>\n",
       "      <th>name</th>\n",
       "      <th>value</th>\n",
       "      <th>domain</th>\n",
       "      <th>path</th>\n",
       "      <th>expires</th>\n",
       "      <th>size</th>\n",
       "      <th>httpOnly</th>\n",
       "      <th>secure</th>\n",
       "      <th>session</th>\n",
       "      <th>sameSite</th>\n",
       "      <th>priority</th>\n",
       "      <th>sameParty</th>\n",
       "      <th>sourceScheme</th>\n",
       "      <th>sourcePort</th>\n",
       "      <th>request_url</th>\n",
       "      <th>site</th>\n",
       "      <th>page_url</th>\n",
       "    </tr>\n",
       "  </thead>\n",
       "  <tbody>\n",
       "    <tr>\n",
       "      <th>0</th>\n",
       "      <td>OptanonAlertBoxClosed</td>\n",
       "      <td>2022-05-30T09:00:51.774Z</td>\n",
       "      <td>.www.wework.com</td>\n",
       "      <td>/</td>\n",
       "      <td>1.685437e+09</td>\n",
       "      <td>45</td>\n",
       "      <td>False</td>\n",
       "      <td>False</td>\n",
       "      <td>False</td>\n",
       "      <td>Lax</td>\n",
       "      <td>Medium</td>\n",
       "      <td>False</td>\n",
       "      <td>Secure</td>\n",
       "      <td>443</td>\n",
       "      <td>https://www.wework.com/vanilla-assets/images/w...</td>\n",
       "      <td>wework.com</td>\n",
       "      <td>https://www.wework.com/l/commercial-real-estat...</td>\n",
       "    </tr>\n",
       "    <tr>\n",
       "      <th>1</th>\n",
       "      <td>ajs_user_id</td>\n",
       "      <td>%22a9fd262e2c727602f1b7107f2e97d8ea5fb32c1c434...</td>\n",
       "      <td>.wework.com</td>\n",
       "      <td>/</td>\n",
       "      <td>1.685437e+09</td>\n",
       "      <td>81</td>\n",
       "      <td>False</td>\n",
       "      <td>False</td>\n",
       "      <td>False</td>\n",
       "      <td>Lax</td>\n",
       "      <td>Medium</td>\n",
       "      <td>False</td>\n",
       "      <td>Secure</td>\n",
       "      <td>443</td>\n",
       "      <td>https://www.wework.com/l/commercial-real-estat...</td>\n",
       "      <td>wework.com</td>\n",
       "      <td>https://www.wework.com/l/commercial-real-estat...</td>\n",
       "    </tr>\n",
       "    <tr>\n",
       "      <th>2</th>\n",
       "      <td>we_referring_domain</td>\n",
       "      <td></td>\n",
       "      <td>www.wework.com</td>\n",
       "      <td>/</td>\n",
       "      <td>1.655111e+09</td>\n",
       "      <td>19</td>\n",
       "      <td>False</td>\n",
       "      <td>False</td>\n",
       "      <td>False</td>\n",
       "      <td>None</td>\n",
       "      <td>Medium</td>\n",
       "      <td>False</td>\n",
       "      <td>Secure</td>\n",
       "      <td>443</td>\n",
       "      <td>https://www.wework.com/vanilla-assets/javascri...</td>\n",
       "      <td>wework.com</td>\n",
       "      <td>https://www.wework.com/l/commercial-real-estat...</td>\n",
       "    </tr>\n",
       "  </tbody>\n",
       "</table>\n",
       "</div>"
      ],
      "text/plain": [
       "                    name                                              value  \\\n",
       "0  OptanonAlertBoxClosed                           2022-05-30T09:00:51.774Z   \n",
       "1            ajs_user_id  %22a9fd262e2c727602f1b7107f2e97d8ea5fb32c1c434...   \n",
       "2    we_referring_domain                                                      \n",
       "\n",
       "            domain path       expires  size  httpOnly  secure  session  \\\n",
       "0  .www.wework.com    /  1.685437e+09    45     False   False    False   \n",
       "1      .wework.com    /  1.685437e+09    81     False   False    False   \n",
       "2   www.wework.com    /  1.655111e+09    19     False   False    False   \n",
       "\n",
       "  sameSite priority  sameParty sourceScheme  sourcePort  \\\n",
       "0      Lax   Medium      False       Secure         443   \n",
       "1      Lax   Medium      False       Secure         443   \n",
       "2     None   Medium      False       Secure         443   \n",
       "\n",
       "                                         request_url        site  \\\n",
       "0  https://www.wework.com/vanilla-assets/images/w...  wework.com   \n",
       "1  https://www.wework.com/l/commercial-real-estat...  wework.com   \n",
       "2  https://www.wework.com/vanilla-assets/javascri...  wework.com   \n",
       "\n",
       "                                            page_url  \n",
       "0  https://www.wework.com/l/commercial-real-estat...  \n",
       "1  https://www.wework.com/l/commercial-real-estat...  \n",
       "2  https://www.wework.com/l/commercial-real-estat...  "
      ]
     },
     "execution_count": 8,
     "metadata": {},
     "output_type": "execute_result"
    }
   ],
   "source": [
    "# import sys; import importlib; importlib.reload(sys.modules['consent.data.pref_menu_scan.postrej_cookie_reader'])\n",
    "from consent.data.pref_menu_scan.har_cookie_reader import read_postrej_sent_cookies_in_scans\n",
    "\n",
    "cookies_cache_file = SCAN_ROOT_DIR / f'scan{output_suffix}.parquet'  # 'raw_postrej_sent_cookies.parquet'\n",
    "\n",
    "if not cookies_cache_file.exists() or overwrite:\n",
    "    sent_cookies = read_postrej_sent_cookies_in_scans(SCAN_DIRS)\n",
    "    if cookies_cache_file: sent_cookies.to_parquet(cookies_cache_file); print(f\"Written to {cookies_cache_file}\")\n",
    "else:\n",
    "    sent_cookies = pd.read_parquet(cookies_cache_file)\n",
    "\n",
    "print(f\"Number sent cookies read: {len(sent_cookies):,d}\")\n",
    "sent_cookies.head(3)"
   ]
  },
  {
   "cell_type": "code",
   "execution_count": 9,
   "metadata": {},
   "outputs": [],
   "source": [
    "# prj = post-rejection\n",
    "# Old way: consider all flows\n",
    "# prj_sent_cookies = sent_cookies[['domain', 'expires', 'name', 'path', 'sameSite', 'secure', 'value', 'request_url', 'site']].drop_duplicates()\n",
    "# prj_br_cookies = prj_sent_cookies[['domain', 'expires', 'name', 'path', 'sameSite', 'secure', 'site']].drop_duplicates()\n",
    "# New way: consider cookies only (ignore the request url, which is not nused in get_comply cookie matching anyway)\n",
    "prj_sent_cookies = sent_cookies[['name', 'domain', 'path', 'site']].drop_duplicates()"
   ]
  },
  {
   "cell_type": "code",
   "execution_count": 10,
   "metadata": {},
   "outputs": [],
   "source": [
    "# print(f\"Num captured sent cookies: {len(sent_cookies):,d}\")\n",
    "# print(f\"Num unique captured cookies: {len(prj_sent_cookies):,d}\")\n",
    "# n_br_cookies = len(prj_br_cookies)\n",
    "# print(f\"Num unique browser cookies: {n_br_cookies:,d} on {prj_br_cookies.site.nunique():,d} websites\") # and {sent_cookies.page_url.nunique():,d} pages\")"
   ]
  },
  {
   "cell_type": "markdown",
   "metadata": {},
   "source": [
    "## Analyze cookies compliance    "
   ]
  },
  {
   "cell_type": "code",
   "execution_count": 11,
   "metadata": {},
   "outputs": [
    {
     "name": "stdout",
     "output_type": "stream",
     "text": [
      "Num sent cookies in the cookie prefs sites: 125,107\n"
     ]
    }
   ],
   "source": [
    "sites = set(cookie_prefs.site)\n",
    "print(f\"Num sent cookies in the cookie prefs sites: {len(prj_sent_cookies[prj_sent_cookies.site.isin(sites)]):,d}\")"
   ]
  },
  {
   "cell_type": "code",
   "execution_count": 12,
   "metadata": {
    "tags": []
   },
   "outputs": [
    {
     "name": "stdout",
     "output_type": "stream",
     "text": [
      "faster: for cookie_pref in cookie_pref_set[cookie_pref_set.name == acookie['name']]:\n"
     ]
    },
    {
     "name": "stderr",
     "output_type": "stream",
     "text": [
      "  3%|▎         | 176/6095 [00:17<25:07,  3.93it/s]"
     ]
    },
    {
     "name": "stdout",
     "output_type": "stream",
     "text": [
      "Big cookie pref esputnik.com 3147 skip this site\n"
     ]
    },
    {
     "name": "stderr",
     "output_type": "stream",
     "text": [
      "  8%|▊         | 468/6095 [00:47<06:59, 13.41it/s]"
     ]
    },
    {
     "name": "stdout",
     "output_type": "stream",
     "text": [
      "Big cookie pref illumina.com 4392 skip this site\n"
     ]
    },
    {
     "name": "stderr",
     "output_type": "stream",
     "text": [
      "  8%|▊         | 508/6095 [00:50<07:56, 11.72it/s]"
     ]
    },
    {
     "name": "stdout",
     "output_type": "stream",
     "text": [
      "Error fuzzy name match pref_name='local[footer/product-list]' cookie_name='AMCVS_983502BE532960BE0A490D4C%40AdobeOrg' bad character range t-l at position 23\n",
      "Error fuzzy name match pref_name='local[footer/country-selector]' cookie_name='AMCVS_983502BE532960BE0A490D4C%40AdobeOrg' bad character range y-s at position 23\n",
      "Error fuzzy name match pref_name='local[footer/product-list]' cookie_name='AMCVS_983502BE532960BE0A490D4C%40AdobeOrg' bad character range t-l at position 23\n",
      "Error fuzzy name match pref_name='local[footer/country-selector]' cookie_name='AMCVS_983502BE532960BE0A490D4C%40AdobeOrg' bad character range y-s at position 23\n",
      "Error fuzzy name match pref_name='local[footer/product-list]' cookie_name='AMCVS_983502BE532960BE0A490D4C%40AdobeOrg' bad character range t-l at position 23\n",
      "Error fuzzy name match pref_name='local[footer/country-selector]' cookie_name='AMCVS_983502BE532960BE0A490D4C%40AdobeOrg' bad character range y-s at position 23\n",
      "Error fuzzy name match pref_name='local[footer/country-selector]' cookie_name='AMCVS_983502BE532960BE0A490D4C%40AdobeOrg' bad character range y-s at position 23\n",
      "Error fuzzy name match pref_name='local[footer/product-list]' cookie_name='AMCVS_983502BE532960BE0A490D4C%40AdobeOrg' bad character range t-l at position 23\n",
      "Error fuzzy name match pref_name='local[footer/product-list]' cookie_name='mmapi.p.uat' bad character range t-l at position 23\n",
      "Error fuzzy name match pref_name='local[footer/country-selector]' cookie_name='mmapi.p.uat' bad character range y-s at position 23\n",
      "Error fuzzy name match pref_name='local[footer/product-list]' cookie_name='mmapi.p.uat' bad character range t-l at position 23\n",
      "Error fuzzy name match pref_name='local[footer/country-selector]' cookie_name='mmapi.p.uat' bad character range y-s at position 23\n",
      "Error fuzzy name match pref_name='local[footer/product-list]' cookie_name='mmapi.p.uat' bad character range t-l at position 23\n",
      "Error fuzzy name match pref_name='local[footer/country-selector]' cookie_name='mmapi.p.uat' bad character range y-s at position 23\n",
      "Error fuzzy name match pref_name='local[footer/country-selector]' cookie_name='mmapi.p.uat' bad character range y-s at position 23\n",
      "Error fuzzy name match pref_name='local[footer/product-list]' cookie_name='mmapi.p.srv' bad character range t-l at position 23\n",
      "Error fuzzy name match pref_name='local[footer/country-selector]' cookie_name='mmapi.p.srv' bad character range y-s at position 23\n",
      "Error fuzzy name match pref_name='local[footer/product-list]' cookie_name='mmapi.p.srv' bad character range t-l at position 23\n",
      "Error fuzzy name match pref_name='local[footer/country-selector]' cookie_name='mmapi.p.srv' bad character range y-s at position 23\n",
      "Error fuzzy name match pref_name='local[footer/product-list]' cookie_name='mmapi.p.srv' bad character range t-l at position 23\n",
      "Error fuzzy name match pref_name='local[footer/country-selector]' cookie_name='mmapi.p.srv' bad character range y-s at position 23\n",
      "Error fuzzy name match pref_name='local[footer/country-selector]' cookie_name='mmapi.p.srv' bad character range y-s at position 23\n",
      "Error fuzzy name match pref_name='local[footer/product-list]' cookie_name='mmapi.p.pd' bad character range t-l at position 23\n",
      "Error fuzzy name match pref_name='local[footer/country-selector]' cookie_name='mmapi.p.pd' bad character range y-s at position 23\n",
      "Error fuzzy name match pref_name='local[footer/product-list]' cookie_name='mmapi.p.pd' bad character range t-l at position 23\n",
      "Error fuzzy name match pref_name='local[footer/country-selector]' cookie_name='mmapi.p.pd' bad character range y-s at position 23\n",
      "Error fuzzy name match pref_name='local[footer/product-list]' cookie_name='mmapi.p.pd' bad character range t-l at position 23\n",
      "Error fuzzy name match pref_name='local[footer/country-selector]' cookie_name='mmapi.p.pd' bad character range y-s at position 23\n",
      "Error fuzzy name match pref_name='local[footer/country-selector]' cookie_name='mmapi.p.pd' bad character range y-s at position 23\n",
      "Error fuzzy name match pref_name='local[footer/product-list]' cookie_name='mmapi.NAV_UK_B2C_Serving.NoBounce' bad character range t-l at position 23\n",
      "Error fuzzy name match pref_name='local[footer/country-selector]' cookie_name='mmapi.NAV_UK_B2C_Serving.NoBounce' bad character range y-s at position 23\n",
      "Error fuzzy name match pref_name='local[footer/product-list]' cookie_name='mmapi.NAV_UK_B2C_Serving.NoBounce' bad character range t-l at position 23\n",
      "Error fuzzy name match pref_name='local[footer/country-selector]' cookie_name='mmapi.NAV_UK_B2C_Serving.NoBounce' bad character range y-s at position 23\n",
      "Error fuzzy name match pref_name='local[footer/product-list]' cookie_name='mmapi.NAV_UK_B2C_Serving.NoBounce' bad character range t-l at position 23\n",
      "Error fuzzy name match pref_name='local[footer/country-selector]' cookie_name='mmapi.NAV_UK_B2C_Serving.NoBounce' bad character range y-s at position 23\n",
      "Error fuzzy name match pref_name='local[footer/country-selector]' cookie_name='mmapi.NAV_UK_B2C_Serving.NoBounce' bad character range y-s at position 23\n",
      "Error fuzzy name match pref_name='local[footer/product-list]' cookie_name='s_cc' bad character range t-l at position 23\n",
      "Error fuzzy name match pref_name='local[footer/country-selector]' cookie_name='s_cc' bad character range y-s at position 23\n",
      "Error fuzzy name match pref_name='local[footer/product-list]' cookie_name='s_cc' bad character range t-l at position 23\n",
      "Error fuzzy name match pref_name='local[footer/country-selector]' cookie_name='s_cc' bad character range y-s at position 23\n",
      "Error fuzzy name match pref_name='local[footer/product-list]' cookie_name='s_cc' bad character range t-l at position 23\n",
      "Error fuzzy name match pref_name='local[footer/country-selector]' cookie_name='s_cc' bad character range y-s at position 23\n",
      "Error fuzzy name match pref_name='local[footer/country-selector]' cookie_name='s_cc' bad character range y-s at position 23\n",
      "Error fuzzy name match pref_name='local[footer/product-list]' cookie_name='s_cc' bad character range t-l at position 23\n",
      "Error fuzzy name match pref_name='local[footer/product-list]' cookie_name='CookieConsent' bad character range t-l at position 23\n",
      "Error fuzzy name match pref_name='local[footer/country-selector]' cookie_name='CookieConsent' bad character range y-s at position 23\n",
      "Error fuzzy name match pref_name='local[footer/product-list]' cookie_name='CookieConsent' bad character range t-l at position 23\n",
      "Error fuzzy name match pref_name='local[footer/country-selector]' cookie_name='CookieConsent' bad character range y-s at position 23\n",
      "Error fuzzy name match pref_name='local[footer/product-list]' cookie_name='CookieConsent' bad character range t-l at position 23\n",
      "Error fuzzy name match pref_name='local[footer/country-selector]' cookie_name='CookieConsent' bad character range y-s at position 23\n",
      "Error fuzzy name match pref_name='local[footer/country-selector]' cookie_name='CookieConsent' bad character range y-s at position 23\n",
      "Error fuzzy name match pref_name='local[footer/product-list]' cookie_name='CookieConsent' bad character range t-l at position 23\n",
      "Error fuzzy name match pref_name='local[footer/product-list]' cookie_name='_cs_mk' bad character range t-l at position 23\n",
      "Error fuzzy name match pref_name='local[footer/country-selector]' cookie_name='_cs_mk' bad character range y-s at position 23\n",
      "Error fuzzy name match pref_name='local[footer/product-list]' cookie_name='_cs_mk' bad character range t-l at position 23\n",
      "Error fuzzy name match pref_name='local[footer/country-selector]' cookie_name='_cs_mk' bad character range y-s at position 23\n",
      "Error fuzzy name match pref_name='local[footer/product-list]' cookie_name='_cs_mk' bad character range t-l at position 23\n",
      "Error fuzzy name match pref_name='local[footer/country-selector]' cookie_name='_cs_mk' bad character range y-s at position 23\n",
      "Error fuzzy name match pref_name='local[footer/country-selector]' cookie_name='_cs_mk' bad character range y-s at position 23\n",
      "Error fuzzy name match pref_name='local[footer/product-list]' cookie_name='_cs_mk' bad character range t-l at position 23\n",
      "Error fuzzy name match pref_name='local[footer/product-list]' cookie_name='demdex' bad character range t-l at position 23\n",
      "Error fuzzy name match pref_name='local[footer/country-selector]' cookie_name='demdex' bad character range y-s at position 23\n",
      "Error fuzzy name match pref_name='local[footer/product-list]' cookie_name='demdex' bad character range t-l at position 23\n",
      "Error fuzzy name match pref_name='local[footer/country-selector]' cookie_name='demdex' bad character range y-s at position 23\n",
      "Error fuzzy name match pref_name='local[footer/product-list]' cookie_name='demdex' bad character range t-l at position 23\n",
      "Error fuzzy name match pref_name='local[footer/country-selector]' cookie_name='demdex' bad character range y-s at position 23\n",
      "Error fuzzy name match pref_name='local[footer/country-selector]' cookie_name='demdex' bad character range y-s at position 23\n",
      "Error fuzzy name match pref_name='local[footer/product-list]' cookie_name='demdex' bad character range t-l at position 23\n",
      "Error fuzzy name match pref_name='local[footer/product-list]' cookie_name='mmapi.p.bid' bad character range t-l at position 23\n",
      "Error fuzzy name match pref_name='local[footer/country-selector]' cookie_name='mmapi.p.bid' bad character range y-s at position 23\n",
      "Error fuzzy name match pref_name='local[footer/product-list]' cookie_name='mmapi.p.bid' bad character range t-l at position 23\n",
      "Error fuzzy name match pref_name='local[footer/country-selector]' cookie_name='mmapi.p.bid' bad character range y-s at position 23\n",
      "Error fuzzy name match pref_name='local[footer/product-list]' cookie_name='mmapi.p.bid' bad character range t-l at position 23\n",
      "Error fuzzy name match pref_name='local[footer/country-selector]' cookie_name='mmapi.p.bid' bad character range y-s at position 23\n",
      "Error fuzzy name match pref_name='local[footer/country-selector]' cookie_name='mmapi.p.bid' bad character range y-s at position 23\n",
      "Error fuzzy name match pref_name='local[footer/product-list]' cookie_name='AMCV_983502BE532960BE0A490D4C%40AdobeOrg' bad character range t-l at position 23\n",
      "Error fuzzy name match pref_name='local[footer/country-selector]' cookie_name='AMCV_983502BE532960BE0A490D4C%40AdobeOrg' bad character range y-s at position 23\n",
      "Error fuzzy name match pref_name='local[footer/product-list]' cookie_name='AMCV_983502BE532960BE0A490D4C%40AdobeOrg' bad character range t-l at position 23\n",
      "Error fuzzy name match pref_name='local[footer/country-selector]' cookie_name='AMCV_983502BE532960BE0A490D4C%40AdobeOrg' bad character range y-s at position 23\n",
      "Error fuzzy name match pref_name='local[footer/product-list]' cookie_name='AMCV_983502BE532960BE0A490D4C%40AdobeOrg' bad character range t-l at position 23\n",
      "Error fuzzy name match pref_name='local[footer/country-selector]' cookie_name='AMCV_983502BE532960BE0A490D4C%40AdobeOrg' bad character range y-s at position 23\n",
      "Error fuzzy name match pref_name='local[footer/country-selector]' cookie_name='AMCV_983502BE532960BE0A490D4C%40AdobeOrg' bad character range y-s at position 23\n",
      "Error fuzzy name match pref_name='local[footer/product-list]' cookie_name='AMCV_983502BE532960BE0A490D4C%40AdobeOrg' bad character range t-l at position 23\n",
      "Error fuzzy name match pref_name='local[footer/product-list]' cookie_name='mm_BusinessSeg' bad character range t-l at position 23\n",
      "Error fuzzy name match pref_name='local[footer/country-selector]' cookie_name='mm_BusinessSeg' bad character range y-s at position 23\n",
      "Error fuzzy name match pref_name='local[footer/product-list]' cookie_name='mm_BusinessSeg' bad character range t-l at position 23\n",
      "Error fuzzy name match pref_name='local[footer/country-selector]' cookie_name='mm_BusinessSeg' bad character range y-s at position 23\n",
      "Error fuzzy name match pref_name='local[footer/product-list]' cookie_name='mm_BusinessSeg' bad character range t-l at position 23\n",
      "Error fuzzy name match pref_name='local[footer/product-list]' cookie_name='webserver_id' bad character range t-l at position 23\n",
      "Error fuzzy name match pref_name='local[footer/country-selector]' cookie_name='webserver_id' bad character range y-s at position 23\n",
      "Error fuzzy name match pref_name='local[footer/product-list]' cookie_name='webserver_id' bad character range t-l at position 23\n",
      "Error fuzzy name match pref_name='local[footer/country-selector]' cookie_name='webserver_id' bad character range y-s at position 23\n",
      "Error fuzzy name match pref_name='local[footer/product-list]' cookie_name='webserver_id' bad character range t-l at position 23\n",
      "Error fuzzy name match pref_name='local[footer/country-selector]' cookie_name='webserver_id' bad character range y-s at position 23\n",
      "Error fuzzy name match pref_name='local[footer/country-selector]' cookie_name='webserver_id' bad character range y-s at position 23\n",
      "Error fuzzy name match pref_name='local[footer/product-list]' cookie_name='webserver_id' bad character range t-l at position 23\n",
      "Error fuzzy name match pref_name='local[footer/country-selector]' cookie_name='webserver_id' bad character range y-s at position 23\n",
      "Error fuzzy name match pref_name='local[footer/product-list]' cookie_name='webserver_id' bad character range t-l at position 23\n",
      "Error fuzzy name match pref_name='local[footer/country-selector]' cookie_name='webserver_id' bad character range y-s at position 23\n",
      "Error fuzzy name match pref_name='local[footer/product-list]' cookie_name='webserver_id' bad character range t-l at position 23\n",
      "Error fuzzy name match pref_name='local[footer/country-selector]' cookie_name='webserver_id' bad character range y-s at position 23\n",
      "Error fuzzy name match pref_name='local[footer/country-selector]' cookie_name='webserver_id' bad character range y-s at position 23\n",
      "Error fuzzy name match pref_name='local[footer/product-list]' cookie_name='webserver_id' bad character range t-l at position 23\n",
      "Error fuzzy name match pref_name='local[footer/product-list]' cookie_name='country' bad character range t-l at position 23\n",
      "Error fuzzy name match pref_name='local[footer/country-selector]' cookie_name='country' bad character range y-s at position 23\n",
      "Error fuzzy name match pref_name='local[footer/product-list]' cookie_name='country' bad character range t-l at position 23\n",
      "Error fuzzy name match pref_name='local[footer/country-selector]' cookie_name='country' bad character range y-s at position 23\n",
      "Error fuzzy name match pref_name='local[footer/product-list]' cookie_name='country' bad character range t-l at position 23\n",
      "Error fuzzy name match pref_name='local[footer/product-list]' cookie_name='country' bad character range t-l at position 23\n",
      "Error fuzzy name match pref_name='local[footer/country-selector]' cookie_name='country' bad character range y-s at position 23\n",
      "Error fuzzy name match pref_name='local[footer/product-list]' cookie_name='country' bad character range t-l at position 23\n",
      "Error fuzzy name match pref_name='local[footer/country-selector]' cookie_name='country' bad character range y-s at position 23\n",
      "Error fuzzy name match pref_name='local[footer/product-list]' cookie_name='country' bad character range t-l at position 23\n",
      "Error fuzzy name match pref_name='local[footer/product-list]' cookie_name='country' bad character range t-l at position 23\n",
      "Error fuzzy name match pref_name='local[footer/country-selector]' cookie_name='country' bad character range y-s at position 23\n",
      "Error fuzzy name match pref_name='local[footer/product-list]' cookie_name='country' bad character range t-l at position 23\n",
      "Error fuzzy name match pref_name='local[footer/country-selector]' cookie_name='country' bad character range y-s at position 23\n",
      "Error fuzzy name match pref_name='local[footer/product-list]' cookie_name='country' bad character range t-l at position 23\n",
      "Error fuzzy name match pref_name='local[footer/country-selector]' cookie_name='country' bad character range y-s at position 23\n",
      "Error fuzzy name match pref_name='local[footer/country-selector]' cookie_name='country' bad character range y-s at position 23\n",
      "Error fuzzy name match pref_name='local[footer/product-list]' cookie_name='country' bad character range t-l at position 23\n"
     ]
    },
    {
     "name": "stderr",
     "output_type": "stream",
     "text": [
      " 13%|█▎        | 821/6095 [01:27<06:41, 13.13it/s]  "
     ]
    },
    {
     "name": "stdout",
     "output_type": "stream",
     "text": [
      "Big cookie pref jabra.com 3528 skip this site\n"
     ]
    },
    {
     "name": "stderr",
     "output_type": "stream",
     "text": [
      " 15%|█▌        | 935/6095 [01:50<06:42, 12.83it/s]  "
     ]
    },
    {
     "name": "stdout",
     "output_type": "stream",
     "text": [
      "Error fuzzy name match pref_name='local[footer/product-list]' cookie_name='s_cc' bad character range t-l at position 23\n",
      "Error fuzzy name match pref_name='local[footer/country-selector]' cookie_name='s_cc' bad character range y-s at position 23\n",
      "Error fuzzy name match pref_name='local[footer/product-list]' cookie_name='s_cc' bad character range t-l at position 23\n",
      "Error fuzzy name match pref_name='local[footer/country-selector]' cookie_name='s_cc' bad character range y-s at position 23\n",
      "Error fuzzy name match pref_name='local[footer/product-list]' cookie_name='s_cc' bad character range t-l at position 23\n",
      "Error fuzzy name match pref_name='local[footer/country-selector]' cookie_name='s_cc' bad character range y-s at position 23\n",
      "Error fuzzy name match pref_name='local[footer/country-selector]' cookie_name='s_cc' bad character range y-s at position 23\n",
      "Error fuzzy name match pref_name='local[footer/product-list]' cookie_name='s_cc' bad character range t-l at position 23\n",
      "Error fuzzy name match pref_name='local[footer/product-list]' cookie_name='demdex' bad character range t-l at position 23\n",
      "Error fuzzy name match pref_name='local[footer/country-selector]' cookie_name='demdex' bad character range y-s at position 23\n",
      "Error fuzzy name match pref_name='local[footer/product-list]' cookie_name='demdex' bad character range t-l at position 23\n",
      "Error fuzzy name match pref_name='local[footer/country-selector]' cookie_name='demdex' bad character range y-s at position 23\n",
      "Error fuzzy name match pref_name='local[footer/product-list]' cookie_name='demdex' bad character range t-l at position 23\n",
      "Error fuzzy name match pref_name='local[footer/country-selector]' cookie_name='demdex' bad character range y-s at position 23\n",
      "Error fuzzy name match pref_name='local[footer/country-selector]' cookie_name='demdex' bad character range y-s at position 23\n",
      "Error fuzzy name match pref_name='local[footer/product-list]' cookie_name='demdex' bad character range t-l at position 23\n",
      "Error fuzzy name match pref_name='local[footer/product-list]' cookie_name='webserver_id' bad character range t-l at position 23\n",
      "Error fuzzy name match pref_name='local[footer/country-selector]' cookie_name='webserver_id' bad character range y-s at position 23\n",
      "Error fuzzy name match pref_name='local[footer/product-list]' cookie_name='webserver_id' bad character range t-l at position 23\n",
      "Error fuzzy name match pref_name='local[footer/country-selector]' cookie_name='webserver_id' bad character range y-s at position 23\n",
      "Error fuzzy name match pref_name='local[footer/product-list]' cookie_name='webserver_id' bad character range t-l at position 23\n",
      "Error fuzzy name match pref_name='local[footer/country-selector]' cookie_name='webserver_id' bad character range y-s at position 23\n",
      "Error fuzzy name match pref_name='local[footer/country-selector]' cookie_name='webserver_id' bad character range y-s at position 23\n",
      "Error fuzzy name match pref_name='local[footer/product-list]' cookie_name='_cs_mk' bad character range t-l at position 23\n",
      "Error fuzzy name match pref_name='local[footer/country-selector]' cookie_name='_cs_mk' bad character range y-s at position 23\n",
      "Error fuzzy name match pref_name='local[footer/product-list]' cookie_name='_cs_mk' bad character range t-l at position 23\n",
      "Error fuzzy name match pref_name='local[footer/country-selector]' cookie_name='_cs_mk' bad character range y-s at position 23\n",
      "Error fuzzy name match pref_name='local[footer/product-list]' cookie_name='_cs_mk' bad character range t-l at position 23\n",
      "Error fuzzy name match pref_name='local[footer/country-selector]' cookie_name='_cs_mk' bad character range y-s at position 23\n",
      "Error fuzzy name match pref_name='local[footer/country-selector]' cookie_name='_cs_mk' bad character range y-s at position 23\n",
      "Error fuzzy name match pref_name='local[footer/product-list]' cookie_name='_cs_mk' bad character range t-l at position 23\n",
      "Error fuzzy name match pref_name='local[footer/product-list]' cookie_name='mmapi.p.srv' bad character range t-l at position 23\n",
      "Error fuzzy name match pref_name='local[footer/country-selector]' cookie_name='mmapi.p.srv' bad character range y-s at position 23\n",
      "Error fuzzy name match pref_name='local[footer/product-list]' cookie_name='mmapi.p.srv' bad character range t-l at position 23\n",
      "Error fuzzy name match pref_name='local[footer/country-selector]' cookie_name='mmapi.p.srv' bad character range y-s at position 23\n",
      "Error fuzzy name match pref_name='local[footer/product-list]' cookie_name='mmapi.p.srv' bad character range t-l at position 23\n",
      "Error fuzzy name match pref_name='local[footer/country-selector]' cookie_name='mmapi.p.srv' bad character range y-s at position 23\n",
      "Error fuzzy name match pref_name='local[footer/country-selector]' cookie_name='mmapi.p.srv' bad character range y-s at position 23\n",
      "Error fuzzy name match pref_name='local[footer/product-list]' cookie_name='mmapi.p.pd' bad character range t-l at position 23\n",
      "Error fuzzy name match pref_name='local[footer/country-selector]' cookie_name='mmapi.p.pd' bad character range y-s at position 23\n",
      "Error fuzzy name match pref_name='local[footer/product-list]' cookie_name='mmapi.p.pd' bad character range t-l at position 23\n",
      "Error fuzzy name match pref_name='local[footer/country-selector]' cookie_name='mmapi.p.pd' bad character range y-s at position 23\n",
      "Error fuzzy name match pref_name='local[footer/product-list]' cookie_name='mmapi.p.pd' bad character range t-l at position 23\n",
      "Error fuzzy name match pref_name='local[footer/country-selector]' cookie_name='mmapi.p.pd' bad character range y-s at position 23\n",
      "Error fuzzy name match pref_name='local[footer/country-selector]' cookie_name='mmapi.p.pd' bad character range y-s at position 23\n",
      "Error fuzzy name match pref_name='local[footer/product-list]' cookie_name='mmapi.NAV_UK_B2C_Serving.NoBounce' bad character range t-l at position 23\n",
      "Error fuzzy name match pref_name='local[footer/country-selector]' cookie_name='mmapi.NAV_UK_B2C_Serving.NoBounce' bad character range y-s at position 23\n",
      "Error fuzzy name match pref_name='local[footer/product-list]' cookie_name='mmapi.NAV_UK_B2C_Serving.NoBounce' bad character range t-l at position 23\n",
      "Error fuzzy name match pref_name='local[footer/country-selector]' cookie_name='mmapi.NAV_UK_B2C_Serving.NoBounce' bad character range y-s at position 23\n",
      "Error fuzzy name match pref_name='local[footer/product-list]' cookie_name='mmapi.NAV_UK_B2C_Serving.NoBounce' bad character range t-l at position 23\n",
      "Error fuzzy name match pref_name='local[footer/country-selector]' cookie_name='mmapi.NAV_UK_B2C_Serving.NoBounce' bad character range y-s at position 23\n",
      "Error fuzzy name match pref_name='local[footer/country-selector]' cookie_name='mmapi.NAV_UK_B2C_Serving.NoBounce' bad character range y-s at position 23\n",
      "Error fuzzy name match pref_name='local[footer/product-list]' cookie_name='mmapi.p.bid' bad character range t-l at position 23\n",
      "Error fuzzy name match pref_name='local[footer/country-selector]' cookie_name='mmapi.p.bid' bad character range y-s at position 23\n",
      "Error fuzzy name match pref_name='local[footer/product-list]' cookie_name='mmapi.p.bid' bad character range t-l at position 23\n",
      "Error fuzzy name match pref_name='local[footer/country-selector]' cookie_name='mmapi.p.bid' bad character range y-s at position 23\n",
      "Error fuzzy name match pref_name='local[footer/product-list]' cookie_name='mmapi.p.bid' bad character range t-l at position 23\n",
      "Error fuzzy name match pref_name='local[footer/country-selector]' cookie_name='mmapi.p.bid' bad character range y-s at position 23\n",
      "Error fuzzy name match pref_name='local[footer/country-selector]' cookie_name='mmapi.p.bid' bad character range y-s at position 23\n",
      "Error fuzzy name match pref_name='local[footer/product-list]' cookie_name='mmapi.p.uat' bad character range t-l at position 23\n",
      "Error fuzzy name match pref_name='local[footer/country-selector]' cookie_name='mmapi.p.uat' bad character range y-s at position 23\n",
      "Error fuzzy name match pref_name='local[footer/product-list]' cookie_name='mmapi.p.uat' bad character range t-l at position 23\n",
      "Error fuzzy name match pref_name='local[footer/country-selector]' cookie_name='mmapi.p.uat' bad character range y-s at position 23\n",
      "Error fuzzy name match pref_name='local[footer/product-list]' cookie_name='mmapi.p.uat' bad character range t-l at position 23\n",
      "Error fuzzy name match pref_name='local[footer/country-selector]' cookie_name='mmapi.p.uat' bad character range y-s at position 23\n",
      "Error fuzzy name match pref_name='local[footer/country-selector]' cookie_name='mmapi.p.uat' bad character range y-s at position 23\n",
      "Error fuzzy name match pref_name='local[footer/product-list]' cookie_name='country' bad character range t-l at position 23\n",
      "Error fuzzy name match pref_name='local[footer/country-selector]' cookie_name='country' bad character range y-s at position 23\n",
      "Error fuzzy name match pref_name='local[footer/product-list]' cookie_name='country' bad character range t-l at position 23\n",
      "Error fuzzy name match pref_name='local[footer/country-selector]' cookie_name='country' bad character range y-s at position 23\n",
      "Error fuzzy name match pref_name='local[footer/product-list]' cookie_name='country' bad character range t-l at position 23\n",
      "Error fuzzy name match pref_name='local[footer/country-selector]' cookie_name='country' bad character range y-s at position 23\n",
      "Error fuzzy name match pref_name='local[footer/country-selector]' cookie_name='country' bad character range y-s at position 23\n",
      "Error fuzzy name match pref_name='local[footer/product-list]' cookie_name='country' bad character range t-l at position 23\n",
      "Error fuzzy name match pref_name='local[footer/product-list]' cookie_name='AMCVS_983502BE532960BE0A490D4C%40AdobeOrg' bad character range t-l at position 23\n",
      "Error fuzzy name match pref_name='local[footer/country-selector]' cookie_name='AMCVS_983502BE532960BE0A490D4C%40AdobeOrg' bad character range y-s at position 23\n",
      "Error fuzzy name match pref_name='local[footer/product-list]' cookie_name='AMCVS_983502BE532960BE0A490D4C%40AdobeOrg' bad character range t-l at position 23\n",
      "Error fuzzy name match pref_name='local[footer/country-selector]' cookie_name='AMCVS_983502BE532960BE0A490D4C%40AdobeOrg' bad character range y-s at position 23\n",
      "Error fuzzy name match pref_name='local[footer/product-list]' cookie_name='AMCVS_983502BE532960BE0A490D4C%40AdobeOrg' bad character range t-l at position 23\n",
      "Error fuzzy name match pref_name='local[footer/country-selector]' cookie_name='AMCVS_983502BE532960BE0A490D4C%40AdobeOrg' bad character range y-s at position 23\n",
      "Error fuzzy name match pref_name='local[footer/country-selector]' cookie_name='AMCVS_983502BE532960BE0A490D4C%40AdobeOrg' bad character range y-s at position 23\n",
      "Error fuzzy name match pref_name='local[footer/product-list]' cookie_name='AMCVS_983502BE532960BE0A490D4C%40AdobeOrg' bad character range t-l at position 23\n",
      "Error fuzzy name match pref_name='local[footer/product-list]' cookie_name='CookieConsent' bad character range t-l at position 23\n",
      "Error fuzzy name match pref_name='local[footer/country-selector]' cookie_name='CookieConsent' bad character range y-s at position 23\n",
      "Error fuzzy name match pref_name='local[footer/product-list]' cookie_name='CookieConsent' bad character range t-l at position 23\n",
      "Error fuzzy name match pref_name='local[footer/country-selector]' cookie_name='CookieConsent' bad character range y-s at position 23\n",
      "Error fuzzy name match pref_name='local[footer/product-list]' cookie_name='CookieConsent' bad character range t-l at position 23\n",
      "Error fuzzy name match pref_name='local[footer/country-selector]' cookie_name='CookieConsent' bad character range y-s at position 23\n",
      "Error fuzzy name match pref_name='local[footer/country-selector]' cookie_name='CookieConsent' bad character range y-s at position 23\n",
      "Error fuzzy name match pref_name='local[footer/product-list]' cookie_name='CookieConsent' bad character range t-l at position 23\n",
      "Error fuzzy name match pref_name='local[footer/product-list]' cookie_name='mm_BusinessSeg' bad character range t-l at position 23\n",
      "Error fuzzy name match pref_name='local[footer/country-selector]' cookie_name='mm_BusinessSeg' bad character range y-s at position 23\n",
      "Error fuzzy name match pref_name='local[footer/product-list]' cookie_name='mm_BusinessSeg' bad character range t-l at position 23\n",
      "Error fuzzy name match pref_name='local[footer/country-selector]' cookie_name='mm_BusinessSeg' bad character range y-s at position 23\n",
      "Error fuzzy name match pref_name='local[footer/product-list]' cookie_name='mm_BusinessSeg' bad character range t-l at position 23\n",
      "Error fuzzy name match pref_name='local[footer/product-list]' cookie_name='AMCV_983502BE532960BE0A490D4C%40AdobeOrg' bad character range t-l at position 23\n",
      "Error fuzzy name match pref_name='local[footer/country-selector]' cookie_name='AMCV_983502BE532960BE0A490D4C%40AdobeOrg' bad character range y-s at position 23\n",
      "Error fuzzy name match pref_name='local[footer/product-list]' cookie_name='AMCV_983502BE532960BE0A490D4C%40AdobeOrg' bad character range t-l at position 23\n",
      "Error fuzzy name match pref_name='local[footer/country-selector]' cookie_name='AMCV_983502BE532960BE0A490D4C%40AdobeOrg' bad character range y-s at position 23\n",
      "Error fuzzy name match pref_name='local[footer/product-list]' cookie_name='AMCV_983502BE532960BE0A490D4C%40AdobeOrg' bad character range t-l at position 23\n",
      "Error fuzzy name match pref_name='local[footer/country-selector]' cookie_name='AMCV_983502BE532960BE0A490D4C%40AdobeOrg' bad character range y-s at position 23\n",
      "Error fuzzy name match pref_name='local[footer/country-selector]' cookie_name='AMCV_983502BE532960BE0A490D4C%40AdobeOrg' bad character range y-s at position 23\n",
      "Error fuzzy name match pref_name='local[footer/product-list]' cookie_name='AMCV_983502BE532960BE0A490D4C%40AdobeOrg' bad character range t-l at position 23\n",
      "Error fuzzy name match pref_name='local[footer/product-list]' cookie_name='country' bad character range t-l at position 23\n",
      "Error fuzzy name match pref_name='local[footer/country-selector]' cookie_name='country' bad character range y-s at position 23\n",
      "Error fuzzy name match pref_name='local[footer/product-list]' cookie_name='country' bad character range t-l at position 23\n",
      "Error fuzzy name match pref_name='local[footer/country-selector]' cookie_name='country' bad character range y-s at position 23\n",
      "Error fuzzy name match pref_name='local[footer/product-list]' cookie_name='country' bad character range t-l at position 23\n",
      "Error fuzzy name match pref_name='local[footer/product-list]' cookie_name='country' bad character range t-l at position 23\n",
      "Error fuzzy name match pref_name='local[footer/country-selector]' cookie_name='country' bad character range y-s at position 23\n",
      "Error fuzzy name match pref_name='local[footer/product-list]' cookie_name='country' bad character range t-l at position 23\n",
      "Error fuzzy name match pref_name='local[footer/country-selector]' cookie_name='country' bad character range y-s at position 23\n",
      "Error fuzzy name match pref_name='local[footer/product-list]' cookie_name='country' bad character range t-l at position 23\n",
      "Error fuzzy name match pref_name='local[footer/product-list]' cookie_name='webserver_id' bad character range t-l at position 23\n",
      "Error fuzzy name match pref_name='local[footer/country-selector]' cookie_name='webserver_id' bad character range y-s at position 23\n",
      "Error fuzzy name match pref_name='local[footer/product-list]' cookie_name='webserver_id' bad character range t-l at position 23\n",
      "Error fuzzy name match pref_name='local[footer/country-selector]' cookie_name='webserver_id' bad character range y-s at position 23\n",
      "Error fuzzy name match pref_name='local[footer/product-list]' cookie_name='webserver_id' bad character range t-l at position 23\n",
      "Error fuzzy name match pref_name='local[footer/country-selector]' cookie_name='webserver_id' bad character range y-s at position 23\n",
      "Error fuzzy name match pref_name='local[footer/country-selector]' cookie_name='webserver_id' bad character range y-s at position 23\n",
      "Error fuzzy name match pref_name='local[footer/product-list]' cookie_name='webserver_id' bad character range t-l at position 23\n",
      "Error fuzzy name match pref_name='local[footer/product-list]' cookie_name='webserver_id' bad character range t-l at position 23\n",
      "Error fuzzy name match pref_name='local[footer/country-selector]' cookie_name='webserver_id' bad character range y-s at position 23\n",
      "Error fuzzy name match pref_name='local[footer/product-list]' cookie_name='webserver_id' bad character range t-l at position 23\n",
      "Error fuzzy name match pref_name='local[footer/country-selector]' cookie_name='webserver_id' bad character range y-s at position 23\n",
      "Error fuzzy name match pref_name='local[footer/product-list]' cookie_name='webserver_id' bad character range t-l at position 23\n"
     ]
    },
    {
     "name": "stderr",
     "output_type": "stream",
     "text": [
      " 18%|█▊        | 1123/6095 [02:09<05:46, 14.34it/s]  "
     ]
    },
    {
     "name": "stdout",
     "output_type": "stream",
     "text": [
      "Big cookie pref ncl.com 4156 skip this site\n"
     ]
    },
    {
     "name": "stderr",
     "output_type": "stream",
     "text": [
      " 21%|██        | 1269/6095 [02:21<06:08, 13.10it/s]"
     ]
    },
    {
     "name": "stdout",
     "output_type": "stream",
     "text": [
      "Big cookie pref moneyunder30.com 4795 skip this site\n"
     ]
    },
    {
     "name": "stderr",
     "output_type": "stream",
     "text": [
      " 27%|██▋       | 1663/6095 [02:54<06:23, 11.57it/s]"
     ]
    },
    {
     "name": "stdout",
     "output_type": "stream",
     "text": [
      "Error fuzzy name match pref_name='local[footer/product-list]' cookie_name='AMCVS_983502BE532960BE0A490D4C%40AdobeOrg' bad character range t-l at position 23\n",
      "Error fuzzy name match pref_name='local[footer/country-selector]' cookie_name='AMCVS_983502BE532960BE0A490D4C%40AdobeOrg' bad character range y-s at position 23\n",
      "Error fuzzy name match pref_name='local[footer/product-list]' cookie_name='AMCVS_983502BE532960BE0A490D4C%40AdobeOrg' bad character range t-l at position 23\n",
      "Error fuzzy name match pref_name='local[footer/country-selector]' cookie_name='AMCVS_983502BE532960BE0A490D4C%40AdobeOrg' bad character range y-s at position 23\n",
      "Error fuzzy name match pref_name='local[footer/product-list]' cookie_name='AMCVS_983502BE532960BE0A490D4C%40AdobeOrg' bad character range t-l at position 23\n",
      "Error fuzzy name match pref_name='local[footer/country-selector]' cookie_name='AMCVS_983502BE532960BE0A490D4C%40AdobeOrg' bad character range y-s at position 23\n",
      "Error fuzzy name match pref_name='local[footer/country-selector]' cookie_name='AMCVS_983502BE532960BE0A490D4C%40AdobeOrg' bad character range y-s at position 23\n",
      "Error fuzzy name match pref_name='local[footer/product-list]' cookie_name='AMCVS_983502BE532960BE0A490D4C%40AdobeOrg' bad character range t-l at position 23\n",
      "Error fuzzy name match pref_name='local[footer/product-list]' cookie_name='country' bad character range t-l at position 23\n",
      "Error fuzzy name match pref_name='local[footer/country-selector]' cookie_name='country' bad character range y-s at position 23\n",
      "Error fuzzy name match pref_name='local[footer/product-list]' cookie_name='country' bad character range t-l at position 23\n",
      "Error fuzzy name match pref_name='local[footer/country-selector]' cookie_name='country' bad character range y-s at position 23\n",
      "Error fuzzy name match pref_name='local[footer/product-list]' cookie_name='country' bad character range t-l at position 23\n",
      "Error fuzzy name match pref_name='local[footer/product-list]' cookie_name='webserver_id' bad character range t-l at position 23\n",
      "Error fuzzy name match pref_name='local[footer/country-selector]' cookie_name='webserver_id' bad character range y-s at position 23\n",
      "Error fuzzy name match pref_name='local[footer/product-list]' cookie_name='webserver_id' bad character range t-l at position 23\n",
      "Error fuzzy name match pref_name='local[footer/country-selector]' cookie_name='webserver_id' bad character range y-s at position 23\n",
      "Error fuzzy name match pref_name='local[footer/product-list]' cookie_name='webserver_id' bad character range t-l at position 23\n",
      "Error fuzzy name match pref_name='local[footer/country-selector]' cookie_name='webserver_id' bad character range y-s at position 23\n",
      "Error fuzzy name match pref_name='local[footer/country-selector]' cookie_name='webserver_id' bad character range y-s at position 23\n",
      "Error fuzzy name match pref_name='local[footer/product-list]' cookie_name='s_cc' bad character range t-l at position 23\n",
      "Error fuzzy name match pref_name='local[footer/country-selector]' cookie_name='s_cc' bad character range y-s at position 23\n",
      "Error fuzzy name match pref_name='local[footer/product-list]' cookie_name='s_cc' bad character range t-l at position 23\n",
      "Error fuzzy name match pref_name='local[footer/country-selector]' cookie_name='s_cc' bad character range y-s at position 23\n",
      "Error fuzzy name match pref_name='local[footer/product-list]' cookie_name='s_cc' bad character range t-l at position 23\n",
      "Error fuzzy name match pref_name='local[footer/country-selector]' cookie_name='s_cc' bad character range y-s at position 23\n",
      "Error fuzzy name match pref_name='local[footer/country-selector]' cookie_name='s_cc' bad character range y-s at position 23\n",
      "Error fuzzy name match pref_name='local[footer/product-list]' cookie_name='s_cc' bad character range t-l at position 23\n",
      "Error fuzzy name match pref_name='local[footer/product-list]' cookie_name='_cs_mk' bad character range t-l at position 23\n",
      "Error fuzzy name match pref_name='local[footer/country-selector]' cookie_name='_cs_mk' bad character range y-s at position 23\n",
      "Error fuzzy name match pref_name='local[footer/product-list]' cookie_name='_cs_mk' bad character range t-l at position 23\n",
      "Error fuzzy name match pref_name='local[footer/country-selector]' cookie_name='_cs_mk' bad character range y-s at position 23\n",
      "Error fuzzy name match pref_name='local[footer/product-list]' cookie_name='_cs_mk' bad character range t-l at position 23\n",
      "Error fuzzy name match pref_name='local[footer/country-selector]' cookie_name='_cs_mk' bad character range y-s at position 23\n",
      "Error fuzzy name match pref_name='local[footer/country-selector]' cookie_name='_cs_mk' bad character range y-s at position 23\n",
      "Error fuzzy name match pref_name='local[footer/product-list]' cookie_name='_cs_mk' bad character range t-l at position 23\n",
      "Error fuzzy name match pref_name='local[footer/product-list]' cookie_name='demdex' bad character range t-l at position 23\n",
      "Error fuzzy name match pref_name='local[footer/country-selector]' cookie_name='demdex' bad character range y-s at position 23\n",
      "Error fuzzy name match pref_name='local[footer/product-list]' cookie_name='demdex' bad character range t-l at position 23\n",
      "Error fuzzy name match pref_name='local[footer/country-selector]' cookie_name='demdex' bad character range y-s at position 23\n",
      "Error fuzzy name match pref_name='local[footer/product-list]' cookie_name='demdex' bad character range t-l at position 23\n",
      "Error fuzzy name match pref_name='local[footer/country-selector]' cookie_name='demdex' bad character range y-s at position 23\n",
      "Error fuzzy name match pref_name='local[footer/country-selector]' cookie_name='demdex' bad character range y-s at position 23\n",
      "Error fuzzy name match pref_name='local[footer/product-list]' cookie_name='demdex' bad character range t-l at position 23\n",
      "Error fuzzy name match pref_name='local[footer/product-list]' cookie_name='mmapi.p.bid' bad character range t-l at position 23\n",
      "Error fuzzy name match pref_name='local[footer/country-selector]' cookie_name='mmapi.p.bid' bad character range y-s at position 23\n",
      "Error fuzzy name match pref_name='local[footer/product-list]' cookie_name='mmapi.p.bid' bad character range t-l at position 23\n",
      "Error fuzzy name match pref_name='local[footer/country-selector]' cookie_name='mmapi.p.bid' bad character range y-s at position 23\n",
      "Error fuzzy name match pref_name='local[footer/product-list]' cookie_name='mmapi.p.bid' bad character range t-l at position 23\n",
      "Error fuzzy name match pref_name='local[footer/country-selector]' cookie_name='mmapi.p.bid' bad character range y-s at position 23\n",
      "Error fuzzy name match pref_name='local[footer/country-selector]' cookie_name='mmapi.p.bid' bad character range y-s at position 23\n",
      "Error fuzzy name match pref_name='local[footer/product-list]' cookie_name='country' bad character range t-l at position 23\n",
      "Error fuzzy name match pref_name='local[footer/country-selector]' cookie_name='country' bad character range y-s at position 23\n",
      "Error fuzzy name match pref_name='local[footer/product-list]' cookie_name='country' bad character range t-l at position 23\n",
      "Error fuzzy name match pref_name='local[footer/country-selector]' cookie_name='country' bad character range y-s at position 23\n",
      "Error fuzzy name match pref_name='local[footer/product-list]' cookie_name='country' bad character range t-l at position 23\n",
      "Error fuzzy name match pref_name='local[footer/country-selector]' cookie_name='country' bad character range y-s at position 23\n",
      "Error fuzzy name match pref_name='local[footer/country-selector]' cookie_name='country' bad character range y-s at position 23\n",
      "Error fuzzy name match pref_name='local[footer/product-list]' cookie_name='country' bad character range t-l at position 23\n",
      "Error fuzzy name match pref_name='local[footer/product-list]' cookie_name='mmapi.p.srv' bad character range t-l at position 23\n",
      "Error fuzzy name match pref_name='local[footer/country-selector]' cookie_name='mmapi.p.srv' bad character range y-s at position 23\n",
      "Error fuzzy name match pref_name='local[footer/product-list]' cookie_name='mmapi.p.srv' bad character range t-l at position 23\n",
      "Error fuzzy name match pref_name='local[footer/country-selector]' cookie_name='mmapi.p.srv' bad character range y-s at position 23\n",
      "Error fuzzy name match pref_name='local[footer/product-list]' cookie_name='mmapi.p.srv' bad character range t-l at position 23\n",
      "Error fuzzy name match pref_name='local[footer/country-selector]' cookie_name='mmapi.p.srv' bad character range y-s at position 23\n",
      "Error fuzzy name match pref_name='local[footer/country-selector]' cookie_name='mmapi.p.srv' bad character range y-s at position 23\n",
      "Error fuzzy name match pref_name='local[footer/product-list]' cookie_name='country' bad character range t-l at position 23\n",
      "Error fuzzy name match pref_name='local[footer/country-selector]' cookie_name='country' bad character range y-s at position 23\n",
      "Error fuzzy name match pref_name='local[footer/product-list]' cookie_name='country' bad character range t-l at position 23\n",
      "Error fuzzy name match pref_name='local[footer/country-selector]' cookie_name='country' bad character range y-s at position 23\n",
      "Error fuzzy name match pref_name='local[footer/product-list]' cookie_name='country' bad character range t-l at position 23\n",
      "Error fuzzy name match pref_name='local[footer/product-list]' cookie_name='mmapi.p.pd' bad character range t-l at position 23\n",
      "Error fuzzy name match pref_name='local[footer/country-selector]' cookie_name='mmapi.p.pd' bad character range y-s at position 23\n",
      "Error fuzzy name match pref_name='local[footer/product-list]' cookie_name='mmapi.p.pd' bad character range t-l at position 23\n",
      "Error fuzzy name match pref_name='local[footer/country-selector]' cookie_name='mmapi.p.pd' bad character range y-s at position 23\n",
      "Error fuzzy name match pref_name='local[footer/product-list]' cookie_name='mmapi.p.pd' bad character range t-l at position 23\n",
      "Error fuzzy name match pref_name='local[footer/country-selector]' cookie_name='mmapi.p.pd' bad character range y-s at position 23\n",
      "Error fuzzy name match pref_name='local[footer/country-selector]' cookie_name='mmapi.p.pd' bad character range y-s at position 23\n",
      "Error fuzzy name match pref_name='local[footer/product-list]' cookie_name='AMCV_983502BE532960BE0A490D4C%40AdobeOrg' bad character range t-l at position 23\n",
      "Error fuzzy name match pref_name='local[footer/country-selector]' cookie_name='AMCV_983502BE532960BE0A490D4C%40AdobeOrg' bad character range y-s at position 23\n",
      "Error fuzzy name match pref_name='local[footer/product-list]' cookie_name='AMCV_983502BE532960BE0A490D4C%40AdobeOrg' bad character range t-l at position 23\n",
      "Error fuzzy name match pref_name='local[footer/country-selector]' cookie_name='AMCV_983502BE532960BE0A490D4C%40AdobeOrg' bad character range y-s at position 23\n",
      "Error fuzzy name match pref_name='local[footer/product-list]' cookie_name='AMCV_983502BE532960BE0A490D4C%40AdobeOrg' bad character range t-l at position 23\n",
      "Error fuzzy name match pref_name='local[footer/country-selector]' cookie_name='AMCV_983502BE532960BE0A490D4C%40AdobeOrg' bad character range y-s at position 23\n",
      "Error fuzzy name match pref_name='local[footer/country-selector]' cookie_name='AMCV_983502BE532960BE0A490D4C%40AdobeOrg' bad character range y-s at position 23\n",
      "Error fuzzy name match pref_name='local[footer/product-list]' cookie_name='AMCV_983502BE532960BE0A490D4C%40AdobeOrg' bad character range t-l at position 23\n",
      "Error fuzzy name match pref_name='local[footer/product-list]' cookie_name='mmapi.p.uat' bad character range t-l at position 23\n",
      "Error fuzzy name match pref_name='local[footer/country-selector]' cookie_name='mmapi.p.uat' bad character range y-s at position 23\n",
      "Error fuzzy name match pref_name='local[footer/product-list]' cookie_name='mmapi.p.uat' bad character range t-l at position 23\n",
      "Error fuzzy name match pref_name='local[footer/country-selector]' cookie_name='mmapi.p.uat' bad character range y-s at position 23\n",
      "Error fuzzy name match pref_name='local[footer/product-list]' cookie_name='mmapi.p.uat' bad character range t-l at position 23\n",
      "Error fuzzy name match pref_name='local[footer/country-selector]' cookie_name='mmapi.p.uat' bad character range y-s at position 23\n",
      "Error fuzzy name match pref_name='local[footer/country-selector]' cookie_name='mmapi.p.uat' bad character range y-s at position 23\n",
      "Error fuzzy name match pref_name='local[footer/product-list]' cookie_name='mmapi.NAV_UK_B2C_Serving.NoBounce' bad character range t-l at position 23\n",
      "Error fuzzy name match pref_name='local[footer/country-selector]' cookie_name='mmapi.NAV_UK_B2C_Serving.NoBounce' bad character range y-s at position 23\n",
      "Error fuzzy name match pref_name='local[footer/product-list]' cookie_name='mmapi.NAV_UK_B2C_Serving.NoBounce' bad character range t-l at position 23\n",
      "Error fuzzy name match pref_name='local[footer/country-selector]' cookie_name='mmapi.NAV_UK_B2C_Serving.NoBounce' bad character range y-s at position 23\n",
      "Error fuzzy name match pref_name='local[footer/product-list]' cookie_name='mmapi.NAV_UK_B2C_Serving.NoBounce' bad character range t-l at position 23\n",
      "Error fuzzy name match pref_name='local[footer/country-selector]' cookie_name='mmapi.NAV_UK_B2C_Serving.NoBounce' bad character range y-s at position 23\n",
      "Error fuzzy name match pref_name='local[footer/country-selector]' cookie_name='mmapi.NAV_UK_B2C_Serving.NoBounce' bad character range y-s at position 23\n",
      "Error fuzzy name match pref_name='local[footer/product-list]' cookie_name='CookieConsent' bad character range t-l at position 23\n",
      "Error fuzzy name match pref_name='local[footer/country-selector]' cookie_name='CookieConsent' bad character range y-s at position 23\n",
      "Error fuzzy name match pref_name='local[footer/product-list]' cookie_name='CookieConsent' bad character range t-l at position 23\n",
      "Error fuzzy name match pref_name='local[footer/country-selector]' cookie_name='CookieConsent' bad character range y-s at position 23\n",
      "Error fuzzy name match pref_name='local[footer/product-list]' cookie_name='CookieConsent' bad character range t-l at position 23\n",
      "Error fuzzy name match pref_name='local[footer/country-selector]' cookie_name='CookieConsent' bad character range y-s at position 23\n",
      "Error fuzzy name match pref_name='local[footer/country-selector]' cookie_name='CookieConsent' bad character range y-s at position 23\n",
      "Error fuzzy name match pref_name='local[footer/product-list]' cookie_name='CookieConsent' bad character range t-l at position 23\n",
      "Error fuzzy name match pref_name='local[footer/product-list]' cookie_name='mm_BusinessSeg' bad character range t-l at position 23\n",
      "Error fuzzy name match pref_name='local[footer/country-selector]' cookie_name='mm_BusinessSeg' bad character range y-s at position 23\n",
      "Error fuzzy name match pref_name='local[footer/product-list]' cookie_name='mm_BusinessSeg' bad character range t-l at position 23\n",
      "Error fuzzy name match pref_name='local[footer/country-selector]' cookie_name='mm_BusinessSeg' bad character range y-s at position 23\n",
      "Error fuzzy name match pref_name='local[footer/product-list]' cookie_name='mm_BusinessSeg' bad character range t-l at position 23\n",
      "Error fuzzy name match pref_name='local[footer/product-list]' cookie_name='webserver_id' bad character range t-l at position 23\n",
      "Error fuzzy name match pref_name='local[footer/country-selector]' cookie_name='webserver_id' bad character range y-s at position 23\n",
      "Error fuzzy name match pref_name='local[footer/product-list]' cookie_name='webserver_id' bad character range t-l at position 23\n",
      "Error fuzzy name match pref_name='local[footer/country-selector]' cookie_name='webserver_id' bad character range y-s at position 23\n",
      "Error fuzzy name match pref_name='local[footer/product-list]' cookie_name='webserver_id' bad character range t-l at position 23\n",
      "Error fuzzy name match pref_name='local[footer/country-selector]' cookie_name='webserver_id' bad character range y-s at position 23\n",
      "Error fuzzy name match pref_name='local[footer/country-selector]' cookie_name='webserver_id' bad character range y-s at position 23\n",
      "Error fuzzy name match pref_name='local[footer/product-list]' cookie_name='webserver_id' bad character range t-l at position 23\n"
     ]
    },
    {
     "name": "stderr",
     "output_type": "stream",
     "text": [
      " 48%|████▊     | 2933/6095 [04:41<03:20, 15.74it/s]"
     ]
    },
    {
     "name": "stdout",
     "output_type": "stream",
     "text": [
      "Big cookie pref doughroller.net 4199 skip this site\n"
     ]
    },
    {
     "name": "stderr",
     "output_type": "stream",
     "text": [
      " 83%|████████▎ | 5045/6095 [07:17<01:18, 13.43it/s]"
     ]
    },
    {
     "name": "stdout",
     "output_type": "stream",
     "text": [
      "Error fuzzy name match pref_name='local[footer/country-selector]' cookie_name='country' bad character range y-s at position 23\n",
      "Error fuzzy name match pref_name='local[footer/product-list]' cookie_name='country' bad character range t-l at position 23\n",
      "Error fuzzy name match pref_name='local[footer/product-list]' cookie_name='country' bad character range t-l at position 23\n",
      "Error fuzzy name match pref_name='local[footer/product-list]' cookie_name='country' bad character range t-l at position 23\n",
      "Error fuzzy name match pref_name='local[footer/country-selector]' cookie_name='country' bad character range y-s at position 23\n",
      "Error fuzzy name match pref_name='local[footer/country-selector]' cookie_name='country' bad character range y-s at position 23\n",
      "Error fuzzy name match pref_name='local[footer/country-selector]' cookie_name='webserver_id' bad character range y-s at position 23\n",
      "Error fuzzy name match pref_name='local[footer/product-list]' cookie_name='webserver_id' bad character range t-l at position 23\n",
      "Error fuzzy name match pref_name='local[footer/product-list]' cookie_name='webserver_id' bad character range t-l at position 23\n",
      "Error fuzzy name match pref_name='local[footer/product-list]' cookie_name='webserver_id' bad character range t-l at position 23\n",
      "Error fuzzy name match pref_name='local[footer/country-selector]' cookie_name='webserver_id' bad character range y-s at position 23\n",
      "Error fuzzy name match pref_name='local[footer/country-selector]' cookie_name='webserver_id' bad character range y-s at position 23\n",
      "Error fuzzy name match pref_name='local[footer/country-selector]' cookie_name='country' bad character range y-s at position 23\n",
      "Error fuzzy name match pref_name='local[footer/product-list]' cookie_name='country' bad character range t-l at position 23\n",
      "Error fuzzy name match pref_name='local[footer/product-list]' cookie_name='country' bad character range t-l at position 23\n",
      "Error fuzzy name match pref_name='local[footer/product-list]' cookie_name='country' bad character range t-l at position 23\n",
      "Error fuzzy name match pref_name='local[footer/country-selector]' cookie_name='country' bad character range y-s at position 23\n",
      "Error fuzzy name match pref_name='local[footer/country-selector]' cookie_name='country' bad character range y-s at position 23\n",
      "Error fuzzy name match pref_name='local[footer/country-selector]' cookie_name='_cs_mk' bad character range y-s at position 23\n",
      "Error fuzzy name match pref_name='local[footer/product-list]' cookie_name='_cs_mk' bad character range t-l at position 23\n",
      "Error fuzzy name match pref_name='local[footer/product-list]' cookie_name='_cs_mk' bad character range t-l at position 23\n",
      "Error fuzzy name match pref_name='local[footer/product-list]' cookie_name='_cs_mk' bad character range t-l at position 23\n",
      "Error fuzzy name match pref_name='local[footer/country-selector]' cookie_name='_cs_mk' bad character range y-s at position 23\n",
      "Error fuzzy name match pref_name='local[footer/country-selector]' cookie_name='_cs_mk' bad character range y-s at position 23\n",
      "Error fuzzy name match pref_name='local[footer/country-selector]' cookie_name='_cs_s' bad character range y-s at position 23\n",
      "Error fuzzy name match pref_name='local[footer/product-list]' cookie_name='_cs_s' bad character range t-l at position 23\n",
      "Error fuzzy name match pref_name='local[footer/product-list]' cookie_name='_cs_s' bad character range t-l at position 23\n",
      "Error fuzzy name match pref_name='local[footer/product-list]' cookie_name='_cs_s' bad character range t-l at position 23\n",
      "Error fuzzy name match pref_name='local[footer/country-selector]' cookie_name='_cs_s' bad character range y-s at position 23\n",
      "Error fuzzy name match pref_name='local[footer/country-selector]' cookie_name='_cs_s' bad character range y-s at position 23\n",
      "Error fuzzy name match pref_name='local[footer/country-selector]' cookie_name='AMCV_983502BE532960BE0A490D4C%40AdobeOrg' bad character range y-s at position 23\n",
      "Error fuzzy name match pref_name='local[footer/product-list]' cookie_name='AMCV_983502BE532960BE0A490D4C%40AdobeOrg' bad character range t-l at position 23\n",
      "Error fuzzy name match pref_name='local[footer/product-list]' cookie_name='AMCV_983502BE532960BE0A490D4C%40AdobeOrg' bad character range t-l at position 23\n",
      "Error fuzzy name match pref_name='local[footer/product-list]' cookie_name='AMCV_983502BE532960BE0A490D4C%40AdobeOrg' bad character range t-l at position 23\n",
      "Error fuzzy name match pref_name='local[footer/country-selector]' cookie_name='AMCV_983502BE532960BE0A490D4C%40AdobeOrg' bad character range y-s at position 23\n",
      "Error fuzzy name match pref_name='local[footer/country-selector]' cookie_name='AMCV_983502BE532960BE0A490D4C%40AdobeOrg' bad character range y-s at position 23\n",
      "Error fuzzy name match pref_name='local[footer/country-selector]' cookie_name='_gat_UA-63997723-30' bad character range y-s at position 23\n",
      "Error fuzzy name match pref_name='local[footer/product-list]' cookie_name='_gat_UA-63997723-30' bad character range t-l at position 23\n",
      "Error fuzzy name match pref_name='local[footer/product-list]' cookie_name='_gat_UA-63997723-30' bad character range t-l at position 23\n",
      "Error fuzzy name match pref_name='local[footer/product-list]' cookie_name='_gat_UA-63997723-30' bad character range t-l at position 23\n",
      "Error fuzzy name match pref_name='local[footer/country-selector]' cookie_name='_gat_UA-63997723-30' bad character range y-s at position 23\n",
      "Error fuzzy name match pref_name='local[footer/country-selector]' cookie_name='_gat_UA-63997723-30' bad character range y-s at position 23\n",
      "Error fuzzy name match pref_name='local[footer/country-selector]' cookie_name='_cs_id' bad character range y-s at position 23\n",
      "Error fuzzy name match pref_name='local[footer/product-list]' cookie_name='_cs_id' bad character range t-l at position 23\n",
      "Error fuzzy name match pref_name='local[footer/product-list]' cookie_name='_cs_id' bad character range t-l at position 23\n",
      "Error fuzzy name match pref_name='local[footer/product-list]' cookie_name='_cs_id' bad character range t-l at position 23\n",
      "Error fuzzy name match pref_name='local[footer/country-selector]' cookie_name='_cs_id' bad character range y-s at position 23\n",
      "Error fuzzy name match pref_name='local[footer/country-selector]' cookie_name='_cs_id' bad character range y-s at position 23\n",
      "Error fuzzy name match pref_name='local[footer/country-selector]' cookie_name='AMCVS_983502BE532960BE0A490D4C%40AdobeOrg' bad character range y-s at position 23\n",
      "Error fuzzy name match pref_name='local[footer/product-list]' cookie_name='AMCVS_983502BE532960BE0A490D4C%40AdobeOrg' bad character range t-l at position 23\n",
      "Error fuzzy name match pref_name='local[footer/product-list]' cookie_name='AMCVS_983502BE532960BE0A490D4C%40AdobeOrg' bad character range t-l at position 23\n",
      "Error fuzzy name match pref_name='local[footer/product-list]' cookie_name='AMCVS_983502BE532960BE0A490D4C%40AdobeOrg' bad character range t-l at position 23\n",
      "Error fuzzy name match pref_name='local[footer/country-selector]' cookie_name='AMCVS_983502BE532960BE0A490D4C%40AdobeOrg' bad character range y-s at position 23\n",
      "Error fuzzy name match pref_name='local[footer/country-selector]' cookie_name='AMCVS_983502BE532960BE0A490D4C%40AdobeOrg' bad character range y-s at position 23\n",
      "Error fuzzy name match pref_name='local[footer/country-selector]' cookie_name='demdex' bad character range y-s at position 23\n",
      "Error fuzzy name match pref_name='local[footer/product-list]' cookie_name='demdex' bad character range t-l at position 23\n",
      "Error fuzzy name match pref_name='local[footer/product-list]' cookie_name='demdex' bad character range t-l at position 23\n",
      "Error fuzzy name match pref_name='local[footer/product-list]' cookie_name='demdex' bad character range t-l at position 23\n",
      "Error fuzzy name match pref_name='local[footer/country-selector]' cookie_name='demdex' bad character range y-s at position 23\n",
      "Error fuzzy name match pref_name='local[footer/country-selector]' cookie_name='demdex' bad character range y-s at position 23\n",
      "Error fuzzy name match pref_name='local[footer/country-selector]' cookie_name='_gid' bad character range y-s at position 23\n",
      "Error fuzzy name match pref_name='local[footer/product-list]' cookie_name='_gid' bad character range t-l at position 23\n",
      "Error fuzzy name match pref_name='local[footer/product-list]' cookie_name='_gid' bad character range t-l at position 23\n",
      "Error fuzzy name match pref_name='local[footer/product-list]' cookie_name='_gid' bad character range t-l at position 23\n",
      "Error fuzzy name match pref_name='local[footer/country-selector]' cookie_name='_gid' bad character range y-s at position 23\n",
      "Error fuzzy name match pref_name='local[footer/country-selector]' cookie_name='_gid' bad character range y-s at position 23\n",
      "Error fuzzy name match pref_name='local[footer/country-selector]' cookie_name='_ga' bad character range y-s at position 23\n",
      "Error fuzzy name match pref_name='local[footer/product-list]' cookie_name='_ga' bad character range t-l at position 23\n",
      "Error fuzzy name match pref_name='local[footer/product-list]' cookie_name='_ga' bad character range t-l at position 23\n",
      "Error fuzzy name match pref_name='local[footer/product-list]' cookie_name='_ga' bad character range t-l at position 23\n",
      "Error fuzzy name match pref_name='local[footer/country-selector]' cookie_name='_ga' bad character range y-s at position 23\n",
      "Error fuzzy name match pref_name='local[footer/country-selector]' cookie_name='_ga' bad character range y-s at position 23\n",
      "Error fuzzy name match pref_name='local[footer/country-selector]' cookie_name='s_cc' bad character range y-s at position 23\n",
      "Error fuzzy name match pref_name='local[footer/product-list]' cookie_name='s_cc' bad character range t-l at position 23\n",
      "Error fuzzy name match pref_name='local[footer/product-list]' cookie_name='s_cc' bad character range t-l at position 23\n",
      "Error fuzzy name match pref_name='local[footer/product-list]' cookie_name='s_cc' bad character range t-l at position 23\n",
      "Error fuzzy name match pref_name='local[footer/country-selector]' cookie_name='s_cc' bad character range y-s at position 23\n",
      "Error fuzzy name match pref_name='local[footer/country-selector]' cookie_name='s_cc' bad character range y-s at position 23\n",
      "Error fuzzy name match pref_name='local[footer/country-selector]' cookie_name='webserver_id' bad character range y-s at position 23\n",
      "Error fuzzy name match pref_name='local[footer/country-selector]' cookie_name='mm_BusinessSeg' bad character range y-s at position 23\n",
      "Error fuzzy name match pref_name='local[footer/product-list]' cookie_name='mm_BusinessSeg' bad character range t-l at position 23\n",
      "Error fuzzy name match pref_name='local[footer/country-selector]' cookie_name='webserver_id' bad character range y-s at position 23\n",
      "Error fuzzy name match pref_name='local[footer/product-list]' cookie_name='webserver_id' bad character range t-l at position 23\n",
      "Error fuzzy name match pref_name='local[footer/product-list]' cookie_name='webserver_id' bad character range t-l at position 23\n",
      "Error fuzzy name match pref_name='local[footer/product-list]' cookie_name='webserver_id' bad character range t-l at position 23\n",
      "Error fuzzy name match pref_name='local[footer/country-selector]' cookie_name='webserver_id' bad character range y-s at position 23\n",
      "Error fuzzy name match pref_name='local[footer/country-selector]' cookie_name='webserver_id' bad character range y-s at position 23\n",
      "Error fuzzy name match pref_name='local[footer/country-selector]' cookie_name='country' bad character range y-s at position 23\n",
      "Error fuzzy name match pref_name='local[footer/product-list]' cookie_name='country' bad character range t-l at position 23\n",
      "Error fuzzy name match pref_name='local[footer/product-list]' cookie_name='country' bad character range t-l at position 23\n",
      "Error fuzzy name match pref_name='local[footer/product-list]' cookie_name='country' bad character range t-l at position 23\n",
      "Error fuzzy name match pref_name='local[footer/country-selector]' cookie_name='country' bad character range y-s at position 23\n",
      "Error fuzzy name match pref_name='local[footer/country-selector]' cookie_name='country' bad character range y-s at position 23\n"
     ]
    },
    {
     "name": "stderr",
     "output_type": "stream",
     "text": [
      " 88%|████████▊ | 5363/6095 [07:45<00:48, 15.21it/s]"
     ]
    },
    {
     "name": "stdout",
     "output_type": "stream",
     "text": [
      "Error fuzzy name match pref_name='csrf[frontend.store-api.proxy]' cookie_name='csrf[frontend.store-api.proxy]' bad character range e-a at position 22\n",
      "Error fuzzy name match pref_name='csrf[frontend.customized-products.price-detail-box]' cookie_name='csrf[frontend.store-api.proxy]' bad character range e-d at position 42\n",
      "Error fuzzy name match pref_name='csrf[frontend.customized-products.price-detail-box]' cookie_name='csrf[frontend.store-api.proxy]' bad character range e-d at position 42\n",
      "Error fuzzy name match pref_name='csrf[store-api.zeobv.get-notified.subscribe]' cookie_name='csrf[frontend.store-api.proxy]' bad character range e-a at position 13\n",
      "Error fuzzy name match pref_name='csrf[frontend.store-api.proxy]' cookie_name='csrf[frontend.store-api.proxy]' bad character range e-a at position 22\n",
      "Error fuzzy name match pref_name='csrf[store-api.zeobv.get-notified.subscribe]' cookie_name='csrf[frontend.store-api.proxy]' bad character range e-a at position 13\n",
      "Error fuzzy name match pref_name='csrf[frontend.store-api.proxy]' cookie_name='session-' bad character range e-a at position 22\n",
      "Error fuzzy name match pref_name='csrf[frontend.customized-products.price-detail-box]' cookie_name='session-' bad character range e-d at position 42\n",
      "Error fuzzy name match pref_name='csrf[frontend.customized-products.price-detail-box]' cookie_name='session-' bad character range e-d at position 42\n",
      "Error fuzzy name match pref_name='csrf[store-api.zeobv.get-notified.subscribe]' cookie_name='session-' bad character range e-a at position 13\n",
      "Error fuzzy name match pref_name='csrf[frontend.store-api.proxy]' cookie_name='session-' bad character range e-a at position 22\n",
      "Error fuzzy name match pref_name='csrf[frontend.store-api.proxy]' cookie_name='YSC' bad character range e-a at position 22\n",
      "Error fuzzy name match pref_name='csrf[frontend.customized-products.price-detail-box]' cookie_name='YSC' bad character range e-d at position 42\n",
      "Error fuzzy name match pref_name='csrf[frontend.customized-products.price-detail-box]' cookie_name='YSC' bad character range e-d at position 42\n",
      "Error fuzzy name match pref_name='csrf[store-api.zeobv.get-notified.subscribe]' cookie_name='YSC' bad character range e-a at position 13\n",
      "Error fuzzy name match pref_name='csrf[frontend.store-api.proxy]' cookie_name='YSC' bad character range e-a at position 22\n",
      "Error fuzzy name match pref_name='csrf[store-api.zeobv.get-notified.subscribe]' cookie_name='YSC' bad character range e-a at position 13\n",
      "Error fuzzy name match pref_name='csrf[frontend.store-api.proxy]' cookie_name='bazaar-voice-rating-enabled' bad character range e-a at position 22\n",
      "Error fuzzy name match pref_name='csrf[frontend.customized-products.price-detail-box]' cookie_name='bazaar-voice-rating-enabled' bad character range e-d at position 42\n",
      "Error fuzzy name match pref_name='csrf[frontend.customized-products.price-detail-box]' cookie_name='bazaar-voice-rating-enabled' bad character range e-d at position 42\n",
      "Error fuzzy name match pref_name='csrf[frontend.store-api.proxy]' cookie_name='CookieConsent' bad character range e-a at position 22\n",
      "Error fuzzy name match pref_name='csrf[frontend.customized-products.price-detail-box]' cookie_name='CookieConsent' bad character range e-d at position 42\n",
      "Error fuzzy name match pref_name='csrf[frontend.customized-products.price-detail-box]' cookie_name='CookieConsent' bad character range e-d at position 42\n",
      "Error fuzzy name match pref_name='csrf[store-api.zeobv.get-notified.subscribe]' cookie_name='CookieConsent' bad character range e-a at position 13\n",
      "Error fuzzy name match pref_name='csrf[frontend.store-api.proxy]' cookie_name='CookieConsent' bad character range e-a at position 22\n",
      "Error fuzzy name match pref_name='csrf[store-api.zeobv.get-notified.subscribe]' cookie_name='CookieConsent' bad character range e-a at position 13\n",
      "Error fuzzy name match pref_name='csrf[frontend.store-api.proxy]' cookie_name='csrf[frontend.country]' bad character range e-a at position 22\n",
      "Error fuzzy name match pref_name='csrf[frontend.customized-products.price-detail-box]' cookie_name='csrf[frontend.country]' bad character range e-d at position 42\n",
      "Error fuzzy name match pref_name='csrf[frontend.customized-products.price-detail-box]' cookie_name='csrf[frontend.country]' bad character range e-d at position 42\n",
      "Error fuzzy name match pref_name='csrf[store-api.zeobv.get-notified.subscribe]' cookie_name='csrf[frontend.country]' bad character range e-a at position 13\n",
      "Error fuzzy name match pref_name='csrf[frontend.store-api.proxy]' cookie_name='csrf[frontend.country]' bad character range e-a at position 22\n",
      "Error fuzzy name match pref_name='csrf[store-api.zeobv.get-notified.subscribe]' cookie_name='csrf[frontend.country]' bad character range e-a at position 13\n",
      "Error fuzzy name match pref_name='csrf[frontend.store-api.proxy]' cookie_name='timezone' bad character range e-a at position 22\n",
      "Error fuzzy name match pref_name='csrf[frontend.customized-products.price-detail-box]' cookie_name='timezone' bad character range e-d at position 42\n",
      "Error fuzzy name match pref_name='csrf[frontend.customized-products.price-detail-box]' cookie_name='timezone' bad character range e-d at position 42\n",
      "Error fuzzy name match pref_name='csrf[store-api.zeobv.get-notified.subscribe]' cookie_name='timezone' bad character range e-a at position 13\n",
      "Error fuzzy name match pref_name='csrf[frontend.store-api.proxy]' cookie_name='VISITOR_INFO1_LIVE' bad character range e-a at position 22\n",
      "Error fuzzy name match pref_name='csrf[frontend.customized-products.price-detail-box]' cookie_name='VISITOR_INFO1_LIVE' bad character range e-d at position 42\n",
      "Error fuzzy name match pref_name='csrf[frontend.customized-products.price-detail-box]' cookie_name='VISITOR_INFO1_LIVE' bad character range e-d at position 42\n",
      "Error fuzzy name match pref_name='csrf[store-api.zeobv.get-notified.subscribe]' cookie_name='VISITOR_INFO1_LIVE' bad character range e-a at position 13\n",
      "Error fuzzy name match pref_name='csrf[frontend.store-api.proxy]' cookie_name='VISITOR_INFO1_LIVE' bad character range e-a at position 22\n",
      "Error fuzzy name match pref_name='csrf[store-api.zeobv.get-notified.subscribe]' cookie_name='VISITOR_INFO1_LIVE' bad character range e-a at position 13\n"
     ]
    },
    {
     "name": "stderr",
     "output_type": "stream",
     "text": [
      " 89%|████████▉ | 5427/6095 [07:50<00:45, 14.68it/s]"
     ]
    },
    {
     "name": "stdout",
     "output_type": "stream",
     "text": [
      "Error fuzzy name match pref_name='csrf[frontend.swag.cms-extensions.form.send]' cookie_name='countrySwitchCountry' bad character range s-e at position 25\n",
      "Error fuzzy name match pref_name='csrf[frontend.swag.cms-extensions.form.send]' cookie_name='countrySwitchLang' bad character range s-e at position 25\n",
      "Error fuzzy name match pref_name='csrf[frontend.swag.cms-extensions.form.send]' cookie_name='CookieConsent' bad character range s-e at position 25\n",
      "Error fuzzy name match pref_name='csrf[frontend.swag.cms-extensions.form.send]' cookie_name='CookieConsent' bad character range s-e at position 25\n",
      "Error fuzzy name match pref_name='csrf[frontend.store-api.proxy]' cookie_name='CookieConsent' bad character range e-a at position 22\n",
      "Error fuzzy name match pref_name='csrf[frontend.swag.cms-extensions.form.send]' cookie_name='SERVERID' bad character range s-e at position 25\n"
     ]
    },
    {
     "name": "stderr",
     "output_type": "stream",
     "text": [
      " 90%|████████▉ | 5469/6095 [07:52<00:41, 15.25it/s]"
     ]
    },
    {
     "name": "stdout",
     "output_type": "stream",
     "text": [
      "Big cookie pref agjeans.com 9177 skip this site\n"
     ]
    },
    {
     "name": "stderr",
     "output_type": "stream",
     "text": [
      " 98%|█████████▊| 5979/6095 [08:36<00:08, 13.40it/s]"
     ]
    },
    {
     "name": "stdout",
     "output_type": "stream",
     "text": [
      "Error fuzzy name match pref_name='local[footer/product-list]' cookie_name='_cs_mk' bad character range t-l at position 23\n",
      "Error fuzzy name match pref_name='local[footer/country-selector]' cookie_name='_cs_mk' bad character range y-s at position 23\n",
      "Error fuzzy name match pref_name='local[footer/product-list]' cookie_name='_cs_mk' bad character range t-l at position 23\n",
      "Error fuzzy name match pref_name='local[footer/country-selector]' cookie_name='_cs_mk' bad character range y-s at position 23\n",
      "Error fuzzy name match pref_name='local[footer/product-list]' cookie_name='_cs_mk' bad character range t-l at position 23\n",
      "Error fuzzy name match pref_name='local[footer/country-selector]' cookie_name='_cs_mk' bad character range y-s at position 23\n",
      "Error fuzzy name match pref_name='local[footer/country-selector]' cookie_name='_cs_mk' bad character range y-s at position 23\n",
      "Error fuzzy name match pref_name='local[footer/product-list]' cookie_name='_cs_mk' bad character range t-l at position 23\n",
      "Error fuzzy name match pref_name='local[footer/product-list]' cookie_name='country' bad character range t-l at position 23\n",
      "Error fuzzy name match pref_name='local[footer/country-selector]' cookie_name='country' bad character range y-s at position 23\n",
      "Error fuzzy name match pref_name='local[footer/product-list]' cookie_name='country' bad character range t-l at position 23\n",
      "Error fuzzy name match pref_name='local[footer/country-selector]' cookie_name='country' bad character range y-s at position 23\n",
      "Error fuzzy name match pref_name='local[footer/product-list]' cookie_name='country' bad character range t-l at position 23\n",
      "Error fuzzy name match pref_name='local[footer/product-list]' cookie_name='s_cc' bad character range t-l at position 23\n",
      "Error fuzzy name match pref_name='local[footer/country-selector]' cookie_name='s_cc' bad character range y-s at position 23\n",
      "Error fuzzy name match pref_name='local[footer/product-list]' cookie_name='s_cc' bad character range t-l at position 23\n",
      "Error fuzzy name match pref_name='local[footer/country-selector]' cookie_name='s_cc' bad character range y-s at position 23\n",
      "Error fuzzy name match pref_name='local[footer/product-list]' cookie_name='s_cc' bad character range t-l at position 23\n",
      "Error fuzzy name match pref_name='local[footer/country-selector]' cookie_name='s_cc' bad character range y-s at position 23\n",
      "Error fuzzy name match pref_name='local[footer/country-selector]' cookie_name='s_cc' bad character range y-s at position 23\n",
      "Error fuzzy name match pref_name='local[footer/product-list]' cookie_name='s_cc' bad character range t-l at position 23\n",
      "Error fuzzy name match pref_name='local[footer/product-list]' cookie_name='mm_BusinessSeg' bad character range t-l at position 23\n",
      "Error fuzzy name match pref_name='local[footer/country-selector]' cookie_name='mm_BusinessSeg' bad character range y-s at position 23\n",
      "Error fuzzy name match pref_name='local[footer/product-list]' cookie_name='mm_BusinessSeg' bad character range t-l at position 23\n",
      "Error fuzzy name match pref_name='local[footer/country-selector]' cookie_name='mm_BusinessSeg' bad character range y-s at position 23\n",
      "Error fuzzy name match pref_name='local[footer/product-list]' cookie_name='mm_BusinessSeg' bad character range t-l at position 23\n",
      "Error fuzzy name match pref_name='local[footer/product-list]' cookie_name='mmapi.p.uat' bad character range t-l at position 23\n",
      "Error fuzzy name match pref_name='local[footer/country-selector]' cookie_name='mmapi.p.uat' bad character range y-s at position 23\n",
      "Error fuzzy name match pref_name='local[footer/product-list]' cookie_name='mmapi.p.uat' bad character range t-l at position 23\n",
      "Error fuzzy name match pref_name='local[footer/country-selector]' cookie_name='mmapi.p.uat' bad character range y-s at position 23\n",
      "Error fuzzy name match pref_name='local[footer/product-list]' cookie_name='mmapi.p.uat' bad character range t-l at position 23\n",
      "Error fuzzy name match pref_name='local[footer/country-selector]' cookie_name='mmapi.p.uat' bad character range y-s at position 23\n",
      "Error fuzzy name match pref_name='local[footer/country-selector]' cookie_name='mmapi.p.uat' bad character range y-s at position 23\n",
      "Error fuzzy name match pref_name='local[footer/product-list]' cookie_name='AMCVS_983502BE532960BE0A490D4C%40AdobeOrg' bad character range t-l at position 23\n",
      "Error fuzzy name match pref_name='local[footer/country-selector]' cookie_name='AMCVS_983502BE532960BE0A490D4C%40AdobeOrg' bad character range y-s at position 23\n",
      "Error fuzzy name match pref_name='local[footer/product-list]' cookie_name='AMCVS_983502BE532960BE0A490D4C%40AdobeOrg' bad character range t-l at position 23\n",
      "Error fuzzy name match pref_name='local[footer/country-selector]' cookie_name='AMCVS_983502BE532960BE0A490D4C%40AdobeOrg' bad character range y-s at position 23\n",
      "Error fuzzy name match pref_name='local[footer/product-list]' cookie_name='AMCVS_983502BE532960BE0A490D4C%40AdobeOrg' bad character range t-l at position 23\n",
      "Error fuzzy name match pref_name='local[footer/country-selector]' cookie_name='AMCVS_983502BE532960BE0A490D4C%40AdobeOrg' bad character range y-s at position 23\n",
      "Error fuzzy name match pref_name='local[footer/country-selector]' cookie_name='AMCVS_983502BE532960BE0A490D4C%40AdobeOrg' bad character range y-s at position 23\n",
      "Error fuzzy name match pref_name='local[footer/product-list]' cookie_name='AMCVS_983502BE532960BE0A490D4C%40AdobeOrg' bad character range t-l at position 23\n",
      "Error fuzzy name match pref_name='local[footer/product-list]' cookie_name='webserver_id' bad character range t-l at position 23\n",
      "Error fuzzy name match pref_name='local[footer/country-selector]' cookie_name='webserver_id' bad character range y-s at position 23\n",
      "Error fuzzy name match pref_name='local[footer/product-list]' cookie_name='webserver_id' bad character range t-l at position 23\n",
      "Error fuzzy name match pref_name='local[footer/country-selector]' cookie_name='webserver_id' bad character range y-s at position 23\n",
      "Error fuzzy name match pref_name='local[footer/product-list]' cookie_name='webserver_id' bad character range t-l at position 23\n",
      "Error fuzzy name match pref_name='local[footer/country-selector]' cookie_name='webserver_id' bad character range y-s at position 23\n",
      "Error fuzzy name match pref_name='local[footer/country-selector]' cookie_name='webserver_id' bad character range y-s at position 23\n",
      "Error fuzzy name match pref_name='local[footer/product-list]' cookie_name='mmapi.p.pd' bad character range t-l at position 23\n",
      "Error fuzzy name match pref_name='local[footer/country-selector]' cookie_name='mmapi.p.pd' bad character range y-s at position 23\n",
      "Error fuzzy name match pref_name='local[footer/product-list]' cookie_name='mmapi.p.pd' bad character range t-l at position 23\n",
      "Error fuzzy name match pref_name='local[footer/country-selector]' cookie_name='mmapi.p.pd' bad character range y-s at position 23\n",
      "Error fuzzy name match pref_name='local[footer/product-list]' cookie_name='mmapi.p.pd' bad character range t-l at position 23\n",
      "Error fuzzy name match pref_name='local[footer/country-selector]' cookie_name='mmapi.p.pd' bad character range y-s at position 23\n",
      "Error fuzzy name match pref_name='local[footer/country-selector]' cookie_name='mmapi.p.pd' bad character range y-s at position 23\n",
      "Error fuzzy name match pref_name='local[footer/product-list]' cookie_name='mmapi.p.srv' bad character range t-l at position 23\n",
      "Error fuzzy name match pref_name='local[footer/country-selector]' cookie_name='mmapi.p.srv' bad character range y-s at position 23\n",
      "Error fuzzy name match pref_name='local[footer/product-list]' cookie_name='mmapi.p.srv' bad character range t-l at position 23\n",
      "Error fuzzy name match pref_name='local[footer/country-selector]' cookie_name='mmapi.p.srv' bad character range y-s at position 23\n",
      "Error fuzzy name match pref_name='local[footer/product-list]' cookie_name='mmapi.p.srv' bad character range t-l at position 23\n",
      "Error fuzzy name match pref_name='local[footer/country-selector]' cookie_name='mmapi.p.srv' bad character range y-s at position 23\n",
      "Error fuzzy name match pref_name='local[footer/country-selector]' cookie_name='mmapi.p.srv' bad character range y-s at position 23\n",
      "Error fuzzy name match pref_name='local[footer/product-list]' cookie_name='demdex' bad character range t-l at position 23\n",
      "Error fuzzy name match pref_name='local[footer/country-selector]' cookie_name='demdex' bad character range y-s at position 23\n",
      "Error fuzzy name match pref_name='local[footer/product-list]' cookie_name='demdex' bad character range t-l at position 23\n",
      "Error fuzzy name match pref_name='local[footer/country-selector]' cookie_name='demdex' bad character range y-s at position 23\n",
      "Error fuzzy name match pref_name='local[footer/product-list]' cookie_name='demdex' bad character range t-l at position 23\n",
      "Error fuzzy name match pref_name='local[footer/country-selector]' cookie_name='demdex' bad character range y-s at position 23\n",
      "Error fuzzy name match pref_name='local[footer/country-selector]' cookie_name='demdex' bad character range y-s at position 23\n",
      "Error fuzzy name match pref_name='local[footer/product-list]' cookie_name='demdex' bad character range t-l at position 23\n",
      "Error fuzzy name match pref_name='local[footer/product-list]' cookie_name='mmapi.NAV_UK_B2C_Serving.NoBounce' bad character range t-l at position 23\n",
      "Error fuzzy name match pref_name='local[footer/country-selector]' cookie_name='mmapi.NAV_UK_B2C_Serving.NoBounce' bad character range y-s at position 23\n",
      "Error fuzzy name match pref_name='local[footer/product-list]' cookie_name='mmapi.NAV_UK_B2C_Serving.NoBounce' bad character range t-l at position 23\n",
      "Error fuzzy name match pref_name='local[footer/country-selector]' cookie_name='mmapi.NAV_UK_B2C_Serving.NoBounce' bad character range y-s at position 23\n",
      "Error fuzzy name match pref_name='local[footer/product-list]' cookie_name='mmapi.NAV_UK_B2C_Serving.NoBounce' bad character range t-l at position 23\n",
      "Error fuzzy name match pref_name='local[footer/country-selector]' cookie_name='mmapi.NAV_UK_B2C_Serving.NoBounce' bad character range y-s at position 23\n",
      "Error fuzzy name match pref_name='local[footer/country-selector]' cookie_name='mmapi.NAV_UK_B2C_Serving.NoBounce' bad character range y-s at position 23\n",
      "Error fuzzy name match pref_name='local[footer/product-list]' cookie_name='mmapi.p.bid' bad character range t-l at position 23\n",
      "Error fuzzy name match pref_name='local[footer/country-selector]' cookie_name='mmapi.p.bid' bad character range y-s at position 23\n",
      "Error fuzzy name match pref_name='local[footer/product-list]' cookie_name='mmapi.p.bid' bad character range t-l at position 23\n",
      "Error fuzzy name match pref_name='local[footer/country-selector]' cookie_name='mmapi.p.bid' bad character range y-s at position 23\n",
      "Error fuzzy name match pref_name='local[footer/product-list]' cookie_name='mmapi.p.bid' bad character range t-l at position 23\n",
      "Error fuzzy name match pref_name='local[footer/country-selector]' cookie_name='mmapi.p.bid' bad character range y-s at position 23\n",
      "Error fuzzy name match pref_name='local[footer/country-selector]' cookie_name='mmapi.p.bid' bad character range y-s at position 23\n",
      "Error fuzzy name match pref_name='local[footer/product-list]' cookie_name='CookieConsent' bad character range t-l at position 23\n",
      "Error fuzzy name match pref_name='local[footer/country-selector]' cookie_name='CookieConsent' bad character range y-s at position 23\n",
      "Error fuzzy name match pref_name='local[footer/product-list]' cookie_name='CookieConsent' bad character range t-l at position 23\n",
      "Error fuzzy name match pref_name='local[footer/country-selector]' cookie_name='CookieConsent' bad character range y-s at position 23\n",
      "Error fuzzy name match pref_name='local[footer/product-list]' cookie_name='CookieConsent' bad character range t-l at position 23\n",
      "Error fuzzy name match pref_name='local[footer/country-selector]' cookie_name='CookieConsent' bad character range y-s at position 23\n",
      "Error fuzzy name match pref_name='local[footer/country-selector]' cookie_name='CookieConsent' bad character range y-s at position 23\n",
      "Error fuzzy name match pref_name='local[footer/product-list]' cookie_name='CookieConsent' bad character range t-l at position 23\n",
      "Error fuzzy name match pref_name='local[footer/product-list]' cookie_name='AMCV_983502BE532960BE0A490D4C%40AdobeOrg' bad character range t-l at position 23\n",
      "Error fuzzy name match pref_name='local[footer/country-selector]' cookie_name='AMCV_983502BE532960BE0A490D4C%40AdobeOrg' bad character range y-s at position 23\n",
      "Error fuzzy name match pref_name='local[footer/product-list]' cookie_name='AMCV_983502BE532960BE0A490D4C%40AdobeOrg' bad character range t-l at position 23\n",
      "Error fuzzy name match pref_name='local[footer/country-selector]' cookie_name='AMCV_983502BE532960BE0A490D4C%40AdobeOrg' bad character range y-s at position 23\n",
      "Error fuzzy name match pref_name='local[footer/product-list]' cookie_name='AMCV_983502BE532960BE0A490D4C%40AdobeOrg' bad character range t-l at position 23\n",
      "Error fuzzy name match pref_name='local[footer/country-selector]' cookie_name='AMCV_983502BE532960BE0A490D4C%40AdobeOrg' bad character range y-s at position 23\n",
      "Error fuzzy name match pref_name='local[footer/country-selector]' cookie_name='AMCV_983502BE532960BE0A490D4C%40AdobeOrg' bad character range y-s at position 23\n",
      "Error fuzzy name match pref_name='local[footer/product-list]' cookie_name='AMCV_983502BE532960BE0A490D4C%40AdobeOrg' bad character range t-l at position 23\n",
      "Error fuzzy name match pref_name='local[footer/product-list]' cookie_name='country' bad character range t-l at position 23\n",
      "Error fuzzy name match pref_name='local[footer/country-selector]' cookie_name='country' bad character range y-s at position 23\n",
      "Error fuzzy name match pref_name='local[footer/product-list]' cookie_name='country' bad character range t-l at position 23\n",
      "Error fuzzy name match pref_name='local[footer/country-selector]' cookie_name='country' bad character range y-s at position 23\n",
      "Error fuzzy name match pref_name='local[footer/product-list]' cookie_name='country' bad character range t-l at position 23\n",
      "Error fuzzy name match pref_name='local[footer/product-list]' cookie_name='webserver_id' bad character range t-l at position 23\n",
      "Error fuzzy name match pref_name='local[footer/country-selector]' cookie_name='webserver_id' bad character range y-s at position 23\n",
      "Error fuzzy name match pref_name='local[footer/product-list]' cookie_name='webserver_id' bad character range t-l at position 23\n",
      "Error fuzzy name match pref_name='local[footer/country-selector]' cookie_name='webserver_id' bad character range y-s at position 23\n",
      "Error fuzzy name match pref_name='local[footer/product-list]' cookie_name='webserver_id' bad character range t-l at position 23\n",
      "Error fuzzy name match pref_name='local[footer/country-selector]' cookie_name='webserver_id' bad character range y-s at position 23\n",
      "Error fuzzy name match pref_name='local[footer/country-selector]' cookie_name='webserver_id' bad character range y-s at position 23\n",
      "Error fuzzy name match pref_name='local[footer/product-list]' cookie_name='webserver_id' bad character range t-l at position 23\n"
     ]
    },
    {
     "name": "stderr",
     "output_type": "stream",
     "text": [
      "100%|█████████▉| 6088/6095 [08:43<00:00, 11.63it/s]\n"
     ]
    },
    {
     "data": {
      "text/html": [
       "<div>\n",
       "<style scoped>\n",
       "    .dataframe tbody tr th:only-of-type {\n",
       "        vertical-align: middle;\n",
       "    }\n",
       "\n",
       "    .dataframe tbody tr th {\n",
       "        vertical-align: top;\n",
       "    }\n",
       "\n",
       "    .dataframe thead th {\n",
       "        text-align: right;\n",
       "    }\n",
       "</style>\n",
       "<table border=\"1\" class=\"dataframe\">\n",
       "  <thead>\n",
       "    <tr style=\"text-align: right;\">\n",
       "      <th></th>\n",
       "      <th>name</th>\n",
       "      <th>domain</th>\n",
       "      <th>path</th>\n",
       "      <th>site</th>\n",
       "      <th>comply</th>\n",
       "    </tr>\n",
       "  </thead>\n",
       "  <tbody>\n",
       "    <tr>\n",
       "      <th>0</th>\n",
       "      <td>OptanonAlertBoxClosed</td>\n",
       "      <td>.www.wework.com</td>\n",
       "      <td>/</td>\n",
       "      <td>wework.com</td>\n",
       "      <td>comply</td>\n",
       "    </tr>\n",
       "    <tr>\n",
       "      <th>1</th>\n",
       "      <td>ajs_user_id</td>\n",
       "      <td>.wework.com</td>\n",
       "      <td>/</td>\n",
       "      <td>wework.com</td>\n",
       "      <td>incorrect</td>\n",
       "    </tr>\n",
       "    <tr>\n",
       "      <th>2</th>\n",
       "      <td>we_referring_domain</td>\n",
       "      <td>www.wework.com</td>\n",
       "      <td>/</td>\n",
       "      <td>wework.com</td>\n",
       "      <td>comply</td>\n",
       "    </tr>\n",
       "    <tr>\n",
       "      <th>3</th>\n",
       "      <td>OptanonConsent</td>\n",
       "      <td>.www.wework.com</td>\n",
       "      <td>/</td>\n",
       "      <td>wework.com</td>\n",
       "      <td>comply</td>\n",
       "    </tr>\n",
       "    <tr>\n",
       "      <th>4</th>\n",
       "      <td>__we_bucket_id</td>\n",
       "      <td>www.wework.com</td>\n",
       "      <td>/</td>\n",
       "      <td>wework.com</td>\n",
       "      <td>comply</td>\n",
       "    </tr>\n",
       "  </tbody>\n",
       "</table>\n",
       "</div>"
      ],
      "text/plain": [
       "                    name           domain path        site     comply\n",
       "0  OptanonAlertBoxClosed  .www.wework.com    /  wework.com     comply\n",
       "1            ajs_user_id      .wework.com    /  wework.com  incorrect\n",
       "2    we_referring_domain   www.wework.com    /  wework.com     comply\n",
       "3         OptanonConsent  .www.wework.com    /  wework.com     comply\n",
       "4         __we_bucket_id   www.wework.com    /  wework.com     comply"
      ]
     },
     "execution_count": 12,
     "metadata": {},
     "output_type": "execute_result"
    }
   ],
   "source": [
    "import sys; import importlib; importlib.reload(sys.modules['consent.consistency.comply_util'])\n",
    "from consent.consistency.comply_util import get_comply\n",
    "\n",
    "print(\"faster: for cookie_pref in cookie_pref_set[cookie_pref_set.name == acookie['name']]:\")\n",
    "all_complies = get_comply(cookie_prefs, prj_sent_cookies)\n",
    "all_complies.head()"
   ]
  },
  {
   "cell_type": "code",
   "execution_count": 13,
   "metadata": {},
   "outputs": [
    {
     "data": {
      "text/html": [
       "<div>\n",
       "<style scoped>\n",
       "    .dataframe tbody tr th:only-of-type {\n",
       "        vertical-align: middle;\n",
       "    }\n",
       "\n",
       "    .dataframe tbody tr th {\n",
       "        vertical-align: top;\n",
       "    }\n",
       "\n",
       "    .dataframe thead th {\n",
       "        text-align: right;\n",
       "    }\n",
       "</style>\n",
       "<table border=\"1\" class=\"dataframe\">\n",
       "  <thead>\n",
       "    <tr style=\"text-align: right;\">\n",
       "      <th></th>\n",
       "      <th>comply_type</th>\n",
       "      <th>num_sites</th>\n",
       "      <th>num_sites_percent</th>\n",
       "      <th>num_cookies</th>\n",
       "      <th>num_cookies_percent</th>\n",
       "      <th>num_cookies_per_site</th>\n",
       "    </tr>\n",
       "  </thead>\n",
       "  <tbody>\n",
       "    <tr>\n",
       "      <th>3</th>\n",
       "      <td>omit</td>\n",
       "      <td>5144</td>\n",
       "      <td>85.024793</td>\n",
       "      <td>52804</td>\n",
       "      <td>42.300729</td>\n",
       "      <td>10.265163</td>\n",
       "    </tr>\n",
       "    <tr>\n",
       "      <th>2</th>\n",
       "      <td>incorrect</td>\n",
       "      <td>4973</td>\n",
       "      <td>82.198347</td>\n",
       "      <td>43697</td>\n",
       "      <td>35.005207</td>\n",
       "      <td>8.786849</td>\n",
       "    </tr>\n",
       "    <tr>\n",
       "      <th>0</th>\n",
       "      <td>ambiguous</td>\n",
       "      <td>254</td>\n",
       "      <td>4.198347</td>\n",
       "      <td>398</td>\n",
       "      <td>0.318834</td>\n",
       "      <td>1.566929</td>\n",
       "    </tr>\n",
       "  </tbody>\n",
       "</table>\n",
       "</div>"
      ],
      "text/plain": [
       "  comply_type  num_sites  num_sites_percent  num_cookies  num_cookies_percent  \\\n",
       "3        omit       5144          85.024793        52804            42.300729   \n",
       "2   incorrect       4973          82.198347        43697            35.005207   \n",
       "0   ambiguous        254           4.198347          398             0.318834   \n",
       "\n",
       "   num_cookies_per_site  \n",
       "3             10.265163  \n",
       "2              8.786849  \n",
       "0              1.566929  "
      ]
     },
     "execution_count": 13,
     "metadata": {},
     "output_type": "execute_result"
    }
   ],
   "source": [
    "# Analyze complies here\n",
    "complies = all_complies[['name', 'domain', 'path', 'site', 'comply']].drop_duplicates()\n",
    "comply_sites_data = defaultdict(list)\n",
    "for comply_type, comply_group in complies.groupby('comply'):\n",
    "    n_sites = comply_group.site.nunique()\n",
    "    comply_sites_data['comply_type'].append(comply_type)\n",
    "    comply_sites_data['num_sites'].append(n_sites)\n",
    "    comply_sites = pd.DataFrame(comply_sites_data).sort_values(by=['num_sites'], ascending=False)\n",
    "    \n",
    "nsites = all_complies.site.nunique()\n",
    "comply_counts = complies.comply.value_counts()\n",
    "comply_sites['num_sites_percent'] = comply_sites['num_sites'] / nsites * 100\n",
    "comply_sites['num_cookies'] = comply_sites['comply_type'].map(comply_counts)\n",
    "comply_sites['num_cookies_percent'] = comply_sites['num_cookies'] / comply_sites['num_cookies'].sum() * 100  # need to read scan_*.parquet for n_br_cookies, but may be unnecessary\n",
    "comply_sites['num_cookies_per_site'] = comply_sites['num_cookies'] / comply_sites['num_sites'] \n",
    "\n",
    "# Do not count comply/correct enforcement: which require detecting all possible\n",
    "comply_sites = comply_sites[comply_sites.comply_type != 'comply']\n",
    "comply_sites"
   ]
  },
  {
   "cell_type": "code",
   "execution_count": 14,
   "metadata": {},
   "outputs": [
    {
     "name": "stdout",
     "output_type": "stream",
     "text": [
      "Written 124,830 records of all_complies to /mnt/sda/ducbui/Dropbox/Dropbox (University of Michigan)/projects/data_sync/consent/2022-05-30/all_complies_0k_200k.parquet\n"
     ]
    }
   ],
   "source": [
    "# Record the analysis results\n",
    "all_complies_file = SCAN_ROOT_DIR / f'all_complies{output_suffix}.parquet'\n",
    "all_complies.to_parquet(all_complies_file); print(f\"Written {len(all_complies):,d} records of all_complies to {all_complies_file}\")"
   ]
  },
  {
   "cell_type": "code",
   "execution_count": 21,
   "metadata": {},
   "outputs": [
    {
     "ename": "StopExecution",
     "evalue": "",
     "output_type": "error",
     "traceback": []
    }
   ],
   "source": [
    "class StopExecution(Exception):\n",
    "    def _render_traceback_(self):\n",
    "        pass\n",
    "\n",
    "raise StopExecution"
   ]
  },
  {
   "cell_type": "code",
   "execution_count": null,
   "metadata": {},
   "outputs": [
    {
     "data": {
      "text/plain": [
       "array(['comply', 'omit', 'incorrect', 'ambiguous'], dtype=object)"
      ]
     },
     "execution_count": 15,
     "metadata": {},
     "output_type": "execute_result"
    }
   ],
   "source": [
    "complies.comply"
   ]
  },
  {
   "cell_type": "code",
   "execution_count": null,
   "metadata": {},
   "outputs": [
    {
     "data": {
      "text/plain": [
       "542"
      ]
     },
     "execution_count": 14,
     "metadata": {},
     "output_type": "execute_result"
    }
   ],
   "source": [
    "nsites = all_complies.site.nunique(); nsites\n",
    "# all_complies.site.unique()"
   ]
  },
  {
   "cell_type": "code",
   "execution_count": null,
   "metadata": {},
   "outputs": [
    {
     "data": {
      "text/plain": [
       "56"
      ]
     },
     "execution_count": 15,
     "metadata": {},
     "output_type": "execute_result"
    }
   ],
   "source": [
    "detected_contra_sites = [s for s, contras in site_to_contras.items() if len(contras) > 0]; len(detected_contra_sites)"
   ]
  },
  {
   "cell_type": "code",
   "execution_count": null,
   "metadata": {},
   "outputs": [
    {
     "data": {
      "text/plain": [
       "omit         4238\n",
       "incorrect    3436\n",
       "comply       2587\n",
       "ambiguous      23\n",
       "Name: comply, dtype: int64"
      ]
     },
     "execution_count": 16,
     "metadata": {},
     "output_type": "execute_result"
    }
   ],
   "source": [
    "complies = all_complies[ ['name', 'domain', 'site', 'comply',]].drop_duplicates()\n",
    "comply_counts = complies.comply.value_counts()\n",
    "comply_counts"
   ]
  },
  {
   "cell_type": "code",
   "execution_count": null,
   "metadata": {},
   "outputs": [
    {
     "name": "stdout",
     "output_type": "stream",
     "text": [
      "Num captured sent cookies: 1,118,195\n",
      "Num unique captured cookies: 598,285\n",
      "Num unique browser cookies: 22,396 on 542 websites\n"
     ]
    }
   ],
   "source": [
    "complies_sites = set(all_complies.site)\n",
    "sent_cookies_com = sent_cookies[sent_cookies.site.isin(complies_sites)]\n",
    "prj_sent_cookies_com = sent_cookies_com[['domain', 'expires', 'name', 'path', 'sameSite', 'secure', 'value', 'request_url', 'site']].drop_duplicates()\n",
    "prj_br_cookies_com = prj_sent_cookies_com[['domain', 'expires', 'name', 'path', 'sameSite', 'secure', 'site']].drop_duplicates()\n",
    "print(f\"Num captured sent cookies: {len(sent_cookies_com):,d}\")\n",
    "print(f\"Num unique captured cookies: {len(prj_sent_cookies_com):,d}\")\n",
    "\n",
    "n_br_cookies_com = len(prj_br_cookies_com)\n",
    "print(f\"Num unique browser cookies: {n_br_cookies_com:,d} on {prj_br_cookies_com.site.nunique():,d} websites\") # and {sent_cookies.page_url.nunique():,d} pages\")"
   ]
  },
  {
   "cell_type": "code",
   "execution_count": null,
   "metadata": {},
   "outputs": [],
   "source": []
  },
  {
   "cell_type": "markdown",
   "metadata": {},
   "source": [
    "# Analyze contras"
   ]
  },
  {
   "cell_type": "code",
   "execution_count": null,
   "metadata": {},
   "outputs": [
    {
     "data": {
      "text/html": [
       "<div>\n",
       "<style scoped>\n",
       "    .dataframe tbody tr th:only-of-type {\n",
       "        vertical-align: middle;\n",
       "    }\n",
       "\n",
       "    .dataframe tbody tr th {\n",
       "        vertical-align: top;\n",
       "    }\n",
       "\n",
       "    .dataframe thead th {\n",
       "        text-align: right;\n",
       "    }\n",
       "</style>\n",
       "<table border=\"1\" class=\"dataframe\">\n",
       "  <thead>\n",
       "    <tr style=\"text-align: right;\">\n",
       "      <th></th>\n",
       "      <th>domain</th>\n",
       "      <th>name</th>\n",
       "      <th>site</th>\n",
       "    </tr>\n",
       "  </thead>\n",
       "  <tbody>\n",
       "    <tr>\n",
       "      <th>0</th>\n",
       "      <td>beacon.riskified.com</td>\n",
       "      <td>rCookie</td>\n",
       "      <td>benetton.com</td>\n",
       "    </tr>\n",
       "    <tr>\n",
       "      <th>1</th>\n",
       "      <td>communities.vmware.com</td>\n",
       "      <td>VISITOR_BEACON</td>\n",
       "      <td>workspaceoneaccess.com</td>\n",
       "    </tr>\n",
       "    <tr>\n",
       "      <th>2</th>\n",
       "      <td>communities.vmware.com</td>\n",
       "      <td>LithiumCookiesAccepted</td>\n",
       "      <td>workspaceoneaccess.com</td>\n",
       "    </tr>\n",
       "    <tr>\n",
       "      <th>3</th>\n",
       "      <td>careers.paradox.ai</td>\n",
       "      <td>R-GDPR-Applicable</td>\n",
       "      <td>paradox.ai</td>\n",
       "    </tr>\n",
       "    <tr>\n",
       "      <th>4</th>\n",
       "      <td>shop.ducati.com</td>\n",
       "      <td>form_key</td>\n",
       "      <td>ducati.com</td>\n",
       "    </tr>\n",
       "  </tbody>\n",
       "</table>\n",
       "</div>"
      ],
      "text/plain": [
       "                   domain                    name                    site\n",
       "0    beacon.riskified.com                 rCookie            benetton.com\n",
       "1  communities.vmware.com          VISITOR_BEACON  workspaceoneaccess.com\n",
       "2  communities.vmware.com  LithiumCookiesAccepted  workspaceoneaccess.com\n",
       "3      careers.paradox.ai       R-GDPR-Applicable              paradox.ai\n",
       "4         shop.ducati.com                form_key              ducati.com"
      ]
     },
     "execution_count": 16,
     "metadata": {},
     "output_type": "execute_result"
    }
   ],
   "source": [
    "# Way 1: compute contra sites by dynamic analysis: this should be lower than statically analyzing prefs\n",
    "# because we cannot check all combinations of consent modes.\n",
    "from consent.consistency.comply_util import get_appr_rej_sets\n",
    "contra_data = []\n",
    "for asite in cookie_prefs.site.unique():\n",
    "    site_prefs = cookie_prefs[cookie_prefs.site == asite]\n",
    "    _, _, contras = get_appr_rej_sets(site_prefs)\n",
    "    for contra in contras:\n",
    "        contra['site'] = asite\n",
    "        contra_data.append(contra)\n",
    "contra_sites = pd.DataFrame(contra_data)\n",
    "contra_sites.head()"
   ]
  },
  {
   "cell_type": "code",
   "execution_count": null,
   "metadata": {},
   "outputs": [],
   "source": [
    "assert set(detected_contra_sites) == set(contra_sites.site), \"this is the same method with above, so the result\""
   ]
  },
  {
   "cell_type": "code",
   "execution_count": null,
   "metadata": {},
   "outputs": [
    {
     "data": {
      "text/plain": [
       "set()"
      ]
     },
     "execution_count": 34,
     "metadata": {},
     "output_type": "execute_result"
    }
   ],
   "source": [
    "set(detected_contra_sites) - set(contra_sites.site)\n",
    "set(contra_sites.site) - set(detected_contra_sites) \n",
    "# This may be the sites excluded due to testing cookies in the preferences."
   ]
  },
  {
   "cell_type": "code",
   "execution_count": null,
   "metadata": {},
   "outputs": [],
   "source": [
    "# Way 2: compute contra sites by DataFrame group by\n",
    "contra_cookies_dfs = []\n",
    "for _, same_cookies in cookie_prefs.groupby(['name', 'domain', 'site']):\n",
    "    consent_modes = same_cookies.consent_mode.unique()\n",
    "    if len(consent_modes) >= 2 and same_cookies.category.nunique() > 1: # and 'always active' in consent_modes:\n",
    "        contra_cookies_dfs.append(same_cookies)\n",
    "contra_cookies = pd.concat(contra_cookies_dfs).drop_duplicates()"
   ]
  },
  {
   "cell_type": "code",
   "execution_count": null,
   "metadata": {},
   "outputs": [
    {
     "name": "stdout",
     "output_type": "stream",
     "text": [
      "Number sites with contra cookies: 74\n"
     ]
    }
   ],
   "source": [
    "print(\"Number sites with contra cookies:\", contra_cookies.site.nunique())"
   ]
  },
  {
   "cell_type": "code",
   "execution_count": null,
   "metadata": {},
   "outputs": [],
   "source": [
    "# set(contra_cookies.site) - set(contra_sites.site)"
   ]
  },
  {
   "cell_type": "code",
   "execution_count": null,
   "metadata": {},
   "outputs": [
    {
     "name": "stdout",
     "output_type": "stream",
     "text": [
      "Num contra cookie settings (double categories): 216 settings  on 74 sites\n",
      "Contras with 1 always-active: 77\n",
      "Contras with both editable: 1\n"
     ]
    }
   ],
   "source": [
    "print(\"Num contra cookie settings (double categories):\", len(contra_cookies), f\"settings  on {contra_cookies.site.nunique()} sites\")\n",
    "print(\"Contras with 1 always-active:\", contra_sites.site.nunique())\n",
    "print(\"Contras with both editable:\", len(set(contra_cookies.site) - set(contra_sites.site)))"
   ]
  },
  {
   "cell_type": "code",
   "execution_count": null,
   "metadata": {},
   "outputs": [],
   "source": []
  },
  {
   "cell_type": "code",
   "execution_count": null,
   "metadata": {},
   "outputs": [
    {
     "data": {
      "text/html": [
       "<div>\n",
       "<style scoped>\n",
       "    .dataframe tbody tr th:only-of-type {\n",
       "        vertical-align: middle;\n",
       "    }\n",
       "\n",
       "    .dataframe tbody tr th {\n",
       "        vertical-align: top;\n",
       "    }\n",
       "\n",
       "    .dataframe thead th {\n",
       "        text-align: right;\n",
       "    }\n",
       "</style>\n",
       "<table border=\"1\" class=\"dataframe\">\n",
       "  <thead>\n",
       "    <tr style=\"text-align: right;\">\n",
       "      <th></th>\n",
       "      <th>name</th>\n",
       "      <th>domain</th>\n",
       "      <th>duration</th>\n",
       "      <th>category_id</th>\n",
       "      <th>category</th>\n",
       "      <th>consent_mode</th>\n",
       "      <th>site</th>\n",
       "      <th>lib_name</th>\n",
       "      <th>pattern_name</th>\n",
       "      <th>consent</th>\n",
       "    </tr>\n",
       "  </thead>\n",
       "  <tbody>\n",
       "    <tr>\n",
       "      <th>14</th>\n",
       "      <td>_gtld</td>\n",
       "      <td>elsevier.com</td>\n",
       "      <td>Session</td>\n",
       "      <td>2</td>\n",
       "      <td>Performance Cookies</td>\n",
       "      <td>inactive landingpage</td>\n",
       "      <td>elsevier.nl</td>\n",
       "      <td>onetrust</td>\n",
       "      <td>en.json</td>\n",
       "      <td>False</td>\n",
       "    </tr>\n",
       "    <tr>\n",
       "      <th>4</th>\n",
       "      <td>_gtld</td>\n",
       "      <td>elsevier.com</td>\n",
       "      <td>Session</td>\n",
       "      <td>4</td>\n",
       "      <td>Targeting Cookies</td>\n",
       "      <td>inactive</td>\n",
       "      <td>elsevier.nl</td>\n",
       "      <td>onetrust</td>\n",
       "      <td>en.json</td>\n",
       "      <td>False</td>\n",
       "    </tr>\n",
       "  </tbody>\n",
       "</table>\n",
       "</div>"
      ],
      "text/plain": [
       "     name        domain duration category_id             category  \\\n",
       "14  _gtld  elsevier.com  Session           2  Performance Cookies   \n",
       "4   _gtld  elsevier.com  Session           4    Targeting Cookies   \n",
       "\n",
       "            consent_mode         site  lib_name pattern_name  consent  \n",
       "14  inactive landingpage  elsevier.nl  onetrust      en.json    False  \n",
       "4               inactive  elsevier.nl  onetrust      en.json    False  "
      ]
     },
     "execution_count": 39,
     "metadata": {},
     "output_type": "execute_result"
    }
   ],
   "source": [
    "contra_cookies[contra_cookies.site == 'elsevier.nl']"
   ]
  },
  {
   "cell_type": "code",
   "execution_count": null,
   "metadata": {},
   "outputs": [],
   "source": [
    "# assert len(detected_contra_sites) <= contra_sites.site.nunique() < len(detected_contra_sites) + 2"
   ]
  },
  {
   "cell_type": "code",
   "execution_count": null,
   "metadata": {},
   "outputs": [
    {
     "data": {
      "text/html": [
       "<div>\n",
       "<style scoped>\n",
       "    .dataframe tbody tr th:only-of-type {\n",
       "        vertical-align: middle;\n",
       "    }\n",
       "\n",
       "    .dataframe tbody tr th {\n",
       "        vertical-align: top;\n",
       "    }\n",
       "\n",
       "    .dataframe thead th {\n",
       "        text-align: right;\n",
       "    }\n",
       "</style>\n",
       "<table border=\"1\" class=\"dataframe\">\n",
       "  <thead>\n",
       "    <tr style=\"text-align: right;\">\n",
       "      <th></th>\n",
       "      <th>name</th>\n",
       "      <th>domain</th>\n",
       "      <th>site</th>\n",
       "      <th>comply</th>\n",
       "    </tr>\n",
       "  </thead>\n",
       "  <tbody>\n",
       "    <tr>\n",
       "      <th>82</th>\n",
       "      <td>JSESSIONID</td>\n",
       "      <td>.nr-data.net</td>\n",
       "      <td>cbsi.com</td>\n",
       "      <td>ambiguous</td>\n",
       "    </tr>\n",
       "    <tr>\n",
       "      <th>73725</th>\n",
       "      <td>COOKIE_SUPPORT</td>\n",
       "      <td>www.kearney.com</td>\n",
       "      <td>kearney.com</td>\n",
       "      <td>ambiguous</td>\n",
       "    </tr>\n",
       "    <tr>\n",
       "      <th>73730</th>\n",
       "      <td>SERVER_ID</td>\n",
       "      <td>www.kearney.com</td>\n",
       "      <td>kearney.com</td>\n",
       "      <td>ambiguous</td>\n",
       "    </tr>\n",
       "    <tr>\n",
       "      <th>86279</th>\n",
       "      <td>_ga</td>\n",
       "      <td>.glassdoor.co.uk</td>\n",
       "      <td>glassdoor.co.uk</td>\n",
       "      <td>ambiguous</td>\n",
       "    </tr>\n",
       "    <tr>\n",
       "      <th>86294</th>\n",
       "      <td>G_ENABLED_IDPS</td>\n",
       "      <td>.www.glassdoor.co.uk</td>\n",
       "      <td>glassdoor.co.uk</td>\n",
       "      <td>ambiguous</td>\n",
       "    </tr>\n",
       "    <tr>\n",
       "      <th>...</th>\n",
       "      <td>...</td>\n",
       "      <td>...</td>\n",
       "      <td>...</td>\n",
       "      <td>...</td>\n",
       "    </tr>\n",
       "    <tr>\n",
       "      <th>2036582</th>\n",
       "      <td>fg</td>\n",
       "      <td>.adobe.com</td>\n",
       "      <td>photoshop.com</td>\n",
       "      <td>ambiguous</td>\n",
       "    </tr>\n",
       "    <tr>\n",
       "      <th>2043230</th>\n",
       "      <td>ak_bmsc</td>\n",
       "      <td>.adobe.com</td>\n",
       "      <td>adobelogin.com</td>\n",
       "      <td>ambiguous</td>\n",
       "    </tr>\n",
       "    <tr>\n",
       "      <th>2043233</th>\n",
       "      <td>feds_visitor_audience</td>\n",
       "      <td>.adobe.com</td>\n",
       "      <td>adobelogin.com</td>\n",
       "      <td>ambiguous</td>\n",
       "    </tr>\n",
       "    <tr>\n",
       "      <th>2043262</th>\n",
       "      <td>fg</td>\n",
       "      <td>.adobe.com</td>\n",
       "      <td>adobelogin.com</td>\n",
       "      <td>ambiguous</td>\n",
       "    </tr>\n",
       "    <tr>\n",
       "      <th>2043273</th>\n",
       "      <td>feds_visitor_id</td>\n",
       "      <td>.adobe.com</td>\n",
       "      <td>adobelogin.com</td>\n",
       "      <td>ambiguous</td>\n",
       "    </tr>\n",
       "  </tbody>\n",
       "</table>\n",
       "<p>161 rows × 4 columns</p>\n",
       "</div>"
      ],
      "text/plain": [
       "                          name                domain             site  \\\n",
       "82                  JSESSIONID          .nr-data.net         cbsi.com   \n",
       "73725           COOKIE_SUPPORT       www.kearney.com      kearney.com   \n",
       "73730                SERVER_ID       www.kearney.com      kearney.com   \n",
       "86279                      _ga      .glassdoor.co.uk  glassdoor.co.uk   \n",
       "86294           G_ENABLED_IDPS  .www.glassdoor.co.uk  glassdoor.co.uk   \n",
       "...                        ...                   ...              ...   \n",
       "2036582                     fg            .adobe.com    photoshop.com   \n",
       "2043230                ak_bmsc            .adobe.com   adobelogin.com   \n",
       "2043233  feds_visitor_audience            .adobe.com   adobelogin.com   \n",
       "2043262                     fg            .adobe.com   adobelogin.com   \n",
       "2043273        feds_visitor_id            .adobe.com   adobelogin.com   \n",
       "\n",
       "            comply  \n",
       "82       ambiguous  \n",
       "73725    ambiguous  \n",
       "73730    ambiguous  \n",
       "86279    ambiguous  \n",
       "86294    ambiguous  \n",
       "...            ...  \n",
       "2036582  ambiguous  \n",
       "2043230  ambiguous  \n",
       "2043233  ambiguous  \n",
       "2043262  ambiguous  \n",
       "2043273  ambiguous  \n",
       "\n",
       "[161 rows x 4 columns]"
      ]
     },
     "execution_count": 30,
     "metadata": {},
     "output_type": "execute_result"
    }
   ],
   "source": [
    "complies[complies.comply == 'ambiguous']"
   ]
  },
  {
   "cell_type": "code",
   "execution_count": null,
   "metadata": {},
   "outputs": [
    {
     "data": {
      "text/html": [
       "<div>\n",
       "<style scoped>\n",
       "    .dataframe tbody tr th:only-of-type {\n",
       "        vertical-align: middle;\n",
       "    }\n",
       "\n",
       "    .dataframe tbody tr th {\n",
       "        vertical-align: top;\n",
       "    }\n",
       "\n",
       "    .dataframe thead th {\n",
       "        text-align: right;\n",
       "    }\n",
       "</style>\n",
       "<table border=\"1\" class=\"dataframe\">\n",
       "  <thead>\n",
       "    <tr style=\"text-align: right;\">\n",
       "      <th></th>\n",
       "      <th>name</th>\n",
       "      <th>domain</th>\n",
       "      <th>duration</th>\n",
       "      <th>category_id</th>\n",
       "      <th>category</th>\n",
       "      <th>consent_mode</th>\n",
       "      <th>site</th>\n",
       "      <th>lib_name</th>\n",
       "      <th>pattern_name</th>\n",
       "      <th>consent</th>\n",
       "    </tr>\n",
       "  </thead>\n",
       "  <tbody>\n",
       "    <tr>\n",
       "      <th>88</th>\n",
       "      <td>utag_main</td>\n",
       "      <td>.michaels.com</td>\n",
       "      <td>365 days</td>\n",
       "      <td>C0001</td>\n",
       "      <td>Strictly Necessary Cookies</td>\n",
       "      <td>always active</td>\n",
       "      <td>michaels.com</td>\n",
       "      <td>onetrust</td>\n",
       "      <td>en.json</td>\n",
       "      <td>True</td>\n",
       "    </tr>\n",
       "    <tr>\n",
       "      <th>13</th>\n",
       "      <td>utag_main</td>\n",
       "      <td>michaels.com</td>\n",
       "      <td>365 days</td>\n",
       "      <td>C0002</td>\n",
       "      <td>Performance Cookies</td>\n",
       "      <td>active</td>\n",
       "      <td>michaels.com</td>\n",
       "      <td>onetrust</td>\n",
       "      <td>en.json</td>\n",
       "      <td>False</td>\n",
       "    </tr>\n",
       "  </tbody>\n",
       "</table>\n",
       "</div>"
      ],
      "text/plain": [
       "         name         domain  duration category_id  \\\n",
       "88  utag_main  .michaels.com  365 days       C0001   \n",
       "13  utag_main   michaels.com  365 days       C0002   \n",
       "\n",
       "                      category   consent_mode          site  lib_name  \\\n",
       "88  Strictly Necessary Cookies  always active  michaels.com  onetrust   \n",
       "13         Performance Cookies         active  michaels.com  onetrust   \n",
       "\n",
       "   pattern_name consent  \n",
       "88      en.json    True  \n",
       "13      en.json   False  "
      ]
     },
     "execution_count": 31,
     "metadata": {},
     "output_type": "execute_result"
    }
   ],
   "source": [
    "cookie_prefs[ (cookie_prefs.site == 'michaels.com') & (cookie_prefs.name == 'utag_main') ]"
   ]
  },
  {
   "cell_type": "code",
   "execution_count": null,
   "metadata": {},
   "outputs": [
    {
     "data": {
      "text/html": [
       "<div>\n",
       "<style scoped>\n",
       "    .dataframe tbody tr th:only-of-type {\n",
       "        vertical-align: middle;\n",
       "    }\n",
       "\n",
       "    .dataframe tbody tr th {\n",
       "        vertical-align: top;\n",
       "    }\n",
       "\n",
       "    .dataframe thead th {\n",
       "        text-align: right;\n",
       "    }\n",
       "</style>\n",
       "<table border=\"1\" class=\"dataframe\">\n",
       "  <thead>\n",
       "    <tr style=\"text-align: right;\">\n",
       "      <th></th>\n",
       "      <th>name</th>\n",
       "      <th>domain</th>\n",
       "      <th>duration</th>\n",
       "      <th>category_id</th>\n",
       "      <th>category</th>\n",
       "      <th>consent_mode</th>\n",
       "      <th>site</th>\n",
       "      <th>lib_name</th>\n",
       "      <th>pattern_name</th>\n",
       "      <th>consent</th>\n",
       "    </tr>\n",
       "  </thead>\n",
       "  <tbody>\n",
       "    <tr>\n",
       "      <th>33</th>\n",
       "      <td>id</td>\n",
       "      <td>m6r.eu</td>\n",
       "      <td>90 days</td>\n",
       "      <td>C0001</td>\n",
       "      <td>Necessary Cookies</td>\n",
       "      <td>always active</td>\n",
       "      <td>statista.com</td>\n",
       "      <td>onetrust</td>\n",
       "      <td>en.json</td>\n",
       "      <td>True</td>\n",
       "    </tr>\n",
       "    <tr>\n",
       "      <th>26</th>\n",
       "      <td>id</td>\n",
       "      <td>m6r.eu</td>\n",
       "      <td>0 days</td>\n",
       "      <td>C0004</td>\n",
       "      <td>Targeting Cookies</td>\n",
       "      <td>inactive</td>\n",
       "      <td>statista.com</td>\n",
       "      <td>onetrust</td>\n",
       "      <td>en.json</td>\n",
       "      <td>False</td>\n",
       "    </tr>\n",
       "  </tbody>\n",
       "</table>\n",
       "</div>"
      ],
      "text/plain": [
       "   name  domain duration category_id           category   consent_mode  \\\n",
       "33   id  m6r.eu  90 days       C0001  Necessary Cookies  always active   \n",
       "26   id  m6r.eu   0 days       C0004  Targeting Cookies       inactive   \n",
       "\n",
       "            site  lib_name pattern_name consent  \n",
       "33  statista.com  onetrust      en.json    True  \n",
       "26  statista.com  onetrust      en.json   False  "
      ]
     },
     "execution_count": 32,
     "metadata": {},
     "output_type": "execute_result"
    }
   ],
   "source": [
    "cookie_prefs[ (cookie_prefs.site == 'statista.com') & (cookie_prefs.name == 'id') ]"
   ]
  },
  {
   "cell_type": "code",
   "execution_count": null,
   "metadata": {},
   "outputs": [],
   "source": [
    "# contra_cookies.name.value_counts()[:10]\n",
    "# contra_cookies[contra_cookies.name == '__cf_bm'].reset_index(drop=True) # .site.nunique()"
   ]
  },
  {
   "cell_type": "markdown",
   "metadata": {},
   "source": [
    "# Analyze ambiguous flows"
   ]
  },
  {
   "cell_type": "code",
   "execution_count": null,
   "metadata": {},
   "outputs": [
    {
     "name": "stdout",
     "output_type": "stream",
     "text": [
      "Num ambiguous cookies: 161 on num sites: 83\n"
     ]
    }
   ],
   "source": [
    "ambi_cookies = complies[complies.comply == 'ambiguous']\n",
    "print(\"Num ambiguous cookies:\", len(ambi_cookies), \"on num sites:\", ambi_cookies.site.nunique())\n",
    "assert len(ambi_cookies) == len(ambi_cookies.drop_duplicates()), \"there is some duplicate cookies\"\n"
   ]
  },
  {
   "cell_type": "markdown",
   "metadata": {},
   "source": [
    "## Analyze no-way-to-opt-out"
   ]
  },
  {
   "cell_type": "code",
   "execution_count": null,
   "metadata": {},
   "outputs": [
    {
     "data": {
      "text/html": [
       "<div>\n",
       "<style scoped>\n",
       "    .dataframe tbody tr th:only-of-type {\n",
       "        vertical-align: middle;\n",
       "    }\n",
       "\n",
       "    .dataframe tbody tr th {\n",
       "        vertical-align: top;\n",
       "    }\n",
       "\n",
       "    .dataframe thead th {\n",
       "        text-align: right;\n",
       "    }\n",
       "</style>\n",
       "<table border=\"1\" class=\"dataframe\">\n",
       "  <thead>\n",
       "    <tr style=\"text-align: right;\">\n",
       "      <th></th>\n",
       "      <th>name</th>\n",
       "      <th>domain</th>\n",
       "      <th>duration</th>\n",
       "      <th>category_id</th>\n",
       "      <th>category</th>\n",
       "      <th>consent_mode</th>\n",
       "      <th>site</th>\n",
       "      <th>lib_name</th>\n",
       "      <th>pattern_name</th>\n",
       "      <th>consent</th>\n",
       "    </tr>\n",
       "  </thead>\n",
       "  <tbody>\n",
       "    <tr>\n",
       "      <th>0</th>\n",
       "      <td>BIGipServer~API~vswprdg4varnish_plus-https_pool</td>\n",
       "      <td>allegiantair.com</td>\n",
       "      <td>Session</td>\n",
       "      <td>C0001</td>\n",
       "      <td>Strictly Necessary Cookies</td>\n",
       "      <td>always active</td>\n",
       "      <td>allegiantair.com</td>\n",
       "      <td>onetrust</td>\n",
       "      <td>en.json</td>\n",
       "      <td>True</td>\n",
       "    </tr>\n",
       "    <tr>\n",
       "      <th>1</th>\n",
       "      <td>PHPSESSID</td>\n",
       "      <td>www.allegiantair.com</td>\n",
       "      <td>Session</td>\n",
       "      <td>C0001</td>\n",
       "      <td>Strictly Necessary Cookies</td>\n",
       "      <td>always active</td>\n",
       "      <td>allegiantair.com</td>\n",
       "      <td>onetrust</td>\n",
       "      <td>en.json</td>\n",
       "      <td>True</td>\n",
       "    </tr>\n",
       "    <tr>\n",
       "      <th>2</th>\n",
       "      <td>BIGipServer~API~vswprdg4varnish-https_pool</td>\n",
       "      <td>allegiantair.com</td>\n",
       "      <td>Session</td>\n",
       "      <td>C0001</td>\n",
       "      <td>Strictly Necessary Cookies</td>\n",
       "      <td>always active</td>\n",
       "      <td>allegiantair.com</td>\n",
       "      <td>onetrust</td>\n",
       "      <td>en.json</td>\n",
       "      <td>True</td>\n",
       "    </tr>\n",
       "    <tr>\n",
       "      <th>3</th>\n",
       "      <td>BIGipServerecmpx-https_pool</td>\n",
       "      <td>www.allegiantair.com</td>\n",
       "      <td>Session</td>\n",
       "      <td>C0001</td>\n",
       "      <td>Strictly Necessary Cookies</td>\n",
       "      <td>always active</td>\n",
       "      <td>allegiantair.com</td>\n",
       "      <td>onetrust</td>\n",
       "      <td>en.json</td>\n",
       "      <td>True</td>\n",
       "    </tr>\n",
       "    <tr>\n",
       "      <th>0</th>\n",
       "      <td>__cfduid</td>\n",
       "      <td>onetrust.com</td>\n",
       "      <td>1487 days</td>\n",
       "      <td>C0001</td>\n",
       "      <td>Strictly Necessary Cookies</td>\n",
       "      <td>always active</td>\n",
       "      <td>allegiantair.com</td>\n",
       "      <td>onetrust</td>\n",
       "      <td>en.json</td>\n",
       "      <td>True</td>\n",
       "    </tr>\n",
       "  </tbody>\n",
       "</table>\n",
       "</div>"
      ],
      "text/plain": [
       "                                              name                domain  \\\n",
       "0  BIGipServer~API~vswprdg4varnish_plus-https_pool      allegiantair.com   \n",
       "1                                        PHPSESSID  www.allegiantair.com   \n",
       "2       BIGipServer~API~vswprdg4varnish-https_pool      allegiantair.com   \n",
       "3                      BIGipServerecmpx-https_pool  www.allegiantair.com   \n",
       "0                                         __cfduid          onetrust.com   \n",
       "\n",
       "    duration category_id                    category   consent_mode  \\\n",
       "0    Session       C0001  Strictly Necessary Cookies  always active   \n",
       "1    Session       C0001  Strictly Necessary Cookies  always active   \n",
       "2    Session       C0001  Strictly Necessary Cookies  always active   \n",
       "3    Session       C0001  Strictly Necessary Cookies  always active   \n",
       "0  1487 days       C0001  Strictly Necessary Cookies  always active   \n",
       "\n",
       "               site  lib_name pattern_name consent  \n",
       "0  allegiantair.com  onetrust      en.json    True  \n",
       "1  allegiantair.com  onetrust      en.json    True  \n",
       "2  allegiantair.com  onetrust      en.json    True  \n",
       "3  allegiantair.com  onetrust      en.json    True  \n",
       "0  allegiantair.com  onetrust      en.json    True  "
      ]
     },
     "execution_count": 35,
     "metadata": {},
     "output_type": "execute_result"
    }
   ],
   "source": [
    "# Way 1: compute contra sites by DataFrame group by\n",
    "nwtoo_cookies_dfs = []\n",
    "for _, site_cookies in cookie_prefs.groupby(['site']):\n",
    "    consent_modes = site_cookies.consent_mode.unique().tolist()\n",
    "    if len(consent_modes) == 1 and consent_modes[0] == 'always active':\n",
    "        nwtoo_cookies_dfs.append(site_cookies)\n",
    "nwtoo_cookies = pd.concat(nwtoo_cookies_dfs).drop_duplicates()\n",
    "nwtoo_cookies.head()"
   ]
  },
  {
   "cell_type": "code",
   "execution_count": null,
   "metadata": {},
   "outputs": [
    {
     "data": {
      "text/plain": [
       "17"
      ]
     },
     "execution_count": 36,
     "metadata": {},
     "output_type": "execute_result"
    }
   ],
   "source": [
    "nwtoo_cookies.site.nunique()"
   ]
  },
  {
   "cell_type": "markdown",
   "metadata": {},
   "source": [
    "# Analyze inconsistent flows/cookies"
   ]
  },
  {
   "cell_type": "code",
   "execution_count": null,
   "metadata": {},
   "outputs": [],
   "source": [
    "def plot_inconsis_types():\n",
    "    sns.set(rc={'figure.figsize':(9,9),\"font.size\":30,\"axes.titlesize\":30,\"axes.labelsize\":30},style=\"white\", font_scale = 2.5)\n",
    "\n",
    "    ax = sns.barplot(x='comply_type', y='num_sites_percent', data=noncomply_sites)\n",
    "    ax.tick_params(left=True, bottom=True, direction=\"in\")\n",
    "    ax.set_ylabel('# Websites (%)')\n",
    "    ax.set_xlabel('Noncompliance Types')\n",
    "    xticks = [x.get_text().title() for x in ax.get_xticklabels()]\n",
    "    ax.set(xticklabels=xticks)\n",
    "\n",
    "    out_file = FIG_DIR / 'noncomply_types_per_site.png'\n",
    "    # plt.savefig(out_file, dpi=200, bbox_inches='tight'); print(f\"Written to {out_file}\")"
   ]
  },
  {
   "cell_type": "code",
   "execution_count": null,
   "metadata": {},
   "outputs": [],
   "source": [
    "## Plot distribution of omitted cookie declarations"
   ]
  },
  {
   "cell_type": "code",
   "execution_count": null,
   "metadata": {},
   "outputs": [
    {
     "data": {
      "text/plain": [
       "1195"
      ]
     },
     "execution_count": 39,
     "metadata": {},
     "output_type": "execute_result"
    }
   ],
   "source": [
    "omit_complies = complies[(complies.comply == 'omit')] #  & ~complies.name.isin(['OptanonAlertBoxClosed', 'OptanonConsent']) ]\n",
    "omit_complies.site.nunique()"
   ]
  },
  {
   "cell_type": "code",
   "execution_count": null,
   "metadata": {},
   "outputs": [
    {
     "data": {
      "text/plain": [
       "marchofdimes.com     88\n",
       "marchofdimes.org     85\n",
       "propertyshark.com    76\n",
       "loggly.com           75\n",
       "hardrockcafe.com     71\n",
       "lanebryant.com       69\n",
       "pingdom.com          65\n",
       "Name: site, dtype: int64"
      ]
     },
     "execution_count": 40,
     "metadata": {},
     "output_type": "execute_result"
    }
   ],
   "source": [
    "omit_complies.site.value_counts()[:7]"
   ]
  },
  {
   "cell_type": "code",
   "execution_count": null,
   "metadata": {},
   "outputs": [
    {
     "name": "stdout",
     "output_type": "stream",
     "text": [
      "\\begin{tabular}{lr}\n",
      "\\toprule\n",
      "          Cookie Name &  \\# Websites \\\\\n",
      "\\midrule\n",
      "              \\_gcl\\_au &         423 \\\\\n",
      "OptanonAlertBoxClosed &         231 \\\\\n",
      "       OptanonConsent &         223 \\\\\n",
      "              \\_\\_cf\\_bm &         165 \\\\\n",
      "                  \\_ga &         161 \\\\\n",
      "\\bottomrule\n",
      "\\end{tabular}\n",
      "\n"
     ]
    }
   ],
   "source": [
    "omit_cookies = omit_complies.name.value_counts()[:5].to_frame().reset_index().rename(columns={'index': 'cookie_name'})\n",
    "omit_cookies['num_sites'] = omit_cookies['cookie_name'].map(lambda cookie_name: omit_complies[omit_complies.name == cookie_name].site.nunique())\n",
    "print(omit_cookies.head(5)[['cookie_name', 'num_sites']].rename(columns={'cookie_name': 'Cookie Name', 'num_sites': '# Websites'}).to_latex(index=False))"
   ]
  },
  {
   "cell_type": "code",
   "execution_count": null,
   "metadata": {},
   "outputs": [
    {
     "name": "stdout",
     "output_type": "stream",
     "text": [
      "Num omitted sites: 1195\n"
     ]
    },
    {
     "data": {
      "text/plain": [
       "(10.697907949790794, 11.304523366820188, 1, 88)"
      ]
     },
     "execution_count": 42,
     "metadata": {},
     "output_type": "execute_result"
    }
   ],
   "source": [
    "# set(cookielist_sites) - set(omit_complies.site.unique())\n",
    "omit_counts = omit_complies.site.value_counts().to_frame().rename(columns={'site': 'num_omit_cookies'})\n",
    "print(\"Num omitted sites:\", omit_complies.site.nunique())\n",
    "omit_counts.num_omit_cookies.mean(), omit_counts.num_omit_cookies.std(), omit_counts.num_omit_cookies.min(), omit_counts.num_omit_cookies.max()"
   ]
  },
  {
   "cell_type": "code",
   "execution_count": null,
   "metadata": {},
   "outputs": [
    {
     "data": {
      "text/plain": [
       "Text(0, 0.5, 'CDF')"
      ]
     },
     "execution_count": 44,
     "metadata": {},
     "output_type": "execute_result"
    },
    {
     "data": {
      "image/png": "[encoded data removed]",
      "text/plain": [
       "<Figure size 864x576 with 1 Axes>"
      ]
     },
     "metadata": {},
     "output_type": "display_data"
    }
   ],
   "source": [
    "sns.set(rc={'figure.figsize':(12,8),\"font.size\":35,\"axes.titlesize\":30,\"axes.labelsize\":50},style=\"white\", font_scale = 4.5)\n",
    "sns.set_style(\"ticks\", {\"xtick.direction\": \"in\", \"ytick.direction\": \"in\"})\n",
    "plt.rcParams['xtick.major.size'] = 15\n",
    "plt.rcParams['ytick.major.size'] = 15\n",
    "\n",
    "ax = sns.ecdfplot(data=omit_counts, x=omit_counts.num_omit_cookies, linewidth=8)\n",
    "ax.set(xlim=(0, 350))\n",
    "\n",
    "plt.xlabel('# Omitted Cookies/Website')\n",
    "plt.ylabel('CDF')\n",
    "# out_file = FIG_DIR / 'eu_omit_cookie_cdf.png'\n",
    "# plt.savefig(out_file, dpi=200, bbox_inches='tight'); print(f\"Written to {out_file}\")"
   ]
  },
  {
   "cell_type": "code",
   "execution_count": null,
   "metadata": {},
   "outputs": [
    {
     "data": {
      "text/plain": [
       "Text(0.5, 0, 'Website')"
      ]
     },
     "execution_count": 45,
     "metadata": {},
     "output_type": "execute_result"
    },
    {
     "data": {
      "image/png": "[encoded data removed]",
      "text/plain": [
       "<Figure size 1728x576 with 1 Axes>"
      ]
     },
     "metadata": {},
     "output_type": "display_data"
    }
   ],
   "source": []
  },
  {
   "cell_type": "code",
   "execution_count": null,
   "metadata": {},
   "outputs": [],
   "source": [
    "def plot_histogram_omit():\n",
    "    sns.set(rc={'figure.figsize':(9,6),\"font.size\":25,\"axes.titlesize\":25,\"axes.labelsize\":15},style=\"white\", font_scale = 1)\n",
    "    omit_counts_histo = omit_complies.site.value_counts().value_counts()\n",
    "    sns.barplot(x=omit_counts_histo.index, y=omit_counts_histo.values)\n",
    "    ticks = plt.xticks(rotation=45, ha='right')"
   ]
  },
  {
   "cell_type": "markdown",
   "metadata": {},
   "source": []
  },
  {
   "cell_type": "code",
   "execution_count": null,
   "metadata": {},
   "outputs": [],
   "source": []
  },
  {
   "cell_type": "code",
   "execution_count": null,
   "metadata": {},
   "outputs": [],
   "source": []
  },
  {
   "cell_type": "code",
   "execution_count": null,
   "metadata": {},
   "outputs": [],
   "source": [
    "# len(incor_counts)"
   ]
  },
  {
   "cell_type": "code",
   "execution_count": null,
   "metadata": {},
   "outputs": [],
   "source": [
    "# incor_counts[incor_counts.site == 33].reset_index(drop=True)"
   ]
  },
  {
   "cell_type": "markdown",
   "metadata": {},
   "source": [
    "### Top incorrect cookies"
   ]
  },
  {
   "cell_type": "code",
   "execution_count": null,
   "metadata": {},
   "outputs": [],
   "source": [
    "incor_cookies = complies[complies.comply == 'incorrect']"
   ]
  },
  {
   "cell_type": "code",
   "execution_count": null,
   "metadata": {},
   "outputs": [],
   "source": [
    "# site = 'onetrust.com'\n",
    "# complies[complies.site == site].reset_index(drop=True)\n",
    "# cookie_prefs[(cookie_prefs.site == site) & (cookie_prefs.name == '_gid')]"
   ]
  },
  {
   "cell_type": "code",
   "execution_count": null,
   "metadata": {},
   "outputs": [],
   "source": [
    "top_incor_cookies = incor_cookies.name.value_counts().sort_values(ascending=False).to_frame().reset_index().rename(columns={'index':'cookie_name', 'name': 'num_occur'})"
   ]
  },
  {
   "cell_type": "code",
   "execution_count": null,
   "metadata": {},
   "outputs": [],
   "source": [
    "top_incor_cookies['num_sites'] = top_incor_cookies.cookie_name.map(lambda cookie_name: incor_cookies[incor_cookies.name == cookie_name].site.nunique())"
   ]
  },
  {
   "cell_type": "code",
   "execution_count": null,
   "metadata": {},
   "outputs": [
    {
     "name": "stdout",
     "output_type": "stream",
     "text": [
      "\\begin{tabular}{lr}\n",
      "\\toprule\n",
      "Cookie Name &  \\# Websites \\\\\n",
      "\\midrule\n",
      "        \\_ga &         523 \\\\\n",
      "       \\_gid &         497 \\\\\n",
      "       lang &         204 \\\\\n",
      "        IDE &         287 \\\\\n",
      "       \\_fbp &         287 \\\\\n",
      "\\bottomrule\n",
      "\\end{tabular}\n",
      "\n"
     ]
    }
   ],
   "source": [
    "print(top_incor_cookies.head(5)[['cookie_name', 'num_sites']].rename(columns={'cookie_name': 'Cookie Name', 'num_sites': '# Websites'}).to_latex(index=False))"
   ]
  },
  {
   "cell_type": "markdown",
   "metadata": {},
   "source": [
    "# Narrow cookie consent preferences"
   ]
  },
  {
   "cell_type": "code",
   "execution_count": null,
   "metadata": {},
   "outputs": [],
   "source": [
    "consent_cookies = sent_cookies[sent_cookies.name.isin(['OptanonConsent', 'CookieConsent'])][['domain', 'name', 'site']].drop_duplicates()\n",
    "narrow_consent_cookies = consent_cookies[~consent_cookies.domain.str.startswith('.')].reset_index(drop=True)"
   ]
  },
  {
   "cell_type": "code",
   "execution_count": null,
   "metadata": {},
   "outputs": [
    {
     "data": {
      "text/plain": [
       "{'returnpath.net', 'statista.com', 'suse.com'}"
      ]
     },
     "execution_count": 56,
     "metadata": {},
     "output_type": "execute_result"
    }
   ],
   "source": [
    "set(contra_cookies.site).intersection(set(narrow_consent_cookies.site))"
   ]
  },
  {
   "cell_type": "code",
   "execution_count": null,
   "metadata": {},
   "outputs": [
    {
     "data": {
      "text/html": [
       "<div>\n",
       "<style scoped>\n",
       "    .dataframe tbody tr th:only-of-type {\n",
       "        vertical-align: middle;\n",
       "    }\n",
       "\n",
       "    .dataframe tbody tr th {\n",
       "        vertical-align: top;\n",
       "    }\n",
       "\n",
       "    .dataframe thead th {\n",
       "        text-align: right;\n",
       "    }\n",
       "</style>\n",
       "<table border=\"1\" class=\"dataframe\">\n",
       "  <thead>\n",
       "    <tr style=\"text-align: right;\">\n",
       "      <th></th>\n",
       "      <th>domain</th>\n",
       "      <th>name</th>\n",
       "      <th>site</th>\n",
       "    </tr>\n",
       "  </thead>\n",
       "  <tbody>\n",
       "    <tr>\n",
       "      <th>0</th>\n",
       "      <td>www.thule.com</td>\n",
       "      <td>OptanonConsent</td>\n",
       "      <td>thule.com</td>\n",
       "    </tr>\n",
       "    <tr>\n",
       "      <th>1</th>\n",
       "      <td>gb.benetton.com</td>\n",
       "      <td>CookieConsent</td>\n",
       "      <td>benetton.com</td>\n",
       "    </tr>\n",
       "    <tr>\n",
       "      <th>2</th>\n",
       "      <td>www.workaway.info</td>\n",
       "      <td>CookieConsent</td>\n",
       "      <td>workaway.info</td>\n",
       "    </tr>\n",
       "    <tr>\n",
       "      <th>3</th>\n",
       "      <td>www.mavenlink.com</td>\n",
       "      <td>CookieConsent</td>\n",
       "      <td>mavenlink.com</td>\n",
       "    </tr>\n",
       "    <tr>\n",
       "      <th>4</th>\n",
       "      <td>www.westminster-abbey.org</td>\n",
       "      <td>CookieConsent</td>\n",
       "      <td>westminster-abbey.org</td>\n",
       "    </tr>\n",
       "    <tr>\n",
       "      <th>...</th>\n",
       "      <td>...</td>\n",
       "      <td>...</td>\n",
       "      <td>...</td>\n",
       "    </tr>\n",
       "    <tr>\n",
       "      <th>165</th>\n",
       "      <td>owncloud.com</td>\n",
       "      <td>CookieConsent</td>\n",
       "      <td>owncloud.org</td>\n",
       "    </tr>\n",
       "    <tr>\n",
       "      <th>166</th>\n",
       "      <td>www.stackpath.com</td>\n",
       "      <td>CookieConsent</td>\n",
       "      <td>maxcdn.com</td>\n",
       "    </tr>\n",
       "    <tr>\n",
       "      <th>167</th>\n",
       "      <td>www.mandarinoriental.com</td>\n",
       "      <td>OptanonConsent</td>\n",
       "      <td>mandarinoriental.com</td>\n",
       "    </tr>\n",
       "    <tr>\n",
       "      <th>168</th>\n",
       "      <td>www.publitas.com</td>\n",
       "      <td>CookieConsent</td>\n",
       "      <td>publitas.com</td>\n",
       "    </tr>\n",
       "    <tr>\n",
       "      <th>169</th>\n",
       "      <td>www.motionpictures.org</td>\n",
       "      <td>OptanonConsent</td>\n",
       "      <td>mpaa.org</td>\n",
       "    </tr>\n",
       "  </tbody>\n",
       "</table>\n",
       "<p>170 rows × 3 columns</p>\n",
       "</div>"
      ],
      "text/plain": [
       "                        domain            name                   site\n",
       "0                www.thule.com  OptanonConsent              thule.com\n",
       "1              gb.benetton.com   CookieConsent           benetton.com\n",
       "2            www.workaway.info   CookieConsent          workaway.info\n",
       "3            www.mavenlink.com   CookieConsent          mavenlink.com\n",
       "4    www.westminster-abbey.org   CookieConsent  westminster-abbey.org\n",
       "..                         ...             ...                    ...\n",
       "165               owncloud.com   CookieConsent           owncloud.org\n",
       "166          www.stackpath.com   CookieConsent             maxcdn.com\n",
       "167   www.mandarinoriental.com  OptanonConsent   mandarinoriental.com\n",
       "168           www.publitas.com   CookieConsent           publitas.com\n",
       "169     www.motionpictures.org  OptanonConsent               mpaa.org\n",
       "\n",
       "[170 rows x 3 columns]"
      ]
     },
     "execution_count": 57,
     "metadata": {},
     "output_type": "execute_result"
    }
   ],
   "source": [
    "narrow_consent_cookies"
   ]
  },
  {
   "cell_type": "markdown",
   "metadata": {},
   "source": [
    "# Case studies"
   ]
  },
  {
   "cell_type": "code",
   "execution_count": null,
   "metadata": {},
   "outputs": [
    {
     "data": {
      "text/plain": [
       "thefader.com        74\n",
       "allrecipes.com      60\n",
       "dexcom.com          59\n",
       "marchofdimes.org    55\n",
       "marchofdimes.com    52\n",
       "Name: site, dtype: int64"
      ]
     },
     "execution_count": 58,
     "metadata": {},
     "output_type": "execute_result"
    }
   ],
   "source": [
    "incor_df = complies[complies.comply == 'incorrect']\n",
    "incor_df.site.value_counts().sort_values(ascending=False).head()"
   ]
  },
  {
   "cell_type": "code",
   "execution_count": null,
   "metadata": {},
   "outputs": [
    {
     "data": {
      "text/html": [
       "<div>\n",
       "<style scoped>\n",
       "    .dataframe tbody tr th:only-of-type {\n",
       "        vertical-align: middle;\n",
       "    }\n",
       "\n",
       "    .dataframe tbody tr th {\n",
       "        vertical-align: top;\n",
       "    }\n",
       "\n",
       "    .dataframe thead th {\n",
       "        text-align: right;\n",
       "    }\n",
       "</style>\n",
       "<table border=\"1\" class=\"dataframe\">\n",
       "  <thead>\n",
       "    <tr style=\"text-align: right;\">\n",
       "      <th></th>\n",
       "      <th>name</th>\n",
       "      <th>domain</th>\n",
       "      <th>site</th>\n",
       "      <th>comply</th>\n",
       "    </tr>\n",
       "  </thead>\n",
       "  <tbody>\n",
       "  </tbody>\n",
       "</table>\n",
       "</div>"
      ],
      "text/plain": [
       "Empty DataFrame\n",
       "Columns: [name, domain, site, comply]\n",
       "Index: []"
      ]
     },
     "execution_count": 59,
     "metadata": {},
     "output_type": "execute_result"
    }
   ],
   "source": [
    "case_site = 'blabbermouth.net'\n",
    "incor_df[incor_df.site == case_site]"
   ]
  },
  {
   "cell_type": "code",
   "execution_count": null,
   "metadata": {},
   "outputs": [
    {
     "data": {
      "text/html": [
       "<div>\n",
       "<style scoped>\n",
       "    .dataframe tbody tr th:only-of-type {\n",
       "        vertical-align: middle;\n",
       "    }\n",
       "\n",
       "    .dataframe tbody tr th {\n",
       "        vertical-align: top;\n",
       "    }\n",
       "\n",
       "    .dataframe thead th {\n",
       "        text-align: right;\n",
       "    }\n",
       "</style>\n",
       "<table border=\"1\" class=\"dataframe\">\n",
       "  <thead>\n",
       "    <tr style=\"text-align: right;\">\n",
       "      <th></th>\n",
       "      <th>name</th>\n",
       "      <th>domain</th>\n",
       "      <th>duration</th>\n",
       "      <th>category_id</th>\n",
       "      <th>category</th>\n",
       "      <th>consent_mode</th>\n",
       "      <th>site</th>\n",
       "      <th>lib_name</th>\n",
       "      <th>pattern_name</th>\n",
       "      <th>consent</th>\n",
       "    </tr>\n",
       "  </thead>\n",
       "  <tbody>\n",
       "  </tbody>\n",
       "</table>\n",
       "</div>"
      ],
      "text/plain": [
       "Empty DataFrame\n",
       "Columns: [name, domain, duration, category_id, category, consent_mode, site, lib_name, pattern_name, consent]\n",
       "Index: []"
      ]
     },
     "execution_count": 60,
     "metadata": {},
     "output_type": "execute_result"
    }
   ],
   "source": [
    "# cookie_prefs[(cookie_prefs.site == 'scientificamerican.com') & (cookie_prefs.name == 'MXP_TRACKINGID')]\n",
    "cookie_prefs[(cookie_prefs.site == case_site) & (cookie_prefs.name == 'IDE')]"
   ]
  },
  {
   "cell_type": "code",
   "execution_count": null,
   "metadata": {},
   "outputs": [],
   "source": [
    "# sent_cookies[(sent_cookies.site == 'scientificamerican.com') & (sent_cookies.name == 'MXP_TRACKINGID')]"
   ]
  },
  {
   "cell_type": "code",
   "execution_count": null,
   "metadata": {},
   "outputs": [
    {
     "data": {
      "text/plain": [
       "deere.com             48\n",
       "michaels.com          47\n",
       "uncommongoods.com     47\n",
       "allrecipes.com        46\n",
       "phoenix.edu           45\n",
       "eurosport.com         45\n",
       "fabfitfun.com         44\n",
       "procore.com           43\n",
       "flytap.com            43\n",
       "crateandbarrel.com    42\n",
       "Name: site, dtype: int64"
      ]
     },
     "execution_count": 62,
     "metadata": {},
     "output_type": "execute_result"
    }
   ],
   "source": [
    "omit_df = complies[complies.comply == 'omit']\n",
    "omit_df.site.value_counts().sort_values(ascending=False).iloc[20:30]"
   ]
  },
  {
   "cell_type": "code",
   "execution_count": null,
   "metadata": {},
   "outputs": [
    {
     "name": "stdout",
     "output_type": "stream",
     "text": [
      "['cfid', '_gcl_au', 'cftoken', 'optimizelyEndUserId', 'SA_fonts_loaded', '_gat', 'spw_ts', 'CF_SESSION_MURA1159D3CF4C8818EDC92155CA70EE9F5C', 'CF_SESSION_MURA1159D3CF4C8818EDC92155CA70EE9F5C_LV']\n"
     ]
    }
   ],
   "source": [
    "print(omit_df[omit_df.site == 'scientificamerican.com'].reset_index().name.tolist())"
   ]
  },
  {
   "cell_type": "code",
   "execution_count": null,
   "metadata": {},
   "outputs": [
    {
     "data": {
      "text/plain": [
       "False"
      ]
     },
     "execution_count": 64,
     "metadata": {},
     "output_type": "execute_result"
    }
   ],
   "source": [
    "'uids' in omit_df[omit_df.site == 'scientificamerican.com'].reset_index().name.tolist()"
   ]
  },
  {
   "cell_type": "code",
   "execution_count": null,
   "metadata": {},
   "outputs": [
    {
     "data": {
      "text/html": [
       "<div>\n",
       "<style scoped>\n",
       "    .dataframe tbody tr th:only-of-type {\n",
       "        vertical-align: middle;\n",
       "    }\n",
       "\n",
       "    .dataframe tbody tr th {\n",
       "        vertical-align: top;\n",
       "    }\n",
       "\n",
       "    .dataframe thead th {\n",
       "        text-align: right;\n",
       "    }\n",
       "</style>\n",
       "<table border=\"1\" class=\"dataframe\">\n",
       "  <thead>\n",
       "    <tr style=\"text-align: right;\">\n",
       "      <th></th>\n",
       "      <th>name</th>\n",
       "      <th>domain</th>\n",
       "      <th>site</th>\n",
       "      <th>comply</th>\n",
       "    </tr>\n",
       "  </thead>\n",
       "  <tbody>\n",
       "    <tr>\n",
       "      <th>1441644</th>\n",
       "      <td>cftoken</td>\n",
       "      <td>.scientificamerican.com</td>\n",
       "      <td>scientificamerican.com</td>\n",
       "      <td>omit</td>\n",
       "    </tr>\n",
       "  </tbody>\n",
       "</table>\n",
       "</div>"
      ],
      "text/plain": [
       "            name                   domain                    site comply\n",
       "1441644  cftoken  .scientificamerican.com  scientificamerican.com   omit"
      ]
     },
     "execution_count": 65,
     "metadata": {},
     "output_type": "execute_result"
    }
   ],
   "source": [
    "omit_df[(omit_df.site == 'scientificamerican.com') & (omit_df.name == 'cftoken')]"
   ]
  },
  {
   "cell_type": "code",
   "execution_count": null,
   "metadata": {},
   "outputs": [
    {
     "data": {
      "text/html": [
       "<div>\n",
       "<style scoped>\n",
       "    .dataframe tbody tr th:only-of-type {\n",
       "        vertical-align: middle;\n",
       "    }\n",
       "\n",
       "    .dataframe tbody tr th {\n",
       "        vertical-align: top;\n",
       "    }\n",
       "\n",
       "    .dataframe thead th {\n",
       "        text-align: right;\n",
       "    }\n",
       "</style>\n",
       "<table border=\"1\" class=\"dataframe\">\n",
       "  <thead>\n",
       "    <tr style=\"text-align: right;\">\n",
       "      <th></th>\n",
       "      <th>name</th>\n",
       "      <th>domain</th>\n",
       "      <th>duration</th>\n",
       "      <th>category_id</th>\n",
       "      <th>category</th>\n",
       "      <th>consent_mode</th>\n",
       "      <th>site</th>\n",
       "      <th>lib_name</th>\n",
       "      <th>pattern_name</th>\n",
       "      <th>consent</th>\n",
       "    </tr>\n",
       "  </thead>\n",
       "  <tbody>\n",
       "  </tbody>\n",
       "</table>\n",
       "</div>"
      ],
      "text/plain": [
       "Empty DataFrame\n",
       "Columns: [name, domain, duration, category_id, category, consent_mode, site, lib_name, pattern_name, consent]\n",
       "Index: []"
      ]
     },
     "execution_count": 66,
     "metadata": {},
     "output_type": "execute_result"
    }
   ],
   "source": [
    "cookie_prefs[(cookie_prefs.site == 'scientificamerican.com') & (cookie_prefs.name == 'ADGRX_UID')]"
   ]
  },
  {
   "cell_type": "code",
   "execution_count": null,
   "metadata": {},
   "outputs": [],
   "source": []
  },
  {
   "cell_type": "code",
   "execution_count": null,
   "metadata": {},
   "outputs": [],
   "source": []
  },
  {
   "cell_type": "code",
   "execution_count": null,
   "metadata": {},
   "outputs": [],
   "source": []
  },
  {
   "cell_type": "code",
   "execution_count": null,
   "metadata": {},
   "outputs": [],
   "source": []
  },
  {
   "cell_type": "code",
   "execution_count": null,
   "metadata": {},
   "outputs": [],
   "source": []
  },
  {
   "cell_type": "code",
   "execution_count": null,
   "metadata": {},
   "outputs": [
    {
     "name": "stdout",
     "output_type": "stream",
     "text": [
      "Sites with no compliant cookies: {'kajabi.com', 'hersheys.com', 'contentstack.io', 'liveperson.net', 'vfsglobal.com', 'eurosport.com', 'widespace.com', 'shef.ac.uk', 'nielseniq.com', 'kew.org', 'givenchy.com', 'technicalseo.com', 'smartthings.com', 'thomson.com', 'keywordblocks.com', 'media.net', 'acm.org', 'appen.com', 'hightail.com', 'propertyshark.com', 'gmu.edu', 'thomsonreuters.com', 'warnerbros.com', 'accenture.com', 'liveperson.com', 'groove.co', 'heroku.com', 'nsf.org', 'wasabisys.com', 'okta-emea.com', 'fabfitfun.com', 'showtime.com', 'affordablecollegesonline.org', 'pokemon.com', 'userzoom.com', 'tlc.com', 'xrite.com', '24hourfitness.com', 'okta.com', 'infosys.com', 'mondelezinternational.com', 'klout.com', 'refinitiv.com', 'gameinformer.com', 'pentair.com', 'ingrammicro.com', 'mobileworldlive.com', 'ab-inbev.com', 'sheffield.ac.uk', 'ifc.com', 'lithium.com', 'ktm.com', 'centurylink.com', 'herokuapp.com', 'perimeterx.net', 'cerner.com', 'canvas.net', 'mom.com', 'dxc.technology', 'novartis.com', 'uipath.com', 'sans.org', 'dexcom.com', 'redditblog.com', 'yousendit.com', 'capitaliq.com', 'northropgrumman.com'}\n"
     ]
    }
   ],
   "source": [
    "all_sites = set(complies.site)\n",
    "nothing_comply_sites = all_sites - set(complies[complies.comply == 'comply'].site)\n",
    "print(\"Sites with no compliant cookies:\", nothing_comply_sites)"
   ]
  },
  {
   "cell_type": "code",
   "execution_count": null,
   "metadata": {},
   "outputs": [
    {
     "name": "stdout",
     "output_type": "stream",
     "text": [
      "liveperson.com\n"
     ]
    },
    {
     "ename": "NameError",
     "evalue": "name 'postrej_br_cookies' is not defined",
     "output_type": "error",
     "traceback": [
      "\u001b[0;31m---------------------------------------------------------------------------\u001b[0m",
      "\u001b[0;31mNameError\u001b[0m                                 Traceback (most recent call last)",
      "\u001b[0;32m/tmp/ipykernel_16027/1603929710.py\u001b[0m in \u001b[0;36m<module>\u001b[0;34m\u001b[0m\n\u001b[1;32m      1\u001b[0m \u001b[0;32mfor\u001b[0m \u001b[0msite\u001b[0m \u001b[0;32min\u001b[0m \u001b[0;34m[\u001b[0m\u001b[0;34m'liveperson.com'\u001b[0m\u001b[0;34m]\u001b[0m\u001b[0;34m:\u001b[0m \u001b[0;31m# nothing_comply_sites:\u001b[0m\u001b[0;34m\u001b[0m\u001b[0;34m\u001b[0m\u001b[0m\n\u001b[1;32m      2\u001b[0m     \u001b[0mprint\u001b[0m\u001b[0;34m(\u001b[0m\u001b[0msite\u001b[0m\u001b[0;34m)\u001b[0m\u001b[0;34m\u001b[0m\u001b[0;34m\u001b[0m\u001b[0m\n\u001b[0;32m----> 3\u001b[0;31m \u001b[0msite_cookies\u001b[0m \u001b[0;34m=\u001b[0m \u001b[0mpostrej_br_cookies\u001b[0m\u001b[0;34m[\u001b[0m\u001b[0mpostrej_br_cookies\u001b[0m\u001b[0;34m.\u001b[0m\u001b[0msite\u001b[0m \u001b[0;34m==\u001b[0m \u001b[0msite\u001b[0m\u001b[0;34m]\u001b[0m\u001b[0;34m\u001b[0m\u001b[0;34m\u001b[0m\u001b[0m\n\u001b[0m",
      "\u001b[0;31mNameError\u001b[0m: name 'postrej_br_cookies' is not defined"
     ]
    }
   ],
   "source": [
    "for site in ['liveperson.com']: # nothing_comply_sites:\n",
    "    print(site)\n",
    "site_cookies = postrej_br_cookies[postrej_br_cookies.site == site]"
   ]
  },
  {
   "cell_type": "code",
   "execution_count": null,
   "metadata": {},
   "outputs": [],
   "source": [
    "acookie = site_cookies[site_cookies.name == 'OptanonAlertBoxClosed'].iloc[0]"
   ]
  },
  {
   "cell_type": "code",
   "execution_count": null,
   "metadata": {},
   "outputs": [],
   "source": [
    "site_prefs = cookie_prefs[cookie_prefs.site == site]\n",
    "consent_cookies = site_prefs[site_prefs.consent]\n",
    "consent_cookie_names = consent_cookies.name\n",
    "site_cookies[site_cookies.name.isin(consent_cookie_names)]\n",
    "# cookie_name = 'OptanonAlertBoxClosed'\n",
    "# cookie_pref = site_prefs[site_prefs.name == cookie_name].iloc[0]\n",
    "# cookie_pref"
   ]
  },
  {
   "cell_type": "code",
   "execution_count": null,
   "metadata": {},
   "outputs": [],
   "source": [
    "consent_cookies"
   ]
  },
  {
   "cell_type": "code",
   "execution_count": null,
   "metadata": {},
   "outputs": [],
   "source": [
    "import sys; import importlib; importlib.reload(sys.modules['consent.consistency.cookie_pref_match'])\n",
    "from consent.consistency.cookie_pref_match import cookie_pref_match    \n",
    "cookie_pref_match(acookie, cookie_pref, site, verbose=2)"
   ]
  },
  {
   "cell_type": "code",
   "execution_count": null,
   "metadata": {},
   "outputs": [],
   "source": [
    "# Analyze Contras"
   ]
  },
  {
   "cell_type": "code",
   "execution_count": null,
   "metadata": {},
   "outputs": [],
   "source": []
  },
  {
   "cell_type": "code",
   "execution_count": null,
   "metadata": {},
   "outputs": [],
   "source": []
  },
  {
   "cell_type": "code",
   "execution_count": null,
   "metadata": {},
   "outputs": [],
   "source": []
  },
  {
   "cell_type": "code",
   "execution_count": null,
   "metadata": {},
   "outputs": [],
   "source": []
  },
  {
   "cell_type": "code",
   "execution_count": null,
   "metadata": {},
   "outputs": [],
   "source": []
  },
  {
   "cell_type": "code",
   "execution_count": null,
   "metadata": {},
   "outputs": [],
   "source": []
  },
  {
   "cell_type": "code",
   "execution_count": null,
   "metadata": {},
   "outputs": [],
   "source": []
  },
  {
   "cell_type": "code",
   "execution_count": null,
   "metadata": {},
   "outputs": [],
   "source": []
  },
  {
   "cell_type": "code",
   "execution_count": null,
   "metadata": {},
   "outputs": [],
   "source": []
  },
  {
   "cell_type": "code",
   "execution_count": null,
   "metadata": {},
   "outputs": [],
   "source": []
  },
  {
   "cell_type": "code",
   "execution_count": null,
   "metadata": {},
   "outputs": [],
   "source": []
  },
  {
   "cell_type": "code",
   "execution_count": null,
   "metadata": {},
   "outputs": [],
   "source": []
  },
  {
   "cell_type": "code",
   "execution_count": null,
   "metadata": {},
   "outputs": [],
   "source": []
  },
  {
   "cell_type": "code",
   "execution_count": null,
   "metadata": {},
   "outputs": [],
   "source": []
  },
  {
   "cell_type": "code",
   "execution_count": null,
   "metadata": {},
   "outputs": [],
   "source": []
  },
  {
   "cell_type": "code",
   "execution_count": null,
   "metadata": {},
   "outputs": [],
   "source": []
  },
  {
   "cell_type": "code",
   "execution_count": null,
   "metadata": {},
   "outputs": [],
   "source": []
  },
  {
   "cell_type": "code",
   "execution_count": null,
   "metadata": {},
   "outputs": [],
   "source": []
  },
  {
   "cell_type": "code",
   "execution_count": null,
   "metadata": {},
   "outputs": [],
   "source": [
    "\n",
    "\n",
    "\n",
    "\n",
    "\n",
    "\n",
    "\n",
    "\n",
    "\n",
    "\n",
    "\n",
    "\n",
    "\n",
    "\n",
    "\n",
    "\n",
    "\n",
    "\n",
    "\n",
    "\n",
    "\n",
    "\n",
    "\n",
    "\n",
    "\n",
    "\n",
    "\n",
    "\n",
    "\n",
    "\n",
    "\n",
    "\n",
    "\n",
    "\n",
    "\n",
    "\n",
    "\n",
    "\n",
    "\n",
    "\n",
    "\n",
    "\n",
    "\n",
    "\n",
    "\n",
    "\n",
    "\n",
    "\n",
    "\n",
    "\n",
    "\n"
   ]
  }
 ],
 "metadata": {
  "interpreter": {
   "hash": "716ef94a01c3d994cde453e411f4463b0105d2a3a71c6aed84dea7988b1708f3"
  },
  "kernelspec": {
   "display_name": "Python 3.8.10 64-bit ('consent': conda)",
   "name": "python3"
  },
  "language_info": {
   "codemirror_mode": {
    "name": "ipython",
    "version": 3
   },
   "file_extension": ".py",
   "mimetype": "text/x-python",
   "name": "python",
   "nbconvert_exporter": "python",
   "pygments_lexer": "ipython3",
   "version": "3.8.10"
  }
 },
 "nbformat": 4,
 "nbformat_minor": 4
}
