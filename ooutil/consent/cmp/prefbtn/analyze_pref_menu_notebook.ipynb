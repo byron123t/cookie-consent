{
 "metadata": {
  "language_info": {
   "codemirror_mode": {
    "name": "ipython",
    "version": 3
   },
   "file_extension": ".py",
   "mimetype": "text/x-python",
   "name": "python",
   "nbconvert_exporter": "python",
   "pygments_lexer": "ipython3",
   "version": "3.8.8-final"
  },
  "orig_nbformat": 2,
  "kernelspec": {
   "name": "python3",
   "display_name": "Python 3.8.8 64-bit ('cookie2': conda)",
   "metadata": {
    "interpreter": {
     "hash": "963ce8c10d1a20abff95410ff73a044949d63a0f486224a96c9625ef54e0f020"
    }
   }
  }
 },
 "nbformat": 4,
 "nbformat_minor": 2,
 "cells": [
  {
   "cell_type": "code",
   "execution_count": 47,
   "metadata": {},
   "outputs": [],
   "source": [
    "\"\"\"Analyze cookie preference menu.\"\"\"\n",
    "\n",
    "import pandas as pd\n",
    "\n",
    "from consent.util.default_path import get_data_dir\n",
    "from ooutil.df_util import read_jsons_in_dir\n",
    "\n",
    "\n",
    "data_dir = get_data_dir('2021-03-18') / 'pref_menu_scan'\n",
    "assert data_dir.exists()\n",
    "\n",
    "pd.set_option('display.max_rows', 500)\n",
    "pd.set_option('display.max_colwidth', 500)"
   ]
  },
  {
   "cell_type": "code",
   "execution_count": 48,
   "metadata": {},
   "outputs": [
    {
     "output_type": "stream",
     "name": "stdout",
     "text": [
      "Read 2997 files.\n"
     ]
    },
    {
     "output_type": "execute_result",
     "data": {
      "text/plain": [
       "           domain pref_menu_elem failed pref_menu_type category cookie_check  \\\n",
       "0       home.blog           None   True            NaN      NaN          NaN   \n",
       "1       python.ca           None   True            NaN      NaN          NaN   \n",
       "2  elitedaily.com           None   True            NaN      NaN          NaN   \n",
       "3        iata.org           None   True            NaN      NaN          NaN   \n",
       "4  jagranjosh.com           None   True            NaN      NaN          NaN   \n",
       "\n",
       "  failed_reason  \n",
       "0           NaN  \n",
       "1           NaN  \n",
       "2           NaN  \n",
       "3           NaN  \n",
       "4           NaN  "
      ],
      "text/html": "<div>\n<style scoped>\n    .dataframe tbody tr th:only-of-type {\n        vertical-align: middle;\n    }\n\n    .dataframe tbody tr th {\n        vertical-align: top;\n    }\n\n    .dataframe thead th {\n        text-align: right;\n    }\n</style>\n<table border=\"1\" class=\"dataframe\">\n  <thead>\n    <tr style=\"text-align: right;\">\n      <th></th>\n      <th>domain</th>\n      <th>pref_menu_elem</th>\n      <th>failed</th>\n      <th>pref_menu_type</th>\n      <th>category</th>\n      <th>cookie_check</th>\n      <th>failed_reason</th>\n    </tr>\n  </thead>\n  <tbody>\n    <tr>\n      <th>0</th>\n      <td>home.blog</td>\n      <td>None</td>\n      <td>True</td>\n      <td>NaN</td>\n      <td>NaN</td>\n      <td>NaN</td>\n      <td>NaN</td>\n    </tr>\n    <tr>\n      <th>1</th>\n      <td>python.ca</td>\n      <td>None</td>\n      <td>True</td>\n      <td>NaN</td>\n      <td>NaN</td>\n      <td>NaN</td>\n      <td>NaN</td>\n    </tr>\n    <tr>\n      <th>2</th>\n      <td>elitedaily.com</td>\n      <td>None</td>\n      <td>True</td>\n      <td>NaN</td>\n      <td>NaN</td>\n      <td>NaN</td>\n      <td>NaN</td>\n    </tr>\n    <tr>\n      <th>3</th>\n      <td>iata.org</td>\n      <td>None</td>\n      <td>True</td>\n      <td>NaN</td>\n      <td>NaN</td>\n      <td>NaN</td>\n      <td>NaN</td>\n    </tr>\n    <tr>\n      <th>4</th>\n      <td>jagranjosh.com</td>\n      <td>None</td>\n      <td>True</td>\n      <td>NaN</td>\n      <td>NaN</td>\n      <td>NaN</td>\n      <td>NaN</td>\n    </tr>\n  </tbody>\n</table>\n</div>"
     },
     "metadata": {},
     "execution_count": 48
    }
   ],
   "source": [
    "prefs = read_jsons_in_dir(data_dir)\n",
    "prefs.head()"
   ]
  },
  {
   "cell_type": "code",
   "execution_count": 49,
   "metadata": {},
   "outputs": [],
   "source": [
    "category_data = []\n",
    "for _, row in prefs.dropna(subset=['category']).iterrows():\n",
    "    for category in row['category']:\n",
    "        category['domain'] = row['domain']\n",
    "        category_data.append(category)\n",
    "categories = pd.DataFrame(category_data)"
   ]
  },
  {
   "cell_type": "code",
   "execution_count": 50,
   "metadata": {},
   "outputs": [
    {
     "output_type": "stream",
     "name": "stdout",
     "text": [
      "Num successfully extracted:  184\n"
     ]
    }
   ],
   "source": [
    "print(\"Num successfully extracted: \", categories.domain.nunique())"
   ]
  },
  {
   "cell_type": "code",
   "execution_count": 51,
   "metadata": {},
   "outputs": [
    {
     "output_type": "execute_result",
     "data": {
      "text/plain": [
       "   index         domain pref_menu_elem failed pref_menu_type  \\\n",
       "0      9    hindawi.com       onetrust    NaN            tab   \n",
       "1     18  nflxvideo.net       onetrust    NaN            tab   \n",
       "2     26    bitnami.com       onetrust    NaN            tab   \n",
       "3     35     mailchi.mp       onetrust    NaN            tab   \n",
       "4     39   illinois.edu       onetrust    NaN      accordion   \n",
       "\n",
       "                                                                                                                                                                                                                                                                                                                                                                                                                                                                                                              category  \\\n",
       "0                                                                                                                                   [{'id': 'C0001', 'name': 'Strictly Necessary Cookies', 'cur_status': 'always_active', 'next_status': 'true', 'domain': 'hindawi.com'}, {'id': 'C0002', 'name': 'Performance Cookies', 'cur_status': 'true', 'next_status': 'false', 'domain': 'hindawi.com'}, {'id': 'C0004', 'name': 'Targeting Cookies', 'cur_status': 'true', 'next_status': 'false', 'domain': 'hindawi.com'}]   \n",
       "1                                                                                                          [{'id': 'C0001', 'name': 'Essential Cookies', 'cur_status': 'always_active', 'next_status': 'true', 'domain': 'nflxvideo.net'}, {'id': 'C0002', 'name': 'Performance and Functionality Cookies', 'cur_status': 'always_active', 'next_status': 'true', 'domain': 'nflxvideo.net'}, {'id': 'C0004', 'name': 'Advertising Cookies', 'cur_status': 'true', 'next_status': 'false', 'domain': 'nflxvideo.net'}]   \n",
       "2                                         [{'id': 'C0001', 'name': 'Strictly Necessary', 'cur_status': 'always_active', 'next_status': 'true', 'domain': 'bitnami.com'}, {'id': 'C0002', 'name': 'Performance', 'cur_status': 'true', 'next_status': 'false', 'domain': 'bitnami.com'}, {'id': 'C0004', 'name': 'Advertising', 'cur_status': 'true', 'next_status': 'false', 'domain': 'bitnami.com'}, {'id': 'C0005', 'name': 'Social Media', 'cur_status': 'true', 'next_status': 'false', 'domain': 'bitnami.com'}]   \n",
       "3  [{'id': '1', 'name': 'Essential Website Cookies', 'cur_status': 'always_active', 'next_status': 'true', 'domain': 'mailchi.mp'}, {'id': '2', 'name': 'Performance and Functionality Cookies', 'cur_status': 'false', 'next_status': 'false', 'domain': 'mailchi.mp'}, {'id': '4', 'name': 'Advertising (Targeting) Cookies', 'cur_status': 'false', 'next_status': 'false', 'domain': 'mailchi.mp'}, {'id': '3', 'name': 'Analytics and Customization Cookies', 'cur_status': 'false', 'next_status': 'false', '...   \n",
       "4  [{'id': 'C0001', 'name': 'Strictly Necessary Cookies', 'cur_status': 'always_active', 'next_status': 'true', 'domain': 'illinois.edu'}, {'id': 'C0002', 'name': 'Performance Cookies', 'cur_status': 'always_active', 'next_status': 'true', 'domain': 'illinois.edu'}, {'id': 'C0003', 'name': 'Functional Cookies', 'cur_status': 'always_active', 'next_status': 'true', 'domain': 'illinois.edu'}, {'id': 'C0004', 'name': 'Targeting Cookies', 'cur_status': 'always_active', 'next_status': 'true', 'domai...   \n",
       "\n",
       "  cookie_check failed_reason  \n",
       "0         True           NaN  \n",
       "1         True           NaN  \n",
       "2         True           NaN  \n",
       "3         True           NaN  \n",
       "4         True           NaN  "
      ],
      "text/html": "<div>\n<style scoped>\n    .dataframe tbody tr th:only-of-type {\n        vertical-align: middle;\n    }\n\n    .dataframe tbody tr th {\n        vertical-align: top;\n    }\n\n    .dataframe thead th {\n        text-align: right;\n    }\n</style>\n<table border=\"1\" class=\"dataframe\">\n  <thead>\n    <tr style=\"text-align: right;\">\n      <th></th>\n      <th>index</th>\n      <th>domain</th>\n      <th>pref_menu_elem</th>\n      <th>failed</th>\n      <th>pref_menu_type</th>\n      <th>category</th>\n      <th>cookie_check</th>\n      <th>failed_reason</th>\n    </tr>\n  </thead>\n  <tbody>\n    <tr>\n      <th>0</th>\n      <td>9</td>\n      <td>hindawi.com</td>\n      <td>onetrust</td>\n      <td>NaN</td>\n      <td>tab</td>\n      <td>[{'id': 'C0001', 'name': 'Strictly Necessary Cookies', 'cur_status': 'always_active', 'next_status': 'true', 'domain': 'hindawi.com'}, {'id': 'C0002', 'name': 'Performance Cookies', 'cur_status': 'true', 'next_status': 'false', 'domain': 'hindawi.com'}, {'id': 'C0004', 'name': 'Targeting Cookies', 'cur_status': 'true', 'next_status': 'false', 'domain': 'hindawi.com'}]</td>\n      <td>True</td>\n      <td>NaN</td>\n    </tr>\n    <tr>\n      <th>1</th>\n      <td>18</td>\n      <td>nflxvideo.net</td>\n      <td>onetrust</td>\n      <td>NaN</td>\n      <td>tab</td>\n      <td>[{'id': 'C0001', 'name': 'Essential Cookies', 'cur_status': 'always_active', 'next_status': 'true', 'domain': 'nflxvideo.net'}, {'id': 'C0002', 'name': 'Performance and Functionality Cookies', 'cur_status': 'always_active', 'next_status': 'true', 'domain': 'nflxvideo.net'}, {'id': 'C0004', 'name': 'Advertising Cookies', 'cur_status': 'true', 'next_status': 'false', 'domain': 'nflxvideo.net'}]</td>\n      <td>True</td>\n      <td>NaN</td>\n    </tr>\n    <tr>\n      <th>2</th>\n      <td>26</td>\n      <td>bitnami.com</td>\n      <td>onetrust</td>\n      <td>NaN</td>\n      <td>tab</td>\n      <td>[{'id': 'C0001', 'name': 'Strictly Necessary', 'cur_status': 'always_active', 'next_status': 'true', 'domain': 'bitnami.com'}, {'id': 'C0002', 'name': 'Performance', 'cur_status': 'true', 'next_status': 'false', 'domain': 'bitnami.com'}, {'id': 'C0004', 'name': 'Advertising', 'cur_status': 'true', 'next_status': 'false', 'domain': 'bitnami.com'}, {'id': 'C0005', 'name': 'Social Media', 'cur_status': 'true', 'next_status': 'false', 'domain': 'bitnami.com'}]</td>\n      <td>True</td>\n      <td>NaN</td>\n    </tr>\n    <tr>\n      <th>3</th>\n      <td>35</td>\n      <td>mailchi.mp</td>\n      <td>onetrust</td>\n      <td>NaN</td>\n      <td>tab</td>\n      <td>[{'id': '1', 'name': 'Essential Website Cookies', 'cur_status': 'always_active', 'next_status': 'true', 'domain': 'mailchi.mp'}, {'id': '2', 'name': 'Performance and Functionality Cookies', 'cur_status': 'false', 'next_status': 'false', 'domain': 'mailchi.mp'}, {'id': '4', 'name': 'Advertising (Targeting) Cookies', 'cur_status': 'false', 'next_status': 'false', 'domain': 'mailchi.mp'}, {'id': '3', 'name': 'Analytics and Customization Cookies', 'cur_status': 'false', 'next_status': 'false', '...</td>\n      <td>True</td>\n      <td>NaN</td>\n    </tr>\n    <tr>\n      <th>4</th>\n      <td>39</td>\n      <td>illinois.edu</td>\n      <td>onetrust</td>\n      <td>NaN</td>\n      <td>accordion</td>\n      <td>[{'id': 'C0001', 'name': 'Strictly Necessary Cookies', 'cur_status': 'always_active', 'next_status': 'true', 'domain': 'illinois.edu'}, {'id': 'C0002', 'name': 'Performance Cookies', 'cur_status': 'always_active', 'next_status': 'true', 'domain': 'illinois.edu'}, {'id': 'C0003', 'name': 'Functional Cookies', 'cur_status': 'always_active', 'next_status': 'true', 'domain': 'illinois.edu'}, {'id': 'C0004', 'name': 'Targeting Cookies', 'cur_status': 'always_active', 'next_status': 'true', 'domai...</td>\n      <td>True</td>\n      <td>NaN</td>\n    </tr>\n  </tbody>\n</table>\n</div>"
     },
     "metadata": {},
     "execution_count": 51
    }
   ],
   "source": [
    "prefs[~prefs.category.isna()].reset_index().head()"
   ]
  },
  {
   "cell_type": "code",
   "execution_count": 52,
   "metadata": {},
   "outputs": [
    {
     "output_type": "execute_result",
     "data": {
      "text/plain": [
       "      id                                   name     cur_status next_status  \\\n",
       "0  C0001             Strictly Necessary Cookies  always_active        true   \n",
       "1  C0002                    Performance Cookies           true       false   \n",
       "2  C0004                      Targeting Cookies           true       false   \n",
       "3  C0001                      Essential Cookies  always_active        true   \n",
       "4  C0002  Performance and Functionality Cookies  always_active        true   \n",
       "\n",
       "          domain  \n",
       "0    hindawi.com  \n",
       "1    hindawi.com  \n",
       "2    hindawi.com  \n",
       "3  nflxvideo.net  \n",
       "4  nflxvideo.net  "
      ],
      "text/html": "<div>\n<style scoped>\n    .dataframe tbody tr th:only-of-type {\n        vertical-align: middle;\n    }\n\n    .dataframe tbody tr th {\n        vertical-align: top;\n    }\n\n    .dataframe thead th {\n        text-align: right;\n    }\n</style>\n<table border=\"1\" class=\"dataframe\">\n  <thead>\n    <tr style=\"text-align: right;\">\n      <th></th>\n      <th>id</th>\n      <th>name</th>\n      <th>cur_status</th>\n      <th>next_status</th>\n      <th>domain</th>\n    </tr>\n  </thead>\n  <tbody>\n    <tr>\n      <th>0</th>\n      <td>C0001</td>\n      <td>Strictly Necessary Cookies</td>\n      <td>always_active</td>\n      <td>true</td>\n      <td>hindawi.com</td>\n    </tr>\n    <tr>\n      <th>1</th>\n      <td>C0002</td>\n      <td>Performance Cookies</td>\n      <td>true</td>\n      <td>false</td>\n      <td>hindawi.com</td>\n    </tr>\n    <tr>\n      <th>2</th>\n      <td>C0004</td>\n      <td>Targeting Cookies</td>\n      <td>true</td>\n      <td>false</td>\n      <td>hindawi.com</td>\n    </tr>\n    <tr>\n      <th>3</th>\n      <td>C0001</td>\n      <td>Essential Cookies</td>\n      <td>always_active</td>\n      <td>true</td>\n      <td>nflxvideo.net</td>\n    </tr>\n    <tr>\n      <th>4</th>\n      <td>C0002</td>\n      <td>Performance and Functionality Cookies</td>\n      <td>always_active</td>\n      <td>true</td>\n      <td>nflxvideo.net</td>\n    </tr>\n  </tbody>\n</table>\n</div>"
     },
     "metadata": {},
     "execution_count": 52
    }
   ],
   "source": [
    "categories.head()"
   ]
  },
  {
   "cell_type": "code",
   "execution_count": 53,
   "metadata": {},
   "outputs": [
    {
     "output_type": "stream",
     "name": "stdout",
     "text": [
      "Num domains that have all-choice-always-active: 52 28.26%\n"
     ]
    },
    {
     "output_type": "execute_result",
     "data": {
      "text/plain": [
       "['al.com', 'allure.com', 'architecturaldigest.com']"
      ]
     },
     "metadata": {},
     "execution_count": 53
    }
   ],
   "source": [
    "n_domains = categories.domain.nunique()\n",
    "def all_choices_always_active(adf):\n",
    "    return adf.cur_status.nunique() == 1 and adf.cur_status.unique()[0] == 'always_active'\n",
    "all_actives = []\n",
    "\n",
    "def get_all_choices_aa_domains():\n",
    "    grouped = categories.groupby('domain')\n",
    "    for name, group in grouped:\n",
    "        if all_choices_always_active(group):\n",
    "            yield name\n",
    "all_choices_aa_domains = list(get_all_choices_aa_domains())\n",
    "n_all_aa = len(all_choices_aa_domains)\n",
    "print(f\"Num domains that have all-choice-always-active: {n_all_aa} {n_all_aa / n_domains * 100:.2f}%\")\n",
    "all_choices_aa_domains[:3]"
   ]
  },
  {
   "cell_type": "code",
   "execution_count": 54,
   "metadata": {},
   "outputs": [
    {
     "output_type": "execute_result",
     "data": {
      "text/plain": [
       "onetrust           257\n",
       "onetrust_legacy     23\n",
       "cookiebot           11\n",
       "quantcast            8\n",
       "sourcepoint          6\n",
       "trustarc             2\n",
       "Name: pref_menu_elem, dtype: int64"
      ]
     },
     "metadata": {},
     "execution_count": 54
    }
   ],
   "source": [
    "pref_vc = prefs.pref_menu_elem.value_counts()\n",
    "pref_vc"
   ]
  },
  {
   "cell_type": "code",
   "execution_count": 55,
   "metadata": {},
   "outputs": [
    {
     "output_type": "stream",
     "name": "stdout",
     "text": [
      "Num extracted over all detected onetrust: 184/280 65.71%\n"
     ]
    }
   ],
   "source": [
    "n_detects = categories.domain.nunique()\n",
    "n_sdk = pref_vc['onetrust'] + pref_vc['onetrust_legacy']\n",
    "print(f\"Num extracted over all detected onetrust: {n_detects}/{n_sdk} {n_detects/n_sdk*100:.2f}%\", )"
   ]
  },
  {
   "cell_type": "code",
   "execution_count": 57,
   "metadata": {},
   "outputs": [
    {
     "output_type": "execute_result",
     "data": {
      "text/plain": [
       "    index               domain pref_menu_elem failed pref_menu_type category  \\\n",
       "0      48        hypebeast.com       onetrust   True            NaN      NaN   \n",
       "1      55      nydailynews.com       onetrust   True            NaN      NaN   \n",
       "2      78      crunchyroll.com       onetrust   True            NaN      NaN   \n",
       "3      90          redbull.com       onetrust   True            NaN      NaN   \n",
       "4      95               cc.com       onetrust   True            NaN      NaN   \n",
       "5     118         azlyrics.com       onetrust   True            NaN      NaN   \n",
       "6     133       codecademy.com       onetrust   True            NaN      NaN   \n",
       "7     143       prnewswire.com       onetrust   True            NaN      NaN   \n",
       "8     174         sheknows.com       onetrust   True            NaN      NaN   \n",
       "9     186        247sports.com       onetrust   True            NaN      NaN   \n",
       "10    312              bgr.com       onetrust   True            NaN      NaN   \n",
       "11    319             on24.com       onetrust   True            NaN      NaN   \n",
       "12    321     baltimoresun.com       onetrust   True            NaN      NaN   \n",
       "13    326        cbssports.com       onetrust   True            NaN      NaN   \n",
       "14    363    documentforce.com       onetrust   True            NaN      NaN   \n",
       "15    382       salesforce.com       onetrust   True            NaN      NaN   \n",
       "16    386        comicbook.com       onetrust   True            NaN      NaN   \n",
       "17    429          courant.com       onetrust   True            NaN      NaN   \n",
       "18    520          tableau.com       onetrust   True            NaN      NaN   \n",
       "19    523          spotify.com       onetrust   True            NaN      NaN   \n",
       "20    524            force.com       onetrust   True            NaN      NaN   \n",
       "21    536     westernunion.com       onetrust   True            NaN      NaN   \n",
       "22    625        patagonia.com       onetrust   True            NaN      NaN   \n",
       "23    650          variety.com       onetrust   True            NaN      NaN   \n",
       "24    654         payscale.com       onetrust   True            NaN      NaN   \n",
       "25    662              mtv.com       onetrust   True            NaN      NaN   \n",
       "26    664            myway.com       onetrust   True            NaN      NaN   \n",
       "27    721       secondlife.com       onetrust   True            NaN      NaN   \n",
       "28    750         stltoday.com       onetrust   True            NaN      NaN   \n",
       "29    760          cengage.com       onetrust   True            NaN      NaN   \n",
       "30    785              cbs.com       onetrust   True            NaN      NaN   \n",
       "31    791      mensjournal.com       onetrust   True            NaN      NaN   \n",
       "32    850        mediaroom.com       onetrust   True            NaN      NaN   \n",
       "33    860            slack.com       onetrust   True            NaN      NaN   \n",
       "34   1024  orlandosentinel.com       onetrust   True            NaN      NaN   \n",
       "35   1039           peatix.com       onetrust   True            NaN      NaN   \n",
       "36   1068         deadline.com       onetrust   True            NaN      NaN   \n",
       "37   1097            zopim.com       onetrust   True            NaN      NaN   \n",
       "38   1119          zemanta.com       onetrust   True            NaN      NaN   \n",
       "39   1141           tunein.com       onetrust   True            NaN      NaN   \n",
       "40   1161  urbandictionary.com       onetrust   True            NaN      NaN   \n",
       "41   1162          pagesix.com       onetrust   True            NaN      NaN   \n",
       "42   1167               hp.com       onetrust   True            NaN      NaN   \n",
       "43   1196          okcupid.com       onetrust   True            NaN      NaN   \n",
       "44   1210               ui.com       onetrust   True            NaN      NaN   \n",
       "45   1245          hrblock.com       onetrust   True            NaN      NaN   \n",
       "46   1254        sofascore.com       onetrust   True            NaN      NaN   \n",
       "47   1297             shrm.org       onetrust   True            NaN      NaN   \n",
       "48   1299          reuters.com       onetrust   True            NaN      NaN   \n",
       "49   1300           appier.net       onetrust   True            NaN      NaN   \n",
       "\n",
       "   cookie_check failed_reason  \n",
       "0           NaN           NaN  \n",
       "1           NaN           NaN  \n",
       "2           NaN           NaN  \n",
       "3           NaN           NaN  \n",
       "4           NaN           NaN  \n",
       "5           NaN           NaN  \n",
       "6           NaN           NaN  \n",
       "7           NaN           NaN  \n",
       "8           NaN           NaN  \n",
       "9           NaN           NaN  \n",
       "10          NaN           NaN  \n",
       "11          NaN           NaN  \n",
       "12          NaN           NaN  \n",
       "13          NaN           NaN  \n",
       "14          NaN           NaN  \n",
       "15          NaN           NaN  \n",
       "16          NaN           NaN  \n",
       "17          NaN           NaN  \n",
       "18          NaN           NaN  \n",
       "19          NaN           NaN  \n",
       "20          NaN           NaN  \n",
       "21          NaN           NaN  \n",
       "22          NaN           NaN  \n",
       "23          NaN           NaN  \n",
       "24          NaN           NaN  \n",
       "25          NaN           NaN  \n",
       "26          NaN           NaN  \n",
       "27          NaN           NaN  \n",
       "28          NaN           NaN  \n",
       "29          NaN           NaN  \n",
       "30          NaN           NaN  \n",
       "31          NaN           NaN  \n",
       "32          NaN           NaN  \n",
       "33          NaN           NaN  \n",
       "34          NaN           NaN  \n",
       "35          NaN           NaN  \n",
       "36          NaN           NaN  \n",
       "37          NaN           NaN  \n",
       "38          NaN           NaN  \n",
       "39          NaN           NaN  \n",
       "40          NaN           NaN  \n",
       "41          NaN           NaN  \n",
       "42          NaN           NaN  \n",
       "43          NaN           NaN  \n",
       "44          NaN           NaN  \n",
       "45          NaN           NaN  \n",
       "46          NaN           NaN  \n",
       "47          NaN           NaN  \n",
       "48          NaN           NaN  \n",
       "49          NaN           NaN  "
      ],
      "text/html": "<div>\n<style scoped>\n    .dataframe tbody tr th:only-of-type {\n        vertical-align: middle;\n    }\n\n    .dataframe tbody tr th {\n        vertical-align: top;\n    }\n\n    .dataframe thead th {\n        text-align: right;\n    }\n</style>\n<table border=\"1\" class=\"dataframe\">\n  <thead>\n    <tr style=\"text-align: right;\">\n      <th></th>\n      <th>index</th>\n      <th>domain</th>\n      <th>pref_menu_elem</th>\n      <th>failed</th>\n      <th>pref_menu_type</th>\n      <th>category</th>\n      <th>cookie_check</th>\n      <th>failed_reason</th>\n    </tr>\n  </thead>\n  <tbody>\n    <tr>\n      <th>0</th>\n      <td>48</td>\n      <td>hypebeast.com</td>\n      <td>onetrust</td>\n      <td>True</td>\n      <td>NaN</td>\n      <td>NaN</td>\n      <td>NaN</td>\n      <td>NaN</td>\n    </tr>\n    <tr>\n      <th>1</th>\n      <td>55</td>\n      <td>nydailynews.com</td>\n      <td>onetrust</td>\n      <td>True</td>\n      <td>NaN</td>\n      <td>NaN</td>\n      <td>NaN</td>\n      <td>NaN</td>\n    </tr>\n    <tr>\n      <th>2</th>\n      <td>78</td>\n      <td>crunchyroll.com</td>\n      <td>onetrust</td>\n      <td>True</td>\n      <td>NaN</td>\n      <td>NaN</td>\n      <td>NaN</td>\n      <td>NaN</td>\n    </tr>\n    <tr>\n      <th>3</th>\n      <td>90</td>\n      <td>redbull.com</td>\n      <td>onetrust</td>\n      <td>True</td>\n      <td>NaN</td>\n      <td>NaN</td>\n      <td>NaN</td>\n      <td>NaN</td>\n    </tr>\n    <tr>\n      <th>4</th>\n      <td>95</td>\n      <td>cc.com</td>\n      <td>onetrust</td>\n      <td>True</td>\n      <td>NaN</td>\n      <td>NaN</td>\n      <td>NaN</td>\n      <td>NaN</td>\n    </tr>\n    <tr>\n      <th>5</th>\n      <td>118</td>\n      <td>azlyrics.com</td>\n      <td>onetrust</td>\n      <td>True</td>\n      <td>NaN</td>\n      <td>NaN</td>\n      <td>NaN</td>\n      <td>NaN</td>\n    </tr>\n    <tr>\n      <th>6</th>\n      <td>133</td>\n      <td>codecademy.com</td>\n      <td>onetrust</td>\n      <td>True</td>\n      <td>NaN</td>\n      <td>NaN</td>\n      <td>NaN</td>\n      <td>NaN</td>\n    </tr>\n    <tr>\n      <th>7</th>\n      <td>143</td>\n      <td>prnewswire.com</td>\n      <td>onetrust</td>\n      <td>True</td>\n      <td>NaN</td>\n      <td>NaN</td>\n      <td>NaN</td>\n      <td>NaN</td>\n    </tr>\n    <tr>\n      <th>8</th>\n      <td>174</td>\n      <td>sheknows.com</td>\n      <td>onetrust</td>\n      <td>True</td>\n      <td>NaN</td>\n      <td>NaN</td>\n      <td>NaN</td>\n      <td>NaN</td>\n    </tr>\n    <tr>\n      <th>9</th>\n      <td>186</td>\n      <td>247sports.com</td>\n      <td>onetrust</td>\n      <td>True</td>\n      <td>NaN</td>\n      <td>NaN</td>\n      <td>NaN</td>\n      <td>NaN</td>\n    </tr>\n    <tr>\n      <th>10</th>\n      <td>312</td>\n      <td>bgr.com</td>\n      <td>onetrust</td>\n      <td>True</td>\n      <td>NaN</td>\n      <td>NaN</td>\n      <td>NaN</td>\n      <td>NaN</td>\n    </tr>\n    <tr>\n      <th>11</th>\n      <td>319</td>\n      <td>on24.com</td>\n      <td>onetrust</td>\n      <td>True</td>\n      <td>NaN</td>\n      <td>NaN</td>\n      <td>NaN</td>\n      <td>NaN</td>\n    </tr>\n    <tr>\n      <th>12</th>\n      <td>321</td>\n      <td>baltimoresun.com</td>\n      <td>onetrust</td>\n      <td>True</td>\n      <td>NaN</td>\n      <td>NaN</td>\n      <td>NaN</td>\n      <td>NaN</td>\n    </tr>\n    <tr>\n      <th>13</th>\n      <td>326</td>\n      <td>cbssports.com</td>\n      <td>onetrust</td>\n      <td>True</td>\n      <td>NaN</td>\n      <td>NaN</td>\n      <td>NaN</td>\n      <td>NaN</td>\n    </tr>\n    <tr>\n      <th>14</th>\n      <td>363</td>\n      <td>documentforce.com</td>\n      <td>onetrust</td>\n      <td>True</td>\n      <td>NaN</td>\n      <td>NaN</td>\n      <td>NaN</td>\n      <td>NaN</td>\n    </tr>\n    <tr>\n      <th>15</th>\n      <td>382</td>\n      <td>salesforce.com</td>\n      <td>onetrust</td>\n      <td>True</td>\n      <td>NaN</td>\n      <td>NaN</td>\n      <td>NaN</td>\n      <td>NaN</td>\n    </tr>\n    <tr>\n      <th>16</th>\n      <td>386</td>\n      <td>comicbook.com</td>\n      <td>onetrust</td>\n      <td>True</td>\n      <td>NaN</td>\n      <td>NaN</td>\n      <td>NaN</td>\n      <td>NaN</td>\n    </tr>\n    <tr>\n      <th>17</th>\n      <td>429</td>\n      <td>courant.com</td>\n      <td>onetrust</td>\n      <td>True</td>\n      <td>NaN</td>\n      <td>NaN</td>\n      <td>NaN</td>\n      <td>NaN</td>\n    </tr>\n    <tr>\n      <th>18</th>\n      <td>520</td>\n      <td>tableau.com</td>\n      <td>onetrust</td>\n      <td>True</td>\n      <td>NaN</td>\n      <td>NaN</td>\n      <td>NaN</td>\n      <td>NaN</td>\n    </tr>\n    <tr>\n      <th>19</th>\n      <td>523</td>\n      <td>spotify.com</td>\n      <td>onetrust</td>\n      <td>True</td>\n      <td>NaN</td>\n      <td>NaN</td>\n      <td>NaN</td>\n      <td>NaN</td>\n    </tr>\n    <tr>\n      <th>20</th>\n      <td>524</td>\n      <td>force.com</td>\n      <td>onetrust</td>\n      <td>True</td>\n      <td>NaN</td>\n      <td>NaN</td>\n      <td>NaN</td>\n      <td>NaN</td>\n    </tr>\n    <tr>\n      <th>21</th>\n      <td>536</td>\n      <td>westernunion.com</td>\n      <td>onetrust</td>\n      <td>True</td>\n      <td>NaN</td>\n      <td>NaN</td>\n      <td>NaN</td>\n      <td>NaN</td>\n    </tr>\n    <tr>\n      <th>22</th>\n      <td>625</td>\n      <td>patagonia.com</td>\n      <td>onetrust</td>\n      <td>True</td>\n      <td>NaN</td>\n      <td>NaN</td>\n      <td>NaN</td>\n      <td>NaN</td>\n    </tr>\n    <tr>\n      <th>23</th>\n      <td>650</td>\n      <td>variety.com</td>\n      <td>onetrust</td>\n      <td>True</td>\n      <td>NaN</td>\n      <td>NaN</td>\n      <td>NaN</td>\n      <td>NaN</td>\n    </tr>\n    <tr>\n      <th>24</th>\n      <td>654</td>\n      <td>payscale.com</td>\n      <td>onetrust</td>\n      <td>True</td>\n      <td>NaN</td>\n      <td>NaN</td>\n      <td>NaN</td>\n      <td>NaN</td>\n    </tr>\n    <tr>\n      <th>25</th>\n      <td>662</td>\n      <td>mtv.com</td>\n      <td>onetrust</td>\n      <td>True</td>\n      <td>NaN</td>\n      <td>NaN</td>\n      <td>NaN</td>\n      <td>NaN</td>\n    </tr>\n    <tr>\n      <th>26</th>\n      <td>664</td>\n      <td>myway.com</td>\n      <td>onetrust</td>\n      <td>True</td>\n      <td>NaN</td>\n      <td>NaN</td>\n      <td>NaN</td>\n      <td>NaN</td>\n    </tr>\n    <tr>\n      <th>27</th>\n      <td>721</td>\n      <td>secondlife.com</td>\n      <td>onetrust</td>\n      <td>True</td>\n      <td>NaN</td>\n      <td>NaN</td>\n      <td>NaN</td>\n      <td>NaN</td>\n    </tr>\n    <tr>\n      <th>28</th>\n      <td>750</td>\n      <td>stltoday.com</td>\n      <td>onetrust</td>\n      <td>True</td>\n      <td>NaN</td>\n      <td>NaN</td>\n      <td>NaN</td>\n      <td>NaN</td>\n    </tr>\n    <tr>\n      <th>29</th>\n      <td>760</td>\n      <td>cengage.com</td>\n      <td>onetrust</td>\n      <td>True</td>\n      <td>NaN</td>\n      <td>NaN</td>\n      <td>NaN</td>\n      <td>NaN</td>\n    </tr>\n    <tr>\n      <th>30</th>\n      <td>785</td>\n      <td>cbs.com</td>\n      <td>onetrust</td>\n      <td>True</td>\n      <td>NaN</td>\n      <td>NaN</td>\n      <td>NaN</td>\n      <td>NaN</td>\n    </tr>\n    <tr>\n      <th>31</th>\n      <td>791</td>\n      <td>mensjournal.com</td>\n      <td>onetrust</td>\n      <td>True</td>\n      <td>NaN</td>\n      <td>NaN</td>\n      <td>NaN</td>\n      <td>NaN</td>\n    </tr>\n    <tr>\n      <th>32</th>\n      <td>850</td>\n      <td>mediaroom.com</td>\n      <td>onetrust</td>\n      <td>True</td>\n      <td>NaN</td>\n      <td>NaN</td>\n      <td>NaN</td>\n      <td>NaN</td>\n    </tr>\n    <tr>\n      <th>33</th>\n      <td>860</td>\n      <td>slack.com</td>\n      <td>onetrust</td>\n      <td>True</td>\n      <td>NaN</td>\n      <td>NaN</td>\n      <td>NaN</td>\n      <td>NaN</td>\n    </tr>\n    <tr>\n      <th>34</th>\n      <td>1024</td>\n      <td>orlandosentinel.com</td>\n      <td>onetrust</td>\n      <td>True</td>\n      <td>NaN</td>\n      <td>NaN</td>\n      <td>NaN</td>\n      <td>NaN</td>\n    </tr>\n    <tr>\n      <th>35</th>\n      <td>1039</td>\n      <td>peatix.com</td>\n      <td>onetrust</td>\n      <td>True</td>\n      <td>NaN</td>\n      <td>NaN</td>\n      <td>NaN</td>\n      <td>NaN</td>\n    </tr>\n    <tr>\n      <th>36</th>\n      <td>1068</td>\n      <td>deadline.com</td>\n      <td>onetrust</td>\n      <td>True</td>\n      <td>NaN</td>\n      <td>NaN</td>\n      <td>NaN</td>\n      <td>NaN</td>\n    </tr>\n    <tr>\n      <th>37</th>\n      <td>1097</td>\n      <td>zopim.com</td>\n      <td>onetrust</td>\n      <td>True</td>\n      <td>NaN</td>\n      <td>NaN</td>\n      <td>NaN</td>\n      <td>NaN</td>\n    </tr>\n    <tr>\n      <th>38</th>\n      <td>1119</td>\n      <td>zemanta.com</td>\n      <td>onetrust</td>\n      <td>True</td>\n      <td>NaN</td>\n      <td>NaN</td>\n      <td>NaN</td>\n      <td>NaN</td>\n    </tr>\n    <tr>\n      <th>39</th>\n      <td>1141</td>\n      <td>tunein.com</td>\n      <td>onetrust</td>\n      <td>True</td>\n      <td>NaN</td>\n      <td>NaN</td>\n      <td>NaN</td>\n      <td>NaN</td>\n    </tr>\n    <tr>\n      <th>40</th>\n      <td>1161</td>\n      <td>urbandictionary.com</td>\n      <td>onetrust</td>\n      <td>True</td>\n      <td>NaN</td>\n      <td>NaN</td>\n      <td>NaN</td>\n      <td>NaN</td>\n    </tr>\n    <tr>\n      <th>41</th>\n      <td>1162</td>\n      <td>pagesix.com</td>\n      <td>onetrust</td>\n      <td>True</td>\n      <td>NaN</td>\n      <td>NaN</td>\n      <td>NaN</td>\n      <td>NaN</td>\n    </tr>\n    <tr>\n      <th>42</th>\n      <td>1167</td>\n      <td>hp.com</td>\n      <td>onetrust</td>\n      <td>True</td>\n      <td>NaN</td>\n      <td>NaN</td>\n      <td>NaN</td>\n      <td>NaN</td>\n    </tr>\n    <tr>\n      <th>43</th>\n      <td>1196</td>\n      <td>okcupid.com</td>\n      <td>onetrust</td>\n      <td>True</td>\n      <td>NaN</td>\n      <td>NaN</td>\n      <td>NaN</td>\n      <td>NaN</td>\n    </tr>\n    <tr>\n      <th>44</th>\n      <td>1210</td>\n      <td>ui.com</td>\n      <td>onetrust</td>\n      <td>True</td>\n      <td>NaN</td>\n      <td>NaN</td>\n      <td>NaN</td>\n      <td>NaN</td>\n    </tr>\n    <tr>\n      <th>45</th>\n      <td>1245</td>\n      <td>hrblock.com</td>\n      <td>onetrust</td>\n      <td>True</td>\n      <td>NaN</td>\n      <td>NaN</td>\n      <td>NaN</td>\n      <td>NaN</td>\n    </tr>\n    <tr>\n      <th>46</th>\n      <td>1254</td>\n      <td>sofascore.com</td>\n      <td>onetrust</td>\n      <td>True</td>\n      <td>NaN</td>\n      <td>NaN</td>\n      <td>NaN</td>\n      <td>NaN</td>\n    </tr>\n    <tr>\n      <th>47</th>\n      <td>1297</td>\n      <td>shrm.org</td>\n      <td>onetrust</td>\n      <td>True</td>\n      <td>NaN</td>\n      <td>NaN</td>\n      <td>NaN</td>\n      <td>NaN</td>\n    </tr>\n    <tr>\n      <th>48</th>\n      <td>1299</td>\n      <td>reuters.com</td>\n      <td>onetrust</td>\n      <td>True</td>\n      <td>NaN</td>\n      <td>NaN</td>\n      <td>NaN</td>\n      <td>NaN</td>\n    </tr>\n    <tr>\n      <th>49</th>\n      <td>1300</td>\n      <td>appier.net</td>\n      <td>onetrust</td>\n      <td>True</td>\n      <td>NaN</td>\n      <td>NaN</td>\n      <td>NaN</td>\n      <td>NaN</td>\n    </tr>\n  </tbody>\n</table>\n</div>"
     },
     "metadata": {},
     "execution_count": 57
    }
   ],
   "source": [
    "prefs[(prefs.category.isna()) & (prefs.pref_menu_elem == 'onetrust')].reset_index().head(50)"
   ]
  },
  {
   "cell_type": "code",
   "execution_count": null,
   "metadata": {},
   "outputs": [],
   "source": []
  }
 ]
}