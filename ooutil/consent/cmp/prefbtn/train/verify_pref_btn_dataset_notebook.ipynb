{
 "cells": [
  {
   "cell_type": "code",
   "execution_count": 1,
   "metadata": {},
   "outputs": [],
   "source": [
    "from IPython.display import display, HTML\n",
    "import pandas as pd\n",
    "\n",
    "from consent.data.cookie_setting import CookieSetting\n",
    "from consent.util.default_path import get_data_dir\n",
    "from ooutil.df_util import find_one\n",
    "\n",
    "# pref_btn_dir = get_data_dir(\"2021-03-01\") / 'pref_btn_v7'\n",
    "# pref_btn_dir = get_data_dir(\"2021-08-03\") / 'pref_btn'\n",
    "# pref_btn_dirs = [get_data_dir(\"2021-08-04\") / 'pref_btn',  get_data_dir(\"2021-11-26\") / 'pref_btn']\n",
    "pref_btn_dirs = [get_data_dir(\"2022-05-24\") / 'pref_btn', get_data_dir(\"2022-05-26\") / 'pref_btn']\n",
    "assert all(pref_btn_dir.exists() for pref_btn_dir in pref_btn_dirs)"
   ]
  },
  {
   "cell_type": "code",
   "execution_count": 2,
   "metadata": {},
   "outputs": [
    {
     "name": "stdout",
     "output_type": "stream",
     "text": [
      "Num pref-btn annotated sites: 298\n",
      "Verification passed.\n"
     ]
    }
   ],
   "source": [
    "# Verify each site\n",
    "def display_df(df):\n",
    "    display(HTML(df.to_html()))\n",
    "\n",
    "def verify_dataset_site(site, df, opt_settings):\n",
    "    if 'pref_btn' not in df.columns:\n",
    "        return\n",
    "    pref_btn_rows = df[df.pref_btn]\n",
    "    if len(pref_btn_rows) == 0: \n",
    "        print(f'{site} pref btn not found')\n",
    "    if len(pref_btn_rows) != len(opt_settings):\n",
    "        print('pref_btn_rows')\n",
    "        display_df(pref_btn_rows)\n",
    "        print('opt_setting')\n",
    "        for setting in opt_settings:\n",
    "            print(setting)\n",
    "        raise ValueError(f'Unexpected dataset on site {site}')\n",
    "\n",
    "\n",
    "cookieset = CookieSetting.get_cookie_settings(nocache=True)\n",
    "pref_data = []\n",
    "anno_sites = cookieset.site.tolist()\n",
    "print(\"Num pref-btn annotated sites:\", len(anno_sites))\n",
    "for site in anno_sites:\n",
    "        site_files = [f for pref_btn_dir in pref_btn_dirs for f in pref_btn_dir.glob(f'{site}*.csv')] \n",
    "        assert len(site_files) > 0, f'{site} files not found'\n",
    "        dfs = []\n",
    "        for afile in site_files:\n",
    "            site = afile.stem.split('_')[0]  # some sites have '_' in name to separate frame\n",
    "            dfs.append(pd.read_csv(afile, index_col=0))\n",
    "        df = pd.concat(dfs)\n",
    "        anno_site = find_one(cookieset, 'site', site)\n",
    "        assert anno_site is not None, f'{site} invalid anno_site'\n",
    "        try:\n",
    "            verify_dataset_site(site, df, anno_site.opt_setting)\n",
    "        except Exception as e:\n",
    "            print(f'Error on checking {afile} : {e}')\n",
    "print('Verification passed.')"
   ]
  },
  {
   "cell_type": "code",
   "execution_count": null,
   "metadata": {},
   "outputs": [],
   "source": []
  }
 ],
 "metadata": {
  "interpreter": {
   "hash": "716ef94a01c3d994cde453e411f4463b0105d2a3a71c6aed84dea7988b1708f3"
  },
  "kernelspec": {
   "display_name": "Python 3.8.10 ('consent')",
   "language": "python",
   "name": "python3"
  },
  "language_info": {
   "codemirror_mode": {
    "name": "ipython",
    "version": 3
   },
   "file_extension": ".py",
   "mimetype": "text/x-python",
   "name": "python",
   "nbconvert_exporter": "python",
   "pygments_lexer": "ipython3",
   "version": "3.8.10"
  },
  "orig_nbformat": 4
 },
 "nbformat": 4,
 "nbformat_minor": 2
}
