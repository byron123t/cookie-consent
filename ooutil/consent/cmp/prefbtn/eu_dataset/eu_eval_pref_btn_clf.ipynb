{
 "cells": [
  {
   "cell_type": "code",
   "execution_count": 1,
   "metadata": {},
   "outputs": [],
   "source": [
    "\"\"\"Evaluate preference button classifier on EU sites.\"\"\"\n",
    "# TODO: avoid copying from pref_btn_clf_notebook.py\n",
    "\n",
    "from pathlib import Path\n",
    "import pandas as pd\n",
    "\n",
    "from sklearn.model_selection import KFold\n",
    "import matplotlib.pyplot as plt\n",
    "import numpy as np\n",
    "import pandas as pd\n",
    "import seaborn as sns\n",
    "\n",
    "from consent.cmp.prefbtn.pref_btn_clf import PrefBtnClf, predict_dataset\n",
    "from consent.cmp.prefbtn.pref_btn_featurizer import featurize_attr_df, contain_pref_kw, contain_signature_id\n",
    "from consent.data.eu_cookie_setting import EuCookieSetting\n",
    "from consent.util.default_path import get_data_dir\n",
    "from ooutil.file import file_empty\n",
    "from consent.cmp.prefbtn.lang.americanize import americanize\n",
    "\n",
    "pd.options.display.max_colwidth = None\n",
    "pd.options.display.max_columns = None"
   ]
  },
  {
   "cell_type": "code",
   "execution_count": 2,
   "metadata": {},
   "outputs": [],
   "source": [
    "pref_btn_dir = get_data_dir('2021-11-19') / 'pref_btn'\n",
    "assert pref_btn_dir.exists()"
   ]
  },
  {
   "cell_type": "code",
   "execution_count": 3,
   "metadata": {},
   "outputs": [
    {
     "name": "stdout",
     "output_type": "stream",
     "text": [
      "WARNING: Some sites have no opt_setting\n",
      "                    site                              opt_page consent_lib  \\\n",
      "33  insightexpressai.com               https://www.kantar.com/         NaN   \n",
      "36                   NaN         https://www.metoffice.gov.uk/         NaN   \n",
      "52                   NaN  https://www.tizianafausti.com/us_en/         NaN   \n",
      "55                   NaN               https://www.twilio.com/         NaN   \n",
      "58                   NaN           https://wearesocial.com/uk/         NaN   \n",
      "\n",
      "   opt_setting no_cookie_setting_on_home_page  \n",
      "33         NaN                           True  \n",
      "36         NaN                           True  \n",
      "52         NaN                           True  \n",
      "55         NaN                           True  \n",
      "58         NaN                           True  \n",
      "WARNING: opt_setting is not a list: nan\n",
      "WARNING: opt_setting is not a list: nan\n",
      "WARNING: opt_setting is not a list: nan\n",
      "WARNING: opt_setting is not a list: nan\n",
      "WARNING: opt_setting is not a list: nan\n"
     ]
    }
   ],
   "source": [
    "anno_sites = set(EuCookieSetting.get_cookie_settings(nocache=True, pref_btn_only=True).site)"
   ]
  },
  {
   "cell_type": "code",
   "execution_count": 4,
   "metadata": {},
   "outputs": [
    {
     "name": "stdout",
     "output_type": "stream",
     "text": [
      "Number of sites: 57\n",
      "Number of samples: 10,614\n",
      "Number of pref buttons 65\n"
     ]
    },
    {
     "data": {
      "text/html": [
       "<div>\n",
       "<style scoped>\n",
       "    .dataframe tbody tr th:only-of-type {\n",
       "        vertical-align: middle;\n",
       "    }\n",
       "\n",
       "    .dataframe tbody tr th {\n",
       "        vertical-align: top;\n",
       "    }\n",
       "\n",
       "    .dataframe thead th {\n",
       "        text-align: right;\n",
       "    }\n",
       "</style>\n",
       "<table border=\"1\" class=\"dataframe\">\n",
       "  <thead>\n",
       "    <tr style=\"text-align: right;\">\n",
       "      <th></th>\n",
       "      <th>id</th>\n",
       "      <th>class</th>\n",
       "      <th>tag_name</th>\n",
       "      <th>text_content</th>\n",
       "      <th>inner_text</th>\n",
       "      <th>aria_label</th>\n",
       "      <th>title</th>\n",
       "      <th>href</th>\n",
       "      <th>onclick</th>\n",
       "      <th>pref_btn</th>\n",
       "      <th>site</th>\n",
       "    </tr>\n",
       "  </thead>\n",
       "  <tbody>\n",
       "    <tr>\n",
       "      <th>0</th>\n",
       "      <td></td>\n",
       "      <td></td>\n",
       "      <td>A</td>\n",
       "      <td>COVID-19</td>\n",
       "      <td>COVID-19</td>\n",
       "      <td></td>\n",
       "      <td></td>\n",
       "      <td>https://www.verywellhealth.com/coronavirus-news-4845451</td>\n",
       "      <td></td>\n",
       "      <td>False</td>\n",
       "      <td>verywellhealth.com</td>\n",
       "    </tr>\n",
       "    <tr>\n",
       "      <th>1</th>\n",
       "      <td></td>\n",
       "      <td></td>\n",
       "      <td>A</td>\n",
       "      <td>End of Life Concerns</td>\n",
       "      <td>End of Life Concerns</td>\n",
       "      <td></td>\n",
       "      <td></td>\n",
       "      <td>https://www.verywellhealth.com/end-of-life-overview-4581973</td>\n",
       "      <td></td>\n",
       "      <td>False</td>\n",
       "      <td>verywellhealth.com</td>\n",
       "    </tr>\n",
       "    <tr>\n",
       "      <th>2</th>\n",
       "      <td></td>\n",
       "      <td>grid-nav-link</td>\n",
       "      <td>A</td>\n",
       "      <td>All Topics</td>\n",
       "      <td>All Topics</td>\n",
       "      <td></td>\n",
       "      <td></td>\n",
       "      <td>https://www.verywellhealth.com/health-a-z-4014770</td>\n",
       "      <td></td>\n",
       "      <td>False</td>\n",
       "      <td>verywellhealth.com</td>\n",
       "    </tr>\n",
       "    <tr>\n",
       "      <th>3</th>\n",
       "      <td></td>\n",
       "      <td></td>\n",
       "      <td>A</td>\n",
       "      <td>Health Care</td>\n",
       "      <td>Health Care</td>\n",
       "      <td></td>\n",
       "      <td></td>\n",
       "      <td>https://www.verywellhealth.com/health-care-4014769</td>\n",
       "      <td></td>\n",
       "      <td>False</td>\n",
       "      <td>verywellhealth.com</td>\n",
       "    </tr>\n",
       "    <tr>\n",
       "      <th>4</th>\n",
       "      <td></td>\n",
       "      <td>link-list-link__deprecated tags-nav-link</td>\n",
       "      <td>A</td>\n",
       "      <td>Best OTC Flu Meds</td>\n",
       "      <td>Best OTC Flu Meds</td>\n",
       "      <td></td>\n",
       "      <td></td>\n",
       "      <td>https://www.verywellhealth.com/over-the-counter-cold-and-flu-medications-770618</td>\n",
       "      <td></td>\n",
       "      <td>False</td>\n",
       "      <td>verywellhealth.com</td>\n",
       "    </tr>\n",
       "  </tbody>\n",
       "</table>\n",
       "</div>"
      ],
      "text/plain": [
       "  id                                     class tag_name          text_content  \\\n",
       "0                                                     A              COVID-19   \n",
       "1                                                     A  End of Life Concerns   \n",
       "2                                grid-nav-link        A            All Topics   \n",
       "3                                                     A           Health Care   \n",
       "4     link-list-link__deprecated tags-nav-link        A     Best OTC Flu Meds   \n",
       "\n",
       "             inner_text aria_label title  \\\n",
       "0              COVID-19                    \n",
       "1  End of Life Concerns                    \n",
       "2            All Topics                    \n",
       "3           Health Care                    \n",
       "4     Best OTC Flu Meds                    \n",
       "\n",
       "                                                                              href  \\\n",
       "0                          https://www.verywellhealth.com/coronavirus-news-4845451   \n",
       "1                      https://www.verywellhealth.com/end-of-life-overview-4581973   \n",
       "2                                https://www.verywellhealth.com/health-a-z-4014770   \n",
       "3                               https://www.verywellhealth.com/health-care-4014769   \n",
       "4  https://www.verywellhealth.com/over-the-counter-cold-and-flu-medications-770618   \n",
       "\n",
       "  onclick  pref_btn                site  \n",
       "0             False  verywellhealth.com  \n",
       "1             False  verywellhealth.com  \n",
       "2             False  verywellhealth.com  \n",
       "3             False  verywellhealth.com  \n",
       "4             False  verywellhealth.com  "
      ]
     },
     "execution_count": 4,
     "metadata": {},
     "output_type": "execute_result"
    }
   ],
   "source": [
    "# Get pref-btn features.\n",
    "pref_data = []\n",
    "for afile in pref_btn_dir.glob('*.csv'):\n",
    "    if file_empty(afile):\n",
    "        print(f'{afile} is empty')\n",
    "        continue\n",
    "    pref_data.append(pd.read_csv(afile, index_col=0))\n",
    "\n",
    "pref_df = pd.concat(pref_data, axis=0, ignore_index=True)\n",
    "pref_df = pref_df.dropna(subset={'tag_name'})\n",
    "pref_df = pref_df.fillna('')\n",
    "\n",
    "# Filter duplicate google sites.\n",
    "# pref_df = pref_df[~pref_df['site'].str.contains('google')]\n",
    "\n",
    "print(\"Number of sites:\", pref_df.site.nunique())\n",
    "print(f\"Number of samples: {len(pref_df):,d}\")\n",
    "print(\"Number of pref buttons\", len(pref_df[pref_df.pref_btn]))\n",
    "pref_df.head()"
   ]
  },
  {
   "cell_type": "code",
   "execution_count": 5,
   "metadata": {},
   "outputs": [
    {
     "name": "stdout",
     "output_type": "stream",
     "text": [
      "Missing sites: 0 set()\n"
     ]
    }
   ],
   "source": [
    "miss_sites = anno_sites - set(pref_df.site)\n",
    "print(\"Missing sites:\", len(miss_sites), miss_sites)\n",
    "assert len(miss_sites) == 0, 'Missing some sites ...'"
   ]
  },
  {
   "cell_type": "code",
   "execution_count": 6,
   "metadata": {},
   "outputs": [
    {
     "name": "stdout",
     "output_type": "stream",
     "text": [
      "Number of sites in pref_df: 57\n"
     ]
    }
   ],
   "source": [
    "for col in ['id', 'class']:\n",
    "    pref_df[col] = pref_df[col].astype(str)\n",
    "\n",
    "# def analyze_sites():\n",
    "sites = pref_df.site.unique()\n",
    "\n",
    "for site in sites:\n",
    "    if len(pref_df[(pref_df.site == site) & (pref_df.pref_btn)]) == 0:\n",
    "        print(f'no pref btn for {site}')\n",
    "        break\n",
    "pref_df[ (pref_df.inner_text.str.len() > 40) & (pref_df.pref_btn) ]\n",
    "print(\"Number of sites in pref_df:\", pref_df.site.nunique())"
   ]
  },
  {
   "cell_type": "code",
   "execution_count": 15,
   "metadata": {},
   "outputs": [
    {
     "name": "stdout",
     "output_type": "stream",
     "text": [
      "Number of sites in pr_df: 57\n",
      "Feature group dimensions: [12, 3, 2]\n"
     ]
    },
    {
     "data": {
      "text/plain": [
       "[12, 15, 17]"
      ]
     },
     "execution_count": 15,
     "metadata": {},
     "output_type": "execute_result"
    }
   ],
   "source": [
    "cols = ['site', 'id', 'class', 'inner_text', 'aria_label', 'title', 'pref_btn', 'onclick', 'href'] # , 'consent_lib']\n",
    "pr_df = pref_df[cols]\n",
    "# pr_df = pr_df[pr_df.consent_lib != 'first_party']\n",
    "print(\"Number of sites in pr_df:\", pr_df.site.nunique())\n",
    "\n",
    "feat, feat_group_dims = featurize_attr_df(pr_df.copy(), americanize)\n",
    "# feat, feat_group_dims = featurize_attr_df(pr_df, americanize)  # featurize pr_df to understand the featurization\n",
    "print(\"Feature group dimensions:\", feat_group_dims)\n",
    "\n",
    "acc_group_dims = []\n",
    "group_dim = 0\n",
    "for dim in feat_group_dims:\n",
    "    group_dim += dim\n",
    "    acc_group_dims.append(group_dim)\n",
    "acc_group_dims"
   ]
  },
  {
   "cell_type": "code",
   "execution_count": 16,
   "metadata": {},
   "outputs": [],
   "source": [
    "# TODO: move these to a util module.\n",
    "def get_accuracy_top_n(adf, top_n):\n",
    "    n_correct = 0\n",
    "    sites = set(adf['site'].tolist())\n",
    "    for site in sites:\n",
    "        if pred_one_correct(adf[adf.site == site], top_n): # , top_n=top_n):\n",
    "            n_correct += 1\n",
    "    return n_correct / len(sites)\n",
    "\n",
    "def pred_one_correct(adf: pd.DataFrame, top_n):\n",
    "    adf = adf.sort_values(by=['proba'], ascending=False)[:top_n]\n",
    "    # if 'google' in adf.site.unique()[0]: print(adf)\n",
    "    correct = adf[adf['pref_btn'] == True]\n",
    "    if len(correct) == 0:\n",
    "        incorrect_dfs.append(adf)\n",
    "    return len(correct) > 0"
   ]
  },
  {
   "cell_type": "code",
   "execution_count": 17,
   "metadata": {},
   "outputs": [
    {
     "name": "stdout",
     "output_type": "stream",
     "text": [
      "Accuracy:\n",
      "Top-1: 77.19%\n",
      "Top-3: 85.96%\n",
      "Top-5: 85.96%\n",
      "Top-10: 89.47%\n"
     ]
    }
   ],
   "source": [
    "pd.set_option('display.expand_frame_repr', False)\n",
    "pd.options.display.max_rows = None\n",
    "\n",
    "incorrect_dfs = []\n",
    "apr_df = pr_df.copy() # avoid warning\n",
    "# apr_df['inner_text'] = apr_df['inner_text'].map(lambda val: 'Customize' if val == 'Customise' else val)\n",
    "predict_dataset(PrefBtnClf.get_clf(), apr_df, feat)\n",
    "# apr_df['proba'] = apr_df.apply(lambda row: 1.0 if row['inner_text'].startswith('Customize') else row['proba'], axis=1)\n",
    "accuracies = []\n",
    "for top_n in [1,3,5,10]:\n",
    "    accuracy = get_accuracy_top_n(apr_df, top_n=top_n)\n",
    "    accuracies.append((top_n, accuracy))\n",
    "print(\"Accuracy:\")\n",
    "for i, accu in accuracies:\n",
    "    print(f\"Top-{i}: {accu*100:.2f}%\")\n",
    "# incorrect_df = pd.concat(incorrect_dfs)\n",
    "# incorrect_df"
   ]
  }
 ],
 "metadata": {
  "interpreter": {
   "hash": "716ef94a01c3d994cde453e411f4463b0105d2a3a71c6aed84dea7988b1708f3"
  },
  "kernelspec": {
   "display_name": "Python 3.8.10 64-bit ('consent': conda)",
   "language": "python",
   "name": "python3"
  },
  "language_info": {
   "codemirror_mode": {
    "name": "ipython",
    "version": 3
   },
   "file_extension": ".py",
   "mimetype": "text/x-python",
   "name": "python",
   "nbconvert_exporter": "python",
   "pygments_lexer": "ipython3",
   "version": "3.8.10"
  },
  "orig_nbformat": 4
 },
 "nbformat": 4,
 "nbformat_minor": 2
}
