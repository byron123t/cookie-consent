{
 "metadata": {
  "language_info": {
   "codemirror_mode": {
    "name": "ipython",
    "version": 3
   },
   "file_extension": ".py",
   "mimetype": "text/x-python",
   "name": "python",
   "nbconvert_exporter": "python",
   "pygments_lexer": "ipython3",
   "version": "3.8.8-final"
  },
  "orig_nbformat": 2,
  "kernelspec": {
   "name": "python3",
   "display_name": "Python 3.8.8 64-bit ('cookie2': conda)",
   "metadata": {
    "interpreter": {
     "hash": "963ce8c10d1a20abff95410ff73a044949d63a0f486224a96c9625ef54e0f020"
    }
   }
  }
 },
 "nbformat": 4,
 "nbformat_minor": 2,
 "cells": [
  {
   "cell_type": "code",
   "execution_count": 7,
   "metadata": {},
   "outputs": [],
   "source": [
    "from consent.util.default_path import get_data_dir\n",
    "from ooutil.df_util import read_jsons_in_dir\n",
    "\n",
    "data_dir = get_data_dir('2021-03-20/pref_menu_scan')\n",
    "# data_dir = get_data_dir('2021-03-18/pref_menu_scan')\n",
    "# data_dir = get_data_dir('2021-03-18/pref_menu_corpus')"
   ]
  },
  {
   "cell_type": "code",
   "execution_count": 8,
   "metadata": {},
   "outputs": [
    {
     "output_type": "stream",
     "name": "stdout",
     "text": [
      "Read 1078 files.\n",
      "number of websites: 1078\n"
     ]
    }
   ],
   "source": [
    "prefs = read_jsons_in_dir(data_dir)\n",
    "prefs.head()\n",
    "prefs = prefs.dropna(subset=['domain'])\n",
    "print(\"number of websites:\", len(prefs))"
   ]
  },
  {
   "cell_type": "code",
   "execution_count": 9,
   "metadata": {},
   "outputs": [
    {
     "output_type": "execute_result",
     "data": {
      "text/plain": [
       "                domain pref_menu_elem  \\\n",
       "0          bitnami.com       onetrust   \n",
       "1           mailchi.mp       onetrust   \n",
       "2         illinois.edu       onetrust   \n",
       "3      crunchyroll.com       onetrust   \n",
       "4         digicert.com       onetrust   \n",
       "..                 ...            ...   \n",
       "62         opendns.com       onetrust   \n",
       "63  barnesandnoble.com       onetrust   \n",
       "64              qz.com       onetrust   \n",
       "65     frontiersin.org       onetrust   \n",
       "66            turn.com       onetrust   \n",
       "\n",
       "                                                 html failed pref_menu_type  \\\n",
       "0   <!DOCTYPE html><html lang=\"en-US\" class=\"wf-in...    NaN            tab   \n",
       "1   <!DOCTYPE html><html lang=\"en\" class=\"js-focus...    NaN            tab   \n",
       "2   <!DOCTYPE html><html class=\"js flexbox flexbox...    NaN      accordion   \n",
       "3   <!DOCTYPE html><html class=\"no-js\" lang=\"en-us...    NaN            tab   \n",
       "4   <!DOCTYPE html><html lang=\"en-US\"><head>\\n    ...    NaN      accordion   \n",
       "..                                                ...    ...            ...   \n",
       "62  <!DOCTYPE html><html lang=\"en-US\" prefix=\"og: ...    NaN            tab   \n",
       "63  <!DOCTYPE html><html class=\"js flexbox flexbox...    NaN            tab   \n",
       "64  <!DOCTYPE html><html lang=\"en\" data-rh=\"lang\">...    NaN      accordion   \n",
       "65  <!DOCTYPE html><html><head>\\n    <!-- Google T...    NaN      accordion   \n",
       "66  <!DOCTYPE html><html class=\"js\" lang=\"en-US\"><...    NaN      accordion   \n",
       "\n",
       "                                             category cookie_check  \\\n",
       "0   [{'id': 'C0001', 'name': 'Strictly Necessary',...         True   \n",
       "1   [{'id': '1', 'name': 'Essential Website Cookie...         True   \n",
       "2   [{'id': 'C0001', 'name': 'Strictly Necessary C...         True   \n",
       "3   [{'id': 'BG443', 'name': 'Share my Data with 3...         True   \n",
       "4   [{'id': 'C0001', 'name': 'Strictly Necessary C...         True   \n",
       "..                                                ...          ...   \n",
       "62  [{'id': '1', 'name': 'Strictly Necessary Cooki...         True   \n",
       "63  [{'id': 'C0001', 'name': 'Strictly Necessary C...         True   \n",
       "64  [{'id': 'C0001', 'name': 'Strictly Necessary C...         True   \n",
       "65  [{'id': 'C0001', 'name': 'Strictly Necessary C...         True   \n",
       "66  [{'id': 'C0001', 'name': 'Strictly Necessary C...         True   \n",
       "\n",
       "   failed_reason  \n",
       "0            NaN  \n",
       "1            NaN  \n",
       "2            NaN  \n",
       "3            NaN  \n",
       "4            NaN  \n",
       "..           ...  \n",
       "62           NaN  \n",
       "63           NaN  \n",
       "64           NaN  \n",
       "65           NaN  \n",
       "66           NaN  \n",
       "\n",
       "[67 rows x 8 columns]"
      ],
      "text/html": "<div>\n<style scoped>\n    .dataframe tbody tr th:only-of-type {\n        vertical-align: middle;\n    }\n\n    .dataframe tbody tr th {\n        vertical-align: top;\n    }\n\n    .dataframe thead th {\n        text-align: right;\n    }\n</style>\n<table border=\"1\" class=\"dataframe\">\n  <thead>\n    <tr style=\"text-align: right;\">\n      <th></th>\n      <th>domain</th>\n      <th>pref_menu_elem</th>\n      <th>html</th>\n      <th>failed</th>\n      <th>pref_menu_type</th>\n      <th>category</th>\n      <th>cookie_check</th>\n      <th>failed_reason</th>\n    </tr>\n  </thead>\n  <tbody>\n    <tr>\n      <th>0</th>\n      <td>bitnami.com</td>\n      <td>onetrust</td>\n      <td>&lt;!DOCTYPE html&gt;&lt;html lang=\"en-US\" class=\"wf-in...</td>\n      <td>NaN</td>\n      <td>tab</td>\n      <td>[{'id': 'C0001', 'name': 'Strictly Necessary',...</td>\n      <td>True</td>\n      <td>NaN</td>\n    </tr>\n    <tr>\n      <th>1</th>\n      <td>mailchi.mp</td>\n      <td>onetrust</td>\n      <td>&lt;!DOCTYPE html&gt;&lt;html lang=\"en\" class=\"js-focus...</td>\n      <td>NaN</td>\n      <td>tab</td>\n      <td>[{'id': '1', 'name': 'Essential Website Cookie...</td>\n      <td>True</td>\n      <td>NaN</td>\n    </tr>\n    <tr>\n      <th>2</th>\n      <td>illinois.edu</td>\n      <td>onetrust</td>\n      <td>&lt;!DOCTYPE html&gt;&lt;html class=\"js flexbox flexbox...</td>\n      <td>NaN</td>\n      <td>accordion</td>\n      <td>[{'id': 'C0001', 'name': 'Strictly Necessary C...</td>\n      <td>True</td>\n      <td>NaN</td>\n    </tr>\n    <tr>\n      <th>3</th>\n      <td>crunchyroll.com</td>\n      <td>onetrust</td>\n      <td>&lt;!DOCTYPE html&gt;&lt;html class=\"no-js\" lang=\"en-us...</td>\n      <td>NaN</td>\n      <td>tab</td>\n      <td>[{'id': 'BG443', 'name': 'Share my Data with 3...</td>\n      <td>True</td>\n      <td>NaN</td>\n    </tr>\n    <tr>\n      <th>4</th>\n      <td>digicert.com</td>\n      <td>onetrust</td>\n      <td>&lt;!DOCTYPE html&gt;&lt;html lang=\"en-US\"&gt;&lt;head&gt;\\n    ...</td>\n      <td>NaN</td>\n      <td>accordion</td>\n      <td>[{'id': 'C0001', 'name': 'Strictly Necessary C...</td>\n      <td>True</td>\n      <td>NaN</td>\n    </tr>\n    <tr>\n      <th>...</th>\n      <td>...</td>\n      <td>...</td>\n      <td>...</td>\n      <td>...</td>\n      <td>...</td>\n      <td>...</td>\n      <td>...</td>\n      <td>...</td>\n    </tr>\n    <tr>\n      <th>62</th>\n      <td>opendns.com</td>\n      <td>onetrust</td>\n      <td>&lt;!DOCTYPE html&gt;&lt;html lang=\"en-US\" prefix=\"og: ...</td>\n      <td>NaN</td>\n      <td>tab</td>\n      <td>[{'id': '1', 'name': 'Strictly Necessary Cooki...</td>\n      <td>True</td>\n      <td>NaN</td>\n    </tr>\n    <tr>\n      <th>63</th>\n      <td>barnesandnoble.com</td>\n      <td>onetrust</td>\n      <td>&lt;!DOCTYPE html&gt;&lt;html class=\"js flexbox flexbox...</td>\n      <td>NaN</td>\n      <td>tab</td>\n      <td>[{'id': 'C0001', 'name': 'Strictly Necessary C...</td>\n      <td>True</td>\n      <td>NaN</td>\n    </tr>\n    <tr>\n      <th>64</th>\n      <td>qz.com</td>\n      <td>onetrust</td>\n      <td>&lt;!DOCTYPE html&gt;&lt;html lang=\"en\" data-rh=\"lang\"&gt;...</td>\n      <td>NaN</td>\n      <td>accordion</td>\n      <td>[{'id': 'C0001', 'name': 'Strictly Necessary C...</td>\n      <td>True</td>\n      <td>NaN</td>\n    </tr>\n    <tr>\n      <th>65</th>\n      <td>frontiersin.org</td>\n      <td>onetrust</td>\n      <td>&lt;!DOCTYPE html&gt;&lt;html&gt;&lt;head&gt;\\n    &lt;!-- Google T...</td>\n      <td>NaN</td>\n      <td>accordion</td>\n      <td>[{'id': 'C0001', 'name': 'Strictly Necessary C...</td>\n      <td>True</td>\n      <td>NaN</td>\n    </tr>\n    <tr>\n      <th>66</th>\n      <td>turn.com</td>\n      <td>onetrust</td>\n      <td>&lt;!DOCTYPE html&gt;&lt;html class=\"js\" lang=\"en-US\"&gt;&lt;...</td>\n      <td>NaN</td>\n      <td>accordion</td>\n      <td>[{'id': 'C0001', 'name': 'Strictly Necessary C...</td>\n      <td>True</td>\n      <td>NaN</td>\n    </tr>\n  </tbody>\n</table>\n<p>67 rows × 8 columns</p>\n</div>"
     },
     "metadata": {},
     "execution_count": 9
    }
   ],
   "source": [
    "# prefs = prefs.dropna(subset=['failed'])\n",
    "# prefs.failed = prefs.failed.astype(bool)\n",
    "prefs[prefs.failed.isna()].reset_index(drop=True)"
   ]
  },
  {
   "cell_type": "code",
   "execution_count": 10,
   "metadata": {},
   "outputs": [
    {
     "output_type": "execute_result",
     "data": {
      "text/plain": [
       "onetrust           113\n",
       "onetrust_legacy      8\n",
       "cookiebot            3\n",
       "sourcepoint          3\n",
       "quantcast            2\n",
       "trustarc             1\n",
       "osano                1\n",
       "Name: pref_menu_elem, dtype: int64"
      ]
     },
     "metadata": {},
     "execution_count": 10
    }
   ],
   "source": [
    "prefs.pref_menu_elem.value_counts()"
   ]
  },
  {
   "cell_type": "code",
   "execution_count": 6,
   "metadata": {},
   "outputs": [],
   "source": [
    "# prefs[prefs.domain == 'typekit.com'].iloc[0].category"
   ]
  },
  {
   "cell_type": "code",
   "execution_count": 13,
   "metadata": {},
   "outputs": [
    {
     "output_type": "execute_result",
     "data": {
      "text/plain": [
       "9       [{'id': 'C0001', 'name': 'Strictly Necessary',...\n",
       "16      [{'id': '1', 'name': 'Essential Website Cookie...\n",
       "19      [{'id': 'C0001', 'name': 'Strictly Necessary C...\n",
       "46      [{'id': 'C0001', 'name': 'Strictly Necessary C...\n",
       "65      [{'id': 'C0001', 'name': 'Strictly Necessary C...\n",
       "                              ...                        \n",
       "1185    [{'id': 'C0001', 'name': 'Strictly Necessary C...\n",
       "1228    [{'id': 'C0001', 'name': 'Strictly Necessary C...\n",
       "1242    [{'id': 'C0001', 'name': 'Strictly Necessary C...\n",
       "1253    [{'id': 'C0001', 'name': 'Strictly Necessary C...\n",
       "1284    [{'id': 'C0001', 'name': 'Strictly Necessary C...\n",
       "Name: category, Length: 79, dtype: object"
      ]
     },
     "metadata": {},
     "execution_count": 13
    }
   ],
   "source": [
    "cats = prefs.dropna(subset=['category'])['category']\n",
    "cats"
   ]
  },
  {
   "cell_type": "code",
   "execution_count": 15,
   "metadata": {},
   "outputs": [
    {
     "output_type": "execute_result",
     "data": {
      "text/plain": [
       "                      domain pref_menu_elem failed pref_menu_type  \\\n",
       "9                bitnami.com       onetrust    NaN            tab   \n",
       "16                mailchi.mp       onetrust    NaN            tab   \n",
       "93                 cisco.com       onetrust    NaN            tab   \n",
       "211              unity3d.com       onetrust    NaN            tab   \n",
       "249                webex.com       onetrust    NaN            tab   \n",
       "260               vmware.com       onetrust    NaN            tab   \n",
       "275             statista.com       onetrust    NaN            tab   \n",
       "280                 goal.com       onetrust    NaN            tab   \n",
       "297              netflix.com       onetrust    NaN            tab   \n",
       "333                media.net       onetrust    NaN            tab   \n",
       "383                  iop.org       onetrust    NaN            tab   \n",
       "392             symantec.com       onetrust    NaN            tab   \n",
       "403              freepik.com       onetrust    NaN            tab   \n",
       "472            mailchimp.com       onetrust    NaN            tab   \n",
       "510                  nba.com       onetrust    NaN            tab   \n",
       "584                 eset.com       onetrust    NaN            tab   \n",
       "594   scientificamerican.com       onetrust    NaN            tab   \n",
       "604        biomedcentral.com       onetrust    NaN            tab   \n",
       "680             flaticon.com       onetrust    NaN            tab   \n",
       "938             typeform.com       onetrust    NaN            tab   \n",
       "943                udemy.com       onetrust    NaN            tab   \n",
       "975               nature.com       onetrust    NaN            tab   \n",
       "1004            broadcom.com       onetrust    NaN            tab   \n",
       "1065           accenture.com       onetrust    NaN            tab   \n",
       "1117                 bmj.com       onetrust   True            tab   \n",
       "1142                 mlb.com       onetrust    NaN            tab   \n",
       "1183             opendns.com       onetrust    NaN            tab   \n",
       "1228      barnesandnoble.com       onetrust    NaN            tab   \n",
       "\n",
       "                                               category cookie_check  \\\n",
       "9     [{'id': 'C0001', 'name': 'Strictly Necessary',...         True   \n",
       "16    [{'id': '1', 'name': 'Essential Website Cookie...         True   \n",
       "93    [{'id': '1', 'name': 'Strictly Necessary Cooki...         True   \n",
       "211   [{'id': 'C0003', 'name': 'Functional Cookies',...         True   \n",
       "249   [{'id': '1', 'name': 'Strictly Necessary Cooki...         True   \n",
       "260   [{'id': 'C0001', 'name': 'Strictly Necessary',...         True   \n",
       "275   [{'id': 'C0001', 'name': 'Necessary Cookies', ...         True   \n",
       "280   [{'id': 'C0001', 'name': 'Strictly Necessary C...         True   \n",
       "297   [{'id': 'C0001', 'name': 'Essential Cookies', ...         True   \n",
       "333   [{'id': 'C0001', 'name': 'Strictly Necessary C...         True   \n",
       "383   [{'id': 'C0001', 'name': 'Strictly necessary c...         True   \n",
       "392   [{'id': '1', 'name': 'Strictly Necessary Cooki...         True   \n",
       "403   [{'id': 'C0001', 'name': 'Strictly Necessary C...         True   \n",
       "472   [{'id': '1', 'name': 'Essential Website Cookie...         True   \n",
       "510   [{'id': 'BG30', 'name': 'Sale of Personal Data...         True   \n",
       "584   [{'id': 'C0001', 'name': 'Strictly Necessary C...         True   \n",
       "594   [{'id': 'C0001', 'name': 'Strictly Necessary C...         True   \n",
       "604   [{'id': 'C0001', 'name': 'Strictly Necessary C...         True   \n",
       "680   [{'id': 'C0001', 'name': 'Strictly Necessary C...         True   \n",
       "938   [{'id': '1', 'name': 'Strictly Necessary Cooki...         True   \n",
       "943   [{'id': 'C0001', 'name': 'Strictly Necessary C...         True   \n",
       "975   [{'id': 'C0001', 'name': 'Strictly Necessary C...         True   \n",
       "1004  [{'id': '1', 'name': 'Strictly Necessary Cooki...         True   \n",
       "1065  [{'id': '1', 'name': 'Strictly Necessary Cooki...         True   \n",
       "1117  [{'id': '1', 'name': 'Strictly Necessary Cooki...          NaN   \n",
       "1142  [{'id': 'C0001', 'name': 'Strictly Necessary C...         True   \n",
       "1183  [{'id': '1', 'name': 'Strictly Necessary Cooki...         True   \n",
       "1228  [{'id': 'C0001', 'name': 'Strictly Necessary C...         True   \n",
       "\n",
       "     failed_reason  \n",
       "9              NaN  \n",
       "16             NaN  \n",
       "93             NaN  \n",
       "211            NaN  \n",
       "249            NaN  \n",
       "260            NaN  \n",
       "275            NaN  \n",
       "280            NaN  \n",
       "297            NaN  \n",
       "333            NaN  \n",
       "383            NaN  \n",
       "392            NaN  \n",
       "403            NaN  \n",
       "472            NaN  \n",
       "510            NaN  \n",
       "584            NaN  \n",
       "594            NaN  \n",
       "604            NaN  \n",
       "680            NaN  \n",
       "938            NaN  \n",
       "943            NaN  \n",
       "975            NaN  \n",
       "1004           NaN  \n",
       "1065           NaN  \n",
       "1117     'IABV2_1'  \n",
       "1142           NaN  \n",
       "1183           NaN  \n",
       "1228           NaN  "
      ],
      "text/html": "<div>\n<style scoped>\n    .dataframe tbody tr th:only-of-type {\n        vertical-align: middle;\n    }\n\n    .dataframe tbody tr th {\n        vertical-align: top;\n    }\n\n    .dataframe thead th {\n        text-align: right;\n    }\n</style>\n<table border=\"1\" class=\"dataframe\">\n  <thead>\n    <tr style=\"text-align: right;\">\n      <th></th>\n      <th>domain</th>\n      <th>pref_menu_elem</th>\n      <th>failed</th>\n      <th>pref_menu_type</th>\n      <th>category</th>\n      <th>cookie_check</th>\n      <th>failed_reason</th>\n    </tr>\n  </thead>\n  <tbody>\n    <tr>\n      <th>9</th>\n      <td>bitnami.com</td>\n      <td>onetrust</td>\n      <td>NaN</td>\n      <td>tab</td>\n      <td>[{'id': 'C0001', 'name': 'Strictly Necessary',...</td>\n      <td>True</td>\n      <td>NaN</td>\n    </tr>\n    <tr>\n      <th>16</th>\n      <td>mailchi.mp</td>\n      <td>onetrust</td>\n      <td>NaN</td>\n      <td>tab</td>\n      <td>[{'id': '1', 'name': 'Essential Website Cookie...</td>\n      <td>True</td>\n      <td>NaN</td>\n    </tr>\n    <tr>\n      <th>93</th>\n      <td>cisco.com</td>\n      <td>onetrust</td>\n      <td>NaN</td>\n      <td>tab</td>\n      <td>[{'id': '1', 'name': 'Strictly Necessary Cooki...</td>\n      <td>True</td>\n      <td>NaN</td>\n    </tr>\n    <tr>\n      <th>211</th>\n      <td>unity3d.com</td>\n      <td>onetrust</td>\n      <td>NaN</td>\n      <td>tab</td>\n      <td>[{'id': 'C0003', 'name': 'Functional Cookies',...</td>\n      <td>True</td>\n      <td>NaN</td>\n    </tr>\n    <tr>\n      <th>249</th>\n      <td>webex.com</td>\n      <td>onetrust</td>\n      <td>NaN</td>\n      <td>tab</td>\n      <td>[{'id': '1', 'name': 'Strictly Necessary Cooki...</td>\n      <td>True</td>\n      <td>NaN</td>\n    </tr>\n    <tr>\n      <th>260</th>\n      <td>vmware.com</td>\n      <td>onetrust</td>\n      <td>NaN</td>\n      <td>tab</td>\n      <td>[{'id': 'C0001', 'name': 'Strictly Necessary',...</td>\n      <td>True</td>\n      <td>NaN</td>\n    </tr>\n    <tr>\n      <th>275</th>\n      <td>statista.com</td>\n      <td>onetrust</td>\n      <td>NaN</td>\n      <td>tab</td>\n      <td>[{'id': 'C0001', 'name': 'Necessary Cookies', ...</td>\n      <td>True</td>\n      <td>NaN</td>\n    </tr>\n    <tr>\n      <th>280</th>\n      <td>goal.com</td>\n      <td>onetrust</td>\n      <td>NaN</td>\n      <td>tab</td>\n      <td>[{'id': 'C0001', 'name': 'Strictly Necessary C...</td>\n      <td>True</td>\n      <td>NaN</td>\n    </tr>\n    <tr>\n      <th>297</th>\n      <td>netflix.com</td>\n      <td>onetrust</td>\n      <td>NaN</td>\n      <td>tab</td>\n      <td>[{'id': 'C0001', 'name': 'Essential Cookies', ...</td>\n      <td>True</td>\n      <td>NaN</td>\n    </tr>\n    <tr>\n      <th>333</th>\n      <td>media.net</td>\n      <td>onetrust</td>\n      <td>NaN</td>\n      <td>tab</td>\n      <td>[{'id': 'C0001', 'name': 'Strictly Necessary C...</td>\n      <td>True</td>\n      <td>NaN</td>\n    </tr>\n    <tr>\n      <th>383</th>\n      <td>iop.org</td>\n      <td>onetrust</td>\n      <td>NaN</td>\n      <td>tab</td>\n      <td>[{'id': 'C0001', 'name': 'Strictly necessary c...</td>\n      <td>True</td>\n      <td>NaN</td>\n    </tr>\n    <tr>\n      <th>392</th>\n      <td>symantec.com</td>\n      <td>onetrust</td>\n      <td>NaN</td>\n      <td>tab</td>\n      <td>[{'id': '1', 'name': 'Strictly Necessary Cooki...</td>\n      <td>True</td>\n      <td>NaN</td>\n    </tr>\n    <tr>\n      <th>403</th>\n      <td>freepik.com</td>\n      <td>onetrust</td>\n      <td>NaN</td>\n      <td>tab</td>\n      <td>[{'id': 'C0001', 'name': 'Strictly Necessary C...</td>\n      <td>True</td>\n      <td>NaN</td>\n    </tr>\n    <tr>\n      <th>472</th>\n      <td>mailchimp.com</td>\n      <td>onetrust</td>\n      <td>NaN</td>\n      <td>tab</td>\n      <td>[{'id': '1', 'name': 'Essential Website Cookie...</td>\n      <td>True</td>\n      <td>NaN</td>\n    </tr>\n    <tr>\n      <th>510</th>\n      <td>nba.com</td>\n      <td>onetrust</td>\n      <td>NaN</td>\n      <td>tab</td>\n      <td>[{'id': 'BG30', 'name': 'Sale of Personal Data...</td>\n      <td>True</td>\n      <td>NaN</td>\n    </tr>\n    <tr>\n      <th>584</th>\n      <td>eset.com</td>\n      <td>onetrust</td>\n      <td>NaN</td>\n      <td>tab</td>\n      <td>[{'id': 'C0001', 'name': 'Strictly Necessary C...</td>\n      <td>True</td>\n      <td>NaN</td>\n    </tr>\n    <tr>\n      <th>594</th>\n      <td>scientificamerican.com</td>\n      <td>onetrust</td>\n      <td>NaN</td>\n      <td>tab</td>\n      <td>[{'id': 'C0001', 'name': 'Strictly Necessary C...</td>\n      <td>True</td>\n      <td>NaN</td>\n    </tr>\n    <tr>\n      <th>604</th>\n      <td>biomedcentral.com</td>\n      <td>onetrust</td>\n      <td>NaN</td>\n      <td>tab</td>\n      <td>[{'id': 'C0001', 'name': 'Strictly Necessary C...</td>\n      <td>True</td>\n      <td>NaN</td>\n    </tr>\n    <tr>\n      <th>680</th>\n      <td>flaticon.com</td>\n      <td>onetrust</td>\n      <td>NaN</td>\n      <td>tab</td>\n      <td>[{'id': 'C0001', 'name': 'Strictly Necessary C...</td>\n      <td>True</td>\n      <td>NaN</td>\n    </tr>\n    <tr>\n      <th>938</th>\n      <td>typeform.com</td>\n      <td>onetrust</td>\n      <td>NaN</td>\n      <td>tab</td>\n      <td>[{'id': '1', 'name': 'Strictly Necessary Cooki...</td>\n      <td>True</td>\n      <td>NaN</td>\n    </tr>\n    <tr>\n      <th>943</th>\n      <td>udemy.com</td>\n      <td>onetrust</td>\n      <td>NaN</td>\n      <td>tab</td>\n      <td>[{'id': 'C0001', 'name': 'Strictly Necessary C...</td>\n      <td>True</td>\n      <td>NaN</td>\n    </tr>\n    <tr>\n      <th>975</th>\n      <td>nature.com</td>\n      <td>onetrust</td>\n      <td>NaN</td>\n      <td>tab</td>\n      <td>[{'id': 'C0001', 'name': 'Strictly Necessary C...</td>\n      <td>True</td>\n      <td>NaN</td>\n    </tr>\n    <tr>\n      <th>1004</th>\n      <td>broadcom.com</td>\n      <td>onetrust</td>\n      <td>NaN</td>\n      <td>tab</td>\n      <td>[{'id': '1', 'name': 'Strictly Necessary Cooki...</td>\n      <td>True</td>\n      <td>NaN</td>\n    </tr>\n    <tr>\n      <th>1065</th>\n      <td>accenture.com</td>\n      <td>onetrust</td>\n      <td>NaN</td>\n      <td>tab</td>\n      <td>[{'id': '1', 'name': 'Strictly Necessary Cooki...</td>\n      <td>True</td>\n      <td>NaN</td>\n    </tr>\n    <tr>\n      <th>1117</th>\n      <td>bmj.com</td>\n      <td>onetrust</td>\n      <td>True</td>\n      <td>tab</td>\n      <td>[{'id': '1', 'name': 'Strictly Necessary Cooki...</td>\n      <td>NaN</td>\n      <td>'IABV2_1'</td>\n    </tr>\n    <tr>\n      <th>1142</th>\n      <td>mlb.com</td>\n      <td>onetrust</td>\n      <td>NaN</td>\n      <td>tab</td>\n      <td>[{'id': 'C0001', 'name': 'Strictly Necessary C...</td>\n      <td>True</td>\n      <td>NaN</td>\n    </tr>\n    <tr>\n      <th>1183</th>\n      <td>opendns.com</td>\n      <td>onetrust</td>\n      <td>NaN</td>\n      <td>tab</td>\n      <td>[{'id': '1', 'name': 'Strictly Necessary Cooki...</td>\n      <td>True</td>\n      <td>NaN</td>\n    </tr>\n    <tr>\n      <th>1228</th>\n      <td>barnesandnoble.com</td>\n      <td>onetrust</td>\n      <td>NaN</td>\n      <td>tab</td>\n      <td>[{'id': 'C0001', 'name': 'Strictly Necessary C...</td>\n      <td>True</td>\n      <td>NaN</td>\n    </tr>\n  </tbody>\n</table>\n</div>"
     },
     "metadata": {},
     "execution_count": 15
    }
   ],
   "source": [
    "prefs[prefs.pref_menu_type == 'tab']"
   ]
  }
 ]
}